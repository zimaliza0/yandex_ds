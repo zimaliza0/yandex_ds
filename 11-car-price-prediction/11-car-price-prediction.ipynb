{
 "cells": [
  {
   "cell_type": "markdown",
   "metadata": {},
   "source": [
    "# Определение стоимости автомобилей"
   ]
  },
  {
   "cell_type": "markdown",
   "metadata": {},
   "source": [
    "Сервис по продаже автомобилей с пробегом «Не бит, не крашен» разрабатывает приложение для привлечения новых клиентов. В нём можно быстро узнать рыночную стоимость своего автомобиля. В вашем распоряжении исторические данные: технические характеристики, комплектации и цены автомобилей. Вам нужно построить модель для определения стоимости. \n",
    "\n",
    "Заказчику важны:\n",
    "\n",
    "- качество предсказания;\n",
    "- скорость предсказания;\n",
    "- время обучения."
   ]
  },
  {
   "cell_type": "markdown",
   "metadata": {},
   "source": [
    "**Признаки**\n",
    "- DateCrawled — дата скачивания анкеты из базы\n",
    "- VehicleType — тип автомобильного кузова\n",
    "- RegistrationYear — год регистрации автомобиля\n",
    "- Gearbox — тип коробки передач\n",
    "- Power — мощность (л. с.)\n",
    "- Model — модель автомобиля\n",
    "- Kilometer — пробег (км)\n",
    "- RegistrationMonth — месяц регистрации автомобиля\n",
    "- FuelType — тип топлива\n",
    "- Brand — марка автомобиля\n",
    "- NotRepaired — была машина в ремонте или нет\n",
    "- DateCreated — дата создания анкеты\n",
    "- NumberOfPictures — количество фотографий автомобиля\n",
    "- PostalCode — почтовый индекс владельца анкеты (пользователя)\n",
    "- LastSeen — дата последней активности пользователя\n",
    "\n",
    "\n",
    "**Целевой признак**\n",
    "- Price — цена (евро)"
   ]
  },
  {
   "cell_type": "markdown",
   "metadata": {},
   "source": [
    "## Подготовка данных"
   ]
  },
  {
   "cell_type": "markdown",
   "metadata": {},
   "source": [
    "Загрузим библиотеки и данные"
   ]
  },
  {
   "cell_type": "code",
   "execution_count": 1,
   "metadata": {},
   "outputs": [
    {
     "name": "stdout",
     "output_type": "stream",
     "text": [
      "Collecting category_encoders\n",
      "  Downloading category_encoders-2.5.0-py2.py3-none-any.whl (69 kB)\n",
      "     -------------------------------------- 69.1/69.1 KB 754.0 kB/s eta 0:00:00\n",
      "Requirement already satisfied: pandas>=1.0.5 in d:\\work\\anaconda\\envs\\praktikum\\lib\\site-packages (from category_encoders) (1.2.4)\n",
      "Requirement already satisfied: scipy>=1.0.0 in d:\\work\\anaconda\\envs\\praktikum\\lib\\site-packages (from category_encoders) (1.8.0)\n",
      "Requirement already satisfied: patsy>=0.5.1 in d:\\work\\anaconda\\envs\\praktikum\\lib\\site-packages (from category_encoders) (0.5.2)\n",
      "Requirement already satisfied: statsmodels>=0.9.0 in d:\\work\\anaconda\\envs\\praktikum\\lib\\site-packages (from category_encoders) (0.12.2)\n",
      "Requirement already satisfied: scikit-learn>=0.20.0 in d:\\work\\anaconda\\envs\\praktikum\\lib\\site-packages (from category_encoders) (0.24.1)\n",
      "Requirement already satisfied: numpy>=1.14.0 in d:\\work\\anaconda\\envs\\praktikum\\lib\\site-packages (from category_encoders) (1.20.1)\n",
      "Requirement already satisfied: pytz>=2017.3 in d:\\work\\anaconda\\envs\\praktikum\\lib\\site-packages (from pandas>=1.0.5->category_encoders) (2022.1)\n",
      "Requirement already satisfied: python-dateutil>=2.7.3 in d:\\work\\anaconda\\envs\\praktikum\\lib\\site-packages (from pandas>=1.0.5->category_encoders) (2.8.2)\n",
      "Requirement already satisfied: six in d:\\work\\anaconda\\envs\\praktikum\\lib\\site-packages (from patsy>=0.5.1->category_encoders) (1.16.0)\n",
      "Requirement already satisfied: joblib>=0.11 in d:\\work\\anaconda\\envs\\praktikum\\lib\\site-packages (from scikit-learn>=0.20.0->category_encoders) (1.1.0)\n",
      "Requirement already satisfied: threadpoolctl>=2.0.0 in d:\\work\\anaconda\\envs\\praktikum\\lib\\site-packages (from scikit-learn>=0.20.0->category_encoders) (3.1.0)\n",
      "Installing collected packages: category_encoders\n",
      "Successfully installed category_encoders-2.5.0\n",
      "Collecting lightgbm\n",
      "  Using cached lightgbm-3.3.2-py3-none-win_amd64.whl (1.0 MB)\n",
      "Requirement already satisfied: scipy in d:\\work\\anaconda\\envs\\praktikum\\lib\\site-packages (from lightgbm) (1.8.0)\n",
      "Requirement already satisfied: numpy in d:\\work\\anaconda\\envs\\praktikum\\lib\\site-packages (from lightgbm) (1.20.1)\n",
      "Requirement already satisfied: scikit-learn!=0.22.0 in d:\\work\\anaconda\\envs\\praktikum\\lib\\site-packages (from lightgbm) (0.24.1)\n",
      "Requirement already satisfied: wheel in d:\\work\\anaconda\\envs\\praktikum\\lib\\site-packages (from lightgbm) (0.37.1)\n",
      "Requirement already satisfied: joblib>=0.11 in d:\\work\\anaconda\\envs\\praktikum\\lib\\site-packages (from scikit-learn!=0.22.0->lightgbm) (1.1.0)\n",
      "Requirement already satisfied: threadpoolctl>=2.0.0 in d:\\work\\anaconda\\envs\\praktikum\\lib\\site-packages (from scikit-learn!=0.22.0->lightgbm) (3.1.0)\n",
      "Installing collected packages: lightgbm\n",
      "Successfully installed lightgbm-3.3.2\n"
     ]
    }
   ],
   "source": [
    "!pip install category_encoders\n",
    "!pip install lightgbm"
   ]
  },
  {
   "cell_type": "code",
   "execution_count": 2,
   "metadata": {},
   "outputs": [],
   "source": [
    "import time\n",
    "import pandas as pd \n",
    "import numpy as np\n",
    "\n",
    "import matplotlib.pyplot as plt\n",
    "import seaborn as sns\n",
    "\n",
    "import category_encoders as ce\n",
    "from sklearn.model_selection import train_test_split, KFold, GridSearchCV\n",
    "from sklearn.metrics import mean_squared_error as mse, make_scorer\n",
    "\n",
    "from sklearn.dummy import DummyRegressor\n",
    "from catboost import CatBoostRegressor, Pool\n",
    "from lightgbm import LGBMRegressor\n",
    "from sklearn.linear_model import LinearRegression"
   ]
  },
  {
   "cell_type": "code",
   "execution_count": 3,
   "metadata": {},
   "outputs": [],
   "source": [
    "try:\n",
    "    df = pd.read_csv('autos.csv')\n",
    "except:\n",
    "    df = pd.read_csv('/datasets/autos.csv')"
   ]
  },
  {
   "cell_type": "markdown",
   "metadata": {},
   "source": [
    "Посмотрим на наши данные"
   ]
  },
  {
   "cell_type": "code",
   "execution_count": 4,
   "metadata": {},
   "outputs": [
    {
     "name": "stdout",
     "output_type": "stream",
     "text": [
      "<class 'pandas.core.frame.DataFrame'>\n",
      "RangeIndex: 354369 entries, 0 to 354368\n",
      "Data columns (total 16 columns):\n",
      " #   Column             Non-Null Count   Dtype \n",
      "---  ------             --------------   ----- \n",
      " 0   DateCrawled        354369 non-null  object\n",
      " 1   Price              354369 non-null  int64 \n",
      " 2   VehicleType        316879 non-null  object\n",
      " 3   RegistrationYear   354369 non-null  int64 \n",
      " 4   Gearbox            334536 non-null  object\n",
      " 5   Power              354369 non-null  int64 \n",
      " 6   Model              334664 non-null  object\n",
      " 7   Kilometer          354369 non-null  int64 \n",
      " 8   RegistrationMonth  354369 non-null  int64 \n",
      " 9   FuelType           321474 non-null  object\n",
      " 10  Brand              354369 non-null  object\n",
      " 11  NotRepaired        283215 non-null  object\n",
      " 12  DateCreated        354369 non-null  object\n",
      " 13  NumberOfPictures   354369 non-null  int64 \n",
      " 14  PostalCode         354369 non-null  int64 \n",
      " 15  LastSeen           354369 non-null  object\n",
      "dtypes: int64(7), object(9)\n",
      "memory usage: 43.3+ MB\n"
     ]
    },
    {
     "data": {
      "text/plain": [
       "None"
      ]
     },
     "metadata": {},
     "output_type": "display_data"
    },
    {
     "data": {
      "text/html": [
       "<div>\n",
       "<style scoped>\n",
       "    .dataframe tbody tr th:only-of-type {\n",
       "        vertical-align: middle;\n",
       "    }\n",
       "\n",
       "    .dataframe tbody tr th {\n",
       "        vertical-align: top;\n",
       "    }\n",
       "\n",
       "    .dataframe thead th {\n",
       "        text-align: right;\n",
       "    }\n",
       "</style>\n",
       "<table border=\"1\" class=\"dataframe\">\n",
       "  <thead>\n",
       "    <tr style=\"text-align: right;\">\n",
       "      <th></th>\n",
       "      <th>DateCrawled</th>\n",
       "      <th>Price</th>\n",
       "      <th>VehicleType</th>\n",
       "      <th>RegistrationYear</th>\n",
       "      <th>Gearbox</th>\n",
       "      <th>Power</th>\n",
       "      <th>Model</th>\n",
       "      <th>Kilometer</th>\n",
       "      <th>RegistrationMonth</th>\n",
       "      <th>FuelType</th>\n",
       "      <th>Brand</th>\n",
       "      <th>NotRepaired</th>\n",
       "      <th>DateCreated</th>\n",
       "      <th>NumberOfPictures</th>\n",
       "      <th>PostalCode</th>\n",
       "      <th>LastSeen</th>\n",
       "    </tr>\n",
       "  </thead>\n",
       "  <tbody>\n",
       "    <tr>\n",
       "      <th>0</th>\n",
       "      <td>2016-03-24 11:52:17</td>\n",
       "      <td>480</td>\n",
       "      <td>NaN</td>\n",
       "      <td>1993</td>\n",
       "      <td>manual</td>\n",
       "      <td>0</td>\n",
       "      <td>golf</td>\n",
       "      <td>150000</td>\n",
       "      <td>0</td>\n",
       "      <td>petrol</td>\n",
       "      <td>volkswagen</td>\n",
       "      <td>NaN</td>\n",
       "      <td>2016-03-24 00:00:00</td>\n",
       "      <td>0</td>\n",
       "      <td>70435</td>\n",
       "      <td>2016-04-07 03:16:57</td>\n",
       "    </tr>\n",
       "    <tr>\n",
       "      <th>1</th>\n",
       "      <td>2016-03-24 10:58:45</td>\n",
       "      <td>18300</td>\n",
       "      <td>coupe</td>\n",
       "      <td>2011</td>\n",
       "      <td>manual</td>\n",
       "      <td>190</td>\n",
       "      <td>NaN</td>\n",
       "      <td>125000</td>\n",
       "      <td>5</td>\n",
       "      <td>gasoline</td>\n",
       "      <td>audi</td>\n",
       "      <td>yes</td>\n",
       "      <td>2016-03-24 00:00:00</td>\n",
       "      <td>0</td>\n",
       "      <td>66954</td>\n",
       "      <td>2016-04-07 01:46:50</td>\n",
       "    </tr>\n",
       "    <tr>\n",
       "      <th>2</th>\n",
       "      <td>2016-03-14 12:52:21</td>\n",
       "      <td>9800</td>\n",
       "      <td>suv</td>\n",
       "      <td>2004</td>\n",
       "      <td>auto</td>\n",
       "      <td>163</td>\n",
       "      <td>grand</td>\n",
       "      <td>125000</td>\n",
       "      <td>8</td>\n",
       "      <td>gasoline</td>\n",
       "      <td>jeep</td>\n",
       "      <td>NaN</td>\n",
       "      <td>2016-03-14 00:00:00</td>\n",
       "      <td>0</td>\n",
       "      <td>90480</td>\n",
       "      <td>2016-04-05 12:47:46</td>\n",
       "    </tr>\n",
       "    <tr>\n",
       "      <th>3</th>\n",
       "      <td>2016-03-17 16:54:04</td>\n",
       "      <td>1500</td>\n",
       "      <td>small</td>\n",
       "      <td>2001</td>\n",
       "      <td>manual</td>\n",
       "      <td>75</td>\n",
       "      <td>golf</td>\n",
       "      <td>150000</td>\n",
       "      <td>6</td>\n",
       "      <td>petrol</td>\n",
       "      <td>volkswagen</td>\n",
       "      <td>no</td>\n",
       "      <td>2016-03-17 00:00:00</td>\n",
       "      <td>0</td>\n",
       "      <td>91074</td>\n",
       "      <td>2016-03-17 17:40:17</td>\n",
       "    </tr>\n",
       "    <tr>\n",
       "      <th>4</th>\n",
       "      <td>2016-03-31 17:25:20</td>\n",
       "      <td>3600</td>\n",
       "      <td>small</td>\n",
       "      <td>2008</td>\n",
       "      <td>manual</td>\n",
       "      <td>69</td>\n",
       "      <td>fabia</td>\n",
       "      <td>90000</td>\n",
       "      <td>7</td>\n",
       "      <td>gasoline</td>\n",
       "      <td>skoda</td>\n",
       "      <td>no</td>\n",
       "      <td>2016-03-31 00:00:00</td>\n",
       "      <td>0</td>\n",
       "      <td>60437</td>\n",
       "      <td>2016-04-06 10:17:21</td>\n",
       "    </tr>\n",
       "  </tbody>\n",
       "</table>\n",
       "</div>"
      ],
      "text/plain": [
       "           DateCrawled  Price VehicleType  RegistrationYear Gearbox  Power  \\\n",
       "0  2016-03-24 11:52:17    480         NaN              1993  manual      0   \n",
       "1  2016-03-24 10:58:45  18300       coupe              2011  manual    190   \n",
       "2  2016-03-14 12:52:21   9800         suv              2004    auto    163   \n",
       "3  2016-03-17 16:54:04   1500       small              2001  manual     75   \n",
       "4  2016-03-31 17:25:20   3600       small              2008  manual     69   \n",
       "\n",
       "   Model  Kilometer  RegistrationMonth  FuelType       Brand NotRepaired  \\\n",
       "0   golf     150000                  0    petrol  volkswagen         NaN   \n",
       "1    NaN     125000                  5  gasoline        audi         yes   \n",
       "2  grand     125000                  8  gasoline        jeep         NaN   \n",
       "3   golf     150000                  6    petrol  volkswagen          no   \n",
       "4  fabia      90000                  7  gasoline       skoda          no   \n",
       "\n",
       "           DateCreated  NumberOfPictures  PostalCode             LastSeen  \n",
       "0  2016-03-24 00:00:00                 0       70435  2016-04-07 03:16:57  \n",
       "1  2016-03-24 00:00:00                 0       66954  2016-04-07 01:46:50  \n",
       "2  2016-03-14 00:00:00                 0       90480  2016-04-05 12:47:46  \n",
       "3  2016-03-17 00:00:00                 0       91074  2016-03-17 17:40:17  \n",
       "4  2016-03-31 00:00:00                 0       60437  2016-04-06 10:17:21  "
      ]
     },
     "metadata": {},
     "output_type": "display_data"
    },
    {
     "data": {
      "text/html": [
       "<div>\n",
       "<style scoped>\n",
       "    .dataframe tbody tr th:only-of-type {\n",
       "        vertical-align: middle;\n",
       "    }\n",
       "\n",
       "    .dataframe tbody tr th {\n",
       "        vertical-align: top;\n",
       "    }\n",
       "\n",
       "    .dataframe thead th {\n",
       "        text-align: right;\n",
       "    }\n",
       "</style>\n",
       "<table border=\"1\" class=\"dataframe\">\n",
       "  <thead>\n",
       "    <tr style=\"text-align: right;\">\n",
       "      <th></th>\n",
       "      <th>Price</th>\n",
       "      <th>RegistrationYear</th>\n",
       "      <th>Power</th>\n",
       "      <th>Kilometer</th>\n",
       "      <th>RegistrationMonth</th>\n",
       "      <th>NumberOfPictures</th>\n",
       "      <th>PostalCode</th>\n",
       "    </tr>\n",
       "  </thead>\n",
       "  <tbody>\n",
       "    <tr>\n",
       "      <th>count</th>\n",
       "      <td>354369.000000</td>\n",
       "      <td>354369.000000</td>\n",
       "      <td>354369.000000</td>\n",
       "      <td>354369.000000</td>\n",
       "      <td>354369.000000</td>\n",
       "      <td>354369.0</td>\n",
       "      <td>354369.000000</td>\n",
       "    </tr>\n",
       "    <tr>\n",
       "      <th>mean</th>\n",
       "      <td>4416.656776</td>\n",
       "      <td>2004.234448</td>\n",
       "      <td>110.094337</td>\n",
       "      <td>128211.172535</td>\n",
       "      <td>5.714645</td>\n",
       "      <td>0.0</td>\n",
       "      <td>50508.689087</td>\n",
       "    </tr>\n",
       "    <tr>\n",
       "      <th>std</th>\n",
       "      <td>4514.158514</td>\n",
       "      <td>90.227958</td>\n",
       "      <td>189.850405</td>\n",
       "      <td>37905.341530</td>\n",
       "      <td>3.726421</td>\n",
       "      <td>0.0</td>\n",
       "      <td>25783.096248</td>\n",
       "    </tr>\n",
       "    <tr>\n",
       "      <th>min</th>\n",
       "      <td>0.000000</td>\n",
       "      <td>1000.000000</td>\n",
       "      <td>0.000000</td>\n",
       "      <td>5000.000000</td>\n",
       "      <td>0.000000</td>\n",
       "      <td>0.0</td>\n",
       "      <td>1067.000000</td>\n",
       "    </tr>\n",
       "    <tr>\n",
       "      <th>25%</th>\n",
       "      <td>1050.000000</td>\n",
       "      <td>1999.000000</td>\n",
       "      <td>69.000000</td>\n",
       "      <td>125000.000000</td>\n",
       "      <td>3.000000</td>\n",
       "      <td>0.0</td>\n",
       "      <td>30165.000000</td>\n",
       "    </tr>\n",
       "    <tr>\n",
       "      <th>50%</th>\n",
       "      <td>2700.000000</td>\n",
       "      <td>2003.000000</td>\n",
       "      <td>105.000000</td>\n",
       "      <td>150000.000000</td>\n",
       "      <td>6.000000</td>\n",
       "      <td>0.0</td>\n",
       "      <td>49413.000000</td>\n",
       "    </tr>\n",
       "    <tr>\n",
       "      <th>75%</th>\n",
       "      <td>6400.000000</td>\n",
       "      <td>2008.000000</td>\n",
       "      <td>143.000000</td>\n",
       "      <td>150000.000000</td>\n",
       "      <td>9.000000</td>\n",
       "      <td>0.0</td>\n",
       "      <td>71083.000000</td>\n",
       "    </tr>\n",
       "    <tr>\n",
       "      <th>max</th>\n",
       "      <td>20000.000000</td>\n",
       "      <td>9999.000000</td>\n",
       "      <td>20000.000000</td>\n",
       "      <td>150000.000000</td>\n",
       "      <td>12.000000</td>\n",
       "      <td>0.0</td>\n",
       "      <td>99998.000000</td>\n",
       "    </tr>\n",
       "  </tbody>\n",
       "</table>\n",
       "</div>"
      ],
      "text/plain": [
       "               Price  RegistrationYear          Power      Kilometer  \\\n",
       "count  354369.000000     354369.000000  354369.000000  354369.000000   \n",
       "mean     4416.656776       2004.234448     110.094337  128211.172535   \n",
       "std      4514.158514         90.227958     189.850405   37905.341530   \n",
       "min         0.000000       1000.000000       0.000000    5000.000000   \n",
       "25%      1050.000000       1999.000000      69.000000  125000.000000   \n",
       "50%      2700.000000       2003.000000     105.000000  150000.000000   \n",
       "75%      6400.000000       2008.000000     143.000000  150000.000000   \n",
       "max     20000.000000       9999.000000   20000.000000  150000.000000   \n",
       "\n",
       "       RegistrationMonth  NumberOfPictures     PostalCode  \n",
       "count      354369.000000          354369.0  354369.000000  \n",
       "mean            5.714645               0.0   50508.689087  \n",
       "std             3.726421               0.0   25783.096248  \n",
       "min             0.000000               0.0    1067.000000  \n",
       "25%             3.000000               0.0   30165.000000  \n",
       "50%             6.000000               0.0   49413.000000  \n",
       "75%             9.000000               0.0   71083.000000  \n",
       "max            12.000000               0.0   99998.000000  "
      ]
     },
     "metadata": {},
     "output_type": "display_data"
    },
    {
     "data": {
      "text/plain": [
       "'Процент пропусков:'"
      ]
     },
     "metadata": {},
     "output_type": "display_data"
    },
    {
     "data": {
      "text/plain": [
       "NotRepaired          0.251237\n",
       "VehicleType          0.118310\n",
       "FuelType             0.102326\n",
       "Gearbox              0.059285\n",
       "Model                0.058880\n",
       "DateCrawled          0.000000\n",
       "Price                0.000000\n",
       "RegistrationYear     0.000000\n",
       "Power                0.000000\n",
       "Kilometer            0.000000\n",
       "RegistrationMonth    0.000000\n",
       "Brand                0.000000\n",
       "DateCreated          0.000000\n",
       "NumberOfPictures     0.000000\n",
       "PostalCode           0.000000\n",
       "LastSeen             0.000000\n",
       "dtype: float64"
      ]
     },
     "metadata": {},
     "output_type": "display_data"
    }
   ],
   "source": [
    "display(df.info(), df.head(), df.describe(), 'Процент пропусков:', (df.isna().sum() / df.count()).sort_values(ascending=False))"
   ]
  },
  {
   "cell_type": "markdown",
   "metadata": {},
   "source": [
    "Мы видим ряд проблем которые нужно решить:\n",
    "- [x] Пустой столбец с информацией о кол-ве изображений\n",
    "- [x] Большое кол-во пропусков в колонках с типом кузова, типом коробки передач, типом топлива, моделью и данными о ремонте\n",
    "- [x] Нулевые значения в колонках с месяцем регистрации авто, мощностью и ценой\n",
    "- [x] Аномальные значения в колонках с годом регистрации авто и мощностью "
   ]
  },
  {
   "cell_type": "markdown",
   "metadata": {},
   "source": [
    "Приведем названия столбцов к нижнему регистру"
   ]
  },
  {
   "cell_type": "code",
   "execution_count": 5,
   "metadata": {},
   "outputs": [],
   "source": [
    "df.columns = ['date_crawled', 'price', 'vehicle_type', 'registration_year', 'gearbox',\n",
    "       'power', 'model', 'kilometer', 'registration_month', 'fuel_type', 'brand',\n",
    "       'not_repaired', 'date_created', 'number_of_pictures', 'postal_code',\n",
    "       'last_seen']"
   ]
  },
  {
   "cell_type": "markdown",
   "metadata": {},
   "source": [
    "Удалим ненужные столбцы"
   ]
  },
  {
   "cell_type": "code",
   "execution_count": 6,
   "metadata": {},
   "outputs": [],
   "source": [
    "select = ['date_crawled', 'postal_code', 'date_created',\n",
    "            'last_seen', 'number_of_pictures']\n",
    "df = df.drop(columns=select)"
   ]
  },
  {
   "cell_type": "markdown",
   "metadata": {},
   "source": [
    "Заполним пропуски в категориальных данных"
   ]
  },
  {
   "cell_type": "code",
   "execution_count": 7,
   "metadata": {},
   "outputs": [
    {
     "name": "stdout",
     "output_type": "stream",
     "text": [
      "not_repaired\n",
      " no     247161\n",
      "yes     36054\n",
      "Name: not_repaired, dtype: int64\n",
      "vehicle_type\n",
      " sedan          91457\n",
      "small          79831\n",
      "wagon          65166\n",
      "bus            28775\n",
      "convertible    20203\n",
      "coupe          16163\n",
      "suv            11996\n",
      "other           3288\n",
      "Name: vehicle_type, dtype: int64\n",
      "model\n",
      " golf                  29232\n",
      "other                 24421\n",
      "3er                   19761\n",
      "polo                  13066\n",
      "corsa                 12570\n",
      "                      ...  \n",
      "i3                        8\n",
      "serie_3                   4\n",
      "rangerover                4\n",
      "range_rover_evoque        2\n",
      "serie_1                   2\n",
      "Name: model, Length: 250, dtype: int64\n",
      "fuel_type\n",
      " petrol      216352\n",
      "gasoline     98720\n",
      "lpg           5310\n",
      "cng            565\n",
      "hybrid         233\n",
      "other          204\n",
      "electric        90\n",
      "Name: fuel_type, dtype: int64\n",
      "gearbox\n",
      " manual    268251\n",
      "auto       66285\n",
      "Name: gearbox, dtype: int64\n"
     ]
    }
   ],
   "source": [
    "for i in ['not_repaired', 'vehicle_type', 'model', 'fuel_type', 'gearbox']:\n",
    "    print(f'{i}\\n', df[i].value_counts())"
   ]
  },
  {
   "cell_type": "markdown",
   "metadata": {},
   "source": [
    "Признаки c данными о ремонте, типом кузова и моделью являются не очевидными, заменим пропуски на индикаторные значения "
   ]
  },
  {
   "cell_type": "code",
   "execution_count": 8,
   "metadata": {},
   "outputs": [
    {
     "data": {
      "text/plain": [
       "not_repaired    0\n",
       "vehicle_type    0\n",
       "model           0\n",
       "dtype: int64"
      ]
     },
     "execution_count": 8,
     "metadata": {},
     "output_type": "execute_result"
    }
   ],
   "source": [
    "fill_columns = ['not_repaired', 'vehicle_type', 'model']\n",
    "for i in fill_columns:\n",
    "    df[i].fillna('n/a', inplace=True)\n",
    "df[fill_columns].isna().sum()"
   ]
  },
  {
   "cell_type": "markdown",
   "metadata": {},
   "source": [
    "Заменим пропущенные значения в типе топлива и коробках передач на самые популярные"
   ]
  },
  {
   "cell_type": "code",
   "execution_count": 9,
   "metadata": {},
   "outputs": [
    {
     "data": {
      "text/plain": [
       "fuel_type    0\n",
       "gearbox      0\n",
       "dtype: int64"
      ]
     },
     "execution_count": 9,
     "metadata": {},
     "output_type": "execute_result"
    }
   ],
   "source": [
    "df['fuel_type'].fillna('petrol', inplace=True)\n",
    "df['gearbox'].fillna('manual', inplace=True)\n",
    "df[['fuel_type', 'gearbox']].isna().sum()"
   ]
  },
  {
   "cell_type": "markdown",
   "metadata": {},
   "source": [
    "Удалим нулевые значения из месяца регистрации "
   ]
  },
  {
   "cell_type": "code",
   "execution_count": 10,
   "metadata": {},
   "outputs": [],
   "source": [
    "df = df[df['registration_month'] > 0]"
   ]
  },
  {
   "cell_type": "markdown",
   "metadata": {},
   "source": [
    "Сделаем срез с адекватными годами регистрации "
   ]
  },
  {
   "cell_type": "code",
   "execution_count": 11,
   "metadata": {},
   "outputs": [
    {
     "data": {
      "text/plain": [
       "<AxesSubplot:>"
      ]
     },
     "execution_count": 11,
     "metadata": {},
     "output_type": "execute_result"
    },
    {
     "data": {
      "image/png": "[encoded data removed]",
      "text/plain": [
       "<Figure size 432x288 with 1 Axes>"
      ]
     },
     "metadata": {
      "needs_background": "light"
     },
     "output_type": "display_data"
    }
   ],
   "source": [
    "df = df[(df['registration_year'] > 1900) & (df['registration_year'] < 2016)]\n",
    "df['registration_year'].hist(bins=30, ec='black')"
   ]
  },
  {
   "cell_type": "markdown",
   "metadata": {},
   "source": [
    "Посмотрим на данные о мощности"
   ]
  },
  {
   "cell_type": "code",
   "execution_count": 12,
   "metadata": {},
   "outputs": [
    {
     "data": {
      "text/html": [
       "<div>\n",
       "<style scoped>\n",
       "    .dataframe tbody tr th:only-of-type {\n",
       "        vertical-align: middle;\n",
       "    }\n",
       "\n",
       "    .dataframe tbody tr th {\n",
       "        vertical-align: top;\n",
       "    }\n",
       "\n",
       "    .dataframe thead th {\n",
       "        text-align: right;\n",
       "    }\n",
       "</style>\n",
       "<table border=\"1\" class=\"dataframe\">\n",
       "  <thead>\n",
       "    <tr style=\"text-align: right;\">\n",
       "      <th></th>\n",
       "      <th>price</th>\n",
       "      <th>registration_year</th>\n",
       "      <th>power</th>\n",
       "      <th>kilometer</th>\n",
       "      <th>registration_month</th>\n",
       "    </tr>\n",
       "    <tr>\n",
       "      <th>model</th>\n",
       "      <th></th>\n",
       "      <th></th>\n",
       "      <th></th>\n",
       "      <th></th>\n",
       "      <th></th>\n",
       "    </tr>\n",
       "  </thead>\n",
       "  <tbody>\n",
       "    <tr>\n",
       "      <th>601</th>\n",
       "      <td>1399.0</td>\n",
       "      <td>1987.0</td>\n",
       "      <td>26.0</td>\n",
       "      <td>50000.0</td>\n",
       "      <td>6.0</td>\n",
       "    </tr>\n",
       "    <tr>\n",
       "      <th>samara</th>\n",
       "      <td>475.0</td>\n",
       "      <td>1998.0</td>\n",
       "      <td>30.0</td>\n",
       "      <td>125000.0</td>\n",
       "      <td>7.0</td>\n",
       "    </tr>\n",
       "    <tr>\n",
       "      <th>kaefer</th>\n",
       "      <td>6000.0</td>\n",
       "      <td>1974.0</td>\n",
       "      <td>34.0</td>\n",
       "      <td>90000.0</td>\n",
       "      <td>5.0</td>\n",
       "    </tr>\n",
       "    <tr>\n",
       "      <th>move</th>\n",
       "      <td>500.0</td>\n",
       "      <td>1999.0</td>\n",
       "      <td>42.5</td>\n",
       "      <td>150000.0</td>\n",
       "      <td>6.0</td>\n",
       "    </tr>\n",
       "    <tr>\n",
       "      <th>lupo</th>\n",
       "      <td>1300.0</td>\n",
       "      <td>2000.0</td>\n",
       "      <td>50.0</td>\n",
       "      <td>150000.0</td>\n",
       "      <td>6.0</td>\n",
       "    </tr>\n",
       "    <tr>\n",
       "      <th>...</th>\n",
       "      <td>...</td>\n",
       "      <td>...</td>\n",
       "      <td>...</td>\n",
       "      <td>...</td>\n",
       "      <td>...</td>\n",
       "    </tr>\n",
       "    <tr>\n",
       "      <th>911</th>\n",
       "      <td>14955.0</td>\n",
       "      <td>1999.0</td>\n",
       "      <td>300.0</td>\n",
       "      <td>150000.0</td>\n",
       "      <td>5.0</td>\n",
       "    </tr>\n",
       "    <tr>\n",
       "      <th>cl</th>\n",
       "      <td>7375.0</td>\n",
       "      <td>2002.0</td>\n",
       "      <td>306.0</td>\n",
       "      <td>150000.0</td>\n",
       "      <td>7.0</td>\n",
       "    </tr>\n",
       "    <tr>\n",
       "      <th>6er</th>\n",
       "      <td>14500.0</td>\n",
       "      <td>2004.0</td>\n",
       "      <td>333.0</td>\n",
       "      <td>150000.0</td>\n",
       "      <td>6.0</td>\n",
       "    </tr>\n",
       "    <tr>\n",
       "      <th>cayenne</th>\n",
       "      <td>13050.0</td>\n",
       "      <td>2005.0</td>\n",
       "      <td>340.0</td>\n",
       "      <td>150000.0</td>\n",
       "      <td>7.0</td>\n",
       "    </tr>\n",
       "    <tr>\n",
       "      <th>m_reihe</th>\n",
       "      <td>13900.0</td>\n",
       "      <td>2001.0</td>\n",
       "      <td>343.0</td>\n",
       "      <td>150000.0</td>\n",
       "      <td>6.0</td>\n",
       "    </tr>\n",
       "  </tbody>\n",
       "</table>\n",
       "<p>250 rows × 5 columns</p>\n",
       "</div>"
      ],
      "text/plain": [
       "           price  registration_year  power  kilometer  registration_month\n",
       "model                                                                    \n",
       "601       1399.0             1987.0   26.0    50000.0                 6.0\n",
       "samara     475.0             1998.0   30.0   125000.0                 7.0\n",
       "kaefer    6000.0             1974.0   34.0    90000.0                 5.0\n",
       "move       500.0             1999.0   42.5   150000.0                 6.0\n",
       "lupo      1300.0             2000.0   50.0   150000.0                 6.0\n",
       "...          ...                ...    ...        ...                 ...\n",
       "911      14955.0             1999.0  300.0   150000.0                 5.0\n",
       "cl        7375.0             2002.0  306.0   150000.0                 7.0\n",
       "6er      14500.0             2004.0  333.0   150000.0                 6.0\n",
       "cayenne  13050.0             2005.0  340.0   150000.0                 7.0\n",
       "m_reihe  13900.0             2001.0  343.0   150000.0                 6.0\n",
       "\n",
       "[250 rows x 5 columns]"
      ]
     },
     "execution_count": 12,
     "metadata": {},
     "output_type": "execute_result"
    }
   ],
   "source": [
    "df.groupby(by='model').median().sort_values(by='power')"
   ]
  },
  {
   "cell_type": "code",
   "execution_count": 13,
   "metadata": {},
   "outputs": [
    {
     "data": {
      "text/plain": [
       "<AxesSubplot:>"
      ]
     },
     "execution_count": 13,
     "metadata": {},
     "output_type": "execute_result"
    },
    {
     "data": {
      "image/png": "[encoded data removed]",
      "text/plain": [
       "<Figure size 432x288 with 1 Axes>"
      ]
     },
     "metadata": {
      "needs_background": "light"
     },
     "output_type": "display_data"
    }
   ],
   "source": [
    "df = df[(df['power'] < 344) & (df['power'] > 25)]\n",
    "df['power'].hist(bins=30, ec='black')"
   ]
  },
  {
   "cell_type": "markdown",
   "metadata": {},
   "source": [
    "Посмотрим на распределение цен"
   ]
  },
  {
   "cell_type": "code",
   "execution_count": 14,
   "metadata": {},
   "outputs": [
    {
     "data": {
      "text/html": [
       "<div>\n",
       "<style scoped>\n",
       "    .dataframe tbody tr th:only-of-type {\n",
       "        vertical-align: middle;\n",
       "    }\n",
       "\n",
       "    .dataframe tbody tr th {\n",
       "        vertical-align: top;\n",
       "    }\n",
       "\n",
       "    .dataframe thead th {\n",
       "        text-align: right;\n",
       "    }\n",
       "</style>\n",
       "<table border=\"1\" class=\"dataframe\">\n",
       "  <thead>\n",
       "    <tr style=\"text-align: right;\">\n",
       "      <th></th>\n",
       "      <th>price</th>\n",
       "      <th>registration_year</th>\n",
       "      <th>power</th>\n",
       "      <th>kilometer</th>\n",
       "      <th>registration_month</th>\n",
       "    </tr>\n",
       "    <tr>\n",
       "      <th>model</th>\n",
       "      <th></th>\n",
       "      <th></th>\n",
       "      <th></th>\n",
       "      <th></th>\n",
       "      <th></th>\n",
       "    </tr>\n",
       "  </thead>\n",
       "  <tbody>\n",
       "    <tr>\n",
       "      <th>elefantino</th>\n",
       "      <td>200.0</td>\n",
       "      <td>1999.0</td>\n",
       "      <td>60.0</td>\n",
       "      <td>150000.0</td>\n",
       "      <td>4.0</td>\n",
       "    </tr>\n",
       "    <tr>\n",
       "      <th>move</th>\n",
       "      <td>599.5</td>\n",
       "      <td>1999.0</td>\n",
       "      <td>50.0</td>\n",
       "      <td>150000.0</td>\n",
       "      <td>6.0</td>\n",
       "    </tr>\n",
       "    <tr>\n",
       "      <th>escort</th>\n",
       "      <td>600.0</td>\n",
       "      <td>1996.0</td>\n",
       "      <td>90.0</td>\n",
       "      <td>150000.0</td>\n",
       "      <td>5.0</td>\n",
       "    </tr>\n",
       "    <tr>\n",
       "      <th>lanos</th>\n",
       "      <td>650.0</td>\n",
       "      <td>2000.0</td>\n",
       "      <td>75.0</td>\n",
       "      <td>150000.0</td>\n",
       "      <td>8.0</td>\n",
       "    </tr>\n",
       "    <tr>\n",
       "      <th>145</th>\n",
       "      <td>750.0</td>\n",
       "      <td>1999.0</td>\n",
       "      <td>103.0</td>\n",
       "      <td>150000.0</td>\n",
       "      <td>5.0</td>\n",
       "    </tr>\n",
       "    <tr>\n",
       "      <th>...</th>\n",
       "      <td>...</td>\n",
       "      <td>...</td>\n",
       "      <td>...</td>\n",
       "      <td>...</td>\n",
       "      <td>...</td>\n",
       "    </tr>\n",
       "    <tr>\n",
       "      <th>q5</th>\n",
       "      <td>16499.0</td>\n",
       "      <td>2010.0</td>\n",
       "      <td>211.0</td>\n",
       "      <td>125000.0</td>\n",
       "      <td>6.0</td>\n",
       "    </tr>\n",
       "    <tr>\n",
       "      <th>a5</th>\n",
       "      <td>16650.0</td>\n",
       "      <td>2009.0</td>\n",
       "      <td>190.0</td>\n",
       "      <td>150000.0</td>\n",
       "      <td>7.0</td>\n",
       "    </tr>\n",
       "    <tr>\n",
       "      <th>glk</th>\n",
       "      <td>17949.5</td>\n",
       "      <td>2009.0</td>\n",
       "      <td>170.0</td>\n",
       "      <td>150000.0</td>\n",
       "      <td>7.0</td>\n",
       "    </tr>\n",
       "    <tr>\n",
       "      <th>q3</th>\n",
       "      <td>18499.0</td>\n",
       "      <td>2012.0</td>\n",
       "      <td>140.0</td>\n",
       "      <td>80000.0</td>\n",
       "      <td>5.0</td>\n",
       "    </tr>\n",
       "    <tr>\n",
       "      <th>gl</th>\n",
       "      <td>18999.0</td>\n",
       "      <td>2007.0</td>\n",
       "      <td>224.0</td>\n",
       "      <td>150000.0</td>\n",
       "      <td>9.0</td>\n",
       "    </tr>\n",
       "  </tbody>\n",
       "</table>\n",
       "<p>250 rows × 5 columns</p>\n",
       "</div>"
      ],
      "text/plain": [
       "              price  registration_year  power  kilometer  registration_month\n",
       "model                                                                       \n",
       "elefantino    200.0             1999.0   60.0   150000.0                 4.0\n",
       "move          599.5             1999.0   50.0   150000.0                 6.0\n",
       "escort        600.0             1996.0   90.0   150000.0                 5.0\n",
       "lanos         650.0             2000.0   75.0   150000.0                 8.0\n",
       "145           750.0             1999.0  103.0   150000.0                 5.0\n",
       "...             ...                ...    ...        ...                 ...\n",
       "q5          16499.0             2010.0  211.0   125000.0                 6.0\n",
       "a5          16650.0             2009.0  190.0   150000.0                 7.0\n",
       "glk         17949.5             2009.0  170.0   150000.0                 7.0\n",
       "q3          18499.0             2012.0  140.0    80000.0                 5.0\n",
       "gl          18999.0             2007.0  224.0   150000.0                 9.0\n",
       "\n",
       "[250 rows x 5 columns]"
      ]
     },
     "execution_count": 14,
     "metadata": {},
     "output_type": "execute_result"
    }
   ],
   "source": [
    "df.groupby(by='model').median().sort_values(by='price')"
   ]
  },
  {
   "cell_type": "markdown",
   "metadata": {},
   "source": [
    "Сделаем срез до 200 евро "
   ]
  },
  {
   "cell_type": "code",
   "execution_count": 15,
   "metadata": {},
   "outputs": [
    {
     "data": {
      "text/plain": [
       "<AxesSubplot:>"
      ]
     },
     "execution_count": 15,
     "metadata": {},
     "output_type": "execute_result"
    },
    {
     "data": {
      "image/png": "[encoded data removed]",
      "text/plain": [
       "<Figure size 432x288 with 1 Axes>"
      ]
     },
     "metadata": {
      "needs_background": "light"
     },
     "output_type": "display_data"
    }
   ],
   "source": [
    "df =  df[df['price'] > 199]\n",
    "df['price'].hist(bins=30, ec='black')"
   ]
  },
  {
   "cell_type": "markdown",
   "metadata": {},
   "source": [
    "Проверим данные на дубликаты"
   ]
  },
  {
   "cell_type": "code",
   "execution_count": 16,
   "metadata": {},
   "outputs": [
    {
     "data": {
      "text/plain": [
       "22769"
      ]
     },
     "metadata": {},
     "output_type": "display_data"
    },
    {
     "data": {
      "text/html": [
       "<div>\n",
       "<style scoped>\n",
       "    .dataframe tbody tr th:only-of-type {\n",
       "        vertical-align: middle;\n",
       "    }\n",
       "\n",
       "    .dataframe tbody tr th {\n",
       "        vertical-align: top;\n",
       "    }\n",
       "\n",
       "    .dataframe thead th {\n",
       "        text-align: right;\n",
       "    }\n",
       "</style>\n",
       "<table border=\"1\" class=\"dataframe\">\n",
       "  <thead>\n",
       "    <tr style=\"text-align: right;\">\n",
       "      <th></th>\n",
       "      <th>price</th>\n",
       "      <th>vehicle_type</th>\n",
       "      <th>registration_year</th>\n",
       "      <th>gearbox</th>\n",
       "      <th>power</th>\n",
       "      <th>model</th>\n",
       "      <th>kilometer</th>\n",
       "      <th>registration_month</th>\n",
       "      <th>fuel_type</th>\n",
       "      <th>brand</th>\n",
       "      <th>not_repaired</th>\n",
       "    </tr>\n",
       "  </thead>\n",
       "  <tbody>\n",
       "    <tr>\n",
       "      <th>3551</th>\n",
       "      <td>1670</td>\n",
       "      <td>sedan</td>\n",
       "      <td>1999</td>\n",
       "      <td>manual</td>\n",
       "      <td>75</td>\n",
       "      <td>golf</td>\n",
       "      <td>150000</td>\n",
       "      <td>8</td>\n",
       "      <td>petrol</td>\n",
       "      <td>volkswagen</td>\n",
       "      <td>no</td>\n",
       "    </tr>\n",
       "    <tr>\n",
       "      <th>3786</th>\n",
       "      <td>2999</td>\n",
       "      <td>sedan</td>\n",
       "      <td>2002</td>\n",
       "      <td>manual</td>\n",
       "      <td>101</td>\n",
       "      <td>golf</td>\n",
       "      <td>150000</td>\n",
       "      <td>6</td>\n",
       "      <td>gasoline</td>\n",
       "      <td>volkswagen</td>\n",
       "      <td>no</td>\n",
       "    </tr>\n",
       "    <tr>\n",
       "      <th>3907</th>\n",
       "      <td>500</td>\n",
       "      <td>small</td>\n",
       "      <td>1999</td>\n",
       "      <td>manual</td>\n",
       "      <td>55</td>\n",
       "      <td>corsa</td>\n",
       "      <td>150000</td>\n",
       "      <td>12</td>\n",
       "      <td>petrol</td>\n",
       "      <td>opel</td>\n",
       "      <td>no</td>\n",
       "    </tr>\n",
       "    <tr>\n",
       "      <th>4134</th>\n",
       "      <td>18750</td>\n",
       "      <td>sedan</td>\n",
       "      <td>2014</td>\n",
       "      <td>manual</td>\n",
       "      <td>150</td>\n",
       "      <td>golf</td>\n",
       "      <td>20000</td>\n",
       "      <td>9</td>\n",
       "      <td>gasoline</td>\n",
       "      <td>volkswagen</td>\n",
       "      <td>no</td>\n",
       "    </tr>\n",
       "    <tr>\n",
       "      <th>4222</th>\n",
       "      <td>14500</td>\n",
       "      <td>wagon</td>\n",
       "      <td>2007</td>\n",
       "      <td>manual</td>\n",
       "      <td>140</td>\n",
       "      <td>a6</td>\n",
       "      <td>100000</td>\n",
       "      <td>3</td>\n",
       "      <td>gasoline</td>\n",
       "      <td>audi</td>\n",
       "      <td>no</td>\n",
       "    </tr>\n",
       "    <tr>\n",
       "      <th>...</th>\n",
       "      <td>...</td>\n",
       "      <td>...</td>\n",
       "      <td>...</td>\n",
       "      <td>...</td>\n",
       "      <td>...</td>\n",
       "      <td>...</td>\n",
       "      <td>...</td>\n",
       "      <td>...</td>\n",
       "      <td>...</td>\n",
       "      <td>...</td>\n",
       "      <td>...</td>\n",
       "    </tr>\n",
       "    <tr>\n",
       "      <th>354320</th>\n",
       "      <td>1500</td>\n",
       "      <td>sedan</td>\n",
       "      <td>1999</td>\n",
       "      <td>manual</td>\n",
       "      <td>75</td>\n",
       "      <td>golf</td>\n",
       "      <td>150000</td>\n",
       "      <td>4</td>\n",
       "      <td>petrol</td>\n",
       "      <td>volkswagen</td>\n",
       "      <td>n/a</td>\n",
       "    </tr>\n",
       "    <tr>\n",
       "      <th>354325</th>\n",
       "      <td>12800</td>\n",
       "      <td>convertible</td>\n",
       "      <td>1991</td>\n",
       "      <td>manual</td>\n",
       "      <td>211</td>\n",
       "      <td>other</td>\n",
       "      <td>150000</td>\n",
       "      <td>7</td>\n",
       "      <td>petrol</td>\n",
       "      <td>porsche</td>\n",
       "      <td>no</td>\n",
       "    </tr>\n",
       "    <tr>\n",
       "      <th>354333</th>\n",
       "      <td>13850</td>\n",
       "      <td>wagon</td>\n",
       "      <td>2012</td>\n",
       "      <td>manual</td>\n",
       "      <td>156</td>\n",
       "      <td>accord</td>\n",
       "      <td>125000</td>\n",
       "      <td>10</td>\n",
       "      <td>petrol</td>\n",
       "      <td>honda</td>\n",
       "      <td>no</td>\n",
       "    </tr>\n",
       "    <tr>\n",
       "      <th>354352</th>\n",
       "      <td>6500</td>\n",
       "      <td>sedan</td>\n",
       "      <td>2003</td>\n",
       "      <td>auto</td>\n",
       "      <td>145</td>\n",
       "      <td>e_klasse</td>\n",
       "      <td>150000</td>\n",
       "      <td>3</td>\n",
       "      <td>gasoline</td>\n",
       "      <td>mercedes_benz</td>\n",
       "      <td>no</td>\n",
       "    </tr>\n",
       "    <tr>\n",
       "      <th>354355</th>\n",
       "      <td>4400</td>\n",
       "      <td>sedan</td>\n",
       "      <td>2008</td>\n",
       "      <td>manual</td>\n",
       "      <td>105</td>\n",
       "      <td>leon</td>\n",
       "      <td>150000</td>\n",
       "      <td>7</td>\n",
       "      <td>gasoline</td>\n",
       "      <td>seat</td>\n",
       "      <td>no</td>\n",
       "    </tr>\n",
       "  </tbody>\n",
       "</table>\n",
       "<p>22769 rows × 11 columns</p>\n",
       "</div>"
      ],
      "text/plain": [
       "        price vehicle_type  registration_year gearbox  power     model  \\\n",
       "3551     1670        sedan               1999  manual     75      golf   \n",
       "3786     2999        sedan               2002  manual    101      golf   \n",
       "3907      500        small               1999  manual     55     corsa   \n",
       "4134    18750        sedan               2014  manual    150      golf   \n",
       "4222    14500        wagon               2007  manual    140        a6   \n",
       "...       ...          ...                ...     ...    ...       ...   \n",
       "354320   1500        sedan               1999  manual     75      golf   \n",
       "354325  12800  convertible               1991  manual    211     other   \n",
       "354333  13850        wagon               2012  manual    156    accord   \n",
       "354352   6500        sedan               2003    auto    145  e_klasse   \n",
       "354355   4400        sedan               2008  manual    105      leon   \n",
       "\n",
       "        kilometer  registration_month fuel_type          brand not_repaired  \n",
       "3551       150000                   8    petrol     volkswagen           no  \n",
       "3786       150000                   6  gasoline     volkswagen           no  \n",
       "3907       150000                  12    petrol           opel           no  \n",
       "4134        20000                   9  gasoline     volkswagen           no  \n",
       "4222       100000                   3  gasoline           audi           no  \n",
       "...           ...                 ...       ...            ...          ...  \n",
       "354320     150000                   4    petrol     volkswagen          n/a  \n",
       "354325     150000                   7    petrol        porsche           no  \n",
       "354333     125000                  10    petrol          honda           no  \n",
       "354352     150000                   3  gasoline  mercedes_benz           no  \n",
       "354355     150000                   7  gasoline           seat           no  \n",
       "\n",
       "[22769 rows x 11 columns]"
      ]
     },
     "metadata": {},
     "output_type": "display_data"
    }
   ],
   "source": [
    "display(df.duplicated().sum(), df[df.duplicated()])"
   ]
  },
  {
   "cell_type": "code",
   "execution_count": 17,
   "metadata": {},
   "outputs": [
    {
     "data": {
      "text/plain": [
       "0"
      ]
     },
     "execution_count": 17,
     "metadata": {},
     "output_type": "execute_result"
    }
   ],
   "source": [
    "df.drop_duplicates(inplace=True)\n",
    "df.duplicated().sum()"
   ]
  },
  {
   "cell_type": "markdown",
   "metadata": {},
   "source": [
    "Перейдем к обучению моделей"
   ]
  },
  {
   "cell_type": "markdown",
   "metadata": {},
   "source": [
    "## Обучение моделей"
   ]
  },
  {
   "cell_type": "markdown",
   "metadata": {},
   "source": [
    "Сделаем свой скорер"
   ]
  },
  {
   "cell_type": "code",
   "execution_count": 18,
   "metadata": {},
   "outputs": [],
   "source": [
    "def rmse(y, predictions):\n",
    "    return mse(y, predictions) ** .5\n",
    "\n",
    "rmse_score = make_scorer(rmse, greater_is_better=False)"
   ]
  },
  {
   "cell_type": "code",
   "execution_count": 19,
   "metadata": {},
   "outputs": [],
   "source": [
    "cv = KFold(n_splits=5, shuffle=True, random_state=42)"
   ]
  },
  {
   "cell_type": "markdown",
   "metadata": {},
   "source": [
    "Закодируем данные и разобьем на обучающую и тестовую выборки"
   ]
  },
  {
   "cell_type": "code",
   "execution_count": 20,
   "metadata": {},
   "outputs": [],
   "source": [
    "X = df.drop('price', axis=1)\n",
    "y = df['price']"
   ]
  },
  {
   "cell_type": "code",
   "execution_count": 21,
   "metadata": {},
   "outputs": [],
   "source": [
    "cbe_encoder = ce.cat_boost.CatBoostEncoder()\n",
    "cbe_encoder.fit(X, y)\n",
    "X_enc = cbe_encoder.transform(X)"
   ]
  },
  {
   "cell_type": "code",
   "execution_count": 22,
   "metadata": {},
   "outputs": [],
   "source": [
    "X_train, X_test, y_train, y_test = train_test_split(X, y, random_state=42, test_size=.2)\n",
    "X_train_e, X_test_e, y_train_e, y_test_e = train_test_split(X_enc, y, random_state=42, test_size=.2)\n"
   ]
  },
  {
   "cell_type": "code",
   "execution_count": 23,
   "metadata": {},
   "outputs": [],
   "source": [
    "cat_features = ['vehicle_type', 'gearbox', 'model', 'fuel_type', 'brand', 'not_repaired']"
   ]
  },
  {
   "cell_type": "markdown",
   "metadata": {},
   "source": [
    "Создадим функцию подсчета времени"
   ]
  },
  {
   "cell_type": "code",
   "execution_count": 24,
   "metadata": {},
   "outputs": [],
   "source": [
    "def model_time(model, X_train, y_train, X_test, y_test):\n",
    "    start = time.time()\n",
    "    model.fit(X_train, y_train)\n",
    "    fit_time = time.time() - start\n",
    "    start = time.time()\n",
    "    pred = model.predict(X_test)\n",
    "    pred_time = time.time() - start\n",
    "    score = rmse(pred, y_test)\n",
    "    return fit_time, pred_time, score\n",
    "\n",
    "res = []"
   ]
  },
  {
   "cell_type": "markdown",
   "metadata": {},
   "source": [
    "Обучим модели"
   ]
  },
  {
   "cell_type": "markdown",
   "metadata": {},
   "source": [
    "### DummyRegressor"
   ]
  },
  {
   "cell_type": "code",
   "execution_count": 25,
   "metadata": {},
   "outputs": [
    {
     "data": {
      "text/plain": [
       "4660.980179941895"
      ]
     },
     "execution_count": 25,
     "metadata": {},
     "output_type": "execute_result"
    }
   ],
   "source": [
    "dummy = DummyRegressor(strategy=\"mean\", ).fit(X_train_e, y_train_e)\n",
    "res.append(model_time(dummy, X_train_e, y_train_e, X_test_e, y_test_e))\n",
    "rmse(y_test, dummy.predict(X_test))"
   ]
  },
  {
   "cell_type": "markdown",
   "metadata": {},
   "source": [
    "### LGBMRegressor"
   ]
  },
  {
   "cell_type": "code",
   "execution_count": 26,
   "metadata": {},
   "outputs": [],
   "source": [
    "estim = LGBMRegressor(boosting_type='gbdt', random_state=42)\n",
    "\n",
    "params = {\n",
    "    'n_estimators': [60, 150],\n",
    "    'num_leaves': [21, 31, 41],\n",
    "    'learning_rate': np.logspace(-2, 5),\n",
    "}\n",
    "\n",
    "grid_lgbm = GridSearchCV(estimator=estim, param_grid=params, cv=cv, \\\n",
    "                         scoring=rmse_score, n_jobs=-1)\n",
    "\n",
    "X[cat_features] = X[cat_features].astype('category')\n",
    "X_train_l, X_test_l, y_train_l, y_test_l = train_test_split(X, y, random_state=42, test_size=.2)"
   ]
  },
  {
   "cell_type": "code",
   "execution_count": 27,
   "metadata": {},
   "outputs": [
    {
     "name": "stdout",
     "output_type": "stream",
     "text": [
      "CPU times: total: 27.2 s\n",
      "Wall time: 10min 13s\n"
     ]
    },
    {
     "data": {
      "text/plain": [
       "GridSearchCV(cv=KFold(n_splits=5, random_state=42, shuffle=True),\n",
       "             estimator=LGBMRegressor(random_state=42), n_jobs=-1,\n",
       "             param_grid={'learning_rate': array([1.00000000e-02, 1.38949549e-02, 1.93069773e-02, 2.68269580e-02,\n",
       "       3.72759372e-02, 5.17947468e-02, 7.19685673e-02, 1.00000000e-01,\n",
       "       1.38949549e-01, 1.93069773e-01, 2.68269580e-01, 3.72759372e-01,\n",
       "       5.17947468e-01, 7.1968...\n",
       "       3.72759372e+02, 5.17947468e+02, 7.19685673e+02, 1.00000000e+03,\n",
       "       1.38949549e+03, 1.93069773e+03, 2.68269580e+03, 3.72759372e+03,\n",
       "       5.17947468e+03, 7.19685673e+03, 1.00000000e+04, 1.38949549e+04,\n",
       "       1.93069773e+04, 2.68269580e+04, 3.72759372e+04, 5.17947468e+04,\n",
       "       7.19685673e+04, 1.00000000e+05]),\n",
       "                         'n_estimators': [60, 150],\n",
       "                         'num_leaves': [21, 31, 41]},\n",
       "             scoring=make_scorer(rmse, greater_is_better=False))"
      ]
     },
     "execution_count": 27,
     "metadata": {},
     "output_type": "execute_result"
    }
   ],
   "source": [
    "%%time\n",
    "grid_lgbm.fit(X_train_l, y_train_l)"
   ]
  },
  {
   "cell_type": "code",
   "execution_count": 28,
   "metadata": {},
   "outputs": [
    {
     "data": {
      "text/plain": [
       "{'learning_rate': 0.19306977288832497, 'n_estimators': 150, 'num_leaves': 41}"
      ]
     },
     "metadata": {},
     "output_type": "display_data"
    },
    {
     "data": {
      "text/plain": [
       "-1536.2956750604712"
      ]
     },
     "metadata": {},
     "output_type": "display_data"
    }
   ],
   "source": [
    "res.append(model_time(grid_lgbm.best_estimator_, X_train_l, y_train_l, X_test_l, y_test_l))\n",
    "display(grid_lgbm.best_params_, grid_lgbm.best_score_)"
   ]
  },
  {
   "cell_type": "markdown",
   "metadata": {},
   "source": [
    "### CatBoostRegressor"
   ]
  },
  {
   "cell_type": "code",
   "execution_count": 29,
   "metadata": {},
   "outputs": [
    {
     "name": "stdout",
     "output_type": "stream",
     "text": [
      "\n",
      "bestTest = 1941.657147\n",
      "bestIteration = 59\n",
      "\n",
      "\n",
      "bestTest = 1791.387233\n",
      "bestIteration = 149\n",
      "\n",
      "\n",
      "bestTest = 1819.047239\n",
      "bestIteration = 59\n",
      "\n",
      "\n",
      "bestTest = 1698.870313\n",
      "bestIteration = 149\n",
      "\n",
      "Training on fold [0/5]\n",
      "\n",
      "bestTest = 1712.660351\n",
      "bestIteration = 149\n",
      "\n",
      "Training on fold [1/5]\n",
      "\n",
      "bestTest = 1698.196987\n",
      "bestIteration = 149\n",
      "\n",
      "Training on fold [2/5]\n",
      "\n",
      "bestTest = 1680.295231\n",
      "bestIteration = 149\n",
      "\n",
      "Training on fold [3/5]\n",
      "\n",
      "bestTest = 1698.444425\n",
      "bestIteration = 149\n",
      "\n",
      "Training on fold [4/5]\n",
      "\n",
      "bestTest = 1700.725252\n",
      "bestIteration = 149\n",
      "\n"
     ]
    },
    {
     "data": {
      "text/plain": [
       "{'params': {'depth': 5, 'iterations': 150, 'learning_rate': 0.1},\n",
       " 'cv_results': defaultdict(list,\n",
       "             {'iterations': [0,\n",
       "               1,\n",
       "               2,\n",
       "               3,\n",
       "               4,\n",
       "               5,\n",
       "               6,\n",
       "               7,\n",
       "               8,\n",
       "               9,\n",
       "               10,\n",
       "               11,\n",
       "               12,\n",
       "               13,\n",
       "               14,\n",
       "               15,\n",
       "               16,\n",
       "               17,\n",
       "               18,\n",
       "               19,\n",
       "               20,\n",
       "               21,\n",
       "               22,\n",
       "               23,\n",
       "               24,\n",
       "               25,\n",
       "               26,\n",
       "               27,\n",
       "               28,\n",
       "               29,\n",
       "               30,\n",
       "               31,\n",
       "               32,\n",
       "               33,\n",
       "               34,\n",
       "               35,\n",
       "               36,\n",
       "               37,\n",
       "               38,\n",
       "               39,\n",
       "               40,\n",
       "               41,\n",
       "               42,\n",
       "               43,\n",
       "               44,\n",
       "               45,\n",
       "               46,\n",
       "               47,\n",
       "               48,\n",
       "               49,\n",
       "               50,\n",
       "               51,\n",
       "               52,\n",
       "               53,\n",
       "               54,\n",
       "               55,\n",
       "               56,\n",
       "               57,\n",
       "               58,\n",
       "               59,\n",
       "               60,\n",
       "               61,\n",
       "               62,\n",
       "               63,\n",
       "               64,\n",
       "               65,\n",
       "               66,\n",
       "               67,\n",
       "               68,\n",
       "               69,\n",
       "               70,\n",
       "               71,\n",
       "               72,\n",
       "               73,\n",
       "               74,\n",
       "               75,\n",
       "               76,\n",
       "               77,\n",
       "               78,\n",
       "               79,\n",
       "               80,\n",
       "               81,\n",
       "               82,\n",
       "               83,\n",
       "               84,\n",
       "               85,\n",
       "               86,\n",
       "               87,\n",
       "               88,\n",
       "               89,\n",
       "               90,\n",
       "               91,\n",
       "               92,\n",
       "               93,\n",
       "               94,\n",
       "               95,\n",
       "               96,\n",
       "               97,\n",
       "               98,\n",
       "               99,\n",
       "               100,\n",
       "               101,\n",
       "               102,\n",
       "               103,\n",
       "               104,\n",
       "               105,\n",
       "               106,\n",
       "               107,\n",
       "               108,\n",
       "               109,\n",
       "               110,\n",
       "               111,\n",
       "               112,\n",
       "               113,\n",
       "               114,\n",
       "               115,\n",
       "               116,\n",
       "               117,\n",
       "               118,\n",
       "               119,\n",
       "               120,\n",
       "               121,\n",
       "               122,\n",
       "               123,\n",
       "               124,\n",
       "               125,\n",
       "               126,\n",
       "               127,\n",
       "               128,\n",
       "               129,\n",
       "               130,\n",
       "               131,\n",
       "               132,\n",
       "               133,\n",
       "               134,\n",
       "               135,\n",
       "               136,\n",
       "               137,\n",
       "               138,\n",
       "               139,\n",
       "               140,\n",
       "               141,\n",
       "               142,\n",
       "               143,\n",
       "               144,\n",
       "               145,\n",
       "               146,\n",
       "               147,\n",
       "               148,\n",
       "               149],\n",
       "              'test-RMSE-mean': [6288.697388889841,\n",
       "               5777.060931986939,\n",
       "               5319.262832486291,\n",
       "               4917.198207384686,\n",
       "               4559.544537512259,\n",
       "               4243.112340550348,\n",
       "               3967.3100875610276,\n",
       "               3721.2274419477462,\n",
       "               3506.1925504374144,\n",
       "               3318.627187504768,\n",
       "               3153.576382716803,\n",
       "               3009.096572837916,\n",
       "               2880.815912742419,\n",
       "               2772.2509711058947,\n",
       "               2674.652215089519,\n",
       "               2580.980345412668,\n",
       "               2497.651881496005,\n",
       "               2425.2400841321632,\n",
       "               2364.508881739467,\n",
       "               2310.8699523635223,\n",
       "               2264.8916416947095,\n",
       "               2223.8002333464983,\n",
       "               2186.7986160738665,\n",
       "               2152.733750314132,\n",
       "               2123.1084932018703,\n",
       "               2096.5287564392515,\n",
       "               2071.5900325314306,\n",
       "               2050.4185831118643,\n",
       "               2032.4475339905173,\n",
       "               2015.4262421579929,\n",
       "               1999.294744915899,\n",
       "               1984.3442472757001,\n",
       "               1969.2046296128192,\n",
       "               1955.3728487224787,\n",
       "               1944.2661509593424,\n",
       "               1934.6015164587548,\n",
       "               1924.3365827310874,\n",
       "               1916.3142057467412,\n",
       "               1908.4135262987274,\n",
       "               1901.7529509939693,\n",
       "               1895.5164041416788,\n",
       "               1889.7228763096252,\n",
       "               1884.884917666675,\n",
       "               1879.8601938590286,\n",
       "               1875.1749153194487,\n",
       "               1871.1905573091476,\n",
       "               1866.8903826332044,\n",
       "               1862.8343871486704,\n",
       "               1859.133778297083,\n",
       "               1855.1523353522334,\n",
       "               1851.6233199266578,\n",
       "               1848.2627858970445,\n",
       "               1845.1048425368147,\n",
       "               1841.820971750516,\n",
       "               1838.1927411094753,\n",
       "               1835.4757328020346,\n",
       "               1832.8183792867421,\n",
       "               1829.7350240017338,\n",
       "               1827.1280309572649,\n",
       "               1823.7787632213433,\n",
       "               1821.2621051418944,\n",
       "               1818.0554000412965,\n",
       "               1815.4363544607477,\n",
       "               1812.727460450069,\n",
       "               1810.4469627380554,\n",
       "               1808.0890761898743,\n",
       "               1806.1175771876285,\n",
       "               1804.1742737758716,\n",
       "               1802.1690047392094,\n",
       "               1800.1877013134497,\n",
       "               1797.0997200163602,\n",
       "               1794.776987570514,\n",
       "               1792.5653501946265,\n",
       "               1790.6359024153262,\n",
       "               1788.7916682101454,\n",
       "               1786.806829392946,\n",
       "               1785.3337784657392,\n",
       "               1783.6748946918706,\n",
       "               1782.0018816994677,\n",
       "               1779.3806766158007,\n",
       "               1777.466619233925,\n",
       "               1775.9186656709685,\n",
       "               1773.9327378021662,\n",
       "               1772.5685563787822,\n",
       "               1770.8582740124261,\n",
       "               1769.3689678817125,\n",
       "               1767.507959746644,\n",
       "               1765.1759958738476,\n",
       "               1763.5069100229848,\n",
       "               1762.2977499705587,\n",
       "               1760.154089036617,\n",
       "               1758.1965623769672,\n",
       "               1757.0187462147526,\n",
       "               1754.8853297041285,\n",
       "               1753.72056280629,\n",
       "               1752.5817900416885,\n",
       "               1751.0237506696462,\n",
       "               1749.7135910928548,\n",
       "               1748.2621492791855,\n",
       "               1746.7652399216738,\n",
       "               1745.609007665851,\n",
       "               1744.1416738566634,\n",
       "               1742.92092947193,\n",
       "               1741.0622146167213,\n",
       "               1739.3908113501755,\n",
       "               1737.856483211975,\n",
       "               1736.3527364206961,\n",
       "               1735.174442006537,\n",
       "               1734.0390956652723,\n",
       "               1732.3135406815575,\n",
       "               1731.3335155042387,\n",
       "               1730.3541059403603,\n",
       "               1729.4639239385488,\n",
       "               1728.47316402076,\n",
       "               1727.3131391565682,\n",
       "               1726.1747288986012,\n",
       "               1725.3216116179713,\n",
       "               1724.3748848968576,\n",
       "               1723.3243186572079,\n",
       "               1722.21699654591,\n",
       "               1721.1092728830467,\n",
       "               1720.24676646715,\n",
       "               1719.4715241687568,\n",
       "               1718.7674567389317,\n",
       "               1717.8297823499386,\n",
       "               1717.132451545524,\n",
       "               1716.2105951444005,\n",
       "               1715.3141643520441,\n",
       "               1714.2188701385924,\n",
       "               1713.3234767113565,\n",
       "               1712.562155147638,\n",
       "               1711.8903943410533,\n",
       "               1711.0017217934753,\n",
       "               1709.9721371047704,\n",
       "               1709.1798072338072,\n",
       "               1708.4055987517754,\n",
       "               1707.546548250127,\n",
       "               1706.9769050952468,\n",
       "               1706.0141026954284,\n",
       "               1704.8831135072512,\n",
       "               1704.253629763653,\n",
       "               1703.4039510546277,\n",
       "               1702.7296200445103,\n",
       "               1701.9871903229093,\n",
       "               1701.5273876339793,\n",
       "               1700.9961654437006,\n",
       "               1700.3625761498647,\n",
       "               1699.6312006270298,\n",
       "               1698.7543310038611,\n",
       "               1698.0644492715196],\n",
       "              'test-RMSE-std': [23.172168251383738,\n",
       "               24.939061254525875,\n",
       "               21.516892136815596,\n",
       "               19.581936672513994,\n",
       "               17.22258854986293,\n",
       "               16.488456636051335,\n",
       "               14.39132149429107,\n",
       "               12.174874002743664,\n",
       "               11.278239989435933,\n",
       "               7.559950250828016,\n",
       "               10.357507997556983,\n",
       "               10.569488374728255,\n",
       "               11.767792291430194,\n",
       "               10.644490250109792,\n",
       "               13.111406603733348,\n",
       "               17.545005105885792,\n",
       "               15.199769190886464,\n",
       "               12.782899440905046,\n",
       "               10.91231333430878,\n",
       "               10.084616445741831,\n",
       "               9.744081681117677,\n",
       "               8.736811289361201,\n",
       "               7.400685963342889,\n",
       "               8.235514928547527,\n",
       "               9.059684575519874,\n",
       "               8.666737189061408,\n",
       "               8.232639898836977,\n",
       "               7.7865212251514135,\n",
       "               7.9351780093330735,\n",
       "               7.77407805641367,\n",
       "               8.371372308347258,\n",
       "               6.562214367604174,\n",
       "               6.387992439577433,\n",
       "               6.113150386879532,\n",
       "               6.629751321062311,\n",
       "               6.867497508391155,\n",
       "               7.973047432389344,\n",
       "               8.396100777335812,\n",
       "               8.616803293759588,\n",
       "               8.871348791100184,\n",
       "               9.418539799144224,\n",
       "               9.670894358848535,\n",
       "               9.50594578787748,\n",
       "               9.572327196746848,\n",
       "               9.924056281091985,\n",
       "               10.2957791485763,\n",
       "               10.702501312394675,\n",
       "               10.491780692849407,\n",
       "               10.502114668969488,\n",
       "               10.811777781962531,\n",
       "               10.746917277575795,\n",
       "               10.817623709886526,\n",
       "               10.716892326642425,\n",
       "               11.176681078196598,\n",
       "               10.623824895736519,\n",
       "               10.53575344835566,\n",
       "               10.573946657947674,\n",
       "               10.375728577159691,\n",
       "               10.538172744033234,\n",
       "               11.312800791585964,\n",
       "               11.484645058360517,\n",
       "               12.145968754193143,\n",
       "               12.279797060005885,\n",
       "               12.709469603314702,\n",
       "               12.51117859188215,\n",
       "               12.298596072589794,\n",
       "               12.072711621434047,\n",
       "               12.418400542663768,\n",
       "               12.414820196992373,\n",
       "               12.82107782666654,\n",
       "               13.8448476281725,\n",
       "               13.845797708609746,\n",
       "               13.588947369422419,\n",
       "               13.737499624209757,\n",
       "               13.695860852691442,\n",
       "               13.665349982699983,\n",
       "               13.56060047468777,\n",
       "               13.431155190457563,\n",
       "               12.785307058661989,\n",
       "               12.320588054509537,\n",
       "               12.076493622413334,\n",
       "               11.94005201391003,\n",
       "               12.277432789319828,\n",
       "               12.587619863725331,\n",
       "               12.633275082780395,\n",
       "               12.885497396988367,\n",
       "               12.681884453263908,\n",
       "               11.87800226730403,\n",
       "               11.780538257510491,\n",
       "               11.799421718155173,\n",
       "               12.577823187520488,\n",
       "               12.536463979608186,\n",
       "               12.660414536734857,\n",
       "               12.312302856845664,\n",
       "               12.205520415621402,\n",
       "               12.427240384796443,\n",
       "               12.280279992632888,\n",
       "               11.456432519174893,\n",
       "               11.387490361070522,\n",
       "               11.686332680365988,\n",
       "               11.749079648600818,\n",
       "               11.52375965368734,\n",
       "               11.946303259537931,\n",
       "               11.233418373056951,\n",
       "               11.099661129947037,\n",
       "               11.21306701818585,\n",
       "               11.683210501246563,\n",
       "               11.226601185105881,\n",
       "               11.085334018071165,\n",
       "               10.627577583857557,\n",
       "               10.531689879489658,\n",
       "               10.762672512345352,\n",
       "               10.774545215682101,\n",
       "               10.88651820485658,\n",
       "               11.071924978789257,\n",
       "               10.923114176053154,\n",
       "               11.014921387767927,\n",
       "               10.951767705782327,\n",
       "               10.762568852069455,\n",
       "               10.779042165780144,\n",
       "               11.014500705230873,\n",
       "               11.086287483649208,\n",
       "               10.967075290836165,\n",
       "               11.022446358360419,\n",
       "               11.357387528646024,\n",
       "               11.278604682207982,\n",
       "               11.731957877045996,\n",
       "               11.774785162541928,\n",
       "               11.791714439381689,\n",
       "               11.747825504117827,\n",
       "               11.56938662361309,\n",
       "               11.400994151834992,\n",
       "               11.387008618831823,\n",
       "               11.657594022151185,\n",
       "               11.649153019244878,\n",
       "               11.608282081394881,\n",
       "               11.496158596599592,\n",
       "               11.638653418101887,\n",
       "               11.771124718160758,\n",
       "               11.920944213469605,\n",
       "               11.95688894239207,\n",
       "               11.731770255880322,\n",
       "               11.682041084048564,\n",
       "               11.596814629343758,\n",
       "               11.59791425236965,\n",
       "               11.524845030563243,\n",
       "               11.52158417691495,\n",
       "               11.556064219441986,\n",
       "               11.5905702338391,\n",
       "               11.576131513775643],\n",
       "              'train-RMSE-mean': [6288.519598436934,\n",
       "               5776.594245564954,\n",
       "               5318.630589666124,\n",
       "               4916.386541876859,\n",
       "               4558.691919180792,\n",
       "               4243.044522617003,\n",
       "               3967.0015563972365,\n",
       "               3721.072880825651,\n",
       "               3505.9138607347145,\n",
       "               3318.4676759744516,\n",
       "               3152.828586122899,\n",
       "               3007.7389135601798,\n",
       "               2879.6716391311033,\n",
       "               2770.9929511853675,\n",
       "               2672.957587421852,\n",
       "               2579.1857212157383,\n",
       "               2495.9526005914076,\n",
       "               2423.2757455928336,\n",
       "               2362.297692732478,\n",
       "               2308.450569742649,\n",
       "               2262.427265920316,\n",
       "               2221.5348618934895,\n",
       "               2184.571431979964,\n",
       "               2150.838255935306,\n",
       "               2121.2090524170344,\n",
       "               2094.5258432966134,\n",
       "               2069.682042965106,\n",
       "               2048.3166999876366,\n",
       "               2029.9949216332395,\n",
       "               2013.172985387985,\n",
       "               1997.5413125478965,\n",
       "               1982.587420679853,\n",
       "               1967.528782131111,\n",
       "               1954.4481935345416,\n",
       "               1943.4574288047884,\n",
       "               1933.4087820107536,\n",
       "               1923.3731008324896,\n",
       "               1915.4200698757486,\n",
       "               1907.5234238366982,\n",
       "               1900.9465428119431,\n",
       "               1894.8149021908255,\n",
       "               1888.8445720909526,\n",
       "               1883.832524934022,\n",
       "               1878.7669703336549,\n",
       "               1874.0642249647008,\n",
       "               1869.6475262172164,\n",
       "               1865.3495432927484,\n",
       "               1861.1618281004667,\n",
       "               1857.4654576418022,\n",
       "               1853.555962652429,\n",
       "               1850.014904019749,\n",
       "               1846.3938295512035,\n",
       "               1843.1863046670278,\n",
       "               1839.8050748887174,\n",
       "               1836.2448710318781,\n",
       "               1833.0580489890904,\n",
       "               1830.4122748344853,\n",
       "               1827.3132394033769,\n",
       "               1824.517563329739,\n",
       "               1821.0853511011896,\n",
       "               1818.4359251385808,\n",
       "               1815.1724724532814,\n",
       "               1812.4124476226093,\n",
       "               1809.5998866345915,\n",
       "               1807.3342619793978,\n",
       "               1804.7641107288734,\n",
       "               1802.7814527004648,\n",
       "               1800.7966706959978,\n",
       "               1798.7242910389607,\n",
       "               1796.566620437695,\n",
       "               1793.5483746723926,\n",
       "               1791.273372545691,\n",
       "               1789.0232109084554,\n",
       "               1786.983241477899,\n",
       "               1785.0589014323516,\n",
       "               1783.1130462574827,\n",
       "               1781.521251212555,\n",
       "               1779.7365657085982,\n",
       "               1777.973347223958,\n",
       "               1775.7361056220566,\n",
       "               1773.9279115406339,\n",
       "               1772.5022606722105,\n",
       "               1770.5955291616526,\n",
       "               1768.9352800148458,\n",
       "               1767.1495448794624,\n",
       "               1765.6071277846397,\n",
       "               1763.5681463019741,\n",
       "               1761.0723991234026,\n",
       "               1759.3848469629745,\n",
       "               1758.158966554028,\n",
       "               1756.0539033478865,\n",
       "               1753.924357066299,\n",
       "               1752.8294439523008,\n",
       "               1750.7422498527799,\n",
       "               1749.4478357893245,\n",
       "               1748.278165661457,\n",
       "               1746.9047041780154,\n",
       "               1745.5065070628668,\n",
       "               1744.125862894535,\n",
       "               1742.650665939907,\n",
       "               1741.3471165659298,\n",
       "               1739.841379004789,\n",
       "               1738.519886403998,\n",
       "               1736.617695610407,\n",
       "               1734.6858021616542,\n",
       "               1733.097387391384,\n",
       "               1731.5112743962795,\n",
       "               1730.2707911653529,\n",
       "               1728.9902477204341,\n",
       "               1727.1056195743163,\n",
       "               1726.0454718556525,\n",
       "               1724.9773800115886,\n",
       "               1723.9318725968674,\n",
       "               1722.9768693593408,\n",
       "               1721.814460869462,\n",
       "               1720.6303006309456,\n",
       "               1719.6992077246662,\n",
       "               1718.7540793051442,\n",
       "               1717.650412821696,\n",
       "               1716.4440342707235,\n",
       "               1715.2425117775413,\n",
       "               1714.3410490528827,\n",
       "               1713.4819297771123,\n",
       "               1712.6182413645897,\n",
       "               1711.5990695030523,\n",
       "               1710.8358399318772,\n",
       "               1709.9469789570144,\n",
       "               1709.0597493572404,\n",
       "               1707.8741470269665,\n",
       "               1706.8401087728457,\n",
       "               1705.961651401591,\n",
       "               1705.1915047427042,\n",
       "               1704.3432139715828,\n",
       "               1703.0868869681121,\n",
       "               1702.1923323442704,\n",
       "               1701.2975719596175,\n",
       "               1700.3228324203858,\n",
       "               1699.4822868413194,\n",
       "               1698.4772261558828,\n",
       "               1697.2675195020406,\n",
       "               1696.5545541240795,\n",
       "               1695.607094485206,\n",
       "               1694.838300751871,\n",
       "               1694.056834870397,\n",
       "               1693.4251779056704,\n",
       "               1692.8472703764305,\n",
       "               1692.099098020354,\n",
       "               1691.3362668230081,\n",
       "               1690.3388461611248,\n",
       "               1689.6502079338302],\n",
       "              'train-RMSE-std': [3.4896906696745624,\n",
       "               4.498723832334003,\n",
       "               3.6821629978805284,\n",
       "               4.354683864381307,\n",
       "               2.9539206944620573,\n",
       "               2.8394388072248398,\n",
       "               2.0385367705784487,\n",
       "               3.216482793492537,\n",
       "               3.7642182475837562,\n",
       "               5.96928880495784,\n",
       "               3.731539024496317,\n",
       "               3.690967607918233,\n",
       "               4.282427055473064,\n",
       "               5.044386157586553,\n",
       "               10.502295926700992,\n",
       "               11.755483685432663,\n",
       "               9.644261807052011,\n",
       "               7.4413341736665695,\n",
       "               5.622083587884632,\n",
       "               6.149238772310882,\n",
       "               6.127667266171679,\n",
       "               5.672467480102348,\n",
       "               7.158343221050891,\n",
       "               6.939843364006757,\n",
       "               6.558294619638459,\n",
       "               6.11824328521812,\n",
       "               5.278502808628287,\n",
       "               5.025931087760788,\n",
       "               4.573126038011666,\n",
       "               4.294240916678708,\n",
       "               5.274236750953729,\n",
       "               6.026148923551135,\n",
       "               5.7809944368374735,\n",
       "               5.615557284229135,\n",
       "               5.287651812585475,\n",
       "               5.1230716263499625,\n",
       "               4.367219435150257,\n",
       "               4.316024712026316,\n",
       "               3.824707437725231,\n",
       "               4.0067065904387125,\n",
       "               4.285946711869171,\n",
       "               4.237534311657174,\n",
       "               4.6487028973600175,\n",
       "               4.5959338907694605,\n",
       "               4.16139103469254,\n",
       "               4.677171455323215,\n",
       "               4.879363956316339,\n",
       "               4.387497928062807,\n",
       "               4.703299027574494,\n",
       "               3.813080477291755,\n",
       "               4.456586295840446,\n",
       "               4.682971092349472,\n",
       "               4.6242057896147,\n",
       "               4.291822094015035,\n",
       "               4.804939678096654,\n",
       "               5.115307323567463,\n",
       "               4.8537561167601995,\n",
       "               5.438959053988841,\n",
       "               5.91474039021122,\n",
       "               5.461722571000377,\n",
       "               4.765495216435464,\n",
       "               4.356965663519616,\n",
       "               4.7335513183233555,\n",
       "               4.223217057506037,\n",
       "               4.031175403704087,\n",
       "               4.001109895477714,\n",
       "               3.793407049930012,\n",
       "               4.0671157441362435,\n",
       "               3.894333703461697,\n",
       "               3.5368683988365888,\n",
       "               3.589853616624328,\n",
       "               3.6979426477753092,\n",
       "               3.0614305467638876,\n",
       "               3.025355116155701,\n",
       "               2.959813669510228,\n",
       "               2.7797424604903034,\n",
       "               3.1561926136820158,\n",
       "               3.6806304574653783,\n",
       "               4.480442167253362,\n",
       "               3.8127834939582845,\n",
       "               3.544202239089744,\n",
       "               3.420189176621384,\n",
       "               2.983185734906882,\n",
       "               2.635468232168134,\n",
       "               2.6051015706829572,\n",
       "               2.46472823855845,\n",
       "               3.2144440198439153,\n",
       "               4.203493710765712,\n",
       "               4.162866771913096,\n",
       "               3.934596001925026,\n",
       "               3.665554111815611,\n",
       "               2.9635142558837613,\n",
       "               3.103055058910067,\n",
       "               3.1934496547479974,\n",
       "               3.5519064553009936,\n",
       "               3.3209662381992655,\n",
       "               3.274557937044574,\n",
       "               4.173193811360283,\n",
       "               4.2724583642011655,\n",
       "               4.209552023211044,\n",
       "               3.9620524057902773,\n",
       "               4.229909867115233,\n",
       "               4.2374124146336305,\n",
       "               3.877378946377822,\n",
       "               3.50156981513228,\n",
       "               3.6705242150293476,\n",
       "               3.305220889054928,\n",
       "               3.7515598866587134,\n",
       "               3.890411082105684,\n",
       "               4.328929043315574,\n",
       "               4.462632935579026,\n",
       "               4.402629461737453,\n",
       "               4.242701605542947,\n",
       "               4.221054004363144,\n",
       "               3.90858076543948,\n",
       "               3.9240759657493127,\n",
       "               3.8377809410090076,\n",
       "               3.8950873674708215,\n",
       "               4.144799199018255,\n",
       "               4.145872372359438,\n",
       "               4.174302719822815,\n",
       "               4.124593944260763,\n",
       "               4.421863293205797,\n",
       "               4.315423504162917,\n",
       "               4.128860483229625,\n",
       "               4.103623210344049,\n",
       "               3.7967713788181583,\n",
       "               3.6781651655752277,\n",
       "               3.7527482842692246,\n",
       "               3.779671823238939,\n",
       "               3.7884462390518387,\n",
       "               3.8241849451453414,\n",
       "               3.7340034206336905,\n",
       "               3.2914655603870244,\n",
       "               3.297767374052029,\n",
       "               3.26698318150912,\n",
       "               3.3485931685295522,\n",
       "               3.126641330094054,\n",
       "               3.0562779038791907,\n",
       "               3.0255870502475783,\n",
       "               3.0067376595629813,\n",
       "               3.239239914140301,\n",
       "               3.353687236851199,\n",
       "               3.5245689142548926,\n",
       "               3.575612175571336,\n",
       "               3.6915525232294875,\n",
       "               3.702781543218063,\n",
       "               3.6077348374747977,\n",
       "               3.610589520013474,\n",
       "               3.545024576882149]})}"
      ]
     },
     "execution_count": 29,
     "metadata": {},
     "output_type": "execute_result"
    }
   ],
   "source": [
    "cb = CatBoostRegressor(loss_function='RMSE', silent=True, random_state=42)\n",
    "\n",
    "params = {\n",
    "    'n_estimators': [60, 150],\n",
    "    'learning_rate': [0.1],\n",
    "    'depth': [3, 5]\n",
    "}\n",
    "\n",
    "train_pool = Pool(X_train, y_train, cat_features=cat_features) \n",
    "test_pool = Pool(X_test, y_test, cat_features=cat_features)\n",
    "\n",
    "cb.grid_search(params, train_pool, cv=cv, verbose=False)"
   ]
  },
  {
   "cell_type": "code",
   "execution_count": 30,
   "metadata": {},
   "outputs": [],
   "source": [
    "start = time.time()\n",
    "cb.fit(train_pool)\n",
    "fit_time = time.time() - start\n",
    "start = time.time()\n",
    "pred = cb.predict(X_test)\n",
    "pred_time = time.time() - start\n",
    "score = rmse(pred, y_test)\n",
    "res.append([fit_time, pred_time, score])"
   ]
  },
  {
   "cell_type": "code",
   "execution_count": 31,
   "metadata": {},
   "outputs": [
    {
     "name": "stdout",
     "output_type": "stream",
     "text": [
      "CPU times: total: 125 ms\n",
      "Wall time: 139 ms\n"
     ]
    },
    {
     "data": {
      "text/plain": [
       "1699.1641965355122"
      ]
     },
     "execution_count": 31,
     "metadata": {},
     "output_type": "execute_result"
    }
   ],
   "source": [
    "pred = %time cb.predict(X_test)\n",
    "rmse(y_test, pred)"
   ]
  },
  {
   "cell_type": "markdown",
   "metadata": {},
   "source": [
    "### LinearRegression"
   ]
  },
  {
   "cell_type": "code",
   "execution_count": 32,
   "metadata": {},
   "outputs": [],
   "source": [
    "estim = LinearRegression()\n",
    "\n",
    "params = {\n",
    "    'fit_intercept': [True, False],\n",
    "    'normalize': [True, False]\n",
    "}\n",
    "\n",
    "grid_lr = GridSearchCV(estimator=estim, param_grid=params, cv=cv, \\\n",
    "                       scoring=rmse_score, n_jobs=-1)"
   ]
  },
  {
   "cell_type": "code",
   "execution_count": 33,
   "metadata": {},
   "outputs": [
    {
     "name": "stdout",
     "output_type": "stream",
     "text": [
      "CPU times: total: 328 ms\n",
      "Wall time: 1.77 s\n"
     ]
    },
    {
     "data": {
      "text/plain": [
       "GridSearchCV(cv=KFold(n_splits=5, random_state=42, shuffle=True),\n",
       "             estimator=LinearRegression(), n_jobs=-1,\n",
       "             param_grid={'fit_intercept': [True, False],\n",
       "                         'normalize': [True, False]},\n",
       "             scoring=make_scorer(rmse, greater_is_better=False))"
      ]
     },
     "execution_count": 33,
     "metadata": {},
     "output_type": "execute_result"
    }
   ],
   "source": [
    "%%time\n",
    "grid_lr.fit(X_train_e, y_train_e)"
   ]
  },
  {
   "cell_type": "code",
   "execution_count": 34,
   "metadata": {},
   "outputs": [
    {
     "data": {
      "text/plain": [
       "{'fit_intercept': True, 'normalize': False}"
      ]
     },
     "metadata": {},
     "output_type": "display_data"
    },
    {
     "data": {
      "text/plain": [
       "-2726.174645677479"
      ]
     },
     "metadata": {},
     "output_type": "display_data"
    }
   ],
   "source": [
    "res.append(model_time(grid_lr.best_estimator_, X_train_e, y_train_e, X_test_e, y_test_e))\n",
    "display(grid_lr.best_params_, grid_lr.best_score_)"
   ]
  },
  {
   "cell_type": "markdown",
   "metadata": {},
   "source": [
    "## Анализ моделей"
   ]
  },
  {
   "cell_type": "code",
   "execution_count": 35,
   "metadata": {},
   "outputs": [
    {
     "data": {
      "text/html": [
       "<div>\n",
       "<style scoped>\n",
       "    .dataframe tbody tr th:only-of-type {\n",
       "        vertical-align: middle;\n",
       "    }\n",
       "\n",
       "    .dataframe tbody tr th {\n",
       "        vertical-align: top;\n",
       "    }\n",
       "\n",
       "    .dataframe thead th {\n",
       "        text-align: right;\n",
       "    }\n",
       "</style>\n",
       "<table border=\"1\" class=\"dataframe\">\n",
       "  <thead>\n",
       "    <tr style=\"text-align: right;\">\n",
       "      <th></th>\n",
       "      <th>fit_time</th>\n",
       "      <th>pred_time</th>\n",
       "      <th>score</th>\n",
       "    </tr>\n",
       "  </thead>\n",
       "  <tbody>\n",
       "    <tr>\n",
       "      <th>dummy</th>\n",
       "      <td>0.000000</td>\n",
       "      <td>0.001007</td>\n",
       "      <td>4660.980180</td>\n",
       "    </tr>\n",
       "    <tr>\n",
       "      <th>lgbm</th>\n",
       "      <td>1.166880</td>\n",
       "      <td>0.296205</td>\n",
       "      <td>1533.980264</td>\n",
       "    </tr>\n",
       "    <tr>\n",
       "      <th>catboost</th>\n",
       "      <td>8.189556</td>\n",
       "      <td>0.133343</td>\n",
       "      <td>1699.164197</td>\n",
       "    </tr>\n",
       "    <tr>\n",
       "      <th>lr</th>\n",
       "      <td>0.063856</td>\n",
       "      <td>0.019884</td>\n",
       "      <td>2718.270639</td>\n",
       "    </tr>\n",
       "  </tbody>\n",
       "</table>\n",
       "</div>"
      ],
      "text/plain": [
       "          fit_time  pred_time        score\n",
       "dummy     0.000000   0.001007  4660.980180\n",
       "lgbm      1.166880   0.296205  1533.980264\n",
       "catboost  8.189556   0.133343  1699.164197\n",
       "lr        0.063856   0.019884  2718.270639"
      ]
     },
     "execution_count": 35,
     "metadata": {},
     "output_type": "execute_result"
    }
   ],
   "source": [
    "result = pd.DataFrame(columns=['fit_time', 'pred_time', 'score'], data=res)    \n",
    "result.index = ['dummy', 'lgbm', 'catboost', 'lr']\n",
    "result\n"
   ]
  },
  {
   "cell_type": "markdown",
   "metadata": {},
   "source": [
    "## Вывод"
   ]
  },
  {
   "cell_type": "markdown",
   "metadata": {},
   "source": [
    "В ходе исследования были построены и проанализированы три модели - две модели с градиентным бустингом - LGBMRegressor и CatBoostRegressor, а так же более легковесную LinearRegression. Для сравнения использовал DummyRegressor. Модель LGBMRegressor является фаворитом по времени обучения, предсказания и оценки RMSE."
   ]
  }
 ],
 "metadata": {
  "ExecuteTimeLog": [
   {
    "duration": 3,
    "start_time": "2022-02-05T04:46:18.495Z"
   },
   {
    "duration": 3,
    "start_time": "2022-02-05T05:06:30.234Z"
   },
   {
    "duration": 1479,
    "start_time": "2022-02-05T05:06:30.240Z"
   },
   {
    "duration": -6849315,
    "start_time": "2022-02-05T07:00:41.037Z"
   },
   {
    "duration": -6849322,
    "start_time": "2022-02-05T07:00:41.045Z"
   },
   {
    "duration": -6849341,
    "start_time": "2022-02-05T07:00:41.065Z"
   },
   {
    "duration": -6849343,
    "start_time": "2022-02-05T07:00:41.068Z"
   },
   {
    "duration": -6849356,
    "start_time": "2022-02-05T07:00:41.082Z"
   },
   {
    "duration": -6849378,
    "start_time": "2022-02-05T07:00:41.105Z"
   },
   {
    "duration": -6849388,
    "start_time": "2022-02-05T07:00:41.116Z"
   },
   {
    "duration": -6849391,
    "start_time": "2022-02-05T07:00:41.120Z"
   },
   {
    "duration": -6849402,
    "start_time": "2022-02-05T07:00:41.132Z"
   },
   {
    "duration": -6849420,
    "start_time": "2022-02-05T07:00:41.151Z"
   },
   {
    "duration": -6849455,
    "start_time": "2022-02-05T07:00:41.186Z"
   },
   {
    "duration": -6849500,
    "start_time": "2022-02-05T07:00:41.232Z"
   },
   {
    "duration": -6849502,
    "start_time": "2022-02-05T07:00:41.235Z"
   },
   {
    "duration": -6849507,
    "start_time": "2022-02-05T07:00:41.241Z"
   },
   {
    "duration": -6849514,
    "start_time": "2022-02-05T07:00:41.249Z"
   },
   {
    "duration": -6849516,
    "start_time": "2022-02-05T07:00:41.252Z"
   },
   {
    "duration": -6849564,
    "start_time": "2022-02-05T07:00:41.301Z"
   },
   {
    "duration": -6849566,
    "start_time": "2022-02-05T07:00:41.304Z"
   },
   {
    "duration": -6849575,
    "start_time": "2022-02-05T07:00:41.314Z"
   },
   {
    "duration": -6849577,
    "start_time": "2022-02-05T07:00:41.317Z"
   },
   {
    "duration": -6849579,
    "start_time": "2022-02-05T07:00:41.320Z"
   },
   {
    "duration": -6849582,
    "start_time": "2022-02-05T07:00:41.324Z"
   },
   {
    "duration": -6849594,
    "start_time": "2022-02-05T07:00:41.337Z"
   },
   {
    "duration": -6849606,
    "start_time": "2022-02-05T07:00:41.350Z"
   },
   {
    "duration": -6849608,
    "start_time": "2022-02-05T07:00:41.353Z"
   },
   {
    "duration": -6849612,
    "start_time": "2022-02-05T07:00:41.358Z"
   },
   {
    "duration": -6849619,
    "start_time": "2022-02-05T07:00:41.366Z"
   },
   {
    "duration": -6849620,
    "start_time": "2022-02-05T07:00:41.368Z"
   },
   {
    "duration": -6849624,
    "start_time": "2022-02-05T07:00:41.373Z"
   },
   {
    "duration": -6849629,
    "start_time": "2022-02-05T07:00:41.379Z"
   },
   {
    "duration": -6849632,
    "start_time": "2022-02-05T07:00:41.382Z"
   },
   {
    "duration": -6849633,
    "start_time": "2022-02-05T07:00:41.384Z"
   },
   {
    "duration": 4984,
    "start_time": "2022-02-05T05:06:46.750Z"
   },
   {
    "duration": 3,
    "start_time": "2022-02-05T05:06:56.290Z"
   },
   {
    "duration": 105,
    "start_time": "2022-02-05T05:06:57.390Z"
   },
   {
    "duration": 3,
    "start_time": "2022-02-05T05:07:09.472Z"
   },
   {
    "duration": 990,
    "start_time": "2022-02-05T05:07:09.477Z"
   },
   {
    "duration": 427,
    "start_time": "2022-02-05T05:07:10.469Z"
   },
   {
    "duration": 4,
    "start_time": "2022-02-05T05:07:10.898Z"
   },
   {
    "duration": 64,
    "start_time": "2022-02-05T05:07:10.904Z"
   },
   {
    "duration": 136,
    "start_time": "2022-02-05T05:07:10.970Z"
   },
   {
    "duration": 86,
    "start_time": "2022-02-05T05:07:11.108Z"
   },
   {
    "duration": 63,
    "start_time": "2022-02-05T05:07:11.196Z"
   },
   {
    "duration": 32,
    "start_time": "2022-02-05T05:07:11.260Z"
   },
   {
    "duration": 226,
    "start_time": "2022-02-05T05:07:11.293Z"
   },
   {
    "duration": 75,
    "start_time": "2022-02-05T05:07:11.520Z"
   },
   {
    "duration": 238,
    "start_time": "2022-02-05T05:07:11.596Z"
   },
   {
    "duration": 76,
    "start_time": "2022-02-05T05:07:11.836Z"
   },
   {
    "duration": 224,
    "start_time": "2022-02-05T05:07:11.913Z"
   },
   {
    "duration": 177,
    "start_time": "2022-02-05T05:07:12.139Z"
   },
   {
    "duration": 175,
    "start_time": "2022-02-05T05:07:12.317Z"
   },
   {
    "duration": 2,
    "start_time": "2022-02-05T05:07:12.494Z"
   },
   {
    "duration": 5,
    "start_time": "2022-02-05T05:07:12.498Z"
   },
   {
    "duration": 23,
    "start_time": "2022-02-05T05:07:12.504Z"
   },
   {
    "duration": 877,
    "start_time": "2022-02-05T05:07:12.529Z"
   },
   {
    "duration": 36,
    "start_time": "2022-02-05T05:07:13.407Z"
   },
   {
    "duration": 2,
    "start_time": "2022-02-05T05:07:13.445Z"
   },
   {
    "duration": 6,
    "start_time": "2022-02-05T05:07:13.450Z"
   },
   {
    "duration": 311,
    "start_time": "2022-02-05T05:07:13.458Z"
   },
   {
    "duration": -6849300,
    "start_time": "2022-02-05T07:01:23.070Z"
   },
   {
    "duration": -6849300,
    "start_time": "2022-02-05T07:01:23.071Z"
   },
   {
    "duration": -6849304,
    "start_time": "2022-02-05T07:01:23.076Z"
   },
   {
    "duration": -6849311,
    "start_time": "2022-02-05T07:01:23.084Z"
   },
   {
    "duration": -6849314,
    "start_time": "2022-02-05T07:01:23.087Z"
   },
   {
    "duration": -6849315,
    "start_time": "2022-02-05T07:01:23.089Z"
   },
   {
    "duration": -6849319,
    "start_time": "2022-02-05T07:01:23.094Z"
   },
   {
    "duration": -6849325,
    "start_time": "2022-02-05T07:01:23.101Z"
   },
   {
    "duration": -6849327,
    "start_time": "2022-02-05T07:01:23.104Z"
   },
   {
    "duration": 509,
    "start_time": "2022-02-05T05:07:36.026Z"
   }
  ],
  "kernelspec": {
   "display_name": "Python 3.9.12 ('PRAKTIKUM')",
   "language": "python",
   "name": "python3"
  },
  "language_info": {
   "codemirror_mode": {
    "name": "ipython",
    "version": 3
   },
   "file_extension": ".py",
   "mimetype": "text/x-python",
   "name": "python",
   "nbconvert_exporter": "python",
   "pygments_lexer": "ipython3",
   "version": "3.9.12"
  },
  "toc": {
   "base_numbering": 1,
   "nav_menu": {},
   "number_sections": true,
   "sideBar": true,
   "skip_h1_title": true,
   "title_cell": "Table of Contents",
   "title_sidebar": "Contents",
   "toc_cell": false,
   "toc_position": {},
   "toc_section_display": true,
   "toc_window_display": false
  },
  "vscode": {
   "interpreter": {
    "hash": "e475181f287d0f6e2bbef65463c2e10bc685b9a6cef0884aed0cd26a521ab3f1"
   }
  }
 },
 "nbformat": 4,
 "nbformat_minor": 2
}
