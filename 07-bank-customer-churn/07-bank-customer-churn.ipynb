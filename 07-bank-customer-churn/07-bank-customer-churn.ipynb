{
 "cells": [
  {
   "cell_type": "markdown",
   "metadata": {},
   "source": [
    "# Отток клиентов"
   ]
  },
  {
   "cell_type": "markdown",
   "metadata": {},
   "source": [
    "Из «Бета-Банка» стали уходить клиенты. Каждый месяц. Немного, но заметно. Банковские маркетологи посчитали: сохранять текущих клиентов дешевле, чем привлекать новых.\n",
    "\n",
    "Нужно спрогнозировать, уйдёт клиент из банка в ближайшее время или нет. Вам предоставлены исторические данные о поведении клиентов и расторжении договоров с банком. \n",
    "\n",
    "Постройте модель с предельно большим значением *F1*-меры. Чтобы сдать проект успешно, нужно довести метрику до 0.59. Проверьте *F1*-меру на тестовой выборке самостоятельно.\n",
    "\n",
    "Дополнительно измеряйте *AUC-ROC*, сравнивайте её значение с *F1*-мерой.\n",
    "\n",
    "Источник данных: [https://www.kaggle.com/barelydedicated/bank-customer-churn-modeling](https://www.kaggle.com/barelydedicated/bank-customer-churn-modeling)"
   ]
  },
  {
   "cell_type": "markdown",
   "metadata": {},
   "source": [
    "## Подготовка данных"
   ]
  },
  {
   "cell_type": "markdown",
   "metadata": {},
   "source": [
    "Импортируем библиотеки"
   ]
  },
  {
   "cell_type": "code",
   "execution_count": 1,
   "metadata": {},
   "outputs": [
    {
     "name": "stdout",
     "output_type": "stream",
     "text": [
      "Requirement already satisfied: catboost in d:\\work\\anaconda\\envs\\praktikum\\lib\\site-packages (1.0.3)\n",
      "Requirement already satisfied: pandas>=0.24.0 in d:\\work\\anaconda\\envs\\praktikum\\lib\\site-packages (from catboost) (1.2.4)\n",
      "Requirement already satisfied: numpy>=1.16.0 in d:\\work\\anaconda\\envs\\praktikum\\lib\\site-packages (from catboost) (1.20.1)\n",
      "Requirement already satisfied: matplotlib in d:\\work\\anaconda\\envs\\praktikum\\lib\\site-packages (from catboost) (3.3.4)\n",
      "Requirement already satisfied: plotly in d:\\work\\anaconda\\envs\\praktikum\\lib\\site-packages (from catboost) (5.4.0)\n",
      "Requirement already satisfied: six in d:\\work\\anaconda\\envs\\praktikum\\lib\\site-packages (from catboost) (1.16.0)\n",
      "Requirement already satisfied: graphviz in d:\\work\\anaconda\\envs\\praktikum\\lib\\site-packages (from catboost) (0.19.1)\n",
      "Requirement already satisfied: scipy in d:\\work\\anaconda\\envs\\praktikum\\lib\\site-packages (from catboost) (1.8.0)\n",
      "Requirement already satisfied: pytz>=2017.3 in d:\\work\\anaconda\\envs\\praktikum\\lib\\site-packages (from pandas>=0.24.0->catboost) (2022.1)\n",
      "Requirement already satisfied: python-dateutil>=2.7.3 in d:\\work\\anaconda\\envs\\praktikum\\lib\\site-packages (from pandas>=0.24.0->catboost) (2.8.2)\n",
      "Requirement already satisfied: cycler>=0.10 in d:\\work\\anaconda\\envs\\praktikum\\lib\\site-packages (from matplotlib->catboost) (0.11.0)\n",
      "Requirement already satisfied: pillow>=6.2.0 in d:\\work\\anaconda\\envs\\praktikum\\lib\\site-packages (from matplotlib->catboost) (8.4.0)\n",
      "Requirement already satisfied: pyparsing!=2.0.4,!=2.1.2,!=2.1.6,>=2.0.3 in d:\\work\\anaconda\\envs\\praktikum\\lib\\site-packages (from matplotlib->catboost) (3.0.7)\n",
      "Requirement already satisfied: kiwisolver>=1.0.1 in d:\\work\\anaconda\\envs\\praktikum\\lib\\site-packages (from matplotlib->catboost) (1.4.2)\n",
      "Requirement already satisfied: tenacity>=6.2.0 in d:\\work\\anaconda\\envs\\praktikum\\lib\\site-packages (from plotly->catboost) (8.0.1)\n"
     ]
    }
   ],
   "source": [
    "import pandas as pd\n",
    "import numpy as np\n",
    "import seaborn as sns\n",
    "\n",
    "!pip3 install catboost\n",
    "from sklearn.tree import DecisionTreeClassifier\n",
    "from sklearn.ensemble import RandomForestClassifier\n",
    "from sklearn.linear_model import LogisticRegression\n",
    "from catboost import CatBoostClassifier, Pool\n",
    "\n",
    "from sklearn.model_selection import train_test_split\n",
    "from sklearn.model_selection import GridSearchCV, cross_val_score\n",
    "from sklearn.model_selection import RandomizedSearchCV\n",
    "from sklearn.preprocessing import StandardScaler\n",
    "from sklearn.utils import shuffle\n",
    "from sklearn.dummy import DummyClassifier\n",
    "\n",
    "from sklearn.metrics import accuracy_score\n",
    "from sklearn.metrics import roc_auc_score\n",
    "from sklearn.metrics import f1_score\n",
    "from sklearn.metrics import confusion_matrix"
   ]
  },
  {
   "cell_type": "markdown",
   "metadata": {},
   "source": [
    "Сохраним данные в переменную df_churn и посмотрим на них"
   ]
  },
  {
   "cell_type": "code",
   "execution_count": 2,
   "metadata": {},
   "outputs": [],
   "source": [
    "try:\n",
    "    df_churn = pd.read_csv(r'Churn.csv')\n",
    "    df_churn.head()\n",
    "except:\n",
    "    df_churn = pd.read_csv('/datasets/Churn.csv')\n",
    "    df_churn.head()"
   ]
  },
  {
   "cell_type": "markdown",
   "metadata": {},
   "source": [
    "Посмотрим информацию о данных"
   ]
  },
  {
   "cell_type": "code",
   "execution_count": 3,
   "metadata": {},
   "outputs": [
    {
     "name": "stdout",
     "output_type": "stream",
     "text": [
      "<class 'pandas.core.frame.DataFrame'>\n",
      "RangeIndex: 10000 entries, 0 to 9999\n",
      "Data columns (total 14 columns):\n",
      " #   Column           Non-Null Count  Dtype  \n",
      "---  ------           --------------  -----  \n",
      " 0   RowNumber        10000 non-null  int64  \n",
      " 1   CustomerId       10000 non-null  int64  \n",
      " 2   Surname          10000 non-null  object \n",
      " 3   CreditScore      10000 non-null  int64  \n",
      " 4   Geography        10000 non-null  object \n",
      " 5   Gender           10000 non-null  object \n",
      " 6   Age              10000 non-null  int64  \n",
      " 7   Tenure           9091 non-null   float64\n",
      " 8   Balance          10000 non-null  float64\n",
      " 9   NumOfProducts    10000 non-null  int64  \n",
      " 10  HasCrCard        10000 non-null  int64  \n",
      " 11  IsActiveMember   10000 non-null  int64  \n",
      " 12  EstimatedSalary  10000 non-null  float64\n",
      " 13  Exited           10000 non-null  int64  \n",
      "dtypes: float64(3), int64(8), object(3)\n",
      "memory usage: 1.1+ MB\n"
     ]
    }
   ],
   "source": [
    "df_churn.info()"
   ]
  },
  {
   "cell_type": "code",
   "execution_count": 4,
   "metadata": {},
   "outputs": [
    {
     "data": {
      "text/html": [
       "<div>\n",
       "<style scoped>\n",
       "    .dataframe tbody tr th:only-of-type {\n",
       "        vertical-align: middle;\n",
       "    }\n",
       "\n",
       "    .dataframe tbody tr th {\n",
       "        vertical-align: top;\n",
       "    }\n",
       "\n",
       "    .dataframe thead th {\n",
       "        text-align: right;\n",
       "    }\n",
       "</style>\n",
       "<table border=\"1\" class=\"dataframe\">\n",
       "  <thead>\n",
       "    <tr style=\"text-align: right;\">\n",
       "      <th></th>\n",
       "      <th>RowNumber</th>\n",
       "      <th>CustomerId</th>\n",
       "      <th>CreditScore</th>\n",
       "      <th>Age</th>\n",
       "      <th>Tenure</th>\n",
       "      <th>Balance</th>\n",
       "      <th>NumOfProducts</th>\n",
       "      <th>HasCrCard</th>\n",
       "      <th>IsActiveMember</th>\n",
       "      <th>EstimatedSalary</th>\n",
       "      <th>Exited</th>\n",
       "    </tr>\n",
       "  </thead>\n",
       "  <tbody>\n",
       "    <tr>\n",
       "      <th>count</th>\n",
       "      <td>10000.00000</td>\n",
       "      <td>1.000000e+04</td>\n",
       "      <td>10000.000000</td>\n",
       "      <td>10000.000000</td>\n",
       "      <td>9091.000000</td>\n",
       "      <td>10000.000000</td>\n",
       "      <td>10000.000000</td>\n",
       "      <td>10000.00000</td>\n",
       "      <td>10000.000000</td>\n",
       "      <td>10000.000000</td>\n",
       "      <td>10000.000000</td>\n",
       "    </tr>\n",
       "    <tr>\n",
       "      <th>mean</th>\n",
       "      <td>5000.50000</td>\n",
       "      <td>1.569094e+07</td>\n",
       "      <td>650.528800</td>\n",
       "      <td>38.921800</td>\n",
       "      <td>4.997690</td>\n",
       "      <td>76485.889288</td>\n",
       "      <td>1.530200</td>\n",
       "      <td>0.70550</td>\n",
       "      <td>0.515100</td>\n",
       "      <td>100090.239881</td>\n",
       "      <td>0.203700</td>\n",
       "    </tr>\n",
       "    <tr>\n",
       "      <th>std</th>\n",
       "      <td>2886.89568</td>\n",
       "      <td>7.193619e+04</td>\n",
       "      <td>96.653299</td>\n",
       "      <td>10.487806</td>\n",
       "      <td>2.894723</td>\n",
       "      <td>62397.405202</td>\n",
       "      <td>0.581654</td>\n",
       "      <td>0.45584</td>\n",
       "      <td>0.499797</td>\n",
       "      <td>57510.492818</td>\n",
       "      <td>0.402769</td>\n",
       "    </tr>\n",
       "    <tr>\n",
       "      <th>min</th>\n",
       "      <td>1.00000</td>\n",
       "      <td>1.556570e+07</td>\n",
       "      <td>350.000000</td>\n",
       "      <td>18.000000</td>\n",
       "      <td>0.000000</td>\n",
       "      <td>0.000000</td>\n",
       "      <td>1.000000</td>\n",
       "      <td>0.00000</td>\n",
       "      <td>0.000000</td>\n",
       "      <td>11.580000</td>\n",
       "      <td>0.000000</td>\n",
       "    </tr>\n",
       "    <tr>\n",
       "      <th>25%</th>\n",
       "      <td>2500.75000</td>\n",
       "      <td>1.562853e+07</td>\n",
       "      <td>584.000000</td>\n",
       "      <td>32.000000</td>\n",
       "      <td>2.000000</td>\n",
       "      <td>0.000000</td>\n",
       "      <td>1.000000</td>\n",
       "      <td>0.00000</td>\n",
       "      <td>0.000000</td>\n",
       "      <td>51002.110000</td>\n",
       "      <td>0.000000</td>\n",
       "    </tr>\n",
       "    <tr>\n",
       "      <th>50%</th>\n",
       "      <td>5000.50000</td>\n",
       "      <td>1.569074e+07</td>\n",
       "      <td>652.000000</td>\n",
       "      <td>37.000000</td>\n",
       "      <td>5.000000</td>\n",
       "      <td>97198.540000</td>\n",
       "      <td>1.000000</td>\n",
       "      <td>1.00000</td>\n",
       "      <td>1.000000</td>\n",
       "      <td>100193.915000</td>\n",
       "      <td>0.000000</td>\n",
       "    </tr>\n",
       "    <tr>\n",
       "      <th>75%</th>\n",
       "      <td>7500.25000</td>\n",
       "      <td>1.575323e+07</td>\n",
       "      <td>718.000000</td>\n",
       "      <td>44.000000</td>\n",
       "      <td>7.000000</td>\n",
       "      <td>127644.240000</td>\n",
       "      <td>2.000000</td>\n",
       "      <td>1.00000</td>\n",
       "      <td>1.000000</td>\n",
       "      <td>149388.247500</td>\n",
       "      <td>0.000000</td>\n",
       "    </tr>\n",
       "    <tr>\n",
       "      <th>max</th>\n",
       "      <td>10000.00000</td>\n",
       "      <td>1.581569e+07</td>\n",
       "      <td>850.000000</td>\n",
       "      <td>92.000000</td>\n",
       "      <td>10.000000</td>\n",
       "      <td>250898.090000</td>\n",
       "      <td>4.000000</td>\n",
       "      <td>1.00000</td>\n",
       "      <td>1.000000</td>\n",
       "      <td>199992.480000</td>\n",
       "      <td>1.000000</td>\n",
       "    </tr>\n",
       "  </tbody>\n",
       "</table>\n",
       "</div>"
      ],
      "text/plain": [
       "         RowNumber    CustomerId   CreditScore           Age       Tenure  \\\n",
       "count  10000.00000  1.000000e+04  10000.000000  10000.000000  9091.000000   \n",
       "mean    5000.50000  1.569094e+07    650.528800     38.921800     4.997690   \n",
       "std     2886.89568  7.193619e+04     96.653299     10.487806     2.894723   \n",
       "min        1.00000  1.556570e+07    350.000000     18.000000     0.000000   \n",
       "25%     2500.75000  1.562853e+07    584.000000     32.000000     2.000000   \n",
       "50%     5000.50000  1.569074e+07    652.000000     37.000000     5.000000   \n",
       "75%     7500.25000  1.575323e+07    718.000000     44.000000     7.000000   \n",
       "max    10000.00000  1.581569e+07    850.000000     92.000000    10.000000   \n",
       "\n",
       "             Balance  NumOfProducts    HasCrCard  IsActiveMember  \\\n",
       "count   10000.000000   10000.000000  10000.00000    10000.000000   \n",
       "mean    76485.889288       1.530200      0.70550        0.515100   \n",
       "std     62397.405202       0.581654      0.45584        0.499797   \n",
       "min         0.000000       1.000000      0.00000        0.000000   \n",
       "25%         0.000000       1.000000      0.00000        0.000000   \n",
       "50%     97198.540000       1.000000      1.00000        1.000000   \n",
       "75%    127644.240000       2.000000      1.00000        1.000000   \n",
       "max    250898.090000       4.000000      1.00000        1.000000   \n",
       "\n",
       "       EstimatedSalary        Exited  \n",
       "count     10000.000000  10000.000000  \n",
       "mean     100090.239881      0.203700  \n",
       "std       57510.492818      0.402769  \n",
       "min          11.580000      0.000000  \n",
       "25%       51002.110000      0.000000  \n",
       "50%      100193.915000      0.000000  \n",
       "75%      149388.247500      0.000000  \n",
       "max      199992.480000      1.000000  "
      ]
     },
     "execution_count": 4,
     "metadata": {},
     "output_type": "execute_result"
    }
   ],
   "source": [
    "df_churn.describe()"
   ]
  },
  {
   "cell_type": "markdown",
   "metadata": {},
   "source": [
    "Приведем названия столбцов к нижнему регистру"
   ]
  },
  {
   "cell_type": "code",
   "execution_count": 5,
   "metadata": {},
   "outputs": [
    {
     "data": {
      "text/plain": [
       "Index(['rownumber', 'customerid', 'surname', 'creditscore', 'geography',\n",
       "       'gender', 'age', 'tenure', 'balance', 'numofproducts', 'hascrcard',\n",
       "       'isactivemember', 'estimatedsalary', 'exited'],\n",
       "      dtype='object')"
      ]
     },
     "execution_count": 5,
     "metadata": {},
     "output_type": "execute_result"
    }
   ],
   "source": [
    "df_churn.columns = df_churn.columns.str.lower()\n",
    "df_churn.columns"
   ]
  },
  {
   "cell_type": "code",
   "execution_count": 6,
   "metadata": {},
   "outputs": [],
   "source": [
    "df_churn.rename(\n",
    "    {'rownumber': 'row_number',\n",
    "     'customerid': 'customer_id',\n",
    "     'creditscore': 'credit_score',\n",
    "     'numofproducts': 'num_of_products',\n",
    "     'hascrcard': 'has_cr_card',\n",
    "     'isactivemember': 'is_active_member',\n",
    "     'estimatedsalary': 'estimated_salary'},\n",
    "    axis=1, inplace=True)"
   ]
  },
  {
   "cell_type": "markdown",
   "metadata": {},
   "source": [
    "Так же, у нас есть пропуски в колонке с кол-вом лет в банке, возможно это новые клиенты банка.\n",
    "\n",
    "Посмотрим на пропущенные данные и на значения с нулем"
   ]
  },
  {
   "cell_type": "code",
   "execution_count": 7,
   "metadata": {},
   "outputs": [
    {
     "data": {
      "text/html": [
       "<div>\n",
       "<style scoped>\n",
       "    .dataframe tbody tr th:only-of-type {\n",
       "        vertical-align: middle;\n",
       "    }\n",
       "\n",
       "    .dataframe tbody tr th {\n",
       "        vertical-align: top;\n",
       "    }\n",
       "\n",
       "    .dataframe thead th {\n",
       "        text-align: right;\n",
       "    }\n",
       "</style>\n",
       "<table border=\"1\" class=\"dataframe\">\n",
       "  <thead>\n",
       "    <tr style=\"text-align: right;\">\n",
       "      <th></th>\n",
       "      <th>row_number</th>\n",
       "      <th>customer_id</th>\n",
       "      <th>surname</th>\n",
       "      <th>credit_score</th>\n",
       "      <th>geography</th>\n",
       "      <th>gender</th>\n",
       "      <th>age</th>\n",
       "      <th>tenure</th>\n",
       "      <th>balance</th>\n",
       "      <th>num_of_products</th>\n",
       "      <th>has_cr_card</th>\n",
       "      <th>is_active_member</th>\n",
       "      <th>estimated_salary</th>\n",
       "      <th>exited</th>\n",
       "    </tr>\n",
       "  </thead>\n",
       "  <tbody>\n",
       "    <tr>\n",
       "      <th>29</th>\n",
       "      <td>30</td>\n",
       "      <td>15656300</td>\n",
       "      <td>Lucciano</td>\n",
       "      <td>411</td>\n",
       "      <td>France</td>\n",
       "      <td>Male</td>\n",
       "      <td>29</td>\n",
       "      <td>0.0</td>\n",
       "      <td>59697.17</td>\n",
       "      <td>2</td>\n",
       "      <td>1</td>\n",
       "      <td>1</td>\n",
       "      <td>53483.21</td>\n",
       "      <td>0</td>\n",
       "    </tr>\n",
       "    <tr>\n",
       "      <th>35</th>\n",
       "      <td>36</td>\n",
       "      <td>15794171</td>\n",
       "      <td>Lombardo</td>\n",
       "      <td>475</td>\n",
       "      <td>France</td>\n",
       "      <td>Female</td>\n",
       "      <td>45</td>\n",
       "      <td>0.0</td>\n",
       "      <td>134264.04</td>\n",
       "      <td>1</td>\n",
       "      <td>1</td>\n",
       "      <td>0</td>\n",
       "      <td>27822.99</td>\n",
       "      <td>1</td>\n",
       "    </tr>\n",
       "    <tr>\n",
       "      <th>57</th>\n",
       "      <td>58</td>\n",
       "      <td>15647091</td>\n",
       "      <td>Endrizzi</td>\n",
       "      <td>725</td>\n",
       "      <td>Germany</td>\n",
       "      <td>Male</td>\n",
       "      <td>19</td>\n",
       "      <td>0.0</td>\n",
       "      <td>75888.20</td>\n",
       "      <td>1</td>\n",
       "      <td>0</td>\n",
       "      <td>0</td>\n",
       "      <td>45613.75</td>\n",
       "      <td>0</td>\n",
       "    </tr>\n",
       "    <tr>\n",
       "      <th>72</th>\n",
       "      <td>73</td>\n",
       "      <td>15812518</td>\n",
       "      <td>Palermo</td>\n",
       "      <td>657</td>\n",
       "      <td>Spain</td>\n",
       "      <td>Female</td>\n",
       "      <td>37</td>\n",
       "      <td>0.0</td>\n",
       "      <td>163607.18</td>\n",
       "      <td>1</td>\n",
       "      <td>0</td>\n",
       "      <td>1</td>\n",
       "      <td>44203.55</td>\n",
       "      <td>0</td>\n",
       "    </tr>\n",
       "    <tr>\n",
       "      <th>127</th>\n",
       "      <td>128</td>\n",
       "      <td>15782688</td>\n",
       "      <td>Piccio</td>\n",
       "      <td>625</td>\n",
       "      <td>Germany</td>\n",
       "      <td>Male</td>\n",
       "      <td>56</td>\n",
       "      <td>0.0</td>\n",
       "      <td>148507.24</td>\n",
       "      <td>1</td>\n",
       "      <td>1</td>\n",
       "      <td>0</td>\n",
       "      <td>46824.08</td>\n",
       "      <td>1</td>\n",
       "    </tr>\n",
       "    <tr>\n",
       "      <th>...</th>\n",
       "      <td>...</td>\n",
       "      <td>...</td>\n",
       "      <td>...</td>\n",
       "      <td>...</td>\n",
       "      <td>...</td>\n",
       "      <td>...</td>\n",
       "      <td>...</td>\n",
       "      <td>...</td>\n",
       "      <td>...</td>\n",
       "      <td>...</td>\n",
       "      <td>...</td>\n",
       "      <td>...</td>\n",
       "      <td>...</td>\n",
       "      <td>...</td>\n",
       "    </tr>\n",
       "    <tr>\n",
       "      <th>9793</th>\n",
       "      <td>9794</td>\n",
       "      <td>15772363</td>\n",
       "      <td>Hilton</td>\n",
       "      <td>772</td>\n",
       "      <td>Germany</td>\n",
       "      <td>Female</td>\n",
       "      <td>42</td>\n",
       "      <td>0.0</td>\n",
       "      <td>101979.16</td>\n",
       "      <td>1</td>\n",
       "      <td>1</td>\n",
       "      <td>0</td>\n",
       "      <td>90928.48</td>\n",
       "      <td>0</td>\n",
       "    </tr>\n",
       "    <tr>\n",
       "      <th>9799</th>\n",
       "      <td>9800</td>\n",
       "      <td>15722731</td>\n",
       "      <td>Manna</td>\n",
       "      <td>653</td>\n",
       "      <td>France</td>\n",
       "      <td>Male</td>\n",
       "      <td>46</td>\n",
       "      <td>0.0</td>\n",
       "      <td>119556.10</td>\n",
       "      <td>1</td>\n",
       "      <td>1</td>\n",
       "      <td>0</td>\n",
       "      <td>78250.13</td>\n",
       "      <td>1</td>\n",
       "    </tr>\n",
       "    <tr>\n",
       "      <th>9843</th>\n",
       "      <td>9844</td>\n",
       "      <td>15778304</td>\n",
       "      <td>Fan</td>\n",
       "      <td>646</td>\n",
       "      <td>Germany</td>\n",
       "      <td>Male</td>\n",
       "      <td>24</td>\n",
       "      <td>0.0</td>\n",
       "      <td>92398.08</td>\n",
       "      <td>1</td>\n",
       "      <td>1</td>\n",
       "      <td>1</td>\n",
       "      <td>18897.29</td>\n",
       "      <td>0</td>\n",
       "    </tr>\n",
       "    <tr>\n",
       "      <th>9868</th>\n",
       "      <td>9869</td>\n",
       "      <td>15587640</td>\n",
       "      <td>Rowntree</td>\n",
       "      <td>718</td>\n",
       "      <td>France</td>\n",
       "      <td>Female</td>\n",
       "      <td>43</td>\n",
       "      <td>0.0</td>\n",
       "      <td>93143.39</td>\n",
       "      <td>1</td>\n",
       "      <td>1</td>\n",
       "      <td>0</td>\n",
       "      <td>167554.86</td>\n",
       "      <td>0</td>\n",
       "    </tr>\n",
       "    <tr>\n",
       "      <th>9919</th>\n",
       "      <td>9920</td>\n",
       "      <td>15798084</td>\n",
       "      <td>Murray</td>\n",
       "      <td>688</td>\n",
       "      <td>France</td>\n",
       "      <td>Male</td>\n",
       "      <td>26</td>\n",
       "      <td>0.0</td>\n",
       "      <td>0.00</td>\n",
       "      <td>2</td>\n",
       "      <td>1</td>\n",
       "      <td>0</td>\n",
       "      <td>105784.85</td>\n",
       "      <td>0</td>\n",
       "    </tr>\n",
       "  </tbody>\n",
       "</table>\n",
       "<p>382 rows × 14 columns</p>\n",
       "</div>"
      ],
      "text/plain": [
       "      row_number  customer_id   surname  credit_score geography  gender  age  \\\n",
       "29            30     15656300  Lucciano           411    France    Male   29   \n",
       "35            36     15794171  Lombardo           475    France  Female   45   \n",
       "57            58     15647091  Endrizzi           725   Germany    Male   19   \n",
       "72            73     15812518   Palermo           657     Spain  Female   37   \n",
       "127          128     15782688    Piccio           625   Germany    Male   56   \n",
       "...          ...          ...       ...           ...       ...     ...  ...   \n",
       "9793        9794     15772363    Hilton           772   Germany  Female   42   \n",
       "9799        9800     15722731     Manna           653    France    Male   46   \n",
       "9843        9844     15778304       Fan           646   Germany    Male   24   \n",
       "9868        9869     15587640  Rowntree           718    France  Female   43   \n",
       "9919        9920     15798084    Murray           688    France    Male   26   \n",
       "\n",
       "      tenure    balance  num_of_products  has_cr_card  is_active_member  \\\n",
       "29       0.0   59697.17                2            1                 1   \n",
       "35       0.0  134264.04                1            1                 0   \n",
       "57       0.0   75888.20                1            0                 0   \n",
       "72       0.0  163607.18                1            0                 1   \n",
       "127      0.0  148507.24                1            1                 0   \n",
       "...      ...        ...              ...          ...               ...   \n",
       "9793     0.0  101979.16                1            1                 0   \n",
       "9799     0.0  119556.10                1            1                 0   \n",
       "9843     0.0   92398.08                1            1                 1   \n",
       "9868     0.0   93143.39                1            1                 0   \n",
       "9919     0.0       0.00                2            1                 0   \n",
       "\n",
       "      estimated_salary  exited  \n",
       "29            53483.21       0  \n",
       "35            27822.99       1  \n",
       "57            45613.75       0  \n",
       "72            44203.55       0  \n",
       "127           46824.08       1  \n",
       "...                ...     ...  \n",
       "9793          90928.48       0  \n",
       "9799          78250.13       1  \n",
       "9843          18897.29       0  \n",
       "9868         167554.86       0  \n",
       "9919         105784.85       0  \n",
       "\n",
       "[382 rows x 14 columns]"
      ]
     },
     "execution_count": 7,
     "metadata": {},
     "output_type": "execute_result"
    }
   ],
   "source": [
    "df_churn[df_churn['tenure'] == 0]"
   ]
  },
  {
   "cell_type": "code",
   "execution_count": 8,
   "metadata": {},
   "outputs": [
    {
     "data": {
      "text/html": [
       "<div>\n",
       "<style scoped>\n",
       "    .dataframe tbody tr th:only-of-type {\n",
       "        vertical-align: middle;\n",
       "    }\n",
       "\n",
       "    .dataframe tbody tr th {\n",
       "        vertical-align: top;\n",
       "    }\n",
       "\n",
       "    .dataframe thead th {\n",
       "        text-align: right;\n",
       "    }\n",
       "</style>\n",
       "<table border=\"1\" class=\"dataframe\">\n",
       "  <thead>\n",
       "    <tr style=\"text-align: right;\">\n",
       "      <th></th>\n",
       "      <th>row_number</th>\n",
       "      <th>customer_id</th>\n",
       "      <th>surname</th>\n",
       "      <th>credit_score</th>\n",
       "      <th>geography</th>\n",
       "      <th>gender</th>\n",
       "      <th>age</th>\n",
       "      <th>tenure</th>\n",
       "      <th>balance</th>\n",
       "      <th>num_of_products</th>\n",
       "      <th>has_cr_card</th>\n",
       "      <th>is_active_member</th>\n",
       "      <th>estimated_salary</th>\n",
       "      <th>exited</th>\n",
       "    </tr>\n",
       "  </thead>\n",
       "  <tbody>\n",
       "    <tr>\n",
       "      <th>30</th>\n",
       "      <td>31</td>\n",
       "      <td>15589475</td>\n",
       "      <td>Azikiwe</td>\n",
       "      <td>591</td>\n",
       "      <td>Spain</td>\n",
       "      <td>Female</td>\n",
       "      <td>39</td>\n",
       "      <td>NaN</td>\n",
       "      <td>0.00</td>\n",
       "      <td>3</td>\n",
       "      <td>1</td>\n",
       "      <td>0</td>\n",
       "      <td>140469.38</td>\n",
       "      <td>1</td>\n",
       "    </tr>\n",
       "    <tr>\n",
       "      <th>48</th>\n",
       "      <td>49</td>\n",
       "      <td>15766205</td>\n",
       "      <td>Yin</td>\n",
       "      <td>550</td>\n",
       "      <td>Germany</td>\n",
       "      <td>Male</td>\n",
       "      <td>38</td>\n",
       "      <td>NaN</td>\n",
       "      <td>103391.38</td>\n",
       "      <td>1</td>\n",
       "      <td>0</td>\n",
       "      <td>1</td>\n",
       "      <td>90878.13</td>\n",
       "      <td>0</td>\n",
       "    </tr>\n",
       "    <tr>\n",
       "      <th>51</th>\n",
       "      <td>52</td>\n",
       "      <td>15768193</td>\n",
       "      <td>Trevisani</td>\n",
       "      <td>585</td>\n",
       "      <td>Germany</td>\n",
       "      <td>Male</td>\n",
       "      <td>36</td>\n",
       "      <td>NaN</td>\n",
       "      <td>146050.97</td>\n",
       "      <td>2</td>\n",
       "      <td>0</td>\n",
       "      <td>0</td>\n",
       "      <td>86424.57</td>\n",
       "      <td>0</td>\n",
       "    </tr>\n",
       "    <tr>\n",
       "      <th>53</th>\n",
       "      <td>54</td>\n",
       "      <td>15702298</td>\n",
       "      <td>Parkhill</td>\n",
       "      <td>655</td>\n",
       "      <td>Germany</td>\n",
       "      <td>Male</td>\n",
       "      <td>41</td>\n",
       "      <td>NaN</td>\n",
       "      <td>125561.97</td>\n",
       "      <td>1</td>\n",
       "      <td>0</td>\n",
       "      <td>0</td>\n",
       "      <td>164040.94</td>\n",
       "      <td>1</td>\n",
       "    </tr>\n",
       "    <tr>\n",
       "      <th>60</th>\n",
       "      <td>61</td>\n",
       "      <td>15651280</td>\n",
       "      <td>Hunter</td>\n",
       "      <td>742</td>\n",
       "      <td>Germany</td>\n",
       "      <td>Male</td>\n",
       "      <td>35</td>\n",
       "      <td>NaN</td>\n",
       "      <td>136857.00</td>\n",
       "      <td>1</td>\n",
       "      <td>0</td>\n",
       "      <td>0</td>\n",
       "      <td>84509.57</td>\n",
       "      <td>0</td>\n",
       "    </tr>\n",
       "    <tr>\n",
       "      <th>...</th>\n",
       "      <td>...</td>\n",
       "      <td>...</td>\n",
       "      <td>...</td>\n",
       "      <td>...</td>\n",
       "      <td>...</td>\n",
       "      <td>...</td>\n",
       "      <td>...</td>\n",
       "      <td>...</td>\n",
       "      <td>...</td>\n",
       "      <td>...</td>\n",
       "      <td>...</td>\n",
       "      <td>...</td>\n",
       "      <td>...</td>\n",
       "      <td>...</td>\n",
       "    </tr>\n",
       "    <tr>\n",
       "      <th>9944</th>\n",
       "      <td>9945</td>\n",
       "      <td>15703923</td>\n",
       "      <td>Cameron</td>\n",
       "      <td>744</td>\n",
       "      <td>Germany</td>\n",
       "      <td>Male</td>\n",
       "      <td>41</td>\n",
       "      <td>NaN</td>\n",
       "      <td>190409.34</td>\n",
       "      <td>2</td>\n",
       "      <td>1</td>\n",
       "      <td>1</td>\n",
       "      <td>138361.48</td>\n",
       "      <td>0</td>\n",
       "    </tr>\n",
       "    <tr>\n",
       "      <th>9956</th>\n",
       "      <td>9957</td>\n",
       "      <td>15707861</td>\n",
       "      <td>Nucci</td>\n",
       "      <td>520</td>\n",
       "      <td>France</td>\n",
       "      <td>Female</td>\n",
       "      <td>46</td>\n",
       "      <td>NaN</td>\n",
       "      <td>85216.61</td>\n",
       "      <td>1</td>\n",
       "      <td>1</td>\n",
       "      <td>0</td>\n",
       "      <td>117369.52</td>\n",
       "      <td>1</td>\n",
       "    </tr>\n",
       "    <tr>\n",
       "      <th>9964</th>\n",
       "      <td>9965</td>\n",
       "      <td>15642785</td>\n",
       "      <td>Douglas</td>\n",
       "      <td>479</td>\n",
       "      <td>France</td>\n",
       "      <td>Male</td>\n",
       "      <td>34</td>\n",
       "      <td>NaN</td>\n",
       "      <td>117593.48</td>\n",
       "      <td>2</td>\n",
       "      <td>0</td>\n",
       "      <td>0</td>\n",
       "      <td>113308.29</td>\n",
       "      <td>0</td>\n",
       "    </tr>\n",
       "    <tr>\n",
       "      <th>9985</th>\n",
       "      <td>9986</td>\n",
       "      <td>15586914</td>\n",
       "      <td>Nepean</td>\n",
       "      <td>659</td>\n",
       "      <td>France</td>\n",
       "      <td>Male</td>\n",
       "      <td>36</td>\n",
       "      <td>NaN</td>\n",
       "      <td>123841.49</td>\n",
       "      <td>2</td>\n",
       "      <td>1</td>\n",
       "      <td>0</td>\n",
       "      <td>96833.00</td>\n",
       "      <td>0</td>\n",
       "    </tr>\n",
       "    <tr>\n",
       "      <th>9999</th>\n",
       "      <td>10000</td>\n",
       "      <td>15628319</td>\n",
       "      <td>Walker</td>\n",
       "      <td>792</td>\n",
       "      <td>France</td>\n",
       "      <td>Female</td>\n",
       "      <td>28</td>\n",
       "      <td>NaN</td>\n",
       "      <td>130142.79</td>\n",
       "      <td>1</td>\n",
       "      <td>1</td>\n",
       "      <td>0</td>\n",
       "      <td>38190.78</td>\n",
       "      <td>0</td>\n",
       "    </tr>\n",
       "  </tbody>\n",
       "</table>\n",
       "<p>909 rows × 14 columns</p>\n",
       "</div>"
      ],
      "text/plain": [
       "      row_number  customer_id    surname  credit_score geography  gender  age  \\\n",
       "30            31     15589475    Azikiwe           591     Spain  Female   39   \n",
       "48            49     15766205        Yin           550   Germany    Male   38   \n",
       "51            52     15768193  Trevisani           585   Germany    Male   36   \n",
       "53            54     15702298   Parkhill           655   Germany    Male   41   \n",
       "60            61     15651280     Hunter           742   Germany    Male   35   \n",
       "...          ...          ...        ...           ...       ...     ...  ...   \n",
       "9944        9945     15703923    Cameron           744   Germany    Male   41   \n",
       "9956        9957     15707861      Nucci           520    France  Female   46   \n",
       "9964        9965     15642785    Douglas           479    France    Male   34   \n",
       "9985        9986     15586914     Nepean           659    France    Male   36   \n",
       "9999       10000     15628319     Walker           792    France  Female   28   \n",
       "\n",
       "      tenure    balance  num_of_products  has_cr_card  is_active_member  \\\n",
       "30       NaN       0.00                3            1                 0   \n",
       "48       NaN  103391.38                1            0                 1   \n",
       "51       NaN  146050.97                2            0                 0   \n",
       "53       NaN  125561.97                1            0                 0   \n",
       "60       NaN  136857.00                1            0                 0   \n",
       "...      ...        ...              ...          ...               ...   \n",
       "9944     NaN  190409.34                2            1                 1   \n",
       "9956     NaN   85216.61                1            1                 0   \n",
       "9964     NaN  117593.48                2            0                 0   \n",
       "9985     NaN  123841.49                2            1                 0   \n",
       "9999     NaN  130142.79                1            1                 0   \n",
       "\n",
       "      estimated_salary  exited  \n",
       "30           140469.38       1  \n",
       "48            90878.13       0  \n",
       "51            86424.57       0  \n",
       "53           164040.94       1  \n",
       "60            84509.57       0  \n",
       "...                ...     ...  \n",
       "9944         138361.48       0  \n",
       "9956         117369.52       1  \n",
       "9964         113308.29       0  \n",
       "9985          96833.00       0  \n",
       "9999          38190.78       0  \n",
       "\n",
       "[909 rows x 14 columns]"
      ]
     },
     "execution_count": 8,
     "metadata": {},
     "output_type": "execute_result"
    }
   ],
   "source": [
    "df_churn[df_churn['tenure'].isna()]"
   ]
  },
  {
   "cell_type": "markdown",
   "metadata": {},
   "source": [
    "Никакой связи между данными не прослеживается, так что избавимся от них"
   ]
  },
  {
   "cell_type": "code",
   "execution_count": 9,
   "metadata": {
    "scrolled": true
   },
   "outputs": [
    {
     "name": "stdout",
     "output_type": "stream",
     "text": [
      "<class 'pandas.core.frame.DataFrame'>\n",
      "Int64Index: 9091 entries, 0 to 9998\n",
      "Data columns (total 14 columns):\n",
      " #   Column            Non-Null Count  Dtype  \n",
      "---  ------            --------------  -----  \n",
      " 0   row_number        9091 non-null   int64  \n",
      " 1   customer_id       9091 non-null   int64  \n",
      " 2   surname           9091 non-null   object \n",
      " 3   credit_score      9091 non-null   int64  \n",
      " 4   geography         9091 non-null   object \n",
      " 5   gender            9091 non-null   object \n",
      " 6   age               9091 non-null   int64  \n",
      " 7   tenure            9091 non-null   float64\n",
      " 8   balance           9091 non-null   float64\n",
      " 9   num_of_products   9091 non-null   int64  \n",
      " 10  has_cr_card       9091 non-null   int64  \n",
      " 11  is_active_member  9091 non-null   int64  \n",
      " 12  estimated_salary  9091 non-null   float64\n",
      " 13  exited            9091 non-null   int64  \n",
      "dtypes: float64(3), int64(8), object(3)\n",
      "memory usage: 1.0+ MB\n"
     ]
    }
   ],
   "source": [
    "df_churn = df_churn.dropna()\n",
    "df_churn.info()"
   ]
  },
  {
   "cell_type": "markdown",
   "metadata": {},
   "source": [
    "Заменим тип данных на цельночисленный"
   ]
  },
  {
   "cell_type": "code",
   "execution_count": 10,
   "metadata": {},
   "outputs": [],
   "source": [
    "df_churn['tenure'] = df_churn['tenure'].astype(int)"
   ]
  },
  {
   "cell_type": "markdown",
   "metadata": {},
   "source": [
    "В таблице присутствуют данные не несущие пользы для дальнейшего обучения моделей - это номер строки, id пользователя и фамилия\n",
    "\n",
    "Избавимся от них"
   ]
  },
  {
   "cell_type": "code",
   "execution_count": 11,
   "metadata": {},
   "outputs": [],
   "source": [
    "df_churn = df_churn.drop(['row_number', 'customer_id', 'surname'], axis=1)"
   ]
  },
  {
   "cell_type": "markdown",
   "metadata": {},
   "source": [
    "Закодируем данные методом OHE"
   ]
  },
  {
   "cell_type": "code",
   "execution_count": 12,
   "metadata": {},
   "outputs": [
    {
     "data": {
      "text/html": [
       "<div>\n",
       "<style scoped>\n",
       "    .dataframe tbody tr th:only-of-type {\n",
       "        vertical-align: middle;\n",
       "    }\n",
       "\n",
       "    .dataframe tbody tr th {\n",
       "        vertical-align: top;\n",
       "    }\n",
       "\n",
       "    .dataframe thead th {\n",
       "        text-align: right;\n",
       "    }\n",
       "</style>\n",
       "<table border=\"1\" class=\"dataframe\">\n",
       "  <thead>\n",
       "    <tr style=\"text-align: right;\">\n",
       "      <th></th>\n",
       "      <th>credit_score</th>\n",
       "      <th>age</th>\n",
       "      <th>tenure</th>\n",
       "      <th>balance</th>\n",
       "      <th>num_of_products</th>\n",
       "      <th>has_cr_card</th>\n",
       "      <th>is_active_member</th>\n",
       "      <th>estimated_salary</th>\n",
       "      <th>exited</th>\n",
       "      <th>gender_Male</th>\n",
       "      <th>geography_Germany</th>\n",
       "      <th>geography_Spain</th>\n",
       "    </tr>\n",
       "  </thead>\n",
       "  <tbody>\n",
       "    <tr>\n",
       "      <th>0</th>\n",
       "      <td>619</td>\n",
       "      <td>42</td>\n",
       "      <td>2</td>\n",
       "      <td>0.00</td>\n",
       "      <td>1</td>\n",
       "      <td>1</td>\n",
       "      <td>1</td>\n",
       "      <td>101348.88</td>\n",
       "      <td>1</td>\n",
       "      <td>0</td>\n",
       "      <td>0</td>\n",
       "      <td>0</td>\n",
       "    </tr>\n",
       "    <tr>\n",
       "      <th>1</th>\n",
       "      <td>608</td>\n",
       "      <td>41</td>\n",
       "      <td>1</td>\n",
       "      <td>83807.86</td>\n",
       "      <td>1</td>\n",
       "      <td>0</td>\n",
       "      <td>1</td>\n",
       "      <td>112542.58</td>\n",
       "      <td>0</td>\n",
       "      <td>0</td>\n",
       "      <td>0</td>\n",
       "      <td>1</td>\n",
       "    </tr>\n",
       "    <tr>\n",
       "      <th>2</th>\n",
       "      <td>502</td>\n",
       "      <td>42</td>\n",
       "      <td>8</td>\n",
       "      <td>159660.80</td>\n",
       "      <td>3</td>\n",
       "      <td>1</td>\n",
       "      <td>0</td>\n",
       "      <td>113931.57</td>\n",
       "      <td>1</td>\n",
       "      <td>0</td>\n",
       "      <td>0</td>\n",
       "      <td>0</td>\n",
       "    </tr>\n",
       "    <tr>\n",
       "      <th>3</th>\n",
       "      <td>699</td>\n",
       "      <td>39</td>\n",
       "      <td>1</td>\n",
       "      <td>0.00</td>\n",
       "      <td>2</td>\n",
       "      <td>0</td>\n",
       "      <td>0</td>\n",
       "      <td>93826.63</td>\n",
       "      <td>0</td>\n",
       "      <td>0</td>\n",
       "      <td>0</td>\n",
       "      <td>0</td>\n",
       "    </tr>\n",
       "    <tr>\n",
       "      <th>4</th>\n",
       "      <td>850</td>\n",
       "      <td>43</td>\n",
       "      <td>2</td>\n",
       "      <td>125510.82</td>\n",
       "      <td>1</td>\n",
       "      <td>1</td>\n",
       "      <td>1</td>\n",
       "      <td>79084.10</td>\n",
       "      <td>0</td>\n",
       "      <td>0</td>\n",
       "      <td>0</td>\n",
       "      <td>1</td>\n",
       "    </tr>\n",
       "  </tbody>\n",
       "</table>\n",
       "</div>"
      ],
      "text/plain": [
       "   credit_score  age  tenure    balance  num_of_products  has_cr_card  \\\n",
       "0           619   42       2       0.00                1            1   \n",
       "1           608   41       1   83807.86                1            0   \n",
       "2           502   42       8  159660.80                3            1   \n",
       "3           699   39       1       0.00                2            0   \n",
       "4           850   43       2  125510.82                1            1   \n",
       "\n",
       "   is_active_member  estimated_salary  exited  gender_Male  geography_Germany  \\\n",
       "0                 1         101348.88       1            0                  0   \n",
       "1                 1         112542.58       0            0                  0   \n",
       "2                 0         113931.57       1            0                  0   \n",
       "3                 0          93826.63       0            0                  0   \n",
       "4                 1          79084.10       0            0                  0   \n",
       "\n",
       "   geography_Spain  \n",
       "0                0  \n",
       "1                1  \n",
       "2                0  \n",
       "3                0  \n",
       "4                1  "
      ]
     },
     "execution_count": 12,
     "metadata": {},
     "output_type": "execute_result"
    }
   ],
   "source": [
    "df_ohe = pd.get_dummies(data=df_churn, columns=[\"gender\", \"geography\"], drop_first=True)\n",
    "\n",
    "df_ohe.head()"
   ]
  },
  {
   "cell_type": "markdown",
   "metadata": {},
   "source": [
    "Разделим данные на выборки в соотношении 60-20-20"
   ]
  },
  {
   "cell_type": "code",
   "execution_count": 13,
   "metadata": {},
   "outputs": [],
   "source": [
    "features = df_ohe.drop('exited', axis=1)\n",
    "target = df_ohe['exited']"
   ]
  },
  {
   "cell_type": "code",
   "execution_count": 14,
   "metadata": {},
   "outputs": [],
   "source": [
    "features_train, features_tv, target_train, target_tv = train_test_split(\n",
    "    features, target, test_size=0.4, random_state=12345, stratify=target)\n",
    "features_test, features_valid, target_test, target_valid = train_test_split(\n",
    "    features_tv, target_tv, test_size=0.5, random_state=12345, stratify=target_tv)"
   ]
  },
  {
   "cell_type": "markdown",
   "metadata": {},
   "source": [
    "И стандартизируем количественные признаки"
   ]
  },
  {
   "cell_type": "code",
   "execution_count": 15,
   "metadata": {},
   "outputs": [],
   "source": [
    "numeric = ['age', 'tenure', 'balance', 'estimated_salary', 'credit_score']\n",
    "scaler = StandardScaler()\n",
    "scaler.fit(features_train[numeric]) \n",
    "\n",
    "pd.options.mode.chained_assignment = None\n",
    "features_train[numeric] = scaler.transform(features_train[numeric])\n",
    "features_valid[numeric] = scaler.transform(features_valid[numeric])\n",
    "features_test[numeric] = scaler.transform(features_test[numeric])"
   ]
  },
  {
   "cell_type": "markdown",
   "metadata": {},
   "source": [
    "### Вывод"
   ]
  },
  {
   "cell_type": "markdown",
   "metadata": {},
   "source": [
    "Мы изучили данные и подготовили их к дальнейшей работе, подготовили признаки и целевые признаки, а так же стандартизировали данные. Теперь можно приступать к обучению моделей."
   ]
  },
  {
   "cell_type": "markdown",
   "metadata": {},
   "source": [
    "## Исследование задачи"
   ]
  },
  {
   "cell_type": "markdown",
   "metadata": {},
   "source": [
    "Посмотрим на баланс классов в наших выборках"
   ]
  },
  {
   "cell_type": "code",
   "execution_count": 16,
   "metadata": {},
   "outputs": [
    {
     "name": "stdout",
     "output_type": "stream",
     "text": [
      "features_train :\n",
      " 0    4342\n",
      "1    1112\n",
      "Name: exited, dtype: int64 \n",
      "features_valid :\n",
      " 0    1448\n",
      "1     371\n",
      "Name: exited, dtype: int64 \n",
      "features_test :\n",
      " 0    1447\n",
      "1     371\n",
      "Name: exited, dtype: int64\n"
     ]
    }
   ],
   "source": [
    "print('features_train :\\n', target_train.value_counts(),\n",
    "     '\\nfeatures_valid :\\n', target_valid.value_counts(),\n",
    "     '\\nfeatures_test :\\n', target_test.value_counts()\n",
    "     )"
   ]
  },
  {
   "cell_type": "markdown",
   "metadata": {},
   "source": [
    "Мы видим что имеется сильный дисбаланс классов в сторону отричательного класса\n",
    "\n",
    "Попробуем обучить модель на таких пропорциях"
   ]
  },
  {
   "cell_type": "code",
   "execution_count": 17,
   "metadata": {},
   "outputs": [],
   "source": [
    "forest = RandomForestClassifier(random_state=12345, n_estimators=100)\n",
    "forest.fit(features_train, target_train)\n",
    "predicted_valid_forest = forest.predict(features_valid)"
   ]
  },
  {
   "cell_type": "markdown",
   "metadata": {},
   "source": [
    "Напишем функцию для отображения метрик"
   ]
  },
  {
   "cell_type": "code",
   "execution_count": 18,
   "metadata": {},
   "outputs": [],
   "source": [
    "def metrics(features, target, predict, model):\n",
    "    print(confusion_matrix(target, predict))\n",
    "    print('F1 =', f1_score(target, predict))\n",
    "    probabilities_valid = model.predict_proba(features)\n",
    "    probabilities_one_valid = probabilities_valid[:, 1]\n",
    "    print('AUC-ROC =', roc_auc_score(target, probabilities_one_valid))"
   ]
  },
  {
   "cell_type": "code",
   "execution_count": 19,
   "metadata": {},
   "outputs": [
    {
     "name": "stdout",
     "output_type": "stream",
     "text": [
      "[[1384   64]\n",
      " [ 201  170]]\n",
      "F1 = 0.5619834710743802\n",
      "AUC-ROC = 0.8426056573989964\n"
     ]
    }
   ],
   "source": [
    "metrics(features_valid, target_valid, predicted_valid_forest, forest)"
   ]
  },
  {
   "cell_type": "markdown",
   "metadata": {},
   "source": [
    "### Вывод"
   ]
  },
  {
   "cell_type": "markdown",
   "metadata": {},
   "source": [
    "Мы видим что при дисбалансе классов наша модель довольно хорошо предсказывает отрицательные классы, но при этом плохо положительные из за меньшего колличества данных, попытаемся исправить эту проблему балансировкой классов. Так же попробуем разные модели и подберем для них гиперпараметры"
   ]
  },
  {
   "cell_type": "markdown",
   "metadata": {},
   "source": [
    "## Борьба с дисбалансом"
   ]
  },
  {
   "cell_type": "markdown",
   "metadata": {},
   "source": [
    "### Upsampling"
   ]
  },
  {
   "cell_type": "markdown",
   "metadata": {},
   "source": [
    "Сбалансируем классы увеличив кол-во отрицательных"
   ]
  },
  {
   "cell_type": "code",
   "execution_count": 20,
   "metadata": {},
   "outputs": [
    {
     "name": "stdout",
     "output_type": "stream",
     "text": [
      "(8790, 11)\n",
      "(8790,)\n",
      "1    4448\n",
      "0    4342\n",
      "Name: exited, dtype: int64\n"
     ]
    }
   ],
   "source": [
    "def upsample(features, target, repeat):\n",
    "    \n",
    "    features_zeros = features[target == 0]\n",
    "    features_ones = features[target == 1]\n",
    "    target_zeros = target[target == 0]\n",
    "    target_ones = target[target == 1]\n",
    "    \n",
    "    features_upsampled = pd.concat([features_zeros] + [features_ones] * repeat)\n",
    "    target_upsampled = pd.concat([target_zeros] + [target_ones] * repeat)\n",
    "    \n",
    "    features_upsampled = shuffle(features_upsampled, random_state=12345)\n",
    "    target_upsampled = shuffle(target_upsampled, random_state=12345)\n",
    "    \n",
    "    return features_upsampled, target_upsampled\n",
    "\n",
    "    \n",
    "repeat = round(target_train.value_counts().values[0] / target_train.value_counts().values[1])   \n",
    "features_upsampled, target_upsampled = upsample(features_train, target_train, repeat)\n",
    "\n",
    "print(features_upsampled.shape)\n",
    "print(target_upsampled.shape)\n",
    "print(target_upsampled.value_counts())"
   ]
  },
  {
   "cell_type": "markdown",
   "metadata": {},
   "source": [
    "Обучим первые модели и подберем для них гиперпараметры с помошью grid search"
   ]
  },
  {
   "cell_type": "code",
   "execution_count": 21,
   "metadata": {},
   "outputs": [
    {
     "name": "stdout",
     "output_type": "stream",
     "text": [
      "[[1197  251]\n",
      " [ 118  253]]\n",
      "F1 = 0.5782857142857143\n",
      "AUC-ROC = 0.8500841387321112\n"
     ]
    }
   ],
   "source": [
    "forest = RandomForestClassifier()\n",
    "\n",
    "forest_params = {'n_estimators': [100, 150, 200, 250, 500],\n",
    "                     'max_depth': [3, 4, 5],\n",
    "                     'random_state': [42]\n",
    "                }\n",
    "\n",
    "gs_forest = GridSearchCV(forest, forest_params, cv=5, scoring='f1')\n",
    "gs_forest.fit(features_upsampled, target_upsampled)\n",
    "best_forest = gs_forest.best_estimator_       \n",
    "predicted_valid_forest = best_forest.predict(features_valid) \n",
    "metrics(features_valid, target_valid, predicted_valid_forest, best_forest)"
   ]
  },
  {
   "cell_type": "code",
   "execution_count": 22,
   "metadata": {},
   "outputs": [],
   "source": [
    "cat = CatBoostClassifier(logging_level='Silent')\n",
    "\n",
    "grid = {'depth': [4, 6, 10],\n",
    "        'l2_leaf_reg': [1, 5, 9]}\n",
    "\n",
    "grid_search_result = cat.grid_search(grid,\n",
    "                                       X=features_upsampled,\n",
    "                                       y=target_upsampled,\n",
    "                                       verbose=False)"
   ]
  },
  {
   "cell_type": "code",
   "execution_count": 23,
   "metadata": {},
   "outputs": [
    {
     "data": {
      "text/plain": [
       "{'depth': 10, 'l2_leaf_reg': 1}"
      ]
     },
     "execution_count": 23,
     "metadata": {},
     "output_type": "execute_result"
    }
   ],
   "source": [
    "grid_search_result['params']"
   ]
  },
  {
   "cell_type": "code",
   "execution_count": 24,
   "metadata": {},
   "outputs": [
    {
     "name": "stdout",
     "output_type": "stream",
     "text": [
      "[[1340  108]\n",
      " [ 167  204]]\n",
      "F1 = 0.5973645680819911\n",
      "AUC-ROC = 0.8368564876174592\n"
     ]
    }
   ],
   "source": [
    "best_cat = CatBoostClassifier(verbose = False,\n",
    "    depth = 10,\n",
    "    iterations = 1000,\n",
    "    l2_leaf_reg = 1,\n",
    "    random_state = 42)\n",
    "best_cat.fit(features_upsampled, target_upsampled)\n",
    "predicted_valid_cat = best_cat.predict(features_valid)\n",
    "metrics(features_valid, target_valid, predicted_valid_cat, best_cat)"
   ]
  },
  {
   "cell_type": "code",
   "execution_count": 25,
   "metadata": {},
   "outputs": [
    {
     "name": "stdout",
     "output_type": "stream",
     "text": [
      "[[1033  415]\n",
      " [ 106  265]]\n",
      "F1 = 0.5042816365366317\n",
      "AUC-ROC = 0.778186475257256\n"
     ]
    }
   ],
   "source": [
    "log = LogisticRegression(solver='liblinear')\n",
    "log_params = {\n",
    "                   'intercept_scaling': [0.5, 1.0, 1.5],\n",
    "                   'class_weight': [None, 'balanced'],\n",
    "                   'C': [0.5, 1, 1.5],\n",
    "                   'random_state': [42]\n",
    "                   }\n",
    "\n",
    "gs_log = GridSearchCV(log, log_params, cv=5, scoring='f1')\n",
    "gs_log.fit(features_upsampled, target_upsampled)\n",
    "best_log = gs_log.best_estimator_\n",
    "predicted_valid_log = best_log.predict(features_valid)\n",
    "metrics(features_valid, target_valid, predicted_valid_log, best_log)"
   ]
  },
  {
   "cell_type": "markdown",
   "metadata": {},
   "source": [
    "Мы видим что лучше всего себя показали catboost и случайный лес, а так же на них мы перешли порог f1 рейтинга на валидационной выборке. AUC ROC показатель так же на неплохом уровне, что означает улучшение соотшения TPR и FPR."
   ]
  },
  {
   "cell_type": "markdown",
   "metadata": {},
   "source": [
    "### Downsampling"
   ]
  },
  {
   "cell_type": "markdown",
   "metadata": {},
   "source": [
    "Попробуем выровнять баланс уменьшением выборки"
   ]
  },
  {
   "cell_type": "code",
   "execution_count": 26,
   "metadata": {},
   "outputs": [
    {
     "name": "stdout",
     "output_type": "stream",
     "text": [
      "(3736, 11)\n",
      "(3736,)\n",
      "0    1882\n",
      "1    1854\n",
      "Name: exited, dtype: int64\n"
     ]
    }
   ],
   "source": [
    "def downsample(features_train, target_train, fraction):\n",
    "    features_zeros = features[target == 0]\n",
    "    features_ones = features[target == 1]\n",
    "    target_zeros = target[target == 0]\n",
    "    target_ones = target[target == 1]\n",
    "    features_downsampled = pd.concat(\n",
    "    [features_zeros.sample(frac=fraction, random_state=12345)] + [features_ones])\n",
    "    target_downsampled = pd.concat(\n",
    "    [target_zeros.sample(frac=fraction, random_state=12345)] + [target_ones])\n",
    "    features_downsampled, target_downsampled = shuffle(\n",
    "    features_downsampled, target_downsampled, random_state=12345)\n",
    "    return features_downsampled, target_downsampled\n",
    "\n",
    "fraction = round(target_train.value_counts().values[1] / target_train.value_counts().values[0], 2)\n",
    "features_downsampled, target_downsampled = downsample(features, target, fraction)\n",
    "\n",
    "print(features_downsampled.shape)\n",
    "print(target_downsampled.shape)\n",
    "print(target_downsampled.value_counts())"
   ]
  },
  {
   "cell_type": "markdown",
   "metadata": {},
   "source": [
    "И так же обучим на них модели"
   ]
  },
  {
   "cell_type": "code",
   "execution_count": 27,
   "metadata": {},
   "outputs": [
    {
     "name": "stdout",
     "output_type": "stream",
     "text": [
      "[[1429   19]\n",
      " [ 322   49]]\n",
      "F1 = 0.2232346241457859\n",
      "AUC-ROC = 0.7527270628881177\n"
     ]
    }
   ],
   "source": [
    "forest_down = RandomForestClassifier()\n",
    "\n",
    "forest_params = {'n_estimators': [100, 150, 200, 250, 500],\n",
    "                     'max_depth': [3, 4, 5],\n",
    "                     'random_state': [42]\n",
    "                }\n",
    "\n",
    "gs_forest = GridSearchCV(forest_down, forest_params, cv=5, scoring='f1')\n",
    "gs_forest.fit(features_downsampled, target_downsampled)\n",
    "best_forest_down = gs_forest.best_estimator_       \n",
    "predicted_valid_forest = best_forest_down.predict(features_valid) \n",
    "metrics(features_valid, target_valid, predicted_valid_forest, best_forest_down)"
   ]
  },
  {
   "cell_type": "code",
   "execution_count": 28,
   "metadata": {},
   "outputs": [],
   "source": [
    "cat_down = CatBoostClassifier(logging_level='Silent')\n",
    "\n",
    "grid = {'learning_rate': [0.03, 0.1],\n",
    "        'depth': [4, 6, 10],\n",
    "        'l2_leaf_reg': [1, 5, 9]}\n",
    "\n",
    "grid_search_result = cat_down.grid_search(grid,\n",
    "                                       X=features_downsampled,\n",
    "                                       y=target_downsampled,\n",
    "                                       verbose=False)"
   ]
  },
  {
   "cell_type": "code",
   "execution_count": 29,
   "metadata": {},
   "outputs": [
    {
     "data": {
      "text/plain": [
       "{'depth': 6, 'l2_leaf_reg': 5, 'learning_rate': 0.1}"
      ]
     },
     "execution_count": 29,
     "metadata": {},
     "output_type": "execute_result"
    }
   ],
   "source": [
    "grid_search_result['params']"
   ]
  },
  {
   "cell_type": "code",
   "execution_count": 30,
   "metadata": {},
   "outputs": [
    {
     "name": "stdout",
     "output_type": "stream",
     "text": [
      "[[1340  108]\n",
      " [ 167  204]]\n",
      "F1 = 0.5973645680819911\n",
      "AUC-ROC = 0.5619080505130228\n"
     ]
    }
   ],
   "source": [
    "best_cat_down = CatBoostClassifier(verbose = False,\n",
    "    depth = 6,\n",
    "    iterations = 1000,\n",
    "    l2_leaf_reg = 1,\n",
    "    learning_rate = 0.03,\n",
    "    random_state = 42)\n",
    "best_cat_down.fit(features_downsampled, target_downsampled)\n",
    "predicted_valid_bestcat = best_cat_down.predict(features_valid)\n",
    "metrics(features_valid, target_valid, predicted_valid_cat, best_cat_down)"
   ]
  },
  {
   "cell_type": "code",
   "execution_count": 31,
   "metadata": {},
   "outputs": [
    {
     "name": "stdout",
     "output_type": "stream",
     "text": [
      "[[1134  314]\n",
      " [ 157  214]]\n",
      "F1 = 0.47608453837597325\n",
      "AUC-ROC = 0.7319492635999464\n"
     ]
    }
   ],
   "source": [
    "log_down = LogisticRegression(solver='liblinear')\n",
    "log_params = {\n",
    "                   'intercept_scaling': [0.5, 1.0, 1.5],\n",
    "                   'class_weight': [None, 'balanced'],\n",
    "                   'C': [0.5, 1, 1.5],\n",
    "                   'random_state': [42, 12345]\n",
    "                   }\n",
    "\n",
    "gs_log = GridSearchCV(log_down, log_params, cv=5, scoring='f1')\n",
    "gs_log.fit(features_downsampled, target_downsampled)\n",
    "best_log_down = gs_log.best_estimator_\n",
    "predicted_valid_log = best_log_down.predict(features_valid)\n",
    "metrics(features_valid, target_valid, predicted_valid_log, best_log_down)"
   ]
  },
  {
   "cell_type": "markdown",
   "metadata": {},
   "source": [
    "При уменьшении выборки результаты ухудшились, исключением является catboost, но несмотря на хороший f1 рейтинг, просел AUC ROC. \n",
    "В остальном же результаты стали значительно хуже, из за уменьшения данных модели стали хуже находить закономерности.\n",
    "Далее проверим наши модели на тестовой выборке и определим лучшую."
   ]
  },
  {
   "cell_type": "markdown",
   "metadata": {},
   "source": [
    "## Тестирование модели"
   ]
  },
  {
   "cell_type": "markdown",
   "metadata": {},
   "source": [
    "Проверим модели на тестовой выборке"
   ]
  },
  {
   "cell_type": "code",
   "execution_count": 32,
   "metadata": {},
   "outputs": [
    {
     "name": "stdout",
     "output_type": "stream",
     "text": [
      "Метрики случайного леса\n",
      "_______________________\n",
      "[[1168  279]\n",
      " [  94  277]]\n",
      "F1 = 0.5976267529665589\n",
      "AUC-ROC = 0.8748670453042544\n",
      "\n",
      "Метрики catboost\n",
      "_______________________\n",
      "[[1345  102]\n",
      " [ 155  216]]\n",
      "F1 = 0.6269956458635704\n",
      "AUC-ROC = 0.8576681562559959\n",
      "\n",
      "Метрики логистической регресии\n",
      "_______________________\n",
      "[[1010  437]\n",
      " [  98  273]]\n",
      "F1 = 0.5050878815911193\n",
      "AUC-ROC = 0.7907633043176979\n"
     ]
    }
   ],
   "source": [
    "predicted_test_forest = best_forest.predict(features_test)\n",
    "predicted_test_cat = best_cat.predict(features_test)\n",
    "predicted_test_log = best_log.predict(features_test)\n",
    "print('Метрики случайного леса')\n",
    "print('_______________________')\n",
    "metrics(features_test, target_test, predicted_test_forest, best_forest)\n",
    "print('\\nМетрики catboost')\n",
    "print('_______________________')\n",
    "metrics(features_test, target_test, predicted_test_cat, best_cat)\n",
    "print('\\nМетрики логистической регресии')\n",
    "print('_______________________')\n",
    "metrics(features_test, target_test, predicted_test_log, best_log)"
   ]
  },
  {
   "cell_type": "markdown",
   "metadata": {},
   "source": [
    "Обучим модели на обьединеных тренировачных и валидационных выборках и проведем тестирование еще раз"
   ]
  },
  {
   "cell_type": "code",
   "execution_count": 33,
   "metadata": {},
   "outputs": [
    {
     "data": {
      "text/plain": [
       "<catboost.core.CatBoostClassifier at 0x1bd84a079a0>"
      ]
     },
     "execution_count": 33,
     "metadata": {},
     "output_type": "execute_result"
    }
   ],
   "source": [
    "# обьеденим тренировочную и валидационные выборки\n",
    "features_samp = pd.concat([features_train] + [features_valid])\n",
    "target_samp = pd.concat([target_train] + [target_valid])\n",
    "features_samp = shuffle(features_samp, random_state=12345)\n",
    "target_samp = shuffle(target_samp, random_state=12345)\n",
    "# сбалансируем классы\n",
    "repeat = round(target_samp.value_counts().values[0] / target_samp.value_counts().values[1])   \n",
    "features_upsampled, target_upsampled = upsample(features_samp, target_samp, repeat)\n",
    "# обучим модели на новых данных\n",
    "best_forest.fit(features_upsampled, target_upsampled)\n",
    "best_cat.fit(features_upsampled, target_upsampled)"
   ]
  },
  {
   "cell_type": "code",
   "execution_count": 34,
   "metadata": {},
   "outputs": [
    {
     "name": "stdout",
     "output_type": "stream",
     "text": [
      "Метрики случайного леса\n",
      "_______________________\n",
      "[[1161  286]\n",
      " [  82  289]]\n",
      "F1 = 0.6109936575052854\n",
      "AUC-ROC = 0.8766795135208638\n",
      "\n",
      "Метрики catboost\n",
      "_______________________\n",
      "[[1325  122]\n",
      " [ 156  215]]\n",
      "F1 = 0.6073446327683617\n",
      "AUC-ROC = 0.8600934734379337\n"
     ]
    }
   ],
   "source": [
    "predicted_test_forest = best_forest.predict(features_test)\n",
    "predicted_test_cat = best_cat.predict(features_test)\n",
    "print('Метрики случайного леса')\n",
    "print('_______________________')\n",
    "metrics(features_test, target_test, predicted_test_forest, best_forest)\n",
    "print('\\nМетрики catboost')\n",
    "print('_______________________')\n",
    "metrics(features_test, target_test, predicted_test_cat, best_cat)"
   ]
  },
  {
   "cell_type": "markdown",
   "metadata": {},
   "source": [
    "У нас лидируют случайный лес и catboost, а так же они закрывают порог f1 рейтинга в 0.59. Они так же показывают не плохие AUC ROC метрики."
   ]
  },
  {
   "cell_type": "markdown",
   "metadata": {},
   "source": [
    "##  Общий вывод"
   ]
  },
  {
   "cell_type": "markdown",
   "metadata": {},
   "source": [
    "В исследовании на были предоставлены данные о поведении клиентов и расторжении договоров с банком. Мы предобработали их, распределили на признаки и целевой признак. Далее изучили как себя ведет модель при дисбалансе классов и избавились от него разными методами. В результате лучшие модели получились при увеличении выборки. Порок f1 рейтинга 0.59 прошли 2 модели - случайный лес и catboost. Catboost выглядит немного лучше из за его способности работать на малых выборках и является более универсальным."
   ]
  }
 ],
 "metadata": {
  "ExecuteTimeLog": [
   {
    "duration": 1571,
    "start_time": "2021-10-06T10:21:15.100Z"
   },
   {
    "duration": 52,
    "start_time": "2021-10-06T10:21:16.674Z"
   },
   {
    "duration": 396,
    "start_time": "2021-10-06T10:22:22.676Z"
   },
   {
    "duration": 319,
    "start_time": "2021-10-06T10:22:33.280Z"
   },
   {
    "duration": 383,
    "start_time": "2021-10-06T10:25:55.519Z"
   },
   {
    "duration": 39,
    "start_time": "2021-10-06T10:26:28.807Z"
   },
   {
    "duration": 1688,
    "start_time": "2021-10-06T10:26:29.483Z"
   },
   {
    "duration": 1737,
    "start_time": "2021-10-06T10:26:42.079Z"
   },
   {
    "duration": 5,
    "start_time": "2021-10-06T10:27:40.803Z"
   },
   {
    "duration": 1157,
    "start_time": "2021-10-06T10:28:13.543Z"
   },
   {
    "duration": 302,
    "start_time": "2021-10-06T10:28:16.774Z"
   },
   {
    "duration": 6,
    "start_time": "2021-10-06T10:32:22.969Z"
   },
   {
    "duration": 387,
    "start_time": "2021-10-06T10:32:25.953Z"
   },
   {
    "duration": 371,
    "start_time": "2021-10-06T10:32:53.646Z"
   },
   {
    "duration": 269,
    "start_time": "2021-10-06T10:35:34.609Z"
   },
   {
    "duration": 1520,
    "start_time": "2021-10-06T10:36:02.058Z"
   },
   {
    "duration": 56,
    "start_time": "2021-10-06T10:36:03.580Z"
   },
   {
    "duration": 12,
    "start_time": "2021-10-06T10:36:03.639Z"
   },
   {
    "duration": 7,
    "start_time": "2021-10-06T10:36:03.654Z"
   },
   {
    "duration": 346,
    "start_time": "2021-10-06T10:36:03.664Z"
   },
   {
    "duration": 1261,
    "start_time": "2021-10-06T10:36:04.012Z"
   },
   {
    "duration": 317,
    "start_time": "2021-10-06T10:36:05.276Z"
   },
   {
    "duration": 1030,
    "start_time": "2021-10-06T10:36:05.596Z"
   },
   {
    "duration": 15,
    "start_time": "2021-10-06T10:37:10.098Z"
   },
   {
    "duration": 6,
    "start_time": "2021-10-06T10:37:12.962Z"
   },
   {
    "duration": 324,
    "start_time": "2021-10-06T10:37:14.542Z"
   },
   {
    "duration": 1088,
    "start_time": "2021-10-06T10:37:16.674Z"
   },
   {
    "duration": 303,
    "start_time": "2021-10-06T10:37:18.766Z"
   },
   {
    "duration": 224,
    "start_time": "2021-10-06T10:37:20.070Z"
   },
   {
    "duration": 6,
    "start_time": "2021-10-06T10:38:34.789Z"
   },
   {
    "duration": 9,
    "start_time": "2021-10-06T10:38:51.710Z"
   },
   {
    "duration": 44,
    "start_time": "2021-10-06T10:39:49.790Z"
   },
   {
    "duration": 10,
    "start_time": "2021-10-06T10:40:09.185Z"
   },
   {
    "duration": 12,
    "start_time": "2021-10-06T10:40:47.973Z"
   },
   {
    "duration": 9,
    "start_time": "2021-10-06T10:41:20.002Z"
   },
   {
    "duration": 236,
    "start_time": "2021-10-06T10:45:28.141Z"
   },
   {
    "duration": 6,
    "start_time": "2021-10-06T10:45:35.241Z"
   },
   {
    "duration": 47,
    "start_time": "2021-10-06T10:53:33.020Z"
   },
   {
    "duration": 309,
    "start_time": "2021-10-06T10:53:43.275Z"
   },
   {
    "duration": 40,
    "start_time": "2021-10-06T10:53:44.115Z"
   },
   {
    "duration": 38,
    "start_time": "2021-10-06T10:54:08.515Z"
   },
   {
    "duration": 33,
    "start_time": "2021-10-06T10:55:13.759Z"
   },
   {
    "duration": 1543,
    "start_time": "2021-10-06T10:55:27.421Z"
   },
   {
    "duration": 58,
    "start_time": "2021-10-06T10:55:28.967Z"
   },
   {
    "duration": 14,
    "start_time": "2021-10-06T10:55:29.029Z"
   },
   {
    "duration": 17,
    "start_time": "2021-10-06T10:55:29.046Z"
   },
   {
    "duration": 36,
    "start_time": "2021-10-06T10:55:29.066Z"
   },
   {
    "duration": 10,
    "start_time": "2021-10-06T10:55:29.105Z"
   },
   {
    "duration": 363,
    "start_time": "2021-10-06T10:55:29.118Z"
   },
   {
    "duration": 363,
    "start_time": "2021-10-06T10:55:29.486Z"
   },
   {
    "duration": 52,
    "start_time": "2021-10-06T10:55:29.852Z"
   },
   {
    "duration": 12,
    "start_time": "2021-10-06T10:55:29.907Z"
   },
   {
    "duration": 259,
    "start_time": "2021-10-06T10:55:29.922Z"
   },
   {
    "duration": 21,
    "start_time": "2021-10-06T10:55:30.184Z"
   },
   {
    "duration": 48,
    "start_time": "2021-10-06T10:55:30.208Z"
   },
   {
    "duration": 42,
    "start_time": "2021-10-06T10:55:30.259Z"
   },
   {
    "duration": 420,
    "start_time": "2021-10-06T10:59:21.984Z"
   },
   {
    "duration": 410,
    "start_time": "2021-10-06T10:59:30.284Z"
   },
   {
    "duration": 39,
    "start_time": "2021-10-06T11:01:12.772Z"
   },
   {
    "duration": 1584,
    "start_time": "2021-10-06T11:02:11.493Z"
   },
   {
    "duration": 54,
    "start_time": "2021-10-06T11:02:13.080Z"
   },
   {
    "duration": 14,
    "start_time": "2021-10-06T11:02:13.137Z"
   },
   {
    "duration": 17,
    "start_time": "2021-10-06T11:02:13.154Z"
   },
   {
    "duration": 6,
    "start_time": "2021-10-06T11:02:13.200Z"
   },
   {
    "duration": 20,
    "start_time": "2021-10-06T11:02:13.209Z"
   },
   {
    "duration": 342,
    "start_time": "2021-10-06T11:02:13.232Z"
   },
   {
    "duration": 360,
    "start_time": "2021-10-06T11:02:13.577Z"
   },
   {
    "duration": 11,
    "start_time": "2021-10-06T11:02:13.940Z"
   },
   {
    "duration": 758,
    "start_time": "2021-10-06T11:02:13.953Z"
   },
   {
    "duration": -6876682,
    "start_time": "2021-10-06T12:56:51.396Z"
   },
   {
    "duration": -6876684,
    "start_time": "2021-10-06T12:56:51.400Z"
   },
   {
    "duration": -6876694,
    "start_time": "2021-10-06T12:56:51.412Z"
   },
   {
    "duration": -6876698,
    "start_time": "2021-10-06T12:56:51.418Z"
   },
   {
    "duration": -6876697,
    "start_time": "2021-10-06T12:56:51.420Z"
   },
   {
    "duration": -6876696,
    "start_time": "2021-10-06T12:56:51.421Z"
   },
   {
    "duration": -6876695,
    "start_time": "2021-10-06T12:56:51.422Z"
   },
   {
    "duration": 452,
    "start_time": "2021-10-06T11:08:55.652Z"
   },
   {
    "duration": 500,
    "start_time": "2021-10-06T11:09:04.307Z"
   },
   {
    "duration": 37,
    "start_time": "2021-10-06T11:09:05.156Z"
   },
   {
    "duration": 226,
    "start_time": "2021-10-06T11:09:07.012Z"
   },
   {
    "duration": 8,
    "start_time": "2021-10-06T11:09:07.241Z"
   },
   {
    "duration": 44,
    "start_time": "2021-10-06T11:09:07.391Z"
   },
   {
    "duration": 9,
    "start_time": "2021-10-06T11:09:09.104Z"
   },
   {
    "duration": 387,
    "start_time": "2021-10-06T11:09:16.736Z"
   },
   {
    "duration": 114,
    "start_time": "2021-10-06T11:09:20.292Z"
   },
   {
    "duration": 11,
    "start_time": "2021-10-06T11:09:54.195Z"
   },
   {
    "duration": 1503,
    "start_time": "2021-10-06T11:10:04.149Z"
   },
   {
    "duration": 56,
    "start_time": "2021-10-06T11:10:05.655Z"
   },
   {
    "duration": 14,
    "start_time": "2021-10-06T11:10:05.716Z"
   },
   {
    "duration": 17,
    "start_time": "2021-10-06T11:10:05.733Z"
   },
   {
    "duration": 7,
    "start_time": "2021-10-06T11:10:05.753Z"
   },
   {
    "duration": 43,
    "start_time": "2021-10-06T11:10:05.763Z"
   },
   {
    "duration": 349,
    "start_time": "2021-10-06T11:10:05.809Z"
   },
   {
    "duration": 362,
    "start_time": "2021-10-06T11:10:06.164Z"
   },
   {
    "duration": 13,
    "start_time": "2021-10-06T11:10:06.529Z"
   },
   {
    "duration": 461,
    "start_time": "2021-10-06T11:10:06.545Z"
   },
   {
    "duration": 96,
    "start_time": "2021-10-06T11:10:07.010Z"
   },
   {
    "duration": 38,
    "start_time": "2021-10-06T11:10:07.108Z"
   },
   {
    "duration": 244,
    "start_time": "2021-10-06T11:10:07.149Z"
   },
   {
    "duration": 8,
    "start_time": "2021-10-06T11:10:07.399Z"
   },
   {
    "duration": 54,
    "start_time": "2021-10-06T11:10:07.409Z"
   },
   {
    "duration": 8,
    "start_time": "2021-10-06T11:10:07.465Z"
   },
   {
    "duration": 527,
    "start_time": "2021-10-06T11:10:07.475Z"
   },
   {
    "duration": 104,
    "start_time": "2021-10-06T11:10:08.005Z"
   },
   {
    "duration": 436,
    "start_time": "2021-10-06T11:10:45.069Z"
   },
   {
    "duration": 445,
    "start_time": "2021-10-06T11:10:54.758Z"
   },
   {
    "duration": 9,
    "start_time": "2021-10-06T11:10:56.413Z"
   },
   {
    "duration": 486,
    "start_time": "2021-10-06T11:11:59.115Z"
   },
   {
    "duration": 1582,
    "start_time": "2021-10-06T11:12:19.617Z"
   },
   {
    "duration": 57,
    "start_time": "2021-10-06T11:12:21.203Z"
   },
   {
    "duration": 12,
    "start_time": "2021-10-06T11:12:21.263Z"
   },
   {
    "duration": 34,
    "start_time": "2021-10-06T11:12:21.278Z"
   },
   {
    "duration": 8,
    "start_time": "2021-10-06T11:12:21.315Z"
   },
   {
    "duration": 23,
    "start_time": "2021-10-06T11:12:21.326Z"
   },
   {
    "duration": 360,
    "start_time": "2021-10-06T11:12:21.351Z"
   },
   {
    "duration": 386,
    "start_time": "2021-10-06T11:12:21.716Z"
   },
   {
    "duration": 13,
    "start_time": "2021-10-06T11:12:22.105Z"
   },
   {
    "duration": 487,
    "start_time": "2021-10-06T11:12:22.122Z"
   },
   {
    "duration": 93,
    "start_time": "2021-10-06T11:12:22.612Z"
   },
   {
    "duration": 45,
    "start_time": "2021-10-06T11:12:22.707Z"
   },
   {
    "duration": 269,
    "start_time": "2021-10-06T11:12:22.754Z"
   },
   {
    "duration": 9,
    "start_time": "2021-10-06T11:12:23.026Z"
   },
   {
    "duration": 65,
    "start_time": "2021-10-06T11:12:23.037Z"
   },
   {
    "duration": 15,
    "start_time": "2021-10-06T11:12:23.106Z"
   },
   {
    "duration": 480,
    "start_time": "2021-10-06T11:12:23.123Z"
   },
   {
    "duration": 306,
    "start_time": "2021-10-06T11:12:23.606Z"
   },
   {
    "duration": 1608,
    "start_time": "2021-10-06T12:01:02.160Z"
   },
   {
    "duration": 54,
    "start_time": "2021-10-06T12:01:03.771Z"
   },
   {
    "duration": 12,
    "start_time": "2021-10-06T12:01:03.828Z"
   },
   {
    "duration": 15,
    "start_time": "2021-10-06T12:01:03.843Z"
   },
   {
    "duration": 6,
    "start_time": "2021-10-06T12:01:03.860Z"
   },
   {
    "duration": 6,
    "start_time": "2021-10-06T12:01:03.900Z"
   },
   {
    "duration": 349,
    "start_time": "2021-10-06T12:01:03.908Z"
   },
   {
    "duration": 366,
    "start_time": "2021-10-06T12:01:04.260Z"
   },
   {
    "duration": 11,
    "start_time": "2021-10-06T12:01:04.629Z"
   },
   {
    "duration": 463,
    "start_time": "2021-10-06T12:01:04.642Z"
   },
   {
    "duration": 98,
    "start_time": "2021-10-06T12:01:05.108Z"
   },
   {
    "duration": 255,
    "start_time": "2021-10-06T12:01:05.209Z"
   },
   {
    "duration": 9,
    "start_time": "2021-10-06T12:01:05.466Z"
   },
   {
    "duration": 53,
    "start_time": "2021-10-06T12:01:05.477Z"
   },
   {
    "duration": 237,
    "start_time": "2021-10-06T12:01:05.532Z"
   },
   {
    "duration": 8,
    "start_time": "2021-10-06T12:01:05.772Z"
   },
   {
    "duration": 57,
    "start_time": "2021-10-06T12:01:05.782Z"
   },
   {
    "duration": 7,
    "start_time": "2021-10-06T12:01:05.842Z"
   },
   {
    "duration": 453,
    "start_time": "2021-10-06T12:01:05.851Z"
   },
   {
    "duration": 196,
    "start_time": "2021-10-06T12:01:06.307Z"
   },
   {
    "duration": 404,
    "start_time": "2021-10-06T12:09:49.308Z"
   },
   {
    "duration": 302,
    "start_time": "2021-10-06T12:10:14.836Z"
   },
   {
    "duration": 296,
    "start_time": "2021-10-06T12:11:37.039Z"
   },
   {
    "duration": 286,
    "start_time": "2021-10-06T12:12:56.608Z"
   },
   {
    "duration": 307,
    "start_time": "2021-10-06T12:13:29.420Z"
   },
   {
    "duration": 438,
    "start_time": "2021-10-06T12:13:45.933Z"
   },
   {
    "duration": 358,
    "start_time": "2021-10-06T12:14:49.352Z"
   },
   {
    "duration": 1882,
    "start_time": "2021-10-06T13:14:22.072Z"
   },
   {
    "duration": 1566,
    "start_time": "2021-10-06T13:14:39.395Z"
   },
   {
    "duration": 57,
    "start_time": "2021-10-06T13:14:40.963Z"
   },
   {
    "duration": 13,
    "start_time": "2021-10-06T13:14:41.023Z"
   },
   {
    "duration": 25,
    "start_time": "2021-10-06T13:14:41.039Z"
   },
   {
    "duration": 6,
    "start_time": "2021-10-06T13:14:41.066Z"
   },
   {
    "duration": 6,
    "start_time": "2021-10-06T13:14:41.101Z"
   },
   {
    "duration": 350,
    "start_time": "2021-10-06T13:14:41.110Z"
   },
   {
    "duration": 367,
    "start_time": "2021-10-06T13:14:41.463Z"
   },
   {
    "duration": 11,
    "start_time": "2021-10-06T13:14:41.833Z"
   },
   {
    "duration": 462,
    "start_time": "2021-10-06T13:14:41.847Z"
   },
   {
    "duration": 97,
    "start_time": "2021-10-06T13:14:42.313Z"
   },
   {
    "duration": 548,
    "start_time": "2021-10-06T13:14:42.412Z"
   },
   {
    "duration": 9,
    "start_time": "2021-10-06T13:14:42.962Z"
   },
   {
    "duration": 65,
    "start_time": "2021-10-06T13:14:42.973Z"
   },
   {
    "duration": 519,
    "start_time": "2021-10-06T13:14:43.040Z"
   },
   {
    "duration": 8,
    "start_time": "2021-10-06T13:14:43.561Z"
   },
   {
    "duration": 63,
    "start_time": "2021-10-06T13:14:43.572Z"
   },
   {
    "duration": 8,
    "start_time": "2021-10-06T13:14:43.637Z"
   },
   {
    "duration": 463,
    "start_time": "2021-10-06T13:14:43.647Z"
   },
   {
    "duration": 201,
    "start_time": "2021-10-06T13:14:44.202Z"
   },
   {
    "duration": 396,
    "start_time": "2021-10-06T13:14:44.406Z"
   },
   {
    "duration": 464,
    "start_time": "2021-10-06T13:14:44.804Z"
   },
   {
    "duration": 104,
    "start_time": "2021-10-08T07:40:11.801Z"
   },
   {
    "duration": 250,
    "start_time": "2021-10-08T07:41:10.673Z"
   },
   {
    "duration": 1214,
    "start_time": "2021-10-08T07:41:20.821Z"
   },
   {
    "duration": 42,
    "start_time": "2021-10-08T07:41:27.817Z"
   },
   {
    "duration": 10,
    "start_time": "2021-10-08T07:41:28.885Z"
   },
   {
    "duration": 36,
    "start_time": "2021-10-08T07:41:31.114Z"
   },
   {
    "duration": 11,
    "start_time": "2021-10-08T07:46:11.849Z"
   },
   {
    "duration": 282,
    "start_time": "2021-10-08T07:47:16.969Z"
   },
   {
    "duration": 5,
    "start_time": "2021-10-08T07:47:22.707Z"
   },
   {
    "duration": 4,
    "start_time": "2021-10-08T07:55:21.665Z"
   },
   {
    "duration": 12,
    "start_time": "2021-10-08T07:58:04.446Z"
   },
   {
    "duration": 5613,
    "start_time": "2021-10-08T07:58:06.156Z"
   },
   {
    "duration": 3,
    "start_time": "2021-10-08T07:58:25.686Z"
   },
   {
    "duration": 3,
    "start_time": "2021-10-08T08:01:57.160Z"
   },
   {
    "duration": 5,
    "start_time": "2021-10-08T08:01:57.910Z"
   },
   {
    "duration": 4,
    "start_time": "2021-10-08T08:01:59.670Z"
   },
   {
    "duration": 19,
    "start_time": "2021-10-08T08:02:00.916Z"
   },
   {
    "duration": 13,
    "start_time": "2021-10-08T08:02:15.857Z"
   },
   {
    "duration": 7,
    "start_time": "2021-10-08T08:02:17.346Z"
   },
   {
    "duration": 41,
    "start_time": "2021-10-08T08:02:21.919Z"
   },
   {
    "duration": 227,
    "start_time": "2021-10-08T08:02:49.172Z"
   },
   {
    "duration": 35,
    "start_time": "2021-10-08T08:03:16.032Z"
   },
   {
    "duration": 41,
    "start_time": "2021-10-08T08:03:18.319Z"
   },
   {
    "duration": 8,
    "start_time": "2021-10-08T08:03:23.211Z"
   },
   {
    "duration": 10,
    "start_time": "2021-10-08T08:03:26.065Z"
   },
   {
    "duration": 8,
    "start_time": "2021-10-08T08:03:33.632Z"
   },
   {
    "duration": 62,
    "start_time": "2021-10-08T08:03:37.384Z"
   },
   {
    "duration": 13,
    "start_time": "2021-10-08T08:03:40.640Z"
   },
   {
    "duration": 155,
    "start_time": "2021-10-08T08:03:43.374Z"
   },
   {
    "duration": 305,
    "start_time": "2021-10-08T08:03:46.804Z"
   },
   {
    "duration": 32,
    "start_time": "2021-10-08T08:05:48.594Z"
   },
   {
    "duration": 7,
    "start_time": "2021-10-08T08:05:53.203Z"
   },
   {
    "duration": 7,
    "start_time": "2021-10-08T08:05:59.059Z"
   },
   {
    "duration": 6,
    "start_time": "2021-10-08T08:06:03.991Z"
   },
   {
    "duration": 56,
    "start_time": "2021-10-08T08:06:14.197Z"
   },
   {
    "duration": 31,
    "start_time": "2021-10-08T08:07:49.335Z"
   },
   {
    "duration": 9,
    "start_time": "2021-10-08T08:07:51.919Z"
   },
   {
    "duration": 171,
    "start_time": "2021-10-08T08:08:03.477Z"
   },
   {
    "duration": 420,
    "start_time": "2021-10-08T09:29:35.293Z"
   },
   {
    "duration": 4,
    "start_time": "2021-10-08T09:30:14.061Z"
   },
   {
    "duration": 16,
    "start_time": "2021-10-08T09:30:17.857Z"
   },
   {
    "duration": 28,
    "start_time": "2021-10-08T09:30:49.557Z"
   },
   {
    "duration": 6,
    "start_time": "2021-10-08T09:30:51.941Z"
   },
   {
    "duration": 6,
    "start_time": "2021-10-08T09:30:54.153Z"
   },
   {
    "duration": 5,
    "start_time": "2021-10-08T09:30:56.201Z"
   },
   {
    "duration": 103,
    "start_time": "2021-10-08T09:30:57.849Z"
   },
   {
    "duration": 14,
    "start_time": "2021-10-08T09:30:58.877Z"
   },
   {
    "duration": 39,
    "start_time": "2021-10-08T09:31:56.361Z"
   },
   {
    "duration": 6,
    "start_time": "2021-10-08T09:31:58.201Z"
   },
   {
    "duration": 8,
    "start_time": "2021-10-08T09:32:01.956Z"
   },
   {
    "duration": 6,
    "start_time": "2021-10-08T09:32:03.161Z"
   },
   {
    "duration": 31,
    "start_time": "2021-10-08T09:32:05.925Z"
   },
   {
    "duration": 9,
    "start_time": "2021-10-08T09:32:07.965Z"
   },
   {
    "duration": 101,
    "start_time": "2021-10-08T09:34:43.877Z"
   },
   {
    "duration": 102,
    "start_time": "2021-10-08T09:34:49.881Z"
   },
   {
    "duration": 938,
    "start_time": "2021-10-08T09:34:55.985Z"
   },
   {
    "duration": 798,
    "start_time": "2021-10-08T09:44:29.768Z"
   },
   {
    "duration": 755,
    "start_time": "2021-10-08T09:54:35.107Z"
   },
   {
    "duration": 36,
    "start_time": "2021-10-08T09:54:36.739Z"
   },
   {
    "duration": 874,
    "start_time": "2021-10-08T09:54:51.437Z"
   },
   {
    "duration": 37,
    "start_time": "2021-10-08T09:54:53.633Z"
   },
   {
    "duration": 108,
    "start_time": "2021-10-08T10:33:47.939Z"
   },
   {
    "duration": 78,
    "start_time": "2021-10-08T10:33:51.767Z"
   },
   {
    "duration": 32,
    "start_time": "2021-10-08T10:34:04.915Z"
   },
   {
    "duration": 44,
    "start_time": "2021-10-08T10:34:44.331Z"
   },
   {
    "duration": 29,
    "start_time": "2021-10-08T10:34:48.855Z"
   },
   {
    "duration": 29,
    "start_time": "2021-10-08T10:34:53.035Z"
   },
   {
    "duration": 26,
    "start_time": "2021-10-08T10:34:55.983Z"
   },
   {
    "duration": 22,
    "start_time": "2021-10-08T10:34:58.603Z"
   },
   {
    "duration": 21,
    "start_time": "2021-10-08T10:35:01.091Z"
   },
   {
    "duration": 26,
    "start_time": "2021-10-08T10:35:03.690Z"
   },
   {
    "duration": 32,
    "start_time": "2021-10-08T12:43:04.446Z"
   },
   {
    "duration": 5,
    "start_time": "2021-10-08T12:43:05.706Z"
   },
   {
    "duration": 8,
    "start_time": "2021-10-08T12:43:36.970Z"
   },
   {
    "duration": 8,
    "start_time": "2021-10-08T12:43:37.962Z"
   },
   {
    "duration": 8,
    "start_time": "2021-10-08T12:43:39.834Z"
   },
   {
    "duration": 24,
    "start_time": "2021-10-08T12:43:40.818Z"
   },
   {
    "duration": 31,
    "start_time": "2021-10-08T12:43:43.871Z"
   },
   {
    "duration": 7,
    "start_time": "2021-10-08T12:43:45.006Z"
   },
   {
    "duration": 8,
    "start_time": "2021-10-08T12:43:46.394Z"
   },
   {
    "duration": 8,
    "start_time": "2021-10-08T12:43:47.214Z"
   },
   {
    "duration": 18,
    "start_time": "2021-10-08T12:44:45.886Z"
   },
   {
    "duration": 8,
    "start_time": "2021-10-08T12:44:47.754Z"
   },
   {
    "duration": 153,
    "start_time": "2021-10-08T13:01:10.036Z"
   },
   {
    "duration": 30,
    "start_time": "2021-10-08T13:01:13.576Z"
   },
   {
    "duration": 6,
    "start_time": "2021-10-08T13:01:14.460Z"
   },
   {
    "duration": 208,
    "start_time": "2021-10-08T13:01:15.428Z"
   },
   {
    "duration": 4,
    "start_time": "2021-10-08T13:08:18.932Z"
   },
   {
    "duration": 6,
    "start_time": "2021-10-08T13:08:49.655Z"
   },
   {
    "duration": 25,
    "start_time": "2021-10-08T13:13:33.123Z"
   },
   {
    "duration": 6,
    "start_time": "2021-10-08T13:13:41.671Z"
   },
   {
    "duration": 6,
    "start_time": "2021-10-08T14:00:58.440Z"
   },
   {
    "duration": 40,
    "start_time": "2021-10-08T14:01:01.792Z"
   },
   {
    "duration": 6,
    "start_time": "2021-10-08T14:01:02.708Z"
   },
   {
    "duration": 6,
    "start_time": "2021-10-08T14:01:03.676Z"
   },
   {
    "duration": 39,
    "start_time": "2021-10-08T14:01:58.432Z"
   },
   {
    "duration": 6,
    "start_time": "2021-10-08T14:02:08.756Z"
   },
   {
    "duration": 215,
    "start_time": "2021-10-08T14:04:43.724Z"
   },
   {
    "duration": 26,
    "start_time": "2021-10-08T14:04:47.420Z"
   },
   {
    "duration": 7,
    "start_time": "2021-10-08T14:04:48.060Z"
   },
   {
    "duration": 6,
    "start_time": "2021-10-08T14:04:49.044Z"
   },
   {
    "duration": 8,
    "start_time": "2021-10-08T14:04:50.348Z"
   },
   {
    "duration": 41,
    "start_time": "2021-10-08T14:06:07.112Z"
   },
   {
    "duration": 6,
    "start_time": "2021-10-08T14:06:16.412Z"
   },
   {
    "duration": 9,
    "start_time": "2021-10-08T14:06:19.344Z"
   },
   {
    "duration": 38,
    "start_time": "2021-10-08T14:06:42.224Z"
   },
   {
    "duration": 7,
    "start_time": "2021-10-08T14:06:54.840Z"
   },
   {
    "duration": 7,
    "start_time": "2021-10-08T14:08:20.752Z"
   },
   {
    "duration": 371,
    "start_time": "2021-10-09T06:05:42.152Z"
   },
   {
    "duration": 1581,
    "start_time": "2021-10-09T06:05:53.144Z"
   },
   {
    "duration": 50,
    "start_time": "2021-10-09T06:05:54.727Z"
   },
   {
    "duration": 11,
    "start_time": "2021-10-09T06:05:54.781Z"
   },
   {
    "duration": 82,
    "start_time": "2021-10-09T06:05:54.795Z"
   },
   {
    "duration": 6,
    "start_time": "2021-10-09T06:05:54.879Z"
   },
   {
    "duration": 7,
    "start_time": "2021-10-09T06:05:54.887Z"
   },
   {
    "duration": 23,
    "start_time": "2021-10-09T06:05:54.896Z"
   },
   {
    "duration": 4,
    "start_time": "2021-10-09T06:05:54.922Z"
   },
   {
    "duration": 36,
    "start_time": "2021-10-09T06:05:54.930Z"
   },
   {
    "duration": 32,
    "start_time": "2021-10-09T06:05:54.970Z"
   },
   {
    "duration": 7,
    "start_time": "2021-10-09T06:05:55.004Z"
   },
   {
    "duration": 16,
    "start_time": "2021-10-09T06:05:55.014Z"
   },
   {
    "duration": 35,
    "start_time": "2021-10-09T06:05:55.063Z"
   },
   {
    "duration": 8,
    "start_time": "2021-10-09T06:05:55.101Z"
   },
   {
    "duration": 11,
    "start_time": "2021-10-09T06:05:55.112Z"
   },
   {
    "duration": 68,
    "start_time": "2021-10-09T06:05:55.125Z"
   },
   {
    "duration": 9,
    "start_time": "2021-10-09T06:05:55.195Z"
   },
   {
    "duration": 8,
    "start_time": "2021-10-09T06:05:55.206Z"
   },
   {
    "duration": 10,
    "start_time": "2021-10-09T06:05:55.216Z"
   },
   {
    "duration": 22,
    "start_time": "2021-10-09T06:05:55.263Z"
   },
   {
    "duration": 471,
    "start_time": "2021-10-09T06:05:55.287Z"
   },
   {
    "duration": -6875532,
    "start_time": "2021-10-09T08:00:31.292Z"
   },
   {
    "duration": -6875533,
    "start_time": "2021-10-09T08:00:31.295Z"
   },
   {
    "duration": -6875541,
    "start_time": "2021-10-09T08:00:31.304Z"
   },
   {
    "duration": -6875543,
    "start_time": "2021-10-09T08:00:31.308Z"
   },
   {
    "duration": -6875544,
    "start_time": "2021-10-09T08:00:31.310Z"
   },
   {
    "duration": -6875547,
    "start_time": "2021-10-09T08:00:31.315Z"
   },
   {
    "duration": -6875549,
    "start_time": "2021-10-09T08:00:31.319Z"
   },
   {
    "duration": -6875551,
    "start_time": "2021-10-09T08:00:31.322Z"
   },
   {
    "duration": 335,
    "start_time": "2021-10-09T06:07:29.138Z"
   },
   {
    "duration": 308,
    "start_time": "2021-10-09T06:08:22.902Z"
   },
   {
    "duration": 21,
    "start_time": "2021-10-09T06:08:54.606Z"
   },
   {
    "duration": 7573,
    "start_time": "2021-10-09T06:11:32.346Z"
   },
   {
    "duration": 22,
    "start_time": "2021-10-09T06:11:58.414Z"
   },
   {
    "duration": 35,
    "start_time": "2021-10-09T06:12:52.159Z"
   },
   {
    "duration": 13,
    "start_time": "2021-10-09T06:30:01.754Z"
   },
   {
    "duration": 6,
    "start_time": "2021-10-09T06:31:51.789Z"
   },
   {
    "duration": 6,
    "start_time": "2021-10-09T06:32:57.855Z"
   },
   {
    "duration": 22,
    "start_time": "2021-10-09T06:32:58.663Z"
   },
   {
    "duration": 12,
    "start_time": "2021-10-09T06:33:00.573Z"
   },
   {
    "duration": 1617,
    "start_time": "2021-10-09T06:33:42.367Z"
   },
   {
    "duration": 60,
    "start_time": "2021-10-09T06:33:43.987Z"
   },
   {
    "duration": 21,
    "start_time": "2021-10-09T06:33:44.051Z"
   },
   {
    "duration": 67,
    "start_time": "2021-10-09T06:33:44.074Z"
   },
   {
    "duration": 6,
    "start_time": "2021-10-09T06:33:44.162Z"
   },
   {
    "duration": 9,
    "start_time": "2021-10-09T06:33:44.170Z"
   },
   {
    "duration": 23,
    "start_time": "2021-10-09T06:33:44.181Z"
   },
   {
    "duration": 5,
    "start_time": "2021-10-09T06:33:44.208Z"
   },
   {
    "duration": 7,
    "start_time": "2021-10-09T06:33:44.216Z"
   },
   {
    "duration": 66,
    "start_time": "2021-10-09T06:33:44.225Z"
   },
   {
    "duration": 5,
    "start_time": "2021-10-09T06:33:44.293Z"
   },
   {
    "duration": 9,
    "start_time": "2021-10-09T06:33:44.300Z"
   },
   {
    "duration": 22,
    "start_time": "2021-10-09T06:33:44.312Z"
   },
   {
    "duration": 11,
    "start_time": "2021-10-09T06:33:44.362Z"
   },
   {
    "duration": 609,
    "start_time": "2021-10-09T06:33:44.375Z"
   },
   {
    "duration": -6875564,
    "start_time": "2021-10-09T08:28:20.552Z"
   },
   {
    "duration": -6875565,
    "start_time": "2021-10-09T08:28:20.555Z"
   },
   {
    "duration": -6875564,
    "start_time": "2021-10-09T08:28:20.557Z"
   },
   {
    "duration": -6875564,
    "start_time": "2021-10-09T08:28:20.559Z"
   },
   {
    "duration": -6875566,
    "start_time": "2021-10-09T08:28:20.562Z"
   },
   {
    "duration": -6875567,
    "start_time": "2021-10-09T08:28:20.564Z"
   },
   {
    "duration": -6875567,
    "start_time": "2021-10-09T08:28:20.566Z"
   },
   {
    "duration": -6875572,
    "start_time": "2021-10-09T08:28:20.572Z"
   },
   {
    "duration": -6875573,
    "start_time": "2021-10-09T08:28:20.574Z"
   },
   {
    "duration": -6875573,
    "start_time": "2021-10-09T08:28:20.576Z"
   },
   {
    "duration": -6875573,
    "start_time": "2021-10-09T08:28:20.577Z"
   },
   {
    "duration": -6875574,
    "start_time": "2021-10-09T08:28:20.580Z"
   },
   {
    "duration": -6875575,
    "start_time": "2021-10-09T08:28:20.583Z"
   },
   {
    "duration": -6875576,
    "start_time": "2021-10-09T08:28:20.585Z"
   },
   {
    "duration": -6875583,
    "start_time": "2021-10-09T08:28:20.594Z"
   },
   {
    "duration": -6875587,
    "start_time": "2021-10-09T08:28:20.599Z"
   },
   {
    "duration": -6875588,
    "start_time": "2021-10-09T08:28:20.602Z"
   },
   {
    "duration": 6,
    "start_time": "2021-10-09T06:34:08.773Z"
   },
   {
    "duration": 84,
    "start_time": "2021-10-09T06:34:08.783Z"
   },
   {
    "duration": 14,
    "start_time": "2021-10-09T06:34:08.871Z"
   },
   {
    "duration": 84,
    "start_time": "2021-10-09T06:34:08.888Z"
   },
   {
    "duration": 6,
    "start_time": "2021-10-09T06:34:08.974Z"
   },
   {
    "duration": 31,
    "start_time": "2021-10-09T06:34:08.983Z"
   },
   {
    "duration": 42,
    "start_time": "2021-10-09T06:34:09.017Z"
   },
   {
    "duration": 18,
    "start_time": "2021-10-09T06:34:09.061Z"
   },
   {
    "duration": 22,
    "start_time": "2021-10-09T06:34:09.083Z"
   },
   {
    "duration": 58,
    "start_time": "2021-10-09T06:34:09.108Z"
   },
   {
    "duration": 11,
    "start_time": "2021-10-09T06:34:09.168Z"
   },
   {
    "duration": 16,
    "start_time": "2021-10-09T06:34:09.182Z"
   },
   {
    "duration": 40,
    "start_time": "2021-10-09T06:34:09.200Z"
   },
   {
    "duration": 19,
    "start_time": "2021-10-09T06:34:09.243Z"
   },
   {
    "duration": 37,
    "start_time": "2021-10-09T06:34:09.264Z"
   },
   {
    "duration": 19,
    "start_time": "2021-10-09T06:34:09.304Z"
   },
   {
    "duration": 61,
    "start_time": "2021-10-09T06:34:09.326Z"
   },
   {
    "duration": 22,
    "start_time": "2021-10-09T06:34:09.390Z"
   },
   {
    "duration": 364,
    "start_time": "2021-10-09T06:34:09.414Z"
   },
   {
    "duration": -6875529,
    "start_time": "2021-10-09T08:28:45.310Z"
   },
   {
    "duration": -6875530,
    "start_time": "2021-10-09T08:28:45.312Z"
   },
   {
    "duration": -6875530,
    "start_time": "2021-10-09T08:28:45.314Z"
   },
   {
    "duration": -6875550,
    "start_time": "2021-10-09T08:28:45.335Z"
   },
   {
    "duration": -6875550,
    "start_time": "2021-10-09T08:28:45.337Z"
   },
   {
    "duration": -6875551,
    "start_time": "2021-10-09T08:28:45.339Z"
   },
   {
    "duration": -6875551,
    "start_time": "2021-10-09T08:28:45.341Z"
   },
   {
    "duration": -6875554,
    "start_time": "2021-10-09T08:28:45.345Z"
   },
   {
    "duration": -6875554,
    "start_time": "2021-10-09T08:28:45.347Z"
   },
   {
    "duration": -6875554,
    "start_time": "2021-10-09T08:28:45.349Z"
   },
   {
    "duration": -6875554,
    "start_time": "2021-10-09T08:28:45.351Z"
   },
   {
    "duration": -6875555,
    "start_time": "2021-10-09T08:28:45.354Z"
   },
   {
    "duration": -6875555,
    "start_time": "2021-10-09T08:28:45.355Z"
   },
   {
    "duration": 10,
    "start_time": "2021-10-09T06:35:05.422Z"
   },
   {
    "duration": 23,
    "start_time": "2021-10-09T06:35:20.974Z"
   },
   {
    "duration": 342,
    "start_time": "2021-10-09T06:35:41.775Z"
   },
   {
    "duration": 404,
    "start_time": "2021-10-09T06:36:07.946Z"
   },
   {
    "duration": 537,
    "start_time": "2021-10-09T07:28:26.886Z"
   },
   {
    "duration": 348,
    "start_time": "2021-10-09T07:28:42.818Z"
   },
   {
    "duration": 1602,
    "start_time": "2021-10-09T07:29:41.280Z"
   },
   {
    "duration": 52,
    "start_time": "2021-10-09T07:29:42.885Z"
   },
   {
    "duration": 24,
    "start_time": "2021-10-09T07:29:42.939Z"
   },
   {
    "duration": 128,
    "start_time": "2021-10-09T07:29:42.966Z"
   },
   {
    "duration": 9,
    "start_time": "2021-10-09T07:29:43.098Z"
   },
   {
    "duration": 9,
    "start_time": "2021-10-09T07:29:43.111Z"
   },
   {
    "duration": 58,
    "start_time": "2021-10-09T07:29:43.125Z"
   },
   {
    "duration": 5,
    "start_time": "2021-10-09T07:29:43.185Z"
   },
   {
    "duration": 8,
    "start_time": "2021-10-09T07:29:43.195Z"
   },
   {
    "duration": 33,
    "start_time": "2021-10-09T07:29:43.207Z"
   },
   {
    "duration": 24,
    "start_time": "2021-10-09T07:29:43.242Z"
   },
   {
    "duration": 13,
    "start_time": "2021-10-09T07:29:43.269Z"
   },
   {
    "duration": 481,
    "start_time": "2021-10-09T07:29:43.284Z"
   },
   {
    "duration": -6875563,
    "start_time": "2021-10-09T09:24:19.331Z"
   },
   {
    "duration": -6875565,
    "start_time": "2021-10-09T09:24:19.335Z"
   },
   {
    "duration": -6875570,
    "start_time": "2021-10-09T09:24:19.342Z"
   },
   {
    "duration": -6875570,
    "start_time": "2021-10-09T09:24:19.344Z"
   },
   {
    "duration": -6875572,
    "start_time": "2021-10-09T09:24:19.349Z"
   },
   {
    "duration": -6875579,
    "start_time": "2021-10-09T09:24:19.358Z"
   },
   {
    "duration": -6875579,
    "start_time": "2021-10-09T09:24:19.360Z"
   },
   {
    "duration": -6875582,
    "start_time": "2021-10-09T09:24:19.365Z"
   },
   {
    "duration": -6875582,
    "start_time": "2021-10-09T09:24:19.368Z"
   },
   {
    "duration": -6875587,
    "start_time": "2021-10-09T09:24:19.375Z"
   },
   {
    "duration": -6875591,
    "start_time": "2021-10-09T09:24:19.381Z"
   },
   {
    "duration": -6875592,
    "start_time": "2021-10-09T09:24:19.384Z"
   },
   {
    "duration": -6875597,
    "start_time": "2021-10-09T09:24:19.391Z"
   },
   {
    "duration": -6875599,
    "start_time": "2021-10-09T09:24:19.396Z"
   },
   {
    "duration": -6875601,
    "start_time": "2021-10-09T09:24:19.400Z"
   },
   {
    "duration": 1737,
    "start_time": "2021-10-09T07:30:01.088Z"
   },
   {
    "duration": 55,
    "start_time": "2021-10-09T07:30:02.827Z"
   },
   {
    "duration": 15,
    "start_time": "2021-10-09T07:30:02.886Z"
   },
   {
    "duration": 89,
    "start_time": "2021-10-09T07:30:02.905Z"
   },
   {
    "duration": 10,
    "start_time": "2021-10-09T07:30:02.998Z"
   },
   {
    "duration": 16,
    "start_time": "2021-10-09T07:30:03.012Z"
   },
   {
    "duration": 49,
    "start_time": "2021-10-09T07:30:03.032Z"
   },
   {
    "duration": 5,
    "start_time": "2021-10-09T07:30:03.085Z"
   },
   {
    "duration": 10,
    "start_time": "2021-10-09T07:30:03.093Z"
   },
   {
    "duration": 67,
    "start_time": "2021-10-09T07:30:03.106Z"
   },
   {
    "duration": 7,
    "start_time": "2021-10-09T07:30:03.175Z"
   },
   {
    "duration": 13,
    "start_time": "2021-10-09T07:30:03.185Z"
   },
   {
    "duration": 69,
    "start_time": "2021-10-09T07:30:03.201Z"
   },
   {
    "duration": 12,
    "start_time": "2021-10-09T07:30:03.272Z"
   },
   {
    "duration": 45,
    "start_time": "2021-10-09T07:30:03.286Z"
   },
   {
    "duration": 34,
    "start_time": "2021-10-09T07:30:03.334Z"
   },
   {
    "duration": 22,
    "start_time": "2021-10-09T07:30:03.370Z"
   },
   {
    "duration": 21,
    "start_time": "2021-10-09T07:30:03.394Z"
   },
   {
    "duration": 51,
    "start_time": "2021-10-09T07:30:03.418Z"
   },
   {
    "duration": 538,
    "start_time": "2021-10-09T07:30:03.471Z"
   },
   {
    "duration": -6875555,
    "start_time": "2021-10-09T09:24:39.567Z"
   },
   {
    "duration": -6875557,
    "start_time": "2021-10-09T09:24:39.570Z"
   },
   {
    "duration": -6875566,
    "start_time": "2021-10-09T09:24:39.580Z"
   },
   {
    "duration": -6875567,
    "start_time": "2021-10-09T09:24:39.583Z"
   },
   {
    "duration": -6875573,
    "start_time": "2021-10-09T09:24:39.590Z"
   },
   {
    "duration": -6875575,
    "start_time": "2021-10-09T09:24:39.593Z"
   },
   {
    "duration": -6875578,
    "start_time": "2021-10-09T09:24:39.598Z"
   },
   {
    "duration": -6875579,
    "start_time": "2021-10-09T09:24:39.600Z"
   },
   {
    "duration": 57,
    "start_time": "2021-10-09T07:30:31.199Z"
   },
   {
    "duration": 10,
    "start_time": "2021-10-09T07:30:33.915Z"
   },
   {
    "duration": 9,
    "start_time": "2021-10-09T07:30:34.791Z"
   },
   {
    "duration": 11,
    "start_time": "2021-10-09T07:30:35.263Z"
   },
   {
    "duration": 133,
    "start_time": "2021-10-09T07:30:40.007Z"
   },
   {
    "duration": 5,
    "start_time": "2021-10-09T07:37:14.823Z"
   },
   {
    "duration": 1850,
    "start_time": "2021-10-09T07:38:21.907Z"
   },
   {
    "duration": 3375,
    "start_time": "2021-10-09T07:38:31.867Z"
   },
   {
    "duration": 2247,
    "start_time": "2021-10-09T07:39:16.342Z"
   },
   {
    "duration": 1425,
    "start_time": "2021-10-09T07:48:18.393Z"
   },
   {
    "duration": 5,
    "start_time": "2021-10-09T07:48:32.629Z"
   },
   {
    "duration": 1463,
    "start_time": "2021-10-09T07:48:33.221Z"
   },
   {
    "duration": 6,
    "start_time": "2021-10-09T07:53:15.680Z"
   },
   {
    "duration": 16,
    "start_time": "2021-10-09T07:53:59.016Z"
   },
   {
    "duration": 16,
    "start_time": "2021-10-09T07:55:38.940Z"
   },
   {
    "duration": 1353,
    "start_time": "2021-10-09T07:56:36.544Z"
   },
   {
    "duration": 61,
    "start_time": "2021-10-09T07:56:39.316Z"
   },
   {
    "duration": 36,
    "start_time": "2021-10-09T07:57:25.416Z"
   },
   {
    "duration": 32,
    "start_time": "2021-10-09T07:57:26.243Z"
   },
   {
    "duration": 66,
    "start_time": "2021-10-09T07:57:36.444Z"
   },
   {
    "duration": 25,
    "start_time": "2021-10-09T07:57:38.124Z"
   },
   {
    "duration": 66,
    "start_time": "2021-10-09T07:57:43.236Z"
   },
   {
    "duration": 20,
    "start_time": "2021-10-09T07:57:44.336Z"
   },
   {
    "duration": 37,
    "start_time": "2021-10-09T07:57:48.519Z"
   },
   {
    "duration": 18,
    "start_time": "2021-10-09T07:57:49.251Z"
   },
   {
    "duration": 392,
    "start_time": "2021-10-09T08:08:52.742Z"
   },
   {
    "duration": 8498,
    "start_time": "2021-10-09T08:21:24.032Z"
   },
   {
    "duration": 22,
    "start_time": "2021-10-09T08:22:03.820Z"
   },
   {
    "duration": 8819,
    "start_time": "2021-10-09T08:22:23.910Z"
   },
   {
    "duration": 1615,
    "start_time": "2021-10-09T08:23:24.714Z"
   },
   {
    "duration": 53,
    "start_time": "2021-10-09T08:23:26.332Z"
   },
   {
    "duration": 12,
    "start_time": "2021-10-09T08:23:26.388Z"
   },
   {
    "duration": 85,
    "start_time": "2021-10-09T08:23:26.403Z"
   },
   {
    "duration": 7,
    "start_time": "2021-10-09T08:23:26.490Z"
   },
   {
    "duration": 10,
    "start_time": "2021-10-09T08:23:26.501Z"
   },
   {
    "duration": 55,
    "start_time": "2021-10-09T08:23:26.514Z"
   },
   {
    "duration": 7,
    "start_time": "2021-10-09T08:23:26.576Z"
   },
   {
    "duration": 11,
    "start_time": "2021-10-09T08:23:26.589Z"
   },
   {
    "duration": 700,
    "start_time": "2021-10-09T08:23:26.604Z"
   },
   {
    "duration": -6875551,
    "start_time": "2021-10-09T10:18:02.860Z"
   },
   {
    "duration": -6875560,
    "start_time": "2021-10-09T10:18:02.871Z"
   },
   {
    "duration": -6875559,
    "start_time": "2021-10-09T10:18:02.874Z"
   },
   {
    "duration": -6875561,
    "start_time": "2021-10-09T10:18:02.879Z"
   },
   {
    "duration": -6875562,
    "start_time": "2021-10-09T10:18:02.882Z"
   },
   {
    "duration": -6875562,
    "start_time": "2021-10-09T10:18:02.885Z"
   },
   {
    "duration": -6875563,
    "start_time": "2021-10-09T10:18:02.888Z"
   },
   {
    "duration": -6875565,
    "start_time": "2021-10-09T10:18:02.892Z"
   },
   {
    "duration": -6875568,
    "start_time": "2021-10-09T10:18:02.897Z"
   },
   {
    "duration": -6875568,
    "start_time": "2021-10-09T10:18:02.900Z"
   },
   {
    "duration": -6875570,
    "start_time": "2021-10-09T10:18:02.904Z"
   },
   {
    "duration": -6875570,
    "start_time": "2021-10-09T10:18:02.907Z"
   },
   {
    "duration": -6875571,
    "start_time": "2021-10-09T10:18:02.911Z"
   },
   {
    "duration": -6875571,
    "start_time": "2021-10-09T10:18:02.914Z"
   },
   {
    "duration": -6875569,
    "start_time": "2021-10-09T10:18:02.930Z"
   },
   {
    "duration": -6875569,
    "start_time": "2021-10-09T10:18:02.933Z"
   },
   {
    "duration": 28,
    "start_time": "2021-10-09T08:24:19.377Z"
   },
   {
    "duration": 52,
    "start_time": "2021-10-09T08:24:31.533Z"
   },
   {
    "duration": 30,
    "start_time": "2021-10-09T08:25:20.045Z"
   },
   {
    "duration": 3,
    "start_time": "2021-10-09T08:25:20.077Z"
   },
   {
    "duration": 7,
    "start_time": "2021-10-09T08:25:20.084Z"
   },
   {
    "duration": 16,
    "start_time": "2021-10-09T08:25:20.093Z"
   },
   {
    "duration": 328,
    "start_time": "2021-10-09T08:25:20.113Z"
   },
   {
    "duration": -6875558,
    "start_time": "2021-10-09T10:19:56.001Z"
   },
   {
    "duration": -6875565,
    "start_time": "2021-10-09T10:19:56.010Z"
   },
   {
    "duration": -6875568,
    "start_time": "2021-10-09T10:19:56.014Z"
   },
   {
    "duration": -6875568,
    "start_time": "2021-10-09T10:19:56.016Z"
   },
   {
    "duration": -6875570,
    "start_time": "2021-10-09T10:19:56.019Z"
   },
   {
    "duration": -6875572,
    "start_time": "2021-10-09T10:19:56.022Z"
   },
   {
    "duration": -6875572,
    "start_time": "2021-10-09T10:19:56.024Z"
   },
   {
    "duration": -6875574,
    "start_time": "2021-10-09T10:19:56.027Z"
   },
   {
    "duration": -6875575,
    "start_time": "2021-10-09T10:19:56.029Z"
   },
   {
    "duration": -6875576,
    "start_time": "2021-10-09T10:19:56.031Z"
   },
   {
    "duration": -6875576,
    "start_time": "2021-10-09T10:19:56.033Z"
   },
   {
    "duration": -6875576,
    "start_time": "2021-10-09T10:19:56.034Z"
   },
   {
    "duration": 32,
    "start_time": "2021-10-09T08:25:42.339Z"
   },
   {
    "duration": 10,
    "start_time": "2021-10-09T08:25:42.373Z"
   },
   {
    "duration": 61,
    "start_time": "2021-10-09T08:25:42.386Z"
   },
   {
    "duration": 5,
    "start_time": "2021-10-09T08:25:42.450Z"
   },
   {
    "duration": 15,
    "start_time": "2021-10-09T08:25:42.462Z"
   },
   {
    "duration": 21,
    "start_time": "2021-10-09T08:25:42.479Z"
   },
   {
    "duration": 83,
    "start_time": "2021-10-09T08:25:42.502Z"
   },
   {
    "duration": 15,
    "start_time": "2021-10-09T08:25:42.588Z"
   },
   {
    "duration": 1225,
    "start_time": "2021-10-09T08:25:42.605Z"
   },
   {
    "duration": 75,
    "start_time": "2021-10-09T08:25:43.833Z"
   },
   {
    "duration": 56,
    "start_time": "2021-10-09T08:25:43.910Z"
   },
   {
    "duration": 201,
    "start_time": "2021-10-09T08:25:43.969Z"
   },
   {
    "duration": 411,
    "start_time": "2021-10-09T08:25:44.173Z"
   },
   {
    "duration": 32,
    "start_time": "2021-10-09T08:46:25.146Z"
   },
   {
    "duration": 333,
    "start_time": "2021-10-09T09:32:47.825Z"
   },
   {
    "duration": 21,
    "start_time": "2021-10-09T09:33:04.345Z"
   },
   {
    "duration": 24,
    "start_time": "2021-10-09T09:33:41.096Z"
   },
   {
    "duration": 373,
    "start_time": "2021-10-09T09:36:11.088Z"
   },
   {
    "duration": 20,
    "start_time": "2021-10-09T09:38:02.357Z"
   },
   {
    "duration": 34,
    "start_time": "2021-10-09T09:39:11.448Z"
   },
   {
    "duration": 35,
    "start_time": "2021-10-09T09:39:30.516Z"
   },
   {
    "duration": 35,
    "start_time": "2021-10-09T09:39:42.041Z"
   },
   {
    "duration": 6,
    "start_time": "2021-10-09T09:39:42.384Z"
   },
   {
    "duration": 14,
    "start_time": "2021-10-09T09:39:42.572Z"
   },
   {
    "duration": 34,
    "start_time": "2021-10-09T09:39:45.308Z"
   },
   {
    "duration": 34,
    "start_time": "2021-10-09T09:40:22.780Z"
   },
   {
    "duration": 6,
    "start_time": "2021-10-09T09:40:25.640Z"
   },
   {
    "duration": 14,
    "start_time": "2021-10-09T09:40:26.052Z"
   },
   {
    "duration": 28,
    "start_time": "2021-10-09T09:40:27.536Z"
   },
   {
    "duration": 12,
    "start_time": "2021-10-09T09:40:32.715Z"
   },
   {
    "duration": 45,
    "start_time": "2021-10-09T09:40:39.787Z"
   },
   {
    "duration": 4,
    "start_time": "2021-10-09T09:40:41.096Z"
   },
   {
    "duration": 17,
    "start_time": "2021-10-09T09:40:42.684Z"
   },
   {
    "duration": 28,
    "start_time": "2021-10-09T09:40:52.487Z"
   },
   {
    "duration": 63,
    "start_time": "2021-10-09T09:40:54.656Z"
   },
   {
    "duration": 17,
    "start_time": "2021-10-09T09:41:01.544Z"
   },
   {
    "duration": 1512,
    "start_time": "2021-10-09T09:41:13.783Z"
   },
   {
    "duration": 65,
    "start_time": "2021-10-09T09:41:17.067Z"
   },
   {
    "duration": 105,
    "start_time": "2021-10-09T09:41:25.460Z"
   },
   {
    "duration": 21,
    "start_time": "2021-10-09T09:41:25.992Z"
   },
   {
    "duration": 23,
    "start_time": "2021-10-09T09:42:32.460Z"
   },
   {
    "duration": 20,
    "start_time": "2021-10-09T09:43:04.771Z"
   },
   {
    "duration": 41,
    "start_time": "2021-10-09T09:44:02.195Z"
   },
   {
    "duration": 39,
    "start_time": "2021-10-09T09:44:04.807Z"
   },
   {
    "duration": 7,
    "start_time": "2021-10-09T09:44:05.123Z"
   },
   {
    "duration": 16,
    "start_time": "2021-10-09T09:44:07.491Z"
   },
   {
    "duration": 291,
    "start_time": "2021-10-09T09:44:09.339Z"
   },
   {
    "duration": 27,
    "start_time": "2021-10-09T09:44:20.479Z"
   },
   {
    "duration": 11,
    "start_time": "2021-10-09T09:44:24.747Z"
   },
   {
    "duration": 45,
    "start_time": "2021-10-09T09:44:31.351Z"
   },
   {
    "duration": 7,
    "start_time": "2021-10-09T09:44:32.472Z"
   },
   {
    "duration": 17,
    "start_time": "2021-10-09T09:44:33.499Z"
   },
   {
    "duration": 32,
    "start_time": "2021-10-09T09:44:42.515Z"
   },
   {
    "duration": 65,
    "start_time": "2021-10-09T09:44:46.979Z"
   },
   {
    "duration": 17,
    "start_time": "2021-10-09T09:44:47.347Z"
   },
   {
    "duration": 1115,
    "start_time": "2021-10-09T09:44:52.015Z"
   },
   {
    "duration": 71,
    "start_time": "2021-10-09T09:44:53.133Z"
   },
   {
    "duration": 20,
    "start_time": "2021-10-09T09:45:07.967Z"
   },
   {
    "duration": 39,
    "start_time": "2021-10-09T09:45:12.847Z"
   },
   {
    "duration": 7,
    "start_time": "2021-10-09T09:45:13.711Z"
   },
   {
    "duration": 15,
    "start_time": "2021-10-09T09:45:13.939Z"
   },
   {
    "duration": 29,
    "start_time": "2021-10-09T09:45:15.471Z"
   },
   {
    "duration": 11,
    "start_time": "2021-10-09T09:45:17.819Z"
   },
   {
    "duration": 44,
    "start_time": "2021-10-09T09:45:20.611Z"
   },
   {
    "duration": 5,
    "start_time": "2021-10-09T09:45:25.159Z"
   },
   {
    "duration": 18,
    "start_time": "2021-10-09T09:45:25.851Z"
   },
   {
    "duration": 48,
    "start_time": "2021-10-09T09:45:31.839Z"
   },
   {
    "duration": 69,
    "start_time": "2021-10-09T09:45:33.851Z"
   },
   {
    "duration": 17,
    "start_time": "2021-10-09T09:45:35.147Z"
   },
   {
    "duration": 1144,
    "start_time": "2021-10-09T09:45:38.882Z"
   },
   {
    "duration": 63,
    "start_time": "2021-10-09T09:45:41.519Z"
   },
   {
    "duration": 51,
    "start_time": "2021-10-09T09:45:46.143Z"
   },
   {
    "duration": 18,
    "start_time": "2021-10-09T09:45:47.655Z"
   },
   {
    "duration": 49,
    "start_time": "2021-10-09T09:48:41.994Z"
   },
   {
    "duration": 45,
    "start_time": "2021-10-09T09:48:46.403Z"
   },
   {
    "duration": 6,
    "start_time": "2021-10-09T09:48:46.723Z"
   },
   {
    "duration": 16,
    "start_time": "2021-10-09T09:48:46.878Z"
   },
   {
    "duration": 308,
    "start_time": "2021-10-09T09:48:48.759Z"
   },
   {
    "duration": 29,
    "start_time": "2021-10-09T09:49:11.255Z"
   },
   {
    "duration": 16,
    "start_time": "2021-10-09T09:49:15.139Z"
   },
   {
    "duration": 51,
    "start_time": "2021-10-09T09:49:20.038Z"
   },
   {
    "duration": 4,
    "start_time": "2021-10-09T09:49:21.167Z"
   },
   {
    "duration": 19,
    "start_time": "2021-10-09T09:49:21.651Z"
   },
   {
    "duration": 33,
    "start_time": "2021-10-09T09:49:28.394Z"
   },
   {
    "duration": 77,
    "start_time": "2021-10-09T09:49:31.486Z"
   },
   {
    "duration": 19,
    "start_time": "2021-10-09T09:49:32.246Z"
   },
   {
    "duration": 1184,
    "start_time": "2021-10-09T09:49:36.638Z"
   },
   {
    "duration": 80,
    "start_time": "2021-10-09T09:49:37.825Z"
   },
   {
    "duration": 67,
    "start_time": "2021-10-09T09:50:05.011Z"
   },
   {
    "duration": 21,
    "start_time": "2021-10-09T09:50:05.442Z"
   },
   {
    "duration": 1526,
    "start_time": "2021-10-09T09:50:53.974Z"
   },
   {
    "duration": 49,
    "start_time": "2021-10-09T09:50:55.503Z"
   },
   {
    "duration": 16,
    "start_time": "2021-10-09T09:50:55.555Z"
   },
   {
    "duration": 59,
    "start_time": "2021-10-09T09:50:55.573Z"
   },
   {
    "duration": 31,
    "start_time": "2021-10-09T09:50:55.635Z"
   },
   {
    "duration": 7,
    "start_time": "2021-10-09T09:50:55.668Z"
   },
   {
    "duration": 15,
    "start_time": "2021-10-09T09:50:55.677Z"
   },
   {
    "duration": 5,
    "start_time": "2021-10-09T09:50:55.696Z"
   },
   {
    "duration": 13,
    "start_time": "2021-10-09T09:50:55.703Z"
   },
   {
    "duration": 60,
    "start_time": "2021-10-09T09:50:55.719Z"
   },
   {
    "duration": 33,
    "start_time": "2021-10-09T09:50:55.781Z"
   },
   {
    "duration": 5,
    "start_time": "2021-10-09T09:50:55.817Z"
   },
   {
    "duration": 40,
    "start_time": "2021-10-09T09:50:55.824Z"
   },
   {
    "duration": 29,
    "start_time": "2021-10-09T09:50:55.866Z"
   },
   {
    "duration": 10,
    "start_time": "2021-10-09T09:50:55.897Z"
   },
   {
    "duration": 71,
    "start_time": "2021-10-09T09:50:55.910Z"
   },
   {
    "duration": 5,
    "start_time": "2021-10-09T09:50:55.983Z"
   },
   {
    "duration": 25,
    "start_time": "2021-10-09T09:50:55.990Z"
   },
   {
    "duration": 47,
    "start_time": "2021-10-09T09:50:56.018Z"
   },
   {
    "duration": 68,
    "start_time": "2021-10-09T09:50:56.068Z"
   },
   {
    "duration": 33,
    "start_time": "2021-10-09T09:50:56.139Z"
   },
   {
    "duration": 1274,
    "start_time": "2021-10-09T09:50:56.175Z"
   },
   {
    "duration": 67,
    "start_time": "2021-10-09T09:50:57.454Z"
   },
   {
    "duration": 65,
    "start_time": "2021-10-09T09:50:57.524Z"
   },
   {
    "duration": 178,
    "start_time": "2021-10-09T09:50:57.592Z"
   },
   {
    "duration": 542,
    "start_time": "2021-10-09T09:50:57.773Z"
   },
   {
    "duration": 98,
    "start_time": "2021-10-09T10:06:40.120Z"
   },
   {
    "duration": 97,
    "start_time": "2021-10-09T10:06:51.884Z"
   },
   {
    "duration": 581,
    "start_time": "2021-10-09T10:06:55.885Z"
   },
   {
    "duration": 103,
    "start_time": "2021-10-09T10:07:00.828Z"
   },
   {
    "duration": 104,
    "start_time": "2021-10-09T10:07:06.580Z"
   },
   {
    "duration": 329,
    "start_time": "2021-10-09T10:07:46.568Z"
   },
   {
    "duration": 329,
    "start_time": "2021-10-09T10:07:53.632Z"
   },
   {
    "duration": 309,
    "start_time": "2021-10-09T10:08:07.723Z"
   },
   {
    "duration": 302,
    "start_time": "2021-10-09T10:08:17.760Z"
   },
   {
    "duration": 328,
    "start_time": "2021-10-09T10:08:41.939Z"
   },
   {
    "duration": 277,
    "start_time": "2021-10-09T10:09:01.580Z"
   },
   {
    "duration": 322,
    "start_time": "2021-10-09T10:18:50.138Z"
   },
   {
    "duration": 280,
    "start_time": "2021-10-09T10:19:08.046Z"
   },
   {
    "duration": 309,
    "start_time": "2021-10-09T10:20:38.002Z"
   },
   {
    "duration": 5336,
    "start_time": "2021-10-09T10:21:32.198Z"
   },
   {
    "duration": 6099,
    "start_time": "2021-10-09T10:22:03.843Z"
   },
   {
    "duration": 5433,
    "start_time": "2021-10-09T10:22:26.401Z"
   },
   {
    "duration": 16,
    "start_time": "2021-10-09T10:23:04.642Z"
   },
   {
    "duration": 27,
    "start_time": "2021-10-09T10:23:25.062Z"
   },
   {
    "duration": 52,
    "start_time": "2021-10-09T10:25:16.394Z"
   },
   {
    "duration": 115,
    "start_time": "2021-10-09T10:25:45.470Z"
   },
   {
    "duration": 20,
    "start_time": "2021-10-09T10:25:46.577Z"
   },
   {
    "duration": 1615,
    "start_time": "2021-10-09T10:26:07.267Z"
   },
   {
    "duration": 52,
    "start_time": "2021-10-09T10:26:08.885Z"
   },
   {
    "duration": 34,
    "start_time": "2021-10-09T10:26:08.940Z"
   },
   {
    "duration": 63,
    "start_time": "2021-10-09T10:26:08.977Z"
   },
   {
    "duration": 25,
    "start_time": "2021-10-09T10:26:09.043Z"
   },
   {
    "duration": 8,
    "start_time": "2021-10-09T10:26:09.070Z"
   },
   {
    "duration": 41,
    "start_time": "2021-10-09T10:26:09.082Z"
   },
   {
    "duration": 8,
    "start_time": "2021-10-09T10:26:09.130Z"
   },
   {
    "duration": 28,
    "start_time": "2021-10-09T10:26:09.143Z"
   },
   {
    "duration": 39,
    "start_time": "2021-10-09T10:26:09.176Z"
   },
   {
    "duration": 70,
    "start_time": "2021-10-09T10:26:09.217Z"
   },
   {
    "duration": 6,
    "start_time": "2021-10-09T10:26:09.290Z"
   },
   {
    "duration": 14,
    "start_time": "2021-10-09T10:26:09.298Z"
   },
   {
    "duration": 60,
    "start_time": "2021-10-09T10:26:09.314Z"
   },
   {
    "duration": 19,
    "start_time": "2021-10-09T10:26:09.377Z"
   },
   {
    "duration": 87,
    "start_time": "2021-10-09T10:26:09.400Z"
   },
   {
    "duration": 8732,
    "start_time": "2021-10-09T10:26:09.492Z"
   },
   {
    "duration": 7,
    "start_time": "2021-10-09T10:26:18.227Z"
   },
   {
    "duration": 44,
    "start_time": "2021-10-09T10:26:18.238Z"
   },
   {
    "duration": 32,
    "start_time": "2021-10-09T10:26:18.284Z"
   },
   {
    "duration": 103,
    "start_time": "2021-10-09T10:26:18.318Z"
   },
   {
    "duration": 18,
    "start_time": "2021-10-09T10:26:18.423Z"
   },
   {
    "duration": 1328,
    "start_time": "2021-10-09T10:26:18.445Z"
   },
   {
    "duration": 66,
    "start_time": "2021-10-09T10:26:19.776Z"
   },
   {
    "duration": 128,
    "start_time": "2021-10-09T10:26:19.844Z"
   },
   {
    "duration": 115,
    "start_time": "2021-10-09T10:26:19.974Z"
   },
   {
    "duration": 1120,
    "start_time": "2021-10-09T10:26:20.168Z"
   },
   {
    "duration": 1620,
    "start_time": "2021-10-09T12:10:42.495Z"
   },
   {
    "duration": 53,
    "start_time": "2021-10-09T12:10:44.118Z"
   },
   {
    "duration": 12,
    "start_time": "2021-10-09T12:10:44.174Z"
   },
   {
    "duration": 85,
    "start_time": "2021-10-09T12:10:44.189Z"
   },
   {
    "duration": 6,
    "start_time": "2021-10-09T12:10:44.277Z"
   },
   {
    "duration": 7,
    "start_time": "2021-10-09T12:10:44.285Z"
   },
   {
    "duration": 20,
    "start_time": "2021-10-09T12:10:44.294Z"
   },
   {
    "duration": 4,
    "start_time": "2021-10-09T12:10:44.318Z"
   },
   {
    "duration": 41,
    "start_time": "2021-10-09T12:10:44.325Z"
   },
   {
    "duration": 22,
    "start_time": "2021-10-09T12:10:44.369Z"
   },
   {
    "duration": 33,
    "start_time": "2021-10-09T12:10:44.394Z"
   },
   {
    "duration": 36,
    "start_time": "2021-10-09T12:10:44.429Z"
   },
   {
    "duration": 17,
    "start_time": "2021-10-09T12:10:44.468Z"
   },
   {
    "duration": 30,
    "start_time": "2021-10-09T12:10:44.487Z"
   },
   {
    "duration": 44,
    "start_time": "2021-10-09T12:10:44.519Z"
   },
   {
    "duration": 45,
    "start_time": "2021-10-09T12:10:44.565Z"
   },
   {
    "duration": 4589,
    "start_time": "2021-10-09T12:10:44.613Z"
   },
   {
    "duration": 5,
    "start_time": "2021-10-09T12:10:49.205Z"
   },
   {
    "duration": 22,
    "start_time": "2021-10-09T12:10:49.212Z"
   },
   {
    "duration": 49,
    "start_time": "2021-10-09T12:10:49.236Z"
   },
   {
    "duration": 83,
    "start_time": "2021-10-09T12:10:49.287Z"
   },
   {
    "duration": 16,
    "start_time": "2021-10-09T12:10:49.373Z"
   },
   {
    "duration": 1296,
    "start_time": "2021-10-09T12:10:49.393Z"
   },
   {
    "duration": 71,
    "start_time": "2021-10-09T12:10:50.691Z"
   },
   {
    "duration": 47,
    "start_time": "2021-10-09T12:10:50.764Z"
   },
   {
    "duration": 62,
    "start_time": "2021-10-09T12:10:50.813Z"
   },
   {
    "duration": 432,
    "start_time": "2021-10-09T12:10:50.963Z"
   },
   {
    "duration": 20741,
    "start_time": "2021-10-09T12:21:49.395Z"
   },
   {
    "duration": 21,
    "start_time": "2021-10-09T12:22:24.982Z"
   },
   {
    "duration": 20252,
    "start_time": "2021-10-09T12:23:21.130Z"
   },
   {
    "duration": 17,
    "start_time": "2021-10-09T12:23:42.558Z"
   },
   {
    "duration": 7554,
    "start_time": "2021-10-09T12:25:53.170Z"
   },
   {
    "duration": 17,
    "start_time": "2021-10-09T12:26:10.038Z"
   },
   {
    "duration": 7785,
    "start_time": "2021-10-09T12:26:38.866Z"
   },
   {
    "duration": 19,
    "start_time": "2021-10-09T12:26:47.846Z"
   },
   {
    "duration": 65,
    "start_time": "2021-10-09T12:27:00.870Z"
   },
   {
    "duration": 19,
    "start_time": "2021-10-09T12:27:03.246Z"
   },
   {
    "duration": 108,
    "start_time": "2021-10-09T12:31:42.585Z"
   },
   {
    "duration": 116,
    "start_time": "2021-10-09T12:31:55.141Z"
   },
   {
    "duration": 53612,
    "start_time": "2021-10-09T12:32:16.753Z"
   },
   {
    "duration": 33,
    "start_time": "2021-10-09T12:33:18.645Z"
   },
   {
    "duration": 54380,
    "start_time": "2021-10-09T12:33:36.985Z"
   },
   {
    "duration": 104,
    "start_time": "2021-10-09T12:37:04.609Z"
   },
   {
    "duration": 579761,
    "start_time": "2021-10-09T12:37:09.672Z"
   },
   {
    "duration": 73612,
    "start_time": "2021-10-09T12:46:51.007Z"
   },
   {
    "duration": 217859,
    "start_time": "2021-10-09T12:49:04.491Z"
   },
   {
    "duration": 102530,
    "start_time": "2021-10-09T12:55:28.943Z"
   },
   {
    "duration": 36228,
    "start_time": "2021-10-09T12:57:19.082Z"
   },
   {
    "duration": 48613,
    "start_time": "2021-10-09T12:58:09.978Z"
   },
   {
    "duration": 64562,
    "start_time": "2021-10-09T12:59:14.070Z"
   },
   {
    "duration": 1283,
    "start_time": "2021-10-09T14:17:18.415Z"
   },
   {
    "duration": 867,
    "start_time": "2021-10-09T14:29:58.422Z"
   },
   {
    "duration": 319,
    "start_time": "2021-10-09T14:31:05.784Z"
   },
   {
    "duration": 8,
    "start_time": "2021-10-09T14:31:11.834Z"
   },
   {
    "duration": 117,
    "start_time": "2021-10-09T14:31:25.030Z"
   },
   {
    "duration": 12,
    "start_time": "2021-10-09T14:31:29.466Z"
   },
   {
    "duration": 14,
    "start_time": "2021-10-09T14:32:34.042Z"
   },
   {
    "duration": 11,
    "start_time": "2021-10-09T14:33:36.530Z"
   },
   {
    "duration": 14,
    "start_time": "2021-10-09T14:34:23.158Z"
   },
   {
    "duration": 11,
    "start_time": "2021-10-09T14:35:11.182Z"
   },
   {
    "duration": 13,
    "start_time": "2021-10-09T14:35:14.977Z"
   },
   {
    "duration": 12,
    "start_time": "2021-10-09T14:36:40.501Z"
   },
   {
    "duration": 13,
    "start_time": "2021-10-09T14:37:01.933Z"
   },
   {
    "duration": 11,
    "start_time": "2021-10-09T14:37:18.993Z"
   },
   {
    "duration": 13,
    "start_time": "2021-10-09T14:37:24.285Z"
   },
   {
    "duration": 13,
    "start_time": "2021-10-09T14:37:45.666Z"
   },
   {
    "duration": 31,
    "start_time": "2021-10-09T14:38:00.709Z"
   },
   {
    "duration": 1549,
    "start_time": "2021-10-09T14:40:06.998Z"
   },
   {
    "duration": 54,
    "start_time": "2021-10-09T14:40:08.550Z"
   },
   {
    "duration": 14,
    "start_time": "2021-10-09T14:40:08.607Z"
   },
   {
    "duration": 87,
    "start_time": "2021-10-09T14:40:08.625Z"
   },
   {
    "duration": 7,
    "start_time": "2021-10-09T14:40:08.715Z"
   },
   {
    "duration": 9,
    "start_time": "2021-10-09T14:40:08.725Z"
   },
   {
    "duration": 18,
    "start_time": "2021-10-09T14:40:08.763Z"
   },
   {
    "duration": 5,
    "start_time": "2021-10-09T14:40:08.786Z"
   },
   {
    "duration": 11,
    "start_time": "2021-10-09T14:40:08.795Z"
   },
   {
    "duration": 63,
    "start_time": "2021-10-09T14:40:08.809Z"
   },
   {
    "duration": 37,
    "start_time": "2021-10-09T14:40:08.875Z"
   },
   {
    "duration": 7,
    "start_time": "2021-10-09T14:40:08.915Z"
   },
   {
    "duration": 46,
    "start_time": "2021-10-09T14:40:08.924Z"
   },
   {
    "duration": 30,
    "start_time": "2021-10-09T14:40:08.973Z"
   },
   {
    "duration": 14,
    "start_time": "2021-10-09T14:40:09.006Z"
   },
   {
    "duration": 84,
    "start_time": "2021-10-09T14:40:09.022Z"
   },
   {
    "duration": 4709,
    "start_time": "2021-10-09T14:40:09.109Z"
   },
   {
    "duration": 7,
    "start_time": "2021-10-09T14:40:13.821Z"
   },
   {
    "duration": 45,
    "start_time": "2021-10-09T14:40:13.831Z"
   },
   {
    "duration": 31,
    "start_time": "2021-10-09T14:40:13.879Z"
   },
   {
    "duration": 97,
    "start_time": "2021-10-09T14:40:13.912Z"
   },
   {
    "duration": 7674,
    "start_time": "2021-10-09T14:40:14.012Z"
   },
   {
    "duration": 19,
    "start_time": "2021-10-09T14:40:21.692Z"
   },
   {
    "duration": 1295,
    "start_time": "2021-10-09T14:40:21.715Z"
   },
   {
    "duration": 50479,
    "start_time": "2021-10-09T14:40:23.013Z"
   },
   {
    "duration": -6875908,
    "start_time": "2021-10-09T16:35:49.402Z"
   },
   {
    "duration": -6875911,
    "start_time": "2021-10-09T16:35:49.407Z"
   },
   {
    "duration": -6875921,
    "start_time": "2021-10-09T16:35:49.418Z"
   },
   {
    "duration": -6875922,
    "start_time": "2021-10-09T16:35:49.421Z"
   },
   {
    "duration": -6875924,
    "start_time": "2021-10-09T16:35:49.424Z"
   },
   {
    "duration": -6875931,
    "start_time": "2021-10-09T16:35:49.433Z"
   },
   {
    "duration": -6875933,
    "start_time": "2021-10-09T16:35:49.436Z"
   },
   {
    "duration": -6875933,
    "start_time": "2021-10-09T16:35:49.438Z"
   },
   {
    "duration": -6875936,
    "start_time": "2021-10-09T16:35:49.442Z"
   },
   {
    "duration": -6875937,
    "start_time": "2021-10-09T16:35:49.445Z"
   },
   {
    "duration": -6875940,
    "start_time": "2021-10-09T16:35:49.449Z"
   },
   {
    "duration": -6875942,
    "start_time": "2021-10-09T16:35:49.452Z"
   },
   {
    "duration": -6875943,
    "start_time": "2021-10-09T16:35:49.455Z"
   },
   {
    "duration": 564,
    "start_time": "2021-10-09T14:41:18.837Z"
   },
   {
    "duration": 31,
    "start_time": "2021-10-09T14:41:31.005Z"
   },
   {
    "duration": 29,
    "start_time": "2021-10-09T14:41:42.964Z"
   },
   {
    "duration": 60,
    "start_time": "2021-10-09T14:41:50.769Z"
   },
   {
    "duration": 7648,
    "start_time": "2021-10-09T14:41:51.897Z"
   },
   {
    "duration": 18,
    "start_time": "2021-10-09T14:42:03.344Z"
   },
   {
    "duration": 1216,
    "start_time": "2021-10-09T14:42:22.297Z"
   },
   {
    "duration": 32,
    "start_time": "2021-10-09T14:43:47.829Z"
   },
   {
    "duration": 1506,
    "start_time": "2021-10-09T14:44:01.912Z"
   },
   {
    "duration": 53,
    "start_time": "2021-10-09T14:44:03.420Z"
   },
   {
    "duration": 12,
    "start_time": "2021-10-09T14:44:03.476Z"
   },
   {
    "duration": 77,
    "start_time": "2021-10-09T14:44:03.490Z"
   },
   {
    "duration": 6,
    "start_time": "2021-10-09T14:44:03.569Z"
   },
   {
    "duration": 6,
    "start_time": "2021-10-09T14:44:03.578Z"
   },
   {
    "duration": 17,
    "start_time": "2021-10-09T14:44:03.587Z"
   },
   {
    "duration": 5,
    "start_time": "2021-10-09T14:44:03.606Z"
   },
   {
    "duration": 47,
    "start_time": "2021-10-09T14:44:03.615Z"
   },
   {
    "duration": 20,
    "start_time": "2021-10-09T14:44:03.666Z"
   },
   {
    "duration": 41,
    "start_time": "2021-10-09T14:44:03.688Z"
   },
   {
    "duration": 33,
    "start_time": "2021-10-09T14:44:03.731Z"
   },
   {
    "duration": 16,
    "start_time": "2021-10-09T14:44:03.767Z"
   },
   {
    "duration": 30,
    "start_time": "2021-10-09T14:44:03.786Z"
   },
   {
    "duration": 43,
    "start_time": "2021-10-09T14:44:03.819Z"
   },
   {
    "duration": 45,
    "start_time": "2021-10-09T14:44:03.865Z"
   },
   {
    "duration": 4654,
    "start_time": "2021-10-09T14:44:03.913Z"
   },
   {
    "duration": 5,
    "start_time": "2021-10-09T14:44:08.570Z"
   },
   {
    "duration": 20,
    "start_time": "2021-10-09T14:44:08.578Z"
   },
   {
    "duration": 65,
    "start_time": "2021-10-09T14:44:08.600Z"
   },
   {
    "duration": 60,
    "start_time": "2021-10-09T14:44:08.668Z"
   },
   {
    "duration": 7017,
    "start_time": "2021-10-09T14:44:08.730Z"
   },
   {
    "duration": 20,
    "start_time": "2021-10-09T14:44:15.750Z"
   },
   {
    "duration": 1213,
    "start_time": "2021-10-09T14:44:15.772Z"
   },
   {
    "duration": 49255,
    "start_time": "2021-10-09T14:44:16.988Z"
   },
   {
    "duration": 51,
    "start_time": "2021-10-09T14:45:06.246Z"
   },
   {
    "duration": 18458,
    "start_time": "2021-10-09T14:45:06.304Z"
   },
   {
    "duration": 202,
    "start_time": "2021-10-09T14:45:24.766Z"
   },
   {
    "duration": 207,
    "start_time": "2021-10-09T14:45:24.972Z"
   },
   {
    "duration": 47,
    "start_time": "2021-10-09T14:45:25.182Z"
   },
   {
    "duration": 4333,
    "start_time": "2021-10-09T14:45:25.232Z"
   },
   {
    "duration": 16,
    "start_time": "2021-10-09T14:45:29.567Z"
   },
   {
    "duration": 674,
    "start_time": "2021-10-09T14:45:29.585Z"
   },
   {
    "duration": 27455,
    "start_time": "2021-10-09T14:45:30.261Z"
   },
   {
    "duration": 64,
    "start_time": "2021-10-09T14:45:57.718Z"
   },
   {
    "duration": 18310,
    "start_time": "2021-10-09T14:45:57.790Z"
   },
   {
    "duration": 170,
    "start_time": "2021-10-09T14:46:16.103Z"
   },
   {
    "duration": 895,
    "start_time": "2021-10-09T14:46:16.366Z"
   },
   {
    "duration": 327,
    "start_time": "2021-10-09T15:34:13.307Z"
   },
   {
    "duration": 2019,
    "start_time": "2021-10-09T15:34:24.785Z"
   },
   {
    "duration": 91,
    "start_time": "2021-10-09T15:34:26.808Z"
   },
   {
    "duration": 72,
    "start_time": "2021-10-09T15:34:26.903Z"
   },
   {
    "duration": 182,
    "start_time": "2021-10-09T15:34:26.979Z"
   },
   {
    "duration": 7,
    "start_time": "2021-10-09T15:34:27.164Z"
   },
   {
    "duration": 15,
    "start_time": "2021-10-09T15:34:27.173Z"
   },
   {
    "duration": 74,
    "start_time": "2021-10-09T15:34:27.191Z"
   },
   {
    "duration": 6,
    "start_time": "2021-10-09T15:34:27.268Z"
   },
   {
    "duration": 16,
    "start_time": "2021-10-09T15:34:27.279Z"
   },
   {
    "duration": 563,
    "start_time": "2021-10-09T15:34:27.299Z"
   },
   {
    "duration": -6875746,
    "start_time": "2021-10-09T17:29:03.611Z"
   },
   {
    "duration": -6875752,
    "start_time": "2021-10-09T17:29:03.618Z"
   },
   {
    "duration": -6875753,
    "start_time": "2021-10-09T17:29:03.621Z"
   },
   {
    "duration": -6875759,
    "start_time": "2021-10-09T17:29:03.628Z"
   },
   {
    "duration": -6875761,
    "start_time": "2021-10-09T17:29:03.631Z"
   },
   {
    "duration": -6875761,
    "start_time": "2021-10-09T17:29:03.633Z"
   },
   {
    "duration": -6875762,
    "start_time": "2021-10-09T17:29:03.635Z"
   },
   {
    "duration": -6875763,
    "start_time": "2021-10-09T17:29:03.637Z"
   },
   {
    "duration": -6875770,
    "start_time": "2021-10-09T17:29:03.646Z"
   },
   {
    "duration": -6875771,
    "start_time": "2021-10-09T17:29:03.648Z"
   },
   {
    "duration": -6875773,
    "start_time": "2021-10-09T17:29:03.651Z"
   },
   {
    "duration": -6875780,
    "start_time": "2021-10-09T17:29:03.660Z"
   },
   {
    "duration": -6875783,
    "start_time": "2021-10-09T17:29:03.664Z"
   },
   {
    "duration": -6875784,
    "start_time": "2021-10-09T17:29:03.666Z"
   },
   {
    "duration": -6875784,
    "start_time": "2021-10-09T17:29:03.668Z"
   },
   {
    "duration": -6875785,
    "start_time": "2021-10-09T17:29:03.670Z"
   },
   {
    "duration": -6875794,
    "start_time": "2021-10-09T17:29:03.680Z"
   },
   {
    "duration": -6875796,
    "start_time": "2021-10-09T17:29:03.683Z"
   },
   {
    "duration": -6875796,
    "start_time": "2021-10-09T17:29:03.685Z"
   },
   {
    "duration": -6875804,
    "start_time": "2021-10-09T17:29:03.694Z"
   },
   {
    "duration": -6875805,
    "start_time": "2021-10-09T17:29:03.696Z"
   },
   {
    "duration": -6875805,
    "start_time": "2021-10-09T17:29:03.698Z"
   },
   {
    "duration": -6875806,
    "start_time": "2021-10-09T17:29:03.700Z"
   },
   {
    "duration": -6875808,
    "start_time": "2021-10-09T17:29:03.703Z"
   },
   {
    "duration": -6875809,
    "start_time": "2021-10-09T17:29:03.706Z"
   },
   {
    "duration": -6875809,
    "start_time": "2021-10-09T17:29:03.707Z"
   },
   {
    "duration": -6875810,
    "start_time": "2021-10-09T17:29:03.709Z"
   },
   {
    "duration": 340,
    "start_time": "2021-10-09T15:38:19.150Z"
   },
   {
    "duration": 41,
    "start_time": "2021-10-09T15:39:18.957Z"
   },
   {
    "duration": 44,
    "start_time": "2021-10-09T15:40:31.265Z"
   },
   {
    "duration": 7,
    "start_time": "2021-10-09T15:40:35.401Z"
   },
   {
    "duration": 11,
    "start_time": "2021-10-09T15:40:36.265Z"
   },
   {
    "duration": 34,
    "start_time": "2021-10-09T15:40:37.617Z"
   },
   {
    "duration": 12,
    "start_time": "2021-10-09T15:40:39.569Z"
   },
   {
    "duration": 39,
    "start_time": "2021-10-09T15:40:42.088Z"
   },
   {
    "duration": 3440,
    "start_time": "2021-10-09T15:40:42.864Z"
   },
   {
    "duration": 5,
    "start_time": "2021-10-09T15:41:03.772Z"
   },
   {
    "duration": 17,
    "start_time": "2021-10-09T15:41:05.065Z"
   },
   {
    "duration": 1625,
    "start_time": "2021-10-10T07:59:32.510Z"
   },
   {
    "duration": 443,
    "start_time": "2021-10-10T08:20:20.972Z"
   },
   {
    "duration": 1581,
    "start_time": "2021-10-10T08:26:04.764Z"
   },
   {
    "duration": 54,
    "start_time": "2021-10-10T08:26:06.347Z"
   },
   {
    "duration": 13,
    "start_time": "2021-10-10T08:26:06.405Z"
   },
   {
    "duration": 87,
    "start_time": "2021-10-10T08:26:06.421Z"
   },
   {
    "duration": 6,
    "start_time": "2021-10-10T08:26:06.511Z"
   },
   {
    "duration": 7,
    "start_time": "2021-10-10T08:26:06.519Z"
   },
   {
    "duration": 41,
    "start_time": "2021-10-10T08:26:06.528Z"
   },
   {
    "duration": 5,
    "start_time": "2021-10-10T08:26:06.575Z"
   },
   {
    "duration": 9,
    "start_time": "2021-10-10T08:26:06.584Z"
   },
   {
    "duration": 31,
    "start_time": "2021-10-10T08:26:06.596Z"
   },
   {
    "duration": 9,
    "start_time": "2021-10-10T08:26:06.668Z"
   },
   {
    "duration": 14,
    "start_time": "2021-10-10T08:26:06.680Z"
   },
   {
    "duration": 70,
    "start_time": "2021-10-10T08:26:06.697Z"
   },
   {
    "duration": 13,
    "start_time": "2021-10-10T08:26:06.770Z"
   },
   {
    "duration": 41,
    "start_time": "2021-10-10T08:26:06.786Z"
   },
   {
    "duration": 39,
    "start_time": "2021-10-10T08:26:06.830Z"
   },
   {
    "duration": 17,
    "start_time": "2021-10-10T08:26:06.873Z"
   },
   {
    "duration": 28,
    "start_time": "2021-10-10T08:26:06.893Z"
   },
   {
    "duration": 28850,
    "start_time": "2021-10-10T08:26:06.924Z"
   },
   {
    "duration": 26,
    "start_time": "2021-10-10T08:26:35.777Z"
   },
   {
    "duration": 1217,
    "start_time": "2021-10-10T08:26:35.806Z"
   },
   {
    "duration": 55065,
    "start_time": "2021-10-10T08:26:37.026Z"
   },
   {
    "duration": 74,
    "start_time": "2021-10-10T08:27:32.097Z"
   },
   {
    "duration": 18147,
    "start_time": "2021-10-10T08:27:32.175Z"
   },
   {
    "duration": 152,
    "start_time": "2021-10-10T08:27:50.325Z"
   },
   {
    "duration": 198,
    "start_time": "2021-10-10T08:27:50.480Z"
   },
   {
    "duration": 29,
    "start_time": "2021-10-10T08:27:50.680Z"
   },
   {
    "duration": 3154,
    "start_time": "2021-10-10T08:27:50.713Z"
   },
   {
    "duration": 15,
    "start_time": "2021-10-10T08:27:53.869Z"
   },
   {
    "duration": 667,
    "start_time": "2021-10-10T08:27:53.886Z"
   },
   {
    "duration": 27250,
    "start_time": "2021-10-10T08:27:54.556Z"
   },
   {
    "duration": 66,
    "start_time": "2021-10-10T08:28:21.809Z"
   },
   {
    "duration": 18212,
    "start_time": "2021-10-10T08:28:21.878Z"
   },
   {
    "duration": 176,
    "start_time": "2021-10-10T08:28:40.094Z"
   },
   {
    "duration": 529,
    "start_time": "2021-10-10T08:28:40.274Z"
   },
   {
    "duration": 43942,
    "start_time": "2021-10-10T08:28:55.017Z"
   },
   {
    "duration": 23,
    "start_time": "2021-10-10T08:29:44.853Z"
   },
   {
    "duration": 6,
    "start_time": "2021-10-10T08:37:38.384Z"
   },
   {
    "duration": 271,
    "start_time": "2021-10-10T08:41:21.344Z"
   },
   {
    "duration": 292,
    "start_time": "2021-10-10T08:41:59.296Z"
   },
   {
    "duration": 306,
    "start_time": "2021-10-10T08:42:09.520Z"
   },
   {
    "duration": 268,
    "start_time": "2021-10-10T08:43:07.621Z"
   },
   {
    "duration": 310,
    "start_time": "2021-10-10T08:43:13.758Z"
   },
   {
    "duration": 1321,
    "start_time": "2021-10-10T08:44:13.387Z"
   },
   {
    "duration": 1961,
    "start_time": "2021-10-10T08:45:02.255Z"
   },
   {
    "duration": 1183693,
    "start_time": "2021-10-10T08:45:22.563Z"
   },
   {
    "duration": 1201506,
    "start_time": "2021-10-10T09:12:19.868Z"
   },
   {
    "duration": 553,
    "start_time": "2021-10-10T09:34:34.074Z"
   },
   {
    "duration": 14391,
    "start_time": "2021-10-10T09:35:55.988Z"
   },
   {
    "duration": 16057,
    "start_time": "2021-10-10T09:36:48.433Z"
   },
   {
    "duration": 95,
    "start_time": "2021-10-10T09:37:46.021Z"
   },
   {
    "duration": 14311,
    "start_time": "2021-10-10T09:37:50.691Z"
   },
   {
    "duration": 1200,
    "start_time": "2021-10-10T14:45:13.149Z"
   },
   {
    "duration": 1230,
    "start_time": "2021-10-10T14:45:24.993Z"
   },
   {
    "duration": 45,
    "start_time": "2021-10-10T14:45:26.226Z"
   },
   {
    "duration": 10,
    "start_time": "2021-10-10T14:45:26.273Z"
   },
   {
    "duration": 48,
    "start_time": "2021-10-10T14:45:26.286Z"
   },
   {
    "duration": 6,
    "start_time": "2021-10-10T14:45:26.348Z"
   },
   {
    "duration": 6,
    "start_time": "2021-10-10T14:45:26.356Z"
   },
   {
    "duration": 17,
    "start_time": "2021-10-10T14:45:26.363Z"
   },
   {
    "duration": 4,
    "start_time": "2021-10-10T14:45:26.382Z"
   },
   {
    "duration": 7,
    "start_time": "2021-10-10T14:45:26.389Z"
   },
   {
    "duration": 53,
    "start_time": "2021-10-10T14:45:26.398Z"
   },
   {
    "duration": 6,
    "start_time": "2021-10-10T14:45:26.453Z"
   },
   {
    "duration": 11,
    "start_time": "2021-10-10T14:45:26.460Z"
   },
   {
    "duration": 23,
    "start_time": "2021-10-10T14:45:26.473Z"
   },
   {
    "duration": 8,
    "start_time": "2021-10-10T14:45:26.497Z"
   },
   {
    "duration": 59,
    "start_time": "2021-10-10T14:45:26.507Z"
   },
   {
    "duration": 4,
    "start_time": "2021-10-10T14:45:26.567Z"
   },
   {
    "duration": 15,
    "start_time": "2021-10-10T14:45:26.573Z"
   },
   {
    "duration": 19,
    "start_time": "2021-10-10T14:45:26.590Z"
   },
   {
    "duration": 20268,
    "start_time": "2021-10-10T14:45:26.611Z"
   },
   {
    "duration": -108,
    "start_time": "2021-10-10T14:45:46.990Z"
   },
   {
    "duration": -110,
    "start_time": "2021-10-10T14:45:46.993Z"
   },
   {
    "duration": -110,
    "start_time": "2021-10-10T14:45:46.995Z"
   },
   {
    "duration": -112,
    "start_time": "2021-10-10T14:45:46.998Z"
   },
   {
    "duration": -112,
    "start_time": "2021-10-10T14:45:47.000Z"
   },
   {
    "duration": -114,
    "start_time": "2021-10-10T14:45:47.003Z"
   },
   {
    "duration": -114,
    "start_time": "2021-10-10T14:45:47.005Z"
   },
   {
    "duration": -116,
    "start_time": "2021-10-10T14:45:47.008Z"
   },
   {
    "duration": -116,
    "start_time": "2021-10-10T14:45:47.010Z"
   },
   {
    "duration": -117,
    "start_time": "2021-10-10T14:45:47.012Z"
   },
   {
    "duration": -118,
    "start_time": "2021-10-10T14:45:47.015Z"
   },
   {
    "duration": -120,
    "start_time": "2021-10-10T14:45:47.018Z"
   },
   {
    "duration": -120,
    "start_time": "2021-10-10T14:45:47.020Z"
   },
   {
    "duration": -122,
    "start_time": "2021-10-10T14:45:47.023Z"
   },
   {
    "duration": -124,
    "start_time": "2021-10-10T14:45:47.026Z"
   },
   {
    "duration": -126,
    "start_time": "2021-10-10T14:45:47.029Z"
   },
   {
    "duration": -127,
    "start_time": "2021-10-10T14:45:47.031Z"
   },
   {
    "duration": 4294,
    "start_time": "2021-10-10T14:45:51.912Z"
   },
   {
    "duration": 5,
    "start_time": "2021-10-10T14:46:02.862Z"
   },
   {
    "duration": 45,
    "start_time": "2021-10-10T14:46:02.869Z"
   },
   {
    "duration": 9,
    "start_time": "2021-10-10T14:46:02.916Z"
   },
   {
    "duration": 43,
    "start_time": "2021-10-10T14:46:02.927Z"
   },
   {
    "duration": 4,
    "start_time": "2021-10-10T14:46:02.972Z"
   },
   {
    "duration": 7,
    "start_time": "2021-10-10T14:46:02.978Z"
   },
   {
    "duration": 17,
    "start_time": "2021-10-10T14:46:02.987Z"
   },
   {
    "duration": 4,
    "start_time": "2021-10-10T14:46:03.006Z"
   },
   {
    "duration": 12,
    "start_time": "2021-10-10T14:46:03.012Z"
   },
   {
    "duration": 40,
    "start_time": "2021-10-10T14:46:03.025Z"
   },
   {
    "duration": 6,
    "start_time": "2021-10-10T14:46:03.066Z"
   },
   {
    "duration": 14,
    "start_time": "2021-10-10T14:46:03.073Z"
   },
   {
    "duration": 28,
    "start_time": "2021-10-10T14:46:03.089Z"
   },
   {
    "duration": 8,
    "start_time": "2021-10-10T14:46:03.119Z"
   },
   {
    "duration": 48,
    "start_time": "2021-10-10T14:46:03.129Z"
   },
   {
    "duration": 3,
    "start_time": "2021-10-10T14:46:03.179Z"
   },
   {
    "duration": 16,
    "start_time": "2021-10-10T14:46:03.184Z"
   },
   {
    "duration": 20,
    "start_time": "2021-10-10T14:46:03.202Z"
   },
   {
    "duration": 11771,
    "start_time": "2021-10-10T14:46:03.223Z"
   },
   {
    "duration": -105,
    "start_time": "2021-10-10T14:46:15.101Z"
   },
   {
    "duration": 11200,
    "start_time": "2021-10-10T14:46:24.061Z"
   },
   {
    "duration": -121,
    "start_time": "2021-10-10T14:46:35.385Z"
   },
   {
    "duration": -125,
    "start_time": "2021-10-10T14:46:35.389Z"
   },
   {
    "duration": -128,
    "start_time": "2021-10-10T14:46:35.393Z"
   },
   {
    "duration": -130,
    "start_time": "2021-10-10T14:46:35.396Z"
   },
   {
    "duration": -133,
    "start_time": "2021-10-10T14:46:35.400Z"
   },
   {
    "duration": -134,
    "start_time": "2021-10-10T14:46:35.402Z"
   },
   {
    "duration": -135,
    "start_time": "2021-10-10T14:46:35.404Z"
   },
   {
    "duration": -137,
    "start_time": "2021-10-10T14:46:35.406Z"
   },
   {
    "duration": -139,
    "start_time": "2021-10-10T14:46:35.409Z"
   },
   {
    "duration": -141,
    "start_time": "2021-10-10T14:46:35.412Z"
   },
   {
    "duration": -142,
    "start_time": "2021-10-10T14:46:35.414Z"
   },
   {
    "duration": -143,
    "start_time": "2021-10-10T14:46:35.416Z"
   },
   {
    "duration": -144,
    "start_time": "2021-10-10T14:46:35.418Z"
   },
   {
    "duration": -145,
    "start_time": "2021-10-10T14:46:35.420Z"
   },
   {
    "duration": -148,
    "start_time": "2021-10-10T14:46:35.423Z"
   },
   {
    "duration": 904,
    "start_time": "2021-10-10T14:46:42.469Z"
   },
   {
    "duration": 61947,
    "start_time": "2021-10-10T14:46:43.375Z"
   },
   {
    "duration": 30,
    "start_time": "2021-10-10T14:47:45.324Z"
   },
   {
    "duration": 36226,
    "start_time": "2021-10-10T14:47:45.357Z"
   },
   {
    "duration": 164,
    "start_time": "2021-10-10T14:48:21.585Z"
   },
   {
    "duration": 109,
    "start_time": "2021-10-10T14:48:21.753Z"
   },
   {
    "duration": 22,
    "start_time": "2021-10-10T14:48:21.864Z"
   },
   {
    "duration": 4134,
    "start_time": "2021-10-10T14:48:21.889Z"
   },
   {
    "duration": 11,
    "start_time": "2021-10-10T14:48:26.025Z"
   },
   {
    "duration": 435,
    "start_time": "2021-10-10T14:48:26.050Z"
   },
   {
    "duration": 34373,
    "start_time": "2021-10-10T14:48:26.487Z"
   },
   {
    "duration": 95,
    "start_time": "2021-10-10T14:49:00.862Z"
   },
   {
    "duration": 32398,
    "start_time": "2021-10-10T14:49:00.960Z"
   },
   {
    "duration": 95,
    "start_time": "2021-10-10T14:49:33.360Z"
   },
   {
    "duration": 447,
    "start_time": "2021-10-10T14:49:33.458Z"
   },
   {
    "duration": 1282,
    "start_time": "2021-10-11T09:03:47.739Z"
   },
   {
    "duration": 39,
    "start_time": "2021-10-11T09:03:49.023Z"
   },
   {
    "duration": 8,
    "start_time": "2021-10-11T09:03:49.064Z"
   },
   {
    "duration": 58,
    "start_time": "2021-10-11T09:03:49.074Z"
   },
   {
    "duration": 4,
    "start_time": "2021-10-11T09:03:49.134Z"
   },
   {
    "duration": 31,
    "start_time": "2021-10-11T09:03:49.140Z"
   },
   {
    "duration": 37,
    "start_time": "2021-10-11T09:03:49.172Z"
   },
   {
    "duration": 14,
    "start_time": "2021-10-11T09:03:49.212Z"
   },
   {
    "duration": 10,
    "start_time": "2021-10-11T09:03:49.228Z"
   },
   {
    "duration": 47,
    "start_time": "2021-10-11T09:03:49.240Z"
   },
   {
    "duration": 24,
    "start_time": "2021-10-11T09:03:49.289Z"
   },
   {
    "duration": 26,
    "start_time": "2021-10-11T09:03:49.315Z"
   },
   {
    "duration": 43,
    "start_time": "2021-10-11T09:03:49.342Z"
   },
   {
    "duration": 29,
    "start_time": "2021-10-11T09:03:49.387Z"
   },
   {
    "duration": 48,
    "start_time": "2021-10-11T09:03:49.418Z"
   },
   {
    "duration": 4,
    "start_time": "2021-10-11T09:03:49.468Z"
   },
   {
    "duration": 52,
    "start_time": "2021-10-11T09:03:49.473Z"
   },
   {
    "duration": 31,
    "start_time": "2021-10-11T09:03:49.527Z"
   },
   {
    "duration": 22554,
    "start_time": "2021-10-11T09:03:49.560Z"
   },
   {
    "duration": 322367,
    "start_time": "2021-10-11T09:04:12.115Z"
   },
   {
    "duration": 12035,
    "start_time": "2021-10-11T09:09:34.483Z"
   },
   {
    "duration": 761,
    "start_time": "2021-10-11T09:09:46.520Z"
   },
   {
    "duration": 58490,
    "start_time": "2021-10-11T09:09:47.285Z"
   },
   {
    "duration": 20,
    "start_time": "2021-10-11T09:10:45.777Z"
   },
   {
    "duration": 36131,
    "start_time": "2021-10-11T09:10:45.844Z"
   },
   {
    "duration": 172,
    "start_time": "2021-10-11T09:11:21.978Z"
   },
   {
    "duration": 106,
    "start_time": "2021-10-11T09:11:22.152Z"
   },
   {
    "duration": 96,
    "start_time": "2021-10-11T09:11:22.260Z"
   },
   {
    "duration": 3874,
    "start_time": "2021-10-11T09:11:22.357Z"
   },
   {
    "duration": 16,
    "start_time": "2021-10-11T09:11:26.233Z"
   },
   {
    "duration": 407,
    "start_time": "2021-10-11T09:11:26.251Z"
   },
   {
    "duration": 33738,
    "start_time": "2021-10-11T09:11:26.660Z"
   },
   {
    "duration": 51,
    "start_time": "2021-10-11T09:12:00.400Z"
   },
   {
    "duration": 30591,
    "start_time": "2021-10-11T09:12:00.454Z"
   },
   {
    "duration": 105,
    "start_time": "2021-10-11T09:12:31.048Z"
   },
   {
    "duration": 328,
    "start_time": "2021-10-11T09:12:31.246Z"
   },
   {
    "duration": 22755,
    "start_time": "2021-10-11T09:32:40.132Z"
   },
   {
    "duration": 23966,
    "start_time": "2021-10-11T10:19:32.828Z"
   },
   {
    "duration": 1164363,
    "start_time": "2021-10-11T10:23:02.680Z"
   },
   {
    "duration": 1104,
    "start_time": "2021-10-11T11:27:15.092Z"
   },
   {
    "duration": 38,
    "start_time": "2021-10-11T11:27:16.198Z"
   },
   {
    "duration": 8,
    "start_time": "2021-10-11T11:27:16.237Z"
   },
   {
    "duration": 35,
    "start_time": "2021-10-11T11:27:16.247Z"
   },
   {
    "duration": 4,
    "start_time": "2021-10-11T11:27:16.283Z"
   },
   {
    "duration": 5,
    "start_time": "2021-10-11T11:27:16.289Z"
   },
   {
    "duration": 14,
    "start_time": "2021-10-11T11:27:16.295Z"
   },
   {
    "duration": 4,
    "start_time": "2021-10-11T11:27:16.311Z"
   },
   {
    "duration": 27,
    "start_time": "2021-10-11T11:27:16.317Z"
   },
   {
    "duration": 17,
    "start_time": "2021-10-11T11:27:16.346Z"
   },
   {
    "duration": 5,
    "start_time": "2021-10-11T11:27:16.365Z"
   },
   {
    "duration": 9,
    "start_time": "2021-10-11T11:27:16.371Z"
   },
   {
    "duration": 21,
    "start_time": "2021-10-11T11:27:16.382Z"
   },
   {
    "duration": 7,
    "start_time": "2021-10-11T11:27:16.405Z"
   },
   {
    "duration": 55,
    "start_time": "2021-10-11T11:27:16.413Z"
   },
   {
    "duration": 3,
    "start_time": "2021-10-11T11:27:16.470Z"
   },
   {
    "duration": 11,
    "start_time": "2021-10-11T11:27:16.475Z"
   },
   {
    "duration": 17,
    "start_time": "2021-10-11T11:27:16.488Z"
   },
   {
    "duration": 1468287,
    "start_time": "2021-10-11T11:27:16.506Z"
   },
   {
    "duration": 24289,
    "start_time": "2021-10-11T11:51:44.795Z"
   },
   {
    "duration": 351209,
    "start_time": "2021-10-11T11:52:09.086Z"
   },
   {
    "duration": 11974,
    "start_time": "2021-10-11T11:58:00.297Z"
   },
   {
    "duration": 749,
    "start_time": "2021-10-11T11:58:12.274Z"
   },
   {
    "duration": 58343,
    "start_time": "2021-10-11T11:58:13.025Z"
   },
   {
    "duration": 75,
    "start_time": "2021-10-11T11:59:11.370Z"
   },
   {
    "duration": 36132,
    "start_time": "2021-10-11T11:59:11.447Z"
   },
   {
    "duration": 168,
    "start_time": "2021-10-11T11:59:47.581Z"
   },
   {
    "duration": 109,
    "start_time": "2021-10-11T11:59:47.751Z"
   },
   {
    "duration": 95,
    "start_time": "2021-10-11T11:59:47.862Z"
   },
   {
    "duration": 3704,
    "start_time": "2021-10-11T11:59:47.959Z"
   },
   {
    "duration": 10,
    "start_time": "2021-10-11T11:59:51.664Z"
   },
   {
    "duration": 421,
    "start_time": "2021-10-11T11:59:51.676Z"
   },
   {
    "duration": 33593,
    "start_time": "2021-10-11T11:59:52.099Z"
   },
   {
    "duration": 51,
    "start_time": "2021-10-11T12:00:25.694Z"
   },
   {
    "duration": 31502,
    "start_time": "2021-10-11T12:00:25.749Z"
   },
   {
    "duration": 189,
    "start_time": "2021-10-11T12:00:57.256Z"
   },
   {
    "duration": 278,
    "start_time": "2021-10-11T12:00:57.448Z"
   },
   {
    "duration": 32,
    "start_time": "2021-10-11T15:25:56.841Z"
   },
   {
    "duration": 4,
    "start_time": "2021-10-11T15:25:58.217Z"
   },
   {
    "duration": 11,
    "start_time": "2021-10-11T15:26:00.902Z"
   },
   {
    "duration": 18,
    "start_time": "2021-10-11T15:27:35.869Z"
   },
   {
    "duration": 4,
    "start_time": "2021-10-11T15:27:36.815Z"
   },
   {
    "duration": 11,
    "start_time": "2021-10-11T15:27:39.301Z"
   },
   {
    "duration": 14,
    "start_time": "2021-10-11T15:27:47.357Z"
   },
   {
    "duration": 11,
    "start_time": "2021-10-11T15:27:48.173Z"
   },
   {
    "duration": 37,
    "start_time": "2021-10-11T15:27:55.845Z"
   },
   {
    "duration": 11,
    "start_time": "2021-10-11T15:27:56.781Z"
   },
   {
    "duration": 18,
    "start_time": "2021-10-11T15:28:01.309Z"
   },
   {
    "duration": 11,
    "start_time": "2021-10-11T15:28:02.573Z"
   },
   {
    "duration": 829,
    "start_time": "2021-10-11T15:29:20.781Z"
   },
   {
    "duration": 642,
    "start_time": "2021-10-11T15:29:51.817Z"
   },
   {
    "duration": 140,
    "start_time": "2021-10-11T15:29:59.961Z"
   },
   {
    "duration": 107,
    "start_time": "2021-10-11T15:30:05.117Z"
   },
   {
    "duration": 75,
    "start_time": "2021-10-11T15:34:01.949Z"
   },
   {
    "duration": 10,
    "start_time": "2021-10-11T15:34:04.597Z"
   },
   {
    "duration": 77,
    "start_time": "2021-10-11T15:34:07.880Z"
   },
   {
    "duration": 12,
    "start_time": "2021-10-11T15:34:09.168Z"
   },
   {
    "duration": 15,
    "start_time": "2021-10-11T15:34:40.300Z"
   },
   {
    "duration": 74,
    "start_time": "2021-10-11T15:35:40.284Z"
   },
   {
    "duration": 76,
    "start_time": "2021-10-11T15:35:56.433Z"
   },
   {
    "duration": 15,
    "start_time": "2021-10-11T15:35:59.208Z"
   },
   {
    "duration": 44,
    "start_time": "2021-10-11T15:36:04.828Z"
   },
   {
    "duration": 15,
    "start_time": "2021-10-11T15:36:06.172Z"
   },
   {
    "duration": 76,
    "start_time": "2021-10-11T15:36:11.604Z"
   },
   {
    "duration": 18,
    "start_time": "2021-10-11T15:36:12.732Z"
   },
   {
    "duration": 1222526,
    "start_time": "2021-10-11T15:38:12.476Z"
   },
   {
    "duration": 796125,
    "start_time": "2021-10-11T15:58:38.646Z"
   },
   {
    "duration": 42,
    "start_time": "2021-10-11T16:16:01.484Z"
   },
   {
    "duration": 26687,
    "start_time": "2021-10-11T16:18:51.120Z"
   },
   {
    "duration": 404,
    "start_time": "2021-10-11T19:20:04.226Z"
   },
   {
    "duration": 1564,
    "start_time": "2021-10-11T19:54:46.061Z"
   },
   {
    "duration": 55,
    "start_time": "2021-10-11T19:54:47.628Z"
   },
   {
    "duration": 12,
    "start_time": "2021-10-11T19:54:47.686Z"
   },
   {
    "duration": 80,
    "start_time": "2021-10-11T19:54:47.701Z"
   },
   {
    "duration": 6,
    "start_time": "2021-10-11T19:54:47.784Z"
   },
   {
    "duration": 8,
    "start_time": "2021-10-11T19:54:47.793Z"
   },
   {
    "duration": 18,
    "start_time": "2021-10-11T19:54:47.803Z"
   },
   {
    "duration": 5,
    "start_time": "2021-10-11T19:54:47.858Z"
   },
   {
    "duration": 13,
    "start_time": "2021-10-11T19:54:47.866Z"
   },
   {
    "duration": 29,
    "start_time": "2021-10-11T19:54:47.881Z"
   },
   {
    "duration": 7,
    "start_time": "2021-10-11T19:54:47.912Z"
   },
   {
    "duration": 45,
    "start_time": "2021-10-11T19:54:47.922Z"
   },
   {
    "duration": 33,
    "start_time": "2021-10-11T19:54:47.969Z"
   },
   {
    "duration": 11,
    "start_time": "2021-10-11T19:54:48.005Z"
   },
   {
    "duration": 133,
    "start_time": "2021-10-11T19:54:48.018Z"
   },
   {
    "duration": 5,
    "start_time": "2021-10-11T19:54:48.153Z"
   },
   {
    "duration": 23,
    "start_time": "2021-10-11T19:54:48.160Z"
   },
   {
    "duration": 27,
    "start_time": "2021-10-11T19:54:48.185Z"
   },
   {
    "duration": 1176,
    "start_time": "2021-10-11T19:54:48.214Z"
   },
   {
    "duration": 50793,
    "start_time": "2021-10-11T19:54:49.392Z"
   },
   {
    "duration": 960550,
    "start_time": "2021-10-11T19:55:40.188Z"
   },
   {
    "duration": 72,
    "start_time": "2021-10-11T20:11:40.740Z"
   },
   {
    "duration": 29907,
    "start_time": "2021-10-11T20:11:40.817Z"
   },
   {
    "duration": 46951,
    "start_time": "2021-10-11T20:12:10.727Z"
   },
   {
    "duration": 78,
    "start_time": "2021-10-11T20:12:57.680Z"
   },
   {
    "duration": 36145,
    "start_time": "2021-10-11T20:12:57.762Z"
   },
   {
    "duration": 159,
    "start_time": "2021-10-11T20:13:33.910Z"
   },
   {
    "duration": 208,
    "start_time": "2021-10-11T20:13:34.071Z"
   },
   {
    "duration": 27,
    "start_time": "2021-10-11T20:13:34.281Z"
   },
   {
    "duration": 6753,
    "start_time": "2021-10-11T20:13:34.311Z"
   },
   {
    "duration": 13,
    "start_time": "2021-10-11T20:13:41.067Z"
   },
   {
    "duration": 649,
    "start_time": "2021-10-11T20:13:41.083Z"
   },
   {
    "duration": 53685,
    "start_time": "2021-10-11T20:13:41.735Z"
   },
   {
    "duration": 61,
    "start_time": "2021-10-11T20:14:35.423Z"
   },
   {
    "duration": 36124,
    "start_time": "2021-10-11T20:14:35.559Z"
   },
   {
    "duration": 180,
    "start_time": "2021-10-11T20:15:11.687Z"
   },
   {
    "duration": 475,
    "start_time": "2021-10-11T20:15:11.870Z"
   },
   {
    "duration": 66552,
    "start_time": "2021-10-11T20:16:03.823Z"
   },
   {
    "duration": 8013,
    "start_time": "2021-10-11T20:20:04.158Z"
   },
   {
    "duration": 27147,
    "start_time": "2021-10-11T20:20:13.778Z"
   },
   {
    "duration": 36407,
    "start_time": "2021-10-11T20:20:58.958Z"
   },
   {
    "duration": 22718,
    "start_time": "2021-10-11T20:28:43.113Z"
   },
   {
    "duration": 28428,
    "start_time": "2021-10-11T20:32:29.733Z"
   },
   {
    "duration": 723597,
    "start_time": "2021-10-11T20:33:08.686Z"
   },
   {
    "duration": 69,
    "start_time": "2021-10-11T20:47:39.651Z"
   },
   {
    "duration": 17882,
    "start_time": "2021-10-11T20:51:24.955Z"
   },
   {
    "duration": 36049,
    "start_time": "2021-10-11T20:54:06.215Z"
   },
   {
    "duration": 247,
    "start_time": "2021-10-11T21:20:52.436Z"
   },
   {
    "duration": 358,
    "start_time": "2021-10-11T21:22:20.606Z"
   },
   {
    "duration": 26915,
    "start_time": "2021-10-11T21:23:10.928Z"
   },
   {
    "duration": 340,
    "start_time": "2021-10-11T21:23:44.922Z"
   },
   {
    "duration": 49193,
    "start_time": "2021-10-11T21:24:34.184Z"
   },
   {
    "duration": 325,
    "start_time": "2021-10-11T21:25:35.851Z"
   },
   {
    "duration": 322,
    "start_time": "2021-10-11T21:36:35.644Z"
   },
   {
    "duration": 385,
    "start_time": "2021-10-11T21:36:49.886Z"
   },
   {
    "duration": 396,
    "start_time": "2021-10-11T21:37:03.566Z"
   },
   {
    "duration": 1521,
    "start_time": "2021-10-11T21:55:32.185Z"
   },
   {
    "duration": 54,
    "start_time": "2021-10-11T21:55:33.708Z"
   },
   {
    "duration": 11,
    "start_time": "2021-10-11T21:55:33.765Z"
   },
   {
    "duration": 80,
    "start_time": "2021-10-11T21:55:33.779Z"
   },
   {
    "duration": 6,
    "start_time": "2021-10-11T21:55:33.861Z"
   },
   {
    "duration": 7,
    "start_time": "2021-10-11T21:55:33.869Z"
   },
   {
    "duration": 16,
    "start_time": "2021-10-11T21:55:33.879Z"
   },
   {
    "duration": 4,
    "start_time": "2021-10-11T21:55:33.898Z"
   },
   {
    "duration": 7,
    "start_time": "2021-10-11T21:55:33.906Z"
   },
   {
    "duration": 66,
    "start_time": "2021-10-11T21:55:33.917Z"
   },
   {
    "duration": 6,
    "start_time": "2021-10-11T21:55:33.986Z"
   },
   {
    "duration": 11,
    "start_time": "2021-10-11T21:55:33.995Z"
   },
   {
    "duration": 66,
    "start_time": "2021-10-11T21:55:34.009Z"
   },
   {
    "duration": 11,
    "start_time": "2021-10-11T21:55:34.078Z"
   },
   {
    "duration": 121,
    "start_time": "2021-10-11T21:55:34.092Z"
   },
   {
    "duration": 5,
    "start_time": "2021-10-11T21:55:34.215Z"
   },
   {
    "duration": 35,
    "start_time": "2021-10-11T21:55:34.222Z"
   },
   {
    "duration": 25,
    "start_time": "2021-10-11T21:55:34.260Z"
   },
   {
    "duration": 49128,
    "start_time": "2021-10-11T21:55:34.288Z"
   },
   {
    "duration": 945243,
    "start_time": "2021-10-11T21:56:23.418Z"
   },
   {
    "duration": 68,
    "start_time": "2021-10-11T22:12:08.663Z"
   },
   {
    "duration": 66013,
    "start_time": "2021-10-11T22:12:08.734Z"
   },
   {
    "duration": -6874880,
    "start_time": "2021-10-12T00:07:49.631Z"
   },
   {
    "duration": -6874885,
    "start_time": "2021-10-12T00:07:49.638Z"
   },
   {
    "duration": -6874898,
    "start_time": "2021-10-12T00:07:49.653Z"
   },
   {
    "duration": -6874900,
    "start_time": "2021-10-12T00:07:49.657Z"
   },
   {
    "duration": -6874902,
    "start_time": "2021-10-12T00:07:49.661Z"
   },
   {
    "duration": -6874904,
    "start_time": "2021-10-12T00:07:49.665Z"
   },
   {
    "duration": -6874906,
    "start_time": "2021-10-12T00:07:49.669Z"
   },
   {
    "duration": -6874907,
    "start_time": "2021-10-12T00:07:49.672Z"
   },
   {
    "duration": 65872,
    "start_time": "2021-10-11T22:20:06.511Z"
   },
   {
    "duration": 33802,
    "start_time": "2021-10-11T22:21:49.906Z"
   },
   {
    "duration": 33897,
    "start_time": "2021-10-11T22:22:51.930Z"
   },
   {
    "duration": 33496,
    "start_time": "2021-10-11T22:23:49.366Z"
   },
   {
    "duration": 33771,
    "start_time": "2021-10-11T22:24:32.510Z"
   },
   {
    "duration": 1520,
    "start_time": "2021-10-11T22:26:16.505Z"
   },
   {
    "duration": 54,
    "start_time": "2021-10-11T22:26:18.027Z"
   },
   {
    "duration": 11,
    "start_time": "2021-10-11T22:26:18.084Z"
   },
   {
    "duration": 88,
    "start_time": "2021-10-11T22:26:18.098Z"
   },
   {
    "duration": 7,
    "start_time": "2021-10-11T22:26:18.189Z"
   },
   {
    "duration": 7,
    "start_time": "2021-10-11T22:26:18.199Z"
   },
   {
    "duration": 51,
    "start_time": "2021-10-11T22:26:18.209Z"
   },
   {
    "duration": 6,
    "start_time": "2021-10-11T22:26:18.263Z"
   },
   {
    "duration": 7,
    "start_time": "2021-10-11T22:26:18.275Z"
   },
   {
    "duration": 29,
    "start_time": "2021-10-11T22:26:18.286Z"
   },
   {
    "duration": 9,
    "start_time": "2021-10-11T22:26:18.358Z"
   },
   {
    "duration": 13,
    "start_time": "2021-10-11T22:26:18.370Z"
   },
   {
    "duration": 33,
    "start_time": "2021-10-11T22:26:18.385Z"
   },
   {
    "duration": 46,
    "start_time": "2021-10-11T22:26:18.421Z"
   },
   {
    "duration": 119,
    "start_time": "2021-10-11T22:26:18.469Z"
   },
   {
    "duration": 6,
    "start_time": "2021-10-11T22:26:18.591Z"
   },
   {
    "duration": 28,
    "start_time": "2021-10-11T22:26:18.599Z"
   },
   {
    "duration": 42,
    "start_time": "2021-10-11T22:26:18.629Z"
   },
   {
    "duration": 49979,
    "start_time": "2021-10-11T22:26:18.674Z"
   },
   {
    "duration": 621432,
    "start_time": "2021-10-11T22:27:08.659Z"
   },
   {
    "duration": 90,
    "start_time": "2021-10-11T22:37:30.093Z"
   },
   {
    "duration": 33777,
    "start_time": "2021-10-11T22:37:30.185Z"
   },
   {
    "duration": 36296,
    "start_time": "2021-10-11T22:38:03.964Z"
   },
   {
    "duration": 119,
    "start_time": "2021-10-11T22:38:40.263Z"
   },
   {
    "duration": 26456,
    "start_time": "2021-10-11T22:38:40.384Z"
   },
   {
    "duration": 747330,
    "start_time": "2021-10-11T22:39:06.843Z"
   },
   {
    "duration": 68,
    "start_time": "2021-10-11T22:51:34.177Z"
   },
   {
    "duration": 22522,
    "start_time": "2021-10-11T22:51:34.247Z"
   },
   {
    "duration": 36093,
    "start_time": "2021-10-11T22:51:56.772Z"
   },
   {
    "duration": 412,
    "start_time": "2021-10-11T22:52:32.957Z"
   },
   {
    "duration": 1272,
    "start_time": "2021-10-12T05:26:51.614Z"
   },
   {
    "duration": 41,
    "start_time": "2021-10-12T05:26:52.889Z"
   },
   {
    "duration": 8,
    "start_time": "2021-10-12T05:26:52.931Z"
   },
   {
    "duration": 38,
    "start_time": "2021-10-12T05:26:52.941Z"
   },
   {
    "duration": 4,
    "start_time": "2021-10-12T05:26:52.981Z"
   },
   {
    "duration": 6,
    "start_time": "2021-10-12T05:26:52.986Z"
   },
   {
    "duration": 14,
    "start_time": "2021-10-12T05:26:52.994Z"
   },
   {
    "duration": 3,
    "start_time": "2021-10-12T05:26:53.011Z"
   },
   {
    "duration": 9,
    "start_time": "2021-10-12T05:26:53.016Z"
   },
   {
    "duration": 21,
    "start_time": "2021-10-12T05:26:53.027Z"
   },
   {
    "duration": 5,
    "start_time": "2021-10-12T05:26:53.050Z"
   },
   {
    "duration": 14,
    "start_time": "2021-10-12T05:26:53.057Z"
   },
   {
    "duration": 25,
    "start_time": "2021-10-12T05:26:53.073Z"
   },
   {
    "duration": 8,
    "start_time": "2021-10-12T05:26:53.100Z"
   },
   {
    "duration": 76,
    "start_time": "2021-10-12T05:26:53.110Z"
   },
   {
    "duration": 3,
    "start_time": "2021-10-12T05:26:53.187Z"
   },
   {
    "duration": 66,
    "start_time": "2021-10-12T05:26:53.192Z"
   },
   {
    "duration": 20,
    "start_time": "2021-10-12T05:26:53.260Z"
   },
   {
    "duration": 31752,
    "start_time": "2021-10-12T05:26:53.282Z"
   },
   {
    "duration": 490845,
    "start_time": "2021-10-12T05:27:25.036Z"
   },
   {
    "duration": 45,
    "start_time": "2021-10-12T05:35:35.883Z"
   },
   {
    "duration": 51166,
    "start_time": "2021-10-12T05:35:35.930Z"
   },
   {
    "duration": 36255,
    "start_time": "2021-10-12T05:36:27.099Z"
   },
   {
    "duration": 197,
    "start_time": "2021-10-12T05:37:03.357Z"
   },
   {
    "duration": 17361,
    "start_time": "2021-10-12T05:37:03.556Z"
   },
   {
    "duration": 584050,
    "start_time": "2021-10-12T05:37:20.919Z"
   },
   {
    "duration": 45,
    "start_time": "2021-10-12T05:47:04.971Z"
   },
   {
    "duration": 13408,
    "start_time": "2021-10-12T05:47:05.018Z"
   },
   {
    "duration": 32235,
    "start_time": "2021-10-12T05:47:18.428Z"
   },
   {
    "duration": 396,
    "start_time": "2021-10-12T05:47:50.757Z"
   },
   {
    "duration": 687,
    "start_time": "2021-10-12T05:47:51.156Z"
   },
   {
    "duration": 5,
    "start_time": "2021-10-12T05:47:51.844Z"
   },
   {
    "duration": 54,
    "start_time": "2021-10-12T05:47:51.850Z"
   },
   {
    "duration": 6,
    "start_time": "2021-10-12T05:59:49.949Z"
   },
   {
    "duration": 1718,
    "start_time": "2021-10-12T09:47:37.764Z"
   },
   {
    "duration": 58,
    "start_time": "2021-10-12T09:47:43.477Z"
   },
   {
    "duration": 12,
    "start_time": "2021-10-12T09:47:44.932Z"
   },
   {
    "duration": 65,
    "start_time": "2021-10-12T09:47:46.580Z"
   },
   {
    "duration": 6,
    "start_time": "2021-10-12T09:47:48.832Z"
   },
   {
    "duration": 6,
    "start_time": "2021-10-12T09:47:49.024Z"
   },
   {
    "duration": 16,
    "start_time": "2021-10-12T09:47:51.076Z"
   },
   {
    "duration": 5,
    "start_time": "2021-10-12T09:47:51.248Z"
   },
   {
    "duration": 7,
    "start_time": "2021-10-12T09:47:52.752Z"
   },
   {
    "duration": 28,
    "start_time": "2021-10-12T09:47:53.064Z"
   },
   {
    "duration": 7,
    "start_time": "2021-10-12T09:47:53.558Z"
   },
   {
    "duration": 12,
    "start_time": "2021-10-12T09:47:55.045Z"
   },
   {
    "duration": 31,
    "start_time": "2021-10-12T09:47:55.869Z"
   },
   {
    "duration": 11,
    "start_time": "2021-10-12T09:48:04.032Z"
   },
   {
    "duration": 924,
    "start_time": "2021-10-12T09:48:09.356Z"
   },
   {
    "duration": 4,
    "start_time": "2021-10-12T09:48:12.161Z"
   },
   {
    "duration": 68,
    "start_time": "2021-10-12T09:48:13.372Z"
   },
   {
    "duration": 27,
    "start_time": "2021-10-12T09:48:20.597Z"
   },
   {
    "duration": 57579,
    "start_time": "2021-10-12T09:48:22.877Z"
   },
   {
    "duration": 58114,
    "start_time": "2021-10-12T09:49:32.396Z"
   },
   {
    "duration": 409,
    "start_time": "2021-10-12T10:00:56.495Z"
   },
   {
    "duration": 28,
    "start_time": "2021-10-12T10:01:01.151Z"
   },
   {
    "duration": 34551,
    "start_time": "2021-10-12T10:01:02.807Z"
   },
   {
    "duration": 35578,
    "start_time": "2021-10-12T10:03:57.075Z"
   },
   {
    "duration": 7,
    "start_time": "2021-10-12T10:08:33.810Z"
   },
   {
    "duration": 30,
    "start_time": "2021-10-12T10:08:44.830Z"
   },
   {
    "duration": 11,
    "start_time": "2021-10-12T10:09:05.526Z"
   },
   {
    "duration": 1570,
    "start_time": "2021-10-12T10:09:28.418Z"
   },
   {
    "duration": 64,
    "start_time": "2021-10-12T10:09:29.990Z"
   },
   {
    "duration": 12,
    "start_time": "2021-10-12T10:09:32.258Z"
   },
   {
    "duration": 64,
    "start_time": "2021-10-12T10:09:32.438Z"
   },
   {
    "duration": 7,
    "start_time": "2021-10-12T10:09:35.182Z"
   },
   {
    "duration": 6,
    "start_time": "2021-10-12T10:09:36.746Z"
   },
   {
    "duration": 37,
    "start_time": "2021-10-12T10:09:37.718Z"
   },
   {
    "duration": 39,
    "start_time": "2021-10-12T10:25:36.600Z"
   },
   {
    "duration": 10,
    "start_time": "2021-10-12T10:25:51.668Z"
   },
   {
    "duration": 11,
    "start_time": "2021-10-12T10:25:53.804Z"
   },
   {
    "duration": 5,
    "start_time": "2021-10-12T10:25:58.088Z"
   },
   {
    "duration": 7,
    "start_time": "2021-10-12T10:25:59.512Z"
   },
   {
    "duration": 29,
    "start_time": "2021-10-12T10:26:01.120Z"
   },
   {
    "duration": 7,
    "start_time": "2021-10-12T10:26:04.428Z"
   },
   {
    "duration": 11,
    "start_time": "2021-10-12T10:26:05.192Z"
   },
   {
    "duration": 31,
    "start_time": "2021-10-12T10:26:06.244Z"
   },
   {
    "duration": 11,
    "start_time": "2021-10-12T10:26:10.280Z"
   },
   {
    "duration": 964,
    "start_time": "2021-10-12T10:26:23.136Z"
   },
   {
    "duration": 5,
    "start_time": "2021-10-12T10:26:25.360Z"
   },
   {
    "duration": 65,
    "start_time": "2021-10-12T10:26:27.224Z"
   },
   {
    "duration": 29,
    "start_time": "2021-10-12T10:26:34.888Z"
   },
   {
    "duration": 56476,
    "start_time": "2021-10-12T10:26:37.624Z"
   },
   {
    "duration": 449,
    "start_time": "2021-10-12T10:36:52.378Z"
   },
   {
    "duration": 29,
    "start_time": "2021-10-12T10:37:00.139Z"
   },
   {
    "duration": 35608,
    "start_time": "2021-10-12T10:37:01.884Z"
   },
   {
    "duration": 36186,
    "start_time": "2021-10-12T10:37:45.118Z"
   },
   {
    "duration": 18216,
    "start_time": "2021-10-12T10:38:26.583Z"
   },
   {
    "duration": 54782,
    "start_time": "2021-10-12T10:39:22.358Z"
   },
   {
    "duration": 57177,
    "start_time": "2021-10-12T10:40:25.142Z"
   },
   {
    "duration": 34,
    "start_time": "2021-10-12T10:44:08.178Z"
   },
   {
    "duration": 1547,
    "start_time": "2021-10-12T10:45:28.855Z"
   },
   {
    "duration": 56,
    "start_time": "2021-10-12T10:45:30.404Z"
   },
   {
    "duration": 14,
    "start_time": "2021-10-12T10:45:33.275Z"
   },
   {
    "duration": 62,
    "start_time": "2021-10-12T10:45:36.507Z"
   },
   {
    "duration": 7,
    "start_time": "2021-10-12T10:45:37.203Z"
   },
   {
    "duration": 6,
    "start_time": "2021-10-12T10:45:37.415Z"
   },
   {
    "duration": 11,
    "start_time": "2021-10-12T10:45:38.998Z"
   },
   {
    "duration": 12,
    "start_time": "2021-10-12T10:45:39.383Z"
   },
   {
    "duration": 5,
    "start_time": "2021-10-12T10:45:40.795Z"
   },
   {
    "duration": 7,
    "start_time": "2021-10-12T10:45:41.135Z"
   },
   {
    "duration": 27,
    "start_time": "2021-10-12T10:45:42.607Z"
   },
   {
    "duration": 7,
    "start_time": "2021-10-12T10:45:55.907Z"
   },
   {
    "duration": 12,
    "start_time": "2021-10-12T10:45:56.103Z"
   },
   {
    "duration": 33,
    "start_time": "2021-10-12T10:45:57.735Z"
   },
   {
    "duration": 13,
    "start_time": "2021-10-12T10:46:00.335Z"
   },
   {
    "duration": 938,
    "start_time": "2021-10-12T10:46:02.827Z"
   },
   {
    "duration": 5,
    "start_time": "2021-10-12T10:46:03.795Z"
   },
   {
    "duration": 64,
    "start_time": "2021-10-12T10:46:05.719Z"
   },
   {
    "duration": 27,
    "start_time": "2021-10-12T10:46:11.123Z"
   },
   {
    "duration": 59654,
    "start_time": "2021-10-12T10:46:14.970Z"
   },
   {
    "duration": 13,
    "start_time": "2021-10-12T11:02:53.493Z"
   },
   {
    "duration": 28,
    "start_time": "2021-10-12T11:05:39.264Z"
   },
   {
    "duration": 11,
    "start_time": "2021-10-12T11:07:50.512Z"
   },
   {
    "duration": 1561,
    "start_time": "2021-10-12T11:08:08.922Z"
   },
   {
    "duration": 56,
    "start_time": "2021-10-12T11:08:10.486Z"
   },
   {
    "duration": 13,
    "start_time": "2021-10-12T11:08:11.698Z"
   },
   {
    "duration": 63,
    "start_time": "2021-10-12T11:08:12.274Z"
   },
   {
    "duration": 7,
    "start_time": "2021-10-12T11:08:14.394Z"
   },
   {
    "duration": 6,
    "start_time": "2021-10-12T11:08:14.919Z"
   },
   {
    "duration": 36,
    "start_time": "2021-10-12T11:08:16.557Z"
   },
   {
    "duration": 33,
    "start_time": "2021-10-12T11:08:17.954Z"
   },
   {
    "duration": 18,
    "start_time": "2021-10-12T11:11:59.641Z"
   },
   {
    "duration": 5,
    "start_time": "2021-10-12T11:12:02.545Z"
   },
   {
    "duration": 6,
    "start_time": "2021-10-12T11:12:05.181Z"
   },
   {
    "duration": 26,
    "start_time": "2021-10-12T11:12:07.845Z"
   },
   {
    "duration": 7,
    "start_time": "2021-10-12T11:12:12.665Z"
   },
   {
    "duration": 12,
    "start_time": "2021-10-12T11:12:13.897Z"
   },
   {
    "duration": 13,
    "start_time": "2021-10-12T11:12:34.805Z"
   },
   {
    "duration": 32,
    "start_time": "2021-10-12T11:12:36.649Z"
   },
   {
    "duration": 11,
    "start_time": "2021-10-12T11:12:40.241Z"
   },
   {
    "duration": 1006,
    "start_time": "2021-10-12T11:12:44.172Z"
   },
   {
    "duration": 5,
    "start_time": "2021-10-12T11:12:48.845Z"
   },
   {
    "duration": 65,
    "start_time": "2021-10-12T11:12:49.837Z"
   },
   {
    "duration": 27,
    "start_time": "2021-10-12T11:12:57.265Z"
   },
   {
    "duration": 62455,
    "start_time": "2021-10-12T11:13:00.317Z"
   },
   {
    "duration": 18,
    "start_time": "2021-10-12T11:34:29.342Z"
   },
   {
    "duration": 452,
    "start_time": "2021-10-12T11:34:37.694Z"
   },
   {
    "duration": 19,
    "start_time": "2021-10-12T11:34:46.290Z"
   },
   {
    "duration": 13,
    "start_time": "2021-10-12T11:34:51.734Z"
   },
   {
    "duration": 32,
    "start_time": "2021-10-12T11:35:44.866Z"
   },
   {
    "duration": 13,
    "start_time": "2021-10-12T11:35:46.374Z"
   },
   {
    "duration": 1002,
    "start_time": "2021-10-12T11:35:47.919Z"
   },
   {
    "duration": 5,
    "start_time": "2021-10-12T11:35:49.978Z"
   },
   {
    "duration": 67,
    "start_time": "2021-10-12T11:35:50.878Z"
   },
   {
    "duration": 27,
    "start_time": "2021-10-12T11:35:53.991Z"
   },
   {
    "duration": 63119,
    "start_time": "2021-10-12T11:35:56.626Z"
   },
   {
    "duration": 14,
    "start_time": "2021-10-12T11:43:55.545Z"
   },
   {
    "duration": 4,
    "start_time": "2021-10-12T11:43:57.505Z"
   },
   {
    "duration": 293,
    "start_time": "2021-10-12T11:43:58.873Z"
   },
   {
    "duration": 27,
    "start_time": "2021-10-12T11:44:07.094Z"
   },
   {
    "duration": 8,
    "start_time": "2021-10-12T11:44:09.429Z"
   },
   {
    "duration": 22,
    "start_time": "2021-10-12T11:44:10.457Z"
   },
   {
    "duration": 34,
    "start_time": "2021-10-12T11:44:11.877Z"
   },
   {
    "duration": 13,
    "start_time": "2021-10-12T11:44:13.686Z"
   },
   {
    "duration": 1054,
    "start_time": "2021-10-12T11:44:14.901Z"
   },
   {
    "duration": 5,
    "start_time": "2021-10-12T11:44:16.537Z"
   },
   {
    "duration": 68,
    "start_time": "2021-10-12T11:44:18.017Z"
   },
   {
    "duration": 29,
    "start_time": "2021-10-12T11:44:22.009Z"
   },
   {
    "duration": 63222,
    "start_time": "2021-10-12T11:44:23.689Z"
   },
   {
    "duration": 15,
    "start_time": "2021-10-12T11:46:20.789Z"
   },
   {
    "duration": 16,
    "start_time": "2021-10-12T11:46:24.297Z"
   },
   {
    "duration": 1593,
    "start_time": "2021-10-12T11:46:48.190Z"
   },
   {
    "duration": 56,
    "start_time": "2021-10-12T11:46:51.237Z"
   },
   {
    "duration": 13,
    "start_time": "2021-10-12T11:46:54.069Z"
   },
   {
    "duration": 61,
    "start_time": "2021-10-12T11:46:55.150Z"
   },
   {
    "duration": 6,
    "start_time": "2021-10-12T11:46:56.514Z"
   },
   {
    "duration": 6,
    "start_time": "2021-10-12T11:46:57.685Z"
   },
   {
    "duration": 37,
    "start_time": "2021-10-12T11:47:00.425Z"
   },
   {
    "duration": 32,
    "start_time": "2021-10-12T11:47:02.058Z"
   },
   {
    "duration": 20,
    "start_time": "2021-10-12T11:47:06.213Z"
   },
   {
    "duration": 5,
    "start_time": "2021-10-12T11:47:07.433Z"
   },
   {
    "duration": 8,
    "start_time": "2021-10-12T11:47:11.333Z"
   },
   {
    "duration": 28,
    "start_time": "2021-10-12T11:47:12.753Z"
   },
   {
    "duration": 8,
    "start_time": "2021-10-12T11:47:16.953Z"
   },
   {
    "duration": 20,
    "start_time": "2021-10-12T11:47:18.025Z"
   },
   {
    "duration": 34,
    "start_time": "2021-10-12T11:47:21.382Z"
   },
   {
    "duration": 12,
    "start_time": "2021-10-12T11:47:27.049Z"
   },
   {
    "duration": 954,
    "start_time": "2021-10-12T11:48:01.317Z"
   },
   {
    "duration": 5,
    "start_time": "2021-10-12T11:48:04.953Z"
   },
   {
    "duration": 64,
    "start_time": "2021-10-12T11:48:05.853Z"
   },
   {
    "duration": 29,
    "start_time": "2021-10-12T11:48:10.417Z"
   },
   {
    "duration": 57444,
    "start_time": "2021-10-12T11:48:13.209Z"
   },
   {
    "duration": 1631,
    "start_time": "2021-10-12T11:57:19.865Z"
   },
   {
    "duration": 55,
    "start_time": "2021-10-12T11:57:21.498Z"
   },
   {
    "duration": 12,
    "start_time": "2021-10-12T11:57:21.556Z"
   },
   {
    "duration": 79,
    "start_time": "2021-10-12T11:57:21.571Z"
   },
   {
    "duration": 6,
    "start_time": "2021-10-12T11:57:21.652Z"
   },
   {
    "duration": 12,
    "start_time": "2021-10-12T11:57:21.660Z"
   },
   {
    "duration": 55,
    "start_time": "2021-10-12T11:57:21.674Z"
   },
   {
    "duration": 33,
    "start_time": "2021-10-12T11:57:21.732Z"
   },
   {
    "duration": 38,
    "start_time": "2021-10-12T11:57:21.768Z"
   },
   {
    "duration": 5,
    "start_time": "2021-10-12T11:57:21.808Z"
   },
   {
    "duration": 12,
    "start_time": "2021-10-12T11:57:21.815Z"
   },
   {
    "duration": 26,
    "start_time": "2021-10-12T11:57:21.829Z"
   },
   {
    "duration": 6,
    "start_time": "2021-10-12T11:57:21.857Z"
   },
   {
    "duration": 51,
    "start_time": "2021-10-12T11:57:21.866Z"
   },
   {
    "duration": 32,
    "start_time": "2021-10-12T11:57:21.920Z"
   },
   {
    "duration": 11,
    "start_time": "2021-10-12T11:57:21.954Z"
   },
   {
    "duration": 1080,
    "start_time": "2021-10-12T11:57:21.968Z"
   },
   {
    "duration": 5,
    "start_time": "2021-10-12T11:57:23.050Z"
   },
   {
    "duration": 81,
    "start_time": "2021-10-12T11:57:23.057Z"
   },
   {
    "duration": 28,
    "start_time": "2021-10-12T11:57:23.140Z"
   },
   {
    "duration": 57691,
    "start_time": "2021-10-12T11:57:23.170Z"
   },
   {
    "duration": 571519,
    "start_time": "2021-10-12T11:58:20.864Z"
   },
   {
    "duration": 78,
    "start_time": "2021-10-12T12:07:52.388Z"
   },
   {
    "duration": 52454,
    "start_time": "2021-10-12T12:07:52.468Z"
   },
   {
    "duration": 18076,
    "start_time": "2021-10-12T12:08:44.925Z"
   },
   {
    "duration": 117,
    "start_time": "2021-10-12T12:09:03.006Z"
   },
   {
    "duration": 36045,
    "start_time": "2021-10-12T12:09:03.125Z"
   },
   {
    "duration": 721322,
    "start_time": "2021-10-12T12:09:39.172Z"
   },
   {
    "duration": 74,
    "start_time": "2021-10-12T12:21:40.497Z"
   },
   {
    "duration": 16563,
    "start_time": "2021-10-12T12:21:40.573Z"
   },
   {
    "duration": 5969,
    "start_time": "2021-10-12T12:21:57.138Z"
   },
   {
    "duration": 492,
    "start_time": "2021-10-12T12:22:03.110Z"
   },
   {
    "duration": 52672,
    "start_time": "2021-10-12T12:22:03.607Z"
   },
   {
    "duration": 327,
    "start_time": "2021-10-12T12:22:56.281Z"
   },
   {
    "duration": 52293,
    "start_time": "2021-10-12T12:38:15.165Z"
   },
   {
    "duration": 323,
    "start_time": "2021-10-12T12:39:09.480Z"
   },
   {
    "duration": 180358,
    "start_time": "2021-10-12T12:40:19.372Z"
   },
   {
    "duration": 344,
    "start_time": "2021-10-12T12:43:28.563Z"
   },
   {
    "duration": 181085,
    "start_time": "2021-10-12T13:57:35.031Z"
   },
   {
    "duration": 123,
    "start_time": "2021-10-12T14:01:21.586Z"
   },
   {
    "duration": 1582,
    "start_time": "2021-10-12T14:11:17.505Z"
   },
   {
    "duration": 54,
    "start_time": "2021-10-12T14:11:19.090Z"
   },
   {
    "duration": 12,
    "start_time": "2021-10-12T14:11:19.147Z"
   },
   {
    "duration": 83,
    "start_time": "2021-10-12T14:11:19.161Z"
   },
   {
    "duration": 6,
    "start_time": "2021-10-12T14:11:19.246Z"
   },
   {
    "duration": 11,
    "start_time": "2021-10-12T14:11:19.255Z"
   },
   {
    "duration": 52,
    "start_time": "2021-10-12T14:11:19.268Z"
   },
   {
    "duration": 33,
    "start_time": "2021-10-12T14:11:19.324Z"
   },
   {
    "duration": 46,
    "start_time": "2021-10-12T14:11:19.360Z"
   },
   {
    "duration": 4,
    "start_time": "2021-10-12T14:11:19.409Z"
   },
   {
    "duration": 8,
    "start_time": "2021-10-12T14:11:19.415Z"
   },
   {
    "duration": 25,
    "start_time": "2021-10-12T14:11:19.426Z"
   },
   {
    "duration": 6,
    "start_time": "2021-10-12T14:11:19.453Z"
   },
   {
    "duration": 55,
    "start_time": "2021-10-12T14:11:19.462Z"
   },
   {
    "duration": 31,
    "start_time": "2021-10-12T14:11:19.519Z"
   },
   {
    "duration": 12,
    "start_time": "2021-10-12T14:11:19.553Z"
   },
   {
    "duration": 966,
    "start_time": "2021-10-12T14:11:19.568Z"
   },
   {
    "duration": 5,
    "start_time": "2021-10-12T14:11:20.536Z"
   },
   {
    "duration": 80,
    "start_time": "2021-10-12T14:11:20.543Z"
   },
   {
    "duration": 28,
    "start_time": "2021-10-12T14:11:20.625Z"
   },
   {
    "duration": 58920,
    "start_time": "2021-10-12T14:11:20.655Z"
   },
   {
    "duration": 528694,
    "start_time": "2021-10-12T14:12:19.577Z"
   },
   {
    "duration": 77,
    "start_time": "2021-10-12T14:21:08.276Z"
   },
   {
    "duration": 52952,
    "start_time": "2021-10-12T14:21:08.356Z"
   },
   {
    "duration": 18193,
    "start_time": "2021-10-12T14:22:01.310Z"
   },
   {
    "duration": 26,
    "start_time": "2021-10-12T14:22:19.600Z"
   },
   {
    "duration": 35658,
    "start_time": "2021-10-12T14:22:19.628Z"
   },
   {
    "duration": 649439,
    "start_time": "2021-10-12T14:22:55.289Z"
   },
   {
    "duration": 72,
    "start_time": "2021-10-12T14:33:44.731Z"
   },
   {
    "duration": 16759,
    "start_time": "2021-10-12T14:33:44.805Z"
   },
   {
    "duration": 6042,
    "start_time": "2021-10-12T14:34:01.566Z"
   },
   {
    "duration": 403,
    "start_time": "2021-10-12T14:34:07.703Z"
   },
   {
    "duration": 175893,
    "start_time": "2021-10-12T14:34:08.109Z"
   },
   {
    "duration": 141,
    "start_time": "2021-10-12T14:37:04.004Z"
   },
   {
    "duration": 129876,
    "start_time": "2021-10-12T15:09:04.997Z"
   },
   {
    "duration": 63191,
    "start_time": "2021-10-12T15:12:14.043Z"
   },
   {
    "duration": 350,
    "start_time": "2021-10-12T15:15:28.568Z"
   },
   {
    "duration": 178,
    "start_time": "2021-10-12T15:15:39.177Z"
   },
   {
    "duration": 21533,
    "start_time": "2021-10-12T15:52:17.868Z"
   },
   {
    "duration": 1640,
    "start_time": "2021-10-12T15:53:59.874Z"
   },
   {
    "duration": 57,
    "start_time": "2021-10-12T15:54:01.517Z"
   },
   {
    "duration": 13,
    "start_time": "2021-10-12T15:54:01.577Z"
   },
   {
    "duration": 71,
    "start_time": "2021-10-12T15:54:01.592Z"
   },
   {
    "duration": 6,
    "start_time": "2021-10-12T15:54:01.665Z"
   },
   {
    "duration": 28,
    "start_time": "2021-10-12T15:54:01.673Z"
   },
   {
    "duration": 48,
    "start_time": "2021-10-12T15:54:01.703Z"
   },
   {
    "duration": 48,
    "start_time": "2021-10-12T15:54:01.754Z"
   },
   {
    "duration": 19,
    "start_time": "2021-10-12T15:54:01.805Z"
   },
   {
    "duration": 12,
    "start_time": "2021-10-12T15:54:01.826Z"
   },
   {
    "duration": 19,
    "start_time": "2021-10-12T15:54:01.840Z"
   },
   {
    "duration": 47,
    "start_time": "2021-10-12T15:54:01.861Z"
   },
   {
    "duration": 7,
    "start_time": "2021-10-12T15:54:01.910Z"
   },
   {
    "duration": 25,
    "start_time": "2021-10-12T15:54:01.919Z"
   },
   {
    "duration": 32,
    "start_time": "2021-10-12T15:54:01.946Z"
   },
   {
    "duration": 30,
    "start_time": "2021-10-12T15:54:01.980Z"
   },
   {
    "duration": 960,
    "start_time": "2021-10-12T15:54:02.012Z"
   },
   {
    "duration": 5,
    "start_time": "2021-10-12T15:54:02.974Z"
   },
   {
    "duration": 92,
    "start_time": "2021-10-12T15:54:02.981Z"
   },
   {
    "duration": 30,
    "start_time": "2021-10-12T15:54:03.076Z"
   },
   {
    "duration": 98303,
    "start_time": "2021-10-12T15:54:03.109Z"
   },
   {
    "duration": 536863,
    "start_time": "2021-10-12T15:55:41.414Z"
   },
   {
    "duration": 79,
    "start_time": "2021-10-12T16:04:38.281Z"
   },
   {
    "duration": 53185,
    "start_time": "2021-10-12T16:04:38.363Z"
   },
   {
    "duration": 18255,
    "start_time": "2021-10-12T16:05:31.550Z"
   },
   {
    "duration": 112,
    "start_time": "2021-10-12T16:05:49.809Z"
   },
   {
    "duration": 60820,
    "start_time": "2021-10-12T16:05:49.924Z"
   },
   {
    "duration": 668103,
    "start_time": "2021-10-12T16:06:50.747Z"
   },
   {
    "duration": 74,
    "start_time": "2021-10-12T16:17:58.852Z"
   },
   {
    "duration": 22051,
    "start_time": "2021-10-12T16:17:58.928Z"
   },
   {
    "duration": 6119,
    "start_time": "2021-10-12T16:18:20.982Z"
   },
   {
    "duration": 397,
    "start_time": "2021-10-12T16:18:27.105Z"
   },
   {
    "duration": 179199,
    "start_time": "2021-10-12T16:18:27.505Z"
   },
   {
    "duration": 138,
    "start_time": "2021-10-12T16:21:26.707Z"
   },
   {
    "duration": 1522,
    "start_time": "2021-10-13T04:14:26.603Z"
   },
   {
    "duration": 53,
    "start_time": "2021-10-13T04:14:28.127Z"
   },
   {
    "duration": 12,
    "start_time": "2021-10-13T04:14:28.183Z"
   },
   {
    "duration": 79,
    "start_time": "2021-10-13T04:14:28.198Z"
   },
   {
    "duration": 8,
    "start_time": "2021-10-13T04:14:28.280Z"
   },
   {
    "duration": 9,
    "start_time": "2021-10-13T04:14:28.291Z"
   },
   {
    "duration": 71,
    "start_time": "2021-10-13T04:14:28.302Z"
   },
   {
    "duration": 35,
    "start_time": "2021-10-13T04:14:28.379Z"
   },
   {
    "duration": 58,
    "start_time": "2021-10-13T04:14:28.417Z"
   },
   {
    "duration": 6,
    "start_time": "2021-10-13T04:14:28.478Z"
   },
   {
    "duration": 8,
    "start_time": "2021-10-13T04:14:28.487Z"
   },
   {
    "duration": 25,
    "start_time": "2021-10-13T04:14:28.498Z"
   },
   {
    "duration": 6,
    "start_time": "2021-10-13T04:14:28.525Z"
   },
   {
    "duration": 18,
    "start_time": "2021-10-13T04:14:28.563Z"
   },
   {
    "duration": 29,
    "start_time": "2021-10-13T04:14:28.584Z"
   },
   {
    "duration": 10,
    "start_time": "2021-10-13T04:14:28.616Z"
   },
   {
    "duration": 913,
    "start_time": "2021-10-13T04:14:28.661Z"
   },
   {
    "duration": 5,
    "start_time": "2021-10-13T04:14:29.576Z"
   },
   {
    "duration": 80,
    "start_time": "2021-10-13T04:14:29.583Z"
   },
   {
    "duration": 27,
    "start_time": "2021-10-13T04:14:29.666Z"
   },
   {
    "duration": 94591,
    "start_time": "2021-10-13T04:14:29.695Z"
   },
   {
    "duration": 517607,
    "start_time": "2021-10-13T04:16:04.288Z"
   },
   {
    "duration": 82,
    "start_time": "2021-10-13T04:24:41.899Z"
   },
   {
    "duration": 51103,
    "start_time": "2021-10-13T04:24:41.984Z"
   },
   {
    "duration": 18273,
    "start_time": "2021-10-13T04:25:33.090Z"
   },
   {
    "duration": 116,
    "start_time": "2021-10-13T04:25:51.367Z"
   },
   {
    "duration": 61019,
    "start_time": "2021-10-13T04:25:51.485Z"
   },
   {
    "duration": 673297,
    "start_time": "2021-10-13T04:26:52.507Z"
   },
   {
    "duration": 69,
    "start_time": "2021-10-13T04:38:05.807Z"
   },
   {
    "duration": 21208,
    "start_time": "2021-10-13T04:38:05.878Z"
   },
   {
    "duration": 6080,
    "start_time": "2021-10-13T04:38:27.089Z"
   },
   {
    "duration": 497,
    "start_time": "2021-10-13T04:38:33.172Z"
   },
   {
    "duration": 181844,
    "start_time": "2021-10-13T04:38:33.672Z"
   },
   {
    "duration": 152,
    "start_time": "2021-10-13T04:41:35.518Z"
   }
  ],
  "kernelspec": {
   "display_name": "Python 3.9.12 ('PRAKTIKUM')",
   "language": "python",
   "name": "python3"
  },
  "language_info": {
   "codemirror_mode": {
    "name": "ipython",
    "version": 3
   },
   "file_extension": ".py",
   "mimetype": "text/x-python",
   "name": "python",
   "nbconvert_exporter": "python",
   "pygments_lexer": "ipython3",
   "version": "3.9.12"
  },
  "toc": {
   "base_numbering": 1,
   "nav_menu": {},
   "number_sections": true,
   "sideBar": true,
   "skip_h1_title": true,
   "title_cell": "Содержание",
   "title_sidebar": "Contents",
   "toc_cell": true,
   "toc_position": {
    "height": "calc(100% - 180px)",
    "left": "10px",
    "top": "150px",
    "width": "289.6px"
   },
   "toc_section_display": true,
   "toc_window_display": false
  },
  "vscode": {
   "interpreter": {
    "hash": "e475181f287d0f6e2bbef65463c2e10bc685b9a6cef0884aed0cd26a521ab3f1"
   }
  }
 },
 "nbformat": 4,
 "nbformat_minor": 2
}
