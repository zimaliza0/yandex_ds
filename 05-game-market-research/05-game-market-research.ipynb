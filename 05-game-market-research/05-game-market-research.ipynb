{
 "cells": [
  {
   "cell_type": "markdown",
   "metadata": {},
   "source": [
    "# Исследование компьютерных игр\n",
    "\n",
    "Цель исследования - выявить факторы определяющие успешность игры. Для этого у нас собраны данные из открытых источников, о продажах игр, оценки пользователей и экспертов, жанры и платформы. Выявленные факторы позволят определить потенциально успещные игры и спланировать рекламные компании."
   ]
  },
  {
   "cell_type": "markdown",
   "metadata": {},
   "source": [
    "### Изучение данных из файла"
   ]
  },
  {
   "cell_type": "markdown",
   "metadata": {},
   "source": [
    "Загрузим библиотеки"
   ]
  },
  {
   "cell_type": "code",
   "execution_count": 1,
   "metadata": {},
   "outputs": [],
   "source": [
    "import pandas as pd\n",
    "import numpy as np\n",
    "import matplotlib.pyplot as plt\n",
    "import seaborn as sns\n",
    "import math \n",
    "from scipy import stats as st"
   ]
  },
  {
   "cell_type": "markdown",
   "metadata": {},
   "source": [
    "Обновим seaborn"
   ]
  },
  {
   "cell_type": "code",
   "execution_count": 2,
   "metadata": {},
   "outputs": [
    {
     "name": "stdout",
     "output_type": "stream",
     "text": [
      "Defaulting to user installation because normal site-packages is not writeable\n",
      "Requirement already up-to-date: seaborn in /home/jovyan/.local/lib/python3.7/site-packages (0.11.2)\n",
      "Requirement already satisfied, skipping upgrade: numpy>=1.15 in /opt/conda/lib/python3.7/site-packages (from seaborn) (1.19.5)\n",
      "Requirement already satisfied, skipping upgrade: scipy>=1.0 in /opt/conda/lib/python3.7/site-packages (from seaborn) (1.4.1)\n",
      "Requirement already satisfied, skipping upgrade: pandas>=0.23 in /opt/conda/lib/python3.7/site-packages (from seaborn) (0.25.1)\n",
      "Requirement already satisfied, skipping upgrade: matplotlib>=2.2 in /opt/conda/lib/python3.7/site-packages (from seaborn) (3.1.0)\n",
      "Requirement already satisfied, skipping upgrade: python-dateutil>=2.6.1 in /opt/conda/lib/python3.7/site-packages (from pandas>=0.23->seaborn) (2.8.1)\n",
      "Requirement already satisfied, skipping upgrade: pytz>=2017.2 in /opt/conda/lib/python3.7/site-packages (from pandas>=0.23->seaborn) (2021.1)\n",
      "Requirement already satisfied, skipping upgrade: pyparsing!=2.0.4,!=2.1.2,!=2.1.6,>=2.0.1 in /opt/conda/lib/python3.7/site-packages (from matplotlib>=2.2->seaborn) (2.4.7)\n",
      "Requirement already satisfied, skipping upgrade: kiwisolver>=1.0.1 in /opt/conda/lib/python3.7/site-packages (from matplotlib>=2.2->seaborn) (1.3.1)\n",
      "Requirement already satisfied, skipping upgrade: cycler>=0.10 in /opt/conda/lib/python3.7/site-packages (from matplotlib>=2.2->seaborn) (0.10.0)\n",
      "Requirement already satisfied, skipping upgrade: six>=1.5 in /opt/conda/lib/python3.7/site-packages (from python-dateutil>=2.6.1->pandas>=0.23->seaborn) (1.15.0)\n",
      "Note: you may need to restart the kernel to use updated packages.\n"
     ]
    }
   ],
   "source": [
    "pip install -U seaborn"
   ]
  },
  {
   "cell_type": "markdown",
   "metadata": {},
   "source": [
    "Создадим переменную df и загрузим туда датафрейм, посмотрим общую информацию о нем"
   ]
  },
  {
   "cell_type": "code",
   "execution_count": 3,
   "metadata": {},
   "outputs": [],
   "source": [
    "df_games = pd.read_csv('/datasets/games.csv')"
   ]
  },
  {
   "cell_type": "code",
   "execution_count": 4,
   "metadata": {},
   "outputs": [
    {
     "name": "stdout",
     "output_type": "stream",
     "text": [
      "<class 'pandas.core.frame.DataFrame'>\n",
      "RangeIndex: 16715 entries, 0 to 16714\n",
      "Data columns (total 11 columns):\n",
      "Name               16713 non-null object\n",
      "Platform           16715 non-null object\n",
      "Year_of_Release    16446 non-null float64\n",
      "Genre              16713 non-null object\n",
      "NA_sales           16715 non-null float64\n",
      "EU_sales           16715 non-null float64\n",
      "JP_sales           16715 non-null float64\n",
      "Other_sales        16715 non-null float64\n",
      "Critic_Score       8137 non-null float64\n",
      "User_Score         10014 non-null object\n",
      "Rating             9949 non-null object\n",
      "dtypes: float64(6), object(5)\n",
      "memory usage: 1.4+ MB\n"
     ]
    },
    {
     "data": {
      "text/html": [
       "<div>\n",
       "<style scoped>\n",
       "    .dataframe tbody tr th:only-of-type {\n",
       "        vertical-align: middle;\n",
       "    }\n",
       "\n",
       "    .dataframe tbody tr th {\n",
       "        vertical-align: top;\n",
       "    }\n",
       "\n",
       "    .dataframe thead th {\n",
       "        text-align: right;\n",
       "    }\n",
       "</style>\n",
       "<table border=\"1\" class=\"dataframe\">\n",
       "  <thead>\n",
       "    <tr style=\"text-align: right;\">\n",
       "      <th></th>\n",
       "      <th>Name</th>\n",
       "      <th>Platform</th>\n",
       "      <th>Year_of_Release</th>\n",
       "      <th>Genre</th>\n",
       "      <th>NA_sales</th>\n",
       "      <th>EU_sales</th>\n",
       "      <th>JP_sales</th>\n",
       "      <th>Other_sales</th>\n",
       "      <th>Critic_Score</th>\n",
       "      <th>User_Score</th>\n",
       "      <th>Rating</th>\n",
       "    </tr>\n",
       "  </thead>\n",
       "  <tbody>\n",
       "    <tr>\n",
       "      <td>0</td>\n",
       "      <td>Wii Sports</td>\n",
       "      <td>Wii</td>\n",
       "      <td>2006.0</td>\n",
       "      <td>Sports</td>\n",
       "      <td>41.36</td>\n",
       "      <td>28.96</td>\n",
       "      <td>3.77</td>\n",
       "      <td>8.45</td>\n",
       "      <td>76.0</td>\n",
       "      <td>8</td>\n",
       "      <td>E</td>\n",
       "    </tr>\n",
       "    <tr>\n",
       "      <td>1</td>\n",
       "      <td>Super Mario Bros.</td>\n",
       "      <td>NES</td>\n",
       "      <td>1985.0</td>\n",
       "      <td>Platform</td>\n",
       "      <td>29.08</td>\n",
       "      <td>3.58</td>\n",
       "      <td>6.81</td>\n",
       "      <td>0.77</td>\n",
       "      <td>NaN</td>\n",
       "      <td>NaN</td>\n",
       "      <td>NaN</td>\n",
       "    </tr>\n",
       "    <tr>\n",
       "      <td>2</td>\n",
       "      <td>Mario Kart Wii</td>\n",
       "      <td>Wii</td>\n",
       "      <td>2008.0</td>\n",
       "      <td>Racing</td>\n",
       "      <td>15.68</td>\n",
       "      <td>12.76</td>\n",
       "      <td>3.79</td>\n",
       "      <td>3.29</td>\n",
       "      <td>82.0</td>\n",
       "      <td>8.3</td>\n",
       "      <td>E</td>\n",
       "    </tr>\n",
       "    <tr>\n",
       "      <td>3</td>\n",
       "      <td>Wii Sports Resort</td>\n",
       "      <td>Wii</td>\n",
       "      <td>2009.0</td>\n",
       "      <td>Sports</td>\n",
       "      <td>15.61</td>\n",
       "      <td>10.93</td>\n",
       "      <td>3.28</td>\n",
       "      <td>2.95</td>\n",
       "      <td>80.0</td>\n",
       "      <td>8</td>\n",
       "      <td>E</td>\n",
       "    </tr>\n",
       "    <tr>\n",
       "      <td>4</td>\n",
       "      <td>Pokemon Red/Pokemon Blue</td>\n",
       "      <td>GB</td>\n",
       "      <td>1996.0</td>\n",
       "      <td>Role-Playing</td>\n",
       "      <td>11.27</td>\n",
       "      <td>8.89</td>\n",
       "      <td>10.22</td>\n",
       "      <td>1.00</td>\n",
       "      <td>NaN</td>\n",
       "      <td>NaN</td>\n",
       "      <td>NaN</td>\n",
       "    </tr>\n",
       "    <tr>\n",
       "      <td>...</td>\n",
       "      <td>...</td>\n",
       "      <td>...</td>\n",
       "      <td>...</td>\n",
       "      <td>...</td>\n",
       "      <td>...</td>\n",
       "      <td>...</td>\n",
       "      <td>...</td>\n",
       "      <td>...</td>\n",
       "      <td>...</td>\n",
       "      <td>...</td>\n",
       "      <td>...</td>\n",
       "    </tr>\n",
       "    <tr>\n",
       "      <td>16710</td>\n",
       "      <td>Samurai Warriors: Sanada Maru</td>\n",
       "      <td>PS3</td>\n",
       "      <td>2016.0</td>\n",
       "      <td>Action</td>\n",
       "      <td>0.00</td>\n",
       "      <td>0.00</td>\n",
       "      <td>0.01</td>\n",
       "      <td>0.00</td>\n",
       "      <td>NaN</td>\n",
       "      <td>NaN</td>\n",
       "      <td>NaN</td>\n",
       "    </tr>\n",
       "    <tr>\n",
       "      <td>16711</td>\n",
       "      <td>LMA Manager 2007</td>\n",
       "      <td>X360</td>\n",
       "      <td>2006.0</td>\n",
       "      <td>Sports</td>\n",
       "      <td>0.00</td>\n",
       "      <td>0.01</td>\n",
       "      <td>0.00</td>\n",
       "      <td>0.00</td>\n",
       "      <td>NaN</td>\n",
       "      <td>NaN</td>\n",
       "      <td>NaN</td>\n",
       "    </tr>\n",
       "    <tr>\n",
       "      <td>16712</td>\n",
       "      <td>Haitaka no Psychedelica</td>\n",
       "      <td>PSV</td>\n",
       "      <td>2016.0</td>\n",
       "      <td>Adventure</td>\n",
       "      <td>0.00</td>\n",
       "      <td>0.00</td>\n",
       "      <td>0.01</td>\n",
       "      <td>0.00</td>\n",
       "      <td>NaN</td>\n",
       "      <td>NaN</td>\n",
       "      <td>NaN</td>\n",
       "    </tr>\n",
       "    <tr>\n",
       "      <td>16713</td>\n",
       "      <td>Spirits &amp; Spells</td>\n",
       "      <td>GBA</td>\n",
       "      <td>2003.0</td>\n",
       "      <td>Platform</td>\n",
       "      <td>0.01</td>\n",
       "      <td>0.00</td>\n",
       "      <td>0.00</td>\n",
       "      <td>0.00</td>\n",
       "      <td>NaN</td>\n",
       "      <td>NaN</td>\n",
       "      <td>NaN</td>\n",
       "    </tr>\n",
       "    <tr>\n",
       "      <td>16714</td>\n",
       "      <td>Winning Post 8 2016</td>\n",
       "      <td>PSV</td>\n",
       "      <td>2016.0</td>\n",
       "      <td>Simulation</td>\n",
       "      <td>0.00</td>\n",
       "      <td>0.00</td>\n",
       "      <td>0.01</td>\n",
       "      <td>0.00</td>\n",
       "      <td>NaN</td>\n",
       "      <td>NaN</td>\n",
       "      <td>NaN</td>\n",
       "    </tr>\n",
       "  </tbody>\n",
       "</table>\n",
       "<p>16715 rows × 11 columns</p>\n",
       "</div>"
      ],
      "text/plain": [
       "                                Name Platform  Year_of_Release         Genre  \\\n",
       "0                         Wii Sports      Wii           2006.0        Sports   \n",
       "1                  Super Mario Bros.      NES           1985.0      Platform   \n",
       "2                     Mario Kart Wii      Wii           2008.0        Racing   \n",
       "3                  Wii Sports Resort      Wii           2009.0        Sports   \n",
       "4           Pokemon Red/Pokemon Blue       GB           1996.0  Role-Playing   \n",
       "...                              ...      ...              ...           ...   \n",
       "16710  Samurai Warriors: Sanada Maru      PS3           2016.0        Action   \n",
       "16711               LMA Manager 2007     X360           2006.0        Sports   \n",
       "16712        Haitaka no Psychedelica      PSV           2016.0     Adventure   \n",
       "16713               Spirits & Spells      GBA           2003.0      Platform   \n",
       "16714            Winning Post 8 2016      PSV           2016.0    Simulation   \n",
       "\n",
       "       NA_sales  EU_sales  JP_sales  Other_sales  Critic_Score User_Score  \\\n",
       "0         41.36     28.96      3.77         8.45          76.0          8   \n",
       "1         29.08      3.58      6.81         0.77           NaN        NaN   \n",
       "2         15.68     12.76      3.79         3.29          82.0        8.3   \n",
       "3         15.61     10.93      3.28         2.95          80.0          8   \n",
       "4         11.27      8.89     10.22         1.00           NaN        NaN   \n",
       "...         ...       ...       ...          ...           ...        ...   \n",
       "16710      0.00      0.00      0.01         0.00           NaN        NaN   \n",
       "16711      0.00      0.01      0.00         0.00           NaN        NaN   \n",
       "16712      0.00      0.00      0.01         0.00           NaN        NaN   \n",
       "16713      0.01      0.00      0.00         0.00           NaN        NaN   \n",
       "16714      0.00      0.00      0.01         0.00           NaN        NaN   \n",
       "\n",
       "      Rating  \n",
       "0          E  \n",
       "1        NaN  \n",
       "2          E  \n",
       "3          E  \n",
       "4        NaN  \n",
       "...      ...  \n",
       "16710    NaN  \n",
       "16711    NaN  \n",
       "16712    NaN  \n",
       "16713    NaN  \n",
       "16714    NaN  \n",
       "\n",
       "[16715 rows x 11 columns]"
      ]
     },
     "execution_count": 4,
     "metadata": {},
     "output_type": "execute_result"
    }
   ],
   "source": [
    "df_games.info()\n",
    "df_games"
   ]
  },
  {
   "cell_type": "code",
   "execution_count": 5,
   "metadata": {},
   "outputs": [
    {
     "data": {
      "text/html": [
       "<div>\n",
       "<style scoped>\n",
       "    .dataframe tbody tr th:only-of-type {\n",
       "        vertical-align: middle;\n",
       "    }\n",
       "\n",
       "    .dataframe tbody tr th {\n",
       "        vertical-align: top;\n",
       "    }\n",
       "\n",
       "    .dataframe thead th {\n",
       "        text-align: right;\n",
       "    }\n",
       "</style>\n",
       "<table border=\"1\" class=\"dataframe\">\n",
       "  <thead>\n",
       "    <tr style=\"text-align: right;\">\n",
       "      <th></th>\n",
       "      <th>Year_of_Release</th>\n",
       "      <th>NA_sales</th>\n",
       "      <th>EU_sales</th>\n",
       "      <th>JP_sales</th>\n",
       "      <th>Other_sales</th>\n",
       "      <th>Critic_Score</th>\n",
       "    </tr>\n",
       "  </thead>\n",
       "  <tbody>\n",
       "    <tr>\n",
       "      <td>count</td>\n",
       "      <td>16446.000000</td>\n",
       "      <td>16715.000000</td>\n",
       "      <td>16715.000000</td>\n",
       "      <td>16715.000000</td>\n",
       "      <td>16715.000000</td>\n",
       "      <td>8137.000000</td>\n",
       "    </tr>\n",
       "    <tr>\n",
       "      <td>mean</td>\n",
       "      <td>2006.484616</td>\n",
       "      <td>0.263377</td>\n",
       "      <td>0.145060</td>\n",
       "      <td>0.077617</td>\n",
       "      <td>0.047342</td>\n",
       "      <td>68.967679</td>\n",
       "    </tr>\n",
       "    <tr>\n",
       "      <td>std</td>\n",
       "      <td>5.877050</td>\n",
       "      <td>0.813604</td>\n",
       "      <td>0.503339</td>\n",
       "      <td>0.308853</td>\n",
       "      <td>0.186731</td>\n",
       "      <td>13.938165</td>\n",
       "    </tr>\n",
       "    <tr>\n",
       "      <td>min</td>\n",
       "      <td>1980.000000</td>\n",
       "      <td>0.000000</td>\n",
       "      <td>0.000000</td>\n",
       "      <td>0.000000</td>\n",
       "      <td>0.000000</td>\n",
       "      <td>13.000000</td>\n",
       "    </tr>\n",
       "    <tr>\n",
       "      <td>25%</td>\n",
       "      <td>2003.000000</td>\n",
       "      <td>0.000000</td>\n",
       "      <td>0.000000</td>\n",
       "      <td>0.000000</td>\n",
       "      <td>0.000000</td>\n",
       "      <td>60.000000</td>\n",
       "    </tr>\n",
       "    <tr>\n",
       "      <td>50%</td>\n",
       "      <td>2007.000000</td>\n",
       "      <td>0.080000</td>\n",
       "      <td>0.020000</td>\n",
       "      <td>0.000000</td>\n",
       "      <td>0.010000</td>\n",
       "      <td>71.000000</td>\n",
       "    </tr>\n",
       "    <tr>\n",
       "      <td>75%</td>\n",
       "      <td>2010.000000</td>\n",
       "      <td>0.240000</td>\n",
       "      <td>0.110000</td>\n",
       "      <td>0.040000</td>\n",
       "      <td>0.030000</td>\n",
       "      <td>79.000000</td>\n",
       "    </tr>\n",
       "    <tr>\n",
       "      <td>max</td>\n",
       "      <td>2016.000000</td>\n",
       "      <td>41.360000</td>\n",
       "      <td>28.960000</td>\n",
       "      <td>10.220000</td>\n",
       "      <td>10.570000</td>\n",
       "      <td>98.000000</td>\n",
       "    </tr>\n",
       "  </tbody>\n",
       "</table>\n",
       "</div>"
      ],
      "text/plain": [
       "       Year_of_Release      NA_sales      EU_sales      JP_sales  \\\n",
       "count     16446.000000  16715.000000  16715.000000  16715.000000   \n",
       "mean       2006.484616      0.263377      0.145060      0.077617   \n",
       "std           5.877050      0.813604      0.503339      0.308853   \n",
       "min        1980.000000      0.000000      0.000000      0.000000   \n",
       "25%        2003.000000      0.000000      0.000000      0.000000   \n",
       "50%        2007.000000      0.080000      0.020000      0.000000   \n",
       "75%        2010.000000      0.240000      0.110000      0.040000   \n",
       "max        2016.000000     41.360000     28.960000     10.220000   \n",
       "\n",
       "        Other_sales  Critic_Score  \n",
       "count  16715.000000   8137.000000  \n",
       "mean       0.047342     68.967679  \n",
       "std        0.186731     13.938165  \n",
       "min        0.000000     13.000000  \n",
       "25%        0.000000     60.000000  \n",
       "50%        0.010000     71.000000  \n",
       "75%        0.030000     79.000000  \n",
       "max       10.570000     98.000000  "
      ]
     },
     "execution_count": 5,
     "metadata": {},
     "output_type": "execute_result"
    }
   ],
   "source": [
    "df_games.describe()"
   ]
  },
  {
   "cell_type": "markdown",
   "metadata": {},
   "source": [
    "#### Вывод"
   ]
  },
  {
   "cell_type": "markdown",
   "metadata": {},
   "source": [
    "Мы видим что данные имеют ряд проблем:\n",
    "* Названия столбцов в разных регистрах, что может создать проблемы в будующем\n",
    "* в данных есть большое кол-во пропусков в столбцах с оценками и рейтингом\n",
    "* неправитльные типы данных(float в столбцах с годом выпуска и оценками критиков, а так же object в колонке с оценками пользователей)\n",
    "\n",
    "Далее нам предстоит обработать данные и подготовить их к дальнейшему анализу."
   ]
  },
  {
   "cell_type": "markdown",
   "metadata": {},
   "source": [
    "### Подготовка данных"
   ]
  },
  {
   "cell_type": "markdown",
   "metadata": {},
   "source": [
    "#### Предобработка данных"
   ]
  },
  {
   "cell_type": "markdown",
   "metadata": {},
   "source": [
    "**Приведем названия столбцов к нижнему регистру**"
   ]
  },
  {
   "cell_type": "code",
   "execution_count": 6,
   "metadata": {},
   "outputs": [],
   "source": [
    "# применим функцию lower\n",
    "df_games.columns = df_games.columns.str.lower()"
   ]
  },
  {
   "cell_type": "markdown",
   "metadata": {},
   "source": [
    "Проверим на наличие грубых дубликатов"
   ]
  },
  {
   "cell_type": "code",
   "execution_count": 7,
   "metadata": {},
   "outputs": [
    {
     "data": {
      "text/plain": [
       "0"
      ]
     },
     "execution_count": 7,
     "metadata": {},
     "output_type": "execute_result"
    }
   ],
   "source": [
    "df_games.duplicated().sum()"
   ]
  },
  {
   "cell_type": "markdown",
   "metadata": {},
   "source": [
    "**Преобразуем данные к нужному типу**"
   ]
  },
  {
   "cell_type": "code",
   "execution_count": 8,
   "metadata": {},
   "outputs": [],
   "source": [
    "# заменим object методом to_numeric\n",
    "# df_games['user_score'] = pd.to_numeric(df_games['user_score'])"
   ]
  },
  {
   "cell_type": "markdown",
   "metadata": {},
   "source": [
    "Мы получили ошибку которая указывает на то что в данных есть не числовое значение tbd. tbd - это аббревиатура от английского To Be Determined (будет определено), заменим эти значения на NaN, укажем в параметре errors значение coerce.\n",
    "Для удобства закоментируем код выше."
   ]
  },
  {
   "cell_type": "code",
   "execution_count": 9,
   "metadata": {},
   "outputs": [],
   "source": [
    "df_games['user_score'] = pd.to_numeric(df_games['user_score'], errors='coerce')"
   ]
  },
  {
   "cell_type": "code",
   "execution_count": 10,
   "metadata": {},
   "outputs": [
    {
     "name": "stdout",
     "output_type": "stream",
     "text": [
      "<class 'pandas.core.frame.DataFrame'>\n",
      "RangeIndex: 16715 entries, 0 to 16714\n",
      "Data columns (total 11 columns):\n",
      "name               16713 non-null object\n",
      "platform           16715 non-null object\n",
      "year_of_release    16446 non-null Int64\n",
      "genre              16713 non-null object\n",
      "na_sales           16715 non-null float64\n",
      "eu_sales           16715 non-null float64\n",
      "jp_sales           16715 non-null float64\n",
      "other_sales        16715 non-null float64\n",
      "critic_score       8137 non-null Int64\n",
      "user_score         7590 non-null float64\n",
      "rating             9949 non-null object\n",
      "dtypes: Int64(2), float64(5), object(4)\n",
      "memory usage: 1.4+ MB\n"
     ]
    }
   ],
   "source": [
    "# float заменим методом astype\n",
    "df_games[['year_of_release', 'critic_score']] = df_games[['year_of_release', 'critic_score']].astype('Int64')\n",
    "# проверим результат\n",
    "df_games.info()"
   ]
  },
  {
   "cell_type": "markdown",
   "metadata": {},
   "source": [
    "**Обработаем пропуски в колонках**\n",
    "\n",
    "Пропуски в колонках с рейтингом и оценками могут быть вызваны тем, что данные взяты начиная с 1980 года. Возможно в то время не было учета рейтинга игр или не было четких критериев оценки игр. Проверим предположение"
   ]
  },
  {
   "cell_type": "code",
   "execution_count": 11,
   "metadata": {},
   "outputs": [
    {
     "data": {
      "image/png": "[encoded data removed]",
      "text/plain": [
       "<Figure size 792x360 with 1 Axes>"
      ]
     },
     "metadata": {
      "needs_background": "light"
     },
     "output_type": "display_data"
    },
    {
     "data": {
      "image/png": "[encoded data removed]",
      "text/plain": [
       "<Figure size 792x360 with 1 Axes>"
      ]
     },
     "metadata": {
      "needs_background": "light"
     },
     "output_type": "display_data"
    },
    {
     "data": {
      "image/png": "[encoded data removed]",
      "text/plain": [
       "<Figure size 792x360 with 1 Axes>"
      ]
     },
     "metadata": {
      "needs_background": "light"
     },
     "output_type": "display_data"
    }
   ],
   "source": [
    "columns_list = ['critic_score', 'user_score', 'rating']\n",
    "title_list = ['Пропуски в столбце critic_score',\n",
    "              'Пропуски в столбце user_score',\n",
    "              'Пропуски в столбце rating']\n",
    "\n",
    "for i in range(len(columns_list)):\n",
    "    plt.figure(figsize=(11, 5))\n",
    "    plt.hist(df_games.loc[df_games[columns_list[i]].isna(), 'year_of_release'], \n",
    "            ec='black', bins=36)\n",
    "    plt.title(title_list[i])\n",
    "    plt.xlabel('год')\n",
    "    plt.ylabel('частота')"
   ]
  },
  {
   "cell_type": "markdown",
   "metadata": {},
   "source": [
    "По гистограммам видно, что большинство пропусков начинается с 1990 года, что опровергает наше предположение. \n",
    "Мы не можем обьяснить пропуски на основании данных из таблицы. Нам придется оставить пропуски, т.к. в столбцах с рейтингами и оценками их больше половины и их удаление может привести к потере большой части важной информации. Так же мы не можем заменить значения на средние, это может сильно повлиять на итоговый результат.\n",
    "\n",
    "Проверим столбец с рейтингами на наличие дубликатов."
   ]
  },
  {
   "cell_type": "code",
   "execution_count": 12,
   "metadata": {
    "scrolled": true
   },
   "outputs": [
    {
     "data": {
      "text/plain": [
       "array(['E', nan, 'M', 'T', 'E10+', 'K-A', 'AO', 'EC', 'RP'], dtype=object)"
      ]
     },
     "execution_count": 12,
     "metadata": {},
     "output_type": "execute_result"
    }
   ],
   "source": [
    "df_games['rating'].unique()"
   ]
  },
  {
   "cell_type": "markdown",
   "metadata": {},
   "source": [
    "Мы видим, что у нас есть рейтинги K-A и E, которые на данный момент являются одним рейтингом E. \n",
    "\n",
    "Обьединим их в одно значение."
   ]
  },
  {
   "cell_type": "code",
   "execution_count": 13,
   "metadata": {
    "scrolled": true
   },
   "outputs": [],
   "source": [
    "df_games['rating'] = df_games['rating'].replace('K-A', 'E')"
   ]
  },
  {
   "cell_type": "markdown",
   "metadata": {},
   "source": [
    "#### Расчет и добавление данных в таблицу"
   ]
  },
  {
   "cell_type": "markdown",
   "metadata": {},
   "source": [
    "Добавим столбец с общей суммой продаж"
   ]
  },
  {
   "cell_type": "code",
   "execution_count": 14,
   "metadata": {},
   "outputs": [],
   "source": [
    "df_games['all_sales'] = df_games.loc[:, 'na_sales':'other_sales'].sum(axis=1)"
   ]
  },
  {
   "cell_type": "markdown",
   "metadata": {},
   "source": [
    "#### Вывод"
   ]
  },
  {
   "cell_type": "markdown",
   "metadata": {},
   "source": [
    "В этой части исследования, мы предобработали данные - привели названия столбцов к нижннему регистру, поработали с пропусками и избавились от дубликатов. Так же мы добавили в таблицу данные для дальнейшего исследования и готовы двигатся дальше."
   ]
  },
  {
   "cell_type": "markdown",
   "metadata": {},
   "source": [
    "### Анализ данных"
   ]
  },
  {
   "cell_type": "markdown",
   "metadata": {},
   "source": [
    "#### Анализ выпуска и продаж игр по годам"
   ]
  },
  {
   "cell_type": "markdown",
   "metadata": {},
   "source": [
    "Построим гистограмму выпуска игр по годам"
   ]
  },
  {
   "cell_type": "code",
   "execution_count": 15,
   "metadata": {},
   "outputs": [
    {
     "data": {
      "text/plain": [
       "Text(0, 0.5, 'частота')"
      ]
     },
     "execution_count": 15,
     "metadata": {},
     "output_type": "execute_result"
    },
    {
     "data": {
      "image/png": "[encoded data removed]",
      "text/plain": [
       "<Figure size 792x360 with 1 Axes>"
      ]
     },
     "metadata": {
      "needs_background": "light"
     },
     "output_type": "display_data"
    }
   ],
   "source": [
    "f, ax = plt.subplots(figsize=(11, 5))\n",
    "sns.histplot(data=df_games, x=\"year_of_release\", bins=36)\n",
    "plt.title('Выпуск игр по годам')\n",
    "plt.xlabel('год')\n",
    "plt.ylabel('частота')"
   ]
  },
  {
   "cell_type": "markdown",
   "metadata": {},
   "source": [
    "Мы видим что большой рывок в развитии индустрии произошел после 1990 года, до этого выпустилось очень маленкое кол-во игр.\n",
    "\n",
    "Посмотрим как менялись продажи по платформам с течением времени"
   ]
  },
  {
   "cell_type": "code",
   "execution_count": 16,
   "metadata": {},
   "outputs": [
    {
     "data": {
      "text/plain": [
       "Text(159.0, 0.5, 'платформа')"
      ]
     },
     "execution_count": 16,
     "metadata": {},
     "output_type": "execute_result"
    },
    {
     "data": {
      "image/png": "[encoded data removed]",
      "text/plain": [
       "<Figure size 1440x720 with 2 Axes>"
      ]
     },
     "metadata": {
      "needs_background": "light"
     },
     "output_type": "display_data"
    }
   ],
   "source": [
    "platform = df_games.pivot_table(index='platform', columns='year_of_release', values='all_sales', aggfunc='sum')\n",
    "f, ax = plt.subplots(figsize=(20, 10))\n",
    "sns.heatmap(platform, cmap='coolwarm', linewidths=0.01, linecolor='black')\n",
    "plt.title('Карта распределения продаж по платформам с течением времени')\n",
    "plt.xlabel('год')\n",
    "plt.ylabel('платформа')"
   ]
  },
  {
   "cell_type": "markdown",
   "metadata": {},
   "source": [
    "На графике видно, что платформы 'живут' примерно по 10 лет, посмотрим на точные значения"
   ]
  },
  {
   "cell_type": "code",
   "execution_count": 17,
   "metadata": {},
   "outputs": [
    {
     "data": {
      "text/plain": [
       "platform\n",
       "PC      26\n",
       "GB      13\n",
       "PSP     12\n",
       "X360    12\n",
       "NES     12\n",
       "PS2     12\n",
       "DS      11\n",
       "Wii     11\n",
       "PS3     11\n",
       "PS      10\n",
       "2600    10\n",
       "SNES    10\n",
       "XB       9\n",
       "GBA      8\n",
       "DC       7\n",
       "N64      7\n",
       "GC       7\n",
       "PSV      6\n",
       "SAT      6\n",
       "3DS      6\n",
       "GEN      5\n",
       "WiiU     5\n",
       "XOne     4\n",
       "PS4      4\n",
       "NG       4\n",
       "WS       3\n",
       "SCD      2\n",
       "3DO      2\n",
       "TG16     1\n",
       "PCFX     1\n",
       "GG       1\n",
       "dtype: int64"
      ]
     },
     "execution_count": 17,
     "metadata": {},
     "output_type": "execute_result"
    }
   ],
   "source": [
    "platform.apply('count', axis=1).sort_values(ascending=False)"
   ]
  },
  {
   "cell_type": "code",
   "execution_count": 18,
   "metadata": {},
   "outputs": [
    {
     "data": {
      "text/plain": [
       "7.67741935483871"
      ]
     },
     "execution_count": 18,
     "metadata": {},
     "output_type": "execute_result"
    }
   ],
   "source": [
    "platform.apply('count', axis=1).sort_values(ascending=False).mean()"
   ]
  },
  {
   "cell_type": "markdown",
   "metadata": {},
   "source": [
    "Среднее получилось около 8 лет, так же у нас есть явный рекордсмен - ПК.\n",
    "\n",
    "Найдем значения для платформ с лучшими сумарными продажами"
   ]
  },
  {
   "cell_type": "code",
   "execution_count": 19,
   "metadata": {},
   "outputs": [
    {
     "data": {
      "text/plain": [
       "Text(159.0, 0.5, 'платформа')"
      ]
     },
     "execution_count": 19,
     "metadata": {},
     "output_type": "execute_result"
    },
    {
     "data": {
      "image/png": "[encoded data removed]",
      "text/plain": [
       "<Figure size 1440x360 with 2 Axes>"
      ]
     },
     "metadata": {
      "needs_background": "light"
     },
     "output_type": "display_data"
    }
   ],
   "source": [
    "# найдем топ 10 платформ\n",
    "top_list = df_games.groupby('platform')['all_sales'].sum().sort_values(ascending=False).head(10).index.values\n",
    "top_platform = df_games[df_games['platform'].isin(top_list)]\n",
    "# построим для них график\n",
    "top_pivot = top_platform.pivot_table(\n",
    "    index='platform',\n",
    "    columns='year_of_release',\n",
    "    values='all_sales',\n",
    "    aggfunc='sum')\n",
    "f, ax = plt.subplots(figsize=(20, 5))\n",
    "sns.heatmap(top_pivot, cmap='coolwarm', linewidths=0.01, linecolor='black')\n",
    "plt.title('Карта распределения продаж по платформам с течением времени')\n",
    "plt.xlabel('год')\n",
    "plt.ylabel('платформа')"
   ]
  },
  {
   "cell_type": "code",
   "execution_count": 20,
   "metadata": {},
   "outputs": [
    {
     "data": {
      "text/plain": [
       "10.582572743583743"
      ]
     },
     "execution_count": 20,
     "metadata": {},
     "output_type": "execute_result"
    }
   ],
   "source": [
    "top_platform.apply('count', axis=1).sort_values(ascending=False).mean()"
   ]
  },
  {
   "cell_type": "markdown",
   "metadata": {},
   "source": [
    "Мы видим что платформы с лучшими продажами живут дольше - примерно 10-11 лет.\n",
    "\n",
    "Создадим новую таблицу с актуальными данными. Актуальными будем считать данные с 2011 года(год выпуска нового поколения платформ). Данные должны быть актуальны примерно до 2021-2022 гг., что покрывает нужный нам год."
   ]
  },
  {
   "cell_type": "code",
   "execution_count": 21,
   "metadata": {},
   "outputs": [],
   "source": [
    "actual_df = df_games[df_games['year_of_release'] >= 2011]"
   ]
  },
  {
   "cell_type": "markdown",
   "metadata": {},
   "source": [
    "Посмотрим на продажи плтаформ и определим потенциально прибыльные"
   ]
  },
  {
   "cell_type": "code",
   "execution_count": 22,
   "metadata": {},
   "outputs": [
    {
     "data": {
      "text/plain": [
       "<matplotlib.axes._subplots.AxesSubplot at 0x7f928e95fe50>"
      ]
     },
     "execution_count": 22,
     "metadata": {},
     "output_type": "execute_result"
    },
    {
     "data": {
      "image/png": "[encoded data removed]",
      "text/plain": [
       "<Figure size 792x432 with 1 Axes>"
      ]
     },
     "metadata": {
      "needs_background": "light"
     },
     "output_type": "display_data"
    }
   ],
   "source": [
    "plt.figure(figsize=(11, 6))\n",
    "plt.title('Распределение платформ по годам')\n",
    "plt.xlabel('год')\n",
    "plt.ylabel('продажи')\n",
    "sns.lineplot(data=actual_df.pivot_table(index='year_of_release',\n",
    "    columns='platform',\n",
    "    values='all_sales',\n",
    "    aggfunc='sum'))"
   ]
  },
  {
   "cell_type": "markdown",
   "metadata": {},
   "source": [
    "Мы видим что к 2016 году на всех платформах идет падение продаж, но по нему еще нет полной информации, так что будем оценивать по 2015 году. Рост наблюдается только у 2х платформ, это PS4 и XOne, у остальных же идет падение. Падение у компактных плтаформ можно обьяснить развитием игр на смартфонах, а PC скорее всего из за роста цен на \"железо\" и увеличения уникального контента на приставках.\n",
    "\n",
    "Посмотрим на цифры и определим лидеров продаж"
   ]
  },
  {
   "cell_type": "code",
   "execution_count": 23,
   "metadata": {},
   "outputs": [
    {
     "data": {
      "text/html": [
       "<div>\n",
       "<style scoped>\n",
       "    .dataframe tbody tr th:only-of-type {\n",
       "        vertical-align: middle;\n",
       "    }\n",
       "\n",
       "    .dataframe tbody tr th {\n",
       "        vertical-align: top;\n",
       "    }\n",
       "\n",
       "    .dataframe thead th {\n",
       "        text-align: right;\n",
       "    }\n",
       "</style>\n",
       "<table border=\"1\" class=\"dataframe\">\n",
       "  <thead>\n",
       "    <tr style=\"text-align: right;\">\n",
       "      <th>year_of_release</th>\n",
       "      <th>2011</th>\n",
       "      <th>2012</th>\n",
       "      <th>2013</th>\n",
       "      <th>2014</th>\n",
       "      <th>2015</th>\n",
       "    </tr>\n",
       "    <tr>\n",
       "      <th>platform</th>\n",
       "      <th></th>\n",
       "      <th></th>\n",
       "      <th></th>\n",
       "      <th></th>\n",
       "      <th></th>\n",
       "    </tr>\n",
       "  </thead>\n",
       "  <tbody>\n",
       "    <tr>\n",
       "      <td>PS4</td>\n",
       "      <td>NaN</td>\n",
       "      <td>NaN</td>\n",
       "      <td>25.99</td>\n",
       "      <td>100.00</td>\n",
       "      <td>118.90</td>\n",
       "    </tr>\n",
       "    <tr>\n",
       "      <td>XOne</td>\n",
       "      <td>NaN</td>\n",
       "      <td>NaN</td>\n",
       "      <td>18.96</td>\n",
       "      <td>54.07</td>\n",
       "      <td>60.14</td>\n",
       "    </tr>\n",
       "    <tr>\n",
       "      <td>3DS</td>\n",
       "      <td>63.20</td>\n",
       "      <td>51.36</td>\n",
       "      <td>56.57</td>\n",
       "      <td>43.76</td>\n",
       "      <td>27.78</td>\n",
       "    </tr>\n",
       "    <tr>\n",
       "      <td>PS3</td>\n",
       "      <td>156.78</td>\n",
       "      <td>107.36</td>\n",
       "      <td>113.25</td>\n",
       "      <td>47.76</td>\n",
       "      <td>16.82</td>\n",
       "    </tr>\n",
       "    <tr>\n",
       "      <td>WiiU</td>\n",
       "      <td>NaN</td>\n",
       "      <td>17.56</td>\n",
       "      <td>21.65</td>\n",
       "      <td>22.03</td>\n",
       "      <td>16.35</td>\n",
       "    </tr>\n",
       "    <tr>\n",
       "      <td>X360</td>\n",
       "      <td>143.84</td>\n",
       "      <td>99.74</td>\n",
       "      <td>88.58</td>\n",
       "      <td>34.74</td>\n",
       "      <td>11.96</td>\n",
       "    </tr>\n",
       "    <tr>\n",
       "      <td>PC</td>\n",
       "      <td>35.03</td>\n",
       "      <td>23.22</td>\n",
       "      <td>12.38</td>\n",
       "      <td>13.28</td>\n",
       "      <td>8.52</td>\n",
       "    </tr>\n",
       "    <tr>\n",
       "      <td>PSV</td>\n",
       "      <td>4.63</td>\n",
       "      <td>16.19</td>\n",
       "      <td>10.59</td>\n",
       "      <td>11.90</td>\n",
       "      <td>6.25</td>\n",
       "    </tr>\n",
       "    <tr>\n",
       "      <td>Wii</td>\n",
       "      <td>59.65</td>\n",
       "      <td>21.71</td>\n",
       "      <td>8.59</td>\n",
       "      <td>3.75</td>\n",
       "      <td>1.14</td>\n",
       "    </tr>\n",
       "    <tr>\n",
       "      <td>PSP</td>\n",
       "      <td>17.82</td>\n",
       "      <td>7.69</td>\n",
       "      <td>3.14</td>\n",
       "      <td>0.24</td>\n",
       "      <td>0.12</td>\n",
       "    </tr>\n",
       "    <tr>\n",
       "      <td>DS</td>\n",
       "      <td>26.18</td>\n",
       "      <td>11.01</td>\n",
       "      <td>1.54</td>\n",
       "      <td>NaN</td>\n",
       "      <td>NaN</td>\n",
       "    </tr>\n",
       "    <tr>\n",
       "      <td>PS2</td>\n",
       "      <td>0.45</td>\n",
       "      <td>NaN</td>\n",
       "      <td>NaN</td>\n",
       "      <td>NaN</td>\n",
       "      <td>NaN</td>\n",
       "    </tr>\n",
       "  </tbody>\n",
       "</table>\n",
       "</div>"
      ],
      "text/plain": [
       "year_of_release    2011    2012    2013    2014    2015\n",
       "platform                                               \n",
       "PS4                 NaN     NaN   25.99  100.00  118.90\n",
       "XOne                NaN     NaN   18.96   54.07   60.14\n",
       "3DS               63.20   51.36   56.57   43.76   27.78\n",
       "PS3              156.78  107.36  113.25   47.76   16.82\n",
       "WiiU                NaN   17.56   21.65   22.03   16.35\n",
       "X360             143.84   99.74   88.58   34.74   11.96\n",
       "PC                35.03   23.22   12.38   13.28    8.52\n",
       "PSV                4.63   16.19   10.59   11.90    6.25\n",
       "Wii               59.65   21.71    8.59    3.75    1.14\n",
       "PSP               17.82    7.69    3.14    0.24    0.12\n",
       "DS                26.18   11.01    1.54     NaN     NaN\n",
       "PS2                0.45     NaN     NaN     NaN     NaN"
      ]
     },
     "execution_count": 23,
     "metadata": {},
     "output_type": "execute_result"
    }
   ],
   "source": [
    "# данные будем брать до 2015 года т.к. данный за 2016 не полные\n",
    "actual_pivot = actual_df[actual_df['year_of_release'] < 2016].pivot_table(index='platform',\n",
    "    columns='year_of_release',\n",
    "    values='all_sales',\n",
    "    aggfunc='sum')\n",
    "actual_pivot.sort_values(by=2015, ascending=False) # данные отсортируем по 2015 году"
   ]
  },
  {
   "cell_type": "markdown",
   "metadata": {},
   "source": [
    "Мы видим что тройку лидеров закрывают новые платформы - PS4, XOne и 3DS. Их мы и будем считать потенциально прибыльными."
   ]
  },
  {
   "cell_type": "markdown",
   "metadata": {},
   "source": [
    "#### Анализ потенциально прибыльных платформ"
   ]
  },
  {
   "cell_type": "markdown",
   "metadata": {},
   "source": [
    "Построим boxplot и посмотрим на распределения и выбросы."
   ]
  },
  {
   "cell_type": "code",
   "execution_count": 24,
   "metadata": {},
   "outputs": [],
   "source": [
    "top3 = df_games[df_games['platform'].isin(['PS4', 'XOne', '3DS'])]"
   ]
  },
  {
   "cell_type": "code",
   "execution_count": 25,
   "metadata": {},
   "outputs": [
    {
     "data": {
      "text/plain": [
       "Text(0, 0.5, 'платформа')"
      ]
     },
     "execution_count": 25,
     "metadata": {},
     "output_type": "execute_result"
    },
    {
     "data": {
      "image/png": "[encoded data removed]",
      "text/plain": [
       "<Figure size 1440x360 with 1 Axes>"
      ]
     },
     "metadata": {
      "needs_background": "light"
     },
     "output_type": "display_data"
    }
   ],
   "source": [
    "f, ax = plt.subplots(figsize=(20, 5))\n",
    "sns.boxplot(y='platform', x='all_sales',\n",
    "            data = top3\n",
    "            , orient='h')\n",
    "plt.title('Boxplot топ 3х платформ')\n",
    "plt.xlabel('продажи')\n",
    "plt.ylabel('платформа')"
   ]
  },
  {
   "cell_type": "markdown",
   "metadata": {},
   "source": [
    "Мы видим большое кол-во выбросов, постараемся их сократить ограничив суммы глобальных продаж"
   ]
  },
  {
   "cell_type": "code",
   "execution_count": 26,
   "metadata": {},
   "outputs": [],
   "source": [
    "top3 = top3.loc[top3['all_sales'] < 2]"
   ]
  },
  {
   "cell_type": "markdown",
   "metadata": {},
   "source": [
    "##### PS4"
   ]
  },
  {
   "cell_type": "code",
   "execution_count": 27,
   "metadata": {},
   "outputs": [
    {
     "name": "stdout",
     "output_type": "stream",
     "text": [
      "              all_sales  critic_score  user_score\n",
      "all_sales      1.000000      0.294368   -0.013178\n",
      "critic_score   0.294368      1.000000    0.615186\n",
      "user_score    -0.013178      0.615186    1.000000\n"
     ]
    },
    {
     "data": {
      "image/png": "[encoded data removed]",
      "text/plain": [
       "<Figure size 360x360 with 3 Axes>"
      ]
     },
     "metadata": {
      "needs_background": "light"
     },
     "output_type": "display_data"
    },
    {
     "data": {
      "image/png": "[encoded data removed]",
      "text/plain": [
       "<Figure size 360x360 with 3 Axes>"
      ]
     },
     "metadata": {
      "needs_background": "light"
     },
     "output_type": "display_data"
    }
   ],
   "source": [
    "def top3func(platform):\n",
    "    platform_df = top3.loc[top3['platform']==platform]\n",
    "    sns.jointplot(x='user_score',\n",
    "                  y='all_sales',\n",
    "                  data=platform_df,\n",
    "                  kind='scatter',\n",
    "                  alpha=0.5,\n",
    "                  height=5)\n",
    "    sns.jointplot(x='critic_score',\n",
    "                  y='all_sales',\n",
    "                  data=platform_df,\n",
    "                  kind='scatter',\n",
    "                  alpha=0.5,\n",
    "                  height=5)\n",
    "    print(platform_df[['all_sales', 'critic_score', 'user_score']].corr())\n",
    "top3func('PS4')"
   ]
  },
  {
   "cell_type": "markdown",
   "metadata": {},
   "source": [
    "Мы видим слабую корреляцию с рейтингами критиков и отсутствие корреляции с рейтингами пользователей. А так же среднюю взаимосвязь между оценками критиков и пользователей, скорее всего оценки критиков влияют на часть пользователей. Распределения ассиметричны и смещенны в большую сторону."
   ]
  },
  {
   "cell_type": "markdown",
   "metadata": {},
   "source": [
    "##### XOne"
   ]
  },
  {
   "cell_type": "code",
   "execution_count": 28,
   "metadata": {},
   "outputs": [
    {
     "name": "stdout",
     "output_type": "stream",
     "text": [
      "              all_sales  critic_score  user_score\n",
      "all_sales      1.000000      0.433697    0.079890\n",
      "critic_score   0.433697      1.000000    0.546168\n",
      "user_score     0.079890      0.546168    1.000000\n"
     ]
    },
    {
     "data": {
      "image/png": "[encoded data removed]",
      "text/plain": [
       "<Figure size 360x360 with 3 Axes>"
      ]
     },
     "metadata": {
      "needs_background": "light"
     },
     "output_type": "display_data"
    },
    {
     "data": {
      "image/png": "[encoded data removed]",
      "text/plain": [
       "<Figure size 360x360 with 3 Axes>"
      ]
     },
     "metadata": {
      "needs_background": "light"
     },
     "output_type": "display_data"
    }
   ],
   "source": [
    "top3func('XOne')"
   ]
  },
  {
   "cell_type": "markdown",
   "metadata": {},
   "source": [
    "Мы видим слабую корреляцию с рейтингами критиков и отсутствие корреляции с рейтингами пользователей. Связь оценок критиков и пользователей здесь меньше, а значит пользователи в меньшей степени зависят от критиков. Распределения ассиметричны и смещенны в большую сторону."
   ]
  },
  {
   "cell_type": "markdown",
   "metadata": {},
   "source": [
    "##### 3DS"
   ]
  },
  {
   "cell_type": "code",
   "execution_count": 29,
   "metadata": {},
   "outputs": [
    {
     "name": "stdout",
     "output_type": "stream",
     "text": [
      "              all_sales  critic_score  user_score\n",
      "all_sales      1.000000      0.260392    0.177411\n",
      "critic_score   0.260392      1.000000    0.722334\n",
      "user_score     0.177411      0.722334    1.000000\n"
     ]
    },
    {
     "data": {
      "image/png": "[encoded data removed]",
      "text/plain": [
       "<Figure size 360x360 with 3 Axes>"
      ]
     },
     "metadata": {
      "needs_background": "light"
     },
     "output_type": "display_data"
    },
    {
     "data": {
      "image/png": "[encoded data removed]",
      "text/plain": [
       "<Figure size 360x360 with 3 Axes>"
      ]
     },
     "metadata": {
      "needs_background": "light"
     },
     "output_type": "display_data"
    }
   ],
   "source": [
    "top3func('3DS')"
   ]
  },
  {
   "cell_type": "markdown",
   "metadata": {},
   "source": [
    "В данном примере есть слабая корреляция продаж с рейтингами критиков и с рейтингами пользователей, а также сильная взаимосвязь отзывов критиков и пользователей. Можно сделать вывод, что оценки пользователей сильно зависят от оценок критиков, а при покупке руководствуются оценками и тех и других. Распределения ассиметричны и смещенны в большую сторону."
   ]
  },
  {
   "cell_type": "markdown",
   "metadata": {},
   "source": [
    "#### Анализ жанров"
   ]
  },
  {
   "cell_type": "code",
   "execution_count": 30,
   "metadata": {},
   "outputs": [
    {
     "data": {
      "text/plain": [
       "Text(0, 0.5, 'кол-во')"
      ]
     },
     "execution_count": 30,
     "metadata": {},
     "output_type": "execute_result"
    },
    {
     "data": {
      "image/png": "[encoded data removed]",
      "text/plain": [
       "<Figure size 1080x288 with 1 Axes>"
      ]
     },
     "metadata": {
      "needs_background": "light"
     },
     "output_type": "display_data"
    }
   ],
   "source": [
    "top_geres = top3.groupby('genre').count().sort_values(by='name', ascending=False).reset_index()\n",
    "plt.figure(figsize=(15, 4))\n",
    "sns.barplot(data=top_geres, x='genre', y='name')\n",
    "plt.title('Колличество игр по жанрам')\n",
    "plt.xlabel('жанр')\n",
    "plt.ylabel('кол-во')"
   ]
  },
  {
   "cell_type": "markdown",
   "metadata": {},
   "source": [
    "У нас есть явный лидер по колличеству игр! И это экшены, за ними идут ролевые, шутеры, стратегии и симуляторы. Файтинги, пазлы и платформеры показали себя худше всего.\n",
    "\n",
    "Теперь посмотрим на продажи"
   ]
  },
  {
   "cell_type": "code",
   "execution_count": 31,
   "metadata": {},
   "outputs": [
    {
     "data": {
      "text/plain": [
       "Text(0, 0.5, 'продажи')"
      ]
     },
     "execution_count": 31,
     "metadata": {},
     "output_type": "execute_result"
    },
    {
     "data": {
      "image/png": "[encoded data removed]",
      "text/plain": [
       "<Figure size 1080x288 with 1 Axes>"
      ]
     },
     "metadata": {
      "needs_background": "light"
     },
     "output_type": "display_data"
    }
   ],
   "source": [
    "plt.figure(figsize=(15, 4))\n",
    "sns.boxplot(data=top3, x='genre', y='all_sales')\n",
    "plt.title('Продажи игр по жанрам')\n",
    "plt.xlabel('жанр')\n",
    "plt.ylabel('продажи')"
   ]
  },
  {
   "cell_type": "markdown",
   "metadata": {},
   "source": [
    "Тут наша тройка лидеров поменялась, на первом месте теперь шутеры, далее идут спортивные игры, ролевые, платформеры и гонки. Хуже всего покупают приключенческие игры."
   ]
  },
  {
   "cell_type": "markdown",
   "metadata": {},
   "source": [
    "#### Вывод"
   ]
  },
  {
   "cell_type": "markdown",
   "metadata": {},
   "source": [
    "По результатам анализа можно сделать вывод, что хоть после 2010 года и было падение продаж, но в 2016 году несмотря на неполноту данных виден рост за счет платформ нового поколения. Платформы же старых поколений заметно падают в продажах.\n",
    "Средний уровень \"жизни\" платформ около 8 лет, однако на платформах с лучшими продажами он выше 10-11 лет. На основании этого можно предположить, что если взять период с 2011 года(года выпуска консолей нового поколения), то мы можем предположить их актуальность и потенциальную прибыльность до 2021 года. Так же посчитав корреляции, можно придти к выводу, что есть небольшая зависимость между покупками и оценками критиков, оценки пользователей имели маленькую взаимосвязь только в японском сегменте, а также наблюдается взаимосвязь между оценками критиков и пользователей. Так же мы определили топ 5 жанров по продажам - это шутеры, спортивные и ролевые игры которые идут с хорошим отрывом, а так же платформеры и гонки. Хуже всего показали себя пазлы и файтинги."
   ]
  },
  {
   "cell_type": "markdown",
   "metadata": {},
   "source": [
    "### Портрет пользователя по регионам"
   ]
  },
  {
   "cell_type": "markdown",
   "metadata": {},
   "source": [
    "#### Попульярные платформы"
   ]
  },
  {
   "cell_type": "markdown",
   "metadata": {},
   "source": [
    "Посмотрим какие платформы прдепочитают в зависимости от региона"
   ]
  },
  {
   "cell_type": "code",
   "execution_count": 32,
   "metadata": {},
   "outputs": [
    {
     "data": {
      "image/png": "[encoded data removed]",
      "text/plain": [
       "<Figure size 1080x288 with 1 Axes>"
      ]
     },
     "metadata": {
      "needs_background": "light"
     },
     "output_type": "display_data"
    },
    {
     "data": {
      "image/png": "[encoded data removed]",
      "text/plain": [
       "<Figure size 1080x288 with 1 Axes>"
      ]
     },
     "metadata": {
      "needs_background": "light"
     },
     "output_type": "display_data"
    },
    {
     "data": {
      "image/png": "[encoded data removed]",
      "text/plain": [
       "<Figure size 1080x288 with 1 Axes>"
      ]
     },
     "metadata": {
      "needs_background": "light"
     },
     "output_type": "display_data"
    }
   ],
   "source": [
    "def reg_plat(region):\n",
    "    region_platform = actual_df.groupby('platform') \\\n",
    "    .sum() \\\n",
    "    .sort_values(by=f'{region}_sales', ascending=False).reset_index() \\\n",
    "    .head()\n",
    "    \n",
    "    plt.figure(figsize=(15, 4))\n",
    "    sns.barplot(data=region_platform, x='platform', y=f'{region}_sales')\n",
    "    plt.title(f'Продажи игр по платформам в {region}')\n",
    "    plt.xlabel('платформа')\n",
    "    plt.ylabel('продажи')\n",
    "\n",
    "reg_plat('na')\n",
    "reg_plat('eu')\n",
    "reg_plat('jp')"
   ]
  },
  {
   "cell_type": "markdown",
   "metadata": {},
   "source": [
    "* Мы видим, что в северной америке предпочитают в основном консоли Xbox и PlayStation, а так же есть часть пользователей предпочитающийх 3DS. Большую часть пока занимают консоли старого поколения, но за ними примерно на ровне идут новые.\n",
    "* В европе виден сильный рост PS4 и хорошие показатели 3DS, но старые платформы занимают большую часть рынка. Так же мы видим, что только в европе в лучшие платформы входит PC стоит учесть это в дальнейшем.\n",
    "* В японии же явный лидер 3DS, да и в целом есть тенденция на компактные платформы. Мы видим, что из старых платформ остались PS3 и PSP, а в спину им дышат PSV и PS4, при этом PSV почти на треть обгоняет по продажам PS4"
   ]
  },
  {
   "cell_type": "markdown",
   "metadata": {},
   "source": [
    "#### Популярные жанры"
   ]
  },
  {
   "cell_type": "code",
   "execution_count": 33,
   "metadata": {},
   "outputs": [
    {
     "data": {
      "image/png": "[encoded data removed]",
      "text/plain": [
       "<Figure size 1080x288 with 1 Axes>"
      ]
     },
     "metadata": {
      "needs_background": "light"
     },
     "output_type": "display_data"
    },
    {
     "data": {
      "image/png": "[encoded data removed]",
      "text/plain": [
       "<Figure size 1080x288 with 1 Axes>"
      ]
     },
     "metadata": {
      "needs_background": "light"
     },
     "output_type": "display_data"
    },
    {
     "data": {
      "image/png": "[encoded data removed]",
      "text/plain": [
       "<Figure size 1080x288 with 1 Axes>"
      ]
     },
     "metadata": {
      "needs_background": "light"
     },
     "output_type": "display_data"
    }
   ],
   "source": [
    "def reg_gen(region):\n",
    "    region_platform = actual_df.groupby('genre') \\\n",
    "    .sum() \\\n",
    "    .sort_values(by=f'{region}_sales', ascending=False) \\\n",
    "    .reset_index() \\\n",
    "    .head()\n",
    "    \n",
    "    plt.figure(figsize=(15, 4))\n",
    "    sns.barplot(data=region_platform, x='genre', y=f'{region}_sales')\n",
    "    plt.title(f'Продажи игр по жанрам в {region}')\n",
    "    plt.xlabel('жанр')\n",
    "    plt.ylabel('продажи')\n",
    "\n",
    "reg_gen('na')\n",
    "reg_gen('eu')\n",
    "reg_gen('jp')"
   ]
  },
  {
   "cell_type": "markdown",
   "metadata": {},
   "source": [
    "Ситуация в америке и европе примерно одинаковая первые 4 места там занимают экшены, шутеры, спорт и ролевые игры. За исключением того, что в америке больше любят музыкальные игры а в европе гонки. В японии же ситуация иная. Большую часть рынка занимают ролевые игры и экшены, за ними идут музыка, файтинги и платформеры."
   ]
  },
  {
   "cell_type": "markdown",
   "metadata": {},
   "source": [
    "#### Зависимость продаж от рейтинга"
   ]
  },
  {
   "cell_type": "code",
   "execution_count": 34,
   "metadata": {},
   "outputs": [
    {
     "data": {
      "image/png": "[encoded data removed]",
      "text/plain": [
       "<Figure size 1080x288 with 1 Axes>"
      ]
     },
     "metadata": {
      "needs_background": "light"
     },
     "output_type": "display_data"
    },
    {
     "data": {
      "image/png": "[encoded data removed]",
      "text/plain": [
       "<Figure size 1080x288 with 1 Axes>"
      ]
     },
     "metadata": {
      "needs_background": "light"
     },
     "output_type": "display_data"
    },
    {
     "data": {
      "image/png": "[encoded data removed]",
      "text/plain": [
       "<Figure size 1080x288 with 1 Axes>"
      ]
     },
     "metadata": {
      "needs_background": "light"
     },
     "output_type": "display_data"
    }
   ],
   "source": [
    "def reg_rat(region):\n",
    "    region_platform = actual_df.groupby('rating') \\\n",
    "    .sum() \\\n",
    "    .sort_values(by=f'{region}_sales', ascending=False).reset_index().head()\n",
    "    \n",
    "    plt.figure(figsize=(15, 4))\n",
    "    sns.barplot(data=region_platform, x='rating', y=f'{region}_sales')\n",
    "    plt.title(f'Рейтинг игр в {region}')\n",
    "    plt.xlabel('рейтинг')\n",
    "    plt.ylabel('продажи')\n",
    "reg_rat('na')\n",
    "reg_rat('eu')\n",
    "reg_rat('jp')"
   ]
  },
  {
   "cell_type": "markdown",
   "metadata": {},
   "source": [
    "С рейтингами примерно тоже что и выше, в америке и европе основные рейтинги это M и E, за ними идут T и E10+. В японии же первыми идут E и T, а за ними M и E10+. В целом можно сказать что в америке и европе предпочитают игры M(для взрослых) и E(для всех), тогда как в японии E(для всех) и T(для подростков)."
   ]
  },
  {
   "cell_type": "markdown",
   "metadata": {},
   "source": [
    "#### Вывод"
   ]
  },
  {
   "cell_type": "markdown",
   "metadata": {},
   "source": [
    "По результатам анализа мы можем составить портеты пользователей разных регионов:\n",
    "* В северной америке пользователи в основном играют на консолях, большую часть рынка все еще занимают консоли старого поколения, а так же есть часть пользователей предпочитающий 3DS. Популярными жанрами являются экшены, шутеры, спортивные, ролевые и музыкальные игры с рейтингом для M(для взрослых) и E(для всех).\n",
    "* В европе хорошо набирает обороты PS4, но большая часть рынка остается у старых платформ, так же себя хорошо показывает 3DS, а за ней не отстает PC что следует учесть в дальнейшем. Жанры популярны такие же как в америке за исключением музыки, в европе больше любят гонки. То же касается и рейтингов, предпочитают M(для взрослых) и E(для всех).\n",
    "* В японии же картина другая. Тут более популярны компакные платформы - сильно выделяется 3DS, а так же хорошо себя показывает PSV, PS4 же идет в конце с сильным отставанием. Жанры тут тоже предпочитают иные в основном это мультиплееры и экшены, за ними идут платформеры файтинги и музыкальные игры. Лидирующие рейтинги так же иные, японцы в большинстве предпочитают игры с рейтингом E(для всех) и T(для подростков)."
   ]
  },
  {
   "cell_type": "markdown",
   "metadata": {},
   "source": [
    "### Проверка гипотез"
   ]
  },
  {
   "cell_type": "markdown",
   "metadata": {},
   "source": [
    "**Посмотрим, как различаются средние пользовательские рейтинги платформ Xbox One и PC.**\n",
    "\n",
    "Сформулируем гипотезу о равенстве средних двух генеральных совокупностей: \n",
    "* H0 (нулевая гипотеза): Средние пользовательские рейтинги для платформ Xbox One и PC равны. \n",
    "* H1 (альтернативная гипотеза): Средние пользовательские рейтинги для платформ Xbox One и PC не равны."
   ]
  },
  {
   "cell_type": "markdown",
   "metadata": {},
   "source": [
    "Для того чтобы првильно выбрать параметр equal_var, сравним дисперсии"
   ]
  },
  {
   "cell_type": "code",
   "execution_count": 35,
   "metadata": {},
   "outputs": [
    {
     "name": "stdout",
     "output_type": "stream",
     "text": [
      "Дисперсии различны: equal_var=False\n"
     ]
    }
   ],
   "source": [
    "xbox = actual_df.query('platform == \"XOne\"')\n",
    "pc = actual_df.query('platform == \"PC\"')\n",
    "\n",
    "xbox_list = xbox['user_score'][xbox['user_score'].notna()].tolist()\n",
    "pc_list = pc['user_score'][pc['user_score'].notna()].tolist()\n",
    "alpha = 0.05\n",
    "stat, p = st.levene(xbox_list, pc_list)\n",
    "result_levene = p\n",
    "\n",
    "\n",
    "\n",
    "if result_levene < alpha:\n",
    "    print('Дисперсии различны: equal_var=False')\n",
    "else:\n",
    "    print('Дисперсии схожи: equal_var=True')\n"
   ]
  },
  {
   "cell_type": "markdown",
   "metadata": {},
   "source": [
    "Критический уровень значимости укажем 1% т.к имеем выборку хорошего размера и менее вероятно получить случайные результаты чем в маленькой выборке"
   ]
  },
  {
   "cell_type": "code",
   "execution_count": 36,
   "metadata": {},
   "outputs": [
    {
     "name": "stdout",
     "output_type": "stream",
     "text": [
      "p-values: 0.6130712247638477\n",
      "Не получилось отвергнуть нулевую гипотезу\n"
     ]
    }
   ],
   "source": [
    "alpha = 0.01 \n",
    "results = st.ttest_ind(xbox_list, pc_list, equal_var=False)\n",
    "\n",
    "print('p-values:', results.pvalue)\n",
    "\n",
    "if results.pvalue < alpha:\n",
    "    print('Отвергаем нулевую гипотезу')\n",
    "else:\n",
    "    print('Не получилось отвергнуть нулевую гипотезу') "
   ]
  },
  {
   "cell_type": "markdown",
   "metadata": {},
   "source": [
    "Мы получили довольно высокое p значение, оно означает что с вероятностью 61% мы можем получить такие или более выраженные различия случайно и нет оснований для отвержения нулевой гипотезы."
   ]
  },
  {
   "cell_type": "markdown",
   "metadata": {},
   "source": [
    "**Теперь проверим, как различаются средние пользовательские оценки жанров Action и Sports.**\n",
    "\n",
    "Сформулируем гипотезу о равенстве средних двух генеральных совокупностей \n",
    "* H0 (нулевая гипотеза): Средние пользовательские рейтинги для жанров Action и Sports равны. \n",
    "* H1 (альтернативная гипотеза): Средние пользовательские рейтинги для жанров Action и Sports не равны."
   ]
  },
  {
   "cell_type": "markdown",
   "metadata": {},
   "source": [
    "Так же проверим различия дисперсий"
   ]
  },
  {
   "cell_type": "code",
   "execution_count": 37,
   "metadata": {},
   "outputs": [
    {
     "name": "stdout",
     "output_type": "stream",
     "text": [
      "Дисперсии различны: equal_var=False\n"
     ]
    }
   ],
   "source": [
    "action = actual_df.query('genre == \"Action\"')\n",
    "sports = actual_df.query('genre == \"Sports\"')\n",
    "\n",
    "action_list = action['user_score'][action['user_score'].notna()].tolist()\n",
    "sports_list = sports['user_score'][sports['user_score'].notna()].tolist()\n",
    "alpha = 0.05\n",
    "stat, p = st.levene(action_list, sports_list)\n",
    "result_levene = p\n",
    "\n",
    "\n",
    "\n",
    "if result_levene < alpha:\n",
    "    print('Дисперсии различны: equal_var=False')\n",
    "else:\n",
    "    print('Дисперсии схожи: equal_var=True')"
   ]
  },
  {
   "cell_type": "markdown",
   "metadata": {},
   "source": [
    "Критический уровень значимости так же оставим 1% "
   ]
  },
  {
   "cell_type": "code",
   "execution_count": 38,
   "metadata": {},
   "outputs": [
    {
     "name": "stdout",
     "output_type": "stream",
     "text": [
      "p-values: 8.285648549432565e-19\n",
      "Отвергаем нулевую гипотезу\n"
     ]
    }
   ],
   "source": [
    "alpha = 0.01 \n",
    "results = st.ttest_ind(action_list, sports_list, equal_var=False)\n",
    "\n",
    "print('p-values:', results.pvalue)\n",
    "\n",
    "if results.pvalue < alpha:\n",
    "    print('Отвергаем нулевую гипотезу')\n",
    "else:\n",
    "    print('Не получилось отвергнуть нулевую гипотезу') "
   ]
  },
  {
   "cell_type": "markdown",
   "metadata": {},
   "source": [
    "Найдем процент различия рейтинга жанров"
   ]
  },
  {
   "cell_type": "code",
   "execution_count": 39,
   "metadata": {},
   "outputs": [
    {
     "data": {
      "text/plain": [
       "16"
      ]
     },
     "execution_count": 39,
     "metadata": {},
     "output_type": "execute_result"
    }
   ],
   "source": [
    "num = actual_df.query('genre.isin([\"Sports\", \"Action\"])').groupby('genre')['user_score'].mean().values\n",
    "int((max(num) - min(num)) / max(num) * 100)"
   ]
  },
  {
   "cell_type": "markdown",
   "metadata": {},
   "source": [
    "Мы получили p значение меньше 1%, это значит что у нас есть основания отклонить нулевую гипотезу и предположить что различия между жанрами action и sport не являются случайными."
   ]
  },
  {
   "cell_type": "markdown",
   "metadata": {},
   "source": [
    "#### Вывод"
   ]
  },
  {
   "cell_type": "markdown",
   "metadata": {},
   "source": [
    "По результатам проверки гипотез есть основания предпологать, что пользовательские оценки на Xbox и PC не отличаются, скорее всего это связано с тем что политика компании microsoft не завязана на уникальном контенте как в playstation. Так же мы можем предположить что различия в рейтинге жанров action и sport не случайны и action в среднем на 16% выше."
   ]
  },
  {
   "cell_type": "markdown",
   "metadata": {},
   "source": [
    "### Общий вывод"
   ]
  },
  {
   "cell_type": "markdown",
   "metadata": {},
   "source": [
    "В ходе исследования мы подготовили наши данные к анализу, поработав с пропусками и избавившись от дубликатов, так же мы добавили необходимые для дальнейшего исследования данные. Исследование проводилось в период с 2011 года т.к. в этом году вышли консоли нового поколения на которые идет расчет и так же был рассчитан период актуальности платформ, по предположениям он продлится до 2021 года.\n",
    "\n",
    "По результатам исследования мы выявили определяющие успешность игры закономерности. Мы выяснили что потенциально успешные игры отличаются по регионам и рекламные компании лучше всего планировать по отдельности для каждого:\n",
    "* В Северной Америке - это игры для платформ PS4, XOne и 3DS. С такими жанрами как экшен, шутер, спорт, ролевые игры и музыкальные с возрастными рейтингами M и E, а так же с высокими оценками критиков\n",
    "* В Европе это игры для платформ PS4, 3DS и PC(это единственная территория где PC остается актуальным). Жанры в европе схожи с Америкой за исключением музыки, в Европе предпочитают гонки также с рейтингами M и E, а так же высокими оценками критиков\n",
    "* В Японии ситуация отличается, тут более популярны компактные платформы - 3DS, PSV а так же PS4. Популярные жанры - это мультиплееры и экшены, а так же чуть менее - платформеры файтинги и музыкальные игры с рейтингом E и T. Так же одинаково важны оценки критиков и пользователей\n",
    "\n",
    "Если же не будет возможности рекламных компаний по регионам, то есть потенциально прибыльные игры для всех - это игры на платформах PS4, XOne и 3DS с такими жанрами как шутеры, ролплей и спорт, и рейтингом E, M и T. А так же с высокой оценкой критиков."
   ]
  }
 ],
 "metadata": {
  "ExecuteTimeLog": [
   {
    "duration": 1388,
    "start_time": "2021-09-01T08:17:22.048Z"
   },
   {
    "duration": 49,
    "start_time": "2021-09-01T08:17:58.199Z"
   },
   {
    "duration": 45,
    "start_time": "2021-09-01T08:18:35.728Z"
   },
   {
    "duration": 428,
    "start_time": "2021-09-03T12:05:10.097Z"
   },
   {
    "duration": 1441,
    "start_time": "2021-09-03T12:05:15.601Z"
   },
   {
    "duration": 47,
    "start_time": "2021-09-03T12:05:17.045Z"
   },
   {
    "duration": 43,
    "start_time": "2021-09-03T12:05:17.149Z"
   },
   {
    "duration": 42,
    "start_time": "2021-09-03T12:05:19.729Z"
   },
   {
    "duration": 133,
    "start_time": "2021-09-03T12:22:37.833Z"
   },
   {
    "duration": 64,
    "start_time": "2021-09-03T12:23:01.051Z"
   },
   {
    "duration": 70,
    "start_time": "2021-09-03T12:23:21.835Z"
   },
   {
    "duration": 38,
    "start_time": "2021-09-03T12:23:31.531Z"
   },
   {
    "duration": 42,
    "start_time": "2021-09-03T12:23:34.195Z"
   },
   {
    "duration": 450,
    "start_time": "2021-09-03T12:39:38.378Z"
   },
   {
    "duration": 6,
    "start_time": "2021-09-03T12:40:37.570Z"
   },
   {
    "duration": 4,
    "start_time": "2021-09-03T12:40:44.585Z"
   },
   {
    "duration": 7,
    "start_time": "2021-09-03T12:40:48.062Z"
   },
   {
    "duration": 130,
    "start_time": "2021-09-03T12:43:59.257Z"
   },
   {
    "duration": 358,
    "start_time": "2021-09-03T12:44:56.217Z"
   },
   {
    "duration": 3391,
    "start_time": "2021-09-03T12:45:28.485Z"
   },
   {
    "duration": 12,
    "start_time": "2021-09-03T12:46:48.388Z"
   },
   {
    "duration": 414,
    "start_time": "2021-09-03T12:48:37.060Z"
   },
   {
    "duration": 398,
    "start_time": "2021-09-03T12:53:16.188Z"
   },
   {
    "duration": 11,
    "start_time": "2021-09-03T12:53:21.500Z"
   },
   {
    "duration": 20,
    "start_time": "2021-09-03T12:55:50.627Z"
   },
   {
    "duration": 4,
    "start_time": "2021-09-03T13:02:44.619Z"
   },
   {
    "duration": 5,
    "start_time": "2021-09-03T13:02:52.074Z"
   },
   {
    "duration": 1392,
    "start_time": "2021-09-03T13:07:27.790Z"
   },
   {
    "duration": 48,
    "start_time": "2021-09-03T13:07:29.185Z"
   },
   {
    "duration": 52,
    "start_time": "2021-09-03T13:07:29.237Z"
   },
   {
    "duration": 43,
    "start_time": "2021-09-03T13:07:29.292Z"
   },
   {
    "duration": 4,
    "start_time": "2021-09-03T13:07:29.338Z"
   },
   {
    "duration": 2784,
    "start_time": "2021-09-03T13:07:29.344Z"
   },
   {
    "duration": -6886511,
    "start_time": "2021-09-03T15:02:18.641Z"
   },
   {
    "duration": -6886533,
    "start_time": "2021-09-03T15:02:18.665Z"
   },
   {
    "duration": 14,
    "start_time": "2021-09-03T13:07:51.823Z"
   },
   {
    "duration": 25,
    "start_time": "2021-09-03T13:07:53.366Z"
   },
   {
    "duration": 7,
    "start_time": "2021-09-03T13:09:09.266Z"
   },
   {
    "duration": 1434,
    "start_time": "2021-09-03T13:09:18.309Z"
   },
   {
    "duration": 55,
    "start_time": "2021-09-03T13:09:19.746Z"
   },
   {
    "duration": 45,
    "start_time": "2021-09-03T13:09:19.805Z"
   },
   {
    "duration": 66,
    "start_time": "2021-09-03T13:09:19.854Z"
   },
   {
    "duration": 4,
    "start_time": "2021-09-03T13:09:19.922Z"
   },
   {
    "duration": 2932,
    "start_time": "2021-09-03T13:09:19.929Z"
   },
   {
    "duration": -6886513,
    "start_time": "2021-09-03T15:04:09.377Z"
   },
   {
    "duration": -6886527,
    "start_time": "2021-09-03T15:04:09.393Z"
   },
   {
    "duration": 2735,
    "start_time": "2021-09-03T13:09:52.870Z"
   },
   {
    "duration": -6886501,
    "start_time": "2021-09-03T15:04:42.108Z"
   },
   {
    "duration": 12,
    "start_time": "2021-09-03T13:10:00.158Z"
   },
   {
    "duration": 34,
    "start_time": "2021-09-03T13:10:01.678Z"
   },
   {
    "duration": 20,
    "start_time": "2021-09-03T13:12:43.242Z"
   },
   {
    "duration": 16,
    "start_time": "2021-09-03T13:12:53.558Z"
   },
   {
    "duration": 25,
    "start_time": "2021-09-03T13:13:05.105Z"
   },
   {
    "duration": 2661,
    "start_time": "2021-09-03T13:16:25.797Z"
   },
   {
    "duration": 423,
    "start_time": "2021-09-03T13:16:41.097Z"
   },
   {
    "duration": 403,
    "start_time": "2021-09-03T13:17:03.073Z"
   },
   {
    "duration": 93,
    "start_time": "2021-09-03T13:17:07.189Z"
   },
   {
    "duration": -6886526,
    "start_time": "2021-09-03T15:12:53.219Z"
   },
   {
    "duration": 35,
    "start_time": "2021-09-03T13:18:07.921Z"
   },
   {
    "duration": 11502,
    "start_time": "2021-09-03T13:18:42.112Z"
   },
   {
    "duration": 122,
    "start_time": "2021-09-03T13:18:56.336Z"
   },
   {
    "duration": 9195,
    "start_time": "2021-09-03T13:19:08.075Z"
   },
   {
    "duration": 389,
    "start_time": "2021-09-03T13:19:40.997Z"
   },
   {
    "duration": 1526,
    "start_time": "2021-09-03T13:20:34.760Z"
   },
   {
    "duration": 34,
    "start_time": "2021-09-03T13:26:53.828Z"
   },
   {
    "duration": 24,
    "start_time": "2021-09-03T13:27:31.903Z"
   },
   {
    "duration": 25,
    "start_time": "2021-09-03T13:27:58.236Z"
   },
   {
    "duration": 63,
    "start_time": "2021-09-03T13:47:43.321Z"
   },
   {
    "duration": 68,
    "start_time": "2021-09-03T13:47:44.722Z"
   },
   {
    "duration": 84,
    "start_time": "2021-09-03T13:48:16.833Z"
   },
   {
    "duration": 71,
    "start_time": "2021-09-03T13:48:31.042Z"
   },
   {
    "duration": 10,
    "start_time": "2021-09-03T13:50:07.801Z"
   },
   {
    "duration": 39,
    "start_time": "2021-09-03T13:50:11.415Z"
   },
   {
    "duration": 42,
    "start_time": "2021-09-03T13:51:01.589Z"
   },
   {
    "duration": 36,
    "start_time": "2021-09-03T13:53:46.521Z"
   },
   {
    "duration": 6,
    "start_time": "2021-09-03T13:54:11.613Z"
   },
   {
    "duration": 68,
    "start_time": "2021-09-03T13:55:47.700Z"
   },
   {
    "duration": 1366,
    "start_time": "2021-09-03T13:55:57.655Z"
   },
   {
    "duration": 47,
    "start_time": "2021-09-03T13:55:59.024Z"
   },
   {
    "duration": 43,
    "start_time": "2021-09-03T13:55:59.074Z"
   },
   {
    "duration": 68,
    "start_time": "2021-09-03T13:55:59.121Z"
   },
   {
    "duration": 5,
    "start_time": "2021-09-03T13:55:59.192Z"
   },
   {
    "duration": 2736,
    "start_time": "2021-09-03T13:55:59.200Z"
   },
   {
    "duration": -6886502,
    "start_time": "2021-09-03T15:50:48.440Z"
   },
   {
    "duration": -6886524,
    "start_time": "2021-09-03T15:50:48.464Z"
   },
   {
    "duration": -6886527,
    "start_time": "2021-09-03T15:50:48.468Z"
   },
   {
    "duration": -6886527,
    "start_time": "2021-09-03T15:50:48.470Z"
   },
   {
    "duration": -6886529,
    "start_time": "2021-09-03T15:50:48.473Z"
   },
   {
    "duration": 12,
    "start_time": "2021-09-03T13:56:25.704Z"
   },
   {
    "duration": 4,
    "start_time": "2021-09-03T13:56:30.868Z"
   },
   {
    "duration": 55,
    "start_time": "2021-09-03T13:56:30.875Z"
   },
   {
    "duration": 40,
    "start_time": "2021-09-03T13:56:30.933Z"
   },
   {
    "duration": 50,
    "start_time": "2021-09-03T13:56:30.975Z"
   },
   {
    "duration": 4,
    "start_time": "2021-09-03T13:56:31.027Z"
   },
   {
    "duration": 2906,
    "start_time": "2021-09-03T13:56:31.034Z"
   },
   {
    "duration": -6886511,
    "start_time": "2021-09-03T15:51:20.454Z"
   },
   {
    "duration": -6886524,
    "start_time": "2021-09-03T15:51:20.468Z"
   },
   {
    "duration": -6886525,
    "start_time": "2021-09-03T15:51:20.470Z"
   },
   {
    "duration": -6886530,
    "start_time": "2021-09-03T15:51:20.476Z"
   },
   {
    "duration": -6886531,
    "start_time": "2021-09-03T15:51:20.479Z"
   },
   {
    "duration": 12,
    "start_time": "2021-09-03T13:56:42.416Z"
   },
   {
    "duration": 25,
    "start_time": "2021-09-03T13:56:42.431Z"
   },
   {
    "duration": 25,
    "start_time": "2021-09-03T13:56:42.460Z"
   },
   {
    "duration": 64,
    "start_time": "2021-09-03T13:56:42.488Z"
   },
   {
    "duration": 29,
    "start_time": "2021-09-03T13:56:42.555Z"
   },
   {
    "duration": 14,
    "start_time": "2021-09-03T14:41:53.755Z"
   },
   {
    "duration": 282,
    "start_time": "2021-09-03T14:44:04.090Z"
   },
   {
    "duration": 384,
    "start_time": "2021-09-03T14:44:30.639Z"
   },
   {
    "duration": 342,
    "start_time": "2021-09-03T14:44:50.234Z"
   },
   {
    "duration": 294,
    "start_time": "2021-09-03T14:44:54.094Z"
   },
   {
    "duration": -6886525,
    "start_time": "2021-09-03T16:50:02.637Z"
   },
   {
    "duration": -6886531,
    "start_time": "2021-09-03T16:50:02.645Z"
   },
   {
    "duration": -6886530,
    "start_time": "2021-09-03T16:50:02.647Z"
   },
   {
    "duration": -6886530,
    "start_time": "2021-09-03T16:50:02.649Z"
   },
   {
    "duration": -6886530,
    "start_time": "2021-09-03T16:50:02.651Z"
   },
   {
    "duration": -6886529,
    "start_time": "2021-09-03T16:50:02.652Z"
   },
   {
    "duration": -6886528,
    "start_time": "2021-09-03T16:50:02.653Z"
   },
   {
    "duration": -6886542,
    "start_time": "2021-09-03T16:50:02.669Z"
   },
   {
    "duration": -6886548,
    "start_time": "2021-09-03T16:50:02.677Z"
   },
   {
    "duration": -6886547,
    "start_time": "2021-09-03T16:50:02.678Z"
   },
   {
    "duration": -6886552,
    "start_time": "2021-09-03T16:50:02.685Z"
   },
   {
    "duration": -6886503,
    "start_time": "2021-09-03T16:50:02.686Z"
   },
   {
    "duration": 4,
    "start_time": "2021-09-03T15:23:06.403Z"
   },
   {
    "duration": 48,
    "start_time": "2021-09-03T15:23:06.410Z"
   },
   {
    "duration": 41,
    "start_time": "2021-09-03T15:23:06.461Z"
   },
   {
    "duration": 44,
    "start_time": "2021-09-03T15:23:06.505Z"
   },
   {
    "duration": 4,
    "start_time": "2021-09-03T15:23:06.552Z"
   },
   {
    "duration": 2718,
    "start_time": "2021-09-03T15:23:06.558Z"
   },
   {
    "duration": -6886492,
    "start_time": "2021-09-03T17:17:55.771Z"
   },
   {
    "duration": -6886495,
    "start_time": "2021-09-03T17:17:55.775Z"
   },
   {
    "duration": -6886523,
    "start_time": "2021-09-03T17:17:55.805Z"
   },
   {
    "duration": -6886526,
    "start_time": "2021-09-03T17:17:55.809Z"
   },
   {
    "duration": -6886526,
    "start_time": "2021-09-03T17:17:55.811Z"
   },
   {
    "duration": -6886526,
    "start_time": "2021-09-03T17:17:55.813Z"
   },
   {
    "duration": 12,
    "start_time": "2021-09-03T15:23:17.139Z"
   },
   {
    "duration": 24,
    "start_time": "2021-09-03T15:23:17.153Z"
   },
   {
    "duration": 24,
    "start_time": "2021-09-03T15:23:17.180Z"
   },
   {
    "duration": 9,
    "start_time": "2021-09-03T15:23:17.207Z"
   },
   {
    "duration": 334,
    "start_time": "2021-09-03T15:23:17.219Z"
   },
   {
    "duration": 40,
    "start_time": "2021-09-03T15:23:17.556Z"
   },
   {
    "duration": 14,
    "start_time": "2021-09-03T15:24:15.092Z"
   },
   {
    "duration": 1393,
    "start_time": "2021-09-04T05:10:57.848Z"
   },
   {
    "duration": 52,
    "start_time": "2021-09-04T05:10:59.244Z"
   },
   {
    "duration": 43,
    "start_time": "2021-09-04T05:10:59.299Z"
   },
   {
    "duration": 74,
    "start_time": "2021-09-04T05:10:59.345Z"
   },
   {
    "duration": 5,
    "start_time": "2021-09-04T05:10:59.422Z"
   },
   {
    "duration": 2781,
    "start_time": "2021-09-04T05:10:59.430Z"
   },
   {
    "duration": -6886730,
    "start_time": "2021-09-04T07:05:48.945Z"
   },
   {
    "duration": -6886763,
    "start_time": "2021-09-04T07:05:48.979Z"
   },
   {
    "duration": -6886762,
    "start_time": "2021-09-04T07:05:48.981Z"
   },
   {
    "duration": -6886761,
    "start_time": "2021-09-04T07:05:48.982Z"
   },
   {
    "duration": -6886761,
    "start_time": "2021-09-04T07:05:48.984Z"
   },
   {
    "duration": -6886760,
    "start_time": "2021-09-04T07:05:48.985Z"
   },
   {
    "duration": 12,
    "start_time": "2021-09-04T05:11:24.496Z"
   },
   {
    "duration": 24,
    "start_time": "2021-09-04T05:11:24.511Z"
   },
   {
    "duration": 22,
    "start_time": "2021-09-04T05:11:24.539Z"
   },
   {
    "duration": 21,
    "start_time": "2021-09-04T05:11:24.564Z"
   },
   {
    "duration": 302,
    "start_time": "2021-09-04T05:11:24.588Z"
   },
   {
    "duration": 13,
    "start_time": "2021-09-04T05:11:24.892Z"
   },
   {
    "duration": 9654,
    "start_time": "2021-09-04T05:11:31.444Z"
   },
   {
    "duration": 415,
    "start_time": "2021-09-04T05:11:51.084Z"
   },
   {
    "duration": 837,
    "start_time": "2021-09-04T05:12:25.112Z"
   },
   {
    "duration": 1473,
    "start_time": "2021-09-04T05:13:30.784Z"
   },
   {
    "duration": 379,
    "start_time": "2021-09-04T05:16:53.571Z"
   },
   {
    "duration": 39,
    "start_time": "2021-09-04T05:17:22.000Z"
   },
   {
    "duration": 64,
    "start_time": "2021-09-04T05:18:40.831Z"
   },
   {
    "duration": 33,
    "start_time": "2021-09-04T05:19:01.571Z"
   },
   {
    "duration": 5686,
    "start_time": "2021-09-04T05:19:08.620Z"
   },
   {
    "duration": 130,
    "start_time": "2021-09-04T05:19:45.703Z"
   },
   {
    "duration": 128,
    "start_time": "2021-09-04T05:19:57.627Z"
   },
   {
    "duration": 352,
    "start_time": "2021-09-04T05:20:07.267Z"
   },
   {
    "duration": 167,
    "start_time": "2021-09-04T05:20:16.983Z"
   },
   {
    "duration": 354,
    "start_time": "2021-09-04T05:20:21.715Z"
   },
   {
    "duration": 5435,
    "start_time": "2021-09-04T05:20:45.675Z"
   },
   {
    "duration": 7339,
    "start_time": "2021-09-04T05:22:41.671Z"
   },
   {
    "duration": 68,
    "start_time": "2021-09-04T05:23:35.767Z"
   },
   {
    "duration": 18,
    "start_time": "2021-09-04T05:24:44.143Z"
   },
   {
    "duration": 17,
    "start_time": "2021-09-04T05:25:04.319Z"
   },
   {
    "duration": 498,
    "start_time": "2021-09-04T05:25:16.503Z"
   },
   {
    "duration": 212,
    "start_time": "2021-09-04T05:25:24.543Z"
   },
   {
    "duration": 19,
    "start_time": "2021-09-04T05:25:26.521Z"
   },
   {
    "duration": 1054,
    "start_time": "2021-09-04T08:01:31.864Z"
   },
   {
    "duration": 7672,
    "start_time": "2021-09-04T08:01:39.264Z"
   },
   {
    "duration": 1683,
    "start_time": "2021-09-04T08:01:49.548Z"
   },
   {
    "duration": 926,
    "start_time": "2021-09-04T08:02:32.352Z"
   },
   {
    "duration": 1505,
    "start_time": "2021-09-04T08:02:54.644Z"
   },
   {
    "duration": 5580,
    "start_time": "2021-09-04T08:03:03.187Z"
   },
   {
    "duration": 2406,
    "start_time": "2021-09-04T08:03:41.542Z"
   },
   {
    "duration": 425,
    "start_time": "2021-09-04T08:04:09.372Z"
   },
   {
    "duration": 112,
    "start_time": "2021-09-04T08:08:32.027Z"
   },
   {
    "duration": 16,
    "start_time": "2021-09-04T08:08:36.279Z"
   },
   {
    "duration": 112,
    "start_time": "2021-09-04T08:09:45.251Z"
   },
   {
    "duration": 124,
    "start_time": "2021-09-04T08:09:52.007Z"
   },
   {
    "duration": 26,
    "start_time": "2021-09-04T08:09:55.467Z"
   },
   {
    "duration": 1321,
    "start_time": "2021-09-04T08:12:58.923Z"
   },
   {
    "duration": 46,
    "start_time": "2021-09-04T08:13:00.247Z"
   },
   {
    "duration": 40,
    "start_time": "2021-09-04T08:13:00.296Z"
   },
   {
    "duration": 61,
    "start_time": "2021-09-04T08:13:00.340Z"
   },
   {
    "duration": 3,
    "start_time": "2021-09-04T08:13:00.404Z"
   },
   {
    "duration": 2735,
    "start_time": "2021-09-04T08:13:00.410Z"
   },
   {
    "duration": -6886735,
    "start_time": "2021-09-04T10:07:49.883Z"
   },
   {
    "duration": -6886744,
    "start_time": "2021-09-04T10:07:49.894Z"
   },
   {
    "duration": -6886746,
    "start_time": "2021-09-04T10:07:49.898Z"
   },
   {
    "duration": -6886746,
    "start_time": "2021-09-04T10:07:49.900Z"
   },
   {
    "duration": -6886747,
    "start_time": "2021-09-04T10:07:49.903Z"
   },
   {
    "duration": -6886751,
    "start_time": "2021-09-04T10:07:49.909Z"
   },
   {
    "duration": -6886752,
    "start_time": "2021-09-04T10:07:49.912Z"
   },
   {
    "duration": -6886751,
    "start_time": "2021-09-04T10:07:49.914Z"
   },
   {
    "duration": 7,
    "start_time": "2021-09-04T08:13:21.803Z"
   },
   {
    "duration": 28,
    "start_time": "2021-09-04T08:13:39.671Z"
   },
   {
    "duration": 31,
    "start_time": "2021-09-04T08:17:18.855Z"
   },
   {
    "duration": 33,
    "start_time": "2021-09-04T08:17:30.211Z"
   },
   {
    "duration": 32,
    "start_time": "2021-09-04T08:18:07.155Z"
   },
   {
    "duration": 29,
    "start_time": "2021-09-04T08:18:11.662Z"
   },
   {
    "duration": 26,
    "start_time": "2021-09-04T08:18:38.535Z"
   },
   {
    "duration": 13,
    "start_time": "2021-09-04T08:18:50.434Z"
   },
   {
    "duration": 23,
    "start_time": "2021-09-04T08:18:50.450Z"
   },
   {
    "duration": 22,
    "start_time": "2021-09-04T08:18:50.476Z"
   },
   {
    "duration": 13,
    "start_time": "2021-09-04T08:18:50.500Z"
   },
   {
    "duration": 280,
    "start_time": "2021-09-04T08:18:50.515Z"
   },
   {
    "duration": 19,
    "start_time": "2021-09-04T08:18:50.797Z"
   },
   {
    "duration": 15,
    "start_time": "2021-09-04T08:18:50.818Z"
   },
   {
    "duration": 56,
    "start_time": "2021-09-04T08:18:50.836Z"
   },
   {
    "duration": 12,
    "start_time": "2021-09-04T10:19:04.505Z"
   },
   {
    "duration": 8777,
    "start_time": "2021-09-04T10:19:11.181Z"
   },
   {
    "duration": 10,
    "start_time": "2021-09-04T10:19:24.181Z"
   },
   {
    "duration": 9756,
    "start_time": "2021-09-04T10:19:36.637Z"
   },
   {
    "duration": 14,
    "start_time": "2021-09-04T10:20:05.417Z"
   },
   {
    "duration": 15,
    "start_time": "2021-09-04T10:20:20.120Z"
   },
   {
    "duration": 586,
    "start_time": "2021-09-04T10:20:25.016Z"
   },
   {
    "duration": 17,
    "start_time": "2021-09-04T10:20:38.658Z"
   },
   {
    "duration": 484,
    "start_time": "2021-09-04T10:21:19.681Z"
   },
   {
    "duration": 261,
    "start_time": "2021-09-04T10:22:44.136Z"
   },
   {
    "duration": 311,
    "start_time": "2021-09-04T10:22:50.480Z"
   },
   {
    "duration": 393,
    "start_time": "2021-09-04T10:23:05.544Z"
   },
   {
    "duration": 335,
    "start_time": "2021-09-04T10:23:16.700Z"
   },
   {
    "duration": 119,
    "start_time": "2021-09-04T10:23:39.803Z"
   },
   {
    "duration": 329,
    "start_time": "2021-09-04T10:23:45.464Z"
   },
   {
    "duration": 368,
    "start_time": "2021-09-04T10:23:53.004Z"
   },
   {
    "duration": 587,
    "start_time": "2021-09-04T10:24:42.540Z"
   },
   {
    "duration": 382,
    "start_time": "2021-09-04T10:25:29.542Z"
   },
   {
    "duration": 591,
    "start_time": "2021-09-04T10:25:37.660Z"
   },
   {
    "duration": 371,
    "start_time": "2021-09-04T10:25:49.804Z"
   },
   {
    "duration": 684,
    "start_time": "2021-09-04T10:26:03.464Z"
   },
   {
    "duration": 2297,
    "start_time": "2021-09-04T10:28:39.564Z"
   },
   {
    "duration": 1262,
    "start_time": "2021-09-04T10:29:01.276Z"
   },
   {
    "duration": 1452,
    "start_time": "2021-09-04T10:29:16.179Z"
   },
   {
    "duration": 724,
    "start_time": "2021-09-04T10:29:47.304Z"
   },
   {
    "duration": 605,
    "start_time": "2021-09-04T10:29:55.451Z"
   },
   {
    "duration": 1513,
    "start_time": "2021-09-04T10:30:12.484Z"
   },
   {
    "duration": 1615,
    "start_time": "2021-09-04T10:30:24.975Z"
   },
   {
    "duration": 1693,
    "start_time": "2021-09-04T10:30:40.155Z"
   },
   {
    "duration": 1952,
    "start_time": "2021-09-04T10:31:47.843Z"
   },
   {
    "duration": 577,
    "start_time": "2021-09-04T10:33:00.131Z"
   },
   {
    "duration": 1916,
    "start_time": "2021-09-04T10:33:07.107Z"
   },
   {
    "duration": 1548,
    "start_time": "2021-09-04T10:33:59.872Z"
   },
   {
    "duration": 18,
    "start_time": "2021-09-04T10:36:06.639Z"
   },
   {
    "duration": 16,
    "start_time": "2021-09-04T10:36:20.519Z"
   },
   {
    "duration": 74,
    "start_time": "2021-09-04T10:39:37.247Z"
   },
   {
    "duration": 116,
    "start_time": "2021-09-04T10:39:59.056Z"
   },
   {
    "duration": 72,
    "start_time": "2021-09-04T10:40:25.498Z"
   },
   {
    "duration": 76,
    "start_time": "2021-09-04T10:40:32.619Z"
   },
   {
    "duration": 480,
    "start_time": "2021-09-04T10:40:45.142Z"
   },
   {
    "duration": 373,
    "start_time": "2021-09-04T10:40:58.527Z"
   },
   {
    "duration": 348,
    "start_time": "2021-09-04T10:41:10.787Z"
   },
   {
    "duration": 441,
    "start_time": "2021-09-04T10:41:19.859Z"
   },
   {
    "duration": 75,
    "start_time": "2021-09-04T10:41:29.131Z"
   },
   {
    "duration": 118,
    "start_time": "2021-09-04T10:41:32.606Z"
   },
   {
    "duration": 51,
    "start_time": "2021-09-04T10:41:34.490Z"
   },
   {
    "duration": 80,
    "start_time": "2021-09-04T10:41:35.690Z"
   },
   {
    "duration": 1124,
    "start_time": "2021-09-04T10:41:42.886Z"
   },
   {
    "duration": 427,
    "start_time": "2021-09-04T10:41:48.030Z"
   },
   {
    "duration": 51,
    "start_time": "2021-09-04T10:42:42.154Z"
   },
   {
    "duration": 37,
    "start_time": "2021-09-04T10:42:46.192Z"
   },
   {
    "duration": 86,
    "start_time": "2021-09-04T10:42:51.170Z"
   },
   {
    "duration": 81,
    "start_time": "2021-09-04T10:42:57.705Z"
   },
   {
    "duration": 1561,
    "start_time": "2021-09-04T10:43:20.086Z"
   },
   {
    "duration": 76,
    "start_time": "2021-09-04T10:45:05.211Z"
   },
   {
    "duration": 2026,
    "start_time": "2021-09-04T10:45:08.330Z"
   },
   {
    "duration": 3101,
    "start_time": "2021-09-04T10:45:44.014Z"
   },
   {
    "duration": 1490,
    "start_time": "2021-09-04T10:45:53.110Z"
   },
   {
    "duration": 1467,
    "start_time": "2021-09-04T10:46:03.428Z"
   },
   {
    "duration": 1529,
    "start_time": "2021-09-04T10:46:11.646Z"
   },
   {
    "duration": 2443,
    "start_time": "2021-09-04T10:47:29.234Z"
   },
   {
    "duration": 1378,
    "start_time": "2021-09-04T10:47:34.845Z"
   },
   {
    "duration": 385,
    "start_time": "2021-09-04T10:52:24.245Z"
   },
   {
    "duration": 7894,
    "start_time": "2021-09-04T10:52:45.529Z"
   },
   {
    "duration": 1120,
    "start_time": "2021-09-04T10:53:33.083Z"
   },
   {
    "duration": 1118,
    "start_time": "2021-09-04T11:20:24.925Z"
   },
   {
    "duration": 1426,
    "start_time": "2021-09-04T11:21:08.565Z"
   },
   {
    "duration": 1342,
    "start_time": "2021-09-04T11:21:27.732Z"
   },
   {
    "duration": 38,
    "start_time": "2021-09-04T11:22:53.064Z"
   },
   {
    "duration": 1738,
    "start_time": "2021-09-04T11:22:54.445Z"
   },
   {
    "duration": 1919,
    "start_time": "2021-09-04T11:23:23.095Z"
   },
   {
    "duration": 35,
    "start_time": "2021-09-04T11:26:16.756Z"
   },
   {
    "duration": 1299,
    "start_time": "2021-09-04T11:26:17.461Z"
   },
   {
    "duration": 1290,
    "start_time": "2021-09-04T11:26:29.387Z"
   },
   {
    "duration": 355,
    "start_time": "2021-09-04T11:26:47.865Z"
   },
   {
    "duration": 339,
    "start_time": "2021-09-04T11:26:55.880Z"
   },
   {
    "duration": 1391,
    "start_time": "2021-09-04T11:31:10.045Z"
   },
   {
    "duration": 1369,
    "start_time": "2021-09-04T11:31:17.358Z"
   },
   {
    "duration": 1353,
    "start_time": "2021-09-04T11:31:41.436Z"
   },
   {
    "duration": 1831,
    "start_time": "2021-09-04T11:31:54.534Z"
   },
   {
    "duration": 1312,
    "start_time": "2021-09-04T11:32:11.340Z"
   },
   {
    "duration": 1307,
    "start_time": "2021-09-04T11:32:17.636Z"
   },
   {
    "duration": 1367,
    "start_time": "2021-09-04T11:32:22.485Z"
   },
   {
    "duration": 1460,
    "start_time": "2021-09-04T11:32:46.166Z"
   },
   {
    "duration": 1833,
    "start_time": "2021-09-04T11:32:53.737Z"
   },
   {
    "duration": 1703,
    "start_time": "2021-09-04T11:33:39.193Z"
   },
   {
    "duration": 652,
    "start_time": "2021-09-04T11:33:46.932Z"
   },
   {
    "duration": 2250,
    "start_time": "2021-09-04T11:33:51.610Z"
   },
   {
    "duration": 1930,
    "start_time": "2021-09-04T11:34:20.701Z"
   },
   {
    "duration": 1376,
    "start_time": "2021-09-04T11:34:51.084Z"
   },
   {
    "duration": 1744,
    "start_time": "2021-09-04T11:35:21.588Z"
   },
   {
    "duration": 1337,
    "start_time": "2021-09-04T11:36:52.726Z"
   },
   {
    "duration": 1331,
    "start_time": "2021-09-04T11:37:13.532Z"
   },
   {
    "duration": 368,
    "start_time": "2021-09-04T11:39:16.232Z"
   },
   {
    "duration": 989,
    "start_time": "2021-09-04T11:39:46.264Z"
   },
   {
    "duration": 913,
    "start_time": "2021-09-04T11:40:42.991Z"
   },
   {
    "duration": 1166,
    "start_time": "2021-09-04T11:41:01.732Z"
   },
   {
    "duration": 810,
    "start_time": "2021-09-04T11:41:12.963Z"
   },
   {
    "duration": 1363,
    "start_time": "2021-09-04T12:19:07.312Z"
   },
   {
    "duration": 4373,
    "start_time": "2021-09-04T12:19:40.711Z"
   },
   {
    "duration": 1403,
    "start_time": "2021-09-04T12:20:04.902Z"
   },
   {
    "duration": 47,
    "start_time": "2021-09-04T12:20:06.307Z"
   },
   {
    "duration": 54,
    "start_time": "2021-09-04T12:20:06.358Z"
   },
   {
    "duration": 44,
    "start_time": "2021-09-04T12:20:06.415Z"
   },
   {
    "duration": 5,
    "start_time": "2021-09-04T12:20:06.483Z"
   },
   {
    "duration": 2513,
    "start_time": "2021-09-04T12:20:06.490Z"
   },
   {
    "duration": -6886695,
    "start_time": "2021-09-04T14:14:55.702Z"
   },
   {
    "duration": -6886722,
    "start_time": "2021-09-04T14:14:55.731Z"
   },
   {
    "duration": -6886722,
    "start_time": "2021-09-04T14:14:55.733Z"
   },
   {
    "duration": -6886722,
    "start_time": "2021-09-04T14:14:55.735Z"
   },
   {
    "duration": -6886723,
    "start_time": "2021-09-04T14:14:55.739Z"
   },
   {
    "duration": -6886723,
    "start_time": "2021-09-04T14:14:55.741Z"
   },
   {
    "duration": -6886723,
    "start_time": "2021-09-04T14:14:55.743Z"
   },
   {
    "duration": -6886724,
    "start_time": "2021-09-04T14:14:55.746Z"
   },
   {
    "duration": 12,
    "start_time": "2021-09-04T12:20:13.151Z"
   },
   {
    "duration": 23,
    "start_time": "2021-09-04T12:20:13.165Z"
   },
   {
    "duration": 24,
    "start_time": "2021-09-04T12:20:13.192Z"
   },
   {
    "duration": 10,
    "start_time": "2021-09-04T12:20:13.220Z"
   },
   {
    "duration": 3380,
    "start_time": "2021-09-04T12:20:13.233Z"
   },
   {
    "duration": 816,
    "start_time": "2021-09-04T12:20:16.616Z"
   },
   {
    "duration": 1372,
    "start_time": "2021-09-04T12:20:17.434Z"
   },
   {
    "duration": 17,
    "start_time": "2021-09-04T12:20:18.809Z"
   },
   {
    "duration": 796,
    "start_time": "2021-09-04T12:20:52.686Z"
   },
   {
    "duration": 1442,
    "start_time": "2021-09-04T12:20:59.973Z"
   },
   {
    "duration": 50,
    "start_time": "2021-09-04T12:21:01.417Z"
   },
   {
    "duration": 53,
    "start_time": "2021-09-04T12:21:01.471Z"
   },
   {
    "duration": 73,
    "start_time": "2021-09-04T12:21:01.528Z"
   },
   {
    "duration": 5,
    "start_time": "2021-09-04T12:21:01.604Z"
   },
   {
    "duration": 2587,
    "start_time": "2021-09-04T12:21:01.611Z"
   },
   {
    "duration": -6886719,
    "start_time": "2021-09-04T14:15:50.919Z"
   },
   {
    "duration": -6886733,
    "start_time": "2021-09-04T14:15:50.935Z"
   },
   {
    "duration": -6886734,
    "start_time": "2021-09-04T14:15:50.937Z"
   },
   {
    "duration": -6886733,
    "start_time": "2021-09-04T14:15:50.938Z"
   },
   {
    "duration": -6886735,
    "start_time": "2021-09-04T14:15:50.941Z"
   },
   {
    "duration": -6886735,
    "start_time": "2021-09-04T14:15:50.943Z"
   },
   {
    "duration": -6886734,
    "start_time": "2021-09-04T14:15:50.944Z"
   },
   {
    "duration": 12,
    "start_time": "2021-09-04T12:21:08.230Z"
   },
   {
    "duration": 24,
    "start_time": "2021-09-04T12:21:08.245Z"
   },
   {
    "duration": 22,
    "start_time": "2021-09-04T12:21:08.272Z"
   },
   {
    "duration": 14,
    "start_time": "2021-09-04T12:21:08.296Z"
   },
   {
    "duration": 801,
    "start_time": "2021-09-04T12:21:08.312Z"
   },
   {
    "duration": 1416,
    "start_time": "2021-09-04T12:21:09.116Z"
   },
   {
    "duration": 17,
    "start_time": "2021-09-04T12:21:10.535Z"
   },
   {
    "duration": 579,
    "start_time": "2021-09-04T12:21:39.762Z"
   },
   {
    "duration": 573,
    "start_time": "2021-09-04T12:22:27.802Z"
   },
   {
    "duration": 446,
    "start_time": "2021-09-04T12:23:10.478Z"
   },
   {
    "duration": 404,
    "start_time": "2021-09-04T12:23:15.414Z"
   },
   {
    "duration": 414,
    "start_time": "2021-09-04T12:23:21.034Z"
   },
   {
    "duration": 448,
    "start_time": "2021-09-04T12:23:27.176Z"
   },
   {
    "duration": 594,
    "start_time": "2021-09-04T12:24:37.554Z"
   },
   {
    "duration": 37,
    "start_time": "2021-09-04T12:32:11.625Z"
   },
   {
    "duration": 8,
    "start_time": "2021-09-04T12:32:44.800Z"
   },
   {
    "duration": 1413,
    "start_time": "2021-09-04T12:33:01.849Z"
   },
   {
    "duration": 380,
    "start_time": "2021-09-04T12:36:09.921Z"
   },
   {
    "duration": 25,
    "start_time": "2021-09-04T12:41:20.267Z"
   },
   {
    "duration": 359,
    "start_time": "2021-09-04T12:41:48.032Z"
   },
   {
    "duration": 21,
    "start_time": "2021-09-04T12:42:09.291Z"
   },
   {
    "duration": 25,
    "start_time": "2021-09-04T12:42:37.245Z"
   },
   {
    "duration": 30,
    "start_time": "2021-09-04T12:42:52.987Z"
   },
   {
    "duration": 24,
    "start_time": "2021-09-04T12:43:20.027Z"
   },
   {
    "duration": 22,
    "start_time": "2021-09-04T12:43:39.699Z"
   },
   {
    "duration": 36,
    "start_time": "2021-09-04T12:45:48.233Z"
   },
   {
    "duration": 836,
    "start_time": "2021-09-04T12:47:08.931Z"
   },
   {
    "duration": 22,
    "start_time": "2021-09-04T12:47:16.443Z"
   },
   {
    "duration": 780,
    "start_time": "2021-09-04T12:47:17.715Z"
   },
   {
    "duration": 505,
    "start_time": "2021-09-04T12:47:34.499Z"
   },
   {
    "duration": 561,
    "start_time": "2021-09-04T12:47:40.531Z"
   },
   {
    "duration": 517,
    "start_time": "2021-09-04T12:49:48.183Z"
   },
   {
    "duration": 518,
    "start_time": "2021-09-04T12:50:10.667Z"
   },
   {
    "duration": 605,
    "start_time": "2021-09-04T12:52:58.786Z"
   },
   {
    "duration": 24,
    "start_time": "2021-09-04T12:55:56.660Z"
   },
   {
    "duration": 577,
    "start_time": "2021-09-04T12:55:57.858Z"
   },
   {
    "duration": 576,
    "start_time": "2021-09-04T12:56:46.502Z"
   },
   {
    "duration": 908,
    "start_time": "2021-09-04T12:57:15.846Z"
   },
   {
    "duration": 3366,
    "start_time": "2021-09-04T12:57:27.574Z"
   },
   {
    "duration": 874,
    "start_time": "2021-09-04T12:58:33.981Z"
   },
   {
    "duration": 1080,
    "start_time": "2021-09-04T12:58:53.561Z"
   },
   {
    "duration": 971,
    "start_time": "2021-09-04T13:02:02.885Z"
   },
   {
    "duration": 1112,
    "start_time": "2021-09-04T13:03:11.921Z"
   },
   {
    "duration": 978,
    "start_time": "2021-09-04T13:03:24.213Z"
   },
   {
    "duration": 965,
    "start_time": "2021-09-04T13:07:56.913Z"
   },
   {
    "duration": 986,
    "start_time": "2021-09-04T13:08:44.241Z"
   },
   {
    "duration": 37,
    "start_time": "2021-09-04T13:12:55.748Z"
   },
   {
    "duration": 1019,
    "start_time": "2021-09-04T13:13:00.684Z"
   },
   {
    "duration": 1297,
    "start_time": "2021-09-04T13:13:32.088Z"
   },
   {
    "duration": 1097,
    "start_time": "2021-09-04T13:16:16.663Z"
   },
   {
    "duration": 308,
    "start_time": "2021-09-04T13:17:53.639Z"
   },
   {
    "duration": 490,
    "start_time": "2021-09-04T13:18:09.083Z"
   },
   {
    "duration": 40,
    "start_time": "2021-09-04T13:19:01.128Z"
   },
   {
    "duration": 990,
    "start_time": "2021-09-04T13:19:03.475Z"
   },
   {
    "duration": 610,
    "start_time": "2021-09-04T13:19:15.451Z"
   },
   {
    "duration": 871,
    "start_time": "2021-09-04T13:21:45.611Z"
   },
   {
    "duration": 621,
    "start_time": "2021-09-04T13:21:58.455Z"
   },
   {
    "duration": 726,
    "start_time": "2021-09-04T13:22:26.591Z"
   },
   {
    "duration": 816,
    "start_time": "2021-09-04T13:22:53.971Z"
   },
   {
    "duration": 724,
    "start_time": "2021-09-06T10:17:25.110Z"
   },
   {
    "duration": 1765,
    "start_time": "2021-09-06T10:17:33.976Z"
   },
   {
    "duration": 51,
    "start_time": "2021-09-06T10:17:36.574Z"
   },
   {
    "duration": 24,
    "start_time": "2021-09-06T10:17:39.238Z"
   },
   {
    "duration": 358,
    "start_time": "2021-09-06T10:18:04.514Z"
   },
   {
    "duration": 785,
    "start_time": "2021-09-06T10:19:12.250Z"
   },
   {
    "duration": 685,
    "start_time": "2021-09-06T10:19:30.561Z"
   },
   {
    "duration": 2521,
    "start_time": "2021-09-06T10:19:38.020Z"
   },
   {
    "duration": 11092,
    "start_time": "2021-09-06T10:19:59.004Z"
   },
   {
    "duration": 1568,
    "start_time": "2021-09-06T10:20:25.779Z"
   },
   {
    "duration": 58,
    "start_time": "2021-09-06T10:20:27.350Z"
   },
   {
    "duration": 42,
    "start_time": "2021-09-06T10:20:27.411Z"
   },
   {
    "duration": 50,
    "start_time": "2021-09-06T10:20:27.469Z"
   },
   {
    "duration": 3,
    "start_time": "2021-09-06T10:20:27.521Z"
   },
   {
    "duration": 2724,
    "start_time": "2021-09-06T10:20:27.526Z"
   },
   {
    "duration": -6886238,
    "start_time": "2021-09-06T12:15:16.492Z"
   },
   {
    "duration": -6886261,
    "start_time": "2021-09-06T12:15:16.517Z"
   },
   {
    "duration": -6886262,
    "start_time": "2021-09-06T12:15:16.519Z"
   },
   {
    "duration": -6886261,
    "start_time": "2021-09-06T12:15:16.520Z"
   },
   {
    "duration": -6886262,
    "start_time": "2021-09-06T12:15:16.522Z"
   },
   {
    "duration": -6886264,
    "start_time": "2021-09-06T12:15:16.525Z"
   },
   {
    "duration": -6886263,
    "start_time": "2021-09-06T12:15:16.526Z"
   },
   {
    "duration": -6886263,
    "start_time": "2021-09-06T12:15:16.527Z"
   },
   {
    "duration": -6886263,
    "start_time": "2021-09-06T12:15:16.529Z"
   },
   {
    "duration": -6886263,
    "start_time": "2021-09-06T12:15:16.530Z"
   },
   {
    "duration": -6886262,
    "start_time": "2021-09-06T12:15:16.531Z"
   },
   {
    "duration": -6886262,
    "start_time": "2021-09-06T12:15:16.532Z"
   },
   {
    "duration": 13,
    "start_time": "2021-09-06T10:21:17.789Z"
   },
   {
    "duration": 25,
    "start_time": "2021-09-06T10:21:17.805Z"
   },
   {
    "duration": 25,
    "start_time": "2021-09-06T10:21:17.833Z"
   },
   {
    "duration": 12,
    "start_time": "2021-09-06T10:21:17.869Z"
   },
   {
    "duration": 659,
    "start_time": "2021-09-06T10:21:17.885Z"
   },
   {
    "duration": -6886267,
    "start_time": "2021-09-06T12:16:04.813Z"
   },
   {
    "duration": -6886268,
    "start_time": "2021-09-06T12:16:04.816Z"
   },
   {
    "duration": -6886268,
    "start_time": "2021-09-06T12:16:04.818Z"
   },
   {
    "duration": -6886253,
    "start_time": "2021-09-06T12:16:04.820Z"
   },
   {
    "duration": -6886252,
    "start_time": "2021-09-06T12:16:04.821Z"
   },
   {
    "duration": -6886251,
    "start_time": "2021-09-06T12:16:04.823Z"
   },
   {
    "duration": -6886250,
    "start_time": "2021-09-06T12:16:04.824Z"
   },
   {
    "duration": 649,
    "start_time": "2021-09-06T10:21:31.905Z"
   },
   {
    "duration": 659,
    "start_time": "2021-09-06T10:21:51.094Z"
   },
   {
    "duration": 644,
    "start_time": "2021-09-06T10:21:58.245Z"
   },
   {
    "duration": 464,
    "start_time": "2021-09-06T10:22:14.070Z"
   },
   {
    "duration": 1429,
    "start_time": "2021-09-06T10:22:38.674Z"
   },
   {
    "duration": 17,
    "start_time": "2021-09-06T10:22:44.889Z"
   },
   {
    "duration": 39,
    "start_time": "2021-09-06T10:22:47.001Z"
   },
   {
    "duration": 983,
    "start_time": "2021-09-06T10:22:48.661Z"
   },
   {
    "duration": 474,
    "start_time": "2021-09-06T10:22:52.873Z"
   },
   {
    "duration": 395,
    "start_time": "2021-09-06T10:22:57.027Z"
   },
   {
    "duration": 376,
    "start_time": "2021-09-06T10:23:17.357Z"
   },
   {
    "duration": 368,
    "start_time": "2021-09-06T10:23:22.981Z"
   },
   {
    "duration": 731,
    "start_time": "2021-09-06T10:32:19.572Z"
   },
   {
    "duration": 987,
    "start_time": "2021-09-06T10:32:56.243Z"
   },
   {
    "duration": 351,
    "start_time": "2021-09-06T10:33:18.776Z"
   },
   {
    "duration": 407,
    "start_time": "2021-09-06T10:33:31.292Z"
   },
   {
    "duration": 359,
    "start_time": "2021-09-06T10:34:30.744Z"
   },
   {
    "duration": 699,
    "start_time": "2021-09-06T10:35:02.104Z"
   },
   {
    "duration": 726,
    "start_time": "2021-09-06T10:35:30.932Z"
   },
   {
    "duration": 783,
    "start_time": "2021-09-06T10:35:37.588Z"
   },
   {
    "duration": 679,
    "start_time": "2021-09-06T10:36:01.400Z"
   },
   {
    "duration": 770,
    "start_time": "2021-09-06T10:36:06.722Z"
   },
   {
    "duration": 695,
    "start_time": "2021-09-06T10:36:11.427Z"
   },
   {
    "duration": 385,
    "start_time": "2021-09-06T10:38:05.459Z"
   },
   {
    "duration": 545,
    "start_time": "2021-09-06T10:38:11.335Z"
   },
   {
    "duration": 695,
    "start_time": "2021-09-06T10:38:25.107Z"
   },
   {
    "duration": 789,
    "start_time": "2021-09-06T10:38:30.185Z"
   },
   {
    "duration": 33,
    "start_time": "2021-09-06T13:50:08.351Z"
   },
   {
    "duration": 3,
    "start_time": "2021-09-06T13:52:31.659Z"
   },
   {
    "duration": 12,
    "start_time": "2021-09-06T13:53:15.947Z"
   },
   {
    "duration": 10,
    "start_time": "2021-09-06T13:58:36.578Z"
   },
   {
    "duration": 1756,
    "start_time": "2021-09-06T14:26:18.219Z"
   },
   {
    "duration": 52,
    "start_time": "2021-09-06T14:26:19.978Z"
   },
   {
    "duration": 49,
    "start_time": "2021-09-06T14:26:20.033Z"
   },
   {
    "duration": 61,
    "start_time": "2021-09-06T14:26:20.086Z"
   },
   {
    "duration": 4,
    "start_time": "2021-09-06T14:26:20.150Z"
   },
   {
    "duration": 37,
    "start_time": "2021-09-06T14:26:20.157Z"
   },
   {
    "duration": 3,
    "start_time": "2021-09-06T14:26:20.196Z"
   },
   {
    "duration": 17,
    "start_time": "2021-09-06T14:26:20.203Z"
   },
   {
    "duration": 23,
    "start_time": "2021-09-06T14:26:20.224Z"
   },
   {
    "duration": 12,
    "start_time": "2021-09-06T14:26:20.250Z"
   },
   {
    "duration": 14,
    "start_time": "2021-09-06T14:26:20.264Z"
   },
   {
    "duration": 27,
    "start_time": "2021-09-06T14:26:20.281Z"
   },
   {
    "duration": 9,
    "start_time": "2021-09-06T14:26:20.310Z"
   },
   {
    "duration": 956,
    "start_time": "2021-09-06T14:26:20.321Z"
   },
   {
    "duration": -6886254,
    "start_time": "2021-09-06T16:21:07.534Z"
   },
   {
    "duration": -6886257,
    "start_time": "2021-09-06T16:21:07.539Z"
   },
   {
    "duration": -6886259,
    "start_time": "2021-09-06T16:21:07.543Z"
   },
   {
    "duration": -6886260,
    "start_time": "2021-09-06T16:21:07.546Z"
   },
   {
    "duration": -6886262,
    "start_time": "2021-09-06T16:21:07.549Z"
   },
   {
    "duration": -6886262,
    "start_time": "2021-09-06T16:21:07.551Z"
   },
   {
    "duration": -6886264,
    "start_time": "2021-09-06T16:21:07.554Z"
   },
   {
    "duration": -6886265,
    "start_time": "2021-09-06T16:21:07.556Z"
   },
   {
    "duration": -6886264,
    "start_time": "2021-09-06T16:21:07.557Z"
   },
   {
    "duration": 464,
    "start_time": "2021-09-06T14:27:20.876Z"
   },
   {
    "duration": 489,
    "start_time": "2021-09-06T14:27:38.276Z"
   },
   {
    "duration": 1542,
    "start_time": "2021-09-06T14:27:54.268Z"
   },
   {
    "duration": 21,
    "start_time": "2021-09-06T14:27:58.660Z"
   },
   {
    "duration": 57,
    "start_time": "2021-09-06T14:28:00.105Z"
   },
   {
    "duration": 1150,
    "start_time": "2021-09-06T14:28:01.740Z"
   },
   {
    "duration": 781,
    "start_time": "2021-09-06T14:28:04.827Z"
   },
   {
    "duration": 465,
    "start_time": "2021-09-06T14:28:06.560Z"
   },
   {
    "duration": 660,
    "start_time": "2021-09-06T14:28:10.987Z"
   },
   {
    "duration": 704,
    "start_time": "2021-09-06T14:28:13.368Z"
   },
   {
    "duration": 527,
    "start_time": "2021-09-06T14:29:28.056Z"
   },
   {
    "duration": 483,
    "start_time": "2021-09-06T14:29:41.844Z"
   },
   {
    "duration": 508,
    "start_time": "2021-09-06T14:29:46.027Z"
   },
   {
    "duration": 464,
    "start_time": "2021-09-06T14:30:12.460Z"
   },
   {
    "duration": 536,
    "start_time": "2021-09-06T14:30:35.340Z"
   },
   {
    "duration": 498,
    "start_time": "2021-09-06T14:31:07.928Z"
   },
   {
    "duration": 605,
    "start_time": "2021-09-06T14:31:24.420Z"
   },
   {
    "duration": 437,
    "start_time": "2021-09-06T14:34:16.432Z"
   },
   {
    "duration": 50,
    "start_time": "2021-09-06T14:38:04.799Z"
   },
   {
    "duration": 446,
    "start_time": "2021-09-06T14:40:32.311Z"
   },
   {
    "duration": 1273,
    "start_time": "2021-09-06T14:40:43.247Z"
   },
   {
    "duration": 1290,
    "start_time": "2021-09-06T14:41:54.912Z"
   },
   {
    "duration": 1220,
    "start_time": "2021-09-06T14:42:28.835Z"
   },
   {
    "duration": 1398,
    "start_time": "2021-09-06T14:43:19.819Z"
   },
   {
    "duration": 1269,
    "start_time": "2021-09-06T14:43:26.735Z"
   },
   {
    "duration": 1217,
    "start_time": "2021-09-06T14:49:46.094Z"
   },
   {
    "duration": 1264,
    "start_time": "2021-09-06T14:50:14.358Z"
   },
   {
    "duration": 1562,
    "start_time": "2021-09-06T14:51:30.494Z"
   },
   {
    "duration": 501,
    "start_time": "2021-09-06T14:58:35.556Z"
   },
   {
    "duration": 444,
    "start_time": "2021-09-06T14:58:41.160Z"
   },
   {
    "duration": 412,
    "start_time": "2021-09-06T15:01:51.972Z"
   },
   {
    "duration": 345,
    "start_time": "2021-09-06T15:02:34.155Z"
   },
   {
    "duration": 407,
    "start_time": "2021-09-06T15:02:55.451Z"
   },
   {
    "duration": 376,
    "start_time": "2021-09-06T15:02:59.407Z"
   },
   {
    "duration": 380,
    "start_time": "2021-09-06T15:03:18.007Z"
   },
   {
    "duration": 696,
    "start_time": "2021-09-06T15:03:25.031Z"
   },
   {
    "duration": 358,
    "start_time": "2021-09-06T15:03:30.535Z"
   },
   {
    "duration": 533,
    "start_time": "2021-09-06T15:03:42.155Z"
   },
   {
    "duration": 343,
    "start_time": "2021-09-06T15:03:57.854Z"
   },
   {
    "duration": 519,
    "start_time": "2021-09-06T15:04:09.382Z"
   },
   {
    "duration": 530,
    "start_time": "2021-09-06T15:13:48.513Z"
   },
   {
    "duration": 10,
    "start_time": "2021-09-06T15:13:53.417Z"
   },
   {
    "duration": 13,
    "start_time": "2021-09-06T15:15:42.097Z"
   },
   {
    "duration": 481,
    "start_time": "2021-09-06T15:15:46.161Z"
   },
   {
    "duration": 976,
    "start_time": "2021-09-06T15:15:54.065Z"
   },
   {
    "duration": 12,
    "start_time": "2021-09-06T15:16:29.693Z"
   },
   {
    "duration": 52,
    "start_time": "2021-09-06T15:16:31.589Z"
   },
   {
    "duration": 959,
    "start_time": "2021-09-06T15:16:33.049Z"
   },
   {
    "duration": 427,
    "start_time": "2021-09-06T15:16:36.877Z"
   },
   {
    "duration": 9,
    "start_time": "2021-09-06T15:16:42.925Z"
   },
   {
    "duration": 538,
    "start_time": "2021-09-06T15:16:45.357Z"
   },
   {
    "duration": 498,
    "start_time": "2021-09-06T15:16:52.333Z"
   },
   {
    "duration": 1463,
    "start_time": "2021-09-07T09:54:54.768Z"
   },
   {
    "duration": 43,
    "start_time": "2021-09-07T09:54:56.234Z"
   },
   {
    "duration": 42,
    "start_time": "2021-09-07T09:54:56.280Z"
   },
   {
    "duration": 61,
    "start_time": "2021-09-07T09:54:56.325Z"
   },
   {
    "duration": 5,
    "start_time": "2021-09-07T09:54:56.388Z"
   },
   {
    "duration": 35,
    "start_time": "2021-09-07T09:54:56.396Z"
   },
   {
    "duration": 2,
    "start_time": "2021-09-07T09:54:56.434Z"
   },
   {
    "duration": 13,
    "start_time": "2021-09-07T09:54:56.440Z"
   },
   {
    "duration": 43,
    "start_time": "2021-09-07T09:54:56.456Z"
   },
   {
    "duration": 1262,
    "start_time": "2021-09-07T09:54:56.501Z"
   },
   {
    "duration": 7,
    "start_time": "2021-09-07T09:54:57.765Z"
   },
   {
    "duration": 26,
    "start_time": "2021-09-07T09:54:57.783Z"
   },
   {
    "duration": 11,
    "start_time": "2021-09-07T09:54:57.812Z"
   },
   {
    "duration": 486,
    "start_time": "2021-09-07T09:54:57.825Z"
   },
   {
    "duration": 1343,
    "start_time": "2021-09-07T09:54:58.314Z"
   },
   {
    "duration": 32,
    "start_time": "2021-09-07T09:54:59.660Z"
   },
   {
    "duration": 41,
    "start_time": "2021-09-07T09:54:59.694Z"
   },
   {
    "duration": 948,
    "start_time": "2021-09-07T09:54:59.738Z"
   },
   {
    "duration": 414,
    "start_time": "2021-09-07T09:55:00.689Z"
   },
   {
    "duration": 686,
    "start_time": "2021-09-07T09:55:01.106Z"
   },
   {
    "duration": 819,
    "start_time": "2021-09-07T09:55:01.795Z"
   },
   {
    "duration": 866,
    "start_time": "2021-09-07T09:55:02.616Z"
   },
   {
    "duration": 6,
    "start_time": "2021-09-07T10:12:44.259Z"
   },
   {
    "duration": 136,
    "start_time": "2021-09-07T10:24:39.837Z"
   },
   {
    "duration": 457,
    "start_time": "2021-09-07T10:33:21.880Z"
   },
   {
    "duration": 47,
    "start_time": "2021-09-07T10:33:28.884Z"
   },
   {
    "duration": 11,
    "start_time": "2021-09-07T10:33:52.815Z"
   },
   {
    "duration": 22,
    "start_time": "2021-09-07T10:34:13.728Z"
   },
   {
    "duration": 43,
    "start_time": "2021-09-07T10:34:20.312Z"
   },
   {
    "duration": 6,
    "start_time": "2021-09-07T10:34:26.087Z"
   },
   {
    "duration": 357,
    "start_time": "2021-09-07T10:34:41.992Z"
   },
   {
    "duration": 8,
    "start_time": "2021-09-07T10:37:41.283Z"
   },
   {
    "duration": 1156,
    "start_time": "2021-09-07T10:38:11.103Z"
   },
   {
    "duration": 373,
    "start_time": "2021-09-07T10:38:28.691Z"
   },
   {
    "duration": 8,
    "start_time": "2021-09-07T10:38:34.623Z"
   },
   {
    "duration": 10,
    "start_time": "2021-09-07T10:39:22.561Z"
   },
   {
    "duration": 8,
    "start_time": "2021-09-07T10:39:45.827Z"
   },
   {
    "duration": 10,
    "start_time": "2021-09-07T10:39:50.155Z"
   },
   {
    "duration": 9,
    "start_time": "2021-09-07T11:57:38.046Z"
   },
   {
    "duration": 11,
    "start_time": "2021-09-07T11:59:16.569Z"
   },
   {
    "duration": 8,
    "start_time": "2021-09-07T11:59:23.110Z"
   },
   {
    "duration": 10,
    "start_time": "2021-09-07T12:01:58.629Z"
   },
   {
    "duration": 11,
    "start_time": "2021-09-07T12:02:28.899Z"
   },
   {
    "duration": 10,
    "start_time": "2021-09-07T12:02:40.325Z"
   },
   {
    "duration": 9,
    "start_time": "2021-09-07T12:04:05.989Z"
   },
   {
    "duration": 7,
    "start_time": "2021-09-07T12:04:25.261Z"
   },
   {
    "duration": 445,
    "start_time": "2021-09-07T12:05:55.617Z"
   },
   {
    "duration": 363,
    "start_time": "2021-09-07T12:06:11.309Z"
   },
   {
    "duration": 733,
    "start_time": "2021-09-07T12:06:26.162Z"
   },
   {
    "duration": 1056,
    "start_time": "2021-09-07T12:06:58.400Z"
   },
   {
    "duration": 636,
    "start_time": "2021-09-07T12:07:13.948Z"
   },
   {
    "duration": 223,
    "start_time": "2021-09-07T12:07:20.149Z"
   },
   {
    "duration": 289,
    "start_time": "2021-09-07T12:07:29.533Z"
   },
   {
    "duration": 230,
    "start_time": "2021-09-07T12:07:38.302Z"
   },
   {
    "duration": 37,
    "start_time": "2021-09-07T12:07:59.137Z"
   },
   {
    "duration": 1398,
    "start_time": "2021-09-07T12:08:42.069Z"
   },
   {
    "duration": 597,
    "start_time": "2021-09-07T12:08:55.333Z"
   },
   {
    "duration": 57,
    "start_time": "2021-09-07T12:09:31.749Z"
   },
   {
    "duration": 53,
    "start_time": "2021-09-07T12:09:43.637Z"
   },
   {
    "duration": 58,
    "start_time": "2021-09-07T12:10:14.168Z"
   },
   {
    "duration": 57,
    "start_time": "2021-09-07T12:10:32.162Z"
   },
   {
    "duration": 974,
    "start_time": "2021-09-07T12:11:51.684Z"
   },
   {
    "duration": 643,
    "start_time": "2021-09-07T12:12:01.513Z"
   },
   {
    "duration": 588,
    "start_time": "2021-09-07T12:12:21.548Z"
   },
   {
    "duration": 650,
    "start_time": "2021-09-07T12:15:07.964Z"
   },
   {
    "duration": 22,
    "start_time": "2021-09-07T12:15:16.688Z"
   },
   {
    "duration": 27,
    "start_time": "2021-09-07T12:15:20.240Z"
   },
   {
    "duration": 30,
    "start_time": "2021-09-07T12:15:57.211Z"
   },
   {
    "duration": 56,
    "start_time": "2021-09-07T12:16:04.779Z"
   },
   {
    "duration": 864,
    "start_time": "2021-09-07T12:16:29.899Z"
   },
   {
    "duration": 693,
    "start_time": "2021-09-07T12:16:43.712Z"
   },
   {
    "duration": 683,
    "start_time": "2021-09-07T12:16:52.475Z"
   },
   {
    "duration": 622,
    "start_time": "2021-09-07T12:16:57.567Z"
   },
   {
    "duration": 638,
    "start_time": "2021-09-07T12:17:07.847Z"
   },
   {
    "duration": 13,
    "start_time": "2021-09-07T12:17:45.471Z"
   },
   {
    "duration": 13,
    "start_time": "2021-09-07T12:18:37.436Z"
   },
   {
    "duration": 14,
    "start_time": "2021-09-07T12:18:43.147Z"
   },
   {
    "duration": 674,
    "start_time": "2021-09-07T12:21:50.557Z"
   },
   {
    "duration": 6,
    "start_time": "2021-09-07T12:30:01.786Z"
   },
   {
    "duration": 38,
    "start_time": "2021-09-07T12:32:23.094Z"
   },
   {
    "duration": 792,
    "start_time": "2021-09-07T12:32:41.226Z"
   },
   {
    "duration": 654,
    "start_time": "2021-09-07T12:33:43.277Z"
   },
   {
    "duration": 348,
    "start_time": "2021-09-07T12:34:23.121Z"
   },
   {
    "duration": 667,
    "start_time": "2021-09-07T12:34:43.357Z"
   },
   {
    "duration": 357,
    "start_time": "2021-09-07T12:34:54.410Z"
   },
   {
    "duration": 135,
    "start_time": "2021-09-07T12:35:05.273Z"
   },
   {
    "duration": 137,
    "start_time": "2021-09-07T12:35:14.116Z"
   },
   {
    "duration": 499,
    "start_time": "2021-09-07T12:35:20.189Z"
   },
   {
    "duration": 497,
    "start_time": "2021-09-07T12:35:40.849Z"
   },
   {
    "duration": 2508,
    "start_time": "2021-09-07T12:36:03.600Z"
   },
   {
    "duration": 526,
    "start_time": "2021-09-07T12:36:12.775Z"
   },
   {
    "duration": 735,
    "start_time": "2021-09-07T12:36:17.225Z"
   },
   {
    "duration": 673,
    "start_time": "2021-09-07T12:36:35.069Z"
   },
   {
    "duration": 823,
    "start_time": "2021-09-07T12:38:19.935Z"
   },
   {
    "duration": 652,
    "start_time": "2021-09-07T12:38:45.105Z"
   },
   {
    "duration": 545,
    "start_time": "2021-09-07T13:07:58.134Z"
   },
   {
    "duration": 34,
    "start_time": "2021-09-07T13:08:57.605Z"
   },
   {
    "duration": 568,
    "start_time": "2021-09-07T13:09:05.945Z"
   },
   {
    "duration": 728,
    "start_time": "2021-09-07T13:09:16.269Z"
   },
   {
    "duration": 583,
    "start_time": "2021-09-07T13:09:58.339Z"
   },
   {
    "duration": 38,
    "start_time": "2021-09-07T13:10:13.361Z"
   },
   {
    "duration": 861,
    "start_time": "2021-09-07T13:10:15.109Z"
   },
   {
    "duration": 693,
    "start_time": "2021-09-07T13:10:46.485Z"
   },
   {
    "duration": 988,
    "start_time": "2021-09-07T13:13:58.652Z"
   },
   {
    "duration": 1058,
    "start_time": "2021-09-07T13:14:13.170Z"
   },
   {
    "duration": 656,
    "start_time": "2021-09-07T13:19:09.588Z"
   },
   {
    "duration": 17,
    "start_time": "2021-09-07T13:24:25.883Z"
   },
   {
    "duration": 15,
    "start_time": "2021-09-07T13:24:33.291Z"
   },
   {
    "duration": 11,
    "start_time": "2021-09-07T13:24:40.823Z"
   },
   {
    "duration": 15,
    "start_time": "2021-09-07T13:24:44.645Z"
   },
   {
    "duration": 12,
    "start_time": "2021-09-07T13:24:58.395Z"
   },
   {
    "duration": 629,
    "start_time": "2021-09-07T13:26:31.175Z"
   },
   {
    "duration": 683,
    "start_time": "2021-09-07T13:27:09.252Z"
   },
   {
    "duration": 8717,
    "start_time": "2021-09-07T13:28:08.999Z"
   },
   {
    "duration": 672,
    "start_time": "2021-09-07T13:29:19.803Z"
   },
   {
    "duration": 1127,
    "start_time": "2021-09-07T13:29:29.855Z"
   },
   {
    "duration": 2795,
    "start_time": "2021-09-07T13:30:34.494Z"
   },
   {
    "duration": 676,
    "start_time": "2021-09-07T13:31:08.486Z"
   },
   {
    "duration": 322,
    "start_time": "2021-09-07T13:35:38.222Z"
   },
   {
    "duration": 364,
    "start_time": "2021-09-07T13:36:39.226Z"
   },
   {
    "duration": 353,
    "start_time": "2021-09-07T13:36:55.610Z"
   },
   {
    "duration": 388,
    "start_time": "2021-09-07T13:37:09.413Z"
   },
   {
    "duration": 607,
    "start_time": "2021-09-07T13:37:17.934Z"
   },
   {
    "duration": 1171,
    "start_time": "2021-09-07T13:39:39.666Z"
   },
   {
    "duration": 1686,
    "start_time": "2021-09-07T13:41:30.576Z"
   },
   {
    "duration": 330,
    "start_time": "2021-09-07T13:41:34.282Z"
   },
   {
    "duration": 37,
    "start_time": "2021-09-07T13:44:53.544Z"
   },
   {
    "duration": 568,
    "start_time": "2021-09-07T13:46:04.467Z"
   },
   {
    "duration": 436,
    "start_time": "2021-09-07T13:46:30.596Z"
   },
   {
    "duration": 356,
    "start_time": "2021-09-07T13:46:33.089Z"
   },
   {
    "duration": 309,
    "start_time": "2021-09-07T13:46:56.813Z"
   },
   {
    "duration": 644,
    "start_time": "2021-09-07T13:47:08.129Z"
   },
   {
    "duration": 35,
    "start_time": "2021-09-07T13:48:28.617Z"
   },
   {
    "duration": 596,
    "start_time": "2021-09-07T13:48:48.861Z"
   },
   {
    "duration": 713,
    "start_time": "2021-09-07T13:48:57.737Z"
   },
   {
    "duration": 301,
    "start_time": "2021-09-07T13:50:08.873Z"
   },
   {
    "duration": 275,
    "start_time": "2021-09-07T13:50:58.321Z"
   },
   {
    "duration": 41,
    "start_time": "2021-09-07T13:51:08.425Z"
   },
   {
    "duration": 426,
    "start_time": "2021-09-07T13:51:12.201Z"
   },
   {
    "duration": 416,
    "start_time": "2021-09-07T13:54:31.009Z"
   },
   {
    "duration": 880,
    "start_time": "2021-09-07T13:55:59.714Z"
   },
   {
    "duration": 614,
    "start_time": "2021-09-07T13:56:08.968Z"
   },
   {
    "duration": 510,
    "start_time": "2021-09-07T13:56:26.540Z"
   },
   {
    "duration": 2011,
    "start_time": "2021-09-07T13:57:07.241Z"
   },
   {
    "duration": 7,
    "start_time": "2021-09-07T13:59:02.456Z"
   },
   {
    "duration": 26,
    "start_time": "2021-09-07T13:59:07.920Z"
   },
   {
    "duration": 9,
    "start_time": "2021-09-07T13:59:30.070Z"
   },
   {
    "duration": 14,
    "start_time": "2021-09-07T14:00:37.602Z"
   },
   {
    "duration": 239,
    "start_time": "2021-09-07T14:00:51.488Z"
   },
   {
    "duration": 14,
    "start_time": "2021-09-07T14:01:09.603Z"
   },
   {
    "duration": 2179,
    "start_time": "2021-09-07T14:01:28.243Z"
   },
   {
    "duration": 35,
    "start_time": "2021-09-07T14:07:01.387Z"
   },
   {
    "duration": 455,
    "start_time": "2021-09-07T14:07:20.609Z"
   },
   {
    "duration": 284,
    "start_time": "2021-09-07T14:07:25.707Z"
   },
   {
    "duration": 693,
    "start_time": "2021-09-07T14:07:40.451Z"
   },
   {
    "duration": 314,
    "start_time": "2021-09-07T14:08:13.611Z"
   },
   {
    "duration": 285,
    "start_time": "2021-09-07T14:08:18.402Z"
   },
   {
    "duration": 309,
    "start_time": "2021-09-07T14:08:22.686Z"
   },
   {
    "duration": 923,
    "start_time": "2021-09-07T14:08:40.871Z"
   },
   {
    "duration": 47,
    "start_time": "2021-09-07T14:08:47.069Z"
   },
   {
    "duration": 26,
    "start_time": "2021-09-07T14:09:25.483Z"
   },
   {
    "duration": 30,
    "start_time": "2021-09-07T14:09:35.546Z"
   },
   {
    "duration": 28,
    "start_time": "2021-09-07T14:09:46.396Z"
   },
   {
    "duration": 8,
    "start_time": "2021-09-07T14:10:30.930Z"
   },
   {
    "duration": 34,
    "start_time": "2021-09-07T14:10:34.178Z"
   },
   {
    "duration": 408,
    "start_time": "2021-09-07T14:12:48.706Z"
   },
   {
    "duration": 395,
    "start_time": "2021-09-07T14:12:58.390Z"
   },
   {
    "duration": 676,
    "start_time": "2021-09-07T14:13:48.170Z"
   },
   {
    "duration": 345,
    "start_time": "2021-09-07T14:14:55.830Z"
   },
   {
    "duration": 320,
    "start_time": "2021-09-07T14:15:02.114Z"
   },
   {
    "duration": 301,
    "start_time": "2021-09-07T14:15:07.394Z"
   },
   {
    "duration": 946,
    "start_time": "2021-09-07T14:15:14.362Z"
   },
   {
    "duration": 342,
    "start_time": "2021-09-07T14:15:27.250Z"
   },
   {
    "duration": 371,
    "start_time": "2021-09-07T14:16:20.245Z"
   },
   {
    "duration": 35,
    "start_time": "2021-09-07T14:16:38.254Z"
   },
   {
    "duration": 30,
    "start_time": "2021-09-07T14:19:31.257Z"
   },
   {
    "duration": 8,
    "start_time": "2021-09-07T14:19:38.253Z"
   },
   {
    "duration": 31,
    "start_time": "2021-09-07T14:19:39.105Z"
   },
   {
    "duration": 287,
    "start_time": "2021-09-07T14:20:03.363Z"
   },
   {
    "duration": 410,
    "start_time": "2021-09-07T14:20:20.713Z"
   },
   {
    "duration": 415,
    "start_time": "2021-09-07T14:21:09.765Z"
   },
   {
    "duration": 711,
    "start_time": "2021-09-07T14:21:29.771Z"
   },
   {
    "duration": 596,
    "start_time": "2021-09-07T14:21:34.493Z"
   },
   {
    "duration": 491,
    "start_time": "2021-09-07T14:21:57.595Z"
   },
   {
    "duration": 359,
    "start_time": "2021-09-07T14:22:28.513Z"
   },
   {
    "duration": 485,
    "start_time": "2021-09-07T14:22:37.909Z"
   },
   {
    "duration": 7,
    "start_time": "2021-09-07T14:56:37.177Z"
   },
   {
    "duration": 467,
    "start_time": "2021-09-07T14:56:38.100Z"
   },
   {
    "duration": 284,
    "start_time": "2021-09-07T18:13:01.153Z"
   },
   {
    "duration": 1113,
    "start_time": "2021-09-07T18:13:09.734Z"
   },
   {
    "duration": 37,
    "start_time": "2021-09-07T18:13:10.849Z"
   },
   {
    "duration": 27,
    "start_time": "2021-09-07T18:13:10.888Z"
   },
   {
    "duration": 26,
    "start_time": "2021-09-07T18:13:10.917Z"
   },
   {
    "duration": 3,
    "start_time": "2021-09-07T18:13:10.944Z"
   },
   {
    "duration": 24,
    "start_time": "2021-09-07T18:13:10.949Z"
   },
   {
    "duration": 16,
    "start_time": "2021-09-07T18:13:10.975Z"
   },
   {
    "duration": 8,
    "start_time": "2021-09-07T18:13:10.993Z"
   },
   {
    "duration": 21,
    "start_time": "2021-09-07T18:13:11.004Z"
   },
   {
    "duration": 759,
    "start_time": "2021-09-07T18:13:11.027Z"
   },
   {
    "duration": 4,
    "start_time": "2021-09-07T18:13:11.791Z"
   },
   {
    "duration": 7,
    "start_time": "2021-09-07T18:13:11.796Z"
   },
   {
    "duration": 16,
    "start_time": "2021-09-07T18:13:11.804Z"
   },
   {
    "duration": 279,
    "start_time": "2021-09-07T18:13:11.821Z"
   },
   {
    "duration": 836,
    "start_time": "2021-09-07T18:13:12.101Z"
   },
   {
    "duration": 8,
    "start_time": "2021-09-07T18:13:12.938Z"
   },
   {
    "duration": 12,
    "start_time": "2021-09-07T18:13:12.947Z"
   },
   {
    "duration": 492,
    "start_time": "2021-09-07T18:13:12.961Z"
   },
   {
    "duration": 8,
    "start_time": "2021-09-07T18:13:13.456Z"
   },
   {
    "duration": 11,
    "start_time": "2021-09-07T18:13:13.465Z"
   },
   {
    "duration": 14,
    "start_time": "2021-09-07T18:13:13.478Z"
   },
   {
    "duration": 372,
    "start_time": "2021-09-07T18:13:13.493Z"
   },
   {
    "duration": 34,
    "start_time": "2021-09-07T18:13:13.867Z"
   },
   {
    "duration": 469,
    "start_time": "2021-09-07T18:13:13.904Z"
   },
   {
    "duration": 581,
    "start_time": "2021-09-07T18:13:14.375Z"
   },
   {
    "duration": 259,
    "start_time": "2021-09-07T18:13:14.958Z"
   },
   {
    "duration": 282,
    "start_time": "2021-09-07T18:13:15.221Z"
   },
   {
    "duration": 396,
    "start_time": "2021-09-07T18:13:15.504Z"
   },
   {
    "duration": 360,
    "start_time": "2021-09-07T18:13:15.901Z"
   },
   {
    "duration": 22,
    "start_time": "2021-09-07T18:22:33.118Z"
   },
   {
    "duration": 23,
    "start_time": "2021-09-07T18:25:01.373Z"
   },
   {
    "duration": 160,
    "start_time": "2021-09-07T18:38:45.443Z"
   },
   {
    "duration": 243,
    "start_time": "2021-09-07T18:39:15.371Z"
   },
   {
    "duration": 209,
    "start_time": "2021-09-07T18:39:27.899Z"
   },
   {
    "duration": 153,
    "start_time": "2021-09-07T18:42:22.610Z"
   },
   {
    "duration": 7,
    "start_time": "2021-09-07T18:45:06.070Z"
   },
   {
    "duration": 6,
    "start_time": "2021-09-07T18:45:16.351Z"
   },
   {
    "duration": 8,
    "start_time": "2021-09-07T18:45:25.058Z"
   },
   {
    "duration": 158,
    "start_time": "2021-09-07T18:46:53.862Z"
   },
   {
    "duration": 162,
    "start_time": "2021-09-07T18:47:01.213Z"
   },
   {
    "duration": 164,
    "start_time": "2021-09-07T18:48:12.638Z"
   },
   {
    "duration": 179,
    "start_time": "2021-09-07T18:51:22.726Z"
   },
   {
    "duration": 161,
    "start_time": "2021-09-07T18:52:17.461Z"
   },
   {
    "duration": 293,
    "start_time": "2021-09-07T18:53:08.730Z"
   },
   {
    "duration": 301,
    "start_time": "2021-09-07T18:53:21.106Z"
   },
   {
    "duration": 326,
    "start_time": "2021-09-07T18:55:00.144Z"
   },
   {
    "duration": 166,
    "start_time": "2021-09-07T18:55:11.933Z"
   },
   {
    "duration": 294,
    "start_time": "2021-09-07T18:55:41.150Z"
   },
   {
    "duration": 156,
    "start_time": "2021-09-07T18:55:53.521Z"
   },
   {
    "duration": 168,
    "start_time": "2021-09-07T18:57:23.925Z"
   },
   {
    "duration": 171,
    "start_time": "2021-09-07T18:57:40.841Z"
   },
   {
    "duration": 5824,
    "start_time": "2021-09-07T18:58:01.789Z"
   },
   {
    "duration": 9,
    "start_time": "2021-09-07T18:58:25.261Z"
   },
   {
    "duration": 15,
    "start_time": "2021-09-07T18:58:28.337Z"
   },
   {
    "duration": 13,
    "start_time": "2021-09-07T18:58:37.405Z"
   },
   {
    "duration": 16,
    "start_time": "2021-09-07T18:58:41.685Z"
   },
   {
    "duration": 6120,
    "start_time": "2021-09-07T18:58:45.845Z"
   },
   {
    "duration": 6,
    "start_time": "2021-09-07T19:01:54.576Z"
   },
   {
    "duration": 22,
    "start_time": "2021-09-07T19:02:01.856Z"
   },
   {
    "duration": 5,
    "start_time": "2021-09-07T19:02:12.753Z"
   },
   {
    "duration": 170,
    "start_time": "2021-09-07T19:02:30.624Z"
   },
   {
    "duration": 16,
    "start_time": "2021-09-07T19:02:47.060Z"
   },
   {
    "duration": 10,
    "start_time": "2021-09-07T19:03:24.920Z"
   },
   {
    "duration": 12,
    "start_time": "2021-09-07T19:03:47.529Z"
   },
   {
    "duration": 8,
    "start_time": "2021-09-07T19:04:39.954Z"
   },
   {
    "duration": 250,
    "start_time": "2021-09-07T19:04:41.204Z"
   },
   {
    "duration": 9,
    "start_time": "2021-09-07T19:04:47.748Z"
   },
   {
    "duration": 13,
    "start_time": "2021-09-07T19:04:51.915Z"
   },
   {
    "duration": 275,
    "start_time": "2021-09-07T19:04:53.784Z"
   },
   {
    "duration": 20,
    "start_time": "2021-09-07T19:05:38.936Z"
   },
   {
    "duration": 22,
    "start_time": "2021-09-07T19:05:52.200Z"
   },
   {
    "duration": 167,
    "start_time": "2021-09-07T19:05:57.192Z"
   },
   {
    "duration": 161,
    "start_time": "2021-09-07T19:08:34.563Z"
   },
   {
    "duration": 163,
    "start_time": "2021-09-07T19:11:24.079Z"
   },
   {
    "duration": 224,
    "start_time": "2021-09-07T19:11:28.855Z"
   },
   {
    "duration": 263,
    "start_time": "2021-09-07T19:12:20.507Z"
   },
   {
    "duration": 245,
    "start_time": "2021-09-07T19:12:33.900Z"
   },
   {
    "duration": 173,
    "start_time": "2021-09-07T19:12:42.527Z"
   },
   {
    "duration": 175,
    "start_time": "2021-09-07T19:12:58.095Z"
   },
   {
    "duration": 243,
    "start_time": "2021-09-07T19:13:23.424Z"
   },
   {
    "duration": 342,
    "start_time": "2021-09-07T19:13:36.607Z"
   },
   {
    "duration": 441,
    "start_time": "2021-09-07T19:20:32.494Z"
   },
   {
    "duration": 460,
    "start_time": "2021-09-07T19:20:35.682Z"
   },
   {
    "duration": 234,
    "start_time": "2021-09-07T19:20:39.940Z"
   },
   {
    "duration": 621,
    "start_time": "2021-09-07T19:20:41.894Z"
   },
   {
    "duration": 239,
    "start_time": "2021-09-07T19:20:51.054Z"
   },
   {
    "duration": 287,
    "start_time": "2021-09-07T19:21:10.222Z"
   },
   {
    "duration": 35,
    "start_time": "2021-09-07T19:21:38.805Z"
   },
   {
    "duration": 5822,
    "start_time": "2021-09-07T19:22:34.009Z"
   },
   {
    "duration": 24,
    "start_time": "2021-09-07T19:22:50.245Z"
   },
   {
    "duration": 256,
    "start_time": "2021-09-07T19:25:13.190Z"
   },
   {
    "duration": 249,
    "start_time": "2021-09-07T19:25:47.017Z"
   },
   {
    "duration": 17,
    "start_time": "2021-09-07T19:25:57.074Z"
   },
   {
    "duration": 5609,
    "start_time": "2021-09-07T19:27:56.251Z"
   },
   {
    "duration": 1289,
    "start_time": "2021-09-07T19:28:25.933Z"
   },
   {
    "duration": 2987,
    "start_time": "2021-09-07T19:29:11.445Z"
   },
   {
    "duration": 875,
    "start_time": "2021-09-07T19:33:18.024Z"
   },
   {
    "duration": 1789,
    "start_time": "2021-09-07T19:34:21.193Z"
   },
   {
    "duration": 16,
    "start_time": "2021-09-07T19:34:48.280Z"
   },
   {
    "duration": 14,
    "start_time": "2021-09-07T19:35:16.528Z"
   },
   {
    "duration": 1310,
    "start_time": "2021-09-07T19:42:49.823Z"
   },
   {
    "duration": 1359,
    "start_time": "2021-09-07T19:43:04.928Z"
   },
   {
    "duration": 5929,
    "start_time": "2021-09-07T19:46:00.287Z"
   },
   {
    "duration": 1653,
    "start_time": "2021-09-07T19:46:08.023Z"
   },
   {
    "duration": 448,
    "start_time": "2021-09-08T05:51:08.978Z"
   },
   {
    "duration": 1471,
    "start_time": "2021-09-08T05:51:41.372Z"
   },
   {
    "duration": 52,
    "start_time": "2021-09-08T05:51:42.846Z"
   },
   {
    "duration": 44,
    "start_time": "2021-09-08T05:51:42.901Z"
   },
   {
    "duration": 46,
    "start_time": "2021-09-08T05:51:42.968Z"
   },
   {
    "duration": 5,
    "start_time": "2021-09-08T05:51:43.017Z"
   },
   {
    "duration": 55,
    "start_time": "2021-09-08T05:51:43.025Z"
   },
   {
    "duration": 2,
    "start_time": "2021-09-08T05:51:43.083Z"
   },
   {
    "duration": 14,
    "start_time": "2021-09-08T05:51:43.089Z"
   },
   {
    "duration": 21,
    "start_time": "2021-09-08T05:51:43.107Z"
   },
   {
    "duration": 1385,
    "start_time": "2021-09-08T05:51:43.130Z"
   },
   {
    "duration": 6,
    "start_time": "2021-09-08T05:51:44.517Z"
   },
   {
    "duration": 7,
    "start_time": "2021-09-08T05:51:44.526Z"
   },
   {
    "duration": 31,
    "start_time": "2021-09-08T05:51:44.536Z"
   },
   {
    "duration": 478,
    "start_time": "2021-09-08T05:51:44.570Z"
   },
   {
    "duration": 1375,
    "start_time": "2021-09-08T05:51:45.051Z"
   },
   {
    "duration": 11,
    "start_time": "2021-09-08T05:51:46.428Z"
   },
   {
    "duration": 31,
    "start_time": "2021-09-08T05:51:46.442Z"
   },
   {
    "duration": 766,
    "start_time": "2021-09-08T05:51:46.476Z"
   },
   {
    "duration": 25,
    "start_time": "2021-09-08T05:51:47.245Z"
   },
   {
    "duration": 7,
    "start_time": "2021-09-08T05:51:47.272Z"
   },
   {
    "duration": 631,
    "start_time": "2021-09-08T05:51:47.281Z"
   },
   {
    "duration": 53,
    "start_time": "2021-09-08T05:51:47.915Z"
   },
   {
    "duration": 7,
    "start_time": "2021-09-08T05:51:47.973Z"
   },
   {
    "duration": 444,
    "start_time": "2021-09-08T05:51:47.983Z"
   },
   {
    "duration": 429,
    "start_time": "2021-09-08T05:51:48.429Z"
   },
   {
    "duration": 2427,
    "start_time": "2021-09-08T05:51:48.860Z"
   },
   {
    "duration": -6887256,
    "start_time": "2021-09-08T07:46:38.546Z"
   },
   {
    "duration": -6887263,
    "start_time": "2021-09-08T07:46:38.554Z"
   },
   {
    "duration": -6887265,
    "start_time": "2021-09-08T07:46:38.558Z"
   },
   {
    "duration": 414,
    "start_time": "2021-09-08T05:52:00.632Z"
   },
   {
    "duration": 592,
    "start_time": "2021-09-08T05:52:03.541Z"
   },
   {
    "duration": 636,
    "start_time": "2021-09-08T05:52:06.089Z"
   },
   {
    "duration": 2394,
    "start_time": "2021-09-08T05:55:33.307Z"
   },
   {
    "duration": 2483,
    "start_time": "2021-09-08T05:55:43.425Z"
   },
   {
    "duration": 25,
    "start_time": "2021-09-08T06:00:43.243Z"
   },
   {
    "duration": 28,
    "start_time": "2021-09-08T06:01:03.280Z"
   },
   {
    "duration": 2312,
    "start_time": "2021-09-08T06:01:08.924Z"
   },
   {
    "duration": 27,
    "start_time": "2021-09-08T06:01:23.844Z"
   },
   {
    "duration": 2119,
    "start_time": "2021-09-08T06:04:42.212Z"
   },
   {
    "duration": 2187,
    "start_time": "2021-09-08T06:14:21.487Z"
   },
   {
    "duration": 24,
    "start_time": "2021-09-08T06:14:54.615Z"
   },
   {
    "duration": 22,
    "start_time": "2021-09-08T06:15:01.647Z"
   },
   {
    "duration": 364,
    "start_time": "2021-09-08T06:18:30.719Z"
   },
   {
    "duration": 1610,
    "start_time": "2021-09-08T06:18:43.434Z"
   },
   {
    "duration": 1551,
    "start_time": "2021-09-08T06:19:07.522Z"
   },
   {
    "duration": 19,
    "start_time": "2021-09-08T06:19:54.100Z"
   },
   {
    "duration": 1665,
    "start_time": "2021-09-08T06:20:01.863Z"
   },
   {
    "duration": 1991,
    "start_time": "2021-09-08T06:21:16.562Z"
   },
   {
    "duration": 1440,
    "start_time": "2021-09-08T06:22:08.840Z"
   },
   {
    "duration": 2039,
    "start_time": "2021-09-08T06:23:20.466Z"
   },
   {
    "duration": 1337,
    "start_time": "2021-09-08T06:23:38.061Z"
   },
   {
    "duration": 1273,
    "start_time": "2021-09-08T06:23:47.737Z"
   },
   {
    "duration": 1365,
    "start_time": "2021-09-08T06:24:16.321Z"
   },
   {
    "duration": 19,
    "start_time": "2021-09-08T06:24:27.007Z"
   },
   {
    "duration": 1339,
    "start_time": "2021-09-08T06:24:28.258Z"
   },
   {
    "duration": 1456,
    "start_time": "2021-09-08T06:24:52.373Z"
   },
   {
    "duration": 1321,
    "start_time": "2021-09-08T06:25:05.792Z"
   },
   {
    "duration": 1295,
    "start_time": "2021-09-08T06:25:15.682Z"
   },
   {
    "duration": 1428,
    "start_time": "2021-09-08T06:25:22.450Z"
   },
   {
    "duration": 1335,
    "start_time": "2021-09-08T06:27:06.289Z"
   },
   {
    "duration": 2818,
    "start_time": "2021-09-08T06:32:57.641Z"
   },
   {
    "duration": 2199,
    "start_time": "2021-09-08T06:35:07.468Z"
   },
   {
    "duration": 2758,
    "start_time": "2021-09-08T06:37:40.673Z"
   },
   {
    "duration": 2594,
    "start_time": "2021-09-08T06:41:51.552Z"
   },
   {
    "duration": 2788,
    "start_time": "2021-09-08T06:42:56.072Z"
   },
   {
    "duration": 2511,
    "start_time": "2021-09-08T06:43:36.905Z"
   },
   {
    "duration": 2124,
    "start_time": "2021-09-08T07:17:42.207Z"
   },
   {
    "duration": 1888,
    "start_time": "2021-09-08T07:17:44.980Z"
   },
   {
    "duration": 1824,
    "start_time": "2021-09-08T07:19:13.883Z"
   },
   {
    "duration": 1869,
    "start_time": "2021-09-08T07:19:36.708Z"
   },
   {
    "duration": 3064,
    "start_time": "2021-09-08T07:20:28.403Z"
   },
   {
    "duration": 2841,
    "start_time": "2021-09-08T07:20:40.615Z"
   },
   {
    "duration": 986,
    "start_time": "2021-09-08T07:27:40.646Z"
   },
   {
    "duration": 5353,
    "start_time": "2021-09-08T07:28:19.494Z"
   },
   {
    "duration": 1533,
    "start_time": "2021-09-08T07:28:38.064Z"
   },
   {
    "duration": 3808,
    "start_time": "2021-09-08T07:28:39.600Z"
   },
   {
    "duration": 51,
    "start_time": "2021-09-08T07:28:43.413Z"
   },
   {
    "duration": 52,
    "start_time": "2021-09-08T07:28:43.468Z"
   },
   {
    "duration": 72,
    "start_time": "2021-09-08T07:28:43.523Z"
   },
   {
    "duration": 4,
    "start_time": "2021-09-08T07:28:43.598Z"
   },
   {
    "duration": 41,
    "start_time": "2021-09-08T07:28:43.605Z"
   },
   {
    "duration": 25,
    "start_time": "2021-09-08T07:28:43.649Z"
   },
   {
    "duration": 17,
    "start_time": "2021-09-08T07:28:43.681Z"
   },
   {
    "duration": 23,
    "start_time": "2021-09-08T07:28:43.701Z"
   },
   {
    "duration": 1600,
    "start_time": "2021-09-08T07:28:43.727Z"
   },
   {
    "duration": 7,
    "start_time": "2021-09-08T07:28:45.330Z"
   },
   {
    "duration": 29,
    "start_time": "2021-09-08T07:28:45.340Z"
   },
   {
    "duration": 24,
    "start_time": "2021-09-08T07:28:45.372Z"
   },
   {
    "duration": 528,
    "start_time": "2021-09-08T07:28:45.399Z"
   },
   {
    "duration": 930,
    "start_time": "2021-09-08T07:28:45.930Z"
   },
   {
    "duration": 1644,
    "start_time": "2021-09-08T07:28:46.863Z"
   },
   {
    "duration": 11,
    "start_time": "2021-09-08T07:28:48.510Z"
   },
   {
    "duration": 33,
    "start_time": "2021-09-08T07:28:48.524Z"
   },
   {
    "duration": 1018,
    "start_time": "2021-09-08T07:28:48.559Z"
   },
   {
    "duration": 15,
    "start_time": "2021-09-08T07:28:49.583Z"
   },
   {
    "duration": 17,
    "start_time": "2021-09-08T07:28:49.600Z"
   },
   {
    "duration": 606,
    "start_time": "2021-09-08T07:28:49.620Z"
   },
   {
    "duration": 54,
    "start_time": "2021-09-08T07:28:50.229Z"
   },
   {
    "duration": 8,
    "start_time": "2021-09-08T07:28:50.286Z"
   },
   {
    "duration": 488,
    "start_time": "2021-09-08T07:28:50.296Z"
   },
   {
    "duration": 481,
    "start_time": "2021-09-08T07:28:50.789Z"
   },
   {
    "duration": 816,
    "start_time": "2021-09-08T07:28:51.274Z"
   },
   {
    "duration": -6885769,
    "start_time": "2021-09-08T09:23:37.862Z"
   },
   {
    "duration": -6885779,
    "start_time": "2021-09-08T09:23:37.873Z"
   },
   {
    "duration": 623,
    "start_time": "2021-09-08T07:29:04.898Z"
   },
   {
    "duration": 542,
    "start_time": "2021-09-08T07:29:55.511Z"
   },
   {
    "duration": 127,
    "start_time": "2021-09-08T07:31:18.502Z"
   },
   {
    "duration": 359,
    "start_time": "2021-09-08T07:31:55.026Z"
   },
   {
    "duration": 518,
    "start_time": "2021-09-08T07:32:29.093Z"
   },
   {
    "duration": 2458,
    "start_time": "2021-09-08T07:32:39.944Z"
   },
   {
    "duration": 4986,
    "start_time": "2021-09-08T07:32:42.404Z"
   },
   {
    "duration": 53,
    "start_time": "2021-09-08T07:32:47.393Z"
   },
   {
    "duration": 59,
    "start_time": "2021-09-08T07:32:47.449Z"
   },
   {
    "duration": 59,
    "start_time": "2021-09-08T07:32:47.511Z"
   },
   {
    "duration": 6,
    "start_time": "2021-09-08T07:32:47.574Z"
   },
   {
    "duration": 42,
    "start_time": "2021-09-08T07:32:47.583Z"
   },
   {
    "duration": 3,
    "start_time": "2021-09-08T07:32:47.631Z"
   },
   {
    "duration": 41,
    "start_time": "2021-09-08T07:32:47.638Z"
   },
   {
    "duration": 25,
    "start_time": "2021-09-08T07:32:47.685Z"
   },
   {
    "duration": 387,
    "start_time": "2021-09-08T07:32:47.714Z"
   },
   {
    "duration": -6885771,
    "start_time": "2021-09-08T09:27:33.875Z"
   },
   {
    "duration": -6885772,
    "start_time": "2021-09-08T09:27:33.878Z"
   },
   {
    "duration": -6885772,
    "start_time": "2021-09-08T09:27:33.880Z"
   },
   {
    "duration": -6885773,
    "start_time": "2021-09-08T09:27:33.883Z"
   },
   {
    "duration": -6885775,
    "start_time": "2021-09-08T09:27:33.886Z"
   },
   {
    "duration": -6885777,
    "start_time": "2021-09-08T09:27:33.889Z"
   },
   {
    "duration": -6885778,
    "start_time": "2021-09-08T09:27:33.892Z"
   },
   {
    "duration": -6885786,
    "start_time": "2021-09-08T09:27:33.901Z"
   },
   {
    "duration": -6885789,
    "start_time": "2021-09-08T09:27:33.905Z"
   },
   {
    "duration": -6885790,
    "start_time": "2021-09-08T09:27:33.908Z"
   },
   {
    "duration": -6885794,
    "start_time": "2021-09-08T09:27:33.913Z"
   },
   {
    "duration": -6885795,
    "start_time": "2021-09-08T09:27:33.915Z"
   },
   {
    "duration": -6885795,
    "start_time": "2021-09-08T09:27:33.917Z"
   },
   {
    "duration": -6885796,
    "start_time": "2021-09-08T09:27:33.919Z"
   },
   {
    "duration": -6885797,
    "start_time": "2021-09-08T09:27:33.921Z"
   },
   {
    "duration": -6885796,
    "start_time": "2021-09-08T09:27:33.922Z"
   },
   {
    "duration": -6885796,
    "start_time": "2021-09-08T09:27:33.923Z"
   },
   {
    "duration": -6885796,
    "start_time": "2021-09-08T09:27:33.925Z"
   },
   {
    "duration": -6885808,
    "start_time": "2021-09-08T09:27:33.938Z"
   },
   {
    "duration": 337,
    "start_time": "2021-09-08T07:33:14.370Z"
   },
   {
    "duration": 417,
    "start_time": "2021-09-08T07:40:16.176Z"
   },
   {
    "duration": 321,
    "start_time": "2021-09-08T07:41:31.386Z"
   },
   {
    "duration": 296,
    "start_time": "2021-09-08T07:41:54.650Z"
   },
   {
    "duration": 1387,
    "start_time": "2021-09-08T07:42:11.580Z"
   },
   {
    "duration": 7,
    "start_time": "2021-09-08T07:42:26.368Z"
   },
   {
    "duration": 7,
    "start_time": "2021-09-08T07:42:26.378Z"
   },
   {
    "duration": 10,
    "start_time": "2021-09-08T07:42:26.388Z"
   },
   {
    "duration": 515,
    "start_time": "2021-09-08T07:42:26.401Z"
   },
   {
    "duration": 509,
    "start_time": "2021-09-08T07:42:26.918Z"
   },
   {
    "duration": 1637,
    "start_time": "2021-09-08T07:42:27.430Z"
   },
   {
    "duration": 11,
    "start_time": "2021-09-08T07:42:29.069Z"
   },
   {
    "duration": 11,
    "start_time": "2021-09-08T07:42:29.084Z"
   },
   {
    "duration": 800,
    "start_time": "2021-09-08T07:42:29.098Z"
   },
   {
    "duration": 13,
    "start_time": "2021-09-08T07:42:29.901Z"
   },
   {
    "duration": 8,
    "start_time": "2021-09-08T07:42:29.917Z"
   },
   {
    "duration": 707,
    "start_time": "2021-09-08T07:42:29.928Z"
   },
   {
    "duration": 51,
    "start_time": "2021-09-08T07:42:30.637Z"
   },
   {
    "duration": 7,
    "start_time": "2021-09-08T07:42:30.691Z"
   },
   {
    "duration": 459,
    "start_time": "2021-09-08T07:42:30.700Z"
   },
   {
    "duration": 475,
    "start_time": "2021-09-08T07:42:31.161Z"
   },
   {
    "duration": 1040,
    "start_time": "2021-09-08T07:42:31.640Z"
   },
   {
    "duration": -6885755,
    "start_time": "2021-09-08T09:37:18.438Z"
   },
   {
    "duration": -6885756,
    "start_time": "2021-09-08T09:37:18.442Z"
   },
   {
    "duration": 1563,
    "start_time": "2021-09-08T07:43:37.888Z"
   },
   {
    "duration": 1833,
    "start_time": "2021-09-08T07:44:01.438Z"
   },
   {
    "duration": 864,
    "start_time": "2021-09-08T07:44:21.222Z"
   },
   {
    "duration": 537,
    "start_time": "2021-09-08T07:44:50.856Z"
   },
   {
    "duration": 639,
    "start_time": "2021-09-08T07:44:54.996Z"
   },
   {
    "duration": 316,
    "start_time": "2021-09-08T07:45:34.796Z"
   },
   {
    "duration": 18,
    "start_time": "2021-09-08T07:45:54.173Z"
   },
   {
    "duration": 2812,
    "start_time": "2021-09-08T07:45:56.015Z"
   },
   {
    "duration": 405,
    "start_time": "2021-09-08T07:46:04.019Z"
   },
   {
    "duration": 762,
    "start_time": "2021-09-08T07:48:26.355Z"
   },
   {
    "duration": 729,
    "start_time": "2021-09-08T07:48:34.603Z"
   },
   {
    "duration": 723,
    "start_time": "2021-09-08T07:49:47.982Z"
   },
   {
    "duration": 906,
    "start_time": "2021-09-08T07:49:52.725Z"
   },
   {
    "duration": 2794,
    "start_time": "2021-09-08T07:50:39.443Z"
   },
   {
    "duration": 2644,
    "start_time": "2021-09-08T07:50:55.787Z"
   },
   {
    "duration": 18,
    "start_time": "2021-09-08T07:54:35.611Z"
   },
   {
    "duration": 2819,
    "start_time": "2021-09-08T07:54:37.003Z"
   },
   {
    "duration": 17,
    "start_time": "2021-09-08T07:55:29.035Z"
   },
   {
    "duration": 3058,
    "start_time": "2021-09-08T07:55:33.465Z"
   },
   {
    "duration": 9307,
    "start_time": "2021-09-08T07:57:28.427Z"
   },
   {
    "duration": 401,
    "start_time": "2021-09-08T07:57:45.483Z"
   },
   {
    "duration": 382,
    "start_time": "2021-09-08T07:57:53.027Z"
   },
   {
    "duration": 409,
    "start_time": "2021-09-08T07:58:18.727Z"
   },
   {
    "duration": 951,
    "start_time": "2021-09-08T08:24:57.103Z"
   },
   {
    "duration": 1031,
    "start_time": "2021-09-08T08:25:08.179Z"
   },
   {
    "duration": 11,
    "start_time": "2021-09-08T08:27:29.074Z"
   },
   {
    "duration": 11,
    "start_time": "2021-09-08T08:27:45.523Z"
   },
   {
    "duration": 259,
    "start_time": "2021-09-08T08:30:16.762Z"
   },
   {
    "duration": 317,
    "start_time": "2021-09-08T08:30:28.726Z"
   },
   {
    "duration": 896,
    "start_time": "2021-09-08T08:31:35.398Z"
   },
   {
    "duration": 1065,
    "start_time": "2021-09-08T08:31:56.262Z"
   },
   {
    "duration": 406,
    "start_time": "2021-09-08T08:32:12.906Z"
   },
   {
    "duration": 396,
    "start_time": "2021-09-08T08:34:07.963Z"
   },
   {
    "duration": 239,
    "start_time": "2021-09-08T08:36:56.551Z"
   },
   {
    "duration": 1105,
    "start_time": "2021-09-08T08:37:39.799Z"
   },
   {
    "duration": 2114,
    "start_time": "2021-09-08T08:38:06.307Z"
   },
   {
    "duration": 1037,
    "start_time": "2021-09-08T08:38:22.299Z"
   },
   {
    "duration": 395,
    "start_time": "2021-09-08T08:39:36.783Z"
   },
   {
    "duration": 399,
    "start_time": "2021-09-08T08:40:02.683Z"
   },
   {
    "duration": 1012,
    "start_time": "2021-09-08T08:40:13.559Z"
   },
   {
    "duration": 396,
    "start_time": "2021-09-08T08:40:23.786Z"
   },
   {
    "duration": 3109,
    "start_time": "2021-09-08T08:42:05.951Z"
   },
   {
    "duration": 2804,
    "start_time": "2021-09-08T08:42:28.151Z"
   },
   {
    "duration": 211,
    "start_time": "2021-09-08T08:42:48.319Z"
   },
   {
    "duration": 2751,
    "start_time": "2021-09-08T08:43:00.379Z"
   },
   {
    "duration": 429,
    "start_time": "2021-09-08T08:43:38.451Z"
   },
   {
    "duration": 427,
    "start_time": "2021-09-08T08:44:18.657Z"
   },
   {
    "duration": 610,
    "start_time": "2021-09-08T08:44:43.057Z"
   },
   {
    "duration": 8,
    "start_time": "2021-09-08T08:46:14.177Z"
   },
   {
    "duration": 10,
    "start_time": "2021-09-08T08:46:41.530Z"
   },
   {
    "duration": 319,
    "start_time": "2021-09-08T08:46:49.819Z"
   },
   {
    "duration": 113,
    "start_time": "2021-09-08T08:47:28.775Z"
   },
   {
    "duration": 28,
    "start_time": "2021-09-08T08:47:35.223Z"
   },
   {
    "duration": 38,
    "start_time": "2021-09-08T08:47:50.263Z"
   },
   {
    "duration": 334,
    "start_time": "2021-09-08T08:47:53.094Z"
   },
   {
    "duration": 379,
    "start_time": "2021-09-08T08:48:01.903Z"
   },
   {
    "duration": 13,
    "start_time": "2021-09-08T08:48:44.539Z"
   },
   {
    "duration": 387,
    "start_time": "2021-09-08T08:48:48.991Z"
   },
   {
    "duration": 451,
    "start_time": "2021-09-08T08:48:58.193Z"
   },
   {
    "duration": 443,
    "start_time": "2021-09-08T08:50:10.038Z"
   },
   {
    "duration": 451,
    "start_time": "2021-09-08T08:50:57.842Z"
   },
   {
    "duration": 2708,
    "start_time": "2021-09-08T09:00:49.626Z"
   },
   {
    "duration": 2697,
    "start_time": "2021-09-08T09:01:05.925Z"
   },
   {
    "duration": 2922,
    "start_time": "2021-09-08T09:01:23.017Z"
   },
   {
    "duration": 2684,
    "start_time": "2021-09-08T09:01:34.275Z"
   },
   {
    "duration": 120,
    "start_time": "2021-09-08T09:04:04.501Z"
   },
   {
    "duration": 123,
    "start_time": "2021-09-08T09:04:09.196Z"
   },
   {
    "duration": 126,
    "start_time": "2021-09-08T09:04:18.365Z"
   },
   {
    "duration": 146,
    "start_time": "2021-09-08T09:04:22.913Z"
   },
   {
    "duration": 2674,
    "start_time": "2021-09-08T09:04:35.545Z"
   },
   {
    "duration": 2675,
    "start_time": "2021-09-08T09:04:51.301Z"
   },
   {
    "duration": 2785,
    "start_time": "2021-09-08T09:05:18.499Z"
   },
   {
    "duration": 2997,
    "start_time": "2021-09-08T09:05:57.618Z"
   },
   {
    "duration": 2704,
    "start_time": "2021-09-08T09:06:44.481Z"
   },
   {
    "duration": 2860,
    "start_time": "2021-09-08T09:07:01.813Z"
   },
   {
    "duration": 2750,
    "start_time": "2021-09-08T09:07:20.004Z"
   },
   {
    "duration": 2800,
    "start_time": "2021-09-08T09:07:40.120Z"
   },
   {
    "duration": 7,
    "start_time": "2021-09-08T09:12:21.543Z"
   },
   {
    "duration": 3064,
    "start_time": "2021-09-08T09:12:34.578Z"
   },
   {
    "duration": 2701,
    "start_time": "2021-09-08T09:12:42.684Z"
   },
   {
    "duration": 2905,
    "start_time": "2021-09-08T09:12:45.388Z"
   },
   {
    "duration": 417,
    "start_time": "2021-09-08T09:12:52.819Z"
   },
   {
    "duration": 429,
    "start_time": "2021-09-08T09:12:57.768Z"
   },
   {
    "duration": 124,
    "start_time": "2021-09-08T09:20:39.163Z"
   },
   {
    "duration": 594,
    "start_time": "2021-09-08T09:20:43.263Z"
   },
   {
    "duration": 683,
    "start_time": "2021-09-08T09:21:13.810Z"
   },
   {
    "duration": 280,
    "start_time": "2021-09-08T09:21:46.123Z"
   },
   {
    "duration": 309,
    "start_time": "2021-09-08T09:22:11.071Z"
   },
   {
    "duration": 315,
    "start_time": "2021-09-08T09:22:27.054Z"
   },
   {
    "duration": 319,
    "start_time": "2021-09-08T09:23:02.098Z"
   },
   {
    "duration": 306,
    "start_time": "2021-09-08T09:23:23.495Z"
   },
   {
    "duration": 581,
    "start_time": "2021-09-08T09:26:34.384Z"
   },
   {
    "duration": 295,
    "start_time": "2021-09-08T09:26:44.402Z"
   },
   {
    "duration": 317,
    "start_time": "2021-09-08T09:27:47.830Z"
   },
   {
    "duration": 319,
    "start_time": "2021-09-08T09:28:07.778Z"
   },
   {
    "duration": 325,
    "start_time": "2021-09-08T09:28:24.042Z"
   },
   {
    "duration": 419,
    "start_time": "2021-09-08T09:29:50.918Z"
   },
   {
    "duration": 418,
    "start_time": "2021-09-08T09:30:22.605Z"
   },
   {
    "duration": 436,
    "start_time": "2021-09-08T09:30:28.157Z"
   },
   {
    "duration": 336,
    "start_time": "2021-09-08T09:31:35.417Z"
   },
   {
    "duration": 327,
    "start_time": "2021-09-08T09:31:43.149Z"
   },
   {
    "duration": 577,
    "start_time": "2021-09-08T09:31:45.225Z"
   },
   {
    "duration": 322,
    "start_time": "2021-09-08T09:32:00.585Z"
   },
   {
    "duration": 337,
    "start_time": "2021-09-08T09:32:08.249Z"
   },
   {
    "duration": 422,
    "start_time": "2021-09-08T09:32:30.349Z"
   },
   {
    "duration": 436,
    "start_time": "2021-09-08T09:32:43.301Z"
   },
   {
    "duration": 319,
    "start_time": "2021-09-08T09:32:57.681Z"
   },
   {
    "duration": 407,
    "start_time": "2021-09-08T09:33:01.413Z"
   },
   {
    "duration": 313,
    "start_time": "2021-09-08T09:33:03.129Z"
   },
   {
    "duration": 315,
    "start_time": "2021-09-08T09:33:26.505Z"
   },
   {
    "duration": 329,
    "start_time": "2021-09-08T09:33:30.917Z"
   },
   {
    "duration": 329,
    "start_time": "2021-09-08T09:33:33.645Z"
   },
   {
    "duration": 315,
    "start_time": "2021-09-08T09:35:05.689Z"
   },
   {
    "duration": 1316,
    "start_time": "2021-09-08T09:36:51.361Z"
   },
   {
    "duration": 331,
    "start_time": "2021-09-08T09:36:56.964Z"
   },
   {
    "duration": 317,
    "start_time": "2021-09-08T09:36:59.496Z"
   },
   {
    "duration": 308,
    "start_time": "2021-09-08T09:37:09.353Z"
   },
   {
    "duration": 321,
    "start_time": "2021-09-08T09:37:24.097Z"
   },
   {
    "duration": 364,
    "start_time": "2021-09-08T09:52:38.675Z"
   },
   {
    "duration": 351,
    "start_time": "2021-09-08T09:53:01.131Z"
   },
   {
    "duration": 329,
    "start_time": "2021-09-08T09:54:36.679Z"
   },
   {
    "duration": 15,
    "start_time": "2021-09-08T09:57:07.454Z"
   },
   {
    "duration": 26,
    "start_time": "2021-09-08T09:57:30.238Z"
   },
   {
    "duration": 31,
    "start_time": "2021-09-08T09:58:11.427Z"
   },
   {
    "duration": 12,
    "start_time": "2021-09-08T09:58:49.811Z"
   },
   {
    "duration": 10,
    "start_time": "2021-09-08T10:01:16.460Z"
   },
   {
    "duration": 259,
    "start_time": "2021-09-08T10:03:35.873Z"
   },
   {
    "duration": 309,
    "start_time": "2021-09-08T10:03:46.189Z"
   },
   {
    "duration": 372,
    "start_time": "2021-09-08T10:03:58.405Z"
   },
   {
    "duration": 362,
    "start_time": "2021-09-08T10:04:08.929Z"
   },
   {
    "duration": 12,
    "start_time": "2021-09-08T10:05:36.309Z"
   },
   {
    "duration": 12,
    "start_time": "2021-09-08T10:05:49.145Z"
   },
   {
    "duration": 6,
    "start_time": "2021-09-08T10:05:59.084Z"
   },
   {
    "duration": 12,
    "start_time": "2021-09-08T10:06:04.353Z"
   },
   {
    "duration": 6,
    "start_time": "2021-09-08T10:07:38.465Z"
   },
   {
    "duration": 7,
    "start_time": "2021-09-08T10:07:43.521Z"
   },
   {
    "duration": 11,
    "start_time": "2021-09-08T10:07:56.513Z"
   },
   {
    "duration": 6,
    "start_time": "2021-09-08T10:08:05.481Z"
   },
   {
    "duration": 12,
    "start_time": "2021-09-08T10:10:59.520Z"
   },
   {
    "duration": 819,
    "start_time": "2021-09-08T10:14:46.163Z"
   },
   {
    "duration": 10,
    "start_time": "2021-09-08T10:15:27.519Z"
   },
   {
    "duration": 132,
    "start_time": "2021-09-08T10:16:58.199Z"
   },
   {
    "duration": 15,
    "start_time": "2021-09-08T10:18:17.466Z"
   },
   {
    "duration": 7,
    "start_time": "2021-09-08T10:27:43.174Z"
   },
   {
    "duration": 463,
    "start_time": "2021-09-08T10:27:46.190Z"
   },
   {
    "duration": 473,
    "start_time": "2021-09-08T10:27:58.635Z"
   },
   {
    "duration": 3091,
    "start_time": "2021-09-08T10:28:40.078Z"
   },
   {
    "duration": 3015,
    "start_time": "2021-09-08T10:28:50.146Z"
   },
   {
    "duration": 3913,
    "start_time": "2021-09-08T10:28:59.562Z"
   },
   {
    "duration": 446,
    "start_time": "2021-09-08T10:29:19.742Z"
   },
   {
    "duration": 460,
    "start_time": "2021-09-08T10:29:23.422Z"
   },
   {
    "duration": 323,
    "start_time": "2021-09-08T10:29:33.047Z"
   },
   {
    "duration": 349,
    "start_time": "2021-09-08T10:29:37.362Z"
   },
   {
    "duration": 323,
    "start_time": "2021-09-08T10:29:41.638Z"
   },
   {
    "duration": 318,
    "start_time": "2021-09-08T10:30:37.309Z"
   },
   {
    "duration": 639,
    "start_time": "2021-09-08T10:30:40.703Z"
   },
   {
    "duration": 344,
    "start_time": "2021-09-08T10:30:43.503Z"
   },
   {
    "duration": 330,
    "start_time": "2021-09-08T10:30:53.727Z"
   },
   {
    "duration": 325,
    "start_time": "2021-09-08T10:31:02.191Z"
   },
   {
    "duration": 335,
    "start_time": "2021-09-08T10:31:05.606Z"
   },
   {
    "duration": 1772,
    "start_time": "2021-09-08T10:31:27.890Z"
   },
   {
    "duration": 15,
    "start_time": "2021-09-08T10:31:50.814Z"
   },
   {
    "duration": 28,
    "start_time": "2021-09-08T10:32:01.530Z"
   },
   {
    "duration": 330,
    "start_time": "2021-09-08T10:32:45.185Z"
   },
   {
    "duration": 323,
    "start_time": "2021-09-08T10:32:47.270Z"
   },
   {
    "duration": 328,
    "start_time": "2021-09-08T10:32:54.410Z"
   },
   {
    "duration": 12,
    "start_time": "2021-09-08T10:33:10.138Z"
   },
   {
    "duration": 12,
    "start_time": "2021-09-08T10:35:17.750Z"
   },
   {
    "duration": 12,
    "start_time": "2021-09-08T10:36:45.630Z"
   },
   {
    "duration": 12,
    "start_time": "2021-09-08T10:36:53.154Z"
   },
   {
    "duration": 13,
    "start_time": "2021-09-08T10:40:27.002Z"
   },
   {
    "duration": 1726,
    "start_time": "2021-09-08T10:40:38.641Z"
   },
   {
    "duration": 5417,
    "start_time": "2021-09-08T10:40:40.371Z"
   },
   {
    "duration": 48,
    "start_time": "2021-09-08T10:40:45.792Z"
   },
   {
    "duration": 53,
    "start_time": "2021-09-08T10:40:45.843Z"
   },
   {
    "duration": 45,
    "start_time": "2021-09-08T10:40:45.899Z"
   },
   {
    "duration": 28,
    "start_time": "2021-09-08T10:40:45.947Z"
   },
   {
    "duration": 28,
    "start_time": "2021-09-08T10:40:45.978Z"
   },
   {
    "duration": 3,
    "start_time": "2021-09-08T10:40:46.012Z"
   },
   {
    "duration": 15,
    "start_time": "2021-09-08T10:40:46.019Z"
   },
   {
    "duration": 22,
    "start_time": "2021-09-08T10:40:46.074Z"
   },
   {
    "duration": 1430,
    "start_time": "2021-09-08T10:40:46.099Z"
   },
   {
    "duration": 7,
    "start_time": "2021-09-08T10:40:47.531Z"
   },
   {
    "duration": 28,
    "start_time": "2021-09-08T10:40:47.540Z"
   },
   {
    "duration": 13,
    "start_time": "2021-09-08T10:40:47.570Z"
   },
   {
    "duration": 546,
    "start_time": "2021-09-08T10:40:47.585Z"
   },
   {
    "duration": 1692,
    "start_time": "2021-09-08T10:40:48.133Z"
   },
   {
    "duration": 10,
    "start_time": "2021-09-08T10:40:49.828Z"
   },
   {
    "duration": 32,
    "start_time": "2021-09-08T10:40:49.841Z"
   },
   {
    "duration": 810,
    "start_time": "2021-09-08T10:40:49.876Z"
   },
   {
    "duration": 14,
    "start_time": "2021-09-08T10:40:50.689Z"
   },
   {
    "duration": 25,
    "start_time": "2021-09-08T10:40:50.705Z"
   },
   {
    "duration": 902,
    "start_time": "2021-09-08T10:40:50.733Z"
   },
   {
    "duration": 51,
    "start_time": "2021-09-08T10:40:51.640Z"
   },
   {
    "duration": 8,
    "start_time": "2021-09-08T10:40:51.695Z"
   },
   {
    "duration": 623,
    "start_time": "2021-09-08T10:40:51.705Z"
   },
   {
    "duration": 510,
    "start_time": "2021-09-08T10:40:52.330Z"
   },
   {
    "duration": 3,
    "start_time": "2021-09-08T10:40:52.842Z"
   },
   {
    "duration": 3283,
    "start_time": "2021-09-08T10:40:52.847Z"
   },
   {
    "duration": 3062,
    "start_time": "2021-09-08T10:40:56.132Z"
   },
   {
    "duration": 4350,
    "start_time": "2021-09-08T10:40:59.197Z"
   },
   {
    "duration": 462,
    "start_time": "2021-09-08T10:41:03.549Z"
   },
   {
    "duration": 575,
    "start_time": "2021-09-08T10:41:04.013Z"
   },
   {
    "duration": 348,
    "start_time": "2021-09-08T10:41:04.590Z"
   },
   {
    "duration": 369,
    "start_time": "2021-09-08T10:41:04.941Z"
   },
   {
    "duration": 355,
    "start_time": "2021-09-08T10:41:05.312Z"
   },
   {
    "duration": 352,
    "start_time": "2021-09-08T10:41:05.669Z"
   },
   {
    "duration": 383,
    "start_time": "2021-09-08T10:41:06.024Z"
   },
   {
    "duration": 362,
    "start_time": "2021-09-08T10:41:06.410Z"
   },
   {
    "duration": 342,
    "start_time": "2021-09-08T10:41:06.775Z"
   },
   {
    "duration": 348,
    "start_time": "2021-09-08T10:41:07.119Z"
   },
   {
    "duration": 350,
    "start_time": "2021-09-08T10:41:07.470Z"
   },
   {
    "duration": 13,
    "start_time": "2021-09-08T10:41:07.822Z"
   },
   {
    "duration": 36,
    "start_time": "2021-09-08T10:41:07.837Z"
   },
   {
    "duration": 1003,
    "start_time": "2021-09-08T11:46:50.066Z"
   },
   {
    "duration": 1266,
    "start_time": "2021-09-08T11:47:36.306Z"
   },
   {
    "duration": 1025,
    "start_time": "2021-09-08T11:48:14.946Z"
   },
   {
    "duration": 14,
    "start_time": "2021-09-08T11:52:42.025Z"
   },
   {
    "duration": 20,
    "start_time": "2021-09-08T11:56:16.501Z"
   },
   {
    "duration": 7,
    "start_time": "2021-09-08T11:56:30.328Z"
   },
   {
    "duration": 9,
    "start_time": "2021-09-08T11:58:57.564Z"
   },
   {
    "duration": 19,
    "start_time": "2021-09-08T11:59:14.840Z"
   },
   {
    "duration": 8,
    "start_time": "2021-09-08T11:59:16.151Z"
   },
   {
    "duration": 22,
    "start_time": "2021-09-08T11:59:26.332Z"
   },
   {
    "duration": 7,
    "start_time": "2021-09-08T11:59:29.115Z"
   },
   {
    "duration": 20,
    "start_time": "2021-09-08T12:01:56.244Z"
   },
   {
    "duration": 13,
    "start_time": "2021-09-08T12:02:36.495Z"
   },
   {
    "duration": 23,
    "start_time": "2021-09-08T12:03:18.459Z"
   },
   {
    "duration": 22,
    "start_time": "2021-09-08T12:04:31.359Z"
   },
   {
    "duration": 22,
    "start_time": "2021-09-08T12:05:20.459Z"
   },
   {
    "duration": 21,
    "start_time": "2021-09-08T12:05:46.168Z"
   },
   {
    "duration": 495,
    "start_time": "2021-09-08T12:06:47.139Z"
   },
   {
    "duration": 19,
    "start_time": "2021-09-08T12:06:50.171Z"
   },
   {
    "duration": 7,
    "start_time": "2021-09-08T12:06:50.943Z"
   },
   {
    "duration": 7,
    "start_time": "2021-09-08T12:07:23.099Z"
   },
   {
    "duration": 423,
    "start_time": "2021-09-08T12:15:50.062Z"
   },
   {
    "duration": 401,
    "start_time": "2021-09-08T12:15:51.026Z"
   },
   {
    "duration": 18,
    "start_time": "2021-09-08T12:16:04.734Z"
   },
   {
    "duration": 7,
    "start_time": "2021-09-08T12:16:06.114Z"
   },
   {
    "duration": 1420,
    "start_time": "2021-09-08T12:41:09.071Z"
   },
   {
    "duration": 81,
    "start_time": "2021-09-08T12:41:25.066Z"
   },
   {
    "duration": 69,
    "start_time": "2021-09-08T12:42:00.810Z"
   },
   {
    "duration": 71,
    "start_time": "2021-09-08T12:44:37.526Z"
   },
   {
    "duration": 36,
    "start_time": "2021-09-08T12:44:50.901Z"
   },
   {
    "duration": 1566,
    "start_time": "2021-09-08T12:44:59.539Z"
   },
   {
    "duration": 4386,
    "start_time": "2021-09-08T12:45:01.108Z"
   },
   {
    "duration": 52,
    "start_time": "2021-09-08T12:45:05.498Z"
   },
   {
    "duration": 49,
    "start_time": "2021-09-08T12:45:05.552Z"
   },
   {
    "duration": 45,
    "start_time": "2021-09-08T12:45:05.604Z"
   },
   {
    "duration": 9981,
    "start_time": "2021-09-08T12:45:05.671Z"
   },
   {
    "duration": -6885780,
    "start_time": "2021-09-08T14:40:01.436Z"
   },
   {
    "duration": -6885783,
    "start_time": "2021-09-08T14:40:01.440Z"
   },
   {
    "duration": -6885788,
    "start_time": "2021-09-08T14:40:01.447Z"
   },
   {
    "duration": -6885793,
    "start_time": "2021-09-08T14:40:01.453Z"
   },
   {
    "duration": -6885795,
    "start_time": "2021-09-08T14:40:01.456Z"
   },
   {
    "duration": -6885795,
    "start_time": "2021-09-08T14:40:01.458Z"
   },
   {
    "duration": -6885796,
    "start_time": "2021-09-08T14:40:01.460Z"
   },
   {
    "duration": -6885797,
    "start_time": "2021-09-08T14:40:01.462Z"
   },
   {
    "duration": -6885798,
    "start_time": "2021-09-08T14:40:01.465Z"
   },
   {
    "duration": -6885798,
    "start_time": "2021-09-08T14:40:01.469Z"
   },
   {
    "duration": -6885798,
    "start_time": "2021-09-08T14:40:01.471Z"
   },
   {
    "duration": -6885798,
    "start_time": "2021-09-08T14:40:01.473Z"
   },
   {
    "duration": -6885798,
    "start_time": "2021-09-08T14:40:01.475Z"
   },
   {
    "duration": -6885797,
    "start_time": "2021-09-08T14:40:01.476Z"
   },
   {
    "duration": -6885806,
    "start_time": "2021-09-08T14:40:01.486Z"
   },
   {
    "duration": -6885809,
    "start_time": "2021-09-08T14:40:01.491Z"
   },
   {
    "duration": -6885810,
    "start_time": "2021-09-08T14:40:01.493Z"
   },
   {
    "duration": -6885810,
    "start_time": "2021-09-08T14:40:01.495Z"
   },
   {
    "duration": -6885811,
    "start_time": "2021-09-08T14:40:01.498Z"
   },
   {
    "duration": -6885814,
    "start_time": "2021-09-08T14:40:01.502Z"
   },
   {
    "duration": -6885816,
    "start_time": "2021-09-08T14:40:01.505Z"
   },
   {
    "duration": -6885817,
    "start_time": "2021-09-08T14:40:01.508Z"
   },
   {
    "duration": -6885817,
    "start_time": "2021-09-08T14:40:01.510Z"
   },
   {
    "duration": -6885819,
    "start_time": "2021-09-08T14:40:01.513Z"
   },
   {
    "duration": -6885827,
    "start_time": "2021-09-08T14:40:01.523Z"
   },
   {
    "duration": -6885828,
    "start_time": "2021-09-08T14:40:01.525Z"
   },
   {
    "duration": -6885829,
    "start_time": "2021-09-08T14:40:01.528Z"
   },
   {
    "duration": -6885831,
    "start_time": "2021-09-08T14:40:01.531Z"
   },
   {
    "duration": -6885832,
    "start_time": "2021-09-08T14:40:01.534Z"
   },
   {
    "duration": -6885838,
    "start_time": "2021-09-08T14:40:01.541Z"
   },
   {
    "duration": -6885840,
    "start_time": "2021-09-08T14:40:01.545Z"
   },
   {
    "duration": -6885840,
    "start_time": "2021-09-08T14:40:01.548Z"
   },
   {
    "duration": -6885785,
    "start_time": "2021-09-08T14:40:01.553Z"
   },
   {
    "duration": -6885787,
    "start_time": "2021-09-08T14:40:01.556Z"
   },
   {
    "duration": 4,
    "start_time": "2021-09-08T12:46:11.847Z"
   },
   {
    "duration": 32,
    "start_time": "2021-09-08T12:46:11.854Z"
   },
   {
    "duration": 3,
    "start_time": "2021-09-08T12:46:11.889Z"
   },
   {
    "duration": 15,
    "start_time": "2021-09-08T12:46:11.895Z"
   },
   {
    "duration": 60,
    "start_time": "2021-09-08T12:46:11.913Z"
   },
   {
    "duration": 1532,
    "start_time": "2021-09-08T12:46:11.975Z"
   },
   {
    "duration": 63,
    "start_time": "2021-09-08T12:46:13.510Z"
   },
   {
    "duration": 10,
    "start_time": "2021-09-08T12:46:13.578Z"
   },
   {
    "duration": 18,
    "start_time": "2021-09-08T12:46:13.592Z"
   },
   {
    "duration": 399,
    "start_time": "2021-09-08T12:46:13.613Z"
   },
   {
    "duration": -6885756,
    "start_time": "2021-09-08T14:40:59.771Z"
   },
   {
    "duration": -6885760,
    "start_time": "2021-09-08T14:40:59.776Z"
   },
   {
    "duration": -6885765,
    "start_time": "2021-09-08T14:40:59.783Z"
   },
   {
    "duration": -6885767,
    "start_time": "2021-09-08T14:40:59.786Z"
   },
   {
    "duration": -6885768,
    "start_time": "2021-09-08T14:40:59.788Z"
   },
   {
    "duration": -6885768,
    "start_time": "2021-09-08T14:40:59.790Z"
   },
   {
    "duration": -6885771,
    "start_time": "2021-09-08T14:40:59.794Z"
   },
   {
    "duration": -6885773,
    "start_time": "2021-09-08T14:40:59.797Z"
   },
   {
    "duration": -6885782,
    "start_time": "2021-09-08T14:40:59.808Z"
   },
   {
    "duration": -6885785,
    "start_time": "2021-09-08T14:40:59.812Z"
   },
   {
    "duration": -6885788,
    "start_time": "2021-09-08T14:40:59.816Z"
   },
   {
    "duration": -6885788,
    "start_time": "2021-09-08T14:40:59.818Z"
   },
   {
    "duration": -6885791,
    "start_time": "2021-09-08T14:40:59.822Z"
   },
   {
    "duration": -6885791,
    "start_time": "2021-09-08T14:40:59.824Z"
   },
   {
    "duration": -6885793,
    "start_time": "2021-09-08T14:40:59.827Z"
   },
   {
    "duration": -6885794,
    "start_time": "2021-09-08T14:40:59.829Z"
   },
   {
    "duration": -6885798,
    "start_time": "2021-09-08T14:40:59.834Z"
   },
   {
    "duration": -6885799,
    "start_time": "2021-09-08T14:40:59.837Z"
   },
   {
    "duration": -6885801,
    "start_time": "2021-09-08T14:40:59.840Z"
   },
   {
    "duration": -6885803,
    "start_time": "2021-09-08T14:40:59.843Z"
   },
   {
    "duration": -6885806,
    "start_time": "2021-09-08T14:40:59.847Z"
   },
   {
    "duration": -6885808,
    "start_time": "2021-09-08T14:40:59.850Z"
   },
   {
    "duration": -6885809,
    "start_time": "2021-09-08T14:40:59.853Z"
   },
   {
    "duration": -6885811,
    "start_time": "2021-09-08T14:40:59.856Z"
   },
   {
    "duration": -6885812,
    "start_time": "2021-09-08T14:40:59.858Z"
   },
   {
    "duration": 77,
    "start_time": "2021-09-08T12:46:32.640Z"
   },
   {
    "duration": 37,
    "start_time": "2021-09-08T12:46:41.582Z"
   },
   {
    "duration": 1469,
    "start_time": "2021-09-08T12:50:32.439Z"
   },
   {
    "duration": 3477,
    "start_time": "2021-09-08T12:50:33.910Z"
   },
   {
    "duration": 50,
    "start_time": "2021-09-08T12:50:37.391Z"
   },
   {
    "duration": 49,
    "start_time": "2021-09-08T12:50:37.444Z"
   },
   {
    "duration": 46,
    "start_time": "2021-09-08T12:50:37.496Z"
   },
   {
    "duration": 27,
    "start_time": "2021-09-08T12:50:37.545Z"
   },
   {
    "duration": 27,
    "start_time": "2021-09-08T12:50:37.575Z"
   },
   {
    "duration": 3,
    "start_time": "2021-09-08T12:50:37.606Z"
   },
   {
    "duration": 15,
    "start_time": "2021-09-08T12:50:37.613Z"
   },
   {
    "duration": 23,
    "start_time": "2021-09-08T12:50:37.669Z"
   },
   {
    "duration": 1505,
    "start_time": "2021-09-08T12:50:37.695Z"
   },
   {
    "duration": 7,
    "start_time": "2021-09-08T12:50:39.203Z"
   },
   {
    "duration": 20,
    "start_time": "2021-09-08T12:50:39.212Z"
   },
   {
    "duration": 19,
    "start_time": "2021-09-08T12:50:39.235Z"
   },
   {
    "duration": 517,
    "start_time": "2021-09-08T12:50:39.256Z"
   },
   {
    "duration": 1511,
    "start_time": "2021-09-08T12:50:39.776Z"
   },
   {
    "duration": 11,
    "start_time": "2021-09-08T12:50:41.290Z"
   },
   {
    "duration": 12,
    "start_time": "2021-09-08T12:50:41.303Z"
   },
   {
    "duration": 787,
    "start_time": "2021-09-08T12:50:41.318Z"
   },
   {
    "duration": 13,
    "start_time": "2021-09-08T12:50:42.108Z"
   },
   {
    "duration": 11,
    "start_time": "2021-09-08T12:50:42.124Z"
   },
   {
    "duration": 791,
    "start_time": "2021-09-08T12:50:42.137Z"
   },
   {
    "duration": 73,
    "start_time": "2021-09-08T12:50:42.935Z"
   },
   {
    "duration": 10,
    "start_time": "2021-09-08T12:50:43.012Z"
   },
   {
    "duration": 588,
    "start_time": "2021-09-08T12:50:43.026Z"
   },
   {
    "duration": 498,
    "start_time": "2021-09-08T12:50:43.618Z"
   },
   {
    "duration": 3,
    "start_time": "2021-09-08T12:50:44.119Z"
   },
   {
    "duration": 3215,
    "start_time": "2021-09-08T12:50:44.124Z"
   },
   {
    "duration": 3007,
    "start_time": "2021-09-08T12:50:47.342Z"
   },
   {
    "duration": 5092,
    "start_time": "2021-09-08T12:50:50.351Z"
   },
   {
    "duration": 442,
    "start_time": "2021-09-08T12:50:55.446Z"
   },
   {
    "duration": 741,
    "start_time": "2021-09-08T12:50:55.891Z"
   },
   {
    "duration": 997,
    "start_time": "2021-09-08T12:50:56.635Z"
   },
   {
    "duration": 1005,
    "start_time": "2021-09-08T12:50:57.635Z"
   },
   {
    "duration": 969,
    "start_time": "2021-09-08T12:50:58.643Z"
   },
   {
    "duration": 18,
    "start_time": "2021-09-08T12:50:59.615Z"
   },
   {
    "duration": 8,
    "start_time": "2021-09-08T12:50:59.636Z"
   },
   {
    "duration": 18,
    "start_time": "2021-09-08T12:50:59.668Z"
   },
   {
    "duration": 8,
    "start_time": "2021-09-08T12:50:59.689Z"
   },
   {
    "duration": 36,
    "start_time": "2021-09-08T13:03:55.817Z"
   },
   {
    "duration": 9,
    "start_time": "2021-09-08T13:31:19.989Z"
   },
   {
    "duration": 458,
    "start_time": "2021-09-08T13:31:20.866Z"
   },
   {
    "duration": 7,
    "start_time": "2021-09-08T13:33:42.621Z"
   },
   {
    "duration": 121,
    "start_time": "2021-09-08T13:49:12.208Z"
   },
   {
    "duration": 3280,
    "start_time": "2021-09-08T13:49:19.339Z"
   },
   {
    "duration": 2763,
    "start_time": "2021-09-08T13:50:03.727Z"
   },
   {
    "duration": 2732,
    "start_time": "2021-09-08T14:09:13.253Z"
   },
   {
    "duration": 3172,
    "start_time": "2021-09-08T14:09:20.805Z"
   },
   {
    "duration": 2804,
    "start_time": "2021-09-08T14:10:19.629Z"
   },
   {
    "duration": 3025,
    "start_time": "2021-09-08T14:10:40.565Z"
   },
   {
    "duration": 3101,
    "start_time": "2021-09-08T14:10:52.729Z"
   },
   {
    "duration": 663,
    "start_time": "2021-09-08T14:12:51.013Z"
   },
   {
    "duration": 703,
    "start_time": "2021-09-08T14:13:03.381Z"
   },
   {
    "duration": 540,
    "start_time": "2021-09-08T14:13:29.085Z"
   },
   {
    "duration": 360,
    "start_time": "2021-09-08T14:13:33.653Z"
   },
   {
    "duration": 334,
    "start_time": "2021-09-08T14:13:36.825Z"
   },
   {
    "duration": 388,
    "start_time": "2021-09-08T14:14:02.052Z"
   },
   {
    "duration": 689,
    "start_time": "2021-09-08T14:14:16.793Z"
   },
   {
    "duration": 6,
    "start_time": "2021-09-08T15:19:03.183Z"
   },
   {
    "duration": 7,
    "start_time": "2021-09-08T15:19:35.687Z"
   },
   {
    "duration": 18,
    "start_time": "2021-09-08T15:26:27.398Z"
   },
   {
    "duration": 73,
    "start_time": "2021-09-08T15:31:21.488Z"
   },
   {
    "duration": 10,
    "start_time": "2021-09-08T15:31:34.453Z"
   },
   {
    "duration": 14,
    "start_time": "2021-09-08T15:34:09.293Z"
   },
   {
    "duration": 13,
    "start_time": "2021-09-08T15:34:25.245Z"
   },
   {
    "duration": 15,
    "start_time": "2021-09-08T15:34:30.016Z"
   },
   {
    "duration": 1577,
    "start_time": "2021-09-08T15:35:10.789Z"
   },
   {
    "duration": 16,
    "start_time": "2021-09-08T15:36:02.329Z"
   },
   {
    "duration": 41,
    "start_time": "2021-09-08T15:36:20.592Z"
   },
   {
    "duration": 39,
    "start_time": "2021-09-08T15:36:42.160Z"
   },
   {
    "duration": 37,
    "start_time": "2021-09-08T15:37:04.328Z"
   },
   {
    "duration": 40,
    "start_time": "2021-09-08T15:37:20.352Z"
   },
   {
    "duration": 16,
    "start_time": "2021-09-08T15:37:33.016Z"
   },
   {
    "duration": 16,
    "start_time": "2021-09-08T15:37:47.768Z"
   },
   {
    "duration": 40,
    "start_time": "2021-09-08T15:38:00.924Z"
   },
   {
    "duration": 42,
    "start_time": "2021-09-08T15:38:06.000Z"
   },
   {
    "duration": 15,
    "start_time": "2021-09-08T15:38:15.737Z"
   },
   {
    "duration": 13,
    "start_time": "2021-09-08T15:39:31.824Z"
   },
   {
    "duration": 1897,
    "start_time": "2021-09-08T15:39:40.760Z"
   },
   {
    "duration": 14,
    "start_time": "2021-09-08T15:39:44.020Z"
   },
   {
    "duration": 14,
    "start_time": "2021-09-08T15:39:49.908Z"
   },
   {
    "duration": 14,
    "start_time": "2021-09-08T15:40:46.998Z"
   },
   {
    "duration": 15,
    "start_time": "2021-09-08T15:41:06.804Z"
   },
   {
    "duration": 14,
    "start_time": "2021-09-08T15:41:14.648Z"
   },
   {
    "duration": 116,
    "start_time": "2021-09-08T15:42:25.972Z"
   },
   {
    "duration": 1484,
    "start_time": "2021-09-08T16:09:02.129Z"
   },
   {
    "duration": 3596,
    "start_time": "2021-09-08T16:09:03.616Z"
   },
   {
    "duration": 50,
    "start_time": "2021-09-08T16:09:07.216Z"
   },
   {
    "duration": 45,
    "start_time": "2021-09-08T16:09:07.269Z"
   },
   {
    "duration": 65,
    "start_time": "2021-09-08T16:09:07.316Z"
   },
   {
    "duration": 4,
    "start_time": "2021-09-08T16:09:07.383Z"
   },
   {
    "duration": 44,
    "start_time": "2021-09-08T16:09:07.390Z"
   },
   {
    "duration": 3,
    "start_time": "2021-09-08T16:09:07.438Z"
   },
   {
    "duration": 36,
    "start_time": "2021-09-08T16:09:07.443Z"
   },
   {
    "duration": 32,
    "start_time": "2021-09-08T16:09:07.481Z"
   },
   {
    "duration": 1353,
    "start_time": "2021-09-08T16:09:07.516Z"
   },
   {
    "duration": 6,
    "start_time": "2021-09-08T16:09:08.872Z"
   },
   {
    "duration": 29,
    "start_time": "2021-09-08T16:09:08.880Z"
   },
   {
    "duration": 16,
    "start_time": "2021-09-08T16:09:08.912Z"
   },
   {
    "duration": 518,
    "start_time": "2021-09-08T16:09:08.931Z"
   },
   {
    "duration": 1463,
    "start_time": "2021-09-08T16:09:09.452Z"
   },
   {
    "duration": 10,
    "start_time": "2021-09-08T16:09:10.917Z"
   },
   {
    "duration": 26,
    "start_time": "2021-09-08T16:09:10.929Z"
   },
   {
    "duration": 775,
    "start_time": "2021-09-08T16:09:10.957Z"
   },
   {
    "duration": 12,
    "start_time": "2021-09-08T16:09:11.735Z"
   },
   {
    "duration": 24,
    "start_time": "2021-09-08T16:09:11.749Z"
   },
   {
    "duration": 769,
    "start_time": "2021-09-08T16:09:11.775Z"
   },
   {
    "duration": 49,
    "start_time": "2021-09-08T16:09:12.549Z"
   },
   {
    "duration": 7,
    "start_time": "2021-09-08T16:09:12.601Z"
   },
   {
    "duration": 560,
    "start_time": "2021-09-08T16:09:12.610Z"
   },
   {
    "duration": 8,
    "start_time": "2021-09-08T16:09:13.172Z"
   },
   {
    "duration": 2739,
    "start_time": "2021-09-08T16:09:13.182Z"
   },
   {
    "duration": 2797,
    "start_time": "2021-09-08T16:09:15.924Z"
   },
   {
    "duration": 3074,
    "start_time": "2021-09-08T16:09:18.724Z"
   },
   {
    "duration": 447,
    "start_time": "2021-09-08T16:09:21.800Z"
   },
   {
    "duration": 434,
    "start_time": "2021-09-08T16:09:22.250Z"
   },
   {
    "duration": 971,
    "start_time": "2021-09-08T16:09:22.687Z"
   },
   {
    "duration": 1022,
    "start_time": "2021-09-08T16:09:23.667Z"
   },
   {
    "duration": 1120,
    "start_time": "2021-09-08T16:09:24.691Z"
   },
   {
    "duration": 19,
    "start_time": "2021-09-08T16:09:25.814Z"
   },
   {
    "duration": 32,
    "start_time": "2021-09-08T16:09:25.835Z"
   },
   {
    "duration": 29,
    "start_time": "2021-09-08T16:09:25.869Z"
   },
   {
    "duration": 11,
    "start_time": "2021-09-08T16:09:25.900Z"
   },
   {
    "duration": 34,
    "start_time": "2021-09-08T16:09:25.913Z"
   },
   {
    "duration": 1170,
    "start_time": "2021-09-08T18:56:32.824Z"
   },
   {
    "duration": 3727,
    "start_time": "2021-09-08T18:56:33.996Z"
   },
   {
    "duration": 41,
    "start_time": "2021-09-08T18:56:37.728Z"
   },
   {
    "duration": 29,
    "start_time": "2021-09-08T18:56:37.771Z"
   },
   {
    "duration": 42,
    "start_time": "2021-09-08T18:56:37.801Z"
   },
   {
    "duration": 3,
    "start_time": "2021-09-08T18:56:37.845Z"
   },
   {
    "duration": 26,
    "start_time": "2021-09-08T18:56:37.850Z"
   },
   {
    "duration": 3,
    "start_time": "2021-09-08T18:56:37.878Z"
   },
   {
    "duration": 14,
    "start_time": "2021-09-08T18:56:37.882Z"
   },
   {
    "duration": 23,
    "start_time": "2021-09-08T18:56:37.898Z"
   },
   {
    "duration": 821,
    "start_time": "2021-09-08T18:56:37.922Z"
   },
   {
    "duration": 5,
    "start_time": "2021-09-08T18:56:38.744Z"
   },
   {
    "duration": 6,
    "start_time": "2021-09-08T18:56:38.751Z"
   },
   {
    "duration": 10,
    "start_time": "2021-09-08T18:56:38.759Z"
   },
   {
    "duration": 526,
    "start_time": "2021-09-08T18:56:38.771Z"
   },
   {
    "duration": 164,
    "start_time": "2021-09-08T18:56:39.135Z"
   },
   {
    "duration": 159,
    "start_time": "2021-09-08T18:56:39.141Z"
   },
   {
    "duration": 155,
    "start_time": "2021-09-08T18:56:39.146Z"
   },
   {
    "duration": 152,
    "start_time": "2021-09-08T18:56:39.150Z"
   },
   {
    "duration": 148,
    "start_time": "2021-09-08T18:56:39.154Z"
   },
   {
    "duration": 146,
    "start_time": "2021-09-08T18:56:39.157Z"
   },
   {
    "duration": 138,
    "start_time": "2021-09-08T18:56:39.166Z"
   },
   {
    "duration": 136,
    "start_time": "2021-09-08T18:56:39.170Z"
   },
   {
    "duration": 134,
    "start_time": "2021-09-08T18:56:39.173Z"
   },
   {
    "duration": 131,
    "start_time": "2021-09-08T18:56:39.177Z"
   },
   {
    "duration": 129,
    "start_time": "2021-09-08T18:56:39.180Z"
   },
   {
    "duration": 127,
    "start_time": "2021-09-08T18:56:39.183Z"
   },
   {
    "duration": 124,
    "start_time": "2021-09-08T18:56:39.187Z"
   },
   {
    "duration": 116,
    "start_time": "2021-09-08T18:56:39.196Z"
   },
   {
    "duration": 141,
    "start_time": "2021-09-08T18:56:39.200Z"
   },
   {
    "duration": 137,
    "start_time": "2021-09-08T18:56:39.205Z"
   },
   {
    "duration": 133,
    "start_time": "2021-09-08T18:56:39.210Z"
   },
   {
    "duration": 130,
    "start_time": "2021-09-08T18:56:39.214Z"
   },
   {
    "duration": 127,
    "start_time": "2021-09-08T18:56:39.218Z"
   },
   {
    "duration": 125,
    "start_time": "2021-09-08T18:56:39.221Z"
   },
   {
    "duration": 122,
    "start_time": "2021-09-08T18:56:39.225Z"
   },
   {
    "duration": 120,
    "start_time": "2021-09-08T18:56:39.228Z"
   },
   {
    "duration": 118,
    "start_time": "2021-09-08T18:56:39.231Z"
   },
   {
    "duration": 116,
    "start_time": "2021-09-08T18:56:39.234Z"
   },
   {
    "duration": 855,
    "start_time": "2021-09-08T18:57:31.640Z"
   },
   {
    "duration": 300,
    "start_time": "2021-09-08T18:59:33.572Z"
   },
   {
    "duration": 247,
    "start_time": "2021-09-08T18:59:34.041Z"
   },
   {
    "duration": 162,
    "start_time": "2021-09-08T18:59:34.128Z"
   },
   {
    "duration": 253,
    "start_time": "2021-09-08T18:59:35.101Z"
   },
   {
    "duration": 263,
    "start_time": "2021-09-08T18:59:35.426Z"
   },
   {
    "duration": 2,
    "start_time": "2021-09-08T18:59:35.939Z"
   },
   {
    "duration": 248,
    "start_time": "2021-09-08T18:59:36.472Z"
   },
   {
    "duration": 165,
    "start_time": "2021-09-08T18:59:36.558Z"
   },
   {
    "duration": 256,
    "start_time": "2021-09-08T18:59:37.010Z"
   },
   {
    "duration": 246,
    "start_time": "2021-09-08T18:59:37.611Z"
   },
   {
    "duration": 255,
    "start_time": "2021-09-08T18:59:37.980Z"
   },
   {
    "duration": 1250,
    "start_time": "2021-09-08T18:59:44.428Z"
   },
   {
    "duration": 39,
    "start_time": "2021-09-08T18:59:47.502Z"
   },
   {
    "duration": 31,
    "start_time": "2021-09-08T18:59:47.826Z"
   },
   {
    "duration": 31,
    "start_time": "2021-09-08T18:59:47.998Z"
   },
   {
    "duration": 3,
    "start_time": "2021-09-08T18:59:48.949Z"
   },
   {
    "duration": 18,
    "start_time": "2021-09-08T18:59:49.298Z"
   },
   {
    "duration": 2,
    "start_time": "2021-09-08T18:59:49.794Z"
   },
   {
    "duration": 15,
    "start_time": "2021-09-08T18:59:50.330Z"
   },
   {
    "duration": 23,
    "start_time": "2021-09-08T18:59:50.505Z"
   },
   {
    "duration": 1288,
    "start_time": "2021-09-08T18:59:50.873Z"
   },
   {
    "duration": 7,
    "start_time": "2021-09-08T18:59:52.164Z"
   },
   {
    "duration": 5,
    "start_time": "2021-09-08T18:59:52.579Z"
   },
   {
    "duration": 8,
    "start_time": "2021-09-08T18:59:53.271Z"
   },
   {
    "duration": 301,
    "start_time": "2021-09-08T18:59:55.016Z"
   },
   {
    "duration": 923,
    "start_time": "2021-09-08T19:00:06.040Z"
   },
   {
    "duration": 7,
    "start_time": "2021-09-08T19:03:36.318Z"
   },
   {
    "duration": 6,
    "start_time": "2021-09-08T19:03:36.529Z"
   },
   {
    "duration": 478,
    "start_time": "2021-09-08T19:03:41.401Z"
   },
   {
    "duration": 8,
    "start_time": "2021-09-08T19:03:43.344Z"
   },
   {
    "duration": 4,
    "start_time": "2021-09-08T19:03:44.568Z"
   },
   {
    "duration": 409,
    "start_time": "2021-09-08T19:03:46.837Z"
   },
   {
    "duration": 21,
    "start_time": "2021-09-08T19:04:08.001Z"
   },
   {
    "duration": 5,
    "start_time": "2021-09-08T19:04:09.052Z"
   },
   {
    "duration": 300,
    "start_time": "2021-09-08T19:04:09.312Z"
   },
   {
    "duration": 5,
    "start_time": "2021-09-08T19:07:31.971Z"
   },
   {
    "duration": 1639,
    "start_time": "2021-09-08T19:07:32.337Z"
   },
   {
    "duration": 1596,
    "start_time": "2021-09-08T19:07:51.423Z"
   },
   {
    "duration": 1807,
    "start_time": "2021-09-08T19:07:53.021Z"
   },
   {
    "duration": 244,
    "start_time": "2021-09-08T19:08:12.798Z"
   },
   {
    "duration": 232,
    "start_time": "2021-09-08T19:08:13.487Z"
   },
   {
    "duration": 534,
    "start_time": "2021-09-08T19:09:19.480Z"
   },
   {
    "duration": 548,
    "start_time": "2021-09-08T19:09:21.182Z"
   },
   {
    "duration": 619,
    "start_time": "2021-09-08T19:09:22.347Z"
   },
   {
    "duration": 13,
    "start_time": "2021-09-08T19:09:37.179Z"
   },
   {
    "duration": 5,
    "start_time": "2021-09-08T19:09:42.782Z"
   },
   {
    "duration": 13,
    "start_time": "2021-09-08T19:09:45.362Z"
   },
   {
    "duration": 5,
    "start_time": "2021-09-08T19:09:46.261Z"
   },
   {
    "duration": 9,
    "start_time": "2021-09-08T19:09:47.190Z"
   },
   {
    "duration": 1222,
    "start_time": "2021-09-09T05:04:39.746Z"
   },
   {
    "duration": 3856,
    "start_time": "2021-09-09T05:04:40.970Z"
   },
   {
    "duration": 42,
    "start_time": "2021-09-09T05:04:44.829Z"
   },
   {
    "duration": 31,
    "start_time": "2021-09-09T05:04:44.873Z"
   },
   {
    "duration": 31,
    "start_time": "2021-09-09T05:04:44.906Z"
   },
   {
    "duration": 3,
    "start_time": "2021-09-09T05:04:44.939Z"
   },
   {
    "duration": 43,
    "start_time": "2021-09-09T05:04:44.943Z"
   },
   {
    "duration": 9,
    "start_time": "2021-09-09T05:04:44.988Z"
   },
   {
    "duration": 38,
    "start_time": "2021-09-09T05:04:44.999Z"
   },
   {
    "duration": 23,
    "start_time": "2021-09-09T05:04:45.039Z"
   },
   {
    "duration": 392,
    "start_time": "2021-09-09T05:04:45.064Z"
   },
   {
    "duration": -6885343,
    "start_time": "2021-09-09T06:59:30.802Z"
   },
   {
    "duration": -6885346,
    "start_time": "2021-09-09T06:59:30.806Z"
   },
   {
    "duration": -6885349,
    "start_time": "2021-09-09T06:59:30.810Z"
   },
   {
    "duration": -6885351,
    "start_time": "2021-09-09T06:59:30.813Z"
   },
   {
    "duration": -6885353,
    "start_time": "2021-09-09T06:59:30.815Z"
   },
   {
    "duration": -6885357,
    "start_time": "2021-09-09T06:59:30.820Z"
   },
   {
    "duration": -6885360,
    "start_time": "2021-09-09T06:59:30.824Z"
   },
   {
    "duration": -6885362,
    "start_time": "2021-09-09T06:59:30.827Z"
   },
   {
    "duration": -6885365,
    "start_time": "2021-09-09T06:59:30.831Z"
   },
   {
    "duration": -6885379,
    "start_time": "2021-09-09T06:59:30.845Z"
   },
   {
    "duration": -6885381,
    "start_time": "2021-09-09T06:59:30.848Z"
   },
   {
    "duration": -6885385,
    "start_time": "2021-09-09T06:59:30.853Z"
   },
   {
    "duration": -6885392,
    "start_time": "2021-09-09T06:59:30.861Z"
   },
   {
    "duration": -6885394,
    "start_time": "2021-09-09T06:59:30.864Z"
   },
   {
    "duration": -6885405,
    "start_time": "2021-09-09T06:59:30.876Z"
   },
   {
    "duration": -6885409,
    "start_time": "2021-09-09T06:59:30.881Z"
   },
   {
    "duration": -6885414,
    "start_time": "2021-09-09T06:59:30.886Z"
   },
   {
    "duration": -6885421,
    "start_time": "2021-09-09T06:59:30.894Z"
   },
   {
    "duration": -6885423,
    "start_time": "2021-09-09T06:59:30.897Z"
   },
   {
    "duration": -6885426,
    "start_time": "2021-09-09T06:59:30.901Z"
   },
   {
    "duration": -6885434,
    "start_time": "2021-09-09T06:59:30.910Z"
   },
   {
    "duration": -6885437,
    "start_time": "2021-09-09T06:59:30.913Z"
   },
   {
    "duration": -6885442,
    "start_time": "2021-09-09T06:59:30.919Z"
   },
   {
    "duration": -6885448,
    "start_time": "2021-09-09T06:59:30.926Z"
   },
   {
    "duration": -6885452,
    "start_time": "2021-09-09T06:59:30.931Z"
   },
   {
    "duration": -6885456,
    "start_time": "2021-09-09T06:59:30.936Z"
   },
   {
    "duration": -6885464,
    "start_time": "2021-09-09T06:59:30.944Z"
   },
   {
    "duration": -6885466,
    "start_time": "2021-09-09T06:59:30.947Z"
   },
   {
    "duration": 885,
    "start_time": "2021-09-09T05:05:05.210Z"
   },
   {
    "duration": 895,
    "start_time": "2021-09-09T05:05:10.753Z"
   },
   {
    "duration": 5,
    "start_time": "2021-09-09T05:05:11.650Z"
   },
   {
    "duration": 21,
    "start_time": "2021-09-09T05:05:11.657Z"
   },
   {
    "duration": 19,
    "start_time": "2021-09-09T05:05:11.680Z"
   },
   {
    "duration": 566,
    "start_time": "2021-09-09T05:05:11.701Z"
   },
   {
    "duration": -6885327,
    "start_time": "2021-09-09T06:59:57.604Z"
   },
   {
    "duration": -6885333,
    "start_time": "2021-09-09T06:59:57.611Z"
   },
   {
    "duration": -6885336,
    "start_time": "2021-09-09T06:59:57.615Z"
   },
   {
    "duration": -6885341,
    "start_time": "2021-09-09T06:59:57.621Z"
   },
   {
    "duration": -6885344,
    "start_time": "2021-09-09T06:59:57.625Z"
   },
   {
    "duration": -6885348,
    "start_time": "2021-09-09T06:59:57.630Z"
   },
   {
    "duration": -6885350,
    "start_time": "2021-09-09T06:59:57.633Z"
   },
   {
    "duration": -6885351,
    "start_time": "2021-09-09T06:59:57.635Z"
   },
   {
    "duration": -6885355,
    "start_time": "2021-09-09T06:59:57.640Z"
   },
   {
    "duration": -6885356,
    "start_time": "2021-09-09T06:59:57.643Z"
   },
   {
    "duration": -6885359,
    "start_time": "2021-09-09T06:59:57.646Z"
   },
   {
    "duration": -6885361,
    "start_time": "2021-09-09T06:59:57.649Z"
   },
   {
    "duration": -6885363,
    "start_time": "2021-09-09T06:59:57.652Z"
   },
   {
    "duration": -6885365,
    "start_time": "2021-09-09T06:59:57.655Z"
   },
   {
    "duration": -6885366,
    "start_time": "2021-09-09T06:59:57.658Z"
   },
   {
    "duration": -6885374,
    "start_time": "2021-09-09T06:59:57.667Z"
   },
   {
    "duration": -6885377,
    "start_time": "2021-09-09T06:59:57.671Z"
   },
   {
    "duration": -6885379,
    "start_time": "2021-09-09T06:59:57.674Z"
   },
   {
    "duration": -6885381,
    "start_time": "2021-09-09T06:59:57.677Z"
   },
   {
    "duration": -6885383,
    "start_time": "2021-09-09T06:59:57.680Z"
   },
   {
    "duration": -6885384,
    "start_time": "2021-09-09T06:59:57.682Z"
   },
   {
    "duration": -6885386,
    "start_time": "2021-09-09T06:59:57.685Z"
   },
   {
    "duration": -6885387,
    "start_time": "2021-09-09T06:59:57.687Z"
   },
   {
    "duration": -6885388,
    "start_time": "2021-09-09T06:59:57.689Z"
   },
   {
    "duration": 1214,
    "start_time": "2021-09-09T05:05:42.230Z"
   },
   {
    "duration": 2800,
    "start_time": "2021-09-09T05:05:43.446Z"
   },
   {
    "duration": 47,
    "start_time": "2021-09-09T05:05:46.249Z"
   },
   {
    "duration": 37,
    "start_time": "2021-09-09T05:05:46.299Z"
   },
   {
    "duration": 51,
    "start_time": "2021-09-09T05:05:46.339Z"
   },
   {
    "duration": 3,
    "start_time": "2021-09-09T05:05:46.393Z"
   },
   {
    "duration": 24,
    "start_time": "2021-09-09T05:05:46.398Z"
   },
   {
    "duration": 3,
    "start_time": "2021-09-09T05:05:46.425Z"
   },
   {
    "duration": 15,
    "start_time": "2021-09-09T05:05:46.430Z"
   },
   {
    "duration": 38,
    "start_time": "2021-09-09T05:05:46.448Z"
   },
   {
    "duration": 932,
    "start_time": "2021-09-09T05:05:46.489Z"
   },
   {
    "duration": 5,
    "start_time": "2021-09-09T05:05:47.423Z"
   },
   {
    "duration": 11,
    "start_time": "2021-09-09T05:05:47.430Z"
   },
   {
    "duration": 11,
    "start_time": "2021-09-09T05:05:47.443Z"
   },
   {
    "duration": 360,
    "start_time": "2021-09-09T05:05:47.456Z"
   },
   {
    "duration": 1083,
    "start_time": "2021-09-09T05:05:47.818Z"
   },
   {
    "duration": 8,
    "start_time": "2021-09-09T05:05:48.903Z"
   },
   {
    "duration": 10,
    "start_time": "2021-09-09T05:05:48.913Z"
   },
   {
    "duration": 598,
    "start_time": "2021-09-09T05:05:48.925Z"
   },
   {
    "duration": 12,
    "start_time": "2021-09-09T05:05:49.525Z"
   },
   {
    "duration": 8,
    "start_time": "2021-09-09T05:05:49.539Z"
   },
   {
    "duration": 560,
    "start_time": "2021-09-09T05:05:49.549Z"
   },
   {
    "duration": 29,
    "start_time": "2021-09-09T05:05:50.115Z"
   },
   {
    "duration": 396,
    "start_time": "2021-09-09T05:05:50.148Z"
   },
   {
    "duration": -6885334,
    "start_time": "2021-09-09T07:00:35.881Z"
   },
   {
    "duration": -6885338,
    "start_time": "2021-09-09T07:00:35.886Z"
   },
   {
    "duration": -6885342,
    "start_time": "2021-09-09T07:00:35.892Z"
   },
   {
    "duration": -6885346,
    "start_time": "2021-09-09T07:00:35.897Z"
   },
   {
    "duration": -6885349,
    "start_time": "2021-09-09T07:00:35.902Z"
   },
   {
    "duration": -6885351,
    "start_time": "2021-09-09T07:00:35.905Z"
   },
   {
    "duration": -6885351,
    "start_time": "2021-09-09T07:00:35.907Z"
   },
   {
    "duration": -6885353,
    "start_time": "2021-09-09T07:00:35.910Z"
   },
   {
    "duration": -6885354,
    "start_time": "2021-09-09T07:00:35.913Z"
   },
   {
    "duration": -6885355,
    "start_time": "2021-09-09T07:00:35.916Z"
   },
   {
    "duration": -6885356,
    "start_time": "2021-09-09T07:00:35.918Z"
   },
   {
    "duration": -6885358,
    "start_time": "2021-09-09T07:00:35.922Z"
   },
   {
    "duration": -6885366,
    "start_time": "2021-09-09T07:00:35.931Z"
   },
   {
    "duration": -6885366,
    "start_time": "2021-09-09T07:00:35.933Z"
   },
   {
    "duration": -6885368,
    "start_time": "2021-09-09T07:00:35.936Z"
   },
   {
    "duration": 7,
    "start_time": "2021-09-09T05:07:02.762Z"
   },
   {
    "duration": 7,
    "start_time": "2021-09-09T05:07:07.815Z"
   },
   {
    "duration": 367,
    "start_time": "2021-09-09T05:07:07.825Z"
   },
   {
    "duration": 6,
    "start_time": "2021-09-09T05:07:08.195Z"
   },
   {
    "duration": 2272,
    "start_time": "2021-09-09T05:07:08.203Z"
   },
   {
    "duration": 2007,
    "start_time": "2021-09-09T05:07:10.476Z"
   },
   {
    "duration": 2270,
    "start_time": "2021-09-09T05:07:12.486Z"
   },
   {
    "duration": 413,
    "start_time": "2021-09-09T05:07:14.766Z"
   },
   {
    "duration": 287,
    "start_time": "2021-09-09T05:07:15.182Z"
   },
   {
    "duration": 641,
    "start_time": "2021-09-09T05:07:15.476Z"
   },
   {
    "duration": 683,
    "start_time": "2021-09-09T05:07:16.119Z"
   },
   {
    "duration": 764,
    "start_time": "2021-09-09T05:07:16.804Z"
   },
   {
    "duration": 19,
    "start_time": "2021-09-09T05:07:17.570Z"
   },
   {
    "duration": 5,
    "start_time": "2021-09-09T05:07:17.591Z"
   },
   {
    "duration": 14,
    "start_time": "2021-09-09T05:07:17.598Z"
   },
   {
    "duration": 5,
    "start_time": "2021-09-09T05:07:17.614Z"
   },
   {
    "duration": 12,
    "start_time": "2021-09-09T05:07:17.621Z"
   },
   {
    "duration": 1027,
    "start_time": "2021-09-09T05:08:52.355Z"
   },
   {
    "duration": 979,
    "start_time": "2021-09-09T05:13:33.730Z"
   },
   {
    "duration": 937,
    "start_time": "2021-09-09T05:15:04.386Z"
   },
   {
    "duration": 961,
    "start_time": "2021-09-09T05:17:12.812Z"
   },
   {
    "duration": 1077,
    "start_time": "2021-09-09T05:18:50.170Z"
   },
   {
    "duration": 1073,
    "start_time": "2021-09-09T05:19:28.185Z"
   },
   {
    "duration": 7,
    "start_time": "2021-09-09T05:20:34.134Z"
   },
   {
    "duration": 7,
    "start_time": "2021-09-09T05:20:37.225Z"
   },
   {
    "duration": 523,
    "start_time": "2021-09-09T05:20:44.674Z"
   },
   {
    "duration": 540,
    "start_time": "2021-09-09T05:21:22.205Z"
   },
   {
    "duration": 501,
    "start_time": "2021-09-09T05:31:38.800Z"
   },
   {
    "duration": 433,
    "start_time": "2021-09-09T05:32:03.130Z"
   },
   {
    "duration": 444,
    "start_time": "2021-09-09T05:33:05.264Z"
   },
   {
    "duration": 599,
    "start_time": "2021-09-09T05:34:47.296Z"
   },
   {
    "duration": 278,
    "start_time": "2021-09-09T05:34:54.492Z"
   },
   {
    "duration": 16,
    "start_time": "2021-09-09T05:36:00.980Z"
   },
   {
    "duration": 285,
    "start_time": "2021-09-09T05:36:24.299Z"
   },
   {
    "duration": 288,
    "start_time": "2021-09-09T05:36:38.276Z"
   },
   {
    "duration": 293,
    "start_time": "2021-09-09T05:37:04.072Z"
   },
   {
    "duration": 424,
    "start_time": "2021-09-09T05:39:11.568Z"
   },
   {
    "duration": 405,
    "start_time": "2021-09-09T05:39:53.967Z"
   },
   {
    "duration": 426,
    "start_time": "2021-09-09T05:40:12.015Z"
   },
   {
    "duration": 1439,
    "start_time": "2021-09-09T05:46:46.558Z"
   },
   {
    "duration": 790,
    "start_time": "2021-09-09T05:47:22.266Z"
   },
   {
    "duration": 644,
    "start_time": "2021-09-09T05:47:51.505Z"
   },
   {
    "duration": 748,
    "start_time": "2021-09-09T05:48:21.009Z"
   },
   {
    "duration": 639,
    "start_time": "2021-09-09T05:48:49.773Z"
   },
   {
    "duration": 291,
    "start_time": "2021-09-09T05:53:56.056Z"
   },
   {
    "duration": 118,
    "start_time": "2021-09-09T05:54:30.601Z"
   },
   {
    "duration": 92,
    "start_time": "2021-09-09T05:54:48.761Z"
   },
   {
    "duration": 289,
    "start_time": "2021-09-09T05:55:00.568Z"
   },
   {
    "duration": 542,
    "start_time": "2021-09-09T05:55:07.037Z"
   },
   {
    "duration": 613,
    "start_time": "2021-09-09T05:55:15.289Z"
   },
   {
    "duration": 492,
    "start_time": "2021-09-09T05:55:20.745Z"
   },
   {
    "duration": 9,
    "start_time": "2021-09-09T05:56:48.285Z"
   },
   {
    "duration": 12,
    "start_time": "2021-09-09T05:56:53.288Z"
   },
   {
    "duration": 10,
    "start_time": "2021-09-09T05:57:03.440Z"
   },
   {
    "duration": 555,
    "start_time": "2021-09-09T05:57:37.240Z"
   },
   {
    "duration": 446,
    "start_time": "2021-09-09T05:57:48.456Z"
   },
   {
    "duration": 415,
    "start_time": "2021-09-09T05:57:52.788Z"
   },
   {
    "duration": 404,
    "start_time": "2021-09-09T05:58:04.612Z"
   },
   {
    "duration": 711,
    "start_time": "2021-09-09T06:07:22.767Z"
   },
   {
    "duration": 662,
    "start_time": "2021-09-09T06:07:38.565Z"
   },
   {
    "duration": 1162,
    "start_time": "2021-09-09T06:08:06.675Z"
   },
   {
    "duration": 1039,
    "start_time": "2021-09-09T06:08:25.663Z"
   },
   {
    "duration": 282,
    "start_time": "2021-09-09T06:09:16.809Z"
   },
   {
    "duration": 1097,
    "start_time": "2021-09-09T06:09:31.555Z"
   },
   {
    "duration": 787,
    "start_time": "2021-09-09T06:18:47.078Z"
   },
   {
    "duration": 874,
    "start_time": "2021-09-09T06:18:57.469Z"
   },
   {
    "duration": 352,
    "start_time": "2021-09-09T06:29:37.297Z"
   },
   {
    "duration": 495,
    "start_time": "2021-09-09T06:29:46.808Z"
   },
   {
    "duration": 317,
    "start_time": "2021-09-09T06:37:01.176Z"
   },
   {
    "duration": 719,
    "start_time": "2021-09-09T06:37:07.660Z"
   },
   {
    "duration": 601,
    "start_time": "2021-09-09T06:38:33.708Z"
   },
   {
    "duration": 1291,
    "start_time": "2021-09-09T06:39:46.220Z"
   },
   {
    "duration": 1172,
    "start_time": "2021-09-09T06:47:36.962Z"
   },
   {
    "duration": 2599,
    "start_time": "2021-09-09T06:47:38.138Z"
   },
   {
    "duration": 44,
    "start_time": "2021-09-09T06:47:40.740Z"
   },
   {
    "duration": 32,
    "start_time": "2021-09-09T06:47:40.786Z"
   },
   {
    "duration": 30,
    "start_time": "2021-09-09T06:47:40.820Z"
   },
   {
    "duration": 3,
    "start_time": "2021-09-09T06:47:40.852Z"
   },
   {
    "duration": 18,
    "start_time": "2021-09-09T06:47:40.878Z"
   },
   {
    "duration": 2,
    "start_time": "2021-09-09T06:47:40.898Z"
   },
   {
    "duration": 12,
    "start_time": "2021-09-09T06:47:40.902Z"
   },
   {
    "duration": 19,
    "start_time": "2021-09-09T06:47:40.916Z"
   },
   {
    "duration": 882,
    "start_time": "2021-09-09T06:47:40.937Z"
   },
   {
    "duration": 5,
    "start_time": "2021-09-09T06:47:41.821Z"
   },
   {
    "duration": 9,
    "start_time": "2021-09-09T06:47:41.828Z"
   },
   {
    "duration": 9,
    "start_time": "2021-09-09T06:47:41.839Z"
   },
   {
    "duration": 357,
    "start_time": "2021-09-09T06:47:41.850Z"
   },
   {
    "duration": 1276,
    "start_time": "2021-09-09T06:47:42.210Z"
   },
   {
    "duration": 8,
    "start_time": "2021-09-09T06:47:43.488Z"
   },
   {
    "duration": 7,
    "start_time": "2021-09-09T06:47:43.498Z"
   },
   {
    "duration": 599,
    "start_time": "2021-09-09T06:47:43.506Z"
   },
   {
    "duration": 9,
    "start_time": "2021-09-09T06:47:44.107Z"
   },
   {
    "duration": 5,
    "start_time": "2021-09-09T06:47:44.118Z"
   },
   {
    "duration": 500,
    "start_time": "2021-09-09T06:47:44.127Z"
   },
   {
    "duration": 25,
    "start_time": "2021-09-09T06:47:44.629Z"
   },
   {
    "duration": 23,
    "start_time": "2021-09-09T06:47:44.656Z"
   },
   {
    "duration": 360,
    "start_time": "2021-09-09T06:47:44.681Z"
   },
   {
    "duration": 5,
    "start_time": "2021-09-09T06:47:45.042Z"
   },
   {
    "duration": 2000,
    "start_time": "2021-09-09T06:47:45.049Z"
   },
   {
    "duration": 2128,
    "start_time": "2021-09-09T06:47:47.051Z"
   },
   {
    "duration": 2197,
    "start_time": "2021-09-09T06:47:49.181Z"
   },
   {
    "duration": 302,
    "start_time": "2021-09-09T06:47:51.380Z"
   },
   {
    "duration": 437,
    "start_time": "2021-09-09T06:47:51.685Z"
   },
   {
    "duration": 654,
    "start_time": "2021-09-09T06:47:52.124Z"
   },
   {
    "duration": 663,
    "start_time": "2021-09-09T06:47:52.781Z"
   },
   {
    "duration": 739,
    "start_time": "2021-09-09T06:47:53.446Z"
   },
   {
    "duration": 19,
    "start_time": "2021-09-09T06:47:54.187Z"
   },
   {
    "duration": 5,
    "start_time": "2021-09-09T06:47:54.208Z"
   },
   {
    "duration": 15,
    "start_time": "2021-09-09T06:47:54.215Z"
   },
   {
    "duration": 5,
    "start_time": "2021-09-09T06:47:54.232Z"
   },
   {
    "duration": 48,
    "start_time": "2021-09-09T06:47:54.239Z"
   },
   {
    "duration": 2082,
    "start_time": "2021-09-09T13:44:59.477Z"
   },
   {
    "duration": 4757,
    "start_time": "2021-09-09T13:45:01.566Z"
   },
   {
    "duration": 48,
    "start_time": "2021-09-09T13:45:06.326Z"
   },
   {
    "duration": 42,
    "start_time": "2021-09-09T13:45:06.377Z"
   },
   {
    "duration": 63,
    "start_time": "2021-09-09T13:45:06.421Z"
   },
   {
    "duration": 4,
    "start_time": "2021-09-09T13:45:06.486Z"
   },
   {
    "duration": 52,
    "start_time": "2021-09-09T13:45:06.492Z"
   },
   {
    "duration": 9,
    "start_time": "2021-09-09T13:45:06.548Z"
   },
   {
    "duration": 16,
    "start_time": "2021-09-09T13:45:06.560Z"
   },
   {
    "duration": 19,
    "start_time": "2021-09-09T13:45:06.578Z"
   },
   {
    "duration": 1335,
    "start_time": "2021-09-09T13:45:06.600Z"
   },
   {
    "duration": 6,
    "start_time": "2021-09-09T13:45:07.938Z"
   },
   {
    "duration": 7,
    "start_time": "2021-09-09T13:45:07.946Z"
   },
   {
    "duration": 26,
    "start_time": "2021-09-09T13:45:07.956Z"
   },
   {
    "duration": 815,
    "start_time": "2021-09-09T13:45:07.984Z"
   },
   {
    "duration": -212,
    "start_time": "2021-09-09T13:45:09.015Z"
   },
   {
    "duration": -223,
    "start_time": "2021-09-09T13:45:09.027Z"
   },
   {
    "duration": -226,
    "start_time": "2021-09-09T13:45:09.032Z"
   },
   {
    "duration": -238,
    "start_time": "2021-09-09T13:45:09.046Z"
   },
   {
    "duration": -243,
    "start_time": "2021-09-09T13:45:09.052Z"
   },
   {
    "duration": -256,
    "start_time": "2021-09-09T13:45:09.066Z"
   },
   {
    "duration": -267,
    "start_time": "2021-09-09T13:45:09.079Z"
   },
   {
    "duration": -272,
    "start_time": "2021-09-09T13:45:09.086Z"
   },
   {
    "duration": -275,
    "start_time": "2021-09-09T13:45:09.090Z"
   },
   {
    "duration": -279,
    "start_time": "2021-09-09T13:45:09.096Z"
   },
   {
    "duration": -285,
    "start_time": "2021-09-09T13:45:09.103Z"
   },
   {
    "duration": -290,
    "start_time": "2021-09-09T13:45:09.109Z"
   },
   {
    "duration": -292,
    "start_time": "2021-09-09T13:45:09.113Z"
   },
   {
    "duration": -297,
    "start_time": "2021-09-09T13:45:09.119Z"
   },
   {
    "duration": -309,
    "start_time": "2021-09-09T13:45:09.132Z"
   },
   {
    "duration": -314,
    "start_time": "2021-09-09T13:45:09.139Z"
   },
   {
    "duration": -315,
    "start_time": "2021-09-09T13:45:09.142Z"
   },
   {
    "duration": -319,
    "start_time": "2021-09-09T13:45:09.148Z"
   },
   {
    "duration": -329,
    "start_time": "2021-09-09T13:45:09.160Z"
   },
   {
    "duration": -283,
    "start_time": "2021-09-09T13:45:09.165Z"
   },
   {
    "duration": -287,
    "start_time": "2021-09-09T13:45:09.170Z"
   },
   {
    "duration": -289,
    "start_time": "2021-09-09T13:45:09.174Z"
   },
   {
    "duration": -292,
    "start_time": "2021-09-09T13:45:09.178Z"
   },
   {
    "duration": -296,
    "start_time": "2021-09-09T13:45:09.183Z"
   },
   {
    "duration": 1339,
    "start_time": "2021-09-09T13:45:19.530Z"
   },
   {
    "duration": 3270,
    "start_time": "2021-09-09T13:45:20.872Z"
   },
   {
    "duration": 50,
    "start_time": "2021-09-09T13:45:24.146Z"
   },
   {
    "duration": 46,
    "start_time": "2021-09-09T13:45:24.199Z"
   },
   {
    "duration": 60,
    "start_time": "2021-09-09T13:45:24.248Z"
   },
   {
    "duration": 4,
    "start_time": "2021-09-09T13:45:24.310Z"
   },
   {
    "duration": 28,
    "start_time": "2021-09-09T13:45:24.316Z"
   },
   {
    "duration": 3,
    "start_time": "2021-09-09T13:45:24.348Z"
   },
   {
    "duration": 41,
    "start_time": "2021-09-09T13:45:24.354Z"
   },
   {
    "duration": 28,
    "start_time": "2021-09-09T13:45:24.397Z"
   },
   {
    "duration": 1311,
    "start_time": "2021-09-09T13:45:24.427Z"
   },
   {
    "duration": 7,
    "start_time": "2021-09-09T13:45:25.741Z"
   },
   {
    "duration": 16,
    "start_time": "2021-09-09T13:45:25.750Z"
   },
   {
    "duration": 16,
    "start_time": "2021-09-09T13:45:25.769Z"
   },
   {
    "duration": 461,
    "start_time": "2021-09-09T13:45:25.788Z"
   },
   {
    "duration": 1355,
    "start_time": "2021-09-09T13:45:26.252Z"
   },
   {
    "duration": 10,
    "start_time": "2021-09-09T13:45:27.610Z"
   },
   {
    "duration": 33,
    "start_time": "2021-09-09T13:45:27.623Z"
   },
   {
    "duration": 739,
    "start_time": "2021-09-09T13:45:27.659Z"
   },
   {
    "duration": 13,
    "start_time": "2021-09-09T13:45:28.400Z"
   },
   {
    "duration": 6,
    "start_time": "2021-09-09T13:45:28.415Z"
   },
   {
    "duration": 685,
    "start_time": "2021-09-09T13:45:28.423Z"
   },
   {
    "duration": 32,
    "start_time": "2021-09-09T13:45:29.113Z"
   },
   {
    "duration": 7,
    "start_time": "2021-09-09T13:45:29.148Z"
   },
   {
    "duration": 483,
    "start_time": "2021-09-09T13:45:29.157Z"
   },
   {
    "duration": 10,
    "start_time": "2021-09-09T13:45:29.643Z"
   },
   {
    "duration": 2633,
    "start_time": "2021-09-09T13:45:29.655Z"
   },
   {
    "duration": 2571,
    "start_time": "2021-09-09T13:45:32.291Z"
   },
   {
    "duration": 3070,
    "start_time": "2021-09-09T13:45:34.865Z"
   },
   {
    "duration": 432,
    "start_time": "2021-09-09T13:45:37.939Z"
   },
   {
    "duration": 611,
    "start_time": "2021-09-09T13:45:38.373Z"
   },
   {
    "duration": 911,
    "start_time": "2021-09-09T13:45:38.986Z"
   },
   {
    "duration": 924,
    "start_time": "2021-09-09T13:45:39.899Z"
   },
   {
    "duration": 992,
    "start_time": "2021-09-09T13:45:40.826Z"
   },
   {
    "duration": 18,
    "start_time": "2021-09-09T13:45:41.820Z"
   },
   {
    "duration": 8,
    "start_time": "2021-09-09T13:45:41.840Z"
   },
   {
    "duration": 45,
    "start_time": "2021-09-09T13:45:41.850Z"
   },
   {
    "duration": 6,
    "start_time": "2021-09-09T13:45:41.897Z"
   },
   {
    "duration": 18,
    "start_time": "2021-09-09T13:45:41.905Z"
   },
   {
    "duration": 1328,
    "start_time": "2021-09-09T13:45:53.648Z"
   }
  ],
  "kernelspec": {
   "display_name": "Python 3",
   "language": "python",
   "name": "python3"
  },
  "language_info": {
   "codemirror_mode": {
    "name": "ipython",
    "version": 3
   },
   "file_extension": ".py",
   "mimetype": "text/x-python",
   "name": "python",
   "nbconvert_exporter": "python",
   "pygments_lexer": "ipython3",
   "version": "3.7.8"
  },
  "toc": {
   "base_numbering": 1,
   "nav_menu": {},
   "number_sections": true,
   "sideBar": true,
   "skip_h1_title": true,
   "title_cell": "Table of Contents",
   "title_sidebar": "Contents",
   "toc_cell": false,
   "toc_position": {
    "height": "calc(100% - 180px)",
    "left": "10px",
    "top": "150px",
    "width": "289.6px"
   },
   "toc_section_display": true,
   "toc_window_display": true
  }
 },
 "nbformat": 4,
 "nbformat_minor": 2
}
