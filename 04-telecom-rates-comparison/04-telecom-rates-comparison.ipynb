{
 "cells": [
  {
   "cell_type": "markdown",
   "metadata": {},
   "source": [
    "# Исследование тарифных планов\n",
    "В нашем распоряжении данные компании «Мегалайн» — федерального оператора сотовой связи. Мы имеем данные небольшой выборки клиентов - 500 пользователей «Мегалайна»: кто они, откуда, каким тарифом пользуются, сколько звонков и сообщений каждый отправил за 2018 год. Нужно проанализировать поведение клиентов и сделать вывод — какой тариф приносит больше денег, для дальнейшей корректировки рекламного бюджета."
   ]
  },
  {
   "cell_type": "markdown",
   "metadata": {},
   "source": [
    "## Изучение данных из файлов"
   ]
  },
  {
   "cell_type": "markdown",
   "metadata": {},
   "source": [
    "Загрузим бибилиотеки "
   ]
  },
  {
   "cell_type": "code",
   "execution_count": 1,
   "metadata": {},
   "outputs": [],
   "source": [
    "import pandas as pd\n",
    "import numpy as np\n",
    "import matplotlib.pyplot as plt\n",
    "import seaborn as sns\n",
    "import math"
   ]
  },
  {
   "cell_type": "markdown",
   "metadata": {},
   "source": [
    "Посмотрим на информацию о таблицах и выведем первые строки"
   ]
  },
  {
   "cell_type": "code",
   "execution_count": 2,
   "metadata": {},
   "outputs": [
    {
     "name": "stdout",
     "output_type": "stream",
     "text": [
      "<class 'pandas.core.frame.DataFrame'>\n",
      "RangeIndex: 500 entries, 0 to 499\n",
      "Data columns (total 8 columns):\n",
      "user_id       500 non-null int64\n",
      "age           500 non-null int64\n",
      "churn_date    38 non-null object\n",
      "city          500 non-null object\n",
      "first_name    500 non-null object\n",
      "last_name     500 non-null object\n",
      "reg_date      500 non-null object\n",
      "tariff        500 non-null object\n",
      "dtypes: int64(2), object(6)\n",
      "memory usage: 31.4+ KB\n"
     ]
    },
    {
     "data": {
      "text/html": [
       "<div>\n",
       "<style scoped>\n",
       "    .dataframe tbody tr th:only-of-type {\n",
       "        vertical-align: middle;\n",
       "    }\n",
       "\n",
       "    .dataframe tbody tr th {\n",
       "        vertical-align: top;\n",
       "    }\n",
       "\n",
       "    .dataframe thead th {\n",
       "        text-align: right;\n",
       "    }\n",
       "</style>\n",
       "<table border=\"1\" class=\"dataframe\">\n",
       "  <thead>\n",
       "    <tr style=\"text-align: right;\">\n",
       "      <th></th>\n",
       "      <th>user_id</th>\n",
       "      <th>age</th>\n",
       "      <th>churn_date</th>\n",
       "      <th>city</th>\n",
       "      <th>first_name</th>\n",
       "      <th>last_name</th>\n",
       "      <th>reg_date</th>\n",
       "      <th>tariff</th>\n",
       "    </tr>\n",
       "  </thead>\n",
       "  <tbody>\n",
       "    <tr>\n",
       "      <td>0</td>\n",
       "      <td>1000</td>\n",
       "      <td>52</td>\n",
       "      <td>NaN</td>\n",
       "      <td>Краснодар</td>\n",
       "      <td>Рафаил</td>\n",
       "      <td>Верещагин</td>\n",
       "      <td>2018-05-25</td>\n",
       "      <td>ultra</td>\n",
       "    </tr>\n",
       "    <tr>\n",
       "      <td>1</td>\n",
       "      <td>1001</td>\n",
       "      <td>41</td>\n",
       "      <td>NaN</td>\n",
       "      <td>Москва</td>\n",
       "      <td>Иван</td>\n",
       "      <td>Ежов</td>\n",
       "      <td>2018-11-01</td>\n",
       "      <td>smart</td>\n",
       "    </tr>\n",
       "    <tr>\n",
       "      <td>2</td>\n",
       "      <td>1002</td>\n",
       "      <td>59</td>\n",
       "      <td>NaN</td>\n",
       "      <td>Стерлитамак</td>\n",
       "      <td>Евгений</td>\n",
       "      <td>Абрамович</td>\n",
       "      <td>2018-06-17</td>\n",
       "      <td>smart</td>\n",
       "    </tr>\n",
       "    <tr>\n",
       "      <td>3</td>\n",
       "      <td>1003</td>\n",
       "      <td>23</td>\n",
       "      <td>NaN</td>\n",
       "      <td>Москва</td>\n",
       "      <td>Белла</td>\n",
       "      <td>Белякова</td>\n",
       "      <td>2018-08-17</td>\n",
       "      <td>ultra</td>\n",
       "    </tr>\n",
       "    <tr>\n",
       "      <td>4</td>\n",
       "      <td>1004</td>\n",
       "      <td>68</td>\n",
       "      <td>NaN</td>\n",
       "      <td>Новокузнецк</td>\n",
       "      <td>Татьяна</td>\n",
       "      <td>Авдеенко</td>\n",
       "      <td>2018-05-14</td>\n",
       "      <td>ultra</td>\n",
       "    </tr>\n",
       "  </tbody>\n",
       "</table>\n",
       "</div>"
      ],
      "text/plain": [
       "   user_id  age churn_date         city first_name  last_name    reg_date  \\\n",
       "0     1000   52        NaN    Краснодар     Рафаил  Верещагин  2018-05-25   \n",
       "1     1001   41        NaN       Москва       Иван       Ежов  2018-11-01   \n",
       "2     1002   59        NaN  Стерлитамак    Евгений  Абрамович  2018-06-17   \n",
       "3     1003   23        NaN       Москва      Белла   Белякова  2018-08-17   \n",
       "4     1004   68        NaN  Новокузнецк    Татьяна   Авдеенко  2018-05-14   \n",
       "\n",
       "  tariff  \n",
       "0  ultra  \n",
       "1  smart  \n",
       "2  smart  \n",
       "3  ultra  \n",
       "4  ultra  "
      ]
     },
     "execution_count": 2,
     "metadata": {},
     "output_type": "execute_result"
    }
   ],
   "source": [
    "users = pd.read_csv('/datasets/users.csv')\n",
    "users.info()\n",
    "users.head()"
   ]
  },
  {
   "cell_type": "code",
   "execution_count": 3,
   "metadata": {},
   "outputs": [
    {
     "name": "stdout",
     "output_type": "stream",
     "text": [
      "<class 'pandas.core.frame.DataFrame'>\n",
      "RangeIndex: 202607 entries, 0 to 202606\n",
      "Data columns (total 4 columns):\n",
      "id           202607 non-null object\n",
      "call_date    202607 non-null object\n",
      "duration     202607 non-null float64\n",
      "user_id      202607 non-null int64\n",
      "dtypes: float64(1), int64(1), object(2)\n",
      "memory usage: 6.2+ MB\n"
     ]
    },
    {
     "data": {
      "text/html": [
       "<div>\n",
       "<style scoped>\n",
       "    .dataframe tbody tr th:only-of-type {\n",
       "        vertical-align: middle;\n",
       "    }\n",
       "\n",
       "    .dataframe tbody tr th {\n",
       "        vertical-align: top;\n",
       "    }\n",
       "\n",
       "    .dataframe thead th {\n",
       "        text-align: right;\n",
       "    }\n",
       "</style>\n",
       "<table border=\"1\" class=\"dataframe\">\n",
       "  <thead>\n",
       "    <tr style=\"text-align: right;\">\n",
       "      <th></th>\n",
       "      <th>id</th>\n",
       "      <th>call_date</th>\n",
       "      <th>duration</th>\n",
       "      <th>user_id</th>\n",
       "    </tr>\n",
       "  </thead>\n",
       "  <tbody>\n",
       "    <tr>\n",
       "      <td>0</td>\n",
       "      <td>1000_0</td>\n",
       "      <td>2018-07-25</td>\n",
       "      <td>0.00</td>\n",
       "      <td>1000</td>\n",
       "    </tr>\n",
       "    <tr>\n",
       "      <td>1</td>\n",
       "      <td>1000_1</td>\n",
       "      <td>2018-08-17</td>\n",
       "      <td>0.00</td>\n",
       "      <td>1000</td>\n",
       "    </tr>\n",
       "    <tr>\n",
       "      <td>2</td>\n",
       "      <td>1000_2</td>\n",
       "      <td>2018-06-11</td>\n",
       "      <td>2.85</td>\n",
       "      <td>1000</td>\n",
       "    </tr>\n",
       "    <tr>\n",
       "      <td>3</td>\n",
       "      <td>1000_3</td>\n",
       "      <td>2018-09-21</td>\n",
       "      <td>13.80</td>\n",
       "      <td>1000</td>\n",
       "    </tr>\n",
       "    <tr>\n",
       "      <td>4</td>\n",
       "      <td>1000_4</td>\n",
       "      <td>2018-12-15</td>\n",
       "      <td>5.18</td>\n",
       "      <td>1000</td>\n",
       "    </tr>\n",
       "  </tbody>\n",
       "</table>\n",
       "</div>"
      ],
      "text/plain": [
       "       id   call_date  duration  user_id\n",
       "0  1000_0  2018-07-25      0.00     1000\n",
       "1  1000_1  2018-08-17      0.00     1000\n",
       "2  1000_2  2018-06-11      2.85     1000\n",
       "3  1000_3  2018-09-21     13.80     1000\n",
       "4  1000_4  2018-12-15      5.18     1000"
      ]
     },
     "execution_count": 3,
     "metadata": {},
     "output_type": "execute_result"
    }
   ],
   "source": [
    "calls = pd.read_csv('/datasets/calls.csv')\n",
    "calls.info()\n",
    "calls.head()"
   ]
  },
  {
   "cell_type": "code",
   "execution_count": 4,
   "metadata": {},
   "outputs": [
    {
     "name": "stdout",
     "output_type": "stream",
     "text": [
      "<class 'pandas.core.frame.DataFrame'>\n",
      "RangeIndex: 123036 entries, 0 to 123035\n",
      "Data columns (total 3 columns):\n",
      "id              123036 non-null object\n",
      "message_date    123036 non-null object\n",
      "user_id         123036 non-null int64\n",
      "dtypes: int64(1), object(2)\n",
      "memory usage: 2.8+ MB\n"
     ]
    },
    {
     "data": {
      "text/html": [
       "<div>\n",
       "<style scoped>\n",
       "    .dataframe tbody tr th:only-of-type {\n",
       "        vertical-align: middle;\n",
       "    }\n",
       "\n",
       "    .dataframe tbody tr th {\n",
       "        vertical-align: top;\n",
       "    }\n",
       "\n",
       "    .dataframe thead th {\n",
       "        text-align: right;\n",
       "    }\n",
       "</style>\n",
       "<table border=\"1\" class=\"dataframe\">\n",
       "  <thead>\n",
       "    <tr style=\"text-align: right;\">\n",
       "      <th></th>\n",
       "      <th>id</th>\n",
       "      <th>message_date</th>\n",
       "      <th>user_id</th>\n",
       "    </tr>\n",
       "  </thead>\n",
       "  <tbody>\n",
       "    <tr>\n",
       "      <td>0</td>\n",
       "      <td>1000_0</td>\n",
       "      <td>2018-06-27</td>\n",
       "      <td>1000</td>\n",
       "    </tr>\n",
       "    <tr>\n",
       "      <td>1</td>\n",
       "      <td>1000_1</td>\n",
       "      <td>2018-10-08</td>\n",
       "      <td>1000</td>\n",
       "    </tr>\n",
       "    <tr>\n",
       "      <td>2</td>\n",
       "      <td>1000_2</td>\n",
       "      <td>2018-08-04</td>\n",
       "      <td>1000</td>\n",
       "    </tr>\n",
       "    <tr>\n",
       "      <td>3</td>\n",
       "      <td>1000_3</td>\n",
       "      <td>2018-06-16</td>\n",
       "      <td>1000</td>\n",
       "    </tr>\n",
       "    <tr>\n",
       "      <td>4</td>\n",
       "      <td>1000_4</td>\n",
       "      <td>2018-12-05</td>\n",
       "      <td>1000</td>\n",
       "    </tr>\n",
       "  </tbody>\n",
       "</table>\n",
       "</div>"
      ],
      "text/plain": [
       "       id message_date  user_id\n",
       "0  1000_0   2018-06-27     1000\n",
       "1  1000_1   2018-10-08     1000\n",
       "2  1000_2   2018-08-04     1000\n",
       "3  1000_3   2018-06-16     1000\n",
       "4  1000_4   2018-12-05     1000"
      ]
     },
     "execution_count": 4,
     "metadata": {},
     "output_type": "execute_result"
    }
   ],
   "source": [
    "messages = pd.read_csv('/datasets/messages.csv')\n",
    "messages.info()\n",
    "messages.head()"
   ]
  },
  {
   "cell_type": "code",
   "execution_count": 5,
   "metadata": {},
   "outputs": [
    {
     "name": "stdout",
     "output_type": "stream",
     "text": [
      "<class 'pandas.core.frame.DataFrame'>\n",
      "RangeIndex: 149396 entries, 0 to 149395\n",
      "Data columns (total 5 columns):\n",
      "Unnamed: 0      149396 non-null int64\n",
      "id              149396 non-null object\n",
      "mb_used         149396 non-null float64\n",
      "session_date    149396 non-null object\n",
      "user_id         149396 non-null int64\n",
      "dtypes: float64(1), int64(2), object(2)\n",
      "memory usage: 5.7+ MB\n"
     ]
    },
    {
     "data": {
      "text/html": [
       "<div>\n",
       "<style scoped>\n",
       "    .dataframe tbody tr th:only-of-type {\n",
       "        vertical-align: middle;\n",
       "    }\n",
       "\n",
       "    .dataframe tbody tr th {\n",
       "        vertical-align: top;\n",
       "    }\n",
       "\n",
       "    .dataframe thead th {\n",
       "        text-align: right;\n",
       "    }\n",
       "</style>\n",
       "<table border=\"1\" class=\"dataframe\">\n",
       "  <thead>\n",
       "    <tr style=\"text-align: right;\">\n",
       "      <th></th>\n",
       "      <th>Unnamed: 0</th>\n",
       "      <th>id</th>\n",
       "      <th>mb_used</th>\n",
       "      <th>session_date</th>\n",
       "      <th>user_id</th>\n",
       "    </tr>\n",
       "  </thead>\n",
       "  <tbody>\n",
       "    <tr>\n",
       "      <td>0</td>\n",
       "      <td>0</td>\n",
       "      <td>1000_0</td>\n",
       "      <td>112.95</td>\n",
       "      <td>2018-11-25</td>\n",
       "      <td>1000</td>\n",
       "    </tr>\n",
       "    <tr>\n",
       "      <td>1</td>\n",
       "      <td>1</td>\n",
       "      <td>1000_1</td>\n",
       "      <td>1052.81</td>\n",
       "      <td>2018-09-07</td>\n",
       "      <td>1000</td>\n",
       "    </tr>\n",
       "    <tr>\n",
       "      <td>2</td>\n",
       "      <td>2</td>\n",
       "      <td>1000_2</td>\n",
       "      <td>1197.26</td>\n",
       "      <td>2018-06-25</td>\n",
       "      <td>1000</td>\n",
       "    </tr>\n",
       "    <tr>\n",
       "      <td>3</td>\n",
       "      <td>3</td>\n",
       "      <td>1000_3</td>\n",
       "      <td>550.27</td>\n",
       "      <td>2018-08-22</td>\n",
       "      <td>1000</td>\n",
       "    </tr>\n",
       "    <tr>\n",
       "      <td>4</td>\n",
       "      <td>4</td>\n",
       "      <td>1000_4</td>\n",
       "      <td>302.56</td>\n",
       "      <td>2018-09-24</td>\n",
       "      <td>1000</td>\n",
       "    </tr>\n",
       "  </tbody>\n",
       "</table>\n",
       "</div>"
      ],
      "text/plain": [
       "   Unnamed: 0      id  mb_used session_date  user_id\n",
       "0           0  1000_0   112.95   2018-11-25     1000\n",
       "1           1  1000_1  1052.81   2018-09-07     1000\n",
       "2           2  1000_2  1197.26   2018-06-25     1000\n",
       "3           3  1000_3   550.27   2018-08-22     1000\n",
       "4           4  1000_4   302.56   2018-09-24     1000"
      ]
     },
     "execution_count": 5,
     "metadata": {},
     "output_type": "execute_result"
    }
   ],
   "source": [
    "internet = pd.read_csv('/datasets/internet.csv')\n",
    "internet.info()\n",
    "internet.head()"
   ]
  },
  {
   "cell_type": "code",
   "execution_count": 6,
   "metadata": {},
   "outputs": [
    {
     "data": {
      "text/html": [
       "<div>\n",
       "<style scoped>\n",
       "    .dataframe tbody tr th:only-of-type {\n",
       "        vertical-align: middle;\n",
       "    }\n",
       "\n",
       "    .dataframe tbody tr th {\n",
       "        vertical-align: top;\n",
       "    }\n",
       "\n",
       "    .dataframe thead th {\n",
       "        text-align: right;\n",
       "    }\n",
       "</style>\n",
       "<table border=\"1\" class=\"dataframe\">\n",
       "  <thead>\n",
       "    <tr style=\"text-align: right;\">\n",
       "      <th></th>\n",
       "      <th>messages_included</th>\n",
       "      <th>mb_per_month_included</th>\n",
       "      <th>minutes_included</th>\n",
       "      <th>rub_monthly_fee</th>\n",
       "      <th>rub_per_gb</th>\n",
       "      <th>rub_per_message</th>\n",
       "      <th>rub_per_minute</th>\n",
       "      <th>tariff_name</th>\n",
       "    </tr>\n",
       "  </thead>\n",
       "  <tbody>\n",
       "    <tr>\n",
       "      <td>0</td>\n",
       "      <td>50</td>\n",
       "      <td>15360</td>\n",
       "      <td>500</td>\n",
       "      <td>550</td>\n",
       "      <td>200</td>\n",
       "      <td>3</td>\n",
       "      <td>3</td>\n",
       "      <td>smart</td>\n",
       "    </tr>\n",
       "    <tr>\n",
       "      <td>1</td>\n",
       "      <td>1000</td>\n",
       "      <td>30720</td>\n",
       "      <td>3000</td>\n",
       "      <td>1950</td>\n",
       "      <td>150</td>\n",
       "      <td>1</td>\n",
       "      <td>1</td>\n",
       "      <td>ultra</td>\n",
       "    </tr>\n",
       "  </tbody>\n",
       "</table>\n",
       "</div>"
      ],
      "text/plain": [
       "   messages_included  mb_per_month_included  minutes_included  \\\n",
       "0                 50                  15360               500   \n",
       "1               1000                  30720              3000   \n",
       "\n",
       "   rub_monthly_fee  rub_per_gb  rub_per_message  rub_per_minute tariff_name  \n",
       "0              550         200                3               3       smart  \n",
       "1             1950         150                1               1       ultra  "
      ]
     },
     "execution_count": 6,
     "metadata": {},
     "output_type": "execute_result"
    }
   ],
   "source": [
    "tariffs = pd.read_csv('/datasets/tariffs.csv')\n",
    "tariffs.head()"
   ]
  },
  {
   "cell_type": "markdown",
   "metadata": {},
   "source": [
    "### Вывод"
   ]
  },
  {
   "cell_type": "markdown",
   "metadata": {},
   "source": [
    "Мы видим довольно чистые двнные, пропуски в таблице со звонками - это пропущенные звонки, а в дате прекращения пользования тарифом означают, что тарифом еще пользуются. Нужно перевести даты из обьекта в дэйттайм, а также в таблице с интернетом есть лишний стобец с индексами от которого следует избавится."
   ]
  },
  {
   "cell_type": "markdown",
   "metadata": {},
   "source": [
    "## Предобработка данных"
   ]
  },
  {
   "cell_type": "markdown",
   "metadata": {},
   "source": [
    "### Изменение типов данных и работа с ошибками"
   ]
  },
  {
   "cell_type": "markdown",
   "metadata": {},
   "source": [
    "Уберем лишний столбец с индексами из таблицы internet"
   ]
  },
  {
   "cell_type": "code",
   "execution_count": 7,
   "metadata": {},
   "outputs": [
    {
     "data": {
      "text/html": [
       "<div>\n",
       "<style scoped>\n",
       "    .dataframe tbody tr th:only-of-type {\n",
       "        vertical-align: middle;\n",
       "    }\n",
       "\n",
       "    .dataframe tbody tr th {\n",
       "        vertical-align: top;\n",
       "    }\n",
       "\n",
       "    .dataframe thead th {\n",
       "        text-align: right;\n",
       "    }\n",
       "</style>\n",
       "<table border=\"1\" class=\"dataframe\">\n",
       "  <thead>\n",
       "    <tr style=\"text-align: right;\">\n",
       "      <th></th>\n",
       "      <th>id</th>\n",
       "      <th>mb_used</th>\n",
       "      <th>session_date</th>\n",
       "      <th>user_id</th>\n",
       "    </tr>\n",
       "  </thead>\n",
       "  <tbody>\n",
       "    <tr>\n",
       "      <td>0</td>\n",
       "      <td>1000_0</td>\n",
       "      <td>112.95</td>\n",
       "      <td>2018-11-25</td>\n",
       "      <td>1000</td>\n",
       "    </tr>\n",
       "    <tr>\n",
       "      <td>1</td>\n",
       "      <td>1000_1</td>\n",
       "      <td>1052.81</td>\n",
       "      <td>2018-09-07</td>\n",
       "      <td>1000</td>\n",
       "    </tr>\n",
       "    <tr>\n",
       "      <td>2</td>\n",
       "      <td>1000_2</td>\n",
       "      <td>1197.26</td>\n",
       "      <td>2018-06-25</td>\n",
       "      <td>1000</td>\n",
       "    </tr>\n",
       "    <tr>\n",
       "      <td>3</td>\n",
       "      <td>1000_3</td>\n",
       "      <td>550.27</td>\n",
       "      <td>2018-08-22</td>\n",
       "      <td>1000</td>\n",
       "    </tr>\n",
       "    <tr>\n",
       "      <td>4</td>\n",
       "      <td>1000_4</td>\n",
       "      <td>302.56</td>\n",
       "      <td>2018-09-24</td>\n",
       "      <td>1000</td>\n",
       "    </tr>\n",
       "  </tbody>\n",
       "</table>\n",
       "</div>"
      ],
      "text/plain": [
       "       id  mb_used session_date  user_id\n",
       "0  1000_0   112.95   2018-11-25     1000\n",
       "1  1000_1  1052.81   2018-09-07     1000\n",
       "2  1000_2  1197.26   2018-06-25     1000\n",
       "3  1000_3   550.27   2018-08-22     1000\n",
       "4  1000_4   302.56   2018-09-24     1000"
      ]
     },
     "execution_count": 7,
     "metadata": {},
     "output_type": "execute_result"
    }
   ],
   "source": [
    "internet = pd.read_csv('/datasets/internet.csv', index_col=0)\n",
    "internet.head()"
   ]
  },
  {
   "cell_type": "markdown",
   "metadata": {},
   "source": [
    "Поменяем формат в колонках с датами на datetime"
   ]
  },
  {
   "cell_type": "code",
   "execution_count": 8,
   "metadata": {},
   "outputs": [
    {
     "name": "stdout",
     "output_type": "stream",
     "text": [
      "<class 'pandas.core.frame.DataFrame'>\n",
      "RangeIndex: 500 entries, 0 to 499\n",
      "Data columns (total 8 columns):\n",
      "user_id       500 non-null int64\n",
      "age           500 non-null int64\n",
      "churn_date    38 non-null datetime64[ns]\n",
      "city          500 non-null object\n",
      "first_name    500 non-null object\n",
      "last_name     500 non-null object\n",
      "reg_date      500 non-null datetime64[ns]\n",
      "tariff        500 non-null object\n",
      "dtypes: datetime64[ns](2), int64(2), object(4)\n",
      "memory usage: 31.4+ KB\n"
     ]
    }
   ],
   "source": [
    "# воспользуемся методом to_datetime для нужных колонок\n",
    "users['churn_date'] = pd.to_datetime(users['churn_date'])\n",
    "users['reg_date'] = pd.to_datetime(users['reg_date'])\n",
    "calls['call_date'] = pd.to_datetime(calls['call_date'])\n",
    "messages['message_date'] = pd.to_datetime(messages['message_date'])\n",
    "internet['session_date'] = pd.to_datetime(internet['session_date'])\n",
    "# проверим результат \n",
    "users.info()\n",
    "\n",
    "# P.S. пробовал такую функцию, но результат почему то не сохранялся за ее пределами\n",
    "# for i in (users['churn_date'], users['reg_date'], calls['call_date'], messages['message_date'], internet['session_date']):\n",
    "#     i = pd.to_datetime(i)"
   ]
  },
  {
   "cell_type": "markdown",
   "metadata": {},
   "source": [
    "### Вывод"
   ]
  },
  {
   "cell_type": "markdown",
   "metadata": {},
   "source": [
    "Мы исправили ошибку в таблице с интернетом и поменяли тип данных в столбцах с датами, подготовив двнные к дальнейшей работе."
   ]
  },
  {
   "cell_type": "markdown",
   "metadata": {},
   "source": [
    "## Расчет данных по пользователям"
   ]
  },
  {
   "cell_type": "markdown",
   "metadata": {},
   "source": [
    "### Расчет звонков"
   ]
  },
  {
   "cell_type": "markdown",
   "metadata": {},
   "source": [
    "Округлим данные о звонках до минут"
   ]
  },
  {
   "cell_type": "code",
   "execution_count": 56,
   "metadata": {},
   "outputs": [],
   "source": [
    "calls['duration'] = np.ceil(calls['duration'])"
   ]
  },
  {
   "cell_type": "markdown",
   "metadata": {},
   "source": [
    "Добавим столбец с месяцем звонка"
   ]
  },
  {
   "cell_type": "code",
   "execution_count": 10,
   "metadata": {},
   "outputs": [],
   "source": [
    "calls['month'] = calls['call_date'].dt.month"
   ]
  },
  {
   "cell_type": "markdown",
   "metadata": {},
   "source": [
    "Создадим таблицу с кол-вом звонков по месяцам"
   ]
  },
  {
   "cell_type": "code",
   "execution_count": 11,
   "metadata": {},
   "outputs": [
    {
     "data": {
      "text/html": [
       "<div>\n",
       "<style scoped>\n",
       "    .dataframe tbody tr th:only-of-type {\n",
       "        vertical-align: middle;\n",
       "    }\n",
       "\n",
       "    .dataframe tbody tr th {\n",
       "        vertical-align: top;\n",
       "    }\n",
       "\n",
       "    .dataframe thead th {\n",
       "        text-align: right;\n",
       "    }\n",
       "</style>\n",
       "<table border=\"1\" class=\"dataframe\">\n",
       "  <thead>\n",
       "    <tr style=\"text-align: right;\">\n",
       "      <th></th>\n",
       "      <th>user_id</th>\n",
       "      <th>1</th>\n",
       "      <th>2</th>\n",
       "      <th>3</th>\n",
       "      <th>4</th>\n",
       "      <th>5</th>\n",
       "      <th>6</th>\n",
       "      <th>7</th>\n",
       "      <th>8</th>\n",
       "      <th>9</th>\n",
       "      <th>10</th>\n",
       "      <th>11</th>\n",
       "      <th>12</th>\n",
       "      <th>tariff</th>\n",
       "    </tr>\n",
       "  </thead>\n",
       "  <tbody>\n",
       "    <tr>\n",
       "      <td>0</td>\n",
       "      <td>1000</td>\n",
       "      <td>NaN</td>\n",
       "      <td>NaN</td>\n",
       "      <td>NaN</td>\n",
       "      <td>NaN</td>\n",
       "      <td>22.0</td>\n",
       "      <td>43.0</td>\n",
       "      <td>47.0</td>\n",
       "      <td>52.0</td>\n",
       "      <td>58.0</td>\n",
       "      <td>57.0</td>\n",
       "      <td>43.0</td>\n",
       "      <td>46.0</td>\n",
       "      <td>ultra</td>\n",
       "    </tr>\n",
       "    <tr>\n",
       "      <td>1</td>\n",
       "      <td>1001</td>\n",
       "      <td>NaN</td>\n",
       "      <td>NaN</td>\n",
       "      <td>NaN</td>\n",
       "      <td>NaN</td>\n",
       "      <td>NaN</td>\n",
       "      <td>NaN</td>\n",
       "      <td>NaN</td>\n",
       "      <td>NaN</td>\n",
       "      <td>NaN</td>\n",
       "      <td>NaN</td>\n",
       "      <td>59.0</td>\n",
       "      <td>63.0</td>\n",
       "      <td>smart</td>\n",
       "    </tr>\n",
       "    <tr>\n",
       "      <td>2</td>\n",
       "      <td>1002</td>\n",
       "      <td>NaN</td>\n",
       "      <td>NaN</td>\n",
       "      <td>NaN</td>\n",
       "      <td>NaN</td>\n",
       "      <td>NaN</td>\n",
       "      <td>15.0</td>\n",
       "      <td>26.0</td>\n",
       "      <td>42.0</td>\n",
       "      <td>36.0</td>\n",
       "      <td>33.0</td>\n",
       "      <td>32.0</td>\n",
       "      <td>33.0</td>\n",
       "      <td>smart</td>\n",
       "    </tr>\n",
       "    <tr>\n",
       "      <td>3</td>\n",
       "      <td>1003</td>\n",
       "      <td>NaN</td>\n",
       "      <td>NaN</td>\n",
       "      <td>NaN</td>\n",
       "      <td>NaN</td>\n",
       "      <td>NaN</td>\n",
       "      <td>NaN</td>\n",
       "      <td>NaN</td>\n",
       "      <td>55.0</td>\n",
       "      <td>134.0</td>\n",
       "      <td>108.0</td>\n",
       "      <td>115.0</td>\n",
       "      <td>108.0</td>\n",
       "      <td>ultra</td>\n",
       "    </tr>\n",
       "    <tr>\n",
       "      <td>4</td>\n",
       "      <td>1004</td>\n",
       "      <td>NaN</td>\n",
       "      <td>NaN</td>\n",
       "      <td>NaN</td>\n",
       "      <td>NaN</td>\n",
       "      <td>9.0</td>\n",
       "      <td>31.0</td>\n",
       "      <td>22.0</td>\n",
       "      <td>19.0</td>\n",
       "      <td>26.0</td>\n",
       "      <td>29.0</td>\n",
       "      <td>19.0</td>\n",
       "      <td>21.0</td>\n",
       "      <td>ultra</td>\n",
       "    </tr>\n",
       "    <tr>\n",
       "      <td>...</td>\n",
       "      <td>...</td>\n",
       "      <td>...</td>\n",
       "      <td>...</td>\n",
       "      <td>...</td>\n",
       "      <td>...</td>\n",
       "      <td>...</td>\n",
       "      <td>...</td>\n",
       "      <td>...</td>\n",
       "      <td>...</td>\n",
       "      <td>...</td>\n",
       "      <td>...</td>\n",
       "      <td>...</td>\n",
       "      <td>...</td>\n",
       "      <td>...</td>\n",
       "    </tr>\n",
       "    <tr>\n",
       "      <td>487</td>\n",
       "      <td>1495</td>\n",
       "      <td>NaN</td>\n",
       "      <td>NaN</td>\n",
       "      <td>NaN</td>\n",
       "      <td>NaN</td>\n",
       "      <td>NaN</td>\n",
       "      <td>NaN</td>\n",
       "      <td>NaN</td>\n",
       "      <td>17.0</td>\n",
       "      <td>112.0</td>\n",
       "      <td>152.0</td>\n",
       "      <td>129.0</td>\n",
       "      <td>155.0</td>\n",
       "      <td>ultra</td>\n",
       "    </tr>\n",
       "    <tr>\n",
       "      <td>488</td>\n",
       "      <td>1496</td>\n",
       "      <td>7.0</td>\n",
       "      <td>77.0</td>\n",
       "      <td>79.0</td>\n",
       "      <td>67.0</td>\n",
       "      <td>63.0</td>\n",
       "      <td>74.0</td>\n",
       "      <td>73.0</td>\n",
       "      <td>88.0</td>\n",
       "      <td>68.0</td>\n",
       "      <td>72.0</td>\n",
       "      <td>80.0</td>\n",
       "      <td>80.0</td>\n",
       "      <td>smart</td>\n",
       "    </tr>\n",
       "    <tr>\n",
       "      <td>489</td>\n",
       "      <td>1497</td>\n",
       "      <td>NaN</td>\n",
       "      <td>NaN</td>\n",
       "      <td>NaN</td>\n",
       "      <td>NaN</td>\n",
       "      <td>NaN</td>\n",
       "      <td>NaN</td>\n",
       "      <td>NaN</td>\n",
       "      <td>NaN</td>\n",
       "      <td>NaN</td>\n",
       "      <td>66.0</td>\n",
       "      <td>64.0</td>\n",
       "      <td>71.0</td>\n",
       "      <td>smart</td>\n",
       "    </tr>\n",
       "    <tr>\n",
       "      <td>490</td>\n",
       "      <td>1498</td>\n",
       "      <td>NaN</td>\n",
       "      <td>NaN</td>\n",
       "      <td>NaN</td>\n",
       "      <td>NaN</td>\n",
       "      <td>NaN</td>\n",
       "      <td>NaN</td>\n",
       "      <td>23.0</td>\n",
       "      <td>57.0</td>\n",
       "      <td>59.0</td>\n",
       "      <td>41.0</td>\n",
       "      <td>NaN</td>\n",
       "      <td>NaN</td>\n",
       "      <td>smart</td>\n",
       "    </tr>\n",
       "    <tr>\n",
       "      <td>491</td>\n",
       "      <td>1499</td>\n",
       "      <td>NaN</td>\n",
       "      <td>NaN</td>\n",
       "      <td>NaN</td>\n",
       "      <td>NaN</td>\n",
       "      <td>NaN</td>\n",
       "      <td>NaN</td>\n",
       "      <td>NaN</td>\n",
       "      <td>NaN</td>\n",
       "      <td>9.0</td>\n",
       "      <td>68.0</td>\n",
       "      <td>74.0</td>\n",
       "      <td>69.0</td>\n",
       "      <td>smart</td>\n",
       "    </tr>\n",
       "  </tbody>\n",
       "</table>\n",
       "<p>492 rows × 14 columns</p>\n",
       "</div>"
      ],
      "text/plain": [
       "     user_id    1     2     3     4     5     6     7     8      9     10  \\\n",
       "0       1000  NaN   NaN   NaN   NaN  22.0  43.0  47.0  52.0   58.0   57.0   \n",
       "1       1001  NaN   NaN   NaN   NaN   NaN   NaN   NaN   NaN    NaN    NaN   \n",
       "2       1002  NaN   NaN   NaN   NaN   NaN  15.0  26.0  42.0   36.0   33.0   \n",
       "3       1003  NaN   NaN   NaN   NaN   NaN   NaN   NaN  55.0  134.0  108.0   \n",
       "4       1004  NaN   NaN   NaN   NaN   9.0  31.0  22.0  19.0   26.0   29.0   \n",
       "..       ...  ...   ...   ...   ...   ...   ...   ...   ...    ...    ...   \n",
       "487     1495  NaN   NaN   NaN   NaN   NaN   NaN   NaN  17.0  112.0  152.0   \n",
       "488     1496  7.0  77.0  79.0  67.0  63.0  74.0  73.0  88.0   68.0   72.0   \n",
       "489     1497  NaN   NaN   NaN   NaN   NaN   NaN   NaN   NaN    NaN   66.0   \n",
       "490     1498  NaN   NaN   NaN   NaN   NaN   NaN  23.0  57.0   59.0   41.0   \n",
       "491     1499  NaN   NaN   NaN   NaN   NaN   NaN   NaN   NaN    9.0   68.0   \n",
       "\n",
       "        11     12 tariff  \n",
       "0     43.0   46.0  ultra  \n",
       "1     59.0   63.0  smart  \n",
       "2     32.0   33.0  smart  \n",
       "3    115.0  108.0  ultra  \n",
       "4     19.0   21.0  ultra  \n",
       "..     ...    ...    ...  \n",
       "487  129.0  155.0  ultra  \n",
       "488   80.0   80.0  smart  \n",
       "489   64.0   71.0  smart  \n",
       "490    NaN    NaN  smart  \n",
       "491   74.0   69.0  smart  \n",
       "\n",
       "[492 rows x 14 columns]"
      ]
     },
     "execution_count": 11,
     "metadata": {},
     "output_type": "execute_result"
    }
   ],
   "source": [
    "calls_count = calls.pivot_table(\n",
    "    index='user_id',\n",
    "    columns='month',\n",
    "    values='duration',\n",
    "    aggfunc='count').reset_index()\n",
    "# добавим данные о тарифе \n",
    "calls_count = calls_count.merge(users[['user_id', 'tariff']], on='user_id', how='left')\n",
    "calls_count"
   ]
  },
  {
   "cell_type": "markdown",
   "metadata": {},
   "source": [
    "Создадим таблицу с общим кол-вом израсходованных минут по месяцам"
   ]
  },
  {
   "cell_type": "code",
   "execution_count": 12,
   "metadata": {},
   "outputs": [
    {
     "data": {
      "text/html": [
       "<div>\n",
       "<style scoped>\n",
       "    .dataframe tbody tr th:only-of-type {\n",
       "        vertical-align: middle;\n",
       "    }\n",
       "\n",
       "    .dataframe tbody tr th {\n",
       "        vertical-align: top;\n",
       "    }\n",
       "\n",
       "    .dataframe thead th {\n",
       "        text-align: right;\n",
       "    }\n",
       "</style>\n",
       "<table border=\"1\" class=\"dataframe\">\n",
       "  <thead>\n",
       "    <tr style=\"text-align: right;\">\n",
       "      <th></th>\n",
       "      <th>user_id</th>\n",
       "      <th>1</th>\n",
       "      <th>2</th>\n",
       "      <th>3</th>\n",
       "      <th>4</th>\n",
       "      <th>5</th>\n",
       "      <th>6</th>\n",
       "      <th>7</th>\n",
       "      <th>8</th>\n",
       "      <th>9</th>\n",
       "      <th>10</th>\n",
       "      <th>11</th>\n",
       "      <th>12</th>\n",
       "      <th>tariff</th>\n",
       "    </tr>\n",
       "  </thead>\n",
       "  <tbody>\n",
       "    <tr>\n",
       "      <td>0</td>\n",
       "      <td>1000</td>\n",
       "      <td>NaN</td>\n",
       "      <td>NaN</td>\n",
       "      <td>NaN</td>\n",
       "      <td>NaN</td>\n",
       "      <td>150.06</td>\n",
       "      <td>158.90</td>\n",
       "      <td>318.80</td>\n",
       "      <td>389.87</td>\n",
       "      <td>440.14</td>\n",
       "      <td>328.45</td>\n",
       "      <td>319.04</td>\n",
       "      <td>312.98</td>\n",
       "      <td>ultra</td>\n",
       "    </tr>\n",
       "    <tr>\n",
       "      <td>1</td>\n",
       "      <td>1001</td>\n",
       "      <td>NaN</td>\n",
       "      <td>NaN</td>\n",
       "      <td>NaN</td>\n",
       "      <td>NaN</td>\n",
       "      <td>NaN</td>\n",
       "      <td>NaN</td>\n",
       "      <td>NaN</td>\n",
       "      <td>NaN</td>\n",
       "      <td>NaN</td>\n",
       "      <td>NaN</td>\n",
       "      <td>408.12</td>\n",
       "      <td>391.34</td>\n",
       "      <td>smart</td>\n",
       "    </tr>\n",
       "    <tr>\n",
       "      <td>2</td>\n",
       "      <td>1002</td>\n",
       "      <td>NaN</td>\n",
       "      <td>NaN</td>\n",
       "      <td>NaN</td>\n",
       "      <td>NaN</td>\n",
       "      <td>NaN</td>\n",
       "      <td>110.37</td>\n",
       "      <td>204.75</td>\n",
       "      <td>269.71</td>\n",
       "      <td>195.85</td>\n",
       "      <td>199.48</td>\n",
       "      <td>228.03</td>\n",
       "      <td>222.98</td>\n",
       "      <td>smart</td>\n",
       "    </tr>\n",
       "    <tr>\n",
       "      <td>3</td>\n",
       "      <td>1003</td>\n",
       "      <td>NaN</td>\n",
       "      <td>NaN</td>\n",
       "      <td>NaN</td>\n",
       "      <td>NaN</td>\n",
       "      <td>NaN</td>\n",
       "      <td>NaN</td>\n",
       "      <td>NaN</td>\n",
       "      <td>355.67</td>\n",
       "      <td>904.89</td>\n",
       "      <td>809.07</td>\n",
       "      <td>775.39</td>\n",
       "      <td>755.50</td>\n",
       "      <td>ultra</td>\n",
       "    </tr>\n",
       "    <tr>\n",
       "      <td>4</td>\n",
       "      <td>1004</td>\n",
       "      <td>NaN</td>\n",
       "      <td>NaN</td>\n",
       "      <td>NaN</td>\n",
       "      <td>NaN</td>\n",
       "      <td>32.29</td>\n",
       "      <td>159.14</td>\n",
       "      <td>124.42</td>\n",
       "      <td>128.01</td>\n",
       "      <td>110.57</td>\n",
       "      <td>133.61</td>\n",
       "      <td>109.72</td>\n",
       "      <td>123.45</td>\n",
       "      <td>ultra</td>\n",
       "    </tr>\n",
       "    <tr>\n",
       "      <td>...</td>\n",
       "      <td>...</td>\n",
       "      <td>...</td>\n",
       "      <td>...</td>\n",
       "      <td>...</td>\n",
       "      <td>...</td>\n",
       "      <td>...</td>\n",
       "      <td>...</td>\n",
       "      <td>...</td>\n",
       "      <td>...</td>\n",
       "      <td>...</td>\n",
       "      <td>...</td>\n",
       "      <td>...</td>\n",
       "      <td>...</td>\n",
       "      <td>...</td>\n",
       "    </tr>\n",
       "    <tr>\n",
       "      <td>487</td>\n",
       "      <td>1495</td>\n",
       "      <td>NaN</td>\n",
       "      <td>NaN</td>\n",
       "      <td>NaN</td>\n",
       "      <td>NaN</td>\n",
       "      <td>NaN</td>\n",
       "      <td>NaN</td>\n",
       "      <td>NaN</td>\n",
       "      <td>87.03</td>\n",
       "      <td>766.62</td>\n",
       "      <td>971.33</td>\n",
       "      <td>892.65</td>\n",
       "      <td>970.94</td>\n",
       "      <td>ultra</td>\n",
       "    </tr>\n",
       "    <tr>\n",
       "      <td>488</td>\n",
       "      <td>1496</td>\n",
       "      <td>45.76</td>\n",
       "      <td>561.41</td>\n",
       "      <td>521.95</td>\n",
       "      <td>494.29</td>\n",
       "      <td>459.74</td>\n",
       "      <td>529.21</td>\n",
       "      <td>550.06</td>\n",
       "      <td>497.78</td>\n",
       "      <td>457.39</td>\n",
       "      <td>426.65</td>\n",
       "      <td>633.22</td>\n",
       "      <td>483.91</td>\n",
       "      <td>smart</td>\n",
       "    </tr>\n",
       "    <tr>\n",
       "      <td>489</td>\n",
       "      <td>1497</td>\n",
       "      <td>NaN</td>\n",
       "      <td>NaN</td>\n",
       "      <td>NaN</td>\n",
       "      <td>NaN</td>\n",
       "      <td>NaN</td>\n",
       "      <td>NaN</td>\n",
       "      <td>NaN</td>\n",
       "      <td>NaN</td>\n",
       "      <td>NaN</td>\n",
       "      <td>463.26</td>\n",
       "      <td>346.09</td>\n",
       "      <td>515.33</td>\n",
       "      <td>smart</td>\n",
       "    </tr>\n",
       "    <tr>\n",
       "      <td>490</td>\n",
       "      <td>1498</td>\n",
       "      <td>NaN</td>\n",
       "      <td>NaN</td>\n",
       "      <td>NaN</td>\n",
       "      <td>NaN</td>\n",
       "      <td>NaN</td>\n",
       "      <td>NaN</td>\n",
       "      <td>166.25</td>\n",
       "      <td>376.04</td>\n",
       "      <td>446.68</td>\n",
       "      <td>232.63</td>\n",
       "      <td>NaN</td>\n",
       "      <td>NaN</td>\n",
       "      <td>smart</td>\n",
       "    </tr>\n",
       "    <tr>\n",
       "      <td>491</td>\n",
       "      <td>1499</td>\n",
       "      <td>NaN</td>\n",
       "      <td>NaN</td>\n",
       "      <td>NaN</td>\n",
       "      <td>NaN</td>\n",
       "      <td>NaN</td>\n",
       "      <td>NaN</td>\n",
       "      <td>NaN</td>\n",
       "      <td>NaN</td>\n",
       "      <td>64.65</td>\n",
       "      <td>429.91</td>\n",
       "      <td>576.50</td>\n",
       "      <td>465.16</td>\n",
       "      <td>smart</td>\n",
       "    </tr>\n",
       "  </tbody>\n",
       "</table>\n",
       "<p>492 rows × 14 columns</p>\n",
       "</div>"
      ],
      "text/plain": [
       "     user_id      1       2       3       4       5       6       7       8  \\\n",
       "0       1000    NaN     NaN     NaN     NaN  150.06  158.90  318.80  389.87   \n",
       "1       1001    NaN     NaN     NaN     NaN     NaN     NaN     NaN     NaN   \n",
       "2       1002    NaN     NaN     NaN     NaN     NaN  110.37  204.75  269.71   \n",
       "3       1003    NaN     NaN     NaN     NaN     NaN     NaN     NaN  355.67   \n",
       "4       1004    NaN     NaN     NaN     NaN   32.29  159.14  124.42  128.01   \n",
       "..       ...    ...     ...     ...     ...     ...     ...     ...     ...   \n",
       "487     1495    NaN     NaN     NaN     NaN     NaN     NaN     NaN   87.03   \n",
       "488     1496  45.76  561.41  521.95  494.29  459.74  529.21  550.06  497.78   \n",
       "489     1497    NaN     NaN     NaN     NaN     NaN     NaN     NaN     NaN   \n",
       "490     1498    NaN     NaN     NaN     NaN     NaN     NaN  166.25  376.04   \n",
       "491     1499    NaN     NaN     NaN     NaN     NaN     NaN     NaN     NaN   \n",
       "\n",
       "          9      10      11      12 tariff  \n",
       "0    440.14  328.45  319.04  312.98  ultra  \n",
       "1       NaN     NaN  408.12  391.34  smart  \n",
       "2    195.85  199.48  228.03  222.98  smart  \n",
       "3    904.89  809.07  775.39  755.50  ultra  \n",
       "4    110.57  133.61  109.72  123.45  ultra  \n",
       "..      ...     ...     ...     ...    ...  \n",
       "487  766.62  971.33  892.65  970.94  ultra  \n",
       "488  457.39  426.65  633.22  483.91  smart  \n",
       "489     NaN  463.26  346.09  515.33  smart  \n",
       "490  446.68  232.63     NaN     NaN  smart  \n",
       "491   64.65  429.91  576.50  465.16  smart  \n",
       "\n",
       "[492 rows x 14 columns]"
      ]
     },
     "execution_count": 12,
     "metadata": {},
     "output_type": "execute_result"
    }
   ],
   "source": [
    "calls_sum = calls.pivot_table(\n",
    "    index='user_id',\n",
    "    columns='month',\n",
    "    values='duration',\n",
    "    aggfunc='sum').reset_index()\n",
    "# добавим данные о тарифе\n",
    "calls_sum = calls_sum.merge(users[['user_id', 'tariff']], on='user_id', how='left')\n",
    "calls_sum"
   ]
  },
  {
   "cell_type": "markdown",
   "metadata": {},
   "source": [
    "### Расчет сообщений"
   ]
  },
  {
   "cell_type": "markdown",
   "metadata": {},
   "source": [
    "Добавим стобец с месяцем"
   ]
  },
  {
   "cell_type": "code",
   "execution_count": 13,
   "metadata": {},
   "outputs": [],
   "source": [
    "messages['month'] = messages['message_date'].dt.month"
   ]
  },
  {
   "cell_type": "markdown",
   "metadata": {},
   "source": [
    "Создадим таблицу с кол-вом сообщений по месяцам"
   ]
  },
  {
   "cell_type": "code",
   "execution_count": 14,
   "metadata": {},
   "outputs": [
    {
     "data": {
      "text/html": [
       "<div>\n",
       "<style scoped>\n",
       "    .dataframe tbody tr th:only-of-type {\n",
       "        vertical-align: middle;\n",
       "    }\n",
       "\n",
       "    .dataframe tbody tr th {\n",
       "        vertical-align: top;\n",
       "    }\n",
       "\n",
       "    .dataframe thead th {\n",
       "        text-align: right;\n",
       "    }\n",
       "</style>\n",
       "<table border=\"1\" class=\"dataframe\">\n",
       "  <thead>\n",
       "    <tr style=\"text-align: right;\">\n",
       "      <th></th>\n",
       "      <th>user_id</th>\n",
       "      <th>1</th>\n",
       "      <th>2</th>\n",
       "      <th>3</th>\n",
       "      <th>4</th>\n",
       "      <th>5</th>\n",
       "      <th>6</th>\n",
       "      <th>7</th>\n",
       "      <th>8</th>\n",
       "      <th>9</th>\n",
       "      <th>10</th>\n",
       "      <th>11</th>\n",
       "      <th>12</th>\n",
       "      <th>tariff</th>\n",
       "    </tr>\n",
       "  </thead>\n",
       "  <tbody>\n",
       "    <tr>\n",
       "      <td>0</td>\n",
       "      <td>1000</td>\n",
       "      <td>NaN</td>\n",
       "      <td>NaN</td>\n",
       "      <td>NaN</td>\n",
       "      <td>NaN</td>\n",
       "      <td>22.0</td>\n",
       "      <td>60.0</td>\n",
       "      <td>75.0</td>\n",
       "      <td>81.0</td>\n",
       "      <td>57.0</td>\n",
       "      <td>73.0</td>\n",
       "      <td>58.0</td>\n",
       "      <td>70.0</td>\n",
       "      <td>ultra</td>\n",
       "    </tr>\n",
       "    <tr>\n",
       "      <td>1</td>\n",
       "      <td>1002</td>\n",
       "      <td>NaN</td>\n",
       "      <td>NaN</td>\n",
       "      <td>NaN</td>\n",
       "      <td>NaN</td>\n",
       "      <td>NaN</td>\n",
       "      <td>4.0</td>\n",
       "      <td>11.0</td>\n",
       "      <td>13.0</td>\n",
       "      <td>4.0</td>\n",
       "      <td>10.0</td>\n",
       "      <td>16.0</td>\n",
       "      <td>12.0</td>\n",
       "      <td>smart</td>\n",
       "    </tr>\n",
       "    <tr>\n",
       "      <td>2</td>\n",
       "      <td>1003</td>\n",
       "      <td>NaN</td>\n",
       "      <td>NaN</td>\n",
       "      <td>NaN</td>\n",
       "      <td>NaN</td>\n",
       "      <td>NaN</td>\n",
       "      <td>NaN</td>\n",
       "      <td>NaN</td>\n",
       "      <td>37.0</td>\n",
       "      <td>91.0</td>\n",
       "      <td>83.0</td>\n",
       "      <td>94.0</td>\n",
       "      <td>75.0</td>\n",
       "      <td>ultra</td>\n",
       "    </tr>\n",
       "    <tr>\n",
       "      <td>3</td>\n",
       "      <td>1004</td>\n",
       "      <td>NaN</td>\n",
       "      <td>NaN</td>\n",
       "      <td>NaN</td>\n",
       "      <td>NaN</td>\n",
       "      <td>95.0</td>\n",
       "      <td>134.0</td>\n",
       "      <td>181.0</td>\n",
       "      <td>151.0</td>\n",
       "      <td>146.0</td>\n",
       "      <td>165.0</td>\n",
       "      <td>158.0</td>\n",
       "      <td>162.0</td>\n",
       "      <td>ultra</td>\n",
       "    </tr>\n",
       "    <tr>\n",
       "      <td>4</td>\n",
       "      <td>1005</td>\n",
       "      <td>7.0</td>\n",
       "      <td>38.0</td>\n",
       "      <td>56.0</td>\n",
       "      <td>41.0</td>\n",
       "      <td>42.0</td>\n",
       "      <td>47.0</td>\n",
       "      <td>56.0</td>\n",
       "      <td>64.0</td>\n",
       "      <td>52.0</td>\n",
       "      <td>44.0</td>\n",
       "      <td>51.0</td>\n",
       "      <td>54.0</td>\n",
       "      <td>smart</td>\n",
       "    </tr>\n",
       "    <tr>\n",
       "      <td>...</td>\n",
       "      <td>...</td>\n",
       "      <td>...</td>\n",
       "      <td>...</td>\n",
       "      <td>...</td>\n",
       "      <td>...</td>\n",
       "      <td>...</td>\n",
       "      <td>...</td>\n",
       "      <td>...</td>\n",
       "      <td>...</td>\n",
       "      <td>...</td>\n",
       "      <td>...</td>\n",
       "      <td>...</td>\n",
       "      <td>...</td>\n",
       "      <td>...</td>\n",
       "    </tr>\n",
       "    <tr>\n",
       "      <td>421</td>\n",
       "      <td>1495</td>\n",
       "      <td>NaN</td>\n",
       "      <td>NaN</td>\n",
       "      <td>NaN</td>\n",
       "      <td>NaN</td>\n",
       "      <td>NaN</td>\n",
       "      <td>NaN</td>\n",
       "      <td>NaN</td>\n",
       "      <td>13.0</td>\n",
       "      <td>82.0</td>\n",
       "      <td>82.0</td>\n",
       "      <td>79.0</td>\n",
       "      <td>84.0</td>\n",
       "      <td>ultra</td>\n",
       "    </tr>\n",
       "    <tr>\n",
       "      <td>422</td>\n",
       "      <td>1496</td>\n",
       "      <td>9.0</td>\n",
       "      <td>45.0</td>\n",
       "      <td>46.0</td>\n",
       "      <td>49.0</td>\n",
       "      <td>40.0</td>\n",
       "      <td>35.0</td>\n",
       "      <td>42.0</td>\n",
       "      <td>41.0</td>\n",
       "      <td>29.0</td>\n",
       "      <td>35.0</td>\n",
       "      <td>46.0</td>\n",
       "      <td>51.0</td>\n",
       "      <td>smart</td>\n",
       "    </tr>\n",
       "    <tr>\n",
       "      <td>423</td>\n",
       "      <td>1497</td>\n",
       "      <td>NaN</td>\n",
       "      <td>NaN</td>\n",
       "      <td>NaN</td>\n",
       "      <td>NaN</td>\n",
       "      <td>NaN</td>\n",
       "      <td>NaN</td>\n",
       "      <td>NaN</td>\n",
       "      <td>NaN</td>\n",
       "      <td>NaN</td>\n",
       "      <td>20.0</td>\n",
       "      <td>14.0</td>\n",
       "      <td>17.0</td>\n",
       "      <td>smart</td>\n",
       "    </tr>\n",
       "    <tr>\n",
       "      <td>424</td>\n",
       "      <td>1498</td>\n",
       "      <td>NaN</td>\n",
       "      <td>NaN</td>\n",
       "      <td>NaN</td>\n",
       "      <td>NaN</td>\n",
       "      <td>NaN</td>\n",
       "      <td>NaN</td>\n",
       "      <td>20.0</td>\n",
       "      <td>62.0</td>\n",
       "      <td>44.0</td>\n",
       "      <td>42.0</td>\n",
       "      <td>NaN</td>\n",
       "      <td>NaN</td>\n",
       "      <td>smart</td>\n",
       "    </tr>\n",
       "    <tr>\n",
       "      <td>425</td>\n",
       "      <td>1499</td>\n",
       "      <td>NaN</td>\n",
       "      <td>NaN</td>\n",
       "      <td>NaN</td>\n",
       "      <td>NaN</td>\n",
       "      <td>NaN</td>\n",
       "      <td>NaN</td>\n",
       "      <td>NaN</td>\n",
       "      <td>NaN</td>\n",
       "      <td>11.0</td>\n",
       "      <td>48.0</td>\n",
       "      <td>59.0</td>\n",
       "      <td>66.0</td>\n",
       "      <td>smart</td>\n",
       "    </tr>\n",
       "  </tbody>\n",
       "</table>\n",
       "<p>426 rows × 14 columns</p>\n",
       "</div>"
      ],
      "text/plain": [
       "     user_id    1     2     3     4     5      6      7      8      9     10  \\\n",
       "0       1000  NaN   NaN   NaN   NaN  22.0   60.0   75.0   81.0   57.0   73.0   \n",
       "1       1002  NaN   NaN   NaN   NaN   NaN    4.0   11.0   13.0    4.0   10.0   \n",
       "2       1003  NaN   NaN   NaN   NaN   NaN    NaN    NaN   37.0   91.0   83.0   \n",
       "3       1004  NaN   NaN   NaN   NaN  95.0  134.0  181.0  151.0  146.0  165.0   \n",
       "4       1005  7.0  38.0  56.0  41.0  42.0   47.0   56.0   64.0   52.0   44.0   \n",
       "..       ...  ...   ...   ...   ...   ...    ...    ...    ...    ...    ...   \n",
       "421     1495  NaN   NaN   NaN   NaN   NaN    NaN    NaN   13.0   82.0   82.0   \n",
       "422     1496  9.0  45.0  46.0  49.0  40.0   35.0   42.0   41.0   29.0   35.0   \n",
       "423     1497  NaN   NaN   NaN   NaN   NaN    NaN    NaN    NaN    NaN   20.0   \n",
       "424     1498  NaN   NaN   NaN   NaN   NaN    NaN   20.0   62.0   44.0   42.0   \n",
       "425     1499  NaN   NaN   NaN   NaN   NaN    NaN    NaN    NaN   11.0   48.0   \n",
       "\n",
       "        11     12 tariff  \n",
       "0     58.0   70.0  ultra  \n",
       "1     16.0   12.0  smart  \n",
       "2     94.0   75.0  ultra  \n",
       "3    158.0  162.0  ultra  \n",
       "4     51.0   54.0  smart  \n",
       "..     ...    ...    ...  \n",
       "421   79.0   84.0  ultra  \n",
       "422   46.0   51.0  smart  \n",
       "423   14.0   17.0  smart  \n",
       "424    NaN    NaN  smart  \n",
       "425   59.0   66.0  smart  \n",
       "\n",
       "[426 rows x 14 columns]"
      ]
     },
     "execution_count": 14,
     "metadata": {},
     "output_type": "execute_result"
    }
   ],
   "source": [
    "messages_count = messages.pivot_table(\n",
    "    index='user_id',\n",
    "    columns='month',\n",
    "    values='id',\n",
    "    aggfunc='count').reset_index()\n",
    "# добавим данные о тарифе\n",
    "messages_count = messages_count.merge(users[['user_id', 'tariff']], on='user_id', how='left')\n",
    "messages_count"
   ]
  },
  {
   "cell_type": "markdown",
   "metadata": {},
   "source": [
    "### Расчет трафика"
   ]
  },
  {
   "cell_type": "markdown",
   "metadata": {},
   "source": [
    "Добавим колонку с месяцами"
   ]
  },
  {
   "cell_type": "code",
   "execution_count": 15,
   "metadata": {},
   "outputs": [],
   "source": [
    "internet['month'] = internet['session_date'].dt.month"
   ]
  },
  {
   "cell_type": "markdown",
   "metadata": {},
   "source": [
    "Добавим столбец с израсходованным трафиком в гигабайтах"
   ]
  },
  {
   "cell_type": "code",
   "execution_count": 16,
   "metadata": {},
   "outputs": [],
   "source": [
    "# найдем кол-во в гб\n",
    "internet['gb_used'] = internet['mb_used'] / 1024"
   ]
  },
  {
   "cell_type": "markdown",
   "metadata": {},
   "source": [
    "Создадим таблицу с колвом трафика по месяцам"
   ]
  },
  {
   "cell_type": "code",
   "execution_count": 17,
   "metadata": {},
   "outputs": [
    {
     "data": {
      "text/html": [
       "<div>\n",
       "<style scoped>\n",
       "    .dataframe tbody tr th:only-of-type {\n",
       "        vertical-align: middle;\n",
       "    }\n",
       "\n",
       "    .dataframe tbody tr th {\n",
       "        vertical-align: top;\n",
       "    }\n",
       "\n",
       "    .dataframe thead th {\n",
       "        text-align: right;\n",
       "    }\n",
       "</style>\n",
       "<table border=\"1\" class=\"dataframe\">\n",
       "  <thead>\n",
       "    <tr style=\"text-align: right;\">\n",
       "      <th></th>\n",
       "      <th>user_id</th>\n",
       "      <th>1</th>\n",
       "      <th>2</th>\n",
       "      <th>3</th>\n",
       "      <th>4</th>\n",
       "      <th>5</th>\n",
       "      <th>6</th>\n",
       "      <th>7</th>\n",
       "      <th>8</th>\n",
       "      <th>9</th>\n",
       "      <th>10</th>\n",
       "      <th>11</th>\n",
       "      <th>12</th>\n",
       "      <th>tariff</th>\n",
       "    </tr>\n",
       "  </thead>\n",
       "  <tbody>\n",
       "    <tr>\n",
       "      <td>0</td>\n",
       "      <td>1000.0</td>\n",
       "      <td>NaN</td>\n",
       "      <td>NaN</td>\n",
       "      <td>NaN</td>\n",
       "      <td>NaN</td>\n",
       "      <td>3.0</td>\n",
       "      <td>23.0</td>\n",
       "      <td>14.0</td>\n",
       "      <td>14.0</td>\n",
       "      <td>15.0</td>\n",
       "      <td>15.0</td>\n",
       "      <td>15.0</td>\n",
       "      <td>10.0</td>\n",
       "      <td>ultra</td>\n",
       "    </tr>\n",
       "    <tr>\n",
       "      <td>1</td>\n",
       "      <td>1001.0</td>\n",
       "      <td>NaN</td>\n",
       "      <td>NaN</td>\n",
       "      <td>NaN</td>\n",
       "      <td>NaN</td>\n",
       "      <td>NaN</td>\n",
       "      <td>NaN</td>\n",
       "      <td>NaN</td>\n",
       "      <td>NaN</td>\n",
       "      <td>NaN</td>\n",
       "      <td>NaN</td>\n",
       "      <td>18.0</td>\n",
       "      <td>14.0</td>\n",
       "      <td>smart</td>\n",
       "    </tr>\n",
       "    <tr>\n",
       "      <td>2</td>\n",
       "      <td>1002.0</td>\n",
       "      <td>NaN</td>\n",
       "      <td>NaN</td>\n",
       "      <td>NaN</td>\n",
       "      <td>NaN</td>\n",
       "      <td>NaN</td>\n",
       "      <td>11.0</td>\n",
       "      <td>18.0</td>\n",
       "      <td>20.0</td>\n",
       "      <td>17.0</td>\n",
       "      <td>14.0</td>\n",
       "      <td>19.0</td>\n",
       "      <td>18.0</td>\n",
       "      <td>smart</td>\n",
       "    </tr>\n",
       "    <tr>\n",
       "      <td>3</td>\n",
       "      <td>1003.0</td>\n",
       "      <td>NaN</td>\n",
       "      <td>NaN</td>\n",
       "      <td>NaN</td>\n",
       "      <td>NaN</td>\n",
       "      <td>NaN</td>\n",
       "      <td>NaN</td>\n",
       "      <td>NaN</td>\n",
       "      <td>9.0</td>\n",
       "      <td>13.0</td>\n",
       "      <td>15.0</td>\n",
       "      <td>12.0</td>\n",
       "      <td>10.0</td>\n",
       "      <td>ultra</td>\n",
       "    </tr>\n",
       "    <tr>\n",
       "      <td>4</td>\n",
       "      <td>1004.0</td>\n",
       "      <td>NaN</td>\n",
       "      <td>NaN</td>\n",
       "      <td>NaN</td>\n",
       "      <td>NaN</td>\n",
       "      <td>14.0</td>\n",
       "      <td>18.0</td>\n",
       "      <td>22.0</td>\n",
       "      <td>28.0</td>\n",
       "      <td>15.0</td>\n",
       "      <td>19.0</td>\n",
       "      <td>16.0</td>\n",
       "      <td>18.0</td>\n",
       "      <td>ultra</td>\n",
       "    </tr>\n",
       "    <tr>\n",
       "      <td>...</td>\n",
       "      <td>...</td>\n",
       "      <td>...</td>\n",
       "      <td>...</td>\n",
       "      <td>...</td>\n",
       "      <td>...</td>\n",
       "      <td>...</td>\n",
       "      <td>...</td>\n",
       "      <td>...</td>\n",
       "      <td>...</td>\n",
       "      <td>...</td>\n",
       "      <td>...</td>\n",
       "      <td>...</td>\n",
       "      <td>...</td>\n",
       "      <td>...</td>\n",
       "    </tr>\n",
       "    <tr>\n",
       "      <td>492</td>\n",
       "      <td>1495.0</td>\n",
       "      <td>NaN</td>\n",
       "      <td>NaN</td>\n",
       "      <td>NaN</td>\n",
       "      <td>NaN</td>\n",
       "      <td>NaN</td>\n",
       "      <td>NaN</td>\n",
       "      <td>NaN</td>\n",
       "      <td>3.0</td>\n",
       "      <td>33.0</td>\n",
       "      <td>29.0</td>\n",
       "      <td>39.0</td>\n",
       "      <td>23.0</td>\n",
       "      <td>ultra</td>\n",
       "    </tr>\n",
       "    <tr>\n",
       "      <td>493</td>\n",
       "      <td>1496.0</td>\n",
       "      <td>4.0</td>\n",
       "      <td>28.0</td>\n",
       "      <td>25.0</td>\n",
       "      <td>21.0</td>\n",
       "      <td>24.0</td>\n",
       "      <td>20.0</td>\n",
       "      <td>24.0</td>\n",
       "      <td>23.0</td>\n",
       "      <td>27.0</td>\n",
       "      <td>28.0</td>\n",
       "      <td>25.0</td>\n",
       "      <td>21.0</td>\n",
       "      <td>smart</td>\n",
       "    </tr>\n",
       "    <tr>\n",
       "      <td>494</td>\n",
       "      <td>1497.0</td>\n",
       "      <td>NaN</td>\n",
       "      <td>NaN</td>\n",
       "      <td>NaN</td>\n",
       "      <td>NaN</td>\n",
       "      <td>NaN</td>\n",
       "      <td>NaN</td>\n",
       "      <td>NaN</td>\n",
       "      <td>NaN</td>\n",
       "      <td>NaN</td>\n",
       "      <td>12.0</td>\n",
       "      <td>14.0</td>\n",
       "      <td>20.0</td>\n",
       "      <td>smart</td>\n",
       "    </tr>\n",
       "    <tr>\n",
       "      <td>495</td>\n",
       "      <td>1498.0</td>\n",
       "      <td>NaN</td>\n",
       "      <td>NaN</td>\n",
       "      <td>NaN</td>\n",
       "      <td>NaN</td>\n",
       "      <td>NaN</td>\n",
       "      <td>NaN</td>\n",
       "      <td>8.0</td>\n",
       "      <td>24.0</td>\n",
       "      <td>22.0</td>\n",
       "      <td>21.0</td>\n",
       "      <td>NaN</td>\n",
       "      <td>NaN</td>\n",
       "      <td>smart</td>\n",
       "    </tr>\n",
       "    <tr>\n",
       "      <td>496</td>\n",
       "      <td>1499.0</td>\n",
       "      <td>NaN</td>\n",
       "      <td>NaN</td>\n",
       "      <td>NaN</td>\n",
       "      <td>NaN</td>\n",
       "      <td>NaN</td>\n",
       "      <td>NaN</td>\n",
       "      <td>NaN</td>\n",
       "      <td>NaN</td>\n",
       "      <td>2.0</td>\n",
       "      <td>18.0</td>\n",
       "      <td>18.0</td>\n",
       "      <td>13.0</td>\n",
       "      <td>smart</td>\n",
       "    </tr>\n",
       "  </tbody>\n",
       "</table>\n",
       "<p>497 rows × 14 columns</p>\n",
       "</div>"
      ],
      "text/plain": [
       "     user_id    1     2     3     4     5     6     7     8     9    10    11  \\\n",
       "0     1000.0  NaN   NaN   NaN   NaN   3.0  23.0  14.0  14.0  15.0  15.0  15.0   \n",
       "1     1001.0  NaN   NaN   NaN   NaN   NaN   NaN   NaN   NaN   NaN   NaN  18.0   \n",
       "2     1002.0  NaN   NaN   NaN   NaN   NaN  11.0  18.0  20.0  17.0  14.0  19.0   \n",
       "3     1003.0  NaN   NaN   NaN   NaN   NaN   NaN   NaN   9.0  13.0  15.0  12.0   \n",
       "4     1004.0  NaN   NaN   NaN   NaN  14.0  18.0  22.0  28.0  15.0  19.0  16.0   \n",
       "..       ...  ...   ...   ...   ...   ...   ...   ...   ...   ...   ...   ...   \n",
       "492   1495.0  NaN   NaN   NaN   NaN   NaN   NaN   NaN   3.0  33.0  29.0  39.0   \n",
       "493   1496.0  4.0  28.0  25.0  21.0  24.0  20.0  24.0  23.0  27.0  28.0  25.0   \n",
       "494   1497.0  NaN   NaN   NaN   NaN   NaN   NaN   NaN   NaN   NaN  12.0  14.0   \n",
       "495   1498.0  NaN   NaN   NaN   NaN   NaN   NaN   8.0  24.0  22.0  21.0   NaN   \n",
       "496   1499.0  NaN   NaN   NaN   NaN   NaN   NaN   NaN   NaN   2.0  18.0  18.0   \n",
       "\n",
       "       12 tariff  \n",
       "0    10.0  ultra  \n",
       "1    14.0  smart  \n",
       "2    18.0  smart  \n",
       "3    10.0  ultra  \n",
       "4    18.0  ultra  \n",
       "..    ...    ...  \n",
       "492  23.0  ultra  \n",
       "493  21.0  smart  \n",
       "494  20.0  smart  \n",
       "495   NaN  smart  \n",
       "496  13.0  smart  \n",
       "\n",
       "[497 rows x 14 columns]"
      ]
     },
     "execution_count": 17,
     "metadata": {},
     "output_type": "execute_result"
    }
   ],
   "source": [
    "internet_sum = internet.pivot_table(\n",
    "    index='user_id',\n",
    "    columns='month',\n",
    "    values='gb_used',\n",
    "    aggfunc='sum').reset_index()\n",
    "# округлим мб до гб\n",
    "internet_sum = np.ceil(internet_sum)\n",
    "# добавим данные о тарифе\n",
    "internet_sum = internet_sum.merge(users[['user_id', 'tariff']], on='user_id', how='left')\n",
    "internet_sum"
   ]
  },
  {
   "cell_type": "markdown",
   "metadata": {},
   "source": [
    "### Расчет стоимости"
   ]
  },
  {
   "cell_type": "markdown",
   "metadata": {},
   "source": [
    "Рассчитаем итоговую стоимость за месяц.\n",
    "\n",
    "Напишем для таблиц функции для подсчета стоимости минут, сообщений и гб трафика сверх тарифа"
   ]
  },
  {
   "cell_type": "code",
   "execution_count": 18,
   "metadata": {},
   "outputs": [],
   "source": [
    "def internet_p(row):\n",
    "    # переведем мб в гб\n",
    "    sgb = int(tariffs.loc[0, 'mb_per_month_included'] / 1024)\n",
    "    ugb = int(tariffs.loc[1, 'mb_per_month_included'] / 1024)\n",
    "    if 'smart' in row['tariff']:\n",
    "        for i in range(1, 13):\n",
    "            if row.iloc[i] > sgb:\n",
    "                row.iloc[i] = (row.iloc[i] - sgb) * tariffs.loc[0, 'rub_per_gb']\n",
    "            else:\n",
    "                row.iloc[i] = 0\n",
    "            \n",
    "        return row\n",
    "        \n",
    "    else:\n",
    "        for i in range(1, 13):\n",
    "            if row.iloc[i] > ugb:\n",
    "                row.iloc[i] = (row.iloc[i] - ugb) * tariffs.loc[1, 'rub_per_gb']\n",
    "            else:\n",
    "                row.iloc[i] = 0\n",
    "            \n",
    "        return row\n",
    "\n",
    "internet_s = internet_sum.apply(internet_p, axis=1)"
   ]
  },
  {
   "cell_type": "code",
   "execution_count": 19,
   "metadata": {},
   "outputs": [],
   "source": [
    "def calls_p(row):\n",
    "    if 'smart' in row['tariff']:\n",
    "        for i in range(1, 13):\n",
    "            if row.iloc[i] > tariffs.loc[0, 'minutes_included']:\n",
    "                row.iloc[i] = (row.iloc[i] - tariffs.loc[0, 'minutes_included']) * tariffs.loc[0, 'rub_per_minute']\n",
    "            else:\n",
    "                row.iloc[i] = 0\n",
    "            \n",
    "        return row\n",
    "        \n",
    "    else:\n",
    "        for i in range(1, 13):\n",
    "            if row.iloc[i] > tariffs.loc[1, 'minutes_included']:\n",
    "                row.iloc[i] = (row.iloc[i] - tariffs.loc[1, 'minutes_included']) * tariffs.loc[1, 'rub_per_minute']\n",
    "            else:\n",
    "                row.iloc[i] = 0\n",
    "            \n",
    "        return row\n",
    "\n",
    "calls_s = calls_sum.apply(calls_p, axis=1)"
   ]
  },
  {
   "cell_type": "code",
   "execution_count": 20,
   "metadata": {},
   "outputs": [],
   "source": [
    "def messages_p(row):\n",
    "    if 'smart' in row['tariff']:\n",
    "        for i in range(1, 13):\n",
    "            if row.iloc[i] > tariffs.loc[0, 'messages_included']:\n",
    "                row.iloc[i] = (row.iloc[i] - tariffs.loc[0, 'messages_included']) * tariffs.loc[0, 'rub_per_message']\n",
    "            else:\n",
    "                row.iloc[i] = 0\n",
    "            \n",
    "        return row\n",
    "        \n",
    "    else:\n",
    "        for i in range(1, 13):\n",
    "            if row.iloc[i] > tariffs.loc[1, 'messages_included']:\n",
    "                row.iloc[i] = (row.iloc[i] - tariffs.loc[1, 'messages_included']) * tariffs.loc[1, 'rub_per_message']\n",
    "            else:\n",
    "                row.iloc[i] = 0\n",
    "            \n",
    "        return row\n",
    "\n",
    "messages_s = messages_count.apply(messages_p, axis=1)"
   ]
  },
  {
   "cell_type": "markdown",
   "metadata": {},
   "source": [
    "Сложим результаты трех таблиц "
   ]
  },
  {
   "cell_type": "code",
   "execution_count": 21,
   "metadata": {},
   "outputs": [
    {
     "data": {
      "text/html": [
       "<div>\n",
       "<style scoped>\n",
       "    .dataframe tbody tr th:only-of-type {\n",
       "        vertical-align: middle;\n",
       "    }\n",
       "\n",
       "    .dataframe tbody tr th {\n",
       "        vertical-align: top;\n",
       "    }\n",
       "\n",
       "    .dataframe thead th {\n",
       "        text-align: right;\n",
       "    }\n",
       "</style>\n",
       "<table border=\"1\" class=\"dataframe\">\n",
       "  <thead>\n",
       "    <tr style=\"text-align: right;\">\n",
       "      <th></th>\n",
       "      <th>user_id</th>\n",
       "      <th>1</th>\n",
       "      <th>2</th>\n",
       "      <th>3</th>\n",
       "      <th>4</th>\n",
       "      <th>5</th>\n",
       "      <th>6</th>\n",
       "      <th>7</th>\n",
       "      <th>8</th>\n",
       "      <th>9</th>\n",
       "      <th>10</th>\n",
       "      <th>11</th>\n",
       "      <th>12</th>\n",
       "    </tr>\n",
       "  </thead>\n",
       "  <tbody>\n",
       "    <tr>\n",
       "      <td>0</td>\n",
       "      <td>1000.0</td>\n",
       "      <td>0.0</td>\n",
       "      <td>0.00</td>\n",
       "      <td>0.00</td>\n",
       "      <td>0.0</td>\n",
       "      <td>0.0</td>\n",
       "      <td>0.00</td>\n",
       "      <td>0.00</td>\n",
       "      <td>0.0</td>\n",
       "      <td>0.0</td>\n",
       "      <td>0.0</td>\n",
       "      <td>0.00</td>\n",
       "      <td>0.00</td>\n",
       "    </tr>\n",
       "    <tr>\n",
       "      <td>1</td>\n",
       "      <td>1001.0</td>\n",
       "      <td>0.0</td>\n",
       "      <td>0.00</td>\n",
       "      <td>0.00</td>\n",
       "      <td>0.0</td>\n",
       "      <td>0.0</td>\n",
       "      <td>0.00</td>\n",
       "      <td>0.00</td>\n",
       "      <td>0.0</td>\n",
       "      <td>0.0</td>\n",
       "      <td>0.0</td>\n",
       "      <td>600.00</td>\n",
       "      <td>0.00</td>\n",
       "    </tr>\n",
       "    <tr>\n",
       "      <td>2</td>\n",
       "      <td>1002.0</td>\n",
       "      <td>0.0</td>\n",
       "      <td>0.00</td>\n",
       "      <td>0.00</td>\n",
       "      <td>0.0</td>\n",
       "      <td>0.0</td>\n",
       "      <td>0.00</td>\n",
       "      <td>600.00</td>\n",
       "      <td>1000.0</td>\n",
       "      <td>400.0</td>\n",
       "      <td>0.0</td>\n",
       "      <td>800.00</td>\n",
       "      <td>600.00</td>\n",
       "    </tr>\n",
       "    <tr>\n",
       "      <td>3</td>\n",
       "      <td>1003.0</td>\n",
       "      <td>0.0</td>\n",
       "      <td>0.00</td>\n",
       "      <td>0.00</td>\n",
       "      <td>0.0</td>\n",
       "      <td>0.0</td>\n",
       "      <td>0.00</td>\n",
       "      <td>0.00</td>\n",
       "      <td>0.0</td>\n",
       "      <td>0.0</td>\n",
       "      <td>0.0</td>\n",
       "      <td>0.00</td>\n",
       "      <td>0.00</td>\n",
       "    </tr>\n",
       "    <tr>\n",
       "      <td>4</td>\n",
       "      <td>1004.0</td>\n",
       "      <td>0.0</td>\n",
       "      <td>0.00</td>\n",
       "      <td>0.00</td>\n",
       "      <td>0.0</td>\n",
       "      <td>0.0</td>\n",
       "      <td>0.00</td>\n",
       "      <td>0.00</td>\n",
       "      <td>0.0</td>\n",
       "      <td>0.0</td>\n",
       "      <td>0.0</td>\n",
       "      <td>0.00</td>\n",
       "      <td>0.00</td>\n",
       "    </tr>\n",
       "    <tr>\n",
       "      <td>...</td>\n",
       "      <td>...</td>\n",
       "      <td>...</td>\n",
       "      <td>...</td>\n",
       "      <td>...</td>\n",
       "      <td>...</td>\n",
       "      <td>...</td>\n",
       "      <td>...</td>\n",
       "      <td>...</td>\n",
       "      <td>...</td>\n",
       "      <td>...</td>\n",
       "      <td>...</td>\n",
       "      <td>...</td>\n",
       "      <td>...</td>\n",
       "    </tr>\n",
       "    <tr>\n",
       "      <td>493</td>\n",
       "      <td>1495.0</td>\n",
       "      <td>0.0</td>\n",
       "      <td>0.00</td>\n",
       "      <td>0.00</td>\n",
       "      <td>0.0</td>\n",
       "      <td>0.0</td>\n",
       "      <td>0.00</td>\n",
       "      <td>0.00</td>\n",
       "      <td>0.0</td>\n",
       "      <td>450.0</td>\n",
       "      <td>0.0</td>\n",
       "      <td>1350.00</td>\n",
       "      <td>0.00</td>\n",
       "    </tr>\n",
       "    <tr>\n",
       "      <td>494</td>\n",
       "      <td>1496.0</td>\n",
       "      <td>0.0</td>\n",
       "      <td>2784.23</td>\n",
       "      <td>2065.85</td>\n",
       "      <td>1200.0</td>\n",
       "      <td>1800.0</td>\n",
       "      <td>1087.63</td>\n",
       "      <td>1950.18</td>\n",
       "      <td>1600.0</td>\n",
       "      <td>2400.0</td>\n",
       "      <td>2600.0</td>\n",
       "      <td>2399.66</td>\n",
       "      <td>1203.00</td>\n",
       "    </tr>\n",
       "    <tr>\n",
       "      <td>495</td>\n",
       "      <td>1497.0</td>\n",
       "      <td>0.0</td>\n",
       "      <td>0.00</td>\n",
       "      <td>0.00</td>\n",
       "      <td>0.0</td>\n",
       "      <td>0.0</td>\n",
       "      <td>0.00</td>\n",
       "      <td>0.00</td>\n",
       "      <td>0.0</td>\n",
       "      <td>0.0</td>\n",
       "      <td>0.0</td>\n",
       "      <td>0.00</td>\n",
       "      <td>1045.99</td>\n",
       "    </tr>\n",
       "    <tr>\n",
       "      <td>496</td>\n",
       "      <td>1498.0</td>\n",
       "      <td>0.0</td>\n",
       "      <td>0.00</td>\n",
       "      <td>0.00</td>\n",
       "      <td>0.0</td>\n",
       "      <td>0.0</td>\n",
       "      <td>0.00</td>\n",
       "      <td>0.00</td>\n",
       "      <td>1836.0</td>\n",
       "      <td>1400.0</td>\n",
       "      <td>1200.0</td>\n",
       "      <td>0.00</td>\n",
       "      <td>0.00</td>\n",
       "    </tr>\n",
       "    <tr>\n",
       "      <td>497</td>\n",
       "      <td>1499.0</td>\n",
       "      <td>0.0</td>\n",
       "      <td>0.00</td>\n",
       "      <td>0.00</td>\n",
       "      <td>0.0</td>\n",
       "      <td>0.0</td>\n",
       "      <td>0.00</td>\n",
       "      <td>0.00</td>\n",
       "      <td>0.0</td>\n",
       "      <td>0.0</td>\n",
       "      <td>600.0</td>\n",
       "      <td>856.50</td>\n",
       "      <td>48.00</td>\n",
       "    </tr>\n",
       "  </tbody>\n",
       "</table>\n",
       "<p>498 rows × 13 columns</p>\n",
       "</div>"
      ],
      "text/plain": [
       "     user_id    1        2        3       4       5        6        7       8  \\\n",
       "0     1000.0  0.0     0.00     0.00     0.0     0.0     0.00     0.00     0.0   \n",
       "1     1001.0  0.0     0.00     0.00     0.0     0.0     0.00     0.00     0.0   \n",
       "2     1002.0  0.0     0.00     0.00     0.0     0.0     0.00   600.00  1000.0   \n",
       "3     1003.0  0.0     0.00     0.00     0.0     0.0     0.00     0.00     0.0   \n",
       "4     1004.0  0.0     0.00     0.00     0.0     0.0     0.00     0.00     0.0   \n",
       "..       ...  ...      ...      ...     ...     ...      ...      ...     ...   \n",
       "493   1495.0  0.0     0.00     0.00     0.0     0.0     0.00     0.00     0.0   \n",
       "494   1496.0  0.0  2784.23  2065.85  1200.0  1800.0  1087.63  1950.18  1600.0   \n",
       "495   1497.0  0.0     0.00     0.00     0.0     0.0     0.00     0.00     0.0   \n",
       "496   1498.0  0.0     0.00     0.00     0.0     0.0     0.00     0.00  1836.0   \n",
       "497   1499.0  0.0     0.00     0.00     0.0     0.0     0.00     0.00     0.0   \n",
       "\n",
       "          9      10       11       12  \n",
       "0       0.0     0.0     0.00     0.00  \n",
       "1       0.0     0.0   600.00     0.00  \n",
       "2     400.0     0.0   800.00   600.00  \n",
       "3       0.0     0.0     0.00     0.00  \n",
       "4       0.0     0.0     0.00     0.00  \n",
       "..      ...     ...      ...      ...  \n",
       "493   450.0     0.0  1350.00     0.00  \n",
       "494  2400.0  2600.0  2399.66  1203.00  \n",
       "495     0.0     0.0     0.00  1045.99  \n",
       "496  1400.0  1200.0     0.00     0.00  \n",
       "497     0.0   600.0   856.50    48.00  \n",
       "\n",
       "[498 rows x 13 columns]"
      ]
     },
     "execution_count": 21,
     "metadata": {},
     "output_type": "execute_result"
    }
   ],
   "source": [
    "all_p = internet_s.merge( # склеим таблицы методом merge\n",
    "    calls_s,\n",
    "    on='user_id',\n",
    "    how='outer') \\\n",
    "    .merge(\n",
    "    messages_s,\n",
    "    on='user_id',\n",
    "    how='outer') \\\n",
    "    .sort_values(by='user_id') \\\n",
    "    .fillna(0) \\\n",
    "    .reset_index(drop=True)      \n",
    "# отсортируем по айди пользователей,заменим пропуски нулями и обновим индексы\n",
    "\n",
    "for i in range(1, 13):\n",
    "    all_p[i] = all_p[f'{i}_x'] + all_p[f'{i}_y'] + all_p[i] # сложим столбцы со значениями и удалим лишние\n",
    "    all_p.drop([f'{i}_x', f'{i}_y'], axis=1, inplace=True)\n",
    "all_p.drop(['tariff_x', 'tariff_y', 'tariff'], axis=1, inplace=True) # удалим столбцы с пропущенными тарифами \n",
    "\n",
    "all_p"
   ]
  },
  {
   "cell_type": "markdown",
   "metadata": {},
   "source": [
    "Мы видим, что у нас появилось 2 пропуска(те клиенты кто не пользовался тарифом), найдем этих клиентов и посмотрим в чем причина"
   ]
  },
  {
   "cell_type": "code",
   "execution_count": 22,
   "metadata": {},
   "outputs": [
    {
     "data": {
      "text/plain": [
       "128   -1.0\n",
       "129   -1.0\n",
       "130   -1.0\n",
       "131   -1.0\n",
       "132   -1.0\n",
       "Name: user_id, dtype: float64"
      ]
     },
     "execution_count": 22,
     "metadata": {},
     "output_type": "execute_result"
    }
   ],
   "source": [
    "# найдем первый пропуск\n",
    "lost = users['user_id'] - all_p['user_id']\n",
    "lost[lost < 0].head()"
   ]
  },
  {
   "cell_type": "code",
   "execution_count": 23,
   "metadata": {},
   "outputs": [
    {
     "data": {
      "text/html": [
       "<div>\n",
       "<style scoped>\n",
       "    .dataframe tbody tr th:only-of-type {\n",
       "        vertical-align: middle;\n",
       "    }\n",
       "\n",
       "    .dataframe tbody tr th {\n",
       "        vertical-align: top;\n",
       "    }\n",
       "\n",
       "    .dataframe thead th {\n",
       "        text-align: right;\n",
       "    }\n",
       "</style>\n",
       "<table border=\"1\" class=\"dataframe\">\n",
       "  <thead>\n",
       "    <tr style=\"text-align: right;\">\n",
       "      <th></th>\n",
       "      <th>user_id</th>\n",
       "      <th>1</th>\n",
       "      <th>2</th>\n",
       "      <th>3</th>\n",
       "      <th>4</th>\n",
       "      <th>5</th>\n",
       "      <th>6</th>\n",
       "      <th>7</th>\n",
       "      <th>8</th>\n",
       "      <th>9</th>\n",
       "      <th>10</th>\n",
       "      <th>11</th>\n",
       "      <th>12</th>\n",
       "    </tr>\n",
       "  </thead>\n",
       "  <tbody>\n",
       "  </tbody>\n",
       "</table>\n",
       "</div>"
      ],
      "text/plain": [
       "Empty DataFrame\n",
       "Columns: [user_id, 1, 2, 3, 4, 5, 6, 7, 8, 9, 10, 11, 12]\n",
       "Index: []"
      ]
     },
     "execution_count": 23,
     "metadata": {},
     "output_type": "execute_result"
    }
   ],
   "source": [
    "# проверим результат\n",
    "all_p[all_p['user_id'] == 1128]"
   ]
  },
  {
   "cell_type": "code",
   "execution_count": 24,
   "metadata": {},
   "outputs": [
    {
     "data": {
      "text/plain": [
       "370   -2.0\n",
       "371   -2.0\n",
       "372   -2.0\n",
       "373   -2.0\n",
       "374   -2.0\n",
       "Name: user_id, dtype: float64"
      ]
     },
     "execution_count": 24,
     "metadata": {},
     "output_type": "execute_result"
    }
   ],
   "source": [
    "# найдем второй пропуск, он будет на 1 больше первого\n",
    "lost = users['user_id'] - all_p['user_id']\n",
    "lost[lost < -1].head()"
   ]
  },
  {
   "cell_type": "code",
   "execution_count": 25,
   "metadata": {},
   "outputs": [
    {
     "data": {
      "text/html": [
       "<div>\n",
       "<style scoped>\n",
       "    .dataframe tbody tr th:only-of-type {\n",
       "        vertical-align: middle;\n",
       "    }\n",
       "\n",
       "    .dataframe tbody tr th {\n",
       "        vertical-align: top;\n",
       "    }\n",
       "\n",
       "    .dataframe thead th {\n",
       "        text-align: right;\n",
       "    }\n",
       "</style>\n",
       "<table border=\"1\" class=\"dataframe\">\n",
       "  <thead>\n",
       "    <tr style=\"text-align: right;\">\n",
       "      <th></th>\n",
       "      <th>user_id</th>\n",
       "      <th>1</th>\n",
       "      <th>2</th>\n",
       "      <th>3</th>\n",
       "      <th>4</th>\n",
       "      <th>5</th>\n",
       "      <th>6</th>\n",
       "      <th>7</th>\n",
       "      <th>8</th>\n",
       "      <th>9</th>\n",
       "      <th>10</th>\n",
       "      <th>11</th>\n",
       "      <th>12</th>\n",
       "    </tr>\n",
       "  </thead>\n",
       "  <tbody>\n",
       "  </tbody>\n",
       "</table>\n",
       "</div>"
      ],
      "text/plain": [
       "Empty DataFrame\n",
       "Columns: [user_id, 1, 2, 3, 4, 5, 6, 7, 8, 9, 10, 11, 12]\n",
       "Index: []"
      ]
     },
     "execution_count": 25,
     "metadata": {},
     "output_type": "execute_result"
    }
   ],
   "source": [
    "# проверим результат\n",
    "all_p[all_p['user_id'] == 1371]"
   ]
  },
  {
   "cell_type": "markdown",
   "metadata": {},
   "source": [
    "Посмотрим на данные пользователей"
   ]
  },
  {
   "cell_type": "code",
   "execution_count": 26,
   "metadata": {},
   "outputs": [
    {
     "data": {
      "text/html": [
       "<div>\n",
       "<style scoped>\n",
       "    .dataframe tbody tr th:only-of-type {\n",
       "        vertical-align: middle;\n",
       "    }\n",
       "\n",
       "    .dataframe tbody tr th {\n",
       "        vertical-align: top;\n",
       "    }\n",
       "\n",
       "    .dataframe thead th {\n",
       "        text-align: right;\n",
       "    }\n",
       "</style>\n",
       "<table border=\"1\" class=\"dataframe\">\n",
       "  <thead>\n",
       "    <tr style=\"text-align: right;\">\n",
       "      <th></th>\n",
       "      <th>user_id</th>\n",
       "      <th>age</th>\n",
       "      <th>churn_date</th>\n",
       "      <th>city</th>\n",
       "      <th>first_name</th>\n",
       "      <th>last_name</th>\n",
       "      <th>reg_date</th>\n",
       "      <th>tariff</th>\n",
       "    </tr>\n",
       "  </thead>\n",
       "  <tbody>\n",
       "    <tr>\n",
       "      <td>128</td>\n",
       "      <td>1128</td>\n",
       "      <td>51</td>\n",
       "      <td>2018-12-23</td>\n",
       "      <td>Волжский</td>\n",
       "      <td>Ксения</td>\n",
       "      <td>Агаева</td>\n",
       "      <td>2018-12-15</td>\n",
       "      <td>ultra</td>\n",
       "    </tr>\n",
       "    <tr>\n",
       "      <td>371</td>\n",
       "      <td>1371</td>\n",
       "      <td>50</td>\n",
       "      <td>2018-12-30</td>\n",
       "      <td>Омск</td>\n",
       "      <td>Ириней</td>\n",
       "      <td>Трофимов</td>\n",
       "      <td>2018-12-25</td>\n",
       "      <td>smart</td>\n",
       "    </tr>\n",
       "  </tbody>\n",
       "</table>\n",
       "</div>"
      ],
      "text/plain": [
       "     user_id  age churn_date      city first_name last_name   reg_date tariff\n",
       "128     1128   51 2018-12-23  Волжский     Ксения    Агаева 2018-12-15  ultra\n",
       "371     1371   50 2018-12-30      Омск     Ириней  Трофимов 2018-12-25  smart"
      ]
     },
     "execution_count": 26,
     "metadata": {},
     "output_type": "execute_result"
    }
   ],
   "source": [
    "users.query('user_id.isin([1128, 1371])')"
   ]
  },
  {
   "cell_type": "markdown",
   "metadata": {},
   "source": [
    "Как мы видим они были зарегистрированны во второй половине декабря, и не успели воспользоватся тарифом до завершения года\n",
    "\n",
    "Вернем их в таблицу"
   ]
  },
  {
   "cell_type": "code",
   "execution_count": 27,
   "metadata": {},
   "outputs": [],
   "source": [
    "# создадим переменную с этими пользователями\n",
    "lost_users = pd.DataFrame(\n",
    "    [[1371, 0, 0, 0, 0, 0, 0, 0, 0, 0, 0, 0, 0], [1128, 0, 0, 0, 0, 0, 0, 0, 0, 0, 0, 0, 0]],\n",
    "    columns=['user_id', 1, 2, 3, 4, 5, 6, 7, 8, 9, 10, 11, 12])\n",
    "# добавим ее в таблицу\n",
    "all_p = all_p.append(lost_users).sort_values(by='user_id').reset_index(drop=True)"
   ]
  },
  {
   "cell_type": "markdown",
   "metadata": {},
   "source": [
    "Добавим в таблицу данные о тарифах, первом месяце использования тарифа и последнем"
   ]
  },
  {
   "cell_type": "code",
   "execution_count": 28,
   "metadata": {},
   "outputs": [
    {
     "data": {
      "text/html": [
       "<div>\n",
       "<style scoped>\n",
       "    .dataframe tbody tr th:only-of-type {\n",
       "        vertical-align: middle;\n",
       "    }\n",
       "\n",
       "    .dataframe tbody tr th {\n",
       "        vertical-align: top;\n",
       "    }\n",
       "\n",
       "    .dataframe thead th {\n",
       "        text-align: right;\n",
       "    }\n",
       "</style>\n",
       "<table border=\"1\" class=\"dataframe\">\n",
       "  <thead>\n",
       "    <tr style=\"text-align: right;\">\n",
       "      <th></th>\n",
       "      <th>user_id</th>\n",
       "      <th>1</th>\n",
       "      <th>2</th>\n",
       "      <th>3</th>\n",
       "      <th>4</th>\n",
       "      <th>5</th>\n",
       "      <th>6</th>\n",
       "      <th>7</th>\n",
       "      <th>8</th>\n",
       "      <th>9</th>\n",
       "      <th>10</th>\n",
       "      <th>11</th>\n",
       "      <th>12</th>\n",
       "      <th>tariff</th>\n",
       "      <th>first_month</th>\n",
       "      <th>last_month</th>\n",
       "    </tr>\n",
       "  </thead>\n",
       "  <tbody>\n",
       "    <tr>\n",
       "      <td>0</td>\n",
       "      <td>1000.0</td>\n",
       "      <td>0.0</td>\n",
       "      <td>0.00</td>\n",
       "      <td>0.00</td>\n",
       "      <td>0.0</td>\n",
       "      <td>0.0</td>\n",
       "      <td>0.00</td>\n",
       "      <td>0.00</td>\n",
       "      <td>0.0</td>\n",
       "      <td>0.0</td>\n",
       "      <td>0.0</td>\n",
       "      <td>0.00</td>\n",
       "      <td>0.00</td>\n",
       "      <td>ultra</td>\n",
       "      <td>5</td>\n",
       "      <td>0.0</td>\n",
       "    </tr>\n",
       "    <tr>\n",
       "      <td>1</td>\n",
       "      <td>1001.0</td>\n",
       "      <td>0.0</td>\n",
       "      <td>0.00</td>\n",
       "      <td>0.00</td>\n",
       "      <td>0.0</td>\n",
       "      <td>0.0</td>\n",
       "      <td>0.00</td>\n",
       "      <td>0.00</td>\n",
       "      <td>0.0</td>\n",
       "      <td>0.0</td>\n",
       "      <td>0.0</td>\n",
       "      <td>600.00</td>\n",
       "      <td>0.00</td>\n",
       "      <td>smart</td>\n",
       "      <td>11</td>\n",
       "      <td>0.0</td>\n",
       "    </tr>\n",
       "    <tr>\n",
       "      <td>2</td>\n",
       "      <td>1002.0</td>\n",
       "      <td>0.0</td>\n",
       "      <td>0.00</td>\n",
       "      <td>0.00</td>\n",
       "      <td>0.0</td>\n",
       "      <td>0.0</td>\n",
       "      <td>0.00</td>\n",
       "      <td>600.00</td>\n",
       "      <td>1000.0</td>\n",
       "      <td>400.0</td>\n",
       "      <td>0.0</td>\n",
       "      <td>800.00</td>\n",
       "      <td>600.00</td>\n",
       "      <td>smart</td>\n",
       "      <td>6</td>\n",
       "      <td>0.0</td>\n",
       "    </tr>\n",
       "    <tr>\n",
       "      <td>3</td>\n",
       "      <td>1003.0</td>\n",
       "      <td>0.0</td>\n",
       "      <td>0.00</td>\n",
       "      <td>0.00</td>\n",
       "      <td>0.0</td>\n",
       "      <td>0.0</td>\n",
       "      <td>0.00</td>\n",
       "      <td>0.00</td>\n",
       "      <td>0.0</td>\n",
       "      <td>0.0</td>\n",
       "      <td>0.0</td>\n",
       "      <td>0.00</td>\n",
       "      <td>0.00</td>\n",
       "      <td>ultra</td>\n",
       "      <td>8</td>\n",
       "      <td>0.0</td>\n",
       "    </tr>\n",
       "    <tr>\n",
       "      <td>4</td>\n",
       "      <td>1004.0</td>\n",
       "      <td>0.0</td>\n",
       "      <td>0.00</td>\n",
       "      <td>0.00</td>\n",
       "      <td>0.0</td>\n",
       "      <td>0.0</td>\n",
       "      <td>0.00</td>\n",
       "      <td>0.00</td>\n",
       "      <td>0.0</td>\n",
       "      <td>0.0</td>\n",
       "      <td>0.0</td>\n",
       "      <td>0.00</td>\n",
       "      <td>0.00</td>\n",
       "      <td>ultra</td>\n",
       "      <td>5</td>\n",
       "      <td>0.0</td>\n",
       "    </tr>\n",
       "    <tr>\n",
       "      <td>...</td>\n",
       "      <td>...</td>\n",
       "      <td>...</td>\n",
       "      <td>...</td>\n",
       "      <td>...</td>\n",
       "      <td>...</td>\n",
       "      <td>...</td>\n",
       "      <td>...</td>\n",
       "      <td>...</td>\n",
       "      <td>...</td>\n",
       "      <td>...</td>\n",
       "      <td>...</td>\n",
       "      <td>...</td>\n",
       "      <td>...</td>\n",
       "      <td>...</td>\n",
       "      <td>...</td>\n",
       "      <td>...</td>\n",
       "    </tr>\n",
       "    <tr>\n",
       "      <td>495</td>\n",
       "      <td>1495.0</td>\n",
       "      <td>0.0</td>\n",
       "      <td>0.00</td>\n",
       "      <td>0.00</td>\n",
       "      <td>0.0</td>\n",
       "      <td>0.0</td>\n",
       "      <td>0.00</td>\n",
       "      <td>0.00</td>\n",
       "      <td>0.0</td>\n",
       "      <td>450.0</td>\n",
       "      <td>0.0</td>\n",
       "      <td>1350.00</td>\n",
       "      <td>0.00</td>\n",
       "      <td>ultra</td>\n",
       "      <td>8</td>\n",
       "      <td>0.0</td>\n",
       "    </tr>\n",
       "    <tr>\n",
       "      <td>496</td>\n",
       "      <td>1496.0</td>\n",
       "      <td>0.0</td>\n",
       "      <td>2784.23</td>\n",
       "      <td>2065.85</td>\n",
       "      <td>1200.0</td>\n",
       "      <td>1800.0</td>\n",
       "      <td>1087.63</td>\n",
       "      <td>1950.18</td>\n",
       "      <td>1600.0</td>\n",
       "      <td>2400.0</td>\n",
       "      <td>2600.0</td>\n",
       "      <td>2399.66</td>\n",
       "      <td>1203.00</td>\n",
       "      <td>smart</td>\n",
       "      <td>1</td>\n",
       "      <td>0.0</td>\n",
       "    </tr>\n",
       "    <tr>\n",
       "      <td>497</td>\n",
       "      <td>1497.0</td>\n",
       "      <td>0.0</td>\n",
       "      <td>0.00</td>\n",
       "      <td>0.00</td>\n",
       "      <td>0.0</td>\n",
       "      <td>0.0</td>\n",
       "      <td>0.00</td>\n",
       "      <td>0.00</td>\n",
       "      <td>0.0</td>\n",
       "      <td>0.0</td>\n",
       "      <td>0.0</td>\n",
       "      <td>0.00</td>\n",
       "      <td>1045.99</td>\n",
       "      <td>smart</td>\n",
       "      <td>10</td>\n",
       "      <td>0.0</td>\n",
       "    </tr>\n",
       "    <tr>\n",
       "      <td>498</td>\n",
       "      <td>1498.0</td>\n",
       "      <td>0.0</td>\n",
       "      <td>0.00</td>\n",
       "      <td>0.00</td>\n",
       "      <td>0.0</td>\n",
       "      <td>0.0</td>\n",
       "      <td>0.00</td>\n",
       "      <td>0.00</td>\n",
       "      <td>1836.0</td>\n",
       "      <td>1400.0</td>\n",
       "      <td>1200.0</td>\n",
       "      <td>0.00</td>\n",
       "      <td>0.00</td>\n",
       "      <td>smart</td>\n",
       "      <td>7</td>\n",
       "      <td>10.0</td>\n",
       "    </tr>\n",
       "    <tr>\n",
       "      <td>499</td>\n",
       "      <td>1499.0</td>\n",
       "      <td>0.0</td>\n",
       "      <td>0.00</td>\n",
       "      <td>0.00</td>\n",
       "      <td>0.0</td>\n",
       "      <td>0.0</td>\n",
       "      <td>0.00</td>\n",
       "      <td>0.00</td>\n",
       "      <td>0.0</td>\n",
       "      <td>0.0</td>\n",
       "      <td>600.0</td>\n",
       "      <td>856.50</td>\n",
       "      <td>48.00</td>\n",
       "      <td>smart</td>\n",
       "      <td>9</td>\n",
       "      <td>0.0</td>\n",
       "    </tr>\n",
       "  </tbody>\n",
       "</table>\n",
       "<p>500 rows × 16 columns</p>\n",
       "</div>"
      ],
      "text/plain": [
       "     user_id    1        2        3       4       5        6        7       8  \\\n",
       "0     1000.0  0.0     0.00     0.00     0.0     0.0     0.00     0.00     0.0   \n",
       "1     1001.0  0.0     0.00     0.00     0.0     0.0     0.00     0.00     0.0   \n",
       "2     1002.0  0.0     0.00     0.00     0.0     0.0     0.00   600.00  1000.0   \n",
       "3     1003.0  0.0     0.00     0.00     0.0     0.0     0.00     0.00     0.0   \n",
       "4     1004.0  0.0     0.00     0.00     0.0     0.0     0.00     0.00     0.0   \n",
       "..       ...  ...      ...      ...     ...     ...      ...      ...     ...   \n",
       "495   1495.0  0.0     0.00     0.00     0.0     0.0     0.00     0.00     0.0   \n",
       "496   1496.0  0.0  2784.23  2065.85  1200.0  1800.0  1087.63  1950.18  1600.0   \n",
       "497   1497.0  0.0     0.00     0.00     0.0     0.0     0.00     0.00     0.0   \n",
       "498   1498.0  0.0     0.00     0.00     0.0     0.0     0.00     0.00  1836.0   \n",
       "499   1499.0  0.0     0.00     0.00     0.0     0.0     0.00     0.00     0.0   \n",
       "\n",
       "          9      10       11       12 tariff  first_month  last_month  \n",
       "0       0.0     0.0     0.00     0.00  ultra            5         0.0  \n",
       "1       0.0     0.0   600.00     0.00  smart           11         0.0  \n",
       "2     400.0     0.0   800.00   600.00  smart            6         0.0  \n",
       "3       0.0     0.0     0.00     0.00  ultra            8         0.0  \n",
       "4       0.0     0.0     0.00     0.00  ultra            5         0.0  \n",
       "..      ...     ...      ...      ...    ...          ...         ...  \n",
       "495   450.0     0.0  1350.00     0.00  ultra            8         0.0  \n",
       "496  2400.0  2600.0  2399.66  1203.00  smart            1         0.0  \n",
       "497     0.0     0.0     0.00  1045.99  smart           10         0.0  \n",
       "498  1400.0  1200.0     0.00     0.00  smart            7        10.0  \n",
       "499     0.0   600.0   856.50    48.00  smart            9         0.0  \n",
       "\n",
       "[500 rows x 16 columns]"
      ]
     },
     "execution_count": 28,
     "metadata": {},
     "output_type": "execute_result"
    }
   ],
   "source": [
    "all_p = all_p.merge(users[['user_id', 'tariff']], on='user_id', how='left')\n",
    "all_p['first_month'] = users['reg_date'].dt.month\n",
    "all_p['last_month'] = users['churn_date'].dt.month.fillna(0)\n",
    "all_p"
   ]
  },
  {
   "cell_type": "markdown",
   "metadata": {},
   "source": [
    "Добавим в таблицу фиксированные цены на тариф в соответствии со старотом и окончанием пользавания тарифом\n",
    "\n",
    "Для этого создадим функцию"
   ]
  },
  {
   "cell_type": "code",
   "execution_count": 29,
   "metadata": {},
   "outputs": [
    {
     "data": {
      "text/html": [
       "<div>\n",
       "<style scoped>\n",
       "    .dataframe tbody tr th:only-of-type {\n",
       "        vertical-align: middle;\n",
       "    }\n",
       "\n",
       "    .dataframe tbody tr th {\n",
       "        vertical-align: top;\n",
       "    }\n",
       "\n",
       "    .dataframe thead th {\n",
       "        text-align: right;\n",
       "    }\n",
       "</style>\n",
       "<table border=\"1\" class=\"dataframe\">\n",
       "  <thead>\n",
       "    <tr style=\"text-align: right;\">\n",
       "      <th></th>\n",
       "      <th>user_id</th>\n",
       "      <th>1</th>\n",
       "      <th>2</th>\n",
       "      <th>3</th>\n",
       "      <th>4</th>\n",
       "      <th>5</th>\n",
       "      <th>6</th>\n",
       "      <th>7</th>\n",
       "      <th>8</th>\n",
       "      <th>9</th>\n",
       "      <th>10</th>\n",
       "      <th>11</th>\n",
       "      <th>12</th>\n",
       "      <th>tariff</th>\n",
       "    </tr>\n",
       "  </thead>\n",
       "  <tbody>\n",
       "    <tr>\n",
       "      <td>0</td>\n",
       "      <td>1000.0</td>\n",
       "      <td>0.0</td>\n",
       "      <td>0.00</td>\n",
       "      <td>0.00</td>\n",
       "      <td>0.0</td>\n",
       "      <td>1950.0</td>\n",
       "      <td>1950.00</td>\n",
       "      <td>1950.00</td>\n",
       "      <td>1950.0</td>\n",
       "      <td>1950.0</td>\n",
       "      <td>1950.0</td>\n",
       "      <td>1950.00</td>\n",
       "      <td>1950.00</td>\n",
       "      <td>ultra</td>\n",
       "    </tr>\n",
       "    <tr>\n",
       "      <td>1</td>\n",
       "      <td>1001.0</td>\n",
       "      <td>0.0</td>\n",
       "      <td>0.00</td>\n",
       "      <td>0.00</td>\n",
       "      <td>0.0</td>\n",
       "      <td>0.0</td>\n",
       "      <td>0.00</td>\n",
       "      <td>0.00</td>\n",
       "      <td>0.0</td>\n",
       "      <td>0.0</td>\n",
       "      <td>0.0</td>\n",
       "      <td>1150.00</td>\n",
       "      <td>550.00</td>\n",
       "      <td>smart</td>\n",
       "    </tr>\n",
       "    <tr>\n",
       "      <td>2</td>\n",
       "      <td>1002.0</td>\n",
       "      <td>0.0</td>\n",
       "      <td>0.00</td>\n",
       "      <td>0.00</td>\n",
       "      <td>0.0</td>\n",
       "      <td>0.0</td>\n",
       "      <td>550.00</td>\n",
       "      <td>1150.00</td>\n",
       "      <td>1550.0</td>\n",
       "      <td>950.0</td>\n",
       "      <td>550.0</td>\n",
       "      <td>1350.00</td>\n",
       "      <td>1150.00</td>\n",
       "      <td>smart</td>\n",
       "    </tr>\n",
       "    <tr>\n",
       "      <td>3</td>\n",
       "      <td>1003.0</td>\n",
       "      <td>0.0</td>\n",
       "      <td>0.00</td>\n",
       "      <td>0.00</td>\n",
       "      <td>0.0</td>\n",
       "      <td>0.0</td>\n",
       "      <td>0.00</td>\n",
       "      <td>0.00</td>\n",
       "      <td>1950.0</td>\n",
       "      <td>1950.0</td>\n",
       "      <td>1950.0</td>\n",
       "      <td>1950.00</td>\n",
       "      <td>1950.00</td>\n",
       "      <td>ultra</td>\n",
       "    </tr>\n",
       "    <tr>\n",
       "      <td>4</td>\n",
       "      <td>1004.0</td>\n",
       "      <td>0.0</td>\n",
       "      <td>0.00</td>\n",
       "      <td>0.00</td>\n",
       "      <td>0.0</td>\n",
       "      <td>1950.0</td>\n",
       "      <td>1950.00</td>\n",
       "      <td>1950.00</td>\n",
       "      <td>1950.0</td>\n",
       "      <td>1950.0</td>\n",
       "      <td>1950.0</td>\n",
       "      <td>1950.00</td>\n",
       "      <td>1950.00</td>\n",
       "      <td>ultra</td>\n",
       "    </tr>\n",
       "    <tr>\n",
       "      <td>...</td>\n",
       "      <td>...</td>\n",
       "      <td>...</td>\n",
       "      <td>...</td>\n",
       "      <td>...</td>\n",
       "      <td>...</td>\n",
       "      <td>...</td>\n",
       "      <td>...</td>\n",
       "      <td>...</td>\n",
       "      <td>...</td>\n",
       "      <td>...</td>\n",
       "      <td>...</td>\n",
       "      <td>...</td>\n",
       "      <td>...</td>\n",
       "      <td>...</td>\n",
       "    </tr>\n",
       "    <tr>\n",
       "      <td>495</td>\n",
       "      <td>1495.0</td>\n",
       "      <td>0.0</td>\n",
       "      <td>0.00</td>\n",
       "      <td>0.00</td>\n",
       "      <td>0.0</td>\n",
       "      <td>0.0</td>\n",
       "      <td>0.00</td>\n",
       "      <td>0.00</td>\n",
       "      <td>1950.0</td>\n",
       "      <td>2400.0</td>\n",
       "      <td>1950.0</td>\n",
       "      <td>3300.00</td>\n",
       "      <td>1950.00</td>\n",
       "      <td>ultra</td>\n",
       "    </tr>\n",
       "    <tr>\n",
       "      <td>496</td>\n",
       "      <td>1496.0</td>\n",
       "      <td>550.0</td>\n",
       "      <td>3334.23</td>\n",
       "      <td>2615.85</td>\n",
       "      <td>1750.0</td>\n",
       "      <td>2350.0</td>\n",
       "      <td>1637.63</td>\n",
       "      <td>2500.18</td>\n",
       "      <td>2150.0</td>\n",
       "      <td>2950.0</td>\n",
       "      <td>3150.0</td>\n",
       "      <td>2949.66</td>\n",
       "      <td>1753.00</td>\n",
       "      <td>smart</td>\n",
       "    </tr>\n",
       "    <tr>\n",
       "      <td>497</td>\n",
       "      <td>1497.0</td>\n",
       "      <td>0.0</td>\n",
       "      <td>0.00</td>\n",
       "      <td>0.00</td>\n",
       "      <td>0.0</td>\n",
       "      <td>0.0</td>\n",
       "      <td>0.00</td>\n",
       "      <td>0.00</td>\n",
       "      <td>0.0</td>\n",
       "      <td>0.0</td>\n",
       "      <td>550.0</td>\n",
       "      <td>550.00</td>\n",
       "      <td>1595.99</td>\n",
       "      <td>smart</td>\n",
       "    </tr>\n",
       "    <tr>\n",
       "      <td>498</td>\n",
       "      <td>1498.0</td>\n",
       "      <td>0.0</td>\n",
       "      <td>0.00</td>\n",
       "      <td>0.00</td>\n",
       "      <td>0.0</td>\n",
       "      <td>0.0</td>\n",
       "      <td>0.00</td>\n",
       "      <td>550.00</td>\n",
       "      <td>2386.0</td>\n",
       "      <td>1950.0</td>\n",
       "      <td>1750.0</td>\n",
       "      <td>0.00</td>\n",
       "      <td>0.00</td>\n",
       "      <td>smart</td>\n",
       "    </tr>\n",
       "    <tr>\n",
       "      <td>499</td>\n",
       "      <td>1499.0</td>\n",
       "      <td>0.0</td>\n",
       "      <td>0.00</td>\n",
       "      <td>0.00</td>\n",
       "      <td>0.0</td>\n",
       "      <td>0.0</td>\n",
       "      <td>0.00</td>\n",
       "      <td>0.00</td>\n",
       "      <td>0.0</td>\n",
       "      <td>550.0</td>\n",
       "      <td>1150.0</td>\n",
       "      <td>1406.50</td>\n",
       "      <td>598.00</td>\n",
       "      <td>smart</td>\n",
       "    </tr>\n",
       "  </tbody>\n",
       "</table>\n",
       "<p>500 rows × 14 columns</p>\n",
       "</div>"
      ],
      "text/plain": [
       "     user_id      1        2        3       4       5        6        7  \\\n",
       "0     1000.0    0.0     0.00     0.00     0.0  1950.0  1950.00  1950.00   \n",
       "1     1001.0    0.0     0.00     0.00     0.0     0.0     0.00     0.00   \n",
       "2     1002.0    0.0     0.00     0.00     0.0     0.0   550.00  1150.00   \n",
       "3     1003.0    0.0     0.00     0.00     0.0     0.0     0.00     0.00   \n",
       "4     1004.0    0.0     0.00     0.00     0.0  1950.0  1950.00  1950.00   \n",
       "..       ...    ...      ...      ...     ...     ...      ...      ...   \n",
       "495   1495.0    0.0     0.00     0.00     0.0     0.0     0.00     0.00   \n",
       "496   1496.0  550.0  3334.23  2615.85  1750.0  2350.0  1637.63  2500.18   \n",
       "497   1497.0    0.0     0.00     0.00     0.0     0.0     0.00     0.00   \n",
       "498   1498.0    0.0     0.00     0.00     0.0     0.0     0.00   550.00   \n",
       "499   1499.0    0.0     0.00     0.00     0.0     0.0     0.00     0.00   \n",
       "\n",
       "          8       9      10       11       12 tariff  \n",
       "0    1950.0  1950.0  1950.0  1950.00  1950.00  ultra  \n",
       "1       0.0     0.0     0.0  1150.00   550.00  smart  \n",
       "2    1550.0   950.0   550.0  1350.00  1150.00  smart  \n",
       "3    1950.0  1950.0  1950.0  1950.00  1950.00  ultra  \n",
       "4    1950.0  1950.0  1950.0  1950.00  1950.00  ultra  \n",
       "..      ...     ...     ...      ...      ...    ...  \n",
       "495  1950.0  2400.0  1950.0  3300.00  1950.00  ultra  \n",
       "496  2150.0  2950.0  3150.0  2949.66  1753.00  smart  \n",
       "497     0.0     0.0   550.0   550.00  1595.99  smart  \n",
       "498  2386.0  1950.0  1750.0     0.00     0.00  smart  \n",
       "499     0.0   550.0  1150.0  1406.50   598.00  smart  \n",
       "\n",
       "[500 rows x 14 columns]"
      ]
     },
     "execution_count": 29,
     "metadata": {},
     "output_type": "execute_result"
    }
   ],
   "source": [
    "def fix_p(row):\n",
    "    \n",
    "    n = row['first_month'] # первый месяц пользования\n",
    "    m = int(row['last_month']) # последний месяц пользования\n",
    "    t0 = tariffs.loc[0, 'rub_monthly_fee'] # цена за тариф smart\n",
    "    t1 = tariffs.loc[1, 'rub_monthly_fee'] # цена за тариф ultra\n",
    "    \n",
    "    if 'smart' in row['tariff']:\n",
    "        if row['last_month'] > 0:\n",
    "            row.iloc[n:m + 1] = row.iloc[n:m + 1] + tariffs.loc[0, 'rub_monthly_fee']\n",
    "        \n",
    "        else:\n",
    "            row.iloc[n:13] = row.iloc[n:13] + tariffs.loc[0, 'rub_monthly_fee']\n",
    "        \n",
    "    else:\n",
    "        if row['last_month'] > 0:\n",
    "            row.iloc[n:m + 1] = row.iloc[n:m + 1] + tariffs.loc[1, 'rub_monthly_fee']\n",
    "            \n",
    "        else:\n",
    "            row.iloc[n:13] = row.iloc[n:13] + tariffs.loc[1, 'rub_monthly_fee']\n",
    "        \n",
    "    return row.iloc[:14]\n",
    "            \n",
    "all_p = all_p.apply(fix_p, axis=1)\n",
    "all_p"
   ]
  },
  {
   "cell_type": "markdown",
   "metadata": {},
   "source": [
    "### Вывод"
   ]
  },
  {
   "cell_type": "markdown",
   "metadata": {},
   "source": [
    "Мы рассчитали и добавили данные о звонках, сообщениях и трафике пользователей за месяц. А так же мы нашли помесяную выручку\n",
    "с каждого пользователя и готовы к дальнейшему анализу."
   ]
  },
  {
   "cell_type": "markdown",
   "metadata": {},
   "source": [
    "## Анализ данных"
   ]
  },
  {
   "cell_type": "markdown",
   "metadata": {},
   "source": [
    "### Анализ звонков"
   ]
  },
  {
   "cell_type": "markdown",
   "metadata": {},
   "source": [
    "Разделим данные по тарифам"
   ]
  },
  {
   "cell_type": "code",
   "execution_count": 30,
   "metadata": {},
   "outputs": [],
   "source": [
    "calls_sum_u = calls_sum[calls_sum['tariff'] == 'ultra']\n",
    "calls_sum_s = calls_sum[calls_sum['tariff'] == 'smart']"
   ]
  },
  {
   "cell_type": "markdown",
   "metadata": {},
   "source": [
    "Найдем среднее, дисперсию и среднее отклонения для звонков тарифа smart"
   ]
  },
  {
   "cell_type": "code",
   "execution_count": 31,
   "metadata": {},
   "outputs": [
    {
     "data": {
      "text/html": [
       "<div>\n",
       "<style scoped>\n",
       "    .dataframe tbody tr th:only-of-type {\n",
       "        vertical-align: middle;\n",
       "    }\n",
       "\n",
       "    .dataframe tbody tr th {\n",
       "        vertical-align: top;\n",
       "    }\n",
       "\n",
       "    .dataframe thead th {\n",
       "        text-align: right;\n",
       "    }\n",
       "</style>\n",
       "<table border=\"1\" class=\"dataframe\">\n",
       "  <thead>\n",
       "    <tr style=\"text-align: right;\">\n",
       "      <th></th>\n",
       "      <th>1</th>\n",
       "      <th>2</th>\n",
       "      <th>3</th>\n",
       "      <th>4</th>\n",
       "      <th>5</th>\n",
       "      <th>6</th>\n",
       "      <th>7</th>\n",
       "      <th>8</th>\n",
       "      <th>9</th>\n",
       "      <th>10</th>\n",
       "      <th>11</th>\n",
       "      <th>12</th>\n",
       "    </tr>\n",
       "  </thead>\n",
       "  <tbody>\n",
       "    <tr>\n",
       "      <td>mean</td>\n",
       "      <td>193.042353</td>\n",
       "      <td>282.963448</td>\n",
       "      <td>367.877143</td>\n",
       "      <td>346.222589</td>\n",
       "      <td>365.214752</td>\n",
       "      <td>375.481595</td>\n",
       "      <td>385.498557</td>\n",
       "      <td>399.592179</td>\n",
       "      <td>406.081081</td>\n",
       "      <td>403.646416</td>\n",
       "      <td>411.889810</td>\n",
       "      <td>453.041071</td>\n",
       "    </tr>\n",
       "    <tr>\n",
       "      <td>var</td>\n",
       "      <td>21411.983376</td>\n",
       "      <td>32753.398595</td>\n",
       "      <td>32955.915700</td>\n",
       "      <td>31012.354057</td>\n",
       "      <td>31167.541667</td>\n",
       "      <td>26750.531795</td>\n",
       "      <td>28815.241893</td>\n",
       "      <td>30582.229370</td>\n",
       "      <td>29506.406953</td>\n",
       "      <td>31231.379157</td>\n",
       "      <td>27803.086773</td>\n",
       "      <td>35012.349414</td>\n",
       "    </tr>\n",
       "    <tr>\n",
       "      <td>std</td>\n",
       "      <td>146.328341</td>\n",
       "      <td>180.979000</td>\n",
       "      <td>181.537643</td>\n",
       "      <td>176.103248</td>\n",
       "      <td>176.543314</td>\n",
       "      <td>163.555898</td>\n",
       "      <td>169.750528</td>\n",
       "      <td>174.877756</td>\n",
       "      <td>171.774291</td>\n",
       "      <td>176.724020</td>\n",
       "      <td>166.742576</td>\n",
       "      <td>187.115872</td>\n",
       "    </tr>\n",
       "  </tbody>\n",
       "</table>\n",
       "</div>"
      ],
      "text/plain": [
       "                1             2             3             4             5   \\\n",
       "mean    193.042353    282.963448    367.877143    346.222589    365.214752   \n",
       "var   21411.983376  32753.398595  32955.915700  31012.354057  31167.541667   \n",
       "std     146.328341    180.979000    181.537643    176.103248    176.543314   \n",
       "\n",
       "                6             7             8             9             10  \\\n",
       "mean    375.481595    385.498557    399.592179    406.081081    403.646416   \n",
       "var   26750.531795  28815.241893  30582.229370  29506.406953  31231.379157   \n",
       "std     163.555898    169.750528    174.877756    171.774291    176.724020   \n",
       "\n",
       "                11            12  \n",
       "mean    411.889810    453.041071  \n",
       "var   27803.086773  35012.349414  \n",
       "std     166.742576    187.115872  "
      ]
     },
     "execution_count": 31,
     "metadata": {},
     "output_type": "execute_result"
    }
   ],
   "source": [
    "calls_desc_s = calls_sum_s.agg([np.mean, np.var, np.std])\n",
    "calls_desc_s.drop('user_id', axis=1, inplace=True)\n",
    "calls_desc_s"
   ]
  },
  {
   "cell_type": "markdown",
   "metadata": {},
   "source": [
    "Найдем среднее, дисперсию и среднее отклонения для звонков тарифа ultra"
   ]
  },
  {
   "cell_type": "code",
   "execution_count": 32,
   "metadata": {},
   "outputs": [
    {
     "data": {
      "text/html": [
       "<div>\n",
       "<style scoped>\n",
       "    .dataframe tbody tr th:only-of-type {\n",
       "        vertical-align: middle;\n",
       "    }\n",
       "\n",
       "    .dataframe tbody tr th {\n",
       "        vertical-align: top;\n",
       "    }\n",
       "\n",
       "    .dataframe thead th {\n",
       "        text-align: right;\n",
       "    }\n",
       "</style>\n",
       "<table border=\"1\" class=\"dataframe\">\n",
       "  <thead>\n",
       "    <tr style=\"text-align: right;\">\n",
       "      <th></th>\n",
       "      <th>1</th>\n",
       "      <th>2</th>\n",
       "      <th>3</th>\n",
       "      <th>4</th>\n",
       "      <th>5</th>\n",
       "      <th>6</th>\n",
       "      <th>7</th>\n",
       "      <th>8</th>\n",
       "      <th>9</th>\n",
       "      <th>10</th>\n",
       "      <th>11</th>\n",
       "      <th>12</th>\n",
       "    </tr>\n",
       "  </thead>\n",
       "  <tbody>\n",
       "    <tr>\n",
       "      <td>mean</td>\n",
       "      <td>404.777778</td>\n",
       "      <td>280.570833</td>\n",
       "      <td>462.359730</td>\n",
       "      <td>448.188491</td>\n",
       "      <td>504.304531</td>\n",
       "      <td>469.706296</td>\n",
       "      <td>532.818409</td>\n",
       "      <td>500.651068</td>\n",
       "      <td>527.460901</td>\n",
       "      <td>549.152373</td>\n",
       "      <td>530.704961</td>\n",
       "      <td>580.510000</td>\n",
       "    </tr>\n",
       "    <tr>\n",
       "      <td>var</td>\n",
       "      <td>64833.398744</td>\n",
       "      <td>78926.165860</td>\n",
       "      <td>99656.837903</td>\n",
       "      <td>59035.591921</td>\n",
       "      <td>66775.875009</td>\n",
       "      <td>77182.266026</td>\n",
       "      <td>77607.175301</td>\n",
       "      <td>81142.963888</td>\n",
       "      <td>87736.754839</td>\n",
       "      <td>86573.948049</td>\n",
       "      <td>78912.012399</td>\n",
       "      <td>96003.135186</td>\n",
       "    </tr>\n",
       "    <tr>\n",
       "      <td>std</td>\n",
       "      <td>254.624034</td>\n",
       "      <td>280.938011</td>\n",
       "      <td>315.684713</td>\n",
       "      <td>242.972410</td>\n",
       "      <td>258.410284</td>\n",
       "      <td>277.816965</td>\n",
       "      <td>278.580644</td>\n",
       "      <td>284.856041</td>\n",
       "      <td>296.203908</td>\n",
       "      <td>294.234512</td>\n",
       "      <td>280.912820</td>\n",
       "      <td>309.843727</td>\n",
       "    </tr>\n",
       "  </tbody>\n",
       "</table>\n",
       "</div>"
      ],
      "text/plain": [
       "                1             2             3             4             5   \\\n",
       "mean    404.777778    280.570833    462.359730    448.188491    504.304531   \n",
       "var   64833.398744  78926.165860  99656.837903  59035.591921  66775.875009   \n",
       "std     254.624034    280.938011    315.684713    242.972410    258.410284   \n",
       "\n",
       "                6             7             8             9             10  \\\n",
       "mean    469.706296    532.818409    500.651068    527.460901    549.152373   \n",
       "var   77182.266026  77607.175301  81142.963888  87736.754839  86573.948049   \n",
       "std     277.816965    278.580644    284.856041    296.203908    294.234512   \n",
       "\n",
       "                11            12  \n",
       "mean    530.704961    580.510000  \n",
       "var   78912.012399  96003.135186  \n",
       "std     280.912820    309.843727  "
      ]
     },
     "execution_count": 32,
     "metadata": {},
     "output_type": "execute_result"
    }
   ],
   "source": [
    "calls_desc_u = calls_sum_u.agg([np.mean, np.var, np.std])\n",
    "calls_desc_u.drop('user_id', axis=1, inplace=True)\n",
    "calls_desc_u"
   ]
  },
  {
   "cell_type": "markdown",
   "metadata": {},
   "source": [
    "Из данных видно, что разница в между тарифами примерно 100 минут, при том что в тарифе smart среднее приближается к лимиту,\n",
    "в тарифе ultra до него еще почти 2,5 тысячи минут. Стандартное отклонение больше в ultra, это сигнализирует о большем разбросе данных, что лигично при большом запасе минут в этом тарифе. Все это говорит нам о том, что пользователям обоих тарифов в среднем хватает 500-600 минут, но есть часть пользователей которым требуется гораздо больше минут, особенно в тарифе ultra."
   ]
  },
  {
   "cell_type": "markdown",
   "metadata": {},
   "source": [
    "Построим гистограмы по месяцам для каждого тарифа"
   ]
  },
  {
   "cell_type": "code",
   "execution_count": 33,
   "metadata": {},
   "outputs": [
    {
     "data": {
      "image/png": "[encoded data removed]",
      "text/plain": [
       "<Figure size 1728x1080 with 12 Axes>"
      ]
     },
     "metadata": {
      "needs_background": "light"
     },
     "output_type": "display_data"
    }
   ],
   "source": [
    "def subplot_hist(data, title, xlabel='x', ylabel='y'):\n",
    "    plt.figure(figsize=(24, 15))\n",
    "    \n",
    "    for i in range(1, 13):\n",
    "        plt.subplot(3,4,i)\n",
    "        plt.hist(data[i])\n",
    "        plt.title(i)\n",
    "        plt.xlabel(xlabel)\n",
    "        plt.ylabel(ylabel)\n",
    "        \n",
    "    plt.suptitle(title)\n",
    "subplot_hist(calls_sum_s, title='smart', xlabel='мин', ylabel='частота')"
   ]
  },
  {
   "cell_type": "code",
   "execution_count": 34,
   "metadata": {},
   "outputs": [
    {
     "data": {
      "image/png": "[encoded data removed]",
      "text/plain": [
       "<Figure size 1728x1080 with 12 Axes>"
      ]
     },
     "metadata": {
      "needs_background": "light"
     },
     "output_type": "display_data"
    }
   ],
   "source": [
    "subplot_hist(calls_sum_u, title='ultra', xlabel='мин', ylabel='частота')"
   ]
  },
  {
   "cell_type": "code",
   "execution_count": 35,
   "metadata": {
    "scrolled": true
   },
   "outputs": [
    {
     "data": {
      "text/plain": [
       "array([[<matplotlib.axes._subplots.AxesSubplot object at 0x7f06b9315110>,\n",
       "        <matplotlib.axes._subplots.AxesSubplot object at 0x7f06b92a20d0>,\n",
       "        <matplotlib.axes._subplots.AxesSubplot object at 0x7f06b921ffd0>,\n",
       "        <matplotlib.axes._subplots.AxesSubplot object at 0x7f06b91d2c90>],\n",
       "       [<matplotlib.axes._subplots.AxesSubplot object at 0x7f06b91914d0>,\n",
       "        <matplotlib.axes._subplots.AxesSubplot object at 0x7f06b91c5cd0>,\n",
       "        <matplotlib.axes._subplots.AxesSubplot object at 0x7f06b9388290>,\n",
       "        <matplotlib.axes._subplots.AxesSubplot object at 0x7f06b9531290>],\n",
       "       [<matplotlib.axes._subplots.AxesSubplot object at 0x7f06b934fa50>,\n",
       "        <matplotlib.axes._subplots.AxesSubplot object at 0x7f06b9729a90>,\n",
       "        <matplotlib.axes._subplots.AxesSubplot object at 0x7f06b9591950>,\n",
       "        <matplotlib.axes._subplots.AxesSubplot object at 0x7f06b9674890>],\n",
       "       [<matplotlib.axes._subplots.AxesSubplot object at 0x7f06b92640d0>,\n",
       "        <matplotlib.axes._subplots.AxesSubplot object at 0x7f06b97cd5d0>,\n",
       "        <matplotlib.axes._subplots.AxesSubplot object at 0x7f06b93c6350>,\n",
       "        <matplotlib.axes._subplots.AxesSubplot object at 0x7f06c1d8e690>]],\n",
       "      dtype=object)"
      ]
     },
     "execution_count": 35,
     "metadata": {},
     "output_type": "execute_result"
    },
    {
     "data": {
      "image/png": "[encoded data removed]",
      "text/plain": [
       "<Figure size 1008x576 with 16 Axes>"
      ]
     },
     "metadata": {
      "needs_background": "light"
     },
     "output_type": "display_data"
    }
   ],
   "source": [
    "calls_sum_s.hist(figsize=(14,8))"
   ]
  },
  {
   "cell_type": "markdown",
   "metadata": {},
   "source": [
    "На гистограммах видны провалы в превом полугодии, но с увеличением кол-ва клиентов гистограммы приобретают более нормальное распределение, особенно это заметно на гистограммах smart. Так же с увеличением клиентов, увеличиваются максимальные значения потраченных минут в обоих тарифах. При этом в тарифе smart к декабрю почти половина пользователей превышает лимит минут, а в ultra ни один пользователь за все время не привысил тарифа."
   ]
  },
  {
   "cell_type": "markdown",
   "metadata": {},
   "source": [
    "### Анализ трафика"
   ]
  },
  {
   "cell_type": "markdown",
   "metadata": {},
   "source": [
    "Разделим данные по тарифам"
   ]
  },
  {
   "cell_type": "code",
   "execution_count": 36,
   "metadata": {},
   "outputs": [],
   "source": [
    "internet_sum_u = internet_sum[internet_sum['tariff'] == 'ultra']\n",
    "internet_sum_s = internet_sum[internet_sum['tariff'] == 'smart']"
   ]
  },
  {
   "cell_type": "markdown",
   "metadata": {},
   "source": [
    "Найдем среднее, дисперсию и среднее отклонения для интернета тарифа smart"
   ]
  },
  {
   "cell_type": "code",
   "execution_count": 37,
   "metadata": {},
   "outputs": [
    {
     "data": {
      "text/html": [
       "<div>\n",
       "<style scoped>\n",
       "    .dataframe tbody tr th:only-of-type {\n",
       "        vertical-align: middle;\n",
       "    }\n",
       "\n",
       "    .dataframe tbody tr th {\n",
       "        vertical-align: top;\n",
       "    }\n",
       "\n",
       "    .dataframe thead th {\n",
       "        text-align: right;\n",
       "    }\n",
       "</style>\n",
       "<table border=\"1\" class=\"dataframe\">\n",
       "  <thead>\n",
       "    <tr style=\"text-align: right;\">\n",
       "      <th></th>\n",
       "      <th>1</th>\n",
       "      <th>2</th>\n",
       "      <th>3</th>\n",
       "      <th>4</th>\n",
       "      <th>5</th>\n",
       "      <th>6</th>\n",
       "      <th>7</th>\n",
       "      <th>8</th>\n",
       "      <th>9</th>\n",
       "      <th>10</th>\n",
       "      <th>11</th>\n",
       "      <th>12</th>\n",
       "    </tr>\n",
       "  </thead>\n",
       "  <tbody>\n",
       "    <tr>\n",
       "      <td>mean</td>\n",
       "      <td>8.735294</td>\n",
       "      <td>11.844828</td>\n",
       "      <td>15.233766</td>\n",
       "      <td>13.62500</td>\n",
       "      <td>15.907801</td>\n",
       "      <td>15.951220</td>\n",
       "      <td>15.875622</td>\n",
       "      <td>16.807692</td>\n",
       "      <td>16.392308</td>\n",
       "      <td>16.880952</td>\n",
       "      <td>17.000000</td>\n",
       "      <td>18.201780</td>\n",
       "    </tr>\n",
       "    <tr>\n",
       "      <td>var</td>\n",
       "      <td>39.412656</td>\n",
       "      <td>37.150938</td>\n",
       "      <td>32.549897</td>\n",
       "      <td>31.29955</td>\n",
       "      <td>34.370010</td>\n",
       "      <td>31.911716</td>\n",
       "      <td>33.419453</td>\n",
       "      <td>28.962859</td>\n",
       "      <td>25.884110</td>\n",
       "      <td>32.897042</td>\n",
       "      <td>27.180952</td>\n",
       "      <td>29.786544</td>\n",
       "    </tr>\n",
       "    <tr>\n",
       "      <td>std</td>\n",
       "      <td>6.277950</td>\n",
       "      <td>6.095157</td>\n",
       "      <td>5.705252</td>\n",
       "      <td>5.59460</td>\n",
       "      <td>5.862594</td>\n",
       "      <td>5.649046</td>\n",
       "      <td>5.780956</td>\n",
       "      <td>5.381715</td>\n",
       "      <td>5.087643</td>\n",
       "      <td>5.735594</td>\n",
       "      <td>5.213535</td>\n",
       "      <td>5.457705</td>\n",
       "    </tr>\n",
       "  </tbody>\n",
       "</table>\n",
       "</div>"
      ],
      "text/plain": [
       "             1          2          3         4          5          6   \\\n",
       "mean   8.735294  11.844828  15.233766  13.62500  15.907801  15.951220   \n",
       "var   39.412656  37.150938  32.549897  31.29955  34.370010  31.911716   \n",
       "std    6.277950   6.095157   5.705252   5.59460   5.862594   5.649046   \n",
       "\n",
       "             7          8          9          10         11         12  \n",
       "mean  15.875622  16.807692  16.392308  16.880952  17.000000  18.201780  \n",
       "var   33.419453  28.962859  25.884110  32.897042  27.180952  29.786544  \n",
       "std    5.780956   5.381715   5.087643   5.735594   5.213535   5.457705  "
      ]
     },
     "execution_count": 37,
     "metadata": {},
     "output_type": "execute_result"
    }
   ],
   "source": [
    "internet_decs_s = internet_sum_s.agg([np.mean, np.var, np.std])\n",
    "internet_decs_s.drop('user_id', axis=1, inplace=True)\n",
    "internet_decs_s"
   ]
  },
  {
   "cell_type": "markdown",
   "metadata": {},
   "source": [
    "Найдем среднее, дисперсию и среднее отклонения для интернета тарифа ultra"
   ]
  },
  {
   "cell_type": "code",
   "execution_count": 38,
   "metadata": {},
   "outputs": [
    {
     "data": {
      "text/html": [
       "<div>\n",
       "<style scoped>\n",
       "    .dataframe tbody tr th:only-of-type {\n",
       "        vertical-align: middle;\n",
       "    }\n",
       "\n",
       "    .dataframe tbody tr th {\n",
       "        vertical-align: top;\n",
       "    }\n",
       "\n",
       "    .dataframe thead th {\n",
       "        text-align: right;\n",
       "    }\n",
       "</style>\n",
       "<table border=\"1\" class=\"dataframe\">\n",
       "  <thead>\n",
       "    <tr style=\"text-align: right;\">\n",
       "      <th></th>\n",
       "      <th>1</th>\n",
       "      <th>2</th>\n",
       "      <th>3</th>\n",
       "      <th>4</th>\n",
       "      <th>5</th>\n",
       "      <th>6</th>\n",
       "      <th>7</th>\n",
       "      <th>8</th>\n",
       "      <th>9</th>\n",
       "      <th>10</th>\n",
       "      <th>11</th>\n",
       "      <th>12</th>\n",
       "    </tr>\n",
       "  </thead>\n",
       "  <tbody>\n",
       "    <tr>\n",
       "      <td>mean</td>\n",
       "      <td>13.222222</td>\n",
       "      <td>13.090909</td>\n",
       "      <td>17.648649</td>\n",
       "      <td>16.963636</td>\n",
       "      <td>19.666667</td>\n",
       "      <td>19.168675</td>\n",
       "      <td>20.733333</td>\n",
       "      <td>19.783019</td>\n",
       "      <td>19.412281</td>\n",
       "      <td>20.229508</td>\n",
       "      <td>19.954887</td>\n",
       "      <td>21.898551</td>\n",
       "    </tr>\n",
       "    <tr>\n",
       "      <td>var</td>\n",
       "      <td>44.444444</td>\n",
       "      <td>104.562771</td>\n",
       "      <td>114.345345</td>\n",
       "      <td>89.443098</td>\n",
       "      <td>91.241026</td>\n",
       "      <td>78.971202</td>\n",
       "      <td>92.737079</td>\n",
       "      <td>102.457233</td>\n",
       "      <td>83.713476</td>\n",
       "      <td>88.657634</td>\n",
       "      <td>91.513101</td>\n",
       "      <td>100.515180</td>\n",
       "    </tr>\n",
       "    <tr>\n",
       "      <td>std</td>\n",
       "      <td>6.666667</td>\n",
       "      <td>10.225594</td>\n",
       "      <td>10.693238</td>\n",
       "      <td>9.457436</td>\n",
       "      <td>9.552017</td>\n",
       "      <td>8.886574</td>\n",
       "      <td>9.630009</td>\n",
       "      <td>10.122116</td>\n",
       "      <td>9.149507</td>\n",
       "      <td>9.415818</td>\n",
       "      <td>9.566248</td>\n",
       "      <td>10.025726</td>\n",
       "    </tr>\n",
       "  </tbody>\n",
       "</table>\n",
       "</div>"
      ],
      "text/plain": [
       "             1           2           3          4          5          6   \\\n",
       "mean  13.222222   13.090909   17.648649  16.963636  19.666667  19.168675   \n",
       "var   44.444444  104.562771  114.345345  89.443098  91.241026  78.971202   \n",
       "std    6.666667   10.225594   10.693238   9.457436   9.552017   8.886574   \n",
       "\n",
       "             7           8          9          10         11          12  \n",
       "mean  20.733333   19.783019  19.412281  20.229508  19.954887   21.898551  \n",
       "var   92.737079  102.457233  83.713476  88.657634  91.513101  100.515180  \n",
       "std    9.630009   10.122116   9.149507   9.415818   9.566248   10.025726  "
      ]
     },
     "execution_count": 38,
     "metadata": {},
     "output_type": "execute_result"
    }
   ],
   "source": [
    "internet_decs_u = internet_sum_u.agg([np.mean, np.var, np.std])\n",
    "internet_decs_u.drop('user_id', axis=1, inplace=True)\n",
    "internet_decs_u"
   ]
  },
  {
   "cell_type": "markdown",
   "metadata": {},
   "source": [
    "С трафиком таже история что и со звонками. Пользователи обоих тарифоф используют в среднем около 20 гб, это означает что пользователи тарифа smart часто привышают фиксированный трафик, а пользователи ultra в основном остаются в пределах фиксированого значения. Стандартное отклонение так же больше в тарифе ultra, что указывает на больший разброс данных."
   ]
  },
  {
   "cell_type": "markdown",
   "metadata": {},
   "source": [
    "Построим гистограмы по месяцам для каждого тарифа"
   ]
  },
  {
   "cell_type": "code",
   "execution_count": 39,
   "metadata": {},
   "outputs": [
    {
     "data": {
      "image/png": "[encoded data removed]",
      "text/plain": [
       "<Figure size 1728x1080 with 12 Axes>"
      ]
     },
     "metadata": {
      "needs_background": "light"
     },
     "output_type": "display_data"
    }
   ],
   "source": [
    "subplot_hist(internet_sum_s, title='smart', xlabel='гб', ylabel='частота')"
   ]
  },
  {
   "cell_type": "code",
   "execution_count": 40,
   "metadata": {},
   "outputs": [
    {
     "data": {
      "image/png": "[encoded data removed]",
      "text/plain": [
       "<Figure size 1728x1080 with 12 Axes>"
      ]
     },
     "metadata": {
      "needs_background": "light"
     },
     "output_type": "display_data"
    }
   ],
   "source": [
    "subplot_hist(internet_sum_u, title='ultra', xlabel='гб', ylabel='частота')"
   ]
  },
  {
   "cell_type": "markdown",
   "metadata": {},
   "source": [
    "По гистограммам тарифа smart можно сказать, что большинсво позьзователей тарифа превышают трафик, это очень выгодно компании т.к. стоимость доп.трафика давольно существенная, а на гистограммах со временем положительная тенденция к росту дополнительного трафика. В гистограммах тарифа ultra такой тенденции нет, но появились клиенты превышающие фиксированный трафик. Распределение в гистограммах smart стремится к нормальному, в то время как в ultra остаются выбросы, которые скорее всего вызваны более сильным разбросом данных."
   ]
  },
  {
   "cell_type": "markdown",
   "metadata": {},
   "source": [
    "### Анализ сообщений"
   ]
  },
  {
   "cell_type": "markdown",
   "metadata": {},
   "source": [
    "Разделим данные по тарифам"
   ]
  },
  {
   "cell_type": "code",
   "execution_count": 41,
   "metadata": {},
   "outputs": [],
   "source": [
    "messages_sum_u = messages_count[messages_count['tariff'] == 'ultra']\n",
    "messages_sum_s = messages_count[messages_count['tariff'] == 'smart']"
   ]
  },
  {
   "cell_type": "markdown",
   "metadata": {},
   "source": [
    "Найдем среднее, дисперсию и среднее отклонения для сообщений тарифа smart"
   ]
  },
  {
   "cell_type": "code",
   "execution_count": 42,
   "metadata": {},
   "outputs": [
    {
     "data": {
      "text/html": [
       "<div>\n",
       "<style scoped>\n",
       "    .dataframe tbody tr th:only-of-type {\n",
       "        vertical-align: middle;\n",
       "    }\n",
       "\n",
       "    .dataframe tbody tr th {\n",
       "        vertical-align: top;\n",
       "    }\n",
       "\n",
       "    .dataframe thead th {\n",
       "        text-align: right;\n",
       "    }\n",
       "</style>\n",
       "<table border=\"1\" class=\"dataframe\">\n",
       "  <thead>\n",
       "    <tr style=\"text-align: right;\">\n",
       "      <th></th>\n",
       "      <th>1</th>\n",
       "      <th>2</th>\n",
       "      <th>3</th>\n",
       "      <th>4</th>\n",
       "      <th>5</th>\n",
       "      <th>6</th>\n",
       "      <th>7</th>\n",
       "      <th>8</th>\n",
       "      <th>9</th>\n",
       "      <th>10</th>\n",
       "      <th>11</th>\n",
       "      <th>12</th>\n",
       "    </tr>\n",
       "  </thead>\n",
       "  <tbody>\n",
       "    <tr>\n",
       "      <td>mean</td>\n",
       "      <td>20.000000</td>\n",
       "      <td>27.940000</td>\n",
       "      <td>35.550725</td>\n",
       "      <td>35.864583</td>\n",
       "      <td>39.032787</td>\n",
       "      <td>38.577465</td>\n",
       "      <td>38.988506</td>\n",
       "      <td>38.750000</td>\n",
       "      <td>39.219731</td>\n",
       "      <td>39.082677</td>\n",
       "      <td>39.881481</td>\n",
       "      <td>42.264808</td>\n",
       "    </tr>\n",
       "    <tr>\n",
       "      <td>var</td>\n",
       "      <td>252.133333</td>\n",
       "      <td>440.465714</td>\n",
       "      <td>669.780477</td>\n",
       "      <td>517.865680</td>\n",
       "      <td>638.775776</td>\n",
       "      <td>731.635801</td>\n",
       "      <td>719.352468</td>\n",
       "      <td>767.213054</td>\n",
       "      <td>702.505555</td>\n",
       "      <td>736.503019</td>\n",
       "      <td>711.361366</td>\n",
       "      <td>832.447114</td>\n",
       "    </tr>\n",
       "    <tr>\n",
       "      <td>std</td>\n",
       "      <td>15.878707</td>\n",
       "      <td>20.987275</td>\n",
       "      <td>25.880117</td>\n",
       "      <td>22.756662</td>\n",
       "      <td>25.274014</td>\n",
       "      <td>27.048767</td>\n",
       "      <td>26.820747</td>\n",
       "      <td>27.698611</td>\n",
       "      <td>26.504821</td>\n",
       "      <td>27.138589</td>\n",
       "      <td>26.671359</td>\n",
       "      <td>28.852160</td>\n",
       "    </tr>\n",
       "  </tbody>\n",
       "</table>\n",
       "</div>"
      ],
      "text/plain": [
       "              1           2           3           4           5           6   \\\n",
       "mean   20.000000   27.940000   35.550725   35.864583   39.032787   38.577465   \n",
       "var   252.133333  440.465714  669.780477  517.865680  638.775776  731.635801   \n",
       "std    15.878707   20.987275   25.880117   22.756662   25.274014   27.048767   \n",
       "\n",
       "              7           8           9           10          11          12  \n",
       "mean   38.988506   38.750000   39.219731   39.082677   39.881481   42.264808  \n",
       "var   719.352468  767.213054  702.505555  736.503019  711.361366  832.447114  \n",
       "std    26.820747   27.698611   26.504821   27.138589   26.671359   28.852160  "
      ]
     },
     "execution_count": 42,
     "metadata": {},
     "output_type": "execute_result"
    }
   ],
   "source": [
    "messages_decs_s = messages_sum_s.agg([np.mean, np.var, np.std])\n",
    "messages_decs_s.drop('user_id', axis=1, inplace=True)\n",
    "messages_decs_s"
   ]
  },
  {
   "cell_type": "markdown",
   "metadata": {},
   "source": [
    "Найдем среднее, дисперсию и среднее отклонения для сообщений тарифа ultra"
   ]
  },
  {
   "cell_type": "code",
   "execution_count": 43,
   "metadata": {},
   "outputs": [
    {
     "data": {
      "text/html": [
       "<div>\n",
       "<style scoped>\n",
       "    .dataframe tbody tr th:only-of-type {\n",
       "        vertical-align: middle;\n",
       "    }\n",
       "\n",
       "    .dataframe tbody tr th {\n",
       "        vertical-align: top;\n",
       "    }\n",
       "\n",
       "    .dataframe thead th {\n",
       "        text-align: right;\n",
       "    }\n",
       "</style>\n",
       "<table border=\"1\" class=\"dataframe\">\n",
       "  <thead>\n",
       "    <tr style=\"text-align: right;\">\n",
       "      <th></th>\n",
       "      <th>1</th>\n",
       "      <th>2</th>\n",
       "      <th>3</th>\n",
       "      <th>4</th>\n",
       "      <th>5</th>\n",
       "      <th>6</th>\n",
       "      <th>7</th>\n",
       "      <th>8</th>\n",
       "      <th>9</th>\n",
       "      <th>10</th>\n",
       "      <th>11</th>\n",
       "      <th>12</th>\n",
       "    </tr>\n",
       "  </thead>\n",
       "  <tbody>\n",
       "    <tr>\n",
       "      <td>mean</td>\n",
       "      <td>43.428571</td>\n",
       "      <td>32.937500</td>\n",
       "      <td>47.800000</td>\n",
       "      <td>44.512821</td>\n",
       "      <td>48.769231</td>\n",
       "      <td>52.313433</td>\n",
       "      <td>62.136986</td>\n",
       "      <td>58.897727</td>\n",
       "      <td>63.294737</td>\n",
       "      <td>69.776699</td>\n",
       "      <td>66.159292</td>\n",
       "      <td>72.008547</td>\n",
       "    </tr>\n",
       "    <tr>\n",
       "      <td>var</td>\n",
       "      <td>765.285714</td>\n",
       "      <td>713.395833</td>\n",
       "      <td>1826.666667</td>\n",
       "      <td>1408.256410</td>\n",
       "      <td>1559.553544</td>\n",
       "      <td>1935.672999</td>\n",
       "      <td>2190.730974</td>\n",
       "      <td>2022.966432</td>\n",
       "      <td>1906.763270</td>\n",
       "      <td>2426.606511</td>\n",
       "      <td>2249.295828</td>\n",
       "      <td>2362.870616</td>\n",
       "    </tr>\n",
       "    <tr>\n",
       "      <td>std</td>\n",
       "      <td>27.663798</td>\n",
       "      <td>26.709471</td>\n",
       "      <td>42.739521</td>\n",
       "      <td>37.526743</td>\n",
       "      <td>39.491183</td>\n",
       "      <td>43.996284</td>\n",
       "      <td>46.805245</td>\n",
       "      <td>44.977399</td>\n",
       "      <td>43.666501</td>\n",
       "      <td>49.260598</td>\n",
       "      <td>47.426742</td>\n",
       "      <td>48.609368</td>\n",
       "    </tr>\n",
       "  </tbody>\n",
       "</table>\n",
       "</div>"
      ],
      "text/plain": [
       "              1           2            3            4            5   \\\n",
       "mean   43.428571   32.937500    47.800000    44.512821    48.769231   \n",
       "var   765.285714  713.395833  1826.666667  1408.256410  1559.553544   \n",
       "std    27.663798   26.709471    42.739521    37.526743    39.491183   \n",
       "\n",
       "               6            7            8            9            10  \\\n",
       "mean    52.313433    62.136986    58.897727    63.294737    69.776699   \n",
       "var   1935.672999  2190.730974  2022.966432  1906.763270  2426.606511   \n",
       "std     43.996284    46.805245    44.977399    43.666501    49.260598   \n",
       "\n",
       "               11           12  \n",
       "mean    66.159292    72.008547  \n",
       "var   2249.295828  2362.870616  \n",
       "std     47.426742    48.609368  "
      ]
     },
     "execution_count": 43,
     "metadata": {},
     "output_type": "execute_result"
    }
   ],
   "source": [
    "messages_decs_u = messages_sum_u.agg([np.mean, np.var, np.std])\n",
    "messages_decs_u.drop('user_id', axis=1, inplace=True)\n",
    "messages_decs_u"
   ]
  },
  {
   "cell_type": "markdown",
   "metadata": {},
   "source": [
    "В сообщениях картина меняется, и различия между средними двух тарифов становятся более значимыми. Пользователи тарифа smart\n",
    "в сренем укладываются в 50 сообщений, но со временем значение стремится вверх, а остаток фиксированных сообщений сокращается. Пользователи ultra не успевают потратить свои сообщения и тратят в среднем в 14 раз меньше значения устаноного тарифом! Стандартное отклонение так же сильно больше в тарифе ultra, что не удивительно при такой свободе 'размаха' в сообщениях."
   ]
  },
  {
   "cell_type": "markdown",
   "metadata": {},
   "source": [
    "Построим гистограмы по месяцам для каждого тарифа"
   ]
  },
  {
   "cell_type": "code",
   "execution_count": 44,
   "metadata": {},
   "outputs": [
    {
     "data": {
      "image/png": "[encoded data removed]",
      "text/plain": [
       "<Figure size 1728x1080 with 12 Axes>"
      ]
     },
     "metadata": {
      "needs_background": "light"
     },
     "output_type": "display_data"
    }
   ],
   "source": [
    "subplot_hist(messages_sum_s, title='smart', xlabel='шт', ylabel='частота')"
   ]
  },
  {
   "cell_type": "code",
   "execution_count": 45,
   "metadata": {},
   "outputs": [
    {
     "data": {
      "image/png": "[encoded data removed]",
      "text/plain": [
       "<Figure size 1728x1080 with 12 Axes>"
      ]
     },
     "metadata": {
      "needs_background": "light"
     },
     "output_type": "display_data"
    }
   ],
   "source": [
    "subplot_hist(messages_sum_u, title='ultra', xlabel='шт', ylabel='частота')"
   ]
  },
  {
   "cell_type": "markdown",
   "metadata": {},
   "source": [
    "В этот раз мы видим гистограммы смещенные в лево, что означает наличие большой части клиентов отправляющих мало сообщений, так же мы видим что большинсво значений заканчиваются на определенных значениях(smart- 60шт ultra- 100шт), после чего тянется длинный хвост. Мы видим что часть пользователей в тарифе smart превышают лимит - максимум на 90 шт, что приносит примерно 270 рублей - это менее выгодно чем лишний трафик или звонки. А у пользователей ultra остается огромный запас сообщений. "
   ]
  },
  {
   "cell_type": "markdown",
   "metadata": {},
   "source": [
    "### Вывод"
   ]
  },
  {
   "cell_type": "markdown",
   "metadata": {},
   "source": [
    "Проанализировав данные можно сказать, что в среднем пользователи используют схожое колл-во трафика и минут, а вот сообщений больше отправляют пользователи ultra. Пользователи тарифа smart в среднем превышают фиксированные показатели тарифа, особенно это заметно на трафике и звонках. Из за привышения показателей, размер выручки часто увеличивается в несколько раз. При этом наблюдается тенденция к увеличению размера дополнительных минут, сообщений и гигабайт. А в тарифе ultra, наоборот, в звонках и сообщениях есть огромный запас, в трафике есть часть клиентов превышающих показатели, но тенденции к росту нет."
   ]
  },
  {
   "cell_type": "markdown",
   "metadata": {},
   "source": [
    "## Проверка гипотез "
   ]
  },
  {
   "cell_type": "markdown",
   "metadata": {},
   "source": [
    "### Проверка первой гепотизы"
   ]
  },
  {
   "cell_type": "markdown",
   "metadata": {},
   "source": [
    "Проверим гипотезу о том, что средняя выручка пользователей тарифов «Ультра» и «Смарт» различаются\n",
    "\n",
    "Сформируем нулевую и альтернативную гипотезу:\n",
    "\n",
    "H0 - средняя выручка пользователей тарифов «Ультра» и «Смарт» не различаются\n",
    "H1 - средняя выручка пользователей тарифов «Ультра» и «Смарт» различаются"
   ]
  },
  {
   "cell_type": "markdown",
   "metadata": {},
   "source": [
    "Найдем p-значение для второго полугодия(т.к. в первом много пропущенных значений из за маленького кол-ва пользователей)\n",
    "\n",
    "Критический уровень значимости укажем 1% т.к имеем выборку хорошего размера измеряемую сотнями и менее вероятно получить случайные результаты чем в маленькой выборке"
   ]
  },
  {
   "cell_type": "code",
   "execution_count": 46,
   "metadata": {
    "scrolled": true
   },
   "outputs": [
    {
     "name": "stdout",
     "output_type": "stream",
     "text": [
      "6\n",
      "------------------------------------------------\n",
      "p-значение:  3.5988362781176138e-12\n",
      "Отвергаем нулевую гипотезу\n",
      "7\n",
      "------------------------------------------------\n",
      "p-значение:  1.328193900585348e-11\n",
      "Отвергаем нулевую гипотезу\n",
      "8\n",
      "------------------------------------------------\n",
      "p-значение:  5.651211062141756e-12\n",
      "Отвергаем нулевую гипотезу\n",
      "9\n",
      "------------------------------------------------\n",
      "p-значение:  4.0537300851265314e-15\n",
      "Отвергаем нулевую гипотезу\n",
      "10\n",
      "------------------------------------------------\n",
      "p-значение:  3.073702449707154e-11\n",
      "Отвергаем нулевую гипотезу\n",
      "11\n",
      "------------------------------------------------\n",
      "p-значение:  1.1503796329010822e-17\n",
      "Отвергаем нулевую гипотезу\n",
      "12\n",
      "------------------------------------------------\n",
      "p-значение:  1.2139076230877982e-08\n",
      "Отвергаем нулевую гипотезу\n"
     ]
    }
   ],
   "source": [
    "from scipy import stats as st\n",
    "\n",
    "for i in range(6, 13):\n",
    "    x1 = all_p[all_p['tariff'] == 'smart'][i]\n",
    "    x2 = all_p[all_p['tariff'] == 'ultra'][i]\n",
    "    results = st.ttest_ind(x1, x2)\n",
    "    alpha = 0.01\n",
    "    print(i)\n",
    "    print(\"------------------------------------------------\")\n",
    "    print('p-значение: ', results.pvalue)\n",
    "    if results.pvalue < alpha:\n",
    "        print(\"Отвергаем нулевую гипотезу\")\n",
    "    else:\n",
    "        print(\"Не получилось отвергнуть нулевую гипотезу\")"
   ]
  },
  {
   "cell_type": "markdown",
   "metadata": {},
   "source": [
    "По всем шести месяцам мы получили p-значение меньше 1%, а это значит что у нас есть основания отклонить нулевую гипотезу и предположить что средние значения выручек различаются.\n",
    "\n",
    "Посмотрим на средние значения выручек по месяцам"
   ]
  },
  {
   "cell_type": "code",
   "execution_count": 47,
   "metadata": {},
   "outputs": [
    {
     "data": {
      "text/html": [
       "<div>\n",
       "<style scoped>\n",
       "    .dataframe tbody tr th:only-of-type {\n",
       "        vertical-align: middle;\n",
       "    }\n",
       "\n",
       "    .dataframe tbody tr th {\n",
       "        vertical-align: top;\n",
       "    }\n",
       "\n",
       "    .dataframe thead th {\n",
       "        text-align: right;\n",
       "    }\n",
       "</style>\n",
       "<table border=\"1\" class=\"dataframe\">\n",
       "  <thead>\n",
       "    <tr style=\"text-align: right;\">\n",
       "      <th></th>\n",
       "      <th>tariff</th>\n",
       "      <th>1</th>\n",
       "      <th>2</th>\n",
       "      <th>3</th>\n",
       "      <th>4</th>\n",
       "      <th>5</th>\n",
       "      <th>6</th>\n",
       "      <th>7</th>\n",
       "      <th>8</th>\n",
       "      <th>9</th>\n",
       "      <th>10</th>\n",
       "      <th>11</th>\n",
       "      <th>12</th>\n",
       "    </tr>\n",
       "  </thead>\n",
       "  <tbody>\n",
       "    <tr>\n",
       "      <td>0</td>\n",
       "      <td>smart</td>\n",
       "      <td>69.674786</td>\n",
       "      <td>134.012678</td>\n",
       "      <td>248.887521</td>\n",
       "      <td>299.741738</td>\n",
       "      <td>470.910085</td>\n",
       "      <td>549.530997</td>\n",
       "      <td>682.872279</td>\n",
       "      <td>863.033561</td>\n",
       "      <td>900.506724</td>\n",
       "      <td>1114.765185</td>\n",
       "      <td>1177.560826</td>\n",
       "      <td>1473.572051</td>\n",
       "    </tr>\n",
       "    <tr>\n",
       "      <td>1</td>\n",
       "      <td>ultra</td>\n",
       "      <td>117.785235</td>\n",
       "      <td>318.120805</td>\n",
       "      <td>500.335570</td>\n",
       "      <td>738.926174</td>\n",
       "      <td>926.174497</td>\n",
       "      <td>1149.664430</td>\n",
       "      <td>1293.624161</td>\n",
       "      <td>1495.973154</td>\n",
       "      <td>1562.416107</td>\n",
       "      <td>1705.369128</td>\n",
       "      <td>1881.543624</td>\n",
       "      <td>2008.389262</td>\n",
       "    </tr>\n",
       "  </tbody>\n",
       "</table>\n",
       "</div>"
      ],
      "text/plain": [
       "  tariff           1           2           3           4           5  \\\n",
       "0  smart   69.674786  134.012678  248.887521  299.741738  470.910085   \n",
       "1  ultra  117.785235  318.120805  500.335570  738.926174  926.174497   \n",
       "\n",
       "             6            7            8            9           10  \\\n",
       "0   549.530997   682.872279   863.033561   900.506724  1114.765185   \n",
       "1  1149.664430  1293.624161  1495.973154  1562.416107  1705.369128   \n",
       "\n",
       "            11           12  \n",
       "0  1177.560826  1473.572051  \n",
       "1  1881.543624  2008.389262  "
      ]
     },
     "execution_count": 47,
     "metadata": {},
     "output_type": "execute_result"
    }
   ],
   "source": [
    "all_p_mean = all_p.groupby('tariff').mean()\n",
    "all_p_mean.drop('user_id', axis=1, inplace=True)\n",
    "all_p_mean = all_p_mean.reset_index()\n",
    "all_p_mean"
   ]
  },
  {
   "cell_type": "markdown",
   "metadata": {},
   "source": [
    "Мы видим что средняя выручка выше у тарифа ultra, на первых месяцах выручки различаются в 2 раза, но к концу года разрыв сокращается до четверти, что скорее всего вызвано ростом дополнительных трат трафика\n",
    "\n",
    "Посмотрим на сумму выручек по тарифам"
   ]
  },
  {
   "cell_type": "code",
   "execution_count": 48,
   "metadata": {
    "scrolled": true
   },
   "outputs": [
    {
     "data": {
      "text/html": [
       "<div>\n",
       "<style scoped>\n",
       "    .dataframe tbody tr th:only-of-type {\n",
       "        vertical-align: middle;\n",
       "    }\n",
       "\n",
       "    .dataframe tbody tr th {\n",
       "        vertical-align: top;\n",
       "    }\n",
       "\n",
       "    .dataframe thead th {\n",
       "        text-align: right;\n",
       "    }\n",
       "</style>\n",
       "<table border=\"1\" class=\"dataframe\">\n",
       "  <thead>\n",
       "    <tr style=\"text-align: right;\">\n",
       "      <th></th>\n",
       "      <th>tariff</th>\n",
       "      <th>1</th>\n",
       "      <th>2</th>\n",
       "      <th>3</th>\n",
       "      <th>4</th>\n",
       "      <th>5</th>\n",
       "      <th>6</th>\n",
       "      <th>7</th>\n",
       "      <th>8</th>\n",
       "      <th>9</th>\n",
       "      <th>10</th>\n",
       "      <th>11</th>\n",
       "      <th>12</th>\n",
       "    </tr>\n",
       "  </thead>\n",
       "  <tbody>\n",
       "    <tr>\n",
       "      <td>0</td>\n",
       "      <td>smart</td>\n",
       "      <td>24455.85</td>\n",
       "      <td>47038.45</td>\n",
       "      <td>87359.52</td>\n",
       "      <td>105209.35</td>\n",
       "      <td>165289.44</td>\n",
       "      <td>192885.38</td>\n",
       "      <td>239688.17</td>\n",
       "      <td>302924.78</td>\n",
       "      <td>316077.86</td>\n",
       "      <td>391282.58</td>\n",
       "      <td>413323.85</td>\n",
       "      <td>517223.79</td>\n",
       "    </tr>\n",
       "    <tr>\n",
       "      <td>1</td>\n",
       "      <td>ultra</td>\n",
       "      <td>17550.00</td>\n",
       "      <td>47400.00</td>\n",
       "      <td>74550.00</td>\n",
       "      <td>110100.00</td>\n",
       "      <td>138000.00</td>\n",
       "      <td>171300.00</td>\n",
       "      <td>192750.00</td>\n",
       "      <td>222900.00</td>\n",
       "      <td>232800.00</td>\n",
       "      <td>254100.00</td>\n",
       "      <td>280350.00</td>\n",
       "      <td>299250.00</td>\n",
       "    </tr>\n",
       "  </tbody>\n",
       "</table>\n",
       "</div>"
      ],
      "text/plain": [
       "  tariff         1         2         3          4          5          6  \\\n",
       "0  smart  24455.85  47038.45  87359.52  105209.35  165289.44  192885.38   \n",
       "1  ultra  17550.00  47400.00  74550.00  110100.00  138000.00  171300.00   \n",
       "\n",
       "           7          8          9         10         11         12  \n",
       "0  239688.17  302924.78  316077.86  391282.58  413323.85  517223.79  \n",
       "1  192750.00  222900.00  232800.00  254100.00  280350.00  299250.00  "
      ]
     },
     "execution_count": 48,
     "metadata": {},
     "output_type": "execute_result"
    }
   ],
   "source": [
    "all_p_sum = all_p.groupby('tariff').sum()\n",
    "all_p_sum.drop('user_id', axis=1, inplace=True)\n",
    "all_p_sum = all_p_sum.reset_index()\n",
    "all_p_sum"
   ]
  },
  {
   "cell_type": "markdown",
   "metadata": {},
   "source": [
    "Мы видим что на старте тарифы шли примерно одинаково, но со второго полугодия разрыв начал увеличиватся, а к концу года выручка с тарифа smart стала почти в два раза больше. Это может быть связано с увеличением чила пользователей тарифа smart и его средней выручки\n",
    "\n",
    "Посмотрим на кол-во пользователей"
   ]
  },
  {
   "cell_type": "code",
   "execution_count": 49,
   "metadata": {},
   "outputs": [
    {
     "data": {
      "text/plain": [
       "tariff\n",
       "smart    351\n",
       "ultra    149\n",
       "Name: user_id, dtype: int64"
      ]
     },
     "execution_count": 49,
     "metadata": {},
     "output_type": "execute_result"
    }
   ],
   "source": [
    "users.groupby('tariff')['user_id'].count()"
   ]
  },
  {
   "cell_type": "markdown",
   "metadata": {},
   "source": [
    "Мы видим что пользователей тарифа smart более чем в 2 раза больше пользователей ultra.\n",
    "Это означает, что если выборка случайная и репрезентативная, то соотношение выборки отражает соотношение ГС и говорит о том, что несмотря на то что среднее значение выручек выше у тарифа ultra, при большем соотношении в сторону тарифа smart он являеется более прибыльным для компании "
   ]
  },
  {
   "cell_type": "markdown",
   "metadata": {},
   "source": [
    "### Проверка второй гепотизы"
   ]
  },
  {
   "cell_type": "markdown",
   "metadata": {},
   "source": [
    "Проверим гепотизу о том, что средняя выручка пользователи из Москвы отличается от выручки пользователей из других регионов"
   ]
  },
  {
   "cell_type": "markdown",
   "metadata": {},
   "source": [
    "Сформируем нулевую и альтернативную гипотезу:\n",
    "\n",
    "H0 - средняя выручка пользователи из Москвы не отличается от выручки пользователей из других регионов\n",
    "\n",
    "H1 - средняя выручка пользователи из Москвы отличается от выручки пользователей из других регионов"
   ]
  },
  {
   "cell_type": "markdown",
   "metadata": {},
   "source": [
    "Добавим в таблицу данные о городе"
   ]
  },
  {
   "cell_type": "code",
   "execution_count": 50,
   "metadata": {},
   "outputs": [
    {
     "data": {
      "text/html": [
       "<div>\n",
       "<style scoped>\n",
       "    .dataframe tbody tr th:only-of-type {\n",
       "        vertical-align: middle;\n",
       "    }\n",
       "\n",
       "    .dataframe tbody tr th {\n",
       "        vertical-align: top;\n",
       "    }\n",
       "\n",
       "    .dataframe thead th {\n",
       "        text-align: right;\n",
       "    }\n",
       "</style>\n",
       "<table border=\"1\" class=\"dataframe\">\n",
       "  <thead>\n",
       "    <tr style=\"text-align: right;\">\n",
       "      <th></th>\n",
       "      <th>user_id</th>\n",
       "      <th>1</th>\n",
       "      <th>2</th>\n",
       "      <th>3</th>\n",
       "      <th>4</th>\n",
       "      <th>5</th>\n",
       "      <th>6</th>\n",
       "      <th>7</th>\n",
       "      <th>8</th>\n",
       "      <th>9</th>\n",
       "      <th>10</th>\n",
       "      <th>11</th>\n",
       "      <th>12</th>\n",
       "      <th>tariff</th>\n",
       "      <th>city</th>\n",
       "    </tr>\n",
       "  </thead>\n",
       "  <tbody>\n",
       "    <tr>\n",
       "      <td>0</td>\n",
       "      <td>1000.0</td>\n",
       "      <td>0.0</td>\n",
       "      <td>0.00</td>\n",
       "      <td>0.00</td>\n",
       "      <td>0.0</td>\n",
       "      <td>1950.0</td>\n",
       "      <td>1950.00</td>\n",
       "      <td>1950.00</td>\n",
       "      <td>1950.0</td>\n",
       "      <td>1950.0</td>\n",
       "      <td>1950.0</td>\n",
       "      <td>1950.00</td>\n",
       "      <td>1950.00</td>\n",
       "      <td>ultra</td>\n",
       "      <td>Краснодар</td>\n",
       "    </tr>\n",
       "    <tr>\n",
       "      <td>1</td>\n",
       "      <td>1001.0</td>\n",
       "      <td>0.0</td>\n",
       "      <td>0.00</td>\n",
       "      <td>0.00</td>\n",
       "      <td>0.0</td>\n",
       "      <td>0.0</td>\n",
       "      <td>0.00</td>\n",
       "      <td>0.00</td>\n",
       "      <td>0.0</td>\n",
       "      <td>0.0</td>\n",
       "      <td>0.0</td>\n",
       "      <td>1150.00</td>\n",
       "      <td>550.00</td>\n",
       "      <td>smart</td>\n",
       "      <td>Москва</td>\n",
       "    </tr>\n",
       "    <tr>\n",
       "      <td>2</td>\n",
       "      <td>1002.0</td>\n",
       "      <td>0.0</td>\n",
       "      <td>0.00</td>\n",
       "      <td>0.00</td>\n",
       "      <td>0.0</td>\n",
       "      <td>0.0</td>\n",
       "      <td>550.00</td>\n",
       "      <td>1150.00</td>\n",
       "      <td>1550.0</td>\n",
       "      <td>950.0</td>\n",
       "      <td>550.0</td>\n",
       "      <td>1350.00</td>\n",
       "      <td>1150.00</td>\n",
       "      <td>smart</td>\n",
       "      <td>Стерлитамак</td>\n",
       "    </tr>\n",
       "    <tr>\n",
       "      <td>3</td>\n",
       "      <td>1003.0</td>\n",
       "      <td>0.0</td>\n",
       "      <td>0.00</td>\n",
       "      <td>0.00</td>\n",
       "      <td>0.0</td>\n",
       "      <td>0.0</td>\n",
       "      <td>0.00</td>\n",
       "      <td>0.00</td>\n",
       "      <td>1950.0</td>\n",
       "      <td>1950.0</td>\n",
       "      <td>1950.0</td>\n",
       "      <td>1950.00</td>\n",
       "      <td>1950.00</td>\n",
       "      <td>ultra</td>\n",
       "      <td>Москва</td>\n",
       "    </tr>\n",
       "    <tr>\n",
       "      <td>4</td>\n",
       "      <td>1004.0</td>\n",
       "      <td>0.0</td>\n",
       "      <td>0.00</td>\n",
       "      <td>0.00</td>\n",
       "      <td>0.0</td>\n",
       "      <td>1950.0</td>\n",
       "      <td>1950.00</td>\n",
       "      <td>1950.00</td>\n",
       "      <td>1950.0</td>\n",
       "      <td>1950.0</td>\n",
       "      <td>1950.0</td>\n",
       "      <td>1950.00</td>\n",
       "      <td>1950.00</td>\n",
       "      <td>ultra</td>\n",
       "      <td>Новокузнецк</td>\n",
       "    </tr>\n",
       "    <tr>\n",
       "      <td>...</td>\n",
       "      <td>...</td>\n",
       "      <td>...</td>\n",
       "      <td>...</td>\n",
       "      <td>...</td>\n",
       "      <td>...</td>\n",
       "      <td>...</td>\n",
       "      <td>...</td>\n",
       "      <td>...</td>\n",
       "      <td>...</td>\n",
       "      <td>...</td>\n",
       "      <td>...</td>\n",
       "      <td>...</td>\n",
       "      <td>...</td>\n",
       "      <td>...</td>\n",
       "      <td>...</td>\n",
       "    </tr>\n",
       "    <tr>\n",
       "      <td>495</td>\n",
       "      <td>1495.0</td>\n",
       "      <td>0.0</td>\n",
       "      <td>0.00</td>\n",
       "      <td>0.00</td>\n",
       "      <td>0.0</td>\n",
       "      <td>0.0</td>\n",
       "      <td>0.00</td>\n",
       "      <td>0.00</td>\n",
       "      <td>1950.0</td>\n",
       "      <td>2400.0</td>\n",
       "      <td>1950.0</td>\n",
       "      <td>3300.00</td>\n",
       "      <td>1950.00</td>\n",
       "      <td>ultra</td>\n",
       "      <td>Иркутск</td>\n",
       "    </tr>\n",
       "    <tr>\n",
       "      <td>496</td>\n",
       "      <td>1496.0</td>\n",
       "      <td>550.0</td>\n",
       "      <td>3334.23</td>\n",
       "      <td>2615.85</td>\n",
       "      <td>1750.0</td>\n",
       "      <td>2350.0</td>\n",
       "      <td>1637.63</td>\n",
       "      <td>2500.18</td>\n",
       "      <td>2150.0</td>\n",
       "      <td>2950.0</td>\n",
       "      <td>3150.0</td>\n",
       "      <td>2949.66</td>\n",
       "      <td>1753.00</td>\n",
       "      <td>smart</td>\n",
       "      <td>Вологда</td>\n",
       "    </tr>\n",
       "    <tr>\n",
       "      <td>497</td>\n",
       "      <td>1497.0</td>\n",
       "      <td>0.0</td>\n",
       "      <td>0.00</td>\n",
       "      <td>0.00</td>\n",
       "      <td>0.0</td>\n",
       "      <td>0.0</td>\n",
       "      <td>0.00</td>\n",
       "      <td>0.00</td>\n",
       "      <td>0.0</td>\n",
       "      <td>0.0</td>\n",
       "      <td>550.0</td>\n",
       "      <td>550.00</td>\n",
       "      <td>1595.99</td>\n",
       "      <td>smart</td>\n",
       "      <td>Челябинск</td>\n",
       "    </tr>\n",
       "    <tr>\n",
       "      <td>498</td>\n",
       "      <td>1498.0</td>\n",
       "      <td>0.0</td>\n",
       "      <td>0.00</td>\n",
       "      <td>0.00</td>\n",
       "      <td>0.0</td>\n",
       "      <td>0.0</td>\n",
       "      <td>0.00</td>\n",
       "      <td>550.00</td>\n",
       "      <td>2386.0</td>\n",
       "      <td>1950.0</td>\n",
       "      <td>1750.0</td>\n",
       "      <td>0.00</td>\n",
       "      <td>0.00</td>\n",
       "      <td>smart</td>\n",
       "      <td>Владикавказ</td>\n",
       "    </tr>\n",
       "    <tr>\n",
       "      <td>499</td>\n",
       "      <td>1499.0</td>\n",
       "      <td>0.0</td>\n",
       "      <td>0.00</td>\n",
       "      <td>0.00</td>\n",
       "      <td>0.0</td>\n",
       "      <td>0.0</td>\n",
       "      <td>0.00</td>\n",
       "      <td>0.00</td>\n",
       "      <td>0.0</td>\n",
       "      <td>550.0</td>\n",
       "      <td>1150.0</td>\n",
       "      <td>1406.50</td>\n",
       "      <td>598.00</td>\n",
       "      <td>smart</td>\n",
       "      <td>Пермь</td>\n",
       "    </tr>\n",
       "  </tbody>\n",
       "</table>\n",
       "<p>500 rows × 15 columns</p>\n",
       "</div>"
      ],
      "text/plain": [
       "     user_id      1        2        3       4       5        6        7  \\\n",
       "0     1000.0    0.0     0.00     0.00     0.0  1950.0  1950.00  1950.00   \n",
       "1     1001.0    0.0     0.00     0.00     0.0     0.0     0.00     0.00   \n",
       "2     1002.0    0.0     0.00     0.00     0.0     0.0   550.00  1150.00   \n",
       "3     1003.0    0.0     0.00     0.00     0.0     0.0     0.00     0.00   \n",
       "4     1004.0    0.0     0.00     0.00     0.0  1950.0  1950.00  1950.00   \n",
       "..       ...    ...      ...      ...     ...     ...      ...      ...   \n",
       "495   1495.0    0.0     0.00     0.00     0.0     0.0     0.00     0.00   \n",
       "496   1496.0  550.0  3334.23  2615.85  1750.0  2350.0  1637.63  2500.18   \n",
       "497   1497.0    0.0     0.00     0.00     0.0     0.0     0.00     0.00   \n",
       "498   1498.0    0.0     0.00     0.00     0.0     0.0     0.00   550.00   \n",
       "499   1499.0    0.0     0.00     0.00     0.0     0.0     0.00     0.00   \n",
       "\n",
       "          8       9      10       11       12 tariff         city  \n",
       "0    1950.0  1950.0  1950.0  1950.00  1950.00  ultra    Краснодар  \n",
       "1       0.0     0.0     0.0  1150.00   550.00  smart       Москва  \n",
       "2    1550.0   950.0   550.0  1350.00  1150.00  smart  Стерлитамак  \n",
       "3    1950.0  1950.0  1950.0  1950.00  1950.00  ultra       Москва  \n",
       "4    1950.0  1950.0  1950.0  1950.00  1950.00  ultra  Новокузнецк  \n",
       "..      ...     ...     ...      ...      ...    ...          ...  \n",
       "495  1950.0  2400.0  1950.0  3300.00  1950.00  ultra      Иркутск  \n",
       "496  2150.0  2950.0  3150.0  2949.66  1753.00  smart      Вологда  \n",
       "497     0.0     0.0   550.0   550.00  1595.99  smart    Челябинск  \n",
       "498  2386.0  1950.0  1750.0     0.00     0.00  smart  Владикавказ  \n",
       "499     0.0   550.0  1150.0  1406.50   598.00  smart        Пермь  \n",
       "\n",
       "[500 rows x 15 columns]"
      ]
     },
     "execution_count": 50,
     "metadata": {},
     "output_type": "execute_result"
    }
   ],
   "source": [
    "all_p = all_p.merge(users[['user_id', 'city']], on='user_id', how='left')\n",
    "all_p"
   ]
  },
  {
   "cell_type": "markdown",
   "metadata": {},
   "source": [
    "Найдем p-значение так же только для второго полугодия\n",
    "\n",
    "Критический уровень значимости укажем так же 1%"
   ]
  },
  {
   "cell_type": "code",
   "execution_count": 51,
   "metadata": {},
   "outputs": [
    {
     "name": "stdout",
     "output_type": "stream",
     "text": [
      "6\n",
      "------------------------------------------------\n",
      "p-значение:  0.7702325151310205\n",
      "Не получилось отвергнуть нулевую гипотезу\n",
      "7\n",
      "------------------------------------------------\n",
      "p-значение:  0.5089647658285736\n",
      "Не получилось отвергнуть нулевую гипотезу\n",
      "8\n",
      "------------------------------------------------\n",
      "p-значение:  0.47523759098208784\n",
      "Не получилось отвергнуть нулевую гипотезу\n",
      "9\n",
      "------------------------------------------------\n",
      "p-значение:  0.5358533808560144\n",
      "Не получилось отвергнуть нулевую гипотезу\n",
      "10\n",
      "------------------------------------------------\n",
      "p-значение:  0.6228200168256217\n",
      "Не получилось отвергнуть нулевую гипотезу\n",
      "11\n",
      "------------------------------------------------\n",
      "p-значение:  0.6128241217544332\n",
      "Не получилось отвергнуть нулевую гипотезу\n",
      "12\n",
      "------------------------------------------------\n",
      "p-значение:  0.4625561405104518\n",
      "Не получилось отвергнуть нулевую гипотезу\n"
     ]
    }
   ],
   "source": [
    "for i in range(6, 13):\n",
    "    x1 = all_p[all_p['city'] == 'Москва'][i]\n",
    "    x2 = all_p[all_p['city'] != 'Москва'][i]\n",
    "    results = st.ttest_ind(x1, x2)\n",
    "    alpha = 0.01\n",
    "    print(i)\n",
    "    print(\"------------------------------------------------\")\n",
    "    print('p-значение: ', results.pvalue)\n",
    "    if results.pvalue < alpha:\n",
    "        print(\"Отвергаем нулевую гипотезу\")\n",
    "    else:\n",
    "        print(\"Не получилось отвергнуть нулевую гипотезу\")"
   ]
  },
  {
   "cell_type": "markdown",
   "metadata": {},
   "source": [
    "Мы видим p-значение по второму полугодию около 0.5, что говорит нам о вероятности около 50% получить такие или более выраженные различия случайно и нет оснований для отвержения нулевой гипотезы. Это дает нам основания предположить что выручки в Москве и регионах не отличаются."
   ]
  },
  {
   "cell_type": "markdown",
   "metadata": {},
   "source": [
    "Взглянем на среднее в Москве и регионах"
   ]
  },
  {
   "cell_type": "code",
   "execution_count": 52,
   "metadata": {},
   "outputs": [
    {
     "data": {
      "text/plain": [
       "user_id    1256.717172\n",
       "1           119.191919\n",
       "2           165.288485\n",
       "3           329.899192\n",
       "4           436.793939\n",
       "5           573.986566\n",
       "6           704.597071\n",
       "7           808.738788\n",
       "8           989.827980\n",
       "9          1048.236162\n",
       "10         1249.620707\n",
       "11         1427.081010\n",
       "12         1568.450606\n",
       "dtype: float64"
      ]
     },
     "execution_count": 52,
     "metadata": {},
     "output_type": "execute_result"
    }
   ],
   "source": [
    "all_p[all_p['city'] == 'Москва'].mean()"
   ]
  },
  {
   "cell_type": "code",
   "execution_count": 53,
   "metadata": {},
   "outputs": [
    {
     "data": {
      "text/plain": [
       "user_id    1247.718204\n",
       "1            75.326309\n",
       "2           194.700474\n",
       "3           322.317955\n",
       "4           429.094140\n",
       "5           614.625362\n",
       "6           734.240075\n",
       "7           878.735736\n",
       "8          1066.912244\n",
       "9          1109.981247\n",
       "10         1300.923017\n",
       "11         1377.538229\n",
       "12         1648.870773\n",
       "dtype: float64"
      ]
     },
     "execution_count": 53,
     "metadata": {},
     "output_type": "execute_result"
    }
   ],
   "source": [
    "all_p[all_p['city'] != 'Москва'].mean()"
   ]
  },
  {
   "cell_type": "markdown",
   "metadata": {},
   "source": [
    "Мы видим что в начале есть небольшое различие, но к концу года оно почти уходит на нет."
   ]
  },
  {
   "cell_type": "markdown",
   "metadata": {},
   "source": [
    "### Вывод"
   ]
  },
  {
   "cell_type": "markdown",
   "metadata": {},
   "source": [
    "Мы проверили две гипотезы и получили основания полагать, что средняя выручка пользователей тарифов «Ультра» и «Смарт» различаются, а средняя выручка пользователи из Москвы не отличается от выручки пользователей из других регионов. Так же мы выяснили у тарифа smart есть тенденция к росту выручки и он понемногу сравнивается с тарифом ultra, а так же пользователей smart более чем в 2 раза больше."
   ]
  },
  {
   "cell_type": "markdown",
   "metadata": {},
   "source": [
    "## Общий вывод"
   ]
  },
  {
   "cell_type": "markdown",
   "metadata": {},
   "source": [
    "В исследовании мы предобработали данные и добавили в новые для дальнейшего анализа. По результатам анализа мы выяснили, что в среднем пользователи используют близкие значения трафика и минут, а вот сообщений пишут больше пользователи тарифа ultra. При этом пользователи тарифа smart часто превышают показатели тарифа - увеличивая выручку в разы. Так же у тарифа smart наблюдается тенденция к росту трат, в отличии от ultra в котором в сообщения и минутах остается огромный запас, который еще не 'покорил' не один пользователь. Так же мы проверили гипотезы о различии выручек в зависимости от тарифов и различии выручки в Москве и регионах, по результатом которых мы получили основания полагать, что среднии выручки в зависимости от тарифа отличаются, а в зависимости от региона нет. \n",
    "\n",
    "Все результате исследования, мы имеем основания предположить что тариф «Смарт» более выгодный для компании на момент исследования за счет большего объема пользователей, но в перспективе большую часть рекламного бюджета лучше вложить в тариф «Ультра» т.к. у него больше средняя выручка, а это потенциальное увеличение общей прибыли. Часть бюджета стоит вложить и в «Смарт» т.к. у него есть перспективы для дальнейшего роста выручки за счет увеличения затрат пользователей. Также бюджет для Москвы и регионов можно распределить поровну из за отсутствия различий в выручках."
   ]
  }
 ],
 "metadata": {
  "ExecuteTimeLog": [
   {
    "duration": 84,
    "start_time": "2021-08-21T03:38:53.356Z"
   },
   {
    "duration": 81,
    "start_time": "2021-08-21T05:16:43.286Z"
   },
   {
    "duration": 286,
    "start_time": "2021-08-21T05:16:48.154Z"
   },
   {
    "duration": 611,
    "start_time": "2021-08-21T05:16:50.514Z"
   },
   {
    "duration": 261,
    "start_time": "2021-08-21T05:16:52.285Z"
   },
   {
    "duration": 87,
    "start_time": "2021-08-21T05:16:58.462Z"
   },
   {
    "duration": 142,
    "start_time": "2021-08-21T05:17:05.618Z"
   },
   {
    "duration": 158,
    "start_time": "2021-08-21T05:17:26.405Z"
   },
   {
    "duration": 587,
    "start_time": "2021-08-21T05:17:51.258Z"
   },
   {
    "duration": 151,
    "start_time": "2021-08-21T05:17:53.297Z"
   },
   {
    "duration": 153,
    "start_time": "2021-08-21T05:18:01.434Z"
   },
   {
    "duration": 34,
    "start_time": "2021-08-21T05:20:31.813Z"
   },
   {
    "duration": 40,
    "start_time": "2021-08-21T05:21:00.189Z"
   },
   {
    "duration": 31,
    "start_time": "2021-08-21T05:21:28.677Z"
   },
   {
    "duration": 34,
    "start_time": "2021-08-21T05:21:47.289Z"
   },
   {
    "duration": 87,
    "start_time": "2021-08-21T05:22:51.009Z"
   },
   {
    "duration": 137,
    "start_time": "2021-08-21T05:23:19.597Z"
   },
   {
    "duration": 91,
    "start_time": "2021-08-21T05:23:28.765Z"
   },
   {
    "duration": 125,
    "start_time": "2021-08-21T05:24:42.161Z"
   },
   {
    "duration": 22,
    "start_time": "2021-08-21T05:25:55.108Z"
   },
   {
    "duration": 37,
    "start_time": "2021-08-21T05:26:32.509Z"
   },
   {
    "duration": 160,
    "start_time": "2021-08-21T05:26:56.465Z"
   },
   {
    "duration": 102,
    "start_time": "2021-08-21T05:27:23.449Z"
   },
   {
    "duration": 33,
    "start_time": "2021-08-21T05:28:53.269Z"
   },
   {
    "duration": 145,
    "start_time": "2021-08-21T05:28:54.632Z"
   },
   {
    "duration": 88,
    "start_time": "2021-08-21T05:28:56.096Z"
   },
   {
    "duration": 37,
    "start_time": "2021-08-21T05:56:31.889Z"
   },
   {
    "duration": 164,
    "start_time": "2021-08-21T05:56:42.178Z"
   },
   {
    "duration": 360,
    "start_time": "2021-08-21T05:57:01.246Z"
   },
   {
    "duration": 109,
    "start_time": "2021-08-21T05:57:10.190Z"
   },
   {
    "duration": 144,
    "start_time": "2021-08-21T05:57:20.654Z"
   },
   {
    "duration": 3,
    "start_time": "2021-08-21T05:58:41.653Z"
   },
   {
    "duration": 36,
    "start_time": "2021-08-21T05:58:44.405Z"
   },
   {
    "duration": 210,
    "start_time": "2021-08-21T05:58:49.049Z"
   },
   {
    "duration": 105,
    "start_time": "2021-08-21T05:58:51.037Z"
   },
   {
    "duration": 136,
    "start_time": "2021-08-21T05:58:53.513Z"
   },
   {
    "duration": 21,
    "start_time": "2021-08-21T05:58:58.997Z"
   },
   {
    "duration": 102,
    "start_time": "2021-08-21T06:04:31.368Z"
   },
   {
    "duration": 25,
    "start_time": "2021-08-21T09:12:40.904Z"
   },
   {
    "duration": 23,
    "start_time": "2021-08-21T09:12:55.569Z"
   },
   {
    "duration": 296,
    "start_time": "2021-08-21T09:29:44.867Z"
   },
   {
    "duration": 95,
    "start_time": "2021-08-21T09:30:23.607Z"
   },
   {
    "duration": 267,
    "start_time": "2021-08-21T09:30:28.735Z"
   },
   {
    "duration": 262,
    "start_time": "2021-08-21T09:32:36.359Z"
   },
   {
    "duration": 3,
    "start_time": "2021-08-21T09:32:43.230Z"
   },
   {
    "duration": 450,
    "start_time": "2021-08-24T06:05:05.913Z"
   },
   {
    "duration": 776,
    "start_time": "2021-08-24T06:05:20.081Z"
   },
   {
    "duration": 56,
    "start_time": "2021-08-24T06:05:20.860Z"
   },
   {
    "duration": 243,
    "start_time": "2021-08-24T06:05:20.920Z"
   },
   {
    "duration": 139,
    "start_time": "2021-08-24T06:05:21.168Z"
   },
   {
    "duration": 377,
    "start_time": "2021-08-24T06:05:21.309Z"
   },
   {
    "duration": -6890698,
    "start_time": "2021-08-24T08:00:12.387Z"
   },
   {
    "duration": 203,
    "start_time": "2021-08-24T06:06:09.381Z"
   },
   {
    "duration": 26,
    "start_time": "2021-08-24T06:09:39.977Z"
   },
   {
    "duration": 428,
    "start_time": "2021-08-24T07:01:16.775Z"
   },
   {
    "duration": 1117,
    "start_time": "2021-08-24T07:06:06.423Z"
   },
   {
    "duration": 838,
    "start_time": "2021-08-24T07:06:14.546Z"
   },
   {
    "duration": 1188,
    "start_time": "2021-08-24T07:06:54.622Z"
   },
   {
    "duration": 195,
    "start_time": "2021-08-24T07:09:04.866Z"
   },
   {
    "duration": 63,
    "start_time": "2021-08-24T07:12:09.926Z"
   },
   {
    "duration": 239,
    "start_time": "2021-08-24T07:12:13.114Z"
   },
   {
    "duration": 136,
    "start_time": "2021-08-24T07:12:21.022Z"
   },
   {
    "duration": 841,
    "start_time": "2021-08-24T07:12:29.462Z"
   },
   {
    "duration": 32,
    "start_time": "2021-08-24T07:12:39.198Z"
   },
   {
    "duration": 191,
    "start_time": "2021-08-24T07:12:45.374Z"
   },
   {
    "duration": 2429,
    "start_time": "2021-08-24T07:15:30.098Z"
   },
   {
    "duration": 7,
    "start_time": "2021-08-24T07:16:07.341Z"
   },
   {
    "duration": 7,
    "start_time": "2021-08-24T07:16:10.706Z"
   },
   {
    "duration": 2142,
    "start_time": "2021-08-24T07:16:27.029Z"
   },
   {
    "duration": 18,
    "start_time": "2021-08-24T07:16:34.762Z"
   },
   {
    "duration": 543,
    "start_time": "2021-08-24T07:17:20.261Z"
   },
   {
    "duration": 20,
    "start_time": "2021-08-24T07:17:27.609Z"
   },
   {
    "duration": 21,
    "start_time": "2021-08-24T07:18:00.733Z"
   },
   {
    "duration": 21,
    "start_time": "2021-08-24T07:18:42.981Z"
   },
   {
    "duration": 22,
    "start_time": "2021-08-24T07:24:24.841Z"
   },
   {
    "duration": 22,
    "start_time": "2021-08-24T07:24:30.608Z"
   },
   {
    "duration": 16,
    "start_time": "2021-08-24T07:24:55.688Z"
   },
   {
    "duration": 890,
    "start_time": "2021-08-24T07:26:14.251Z"
   },
   {
    "duration": 90,
    "start_time": "2021-08-24T07:26:15.144Z"
   },
   {
    "duration": 231,
    "start_time": "2021-08-24T07:26:15.237Z"
   },
   {
    "duration": 134,
    "start_time": "2021-08-24T07:26:15.471Z"
   },
   {
    "duration": 209,
    "start_time": "2021-08-24T07:26:15.607Z"
   },
   {
    "duration": 25,
    "start_time": "2021-08-24T07:26:15.818Z"
   },
   {
    "duration": 199,
    "start_time": "2021-08-24T07:26:15.846Z"
   },
   {
    "duration": 20,
    "start_time": "2021-08-24T07:26:16.048Z"
   },
   {
    "duration": 20,
    "start_time": "2021-08-24T07:26:22.505Z"
   },
   {
    "duration": 20,
    "start_time": "2021-08-24T07:27:02.791Z"
   },
   {
    "duration": 915,
    "start_time": "2021-08-24T07:27:22.537Z"
   },
   {
    "duration": 72,
    "start_time": "2021-08-24T07:27:23.454Z"
   },
   {
    "duration": 241,
    "start_time": "2021-08-24T07:27:23.529Z"
   },
   {
    "duration": 141,
    "start_time": "2021-08-24T07:27:23.773Z"
   },
   {
    "duration": 254,
    "start_time": "2021-08-24T07:27:23.917Z"
   },
   {
    "duration": 28,
    "start_time": "2021-08-24T07:27:24.173Z"
   },
   {
    "duration": 208,
    "start_time": "2021-08-24T07:27:24.204Z"
   },
   {
    "duration": 2390,
    "start_time": "2021-08-24T07:27:24.416Z"
   },
   {
    "duration": 29,
    "start_time": "2021-08-24T07:28:01.789Z"
   },
   {
    "duration": 377,
    "start_time": "2021-08-24T07:37:21.963Z"
   },
   {
    "duration": 357,
    "start_time": "2021-08-24T07:37:51.691Z"
   },
   {
    "duration": 357,
    "start_time": "2021-08-24T07:38:31.191Z"
   },
   {
    "duration": 14,
    "start_time": "2021-08-24T07:38:54.167Z"
   },
   {
    "duration": 370,
    "start_time": "2021-08-24T07:39:08.688Z"
   },
   {
    "duration": 8661,
    "start_time": "2021-08-24T07:41:11.697Z"
   },
   {
    "duration": 8956,
    "start_time": "2021-08-24T07:42:40.450Z"
   },
   {
    "duration": 81,
    "start_time": "2021-08-24T07:42:59.247Z"
   },
   {
    "duration": 86,
    "start_time": "2021-08-24T07:43:04.035Z"
   },
   {
    "duration": 85,
    "start_time": "2021-08-24T07:44:18.591Z"
   },
   {
    "duration": 23,
    "start_time": "2021-08-24T07:47:59.606Z"
   },
   {
    "duration": 19,
    "start_time": "2021-08-24T07:48:19.594Z"
   },
   {
    "duration": 11,
    "start_time": "2021-08-24T07:48:44.686Z"
   },
   {
    "duration": 35,
    "start_time": "2021-08-24T09:09:43.176Z"
   },
   {
    "duration": 12,
    "start_time": "2021-08-24T09:11:49.840Z"
   },
   {
    "duration": 12,
    "start_time": "2021-08-24T09:12:03.780Z"
   },
   {
    "duration": 14,
    "start_time": "2021-08-24T09:12:23.103Z"
   },
   {
    "duration": 135,
    "start_time": "2021-08-24T09:23:23.810Z"
   },
   {
    "duration": 364,
    "start_time": "2021-08-24T09:24:39.276Z"
   },
   {
    "duration": 137,
    "start_time": "2021-08-24T09:25:50.438Z"
   },
   {
    "duration": 17,
    "start_time": "2021-08-24T09:26:00.076Z"
   },
   {
    "duration": 762,
    "start_time": "2021-08-24T09:26:11.900Z"
   },
   {
    "duration": 58,
    "start_time": "2021-08-24T09:26:12.665Z"
   },
   {
    "duration": 250,
    "start_time": "2021-08-24T09:26:12.726Z"
   },
   {
    "duration": 153,
    "start_time": "2021-08-24T09:26:12.979Z"
   },
   {
    "duration": 224,
    "start_time": "2021-08-24T09:26:13.135Z"
   },
   {
    "duration": 27,
    "start_time": "2021-08-24T09:26:13.366Z"
   },
   {
    "duration": 208,
    "start_time": "2021-08-24T09:26:13.395Z"
   },
   {
    "duration": 101,
    "start_time": "2021-08-24T09:26:13.606Z"
   },
   {
    "duration": 13,
    "start_time": "2021-08-24T09:26:13.710Z"
   },
   {
    "duration": 164,
    "start_time": "2021-08-24T09:26:13.726Z"
   },
   {
    "duration": 141,
    "start_time": "2021-08-24T09:26:48.408Z"
   },
   {
    "duration": 131,
    "start_time": "2021-08-24T09:27:27.959Z"
   },
   {
    "duration": 565,
    "start_time": "2021-08-24T09:29:59.399Z"
   },
   {
    "duration": 88,
    "start_time": "2021-08-24T09:30:42.415Z"
   },
   {
    "duration": 84,
    "start_time": "2021-08-24T09:30:58.819Z"
   },
   {
    "duration": 1228,
    "start_time": "2021-08-24T09:31:24.544Z"
   },
   {
    "duration": 56,
    "start_time": "2021-08-24T09:31:25.776Z"
   },
   {
    "duration": 260,
    "start_time": "2021-08-24T09:31:25.835Z"
   },
   {
    "duration": 156,
    "start_time": "2021-08-24T09:31:26.098Z"
   },
   {
    "duration": 227,
    "start_time": "2021-08-24T09:31:26.257Z"
   },
   {
    "duration": 26,
    "start_time": "2021-08-24T09:31:26.488Z"
   },
   {
    "duration": 231,
    "start_time": "2021-08-24T09:31:26.516Z"
   },
   {
    "duration": 104,
    "start_time": "2021-08-24T09:31:26.749Z"
   },
   {
    "duration": 216,
    "start_time": "2021-08-24T09:31:26.868Z"
   },
   {
    "duration": 573,
    "start_time": "2021-08-24T09:31:27.087Z"
   },
   {
    "duration": -6890709,
    "start_time": "2021-08-24T11:26:18.372Z"
   },
   {
    "duration": 90,
    "start_time": "2021-08-24T09:32:17.605Z"
   },
   {
    "duration": 85,
    "start_time": "2021-08-24T09:32:47.386Z"
   },
   {
    "duration": 141,
    "start_time": "2021-08-24T09:33:51.289Z"
   },
   {
    "duration": 95,
    "start_time": "2021-08-24T09:34:25.906Z"
   },
   {
    "duration": 104,
    "start_time": "2021-08-24T09:35:09.075Z"
   },
   {
    "duration": 143,
    "start_time": "2021-08-24T09:35:15.981Z"
   },
   {
    "duration": 313,
    "start_time": "2021-08-24T09:36:30.213Z"
   },
   {
    "duration": 84,
    "start_time": "2021-08-24T09:36:35.981Z"
   },
   {
    "duration": 129,
    "start_time": "2021-08-24T09:39:59.372Z"
   },
   {
    "duration": 110,
    "start_time": "2021-08-24T09:40:35.845Z"
   },
   {
    "duration": 136,
    "start_time": "2021-08-24T09:40:46.705Z"
   },
   {
    "duration": 1402,
    "start_time": "2021-08-24T09:41:28.761Z"
   },
   {
    "duration": 335,
    "start_time": "2021-08-24T09:41:49.944Z"
   },
   {
    "duration": 96,
    "start_time": "2021-08-24T09:42:11.744Z"
   },
   {
    "duration": 130,
    "start_time": "2021-08-24T09:42:26.881Z"
   },
   {
    "duration": 114,
    "start_time": "2021-08-24T09:43:01.557Z"
   },
   {
    "duration": 460,
    "start_time": "2021-08-24T09:43:41.969Z"
   },
   {
    "duration": 429,
    "start_time": "2021-08-24T09:43:48.756Z"
   },
   {
    "duration": 389,
    "start_time": "2021-08-24T09:44:06.413Z"
   },
   {
    "duration": 378,
    "start_time": "2021-08-24T09:44:16.944Z"
   },
   {
    "duration": 84,
    "start_time": "2021-08-24T09:44:23.876Z"
   },
   {
    "duration": 89,
    "start_time": "2021-08-24T09:47:52.200Z"
   },
   {
    "duration": 86,
    "start_time": "2021-08-24T09:48:11.984Z"
   },
   {
    "duration": 89,
    "start_time": "2021-08-24T09:48:23.415Z"
   },
   {
    "duration": 86,
    "start_time": "2021-08-24T09:49:01.328Z"
   },
   {
    "duration": 87,
    "start_time": "2021-08-24T09:49:12.820Z"
   },
   {
    "duration": 83,
    "start_time": "2021-08-24T09:50:19.224Z"
   },
   {
    "duration": 114,
    "start_time": "2021-08-24T09:57:53.771Z"
   },
   {
    "duration": 102,
    "start_time": "2021-08-24T10:00:04.130Z"
   },
   {
    "duration": 1543,
    "start_time": "2021-08-24T10:01:59.132Z"
   },
   {
    "duration": 80,
    "start_time": "2021-08-24T10:02:00.678Z"
   },
   {
    "duration": 360,
    "start_time": "2021-08-24T10:02:00.761Z"
   },
   {
    "duration": 215,
    "start_time": "2021-08-24T10:02:01.124Z"
   },
   {
    "duration": 236,
    "start_time": "2021-08-24T10:02:01.342Z"
   },
   {
    "duration": 34,
    "start_time": "2021-08-24T10:02:01.581Z"
   },
   {
    "duration": 284,
    "start_time": "2021-08-24T10:02:01.617Z"
   },
   {
    "duration": 120,
    "start_time": "2021-08-24T10:02:01.904Z"
   },
   {
    "duration": 179,
    "start_time": "2021-08-24T10:02:02.027Z"
   },
   {
    "duration": 771,
    "start_time": "2021-08-24T10:02:02.208Z"
   },
   {
    "duration": -6891939,
    "start_time": "2021-08-24T11:56:54.922Z"
   },
   {
    "duration": 103,
    "start_time": "2021-08-24T10:03:32.952Z"
   },
   {
    "duration": 95,
    "start_time": "2021-08-24T10:03:41.211Z"
   },
   {
    "duration": 91,
    "start_time": "2021-08-24T10:08:35.995Z"
   },
   {
    "duration": 114,
    "start_time": "2021-08-24T10:08:47.164Z"
   },
   {
    "duration": 205,
    "start_time": "2021-08-24T10:13:29.231Z"
   },
   {
    "duration": 33,
    "start_time": "2021-08-24T10:16:56.754Z"
   },
   {
    "duration": 40,
    "start_time": "2021-08-24T10:18:26.462Z"
   },
   {
    "duration": 100,
    "start_time": "2021-08-24T10:18:33.719Z"
   },
   {
    "duration": 44,
    "start_time": "2021-08-24T10:24:58.397Z"
   },
   {
    "duration": 64,
    "start_time": "2021-08-24T10:25:06.348Z"
   },
   {
    "duration": 61,
    "start_time": "2021-08-24T10:27:59.769Z"
   },
   {
    "duration": 23,
    "start_time": "2021-08-24T10:43:23.700Z"
   },
   {
    "duration": 62,
    "start_time": "2021-08-24T10:43:25.563Z"
   },
   {
    "duration": 76,
    "start_time": "2021-08-24T10:44:09.404Z"
   },
   {
    "duration": 60,
    "start_time": "2021-08-24T10:44:47.156Z"
   },
   {
    "duration": 117,
    "start_time": "2021-08-24T10:45:52.171Z"
   },
   {
    "duration": 25,
    "start_time": "2021-08-24T10:46:35.047Z"
   },
   {
    "duration": 58,
    "start_time": "2021-08-24T10:48:16.015Z"
   },
   {
    "duration": 103,
    "start_time": "2021-08-24T10:51:24.947Z"
   },
   {
    "duration": 54,
    "start_time": "2021-08-24T10:51:27.835Z"
   },
   {
    "duration": 102,
    "start_time": "2021-08-24T10:53:08.451Z"
   },
   {
    "duration": 63,
    "start_time": "2021-08-24T10:53:10.586Z"
   },
   {
    "duration": 397,
    "start_time": "2021-08-24T11:07:59.577Z"
   },
   {
    "duration": 395,
    "start_time": "2021-08-24T11:10:13.199Z"
   },
   {
    "duration": 362,
    "start_time": "2021-08-24T11:11:01.985Z"
   },
   {
    "duration": 8200,
    "start_time": "2021-08-24T11:23:33.375Z"
   },
   {
    "duration": 6,
    "start_time": "2021-08-24T11:23:46.795Z"
   },
   {
    "duration": 76,
    "start_time": "2021-08-24T11:24:55.135Z"
   },
   {
    "duration": 77,
    "start_time": "2021-08-24T11:25:24.290Z"
   },
   {
    "duration": 87,
    "start_time": "2021-08-24T11:26:47.299Z"
   },
   {
    "duration": 71,
    "start_time": "2021-08-24T11:26:59.243Z"
   },
   {
    "duration": 81,
    "start_time": "2021-08-24T11:27:40.358Z"
   },
   {
    "duration": 79,
    "start_time": "2021-08-24T11:28:03.662Z"
   },
   {
    "duration": 6440,
    "start_time": "2021-08-24T11:46:51.361Z"
   },
   {
    "duration": 1131,
    "start_time": "2021-08-24T11:47:31.937Z"
   },
   {
    "duration": 754,
    "start_time": "2021-08-24T11:52:00.107Z"
   },
   {
    "duration": 90,
    "start_time": "2021-08-24T11:52:00.866Z"
   },
   {
    "duration": 237,
    "start_time": "2021-08-24T11:52:00.960Z"
   },
   {
    "duration": 144,
    "start_time": "2021-08-24T11:52:01.201Z"
   },
   {
    "duration": 219,
    "start_time": "2021-08-24T11:52:01.348Z"
   },
   {
    "duration": 25,
    "start_time": "2021-08-24T11:52:01.570Z"
   },
   {
    "duration": 232,
    "start_time": "2021-08-24T11:52:01.598Z"
   },
   {
    "duration": 122,
    "start_time": "2021-08-24T11:52:01.835Z"
   },
   {
    "duration": 164,
    "start_time": "2021-08-24T11:52:01.960Z"
   },
   {
    "duration": 44,
    "start_time": "2021-08-24T11:52:02.127Z"
   },
   {
    "duration": 96,
    "start_time": "2021-08-24T11:52:02.173Z"
   },
   {
    "duration": 104,
    "start_time": "2021-08-24T11:52:02.271Z"
   },
   {
    "duration": 21,
    "start_time": "2021-08-24T11:52:02.377Z"
   },
   {
    "duration": 105,
    "start_time": "2021-08-24T11:52:02.400Z"
   },
   {
    "duration": 25,
    "start_time": "2021-08-24T11:52:02.507Z"
   },
   {
    "duration": 122,
    "start_time": "2021-08-24T11:52:02.534Z"
   },
   {
    "duration": 81,
    "start_time": "2021-08-24T11:52:02.659Z"
   },
   {
    "duration": 5933,
    "start_time": "2021-08-24T11:52:02.742Z"
   },
   {
    "duration": -6890807,
    "start_time": "2021-08-24T13:46:59.484Z"
   },
   {
    "duration": 11435,
    "start_time": "2021-08-24T11:52:35.059Z"
   },
   {
    "duration": 753,
    "start_time": "2021-08-24T11:54:13.523Z"
   },
   {
    "duration": 73,
    "start_time": "2021-08-24T11:54:14.278Z"
   },
   {
    "duration": 242,
    "start_time": "2021-08-24T11:54:14.354Z"
   },
   {
    "duration": 169,
    "start_time": "2021-08-24T11:54:14.599Z"
   },
   {
    "duration": 414,
    "start_time": "2021-08-24T11:54:14.771Z"
   },
   {
    "duration": 25,
    "start_time": "2021-08-24T11:54:15.187Z"
   },
   {
    "duration": 371,
    "start_time": "2021-08-24T11:54:15.215Z"
   },
   {
    "duration": 116,
    "start_time": "2021-08-24T11:54:15.590Z"
   },
   {
    "duration": 152,
    "start_time": "2021-08-24T11:54:15.709Z"
   },
   {
    "duration": 32,
    "start_time": "2021-08-24T11:54:15.867Z"
   },
   {
    "duration": 107,
    "start_time": "2021-08-24T11:54:15.901Z"
   },
   {
    "duration": 91,
    "start_time": "2021-08-24T11:54:16.011Z"
   },
   {
    "duration": 21,
    "start_time": "2021-08-24T11:54:16.104Z"
   },
   {
    "duration": 102,
    "start_time": "2021-08-24T11:54:16.128Z"
   },
   {
    "duration": 37,
    "start_time": "2021-08-24T11:54:16.232Z"
   },
   {
    "duration": 112,
    "start_time": "2021-08-24T11:54:16.272Z"
   },
   {
    "duration": 86,
    "start_time": "2021-08-24T11:54:16.387Z"
   },
   {
    "duration": 627,
    "start_time": "2021-08-24T11:54:16.476Z"
   },
   {
    "duration": 106,
    "start_time": "2021-08-24T11:54:17.120Z"
   },
   {
    "duration": 581,
    "start_time": "2021-08-24T11:55:00.059Z"
   },
   {
    "duration": 590,
    "start_time": "2021-08-24T11:55:42.411Z"
   },
   {
    "duration": 1407,
    "start_time": "2021-08-24T12:04:15.838Z"
   },
   {
    "duration": 581,
    "start_time": "2021-08-24T12:05:29.250Z"
   },
   {
    "duration": 591,
    "start_time": "2021-08-24T12:06:12.402Z"
   },
   {
    "duration": 1122,
    "start_time": "2021-08-24T12:06:37.334Z"
   },
   {
    "duration": 180,
    "start_time": "2021-08-24T12:08:53.822Z"
   },
   {
    "duration": 399,
    "start_time": "2021-08-24T12:09:34.082Z"
   },
   {
    "duration": 302,
    "start_time": "2021-08-24T12:10:50.850Z"
   },
   {
    "duration": 42,
    "start_time": "2021-08-24T12:11:28.581Z"
   },
   {
    "duration": 333,
    "start_time": "2021-08-24T12:13:31.037Z"
   },
   {
    "duration": 35,
    "start_time": "2021-08-24T12:14:15.217Z"
   },
   {
    "duration": 320,
    "start_time": "2021-08-24T12:15:06.921Z"
   },
   {
    "duration": 308,
    "start_time": "2021-08-24T12:16:25.049Z"
   },
   {
    "duration": 182,
    "start_time": "2021-08-24T12:17:18.377Z"
   },
   {
    "duration": 351,
    "start_time": "2021-08-24T12:17:21.393Z"
   },
   {
    "duration": 5847,
    "start_time": "2021-08-24T12:18:27.949Z"
   },
   {
    "duration": 388,
    "start_time": "2021-08-24T14:15:52.633Z"
   },
   {
    "duration": 956,
    "start_time": "2021-08-24T14:16:25.261Z"
   },
   {
    "duration": 5542,
    "start_time": "2021-08-24T14:17:18.901Z"
   },
   {
    "duration": 4796,
    "start_time": "2021-08-24T14:17:35.053Z"
   },
   {
    "duration": 5623,
    "start_time": "2021-08-24T14:17:54.217Z"
   },
   {
    "duration": 2225,
    "start_time": "2021-08-24T14:18:35.169Z"
   },
   {
    "duration": 953,
    "start_time": "2021-08-24T14:18:46.836Z"
   },
   {
    "duration": 175,
    "start_time": "2021-08-24T14:18:47.792Z"
   },
   {
    "duration": 618,
    "start_time": "2021-08-24T14:18:47.972Z"
   },
   {
    "duration": 173,
    "start_time": "2021-08-24T14:18:48.594Z"
   },
   {
    "duration": 237,
    "start_time": "2021-08-24T14:18:48.770Z"
   },
   {
    "duration": 28,
    "start_time": "2021-08-24T14:18:49.011Z"
   },
   {
    "duration": 249,
    "start_time": "2021-08-24T14:18:49.041Z"
   },
   {
    "duration": 128,
    "start_time": "2021-08-24T14:18:49.294Z"
   },
   {
    "duration": 180,
    "start_time": "2021-08-24T14:18:49.425Z"
   },
   {
    "duration": 35,
    "start_time": "2021-08-24T14:18:49.608Z"
   },
   {
    "duration": 125,
    "start_time": "2021-08-24T14:18:49.645Z"
   },
   {
    "duration": 121,
    "start_time": "2021-08-24T14:18:49.773Z"
   },
   {
    "duration": 23,
    "start_time": "2021-08-24T14:18:49.898Z"
   },
   {
    "duration": 111,
    "start_time": "2021-08-24T14:18:49.923Z"
   },
   {
    "duration": 44,
    "start_time": "2021-08-24T14:18:50.036Z"
   },
   {
    "duration": 127,
    "start_time": "2021-08-24T14:18:50.084Z"
   },
   {
    "duration": 100,
    "start_time": "2021-08-24T14:18:50.214Z"
   },
   {
    "duration": 1570,
    "start_time": "2021-08-24T14:18:50.317Z"
   },
   {
    "duration": 506,
    "start_time": "2021-08-24T14:18:51.890Z"
   },
   {
    "duration": 5688,
    "start_time": "2021-08-24T14:19:34.437Z"
   },
   {
    "duration": 1443,
    "start_time": "2021-08-24T14:19:49.551Z"
   },
   {
    "duration": 289,
    "start_time": "2021-08-24T14:21:26.195Z"
   },
   {
    "duration": 597,
    "start_time": "2021-08-24T14:22:13.603Z"
   },
   {
    "duration": 714,
    "start_time": "2021-08-24T14:23:04.686Z"
   },
   {
    "duration": 301,
    "start_time": "2021-08-24T14:25:30.643Z"
   },
   {
    "duration": 301,
    "start_time": "2021-08-24T14:26:55.122Z"
   },
   {
    "duration": 272,
    "start_time": "2021-08-24T14:27:18.722Z"
   },
   {
    "duration": 425,
    "start_time": "2021-08-24T14:28:15.121Z"
   },
   {
    "duration": 595,
    "start_time": "2021-08-24T14:28:45.854Z"
   },
   {
    "duration": 321,
    "start_time": "2021-08-24T14:29:33.070Z"
   },
   {
    "duration": 590,
    "start_time": "2021-08-24T14:29:48.766Z"
   },
   {
    "duration": 122,
    "start_time": "2021-08-24T14:30:24.818Z"
   },
   {
    "duration": 6,
    "start_time": "2021-08-24T14:30:30.282Z"
   },
   {
    "duration": 655,
    "start_time": "2021-08-24T14:31:03.458Z"
   },
   {
    "duration": 603,
    "start_time": "2021-08-24T14:31:26.041Z"
   },
   {
    "duration": 3484,
    "start_time": "2021-08-24T14:31:40.970Z"
   },
   {
    "duration": 816,
    "start_time": "2021-08-24T14:31:53.209Z"
   },
   {
    "duration": 5,
    "start_time": "2021-08-24T14:35:42.425Z"
   },
   {
    "duration": 165,
    "start_time": "2021-08-24T14:36:03.521Z"
   },
   {
    "duration": 277,
    "start_time": "2021-08-24T14:36:24.321Z"
   },
   {
    "duration": 273,
    "start_time": "2021-08-24T14:36:55.057Z"
   },
   {
    "duration": 275,
    "start_time": "2021-08-24T14:37:02.937Z"
   },
   {
    "duration": 274,
    "start_time": "2021-08-24T14:37:51.073Z"
   },
   {
    "duration": 106,
    "start_time": "2021-08-24T14:38:16.960Z"
   },
   {
    "duration": 139,
    "start_time": "2021-08-24T14:38:48.084Z"
   },
   {
    "duration": 270,
    "start_time": "2021-08-24T14:39:07.593Z"
   },
   {
    "duration": 286,
    "start_time": "2021-08-24T14:39:55.245Z"
   },
   {
    "duration": 5681,
    "start_time": "2021-08-24T15:13:35.558Z"
   },
   {
    "duration": 5157,
    "start_time": "2021-08-24T15:13:50.882Z"
   },
   {
    "duration": 269,
    "start_time": "2021-08-24T15:19:02.829Z"
   },
   {
    "duration": 376,
    "start_time": "2021-08-24T15:19:09.977Z"
   },
   {
    "duration": 14,
    "start_time": "2021-08-24T15:19:27.284Z"
   },
   {
    "duration": 351,
    "start_time": "2021-08-24T15:19:56.037Z"
   },
   {
    "duration": 18,
    "start_time": "2021-08-24T15:20:05.413Z"
   },
   {
    "duration": 323,
    "start_time": "2021-08-24T15:24:05.940Z"
   },
   {
    "duration": 193,
    "start_time": "2021-08-24T15:24:14.036Z"
   },
   {
    "duration": 109,
    "start_time": "2021-08-24T15:27:36.851Z"
   },
   {
    "duration": 4,
    "start_time": "2021-08-24T15:27:52.248Z"
   },
   {
    "duration": 14,
    "start_time": "2021-08-24T15:27:56.987Z"
   },
   {
    "duration": 55,
    "start_time": "2021-08-24T15:28:36.591Z"
   },
   {
    "duration": 361,
    "start_time": "2021-08-24T15:28:51.815Z"
   },
   {
    "duration": 319,
    "start_time": "2021-08-24T15:28:56.755Z"
   },
   {
    "duration": 52,
    "start_time": "2021-08-24T15:29:04.291Z"
   },
   {
    "duration": 9563,
    "start_time": "2021-08-24T15:29:37.575Z"
   },
   {
    "duration": 10200,
    "start_time": "2021-08-24T15:29:52.759Z"
   },
   {
    "duration": -6890681,
    "start_time": "2021-08-24T17:26:30.487Z"
   },
   {
    "duration": 49,
    "start_time": "2021-08-24T15:31:41.795Z"
   },
   {
    "duration": 115,
    "start_time": "2021-08-24T15:36:46.450Z"
   },
   {
    "duration": 382,
    "start_time": "2021-08-24T15:36:52.746Z"
   },
   {
    "duration": 287,
    "start_time": "2021-08-25T10:00:31.890Z"
   },
   {
    "duration": 258,
    "start_time": "2021-08-25T10:00:49.193Z"
   },
   {
    "duration": 607,
    "start_time": "2021-08-25T10:00:58.500Z"
   },
   {
    "duration": 45,
    "start_time": "2021-08-25T10:00:59.109Z"
   },
   {
    "duration": 182,
    "start_time": "2021-08-25T10:00:59.156Z"
   },
   {
    "duration": 110,
    "start_time": "2021-08-25T10:00:59.340Z"
   },
   {
    "duration": 165,
    "start_time": "2021-08-25T10:00:59.452Z"
   },
   {
    "duration": 21,
    "start_time": "2021-08-25T10:00:59.619Z"
   },
   {
    "duration": 143,
    "start_time": "2021-08-25T10:00:59.641Z"
   },
   {
    "duration": 76,
    "start_time": "2021-08-25T10:00:59.786Z"
   },
   {
    "duration": 111,
    "start_time": "2021-08-25T10:00:59.864Z"
   },
   {
    "duration": 28,
    "start_time": "2021-08-25T10:00:59.977Z"
   },
   {
    "duration": 62,
    "start_time": "2021-08-25T10:01:00.008Z"
   },
   {
    "duration": 59,
    "start_time": "2021-08-25T10:01:00.091Z"
   },
   {
    "duration": 14,
    "start_time": "2021-08-25T10:01:00.152Z"
   },
   {
    "duration": 80,
    "start_time": "2021-08-25T10:01:00.167Z"
   },
   {
    "duration": 17,
    "start_time": "2021-08-25T10:01:00.248Z"
   },
   {
    "duration": 83,
    "start_time": "2021-08-25T10:01:00.267Z"
   },
   {
    "duration": 63,
    "start_time": "2021-08-25T10:01:00.352Z"
   },
   {
    "duration": 358,
    "start_time": "2021-08-25T10:01:00.417Z"
   },
   {
    "duration": 249,
    "start_time": "2021-08-25T10:01:27.081Z"
   },
   {
    "duration": 238,
    "start_time": "2021-08-25T10:01:43.649Z"
   },
   {
    "duration": 248,
    "start_time": "2021-08-25T10:01:53.565Z"
   },
   {
    "duration": 384,
    "start_time": "2021-08-25T10:03:10.873Z"
   },
   {
    "duration": 6742,
    "start_time": "2021-08-25T10:04:30.013Z"
   },
   {
    "duration": 11172,
    "start_time": "2021-08-25T10:04:59.705Z"
   },
   {
    "duration": 4,
    "start_time": "2021-08-25T10:09:44.041Z"
   },
   {
    "duration": 1506,
    "start_time": "2021-08-25T10:10:02.949Z"
   },
   {
    "duration": 448,
    "start_time": "2021-08-25T10:11:02.385Z"
   },
   {
    "duration": 509,
    "start_time": "2021-08-25T10:11:37.921Z"
   },
   {
    "duration": 437,
    "start_time": "2021-08-25T10:15:49.936Z"
   },
   {
    "duration": 4631,
    "start_time": "2021-08-25T10:16:18.952Z"
   },
   {
    "duration": 53,
    "start_time": "2021-08-25T10:16:53.824Z"
   },
   {
    "duration": 134,
    "start_time": "2021-08-25T10:17:36.048Z"
   },
   {
    "duration": 251,
    "start_time": "2021-08-25T10:18:26.432Z"
   },
   {
    "duration": 51,
    "start_time": "2021-08-25T10:18:32.801Z"
   },
   {
    "duration": 49,
    "start_time": "2021-08-25T10:18:49.020Z"
   },
   {
    "duration": 118,
    "start_time": "2021-08-25T10:19:17.948Z"
   },
   {
    "duration": 114,
    "start_time": "2021-08-25T10:20:31.791Z"
   },
   {
    "duration": 701,
    "start_time": "2021-08-25T10:21:04.464Z"
   },
   {
    "duration": 1138,
    "start_time": "2021-08-25T10:23:35.886Z"
   },
   {
    "duration": 1340,
    "start_time": "2021-08-25T10:24:10.471Z"
   },
   {
    "duration": 937,
    "start_time": "2021-08-25T10:24:40.695Z"
   },
   {
    "duration": 629,
    "start_time": "2021-08-25T10:41:39.532Z"
   },
   {
    "duration": 981,
    "start_time": "2021-08-25T10:42:23.994Z"
   },
   {
    "duration": 603,
    "start_time": "2021-08-25T10:42:55.452Z"
   },
   {
    "duration": 294,
    "start_time": "2021-08-25T10:50:07.888Z"
   },
   {
    "duration": 60,
    "start_time": "2021-08-25T10:55:43.182Z"
   },
   {
    "duration": 118,
    "start_time": "2021-08-25T10:55:51.650Z"
   },
   {
    "duration": 127,
    "start_time": "2021-08-25T10:59:08.042Z"
   },
   {
    "duration": 119,
    "start_time": "2021-08-25T11:01:53.554Z"
   },
   {
    "duration": 54,
    "start_time": "2021-08-25T11:02:08.838Z"
   },
   {
    "duration": 55,
    "start_time": "2021-08-25T11:02:31.550Z"
   },
   {
    "duration": 52,
    "start_time": "2021-08-25T11:03:00.838Z"
   },
   {
    "duration": 115,
    "start_time": "2021-08-25T11:03:19.645Z"
   },
   {
    "duration": 2482,
    "start_time": "2021-08-25T11:03:45.418Z"
   },
   {
    "duration": 276,
    "start_time": "2021-08-26T05:58:56.383Z"
   },
   {
    "duration": 628,
    "start_time": "2021-08-26T05:59:03.614Z"
   },
   {
    "duration": 47,
    "start_time": "2021-08-26T05:59:04.244Z"
   },
   {
    "duration": 169,
    "start_time": "2021-08-26T05:59:04.293Z"
   },
   {
    "duration": 100,
    "start_time": "2021-08-26T05:59:04.463Z"
   },
   {
    "duration": 155,
    "start_time": "2021-08-26T05:59:04.565Z"
   },
   {
    "duration": 22,
    "start_time": "2021-08-26T05:59:04.722Z"
   },
   {
    "duration": 145,
    "start_time": "2021-08-26T05:59:04.745Z"
   },
   {
    "duration": 82,
    "start_time": "2021-08-26T05:59:04.892Z"
   },
   {
    "duration": 174,
    "start_time": "2021-08-26T05:59:04.976Z"
   },
   {
    "duration": 21,
    "start_time": "2021-08-26T05:59:05.151Z"
   },
   {
    "duration": 107,
    "start_time": "2021-08-26T05:59:05.173Z"
   },
   {
    "duration": 110,
    "start_time": "2021-08-26T05:59:05.282Z"
   },
   {
    "duration": 59,
    "start_time": "2021-08-26T05:59:05.393Z"
   },
   {
    "duration": 51,
    "start_time": "2021-08-26T05:59:05.453Z"
   },
   {
    "duration": 16,
    "start_time": "2021-08-26T05:59:05.505Z"
   },
   {
    "duration": 9,
    "start_time": "2021-08-26T05:59:05.541Z"
   },
   {
    "duration": 55,
    "start_time": "2021-08-26T05:59:05.552Z"
   },
   {
    "duration": 2436,
    "start_time": "2021-08-26T05:59:05.608Z"
   },
   {
    "duration": 35,
    "start_time": "2021-08-26T05:59:20.114Z"
   },
   {
    "duration": 346,
    "start_time": "2021-08-26T06:00:40.130Z"
   },
   {
    "duration": 308,
    "start_time": "2021-08-26T06:00:58.366Z"
   },
   {
    "duration": 381,
    "start_time": "2021-08-26T06:01:18.947Z"
   },
   {
    "duration": 307,
    "start_time": "2021-08-26T06:02:06.954Z"
   },
   {
    "duration": 307,
    "start_time": "2021-08-26T06:04:27.773Z"
   },
   {
    "duration": 290,
    "start_time": "2021-08-26T06:04:50.833Z"
   },
   {
    "duration": 36,
    "start_time": "2021-08-26T06:05:17.386Z"
   },
   {
    "duration": 303,
    "start_time": "2021-08-26T06:09:20.437Z"
   },
   {
    "duration": 417,
    "start_time": "2021-08-26T06:09:42.560Z"
   },
   {
    "duration": 566,
    "start_time": "2021-08-26T06:11:01.401Z"
   },
   {
    "duration": 261,
    "start_time": "2021-08-26T06:11:08.669Z"
   },
   {
    "duration": 2,
    "start_time": "2021-08-26T06:11:28.293Z"
   },
   {
    "duration": 282,
    "start_time": "2021-08-26T06:11:44.401Z"
   },
   {
    "duration": 35,
    "start_time": "2021-08-26T06:12:16.589Z"
   },
   {
    "duration": 33,
    "start_time": "2021-08-26T06:13:09.573Z"
   },
   {
    "duration": 21,
    "start_time": "2021-08-26T06:13:17.112Z"
   },
   {
    "duration": 33,
    "start_time": "2021-08-26T06:13:21.273Z"
   },
   {
    "duration": 505,
    "start_time": "2021-08-26T06:13:41.453Z"
   },
   {
    "duration": 33,
    "start_time": "2021-08-26T06:13:48.389Z"
   },
   {
    "duration": 4,
    "start_time": "2021-08-26T06:14:15.828Z"
   },
   {
    "duration": 3636,
    "start_time": "2021-08-26T06:16:09.225Z"
   },
   {
    "duration": 34,
    "start_time": "2021-08-26T06:22:37.606Z"
   },
   {
    "duration": 37,
    "start_time": "2021-08-26T06:24:03.333Z"
   },
   {
    "duration": 34,
    "start_time": "2021-08-26T06:24:14.302Z"
   },
   {
    "duration": 37,
    "start_time": "2021-08-26T06:25:03.977Z"
   },
   {
    "duration": 12,
    "start_time": "2021-08-26T06:31:42.964Z"
   },
   {
    "duration": 421,
    "start_time": "2021-08-26T06:33:19.959Z"
   },
   {
    "duration": 39,
    "start_time": "2021-08-26T06:33:49.584Z"
   },
   {
    "duration": 80,
    "start_time": "2021-08-26T06:34:00.628Z"
   },
   {
    "duration": 46,
    "start_time": "2021-08-26T06:34:17.739Z"
   },
   {
    "duration": 5368,
    "start_time": "2021-08-26T06:37:43.187Z"
   },
   {
    "duration": 48,
    "start_time": "2021-08-26T06:40:49.222Z"
   },
   {
    "duration": 41,
    "start_time": "2021-08-26T06:41:10.355Z"
   },
   {
    "duration": 113,
    "start_time": "2021-08-26T06:41:18.807Z"
   },
   {
    "duration": 109,
    "start_time": "2021-08-26T06:41:34.607Z"
   },
   {
    "duration": 38,
    "start_time": "2021-08-26T06:43:38.479Z"
   },
   {
    "duration": 613,
    "start_time": "2021-08-26T06:43:40.445Z"
   },
   {
    "duration": 502,
    "start_time": "2021-08-26T06:44:17.714Z"
   },
   {
    "duration": 703,
    "start_time": "2021-08-26T06:45:46.402Z"
   },
   {
    "duration": 640,
    "start_time": "2021-08-26T06:46:34.946Z"
   },
   {
    "duration": 628,
    "start_time": "2021-08-26T06:46:50.066Z"
   },
   {
    "duration": 633,
    "start_time": "2021-08-26T06:47:06.058Z"
   },
   {
    "duration": 770,
    "start_time": "2021-08-26T06:47:10.002Z"
   },
   {
    "duration": 618,
    "start_time": "2021-08-26T06:47:24.660Z"
   },
   {
    "duration": 687,
    "start_time": "2021-08-26T06:47:43.218Z"
   },
   {
    "duration": 46,
    "start_time": "2021-08-26T06:48:15.185Z"
   },
   {
    "duration": 1157,
    "start_time": "2021-08-26T06:48:20.106Z"
   },
   {
    "duration": 603,
    "start_time": "2021-08-26T06:49:21.626Z"
   },
   {
    "duration": 658,
    "start_time": "2021-08-26T06:49:56.589Z"
   },
   {
    "duration": 447,
    "start_time": "2021-08-26T06:51:15.917Z"
   },
   {
    "duration": 8917,
    "start_time": "2021-08-26T06:52:11.766Z"
   },
   {
    "duration": 3800,
    "start_time": "2021-08-26T07:19:50.015Z"
   },
   {
    "duration": 4918,
    "start_time": "2021-08-26T07:20:10.952Z"
   },
   {
    "duration": 226,
    "start_time": "2021-08-26T07:20:44.317Z"
   },
   {
    "duration": 490,
    "start_time": "2021-08-26T07:22:58.274Z"
   },
   {
    "duration": 35,
    "start_time": "2021-08-26T07:23:12.266Z"
   },
   {
    "duration": 667,
    "start_time": "2021-08-26T07:23:13.826Z"
   },
   {
    "duration": 740,
    "start_time": "2021-08-26T07:24:16.814Z"
   },
   {
    "duration": 657,
    "start_time": "2021-08-26T07:29:07.362Z"
   },
   {
    "duration": 684,
    "start_time": "2021-08-26T07:30:52.237Z"
   },
   {
    "duration": 501,
    "start_time": "2021-08-26T07:32:05.259Z"
   },
   {
    "duration": 1098,
    "start_time": "2021-08-26T07:32:23.029Z"
   },
   {
    "duration": 693,
    "start_time": "2021-08-26T07:32:33.777Z"
   },
   {
    "duration": 699,
    "start_time": "2021-08-26T07:33:30.309Z"
   },
   {
    "duration": 191,
    "start_time": "2021-08-26T07:33:36.857Z"
   },
   {
    "duration": 758,
    "start_time": "2021-08-26T07:33:43.861Z"
   },
   {
    "duration": 697,
    "start_time": "2021-08-26T07:34:44.129Z"
   },
   {
    "duration": 2521,
    "start_time": "2021-08-26T07:35:22.009Z"
   },
   {
    "duration": 471,
    "start_time": "2021-08-26T07:36:17.749Z"
   },
   {
    "duration": 807,
    "start_time": "2021-08-26T09:24:32.146Z"
   },
   {
    "duration": 1003,
    "start_time": "2021-08-26T09:24:44.864Z"
   },
   {
    "duration": 1581,
    "start_time": "2021-08-26T09:25:20.110Z"
   },
   {
    "duration": 885,
    "start_time": "2021-08-26T09:25:34.769Z"
   },
   {
    "duration": 98,
    "start_time": "2021-08-26T09:27:02.722Z"
   },
   {
    "duration": 699,
    "start_time": "2021-08-26T09:27:07.210Z"
   },
   {
    "duration": 719,
    "start_time": "2021-08-26T09:28:06.653Z"
   },
   {
    "duration": 720,
    "start_time": "2021-08-26T09:28:29.373Z"
   },
   {
    "duration": 731,
    "start_time": "2021-08-26T09:28:41.069Z"
   },
   {
    "duration": 736,
    "start_time": "2021-08-26T09:30:53.153Z"
   },
   {
    "duration": 729,
    "start_time": "2021-08-26T09:31:09.889Z"
   },
   {
    "duration": 833,
    "start_time": "2021-08-26T09:31:21.558Z"
   },
   {
    "duration": 2379,
    "start_time": "2021-08-26T09:31:34.043Z"
   },
   {
    "duration": 756,
    "start_time": "2021-08-26T09:31:50.165Z"
   },
   {
    "duration": 876,
    "start_time": "2021-08-26T09:33:51.485Z"
   },
   {
    "duration": 956,
    "start_time": "2021-08-26T09:36:37.437Z"
   },
   {
    "duration": 899,
    "start_time": "2021-08-26T09:36:47.750Z"
   },
   {
    "duration": 943,
    "start_time": "2021-08-26T09:37:44.653Z"
   },
   {
    "duration": 925,
    "start_time": "2021-08-26T09:38:00.872Z"
   },
   {
    "duration": 926,
    "start_time": "2021-08-26T09:38:26.496Z"
   },
   {
    "duration": 700,
    "start_time": "2021-08-26T09:46:09.000Z"
   },
   {
    "duration": 727,
    "start_time": "2021-08-26T09:46:56.140Z"
   },
   {
    "duration": 777,
    "start_time": "2021-08-26T09:47:35.072Z"
   },
   {
    "duration": 465,
    "start_time": "2021-08-26T09:48:11.815Z"
   },
   {
    "duration": 564,
    "start_time": "2021-08-26T09:48:47.711Z"
   },
   {
    "duration": 4,
    "start_time": "2021-08-26T09:50:02.579Z"
   },
   {
    "duration": 41,
    "start_time": "2021-08-26T09:50:05.848Z"
   },
   {
    "duration": 839,
    "start_time": "2021-08-26T10:10:41.561Z"
   },
   {
    "duration": 654,
    "start_time": "2021-08-26T10:14:51.674Z"
   },
   {
    "duration": 716,
    "start_time": "2021-08-26T10:15:52.445Z"
   },
   {
    "duration": 748,
    "start_time": "2021-08-26T10:26:25.435Z"
   },
   {
    "duration": 727,
    "start_time": "2021-08-26T10:26:43.321Z"
   },
   {
    "duration": 4,
    "start_time": "2021-08-26T10:26:51.116Z"
   },
   {
    "duration": 708,
    "start_time": "2021-08-26T10:26:55.898Z"
   },
   {
    "duration": 714,
    "start_time": "2021-08-26T10:27:04.792Z"
   },
   {
    "duration": 87,
    "start_time": "2021-08-26T10:27:58.212Z"
   },
   {
    "duration": 628,
    "start_time": "2021-08-26T10:28:11.414Z"
   },
   {
    "duration": 581,
    "start_time": "2021-08-26T10:28:40.115Z"
   },
   {
    "duration": 853,
    "start_time": "2021-08-26T10:31:06.707Z"
   },
   {
    "duration": 865,
    "start_time": "2021-08-26T10:31:26.904Z"
   },
   {
    "duration": 858,
    "start_time": "2021-08-26T10:31:36.231Z"
   },
   {
    "duration": 1334,
    "start_time": "2021-08-26T10:31:56.248Z"
   },
   {
    "duration": 17,
    "start_time": "2021-08-26T10:32:40.219Z"
   },
   {
    "duration": 899,
    "start_time": "2021-08-26T10:32:50.279Z"
   },
   {
    "duration": 823,
    "start_time": "2021-08-26T10:33:38.679Z"
   },
   {
    "duration": 796,
    "start_time": "2021-08-26T10:34:08.738Z"
   },
   {
    "duration": 473,
    "start_time": "2021-08-27T05:49:14.222Z"
   },
   {
    "duration": 741,
    "start_time": "2021-08-27T05:49:23.194Z"
   },
   {
    "duration": 53,
    "start_time": "2021-08-27T05:49:23.937Z"
   },
   {
    "duration": 212,
    "start_time": "2021-08-27T05:49:23.993Z"
   },
   {
    "duration": 147,
    "start_time": "2021-08-27T05:49:24.209Z"
   },
   {
    "duration": 227,
    "start_time": "2021-08-27T05:49:24.358Z"
   },
   {
    "duration": 27,
    "start_time": "2021-08-27T05:49:24.589Z"
   },
   {
    "duration": 215,
    "start_time": "2021-08-27T05:49:24.618Z"
   },
   {
    "duration": 120,
    "start_time": "2021-08-27T05:49:24.837Z"
   },
   {
    "duration": 189,
    "start_time": "2021-08-27T05:49:24.959Z"
   },
   {
    "duration": 47,
    "start_time": "2021-08-27T05:49:25.150Z"
   },
   {
    "duration": 97,
    "start_time": "2021-08-27T05:49:25.201Z"
   },
   {
    "duration": 200,
    "start_time": "2021-08-27T05:49:25.301Z"
   },
   {
    "duration": 80,
    "start_time": "2021-08-27T05:49:25.504Z"
   },
   {
    "duration": 205,
    "start_time": "2021-08-27T05:49:25.587Z"
   },
   {
    "duration": 30,
    "start_time": "2021-08-27T05:49:25.795Z"
   },
   {
    "duration": 13,
    "start_time": "2021-08-27T05:49:25.884Z"
   },
   {
    "duration": 108,
    "start_time": "2021-08-27T05:49:25.900Z"
   },
   {
    "duration": 2084,
    "start_time": "2021-08-27T05:49:26.011Z"
   },
   {
    "duration": 1657,
    "start_time": "2021-08-27T05:49:28.098Z"
   },
   {
    "duration": 1367,
    "start_time": "2021-08-27T05:49:29.758Z"
   },
   {
    "duration": 21,
    "start_time": "2021-08-27T05:49:46.410Z"
   },
   {
    "duration": 39,
    "start_time": "2021-08-27T05:50:07.490Z"
   },
   {
    "duration": 49,
    "start_time": "2021-08-27T05:50:41.698Z"
   },
   {
    "duration": 67,
    "start_time": "2021-08-27T05:57:58.805Z"
   },
   {
    "duration": 1083,
    "start_time": "2021-08-27T05:58:05.357Z"
   },
   {
    "duration": 633,
    "start_time": "2021-08-27T05:58:32.325Z"
   },
   {
    "duration": 604,
    "start_time": "2021-08-27T05:59:17.521Z"
   },
   {
    "duration": 417,
    "start_time": "2021-08-27T05:59:38.809Z"
   },
   {
    "duration": 524,
    "start_time": "2021-08-27T06:00:28.169Z"
   },
   {
    "duration": 486,
    "start_time": "2021-08-27T06:01:11.933Z"
   },
   {
    "duration": 421,
    "start_time": "2021-08-27T06:01:26.685Z"
   },
   {
    "duration": 552,
    "start_time": "2021-08-27T06:02:24.153Z"
   },
   {
    "duration": 687,
    "start_time": "2021-08-27T06:25:33.603Z"
   },
   {
    "duration": 582,
    "start_time": "2021-08-27T06:26:12.386Z"
   },
   {
    "duration": 484,
    "start_time": "2021-08-27T06:27:16.486Z"
   },
   {
    "duration": 6,
    "start_time": "2021-08-27T06:27:43.139Z"
   },
   {
    "duration": 152,
    "start_time": "2021-08-27T06:29:39.522Z"
   },
   {
    "duration": 465,
    "start_time": "2021-08-27T06:29:45.052Z"
   },
   {
    "duration": 7,
    "start_time": "2021-08-27T06:30:06.352Z"
   },
   {
    "duration": 532,
    "start_time": "2021-08-27T06:30:41.114Z"
   },
   {
    "duration": 387,
    "start_time": "2021-08-27T06:31:07.706Z"
   },
   {
    "duration": 409,
    "start_time": "2021-08-27T06:31:15.035Z"
   },
   {
    "duration": 467,
    "start_time": "2021-08-27T06:31:22.546Z"
   },
   {
    "duration": 9,
    "start_time": "2021-08-27T06:31:26.454Z"
   },
   {
    "duration": 72,
    "start_time": "2021-08-27T06:31:32.472Z"
   },
   {
    "duration": 65,
    "start_time": "2021-08-27T06:31:53.878Z"
   },
   {
    "duration": 10989,
    "start_time": "2021-08-27T06:31:58.326Z"
   },
   {
    "duration": 23,
    "start_time": "2021-08-27T06:32:17.282Z"
   },
   {
    "duration": 75,
    "start_time": "2021-08-27T06:33:00.555Z"
   },
   {
    "duration": 66,
    "start_time": "2021-08-27T06:33:28.149Z"
   },
   {
    "duration": 9,
    "start_time": "2021-08-27T06:34:19.910Z"
   },
   {
    "duration": 6,
    "start_time": "2021-08-27T06:34:28.766Z"
   },
   {
    "duration": 8,
    "start_time": "2021-08-27T06:34:43.886Z"
   },
   {
    "duration": 7,
    "start_time": "2021-08-27T06:35:04.954Z"
   },
   {
    "duration": 8,
    "start_time": "2021-08-27T06:35:12.050Z"
   },
   {
    "duration": 9,
    "start_time": "2021-08-27T06:35:16.586Z"
   },
   {
    "duration": 8,
    "start_time": "2021-08-27T06:35:38.501Z"
   },
   {
    "duration": 8,
    "start_time": "2021-08-27T06:35:45.635Z"
   },
   {
    "duration": 11,
    "start_time": "2021-08-27T06:35:56.654Z"
   },
   {
    "duration": 7,
    "start_time": "2021-08-27T06:36:06.882Z"
   },
   {
    "duration": 8,
    "start_time": "2021-08-27T06:36:51.847Z"
   },
   {
    "duration": 416,
    "start_time": "2021-08-27T06:42:20.737Z"
   },
   {
    "duration": 694,
    "start_time": "2021-08-27T07:15:40.834Z"
   },
   {
    "duration": 49,
    "start_time": "2021-08-27T07:16:26.894Z"
   },
   {
    "duration": 2760,
    "start_time": "2021-08-27T07:17:01.546Z"
   },
   {
    "duration": 3483,
    "start_time": "2021-08-27T07:17:31.486Z"
   },
   {
    "duration": 1261,
    "start_time": "2021-08-27T07:18:05.194Z"
   },
   {
    "duration": 1290,
    "start_time": "2021-08-27T07:18:29.210Z"
   },
   {
    "duration": 1935,
    "start_time": "2021-08-27T07:19:29.722Z"
   },
   {
    "duration": 1312,
    "start_time": "2021-08-27T07:20:40.730Z"
   },
   {
    "duration": 1175,
    "start_time": "2021-08-27T07:20:47.146Z"
   },
   {
    "duration": 1287,
    "start_time": "2021-08-27T07:21:59.586Z"
   },
   {
    "duration": 1306,
    "start_time": "2021-08-27T07:23:22.357Z"
   },
   {
    "duration": 1789,
    "start_time": "2021-08-27T07:23:51.018Z"
   },
   {
    "duration": 1806,
    "start_time": "2021-08-27T07:25:14.890Z"
   },
   {
    "duration": 1303,
    "start_time": "2021-08-27T07:26:40.909Z"
   },
   {
    "duration": 7982,
    "start_time": "2021-08-27T07:28:11.009Z"
   },
   {
    "duration": 6705,
    "start_time": "2021-08-27T07:29:13.189Z"
   },
   {
    "duration": 10069,
    "start_time": "2021-08-27T07:30:05.109Z"
   },
   {
    "duration": 10652,
    "start_time": "2021-08-27T07:30:53.807Z"
   },
   {
    "duration": 49,
    "start_time": "2021-08-27T07:33:29.407Z"
   },
   {
    "duration": 53,
    "start_time": "2021-08-27T07:36:04.609Z"
   },
   {
    "duration": 59,
    "start_time": "2021-08-27T07:36:22.019Z"
   },
   {
    "duration": 445,
    "start_time": "2021-08-27T09:05:51.314Z"
   },
   {
    "duration": 358,
    "start_time": "2021-08-27T09:06:10.872Z"
   },
   {
    "duration": 40,
    "start_time": "2021-08-27T09:06:20.243Z"
   },
   {
    "duration": 63,
    "start_time": "2021-08-27T09:06:26.415Z"
   },
   {
    "duration": 23,
    "start_time": "2021-08-27T09:06:44.492Z"
   },
   {
    "duration": 17,
    "start_time": "2021-08-27T09:07:04.264Z"
   },
   {
    "duration": 122,
    "start_time": "2021-08-27T09:13:23.563Z"
   },
   {
    "duration": 58,
    "start_time": "2021-08-27T09:13:28.659Z"
   },
   {
    "duration": 62,
    "start_time": "2021-08-27T09:13:41.627Z"
   },
   {
    "duration": 61,
    "start_time": "2021-08-27T09:13:50.527Z"
   },
   {
    "duration": 777,
    "start_time": "2021-08-27T09:14:02.254Z"
   },
   {
    "duration": 55,
    "start_time": "2021-08-27T09:14:03.033Z"
   },
   {
    "duration": 278,
    "start_time": "2021-08-27T09:14:03.091Z"
   },
   {
    "duration": 137,
    "start_time": "2021-08-27T09:14:03.383Z"
   },
   {
    "duration": 197,
    "start_time": "2021-08-27T09:14:03.522Z"
   },
   {
    "duration": 25,
    "start_time": "2021-08-27T09:14:03.721Z"
   },
   {
    "duration": 201,
    "start_time": "2021-08-27T09:14:03.749Z"
   },
   {
    "duration": 107,
    "start_time": "2021-08-27T09:14:03.954Z"
   },
   {
    "duration": 154,
    "start_time": "2021-08-27T09:14:04.065Z"
   },
   {
    "duration": 31,
    "start_time": "2021-08-27T09:14:04.222Z"
   },
   {
    "duration": 100,
    "start_time": "2021-08-27T09:14:04.256Z"
   },
   {
    "duration": 76,
    "start_time": "2021-08-27T09:14:04.360Z"
   },
   {
    "duration": 43,
    "start_time": "2021-08-27T09:14:04.439Z"
   },
   {
    "duration": 62,
    "start_time": "2021-08-27T09:14:04.485Z"
   },
   {
    "duration": 45,
    "start_time": "2021-08-27T09:14:04.550Z"
   },
   {
    "duration": 13,
    "start_time": "2021-08-27T09:14:04.598Z"
   },
   {
    "duration": 87,
    "start_time": "2021-08-27T09:14:04.613Z"
   },
   {
    "duration": 18,
    "start_time": "2021-08-27T09:14:04.703Z"
   },
   {
    "duration": 694,
    "start_time": "2021-08-27T09:14:04.724Z"
   },
   {
    "duration": -6889135,
    "start_time": "2021-08-27T11:08:54.556Z"
   },
   {
    "duration": -6889137,
    "start_time": "2021-08-27T11:08:54.559Z"
   },
   {
    "duration": 55,
    "start_time": "2021-08-27T09:14:17.686Z"
   },
   {
    "duration": 63,
    "start_time": "2021-08-27T09:15:11.858Z"
   },
   {
    "duration": 61,
    "start_time": "2021-08-27T09:16:01.125Z"
   },
   {
    "duration": 62,
    "start_time": "2021-08-27T09:16:49.715Z"
   },
   {
    "duration": 58,
    "start_time": "2021-08-27T09:17:14.798Z"
   },
   {
    "duration": 63,
    "start_time": "2021-08-27T09:17:50.690Z"
   },
   {
    "duration": 406,
    "start_time": "2021-08-27T09:18:38.986Z"
   },
   {
    "duration": 54,
    "start_time": "2021-08-27T09:18:44.490Z"
   },
   {
    "duration": 640,
    "start_time": "2021-08-27T09:19:07.197Z"
   },
   {
    "duration": 389,
    "start_time": "2021-08-27T09:19:11.446Z"
   },
   {
    "duration": 639,
    "start_time": "2021-08-27T11:09:36.428Z"
   },
   {
    "duration": 578,
    "start_time": "2021-08-27T11:10:47.316Z"
   },
   {
    "duration": 599,
    "start_time": "2021-08-27T11:11:12.448Z"
   },
   {
    "duration": 114,
    "start_time": "2021-08-27T11:12:34.012Z"
   },
   {
    "duration": 118,
    "start_time": "2021-08-27T11:12:52.443Z"
   },
   {
    "duration": 664,
    "start_time": "2021-08-27T11:13:42.319Z"
   },
   {
    "duration": 611,
    "start_time": "2021-08-27T11:13:45.235Z"
   },
   {
    "duration": 221,
    "start_time": "2021-08-27T11:15:00.464Z"
   },
   {
    "duration": 183,
    "start_time": "2021-08-27T11:16:42.235Z"
   },
   {
    "duration": 195,
    "start_time": "2021-08-27T11:16:51.775Z"
   },
   {
    "duration": 52,
    "start_time": "2021-08-27T11:17:45.331Z"
   },
   {
    "duration": 200,
    "start_time": "2021-08-27T11:17:47.139Z"
   },
   {
    "duration": 188,
    "start_time": "2021-08-27T11:17:54.655Z"
   },
   {
    "duration": 417,
    "start_time": "2021-08-27T11:18:01.751Z"
   },
   {
    "duration": 624,
    "start_time": "2021-08-27T11:19:15.231Z"
   },
   {
    "duration": 211,
    "start_time": "2021-08-27T11:19:57.855Z"
   },
   {
    "duration": 644,
    "start_time": "2021-08-27T11:20:08.087Z"
   },
   {
    "duration": 679,
    "start_time": "2021-08-27T11:20:43.843Z"
   },
   {
    "duration": 622,
    "start_time": "2021-08-27T11:23:54.033Z"
   },
   {
    "duration": 685,
    "start_time": "2021-08-27T11:25:12.107Z"
   },
   {
    "duration": 654,
    "start_time": "2021-08-27T11:29:04.620Z"
   },
   {
    "duration": 570,
    "start_time": "2021-08-27T11:29:38.422Z"
   },
   {
    "duration": 661,
    "start_time": "2021-08-27T11:30:01.184Z"
   },
   {
    "duration": 644,
    "start_time": "2021-08-27T11:30:16.984Z"
   },
   {
    "duration": 622,
    "start_time": "2021-08-27T11:31:36.258Z"
   },
   {
    "duration": 604,
    "start_time": "2021-08-27T11:31:59.977Z"
   },
   {
    "duration": 210,
    "start_time": "2021-08-27T11:32:40.965Z"
   },
   {
    "duration": 1152,
    "start_time": "2021-08-27T11:33:03.622Z"
   },
   {
    "duration": 553,
    "start_time": "2021-08-27T11:33:16.841Z"
   },
   {
    "duration": 1217,
    "start_time": "2021-08-27T11:33:22.949Z"
   },
   {
    "duration": 1072,
    "start_time": "2021-08-27T11:33:32.082Z"
   },
   {
    "duration": 189,
    "start_time": "2021-08-27T11:34:36.439Z"
   },
   {
    "duration": 178,
    "start_time": "2021-08-27T11:35:17.998Z"
   },
   {
    "duration": 1066,
    "start_time": "2021-08-27T11:35:45.597Z"
   },
   {
    "duration": 419,
    "start_time": "2021-08-27T11:36:14.465Z"
   },
   {
    "duration": 1044,
    "start_time": "2021-08-27T11:39:03.860Z"
   },
   {
    "duration": 1264,
    "start_time": "2021-08-27T11:39:30.949Z"
   },
   {
    "duration": 776,
    "start_time": "2021-08-27T11:39:40.985Z"
   },
   {
    "duration": 773,
    "start_time": "2021-08-27T11:39:52.067Z"
   },
   {
    "duration": 1059,
    "start_time": "2021-08-27T11:39:59.789Z"
   },
   {
    "duration": 1085,
    "start_time": "2021-08-27T11:40:11.633Z"
   },
   {
    "duration": 1140,
    "start_time": "2021-08-27T11:41:02.513Z"
   },
   {
    "duration": 573,
    "start_time": "2021-08-27T11:41:33.193Z"
   },
   {
    "duration": 71,
    "start_time": "2021-08-27T11:42:02.425Z"
   },
   {
    "duration": 75,
    "start_time": "2021-08-27T11:42:20.317Z"
   },
   {
    "duration": 79,
    "start_time": "2021-08-27T11:43:30.553Z"
   },
   {
    "duration": 80,
    "start_time": "2021-08-27T11:43:45.881Z"
   },
   {
    "duration": 573,
    "start_time": "2021-08-27T11:44:27.824Z"
   },
   {
    "duration": 96,
    "start_time": "2021-08-27T11:44:35.888Z"
   },
   {
    "duration": 78,
    "start_time": "2021-08-27T11:45:38.412Z"
   },
   {
    "duration": 182,
    "start_time": "2021-08-27T11:46:04.128Z"
   },
   {
    "duration": 1134,
    "start_time": "2021-08-27T11:46:33.732Z"
   },
   {
    "duration": 192,
    "start_time": "2021-08-27T11:46:52.768Z"
   },
   {
    "duration": 199,
    "start_time": "2021-08-27T11:47:35.158Z"
   },
   {
    "duration": 80,
    "start_time": "2021-08-27T11:47:44.100Z"
   },
   {
    "duration": 193,
    "start_time": "2021-08-27T11:47:54.200Z"
   },
   {
    "duration": 184,
    "start_time": "2021-08-27T11:47:58.624Z"
   },
   {
    "duration": 164,
    "start_time": "2021-08-27T11:53:21.340Z"
   },
   {
    "duration": 637,
    "start_time": "2021-08-27T11:53:40.360Z"
   },
   {
    "duration": 1145,
    "start_time": "2021-08-27T11:56:03.731Z"
   },
   {
    "duration": 1184,
    "start_time": "2021-08-27T11:58:31.619Z"
   },
   {
    "duration": 1294,
    "start_time": "2021-08-27T12:00:12.139Z"
   },
   {
    "duration": 1147,
    "start_time": "2021-08-27T12:00:28.707Z"
   },
   {
    "duration": 356,
    "start_time": "2021-08-27T12:01:29.735Z"
   },
   {
    "duration": 316,
    "start_time": "2021-08-27T12:01:34.940Z"
   },
   {
    "duration": 983,
    "start_time": "2021-08-27T12:02:51.290Z"
   },
   {
    "duration": 21,
    "start_time": "2021-08-27T12:04:36.859Z"
   },
   {
    "duration": 48,
    "start_time": "2021-08-27T12:04:41.864Z"
   },
   {
    "duration": 44,
    "start_time": "2021-08-27T12:06:12.634Z"
   },
   {
    "duration": 81,
    "start_time": "2021-08-27T12:09:25.622Z"
   },
   {
    "duration": 733,
    "start_time": "2021-08-27T12:09:37.669Z"
   },
   {
    "duration": 53,
    "start_time": "2021-08-27T12:09:38.405Z"
   },
   {
    "duration": 207,
    "start_time": "2021-08-27T12:09:38.461Z"
   },
   {
    "duration": 129,
    "start_time": "2021-08-27T12:09:38.671Z"
   },
   {
    "duration": 188,
    "start_time": "2021-08-27T12:09:38.802Z"
   },
   {
    "duration": 25,
    "start_time": "2021-08-27T12:09:38.992Z"
   },
   {
    "duration": 195,
    "start_time": "2021-08-27T12:09:39.019Z"
   },
   {
    "duration": 113,
    "start_time": "2021-08-27T12:09:39.218Z"
   },
   {
    "duration": 133,
    "start_time": "2021-08-27T12:09:39.333Z"
   },
   {
    "duration": 38,
    "start_time": "2021-08-27T12:09:39.468Z"
   },
   {
    "duration": 76,
    "start_time": "2021-08-27T12:09:39.508Z"
   },
   {
    "duration": 61,
    "start_time": "2021-08-27T12:09:39.586Z"
   },
   {
    "duration": 39,
    "start_time": "2021-08-27T12:09:39.650Z"
   },
   {
    "duration": 60,
    "start_time": "2021-08-27T12:09:39.691Z"
   },
   {
    "duration": 39,
    "start_time": "2021-08-27T12:09:39.754Z"
   },
   {
    "duration": 11,
    "start_time": "2021-08-27T12:09:39.795Z"
   },
   {
    "duration": 75,
    "start_time": "2021-08-27T12:09:39.809Z"
   },
   {
    "duration": 1157,
    "start_time": "2021-08-27T12:09:39.886Z"
   },
   {
    "duration": 1109,
    "start_time": "2021-08-27T12:09:41.045Z"
   },
   {
    "duration": 1013,
    "start_time": "2021-08-27T12:09:42.157Z"
   },
   {
    "duration": 49,
    "start_time": "2021-08-27T12:09:43.172Z"
   },
   {
    "duration": 41,
    "start_time": "2021-08-27T12:10:50.828Z"
   },
   {
    "duration": 493,
    "start_time": "2021-08-27T12:11:57.599Z"
   },
   {
    "duration": 42,
    "start_time": "2021-08-27T12:12:20.572Z"
   },
   {
    "duration": 101,
    "start_time": "2021-08-27T12:12:33.504Z"
   },
   {
    "duration": 215,
    "start_time": "2021-08-27T12:12:53.592Z"
   },
   {
    "duration": 115,
    "start_time": "2021-08-27T12:13:15.724Z"
   },
   {
    "duration": 4515,
    "start_time": "2021-08-27T12:13:53.867Z"
   },
   {
    "duration": 4853,
    "start_time": "2021-08-27T12:14:13.428Z"
   },
   {
    "duration": 48,
    "start_time": "2021-08-27T12:14:43.559Z"
   },
   {
    "duration": 331,
    "start_time": "2021-08-27T12:15:00.388Z"
   },
   {
    "duration": 424,
    "start_time": "2021-08-27T12:15:04.423Z"
   },
   {
    "duration": 46,
    "start_time": "2021-08-27T12:15:22.551Z"
   },
   {
    "duration": 47,
    "start_time": "2021-08-27T12:21:13.194Z"
   },
   {
    "duration": 128,
    "start_time": "2021-08-27T12:24:42.883Z"
   },
   {
    "duration": 52,
    "start_time": "2021-08-27T12:25:16.070Z"
   },
   {
    "duration": 127,
    "start_time": "2021-08-27T12:26:33.978Z"
   },
   {
    "duration": 8993,
    "start_time": "2021-08-27T12:26:38.726Z"
   },
   {
    "duration": 42,
    "start_time": "2021-08-27T12:27:59.290Z"
   },
   {
    "duration": 340,
    "start_time": "2021-08-27T12:29:52.530Z"
   },
   {
    "duration": 319,
    "start_time": "2021-08-27T12:29:59.242Z"
   },
   {
    "duration": 389,
    "start_time": "2021-08-27T12:30:12.334Z"
   },
   {
    "duration": 337,
    "start_time": "2021-08-27T12:31:38.230Z"
   },
   {
    "duration": 44,
    "start_time": "2021-08-27T12:31:45.650Z"
   },
   {
    "duration": 216,
    "start_time": "2021-08-27T12:32:12.820Z"
   },
   {
    "duration": 54,
    "start_time": "2021-08-27T12:32:58.758Z"
   },
   {
    "duration": 387,
    "start_time": "2021-08-27T12:33:28.309Z"
   },
   {
    "duration": 335,
    "start_time": "2021-08-27T12:33:37.054Z"
   },
   {
    "duration": 49,
    "start_time": "2021-08-27T12:33:51.842Z"
   },
   {
    "duration": 22,
    "start_time": "2021-08-27T12:35:01.122Z"
   },
   {
    "duration": 51,
    "start_time": "2021-08-27T12:35:11.733Z"
   },
   {
    "duration": 560,
    "start_time": "2021-08-27T12:37:15.989Z"
   },
   {
    "duration": 134,
    "start_time": "2021-08-27T12:46:21.280Z"
   },
   {
    "duration": 67,
    "start_time": "2021-08-27T12:46:25.568Z"
   },
   {
    "duration": 390,
    "start_time": "2021-08-27T12:49:43.876Z"
   },
   {
    "duration": 393,
    "start_time": "2021-08-27T12:49:49.228Z"
   },
   {
    "duration": 15619,
    "start_time": "2021-08-27T12:50:30.740Z"
   },
   {
    "duration": 60,
    "start_time": "2021-08-27T12:50:53.008Z"
   },
   {
    "duration": 45,
    "start_time": "2021-08-27T12:51:04.948Z"
   },
   {
    "duration": 45,
    "start_time": "2021-08-27T12:51:13.800Z"
   },
   {
    "duration": 414,
    "start_time": "2021-08-27T12:51:57.136Z"
   },
   {
    "duration": 369,
    "start_time": "2021-08-27T12:52:31.399Z"
   },
   {
    "duration": 391,
    "start_time": "2021-08-27T12:52:50.639Z"
   },
   {
    "duration": 68,
    "start_time": "2021-08-27T12:54:36.200Z"
   },
   {
    "duration": 58,
    "start_time": "2021-08-27T12:56:25.163Z"
   },
   {
    "duration": 404,
    "start_time": "2021-08-27T12:57:07.459Z"
   },
   {
    "duration": 67,
    "start_time": "2021-08-27T12:57:12.667Z"
   },
   {
    "duration": 43,
    "start_time": "2021-08-27T12:57:52.099Z"
   },
   {
    "duration": 41,
    "start_time": "2021-08-27T12:58:02.233Z"
   },
   {
    "duration": 57,
    "start_time": "2021-08-27T12:58:06.763Z"
   },
   {
    "duration": 67,
    "start_time": "2021-08-27T12:58:21.699Z"
   },
   {
    "duration": 9084,
    "start_time": "2021-08-27T12:58:54.763Z"
   },
   {
    "duration": 67,
    "start_time": "2021-08-27T12:59:43.011Z"
   },
   {
    "duration": 8613,
    "start_time": "2021-08-27T13:00:33.611Z"
   },
   {
    "duration": 737,
    "start_time": "2021-08-27T13:00:52.702Z"
   },
   {
    "duration": 68,
    "start_time": "2021-08-27T13:00:53.442Z"
   },
   {
    "duration": 472,
    "start_time": "2021-08-27T13:00:53.513Z"
   },
   {
    "duration": 218,
    "start_time": "2021-08-27T13:00:53.987Z"
   },
   {
    "duration": 185,
    "start_time": "2021-08-27T13:00:54.208Z"
   },
   {
    "duration": 24,
    "start_time": "2021-08-27T13:00:54.396Z"
   },
   {
    "duration": 187,
    "start_time": "2021-08-27T13:00:54.422Z"
   },
   {
    "duration": 119,
    "start_time": "2021-08-27T13:00:54.612Z"
   },
   {
    "duration": 140,
    "start_time": "2021-08-27T13:00:54.734Z"
   },
   {
    "duration": 35,
    "start_time": "2021-08-27T13:00:54.876Z"
   },
   {
    "duration": 81,
    "start_time": "2021-08-27T13:00:54.913Z"
   },
   {
    "duration": 65,
    "start_time": "2021-08-27T13:00:54.996Z"
   },
   {
    "duration": 32,
    "start_time": "2021-08-27T13:00:55.064Z"
   },
   {
    "duration": 61,
    "start_time": "2021-08-27T13:00:55.098Z"
   },
   {
    "duration": 23,
    "start_time": "2021-08-27T13:00:55.182Z"
   },
   {
    "duration": 11,
    "start_time": "2021-08-27T13:00:55.207Z"
   },
   {
    "duration": 76,
    "start_time": "2021-08-27T13:00:55.220Z"
   },
   {
    "duration": 1166,
    "start_time": "2021-08-27T13:00:55.298Z"
   },
   {
    "duration": 1178,
    "start_time": "2021-08-27T13:00:56.466Z"
   },
   {
    "duration": 985,
    "start_time": "2021-08-27T13:00:57.646Z"
   },
   {
    "duration": 8865,
    "start_time": "2021-08-27T13:00:58.634Z"
   },
   {
    "duration": 50,
    "start_time": "2021-08-27T13:01:21.566Z"
   },
   {
    "duration": 73,
    "start_time": "2021-08-27T13:02:41.574Z"
   },
   {
    "duration": 71,
    "start_time": "2021-08-27T13:04:23.046Z"
   },
   {
    "duration": 45,
    "start_time": "2021-08-27T13:04:34.174Z"
   },
   {
    "duration": 43,
    "start_time": "2021-08-27T13:04:44.845Z"
   },
   {
    "duration": 46,
    "start_time": "2021-08-27T13:04:51.898Z"
   },
   {
    "duration": 67,
    "start_time": "2021-08-27T13:08:17.465Z"
   },
   {
    "duration": 65,
    "start_time": "2021-08-27T13:09:24.213Z"
   },
   {
    "duration": 61,
    "start_time": "2021-08-27T13:12:31.241Z"
   },
   {
    "duration": 3181,
    "start_time": "2021-08-27T13:13:07.987Z"
   },
   {
    "duration": 430,
    "start_time": "2021-08-27T13:13:20.449Z"
   },
   {
    "duration": 3408,
    "start_time": "2021-08-27T13:13:25.397Z"
   },
   {
    "duration": 4438,
    "start_time": "2021-08-27T13:13:37.829Z"
   },
   {
    "duration": 47,
    "start_time": "2021-08-27T13:13:50.741Z"
   },
   {
    "duration": 48,
    "start_time": "2021-08-27T13:13:55.025Z"
   },
   {
    "duration": 87,
    "start_time": "2021-08-27T13:14:31.685Z"
   },
   {
    "duration": 422,
    "start_time": "2021-08-27T13:15:10.992Z"
   },
   {
    "duration": 60,
    "start_time": "2021-08-27T13:15:20.937Z"
   },
   {
    "duration": 62,
    "start_time": "2021-08-27T13:15:29.360Z"
   },
   {
    "duration": 59,
    "start_time": "2021-08-27T13:15:36.460Z"
   },
   {
    "duration": 58,
    "start_time": "2021-08-27T13:15:46.221Z"
   },
   {
    "duration": 60,
    "start_time": "2021-08-27T13:15:50.408Z"
   },
   {
    "duration": 58,
    "start_time": "2021-08-27T13:15:56.036Z"
   },
   {
    "duration": 75,
    "start_time": "2021-08-27T13:16:12.765Z"
   },
   {
    "duration": 64,
    "start_time": "2021-08-27T13:16:15.066Z"
   },
   {
    "duration": 364,
    "start_time": "2021-08-27T13:19:41.456Z"
   },
   {
    "duration": 30,
    "start_time": "2021-08-27T13:20:10.260Z"
   },
   {
    "duration": 21,
    "start_time": "2021-08-27T13:20:23.196Z"
   },
   {
    "duration": 66,
    "start_time": "2021-08-27T13:26:55.056Z"
   },
   {
    "duration": 76,
    "start_time": "2021-08-27T13:27:16.507Z"
   },
   {
    "duration": 67,
    "start_time": "2021-08-27T13:27:45.591Z"
   },
   {
    "duration": 368,
    "start_time": "2021-08-27T13:48:56.916Z"
   },
   {
    "duration": 366,
    "start_time": "2021-08-27T13:49:08.962Z"
   },
   {
    "duration": 469,
    "start_time": "2021-08-27T13:49:23.098Z"
   },
   {
    "duration": 7,
    "start_time": "2021-08-27T13:50:21.790Z"
   },
   {
    "duration": 9,
    "start_time": "2021-08-27T13:50:29.838Z"
   },
   {
    "duration": 664,
    "start_time": "2021-08-27T13:51:22.759Z"
   },
   {
    "duration": 401,
    "start_time": "2021-08-27T13:51:33.825Z"
   },
   {
    "duration": 5,
    "start_time": "2021-08-27T13:52:13.213Z"
   },
   {
    "duration": 35,
    "start_time": "2021-08-27T13:53:50.195Z"
   },
   {
    "duration": 33,
    "start_time": "2021-08-27T13:53:59.833Z"
   },
   {
    "duration": 32,
    "start_time": "2021-08-27T13:54:06.221Z"
   },
   {
    "duration": 157,
    "start_time": "2021-08-27T13:54:12.105Z"
   },
   {
    "duration": 210,
    "start_time": "2021-08-27T13:54:40.997Z"
   },
   {
    "duration": 6,
    "start_time": "2021-08-27T13:55:47.701Z"
   },
   {
    "duration": 6,
    "start_time": "2021-08-27T13:55:58.557Z"
   },
   {
    "duration": 22,
    "start_time": "2021-08-27T13:56:07.745Z"
   },
   {
    "duration": 381,
    "start_time": "2021-08-27T13:56:44.829Z"
   },
   {
    "duration": 469,
    "start_time": "2021-08-27T13:58:19.192Z"
   },
   {
    "duration": 9,
    "start_time": "2021-08-27T14:02:19.524Z"
   },
   {
    "duration": 10,
    "start_time": "2021-08-27T14:02:53.019Z"
   },
   {
    "duration": 10,
    "start_time": "2021-08-27T14:03:24.318Z"
   },
   {
    "duration": 9,
    "start_time": "2021-08-27T14:03:33.004Z"
   },
   {
    "duration": 9,
    "start_time": "2021-08-27T14:03:40.597Z"
   },
   {
    "duration": 9,
    "start_time": "2021-08-27T14:03:56.316Z"
   },
   {
    "duration": 10,
    "start_time": "2021-08-27T14:04:15.324Z"
   },
   {
    "duration": 18,
    "start_time": "2021-08-27T14:05:25.132Z"
   },
   {
    "duration": 18,
    "start_time": "2021-08-27T14:05:29.085Z"
   },
   {
    "duration": 13,
    "start_time": "2021-08-27T14:05:32.956Z"
   },
   {
    "duration": 12,
    "start_time": "2021-08-27T14:05:38.312Z"
   },
   {
    "duration": 24,
    "start_time": "2021-08-27T14:05:42.477Z"
   },
   {
    "duration": 24,
    "start_time": "2021-08-27T14:05:57.320Z"
   },
   {
    "duration": 24,
    "start_time": "2021-08-27T14:06:04.093Z"
   },
   {
    "duration": 27,
    "start_time": "2021-08-27T14:06:14.388Z"
   },
   {
    "duration": 28,
    "start_time": "2021-08-27T14:06:25.284Z"
   },
   {
    "duration": 20,
    "start_time": "2021-08-27T14:06:33.810Z"
   },
   {
    "duration": 32,
    "start_time": "2021-08-27T14:06:37.776Z"
   },
   {
    "duration": 19,
    "start_time": "2021-08-27T14:06:40.964Z"
   },
   {
    "duration": 353,
    "start_time": "2021-08-27T14:07:52.820Z"
   },
   {
    "duration": 15,
    "start_time": "2021-08-27T14:10:30.119Z"
   },
   {
    "duration": 6,
    "start_time": "2021-08-27T14:11:14.390Z"
   },
   {
    "duration": 8,
    "start_time": "2021-08-27T14:11:18.528Z"
   },
   {
    "duration": 11,
    "start_time": "2021-08-27T14:11:33.695Z"
   },
   {
    "duration": 12,
    "start_time": "2021-08-27T14:11:40.035Z"
   },
   {
    "duration": 19,
    "start_time": "2021-08-27T14:11:52.652Z"
   },
   {
    "duration": 20,
    "start_time": "2021-08-27T14:11:58.455Z"
   },
   {
    "duration": 18,
    "start_time": "2021-08-27T14:12:02.271Z"
   },
   {
    "duration": 416,
    "start_time": "2021-08-27T14:13:46.600Z"
   },
   {
    "duration": 400,
    "start_time": "2021-08-27T14:13:52.412Z"
   },
   {
    "duration": 443,
    "start_time": "2021-08-27T14:14:00.119Z"
   },
   {
    "duration": 48,
    "start_time": "2021-08-27T14:14:07.588Z"
   },
   {
    "duration": 441,
    "start_time": "2021-08-27T14:14:49.467Z"
   },
   {
    "duration": 427,
    "start_time": "2021-08-27T14:15:04.479Z"
   },
   {
    "duration": 10,
    "start_time": "2021-08-27T14:15:12.636Z"
   },
   {
    "duration": 2551,
    "start_time": "2021-08-27T14:24:22.550Z"
   },
   {
    "duration": 11,
    "start_time": "2021-08-27T14:24:32.466Z"
   },
   {
    "duration": 131,
    "start_time": "2021-08-27T14:25:37.540Z"
   },
   {
    "duration": 123,
    "start_time": "2021-08-27T14:25:54.770Z"
   },
   {
    "duration": 15,
    "start_time": "2021-08-27T14:29:25.961Z"
   },
   {
    "duration": 394,
    "start_time": "2021-08-27T14:29:50.606Z"
   },
   {
    "duration": 16,
    "start_time": "2021-08-27T14:30:14.900Z"
   },
   {
    "duration": 1201,
    "start_time": "2021-08-27T14:36:09.361Z"
   },
   {
    "duration": 14,
    "start_time": "2021-08-27T14:49:03.827Z"
   },
   {
    "duration": 32,
    "start_time": "2021-08-27T14:49:31.913Z"
   },
   {
    "duration": 5,
    "start_time": "2021-08-27T14:50:19.752Z"
   },
   {
    "duration": 27,
    "start_time": "2021-08-27T14:51:17.379Z"
   },
   {
    "duration": 27,
    "start_time": "2021-08-27T14:51:54.615Z"
   },
   {
    "duration": 41,
    "start_time": "2021-08-27T14:52:22.159Z"
   },
   {
    "duration": 30,
    "start_time": "2021-08-27T14:52:47.643Z"
   },
   {
    "duration": 26,
    "start_time": "2021-08-27T14:53:17.595Z"
   },
   {
    "duration": 7,
    "start_time": "2021-08-27T14:53:32.255Z"
   },
   {
    "duration": 26,
    "start_time": "2021-08-27T14:53:34.403Z"
   },
   {
    "duration": 7,
    "start_time": "2021-08-27T14:53:49.592Z"
   },
   {
    "duration": 28,
    "start_time": "2021-08-27T14:53:50.284Z"
   },
   {
    "duration": 30,
    "start_time": "2021-08-27T14:55:26.123Z"
   },
   {
    "duration": 46,
    "start_time": "2021-08-27T14:55:57.531Z"
   },
   {
    "duration": 44,
    "start_time": "2021-08-27T14:56:01.811Z"
   },
   {
    "duration": 422,
    "start_time": "2021-08-27T14:56:32.723Z"
   },
   {
    "duration": 324,
    "start_time": "2021-08-27T14:56:46.854Z"
   },
   {
    "duration": 9,
    "start_time": "2021-08-27T14:56:55.987Z"
   },
   {
    "duration": 338,
    "start_time": "2021-08-27T14:56:59.818Z"
   },
   {
    "duration": 376,
    "start_time": "2021-08-27T14:57:02.134Z"
   },
   {
    "duration": 29,
    "start_time": "2021-08-27T14:57:14.167Z"
   },
   {
    "duration": 790,
    "start_time": "2021-08-27T14:57:32.206Z"
   },
   {
    "duration": 119,
    "start_time": "2021-08-27T14:57:33.000Z"
   },
   {
    "duration": 502,
    "start_time": "2021-08-27T14:57:33.123Z"
   },
   {
    "duration": 235,
    "start_time": "2021-08-27T14:57:33.628Z"
   },
   {
    "duration": 235,
    "start_time": "2021-08-27T14:57:33.865Z"
   },
   {
    "duration": 27,
    "start_time": "2021-08-27T14:57:34.103Z"
   },
   {
    "duration": 231,
    "start_time": "2021-08-27T14:57:34.133Z"
   },
   {
    "duration": 138,
    "start_time": "2021-08-27T14:57:34.367Z"
   },
   {
    "duration": 171,
    "start_time": "2021-08-27T14:57:34.511Z"
   },
   {
    "duration": 39,
    "start_time": "2021-08-27T14:57:34.687Z"
   },
   {
    "duration": 83,
    "start_time": "2021-08-27T14:57:34.729Z"
   },
   {
    "duration": 85,
    "start_time": "2021-08-27T14:57:34.814Z"
   },
   {
    "duration": 23,
    "start_time": "2021-08-27T14:57:34.902Z"
   },
   {
    "duration": 86,
    "start_time": "2021-08-27T14:57:34.927Z"
   },
   {
    "duration": 24,
    "start_time": "2021-08-27T14:57:35.016Z"
   },
   {
    "duration": 12,
    "start_time": "2021-08-27T14:57:35.042Z"
   },
   {
    "duration": 88,
    "start_time": "2021-08-27T14:57:35.056Z"
   },
   {
    "duration": 1252,
    "start_time": "2021-08-27T14:57:35.147Z"
   },
   {
    "duration": 1144,
    "start_time": "2021-08-27T14:57:36.403Z"
   },
   {
    "duration": 961,
    "start_time": "2021-08-27T14:57:37.550Z"
   },
   {
    "duration": 81,
    "start_time": "2021-08-27T14:57:38.514Z"
   },
   {
    "duration": 11,
    "start_time": "2021-08-27T14:57:38.597Z"
   },
   {
    "duration": 20,
    "start_time": "2021-08-27T14:57:38.611Z"
   },
   {
    "duration": 14,
    "start_time": "2021-08-27T14:57:38.634Z"
   },
   {
    "duration": 38,
    "start_time": "2021-08-27T14:57:38.651Z"
   },
   {
    "duration": 18,
    "start_time": "2021-08-27T14:57:38.692Z"
   },
   {
    "duration": 9,
    "start_time": "2021-08-27T14:57:38.714Z"
   },
   {
    "duration": 28,
    "start_time": "2021-08-27T14:57:38.725Z"
   },
   {
    "duration": 30,
    "start_time": "2021-08-27T14:57:52.506Z"
   },
   {
    "duration": 11,
    "start_time": "2021-08-27T14:58:16.963Z"
   },
   {
    "duration": 8,
    "start_time": "2021-08-27T14:58:20.662Z"
   },
   {
    "duration": 8,
    "start_time": "2021-08-27T14:58:21.882Z"
   },
   {
    "duration": 577,
    "start_time": "2021-08-27T14:58:22.778Z"
   },
   {
    "duration": 394,
    "start_time": "2021-08-27T14:58:24.462Z"
   },
   {
    "duration": 8,
    "start_time": "2021-08-27T14:58:32.214Z"
   },
   {
    "duration": 354,
    "start_time": "2021-08-27T14:58:33.238Z"
   },
   {
    "duration": 343,
    "start_time": "2021-08-27T14:58:34.678Z"
   },
   {
    "duration": 740,
    "start_time": "2021-08-27T14:58:43.087Z"
   },
   {
    "duration": 56,
    "start_time": "2021-08-27T14:58:43.830Z"
   },
   {
    "duration": 402,
    "start_time": "2021-08-27T14:58:43.889Z"
   },
   {
    "duration": 231,
    "start_time": "2021-08-27T14:58:44.294Z"
   },
   {
    "duration": 264,
    "start_time": "2021-08-27T14:58:44.527Z"
   },
   {
    "duration": 24,
    "start_time": "2021-08-27T14:58:44.794Z"
   },
   {
    "duration": 267,
    "start_time": "2021-08-27T14:58:44.820Z"
   },
   {
    "duration": 167,
    "start_time": "2021-08-27T14:58:45.092Z"
   },
   {
    "duration": 294,
    "start_time": "2021-08-27T14:58:45.288Z"
   },
   {
    "duration": 47,
    "start_time": "2021-08-27T14:58:45.586Z"
   },
   {
    "duration": 84,
    "start_time": "2021-08-27T14:58:45.635Z"
   },
   {
    "duration": 81,
    "start_time": "2021-08-27T14:58:45.722Z"
   },
   {
    "duration": 21,
    "start_time": "2021-08-27T14:58:45.805Z"
   },
   {
    "duration": 83,
    "start_time": "2021-08-27T14:58:45.829Z"
   },
   {
    "duration": 23,
    "start_time": "2021-08-27T14:58:45.914Z"
   },
   {
    "duration": 10,
    "start_time": "2021-08-27T14:58:45.939Z"
   },
   {
    "duration": 81,
    "start_time": "2021-08-27T14:58:45.952Z"
   },
   {
    "duration": 1211,
    "start_time": "2021-08-27T14:58:46.035Z"
   },
   {
    "duration": 1337,
    "start_time": "2021-08-27T14:58:47.249Z"
   },
   {
    "duration": 1007,
    "start_time": "2021-08-27T14:58:48.588Z"
   },
   {
    "duration": 58,
    "start_time": "2021-08-27T14:58:49.598Z"
   },
   {
    "duration": 28,
    "start_time": "2021-08-27T14:58:49.659Z"
   },
   {
    "duration": 13,
    "start_time": "2021-08-27T14:58:49.692Z"
   },
   {
    "duration": 12,
    "start_time": "2021-08-27T14:58:49.708Z"
   },
   {
    "duration": 17,
    "start_time": "2021-08-27T14:58:49.722Z"
   },
   {
    "duration": 50,
    "start_time": "2021-08-27T14:58:49.741Z"
   },
   {
    "duration": 9,
    "start_time": "2021-08-27T14:58:49.793Z"
   },
   {
    "duration": 32,
    "start_time": "2021-08-27T14:58:49.804Z"
   },
   {
    "duration": 11,
    "start_time": "2021-08-27T14:59:23.348Z"
   },
   {
    "duration": 467,
    "start_time": "2021-08-27T14:59:27.256Z"
   },
   {
    "duration": 8,
    "start_time": "2021-08-27T14:59:38.292Z"
   },
   {
    "duration": 352,
    "start_time": "2021-08-27T14:59:40.004Z"
   },
   {
    "duration": 9,
    "start_time": "2021-08-27T14:59:51.228Z"
   },
   {
    "duration": 385,
    "start_time": "2021-08-27T14:59:52.457Z"
   },
   {
    "duration": 753,
    "start_time": "2021-08-27T15:00:13.489Z"
   },
   {
    "duration": 54,
    "start_time": "2021-08-27T15:00:14.245Z"
   },
   {
    "duration": 219,
    "start_time": "2021-08-27T15:00:14.301Z"
   },
   {
    "duration": 132,
    "start_time": "2021-08-27T15:00:14.522Z"
   },
   {
    "duration": 194,
    "start_time": "2021-08-27T15:00:14.657Z"
   },
   {
    "duration": 28,
    "start_time": "2021-08-27T15:00:14.853Z"
   },
   {
    "duration": 197,
    "start_time": "2021-08-27T15:00:14.884Z"
   },
   {
    "duration": 128,
    "start_time": "2021-08-27T15:00:15.084Z"
   },
   {
    "duration": 285,
    "start_time": "2021-08-27T15:00:15.214Z"
   },
   {
    "duration": 84,
    "start_time": "2021-08-27T15:00:15.501Z"
   },
   {
    "duration": 118,
    "start_time": "2021-08-27T15:00:15.587Z"
   },
   {
    "duration": 113,
    "start_time": "2021-08-27T15:00:15.708Z"
   },
   {
    "duration": 69,
    "start_time": "2021-08-27T15:00:15.823Z"
   },
   {
    "duration": 92,
    "start_time": "2021-08-27T15:00:15.895Z"
   },
   {
    "duration": 24,
    "start_time": "2021-08-27T15:00:15.990Z"
   },
   {
    "duration": 12,
    "start_time": "2021-08-27T15:00:16.016Z"
   },
   {
    "duration": 92,
    "start_time": "2021-08-27T15:00:16.030Z"
   },
   {
    "duration": 1194,
    "start_time": "2021-08-27T15:00:16.125Z"
   },
   {
    "duration": 1137,
    "start_time": "2021-08-27T15:00:17.322Z"
   },
   {
    "duration": 1029,
    "start_time": "2021-08-27T15:00:18.461Z"
   },
   {
    "duration": 65,
    "start_time": "2021-08-27T15:00:19.492Z"
   },
   {
    "duration": 10,
    "start_time": "2021-08-27T15:00:19.583Z"
   },
   {
    "duration": 14,
    "start_time": "2021-08-27T15:00:19.597Z"
   },
   {
    "duration": 14,
    "start_time": "2021-08-27T15:00:19.614Z"
   },
   {
    "duration": 54,
    "start_time": "2021-08-27T15:00:19.630Z"
   },
   {
    "duration": 17,
    "start_time": "2021-08-27T15:00:19.686Z"
   },
   {
    "duration": 8,
    "start_time": "2021-08-27T15:00:19.706Z"
   },
   {
    "duration": 30,
    "start_time": "2021-08-27T15:00:19.716Z"
   },
   {
    "duration": 31,
    "start_time": "2021-08-27T15:00:34.745Z"
   },
   {
    "duration": 458,
    "start_time": "2021-08-27T15:01:16.897Z"
   },
   {
    "duration": 5,
    "start_time": "2021-08-27T15:13:44.204Z"
   },
   {
    "duration": 30,
    "start_time": "2021-08-27T15:13:51.032Z"
   },
   {
    "duration": 6,
    "start_time": "2021-08-27T15:14:35.972Z"
   },
   {
    "duration": 47,
    "start_time": "2021-08-27T15:14:42.768Z"
   },
   {
    "duration": 6056,
    "start_time": "2021-08-27T15:15:22.819Z"
   },
   {
    "duration": 54,
    "start_time": "2021-08-27T15:17:34.288Z"
   },
   {
    "duration": 588,
    "start_time": "2021-08-27T15:17:38.179Z"
   },
   {
    "duration": 656,
    "start_time": "2021-08-27T15:18:32.979Z"
   },
   {
    "duration": 727,
    "start_time": "2021-08-27T15:18:42.663Z"
   },
   {
    "duration": 610,
    "start_time": "2021-08-27T15:19:12.280Z"
   },
   {
    "duration": 644,
    "start_time": "2021-08-27T15:22:37.583Z"
   },
   {
    "duration": 639,
    "start_time": "2021-08-27T15:23:54.603Z"
   },
   {
    "duration": 39,
    "start_time": "2021-08-27T15:25:24.955Z"
   },
   {
    "duration": 10137,
    "start_time": "2021-08-27T15:25:44.807Z"
   },
   {
    "duration": 626,
    "start_time": "2021-08-27T15:30:07.978Z"
   },
   {
    "duration": 655,
    "start_time": "2021-08-27T15:31:50.586Z"
   },
   {
    "duration": 672,
    "start_time": "2021-08-27T15:36:01.846Z"
   },
   {
    "duration": 579,
    "start_time": "2021-08-28T05:50:56.296Z"
   },
   {
    "duration": 44,
    "start_time": "2021-08-28T05:50:56.877Z"
   },
   {
    "duration": 170,
    "start_time": "2021-08-28T05:50:56.923Z"
   },
   {
    "duration": 102,
    "start_time": "2021-08-28T05:50:57.095Z"
   },
   {
    "duration": 148,
    "start_time": "2021-08-28T05:50:57.199Z"
   },
   {
    "duration": 20,
    "start_time": "2021-08-28T05:50:57.348Z"
   },
   {
    "duration": 146,
    "start_time": "2021-08-28T05:50:57.370Z"
   },
   {
    "duration": 174,
    "start_time": "2021-08-28T05:50:57.518Z"
   },
   {
    "duration": 147,
    "start_time": "2021-08-28T05:50:57.694Z"
   },
   {
    "duration": 22,
    "start_time": "2021-08-28T05:50:57.891Z"
   },
   {
    "duration": 47,
    "start_time": "2021-08-28T05:50:57.915Z"
   },
   {
    "duration": 60,
    "start_time": "2021-08-28T05:50:57.964Z"
   },
   {
    "duration": 15,
    "start_time": "2021-08-28T05:50:58.025Z"
   },
   {
    "duration": 61,
    "start_time": "2021-08-28T05:50:58.041Z"
   },
   {
    "duration": 17,
    "start_time": "2021-08-28T05:50:58.104Z"
   },
   {
    "duration": 8,
    "start_time": "2021-08-28T05:50:58.122Z"
   },
   {
    "duration": 40,
    "start_time": "2021-08-28T05:50:58.132Z"
   },
   {
    "duration": 567,
    "start_time": "2021-08-28T05:50:58.173Z"
   },
   {
    "duration": 1070,
    "start_time": "2021-08-28T05:50:58.741Z"
   },
   {
    "duration": 487,
    "start_time": "2021-08-28T05:50:59.813Z"
   },
   {
    "duration": 39,
    "start_time": "2021-08-28T05:51:00.301Z"
   },
   {
    "duration": 6,
    "start_time": "2021-08-28T05:51:00.342Z"
   },
   {
    "duration": 13,
    "start_time": "2021-08-28T05:51:00.351Z"
   },
   {
    "duration": 30,
    "start_time": "2021-08-28T05:51:00.366Z"
   },
   {
    "duration": 10,
    "start_time": "2021-08-28T05:51:00.398Z"
   },
   {
    "duration": 20,
    "start_time": "2021-08-28T05:51:00.409Z"
   },
   {
    "duration": 14,
    "start_time": "2021-08-28T05:51:00.430Z"
   },
   {
    "duration": 21,
    "start_time": "2021-08-28T05:51:00.445Z"
   },
   {
    "duration": 27,
    "start_time": "2021-08-28T05:51:00.468Z"
   },
   {
    "duration": 513,
    "start_time": "2021-08-28T05:51:00.496Z"
   },
   {
    "duration": 6305,
    "start_time": "2021-08-28T05:53:19.184Z"
   },
   {
    "duration": 6500,
    "start_time": "2021-08-28T05:55:01.564Z"
   },
   {
    "duration": 426,
    "start_time": "2021-08-28T05:55:42.386Z"
   },
   {
    "duration": 467,
    "start_time": "2021-08-28T06:08:32.687Z"
   },
   {
    "duration": 437,
    "start_time": "2021-08-28T06:08:52.427Z"
   },
   {
    "duration": 461,
    "start_time": "2021-08-28T06:09:28.875Z"
   },
   {
    "duration": 441,
    "start_time": "2021-08-28T06:11:22.264Z"
   },
   {
    "duration": 439,
    "start_time": "2021-08-28T06:11:52.910Z"
   },
   {
    "duration": 414,
    "start_time": "2021-08-28T06:14:24.814Z"
   },
   {
    "duration": 3464,
    "start_time": "2021-08-28T06:17:12.542Z"
   },
   {
    "duration": 3,
    "start_time": "2021-08-28T06:24:37.365Z"
   },
   {
    "duration": 3,
    "start_time": "2021-08-28T06:25:04.143Z"
   },
   {
    "duration": 7097,
    "start_time": "2021-08-28T06:25:20.485Z"
   },
   {
    "duration": 234,
    "start_time": "2021-08-28T06:25:45.913Z"
   },
   {
    "duration": 226,
    "start_time": "2021-08-28T06:28:07.232Z"
   },
   {
    "duration": 329,
    "start_time": "2021-08-28T06:28:24.863Z"
   },
   {
    "duration": 5,
    "start_time": "2021-08-28T06:35:29.614Z"
   },
   {
    "duration": 4,
    "start_time": "2021-08-28T06:35:34.363Z"
   },
   {
    "duration": 20,
    "start_time": "2021-08-28T06:36:40.805Z"
   },
   {
    "duration": 13,
    "start_time": "2021-08-28T06:36:49.138Z"
   },
   {
    "duration": 14,
    "start_time": "2021-08-28T06:37:07.361Z"
   },
   {
    "duration": 4,
    "start_time": "2021-08-28T06:38:03.225Z"
   },
   {
    "duration": 4,
    "start_time": "2021-08-28T06:38:37.942Z"
   },
   {
    "duration": 18,
    "start_time": "2021-08-28T06:39:43.997Z"
   },
   {
    "duration": 15,
    "start_time": "2021-08-28T06:39:56.338Z"
   },
   {
    "duration": 16,
    "start_time": "2021-08-28T06:40:03.577Z"
   },
   {
    "duration": 17,
    "start_time": "2021-08-28T06:40:38.733Z"
   },
   {
    "duration": 14,
    "start_time": "2021-08-28T06:40:50.738Z"
   },
   {
    "duration": 16,
    "start_time": "2021-08-28T06:41:56.617Z"
   },
   {
    "duration": 388,
    "start_time": "2021-08-28T06:42:15.173Z"
   },
   {
    "duration": 8,
    "start_time": "2021-08-28T06:42:46.229Z"
   },
   {
    "duration": 8,
    "start_time": "2021-08-28T06:42:49.269Z"
   },
   {
    "duration": 9,
    "start_time": "2021-08-28T06:43:06.281Z"
   },
   {
    "duration": 8,
    "start_time": "2021-08-28T06:43:19.733Z"
   },
   {
    "duration": 17,
    "start_time": "2021-08-28T06:43:23.888Z"
   },
   {
    "duration": 9,
    "start_time": "2021-08-28T06:43:43.821Z"
   },
   {
    "duration": 8,
    "start_time": "2021-08-28T06:43:44.879Z"
   },
   {
    "duration": 16,
    "start_time": "2021-08-28T06:43:58.960Z"
   },
   {
    "duration": 331,
    "start_time": "2021-08-28T06:44:09.105Z"
   },
   {
    "duration": 1190,
    "start_time": "2021-08-28T06:44:34.980Z"
   },
   {
    "duration": 247,
    "start_time": "2021-08-28T06:44:58.436Z"
   },
   {
    "duration": 234,
    "start_time": "2021-08-28T06:45:04.456Z"
   },
   {
    "duration": 17,
    "start_time": "2021-08-28T06:46:01.784Z"
   },
   {
    "duration": 16,
    "start_time": "2021-08-28T06:46:46.041Z"
   },
   {
    "duration": 17,
    "start_time": "2021-08-28T06:47:32.106Z"
   },
   {
    "duration": 14,
    "start_time": "2021-08-28T06:48:37.819Z"
   },
   {
    "duration": 12,
    "start_time": "2021-08-28T06:49:26.370Z"
   },
   {
    "duration": 16,
    "start_time": "2021-08-28T06:49:40.884Z"
   },
   {
    "duration": 19,
    "start_time": "2021-08-28T06:50:14.042Z"
   },
   {
    "duration": 17,
    "start_time": "2021-08-28T06:51:00.299Z"
   },
   {
    "duration": 21,
    "start_time": "2021-08-28T06:52:10.740Z"
   },
   {
    "duration": 318,
    "start_time": "2021-08-28T06:52:30.840Z"
   },
   {
    "duration": 18,
    "start_time": "2021-08-28T06:52:37.498Z"
   },
   {
    "duration": 18,
    "start_time": "2021-08-28T06:53:59.648Z"
   },
   {
    "duration": 17,
    "start_time": "2021-08-28T06:54:13.952Z"
   },
   {
    "duration": 17,
    "start_time": "2021-08-28T06:54:45.462Z"
   },
   {
    "duration": 291,
    "start_time": "2021-08-28T07:28:12.508Z"
   },
   {
    "duration": 18,
    "start_time": "2021-08-28T07:29:06.180Z"
   },
   {
    "duration": 263,
    "start_time": "2021-08-28T07:30:30.054Z"
   },
   {
    "duration": 3,
    "start_time": "2021-08-28T07:31:07.839Z"
   },
   {
    "duration": 380,
    "start_time": "2021-08-28T07:31:13.895Z"
   },
   {
    "duration": 464,
    "start_time": "2021-08-28T07:34:32.726Z"
   },
   {
    "duration": 38,
    "start_time": "2021-08-28T07:34:44.634Z"
   },
   {
    "duration": 218,
    "start_time": "2021-08-28T07:35:05.659Z"
   },
   {
    "duration": 342,
    "start_time": "2021-08-28T07:38:35.353Z"
   },
   {
    "duration": 251,
    "start_time": "2021-08-28T07:39:28.387Z"
   },
   {
    "duration": 1262,
    "start_time": "2021-08-28T07:40:21.520Z"
   },
   {
    "duration": 222,
    "start_time": "2021-08-28T07:43:24.689Z"
   },
   {
    "duration": 631,
    "start_time": "2021-08-28T07:45:06.851Z"
   },
   {
    "duration": 419,
    "start_time": "2021-08-28T07:46:09.331Z"
   },
   {
    "duration": 6146,
    "start_time": "2021-08-28T07:46:20.694Z"
   },
   {
    "duration": 383,
    "start_time": "2021-08-28T07:47:02.863Z"
   },
   {
    "duration": 113,
    "start_time": "2021-08-28T07:47:23.050Z"
   },
   {
    "duration": 6203,
    "start_time": "2021-08-28T07:48:00.370Z"
   },
   {
    "duration": 108,
    "start_time": "2021-08-28T07:48:17.141Z"
   },
   {
    "duration": 373,
    "start_time": "2021-08-28T08:06:08.595Z"
   },
   {
    "duration": 14,
    "start_time": "2021-08-28T10:13:57.202Z"
   },
   {
    "duration": 272,
    "start_time": "2021-08-28T10:14:10.137Z"
   },
   {
    "duration": 248,
    "start_time": "2021-08-28T10:14:23.923Z"
   },
   {
    "duration": 16,
    "start_time": "2021-08-28T10:14:39.519Z"
   },
   {
    "duration": 84,
    "start_time": "2021-08-28T10:14:52.383Z"
   },
   {
    "duration": 623,
    "start_time": "2021-08-28T10:14:59.148Z"
   },
   {
    "duration": 13,
    "start_time": "2021-08-28T10:15:04.559Z"
   },
   {
    "duration": 1506,
    "start_time": "2021-08-28T10:15:57.247Z"
   },
   {
    "duration": 157,
    "start_time": "2021-08-28T10:16:24.670Z"
   },
   {
    "duration": 171,
    "start_time": "2021-08-28T10:16:30.951Z"
   },
   {
    "duration": 6044,
    "start_time": "2021-08-28T10:17:07.544Z"
   },
   {
    "duration": 175,
    "start_time": "2021-08-28T10:17:21.820Z"
   },
   {
    "duration": 254,
    "start_time": "2021-08-28T10:18:07.876Z"
   },
   {
    "duration": 4,
    "start_time": "2021-08-28T10:19:26.876Z"
   },
   {
    "duration": -6888687,
    "start_time": "2021-08-28T12:14:30.323Z"
   },
   {
    "duration": 6,
    "start_time": "2021-08-28T10:19:42.599Z"
   },
   {
    "duration": 279,
    "start_time": "2021-08-28T10:19:57.018Z"
   },
   {
    "duration": 263,
    "start_time": "2021-08-28T10:20:07.465Z"
   },
   {
    "duration": 5,
    "start_time": "2021-08-28T10:20:17.516Z"
   },
   {
    "duration": 178,
    "start_time": "2021-08-28T10:22:09.412Z"
   },
   {
    "duration": 136,
    "start_time": "2021-08-28T10:22:14.411Z"
   },
   {
    "duration": 371,
    "start_time": "2021-08-28T10:24:16.426Z"
   },
   {
    "duration": 400,
    "start_time": "2021-08-28T10:24:51.736Z"
   },
   {
    "duration": 244,
    "start_time": "2021-08-28T10:25:22.107Z"
   },
   {
    "duration": 419,
    "start_time": "2021-08-28T10:25:31.575Z"
   },
   {
    "duration": 279,
    "start_time": "2021-08-28T10:26:21.635Z"
   },
   {
    "duration": 1230,
    "start_time": "2021-08-28T10:26:30.779Z"
   },
   {
    "duration": 1562,
    "start_time": "2021-08-28T10:30:18.367Z"
   },
   {
    "duration": 2199,
    "start_time": "2021-08-28T10:30:43.983Z"
   },
   {
    "duration": 245,
    "start_time": "2021-08-28T10:38:41.019Z"
   },
   {
    "duration": 14,
    "start_time": "2021-08-28T10:38:56.874Z"
   },
   {
    "duration": 17,
    "start_time": "2021-08-28T10:39:32.209Z"
   },
   {
    "duration": 17,
    "start_time": "2021-08-28T10:39:35.080Z"
   },
   {
    "duration": 10,
    "start_time": "2021-08-28T10:39:36.213Z"
   },
   {
    "duration": 406,
    "start_time": "2021-08-28T10:40:53.722Z"
   },
   {
    "duration": 17,
    "start_time": "2021-08-28T10:44:35.777Z"
   },
   {
    "duration": 18,
    "start_time": "2021-08-28T10:44:54.045Z"
   },
   {
    "duration": 43,
    "start_time": "2021-08-28T10:49:47.009Z"
   },
   {
    "duration": 244,
    "start_time": "2021-08-28T12:06:04.556Z"
   },
   {
    "duration": 253,
    "start_time": "2021-08-28T12:06:21.884Z"
   },
   {
    "duration": 232,
    "start_time": "2021-08-28T12:07:22.380Z"
   },
   {
    "duration": 249,
    "start_time": "2021-08-28T12:07:50.948Z"
   },
   {
    "duration": 7174,
    "start_time": "2021-08-28T12:11:28.971Z"
   },
   {
    "duration": 590,
    "start_time": "2021-08-28T12:11:55.923Z"
   },
   {
    "duration": 3,
    "start_time": "2021-08-28T12:13:02.583Z"
   },
   {
    "duration": 4,
    "start_time": "2021-08-28T12:13:09.788Z"
   },
   {
    "duration": 5,
    "start_time": "2021-08-28T12:13:19.439Z"
   },
   {
    "duration": 575,
    "start_time": "2021-08-28T12:13:33.531Z"
   },
   {
    "duration": 631,
    "start_time": "2021-08-28T12:14:41.399Z"
   },
   {
    "duration": 710,
    "start_time": "2021-08-28T12:16:52.988Z"
   },
   {
    "duration": 657,
    "start_time": "2021-08-28T12:19:11.483Z"
   },
   {
    "duration": 73,
    "start_time": "2021-08-28T12:51:13.470Z"
   },
   {
    "duration": 637,
    "start_time": "2021-08-28T12:59:03.155Z"
   },
   {
    "duration": 683,
    "start_time": "2021-08-28T12:59:09.998Z"
   },
   {
    "duration": 609,
    "start_time": "2021-08-28T12:59:14.970Z"
   },
   {
    "duration": 82,
    "start_time": "2021-08-28T13:07:19.709Z"
   },
   {
    "duration": 86,
    "start_time": "2021-08-28T13:07:31.136Z"
   },
   {
    "duration": 90,
    "start_time": "2021-08-28T13:07:56.360Z"
   },
   {
    "duration": 107,
    "start_time": "2021-08-28T13:08:03.077Z"
   },
   {
    "duration": 80,
    "start_time": "2021-08-28T13:08:52.081Z"
   },
   {
    "duration": 89,
    "start_time": "2021-08-28T13:09:56.360Z"
   },
   {
    "duration": 82,
    "start_time": "2021-08-28T13:09:59.821Z"
   },
   {
    "duration": 42,
    "start_time": "2021-08-28T13:10:04.701Z"
   },
   {
    "duration": 40,
    "start_time": "2021-08-28T13:12:37.411Z"
   },
   {
    "duration": 282,
    "start_time": "2021-08-28T13:18:55.949Z"
   },
   {
    "duration": 40,
    "start_time": "2021-08-28T13:19:38.127Z"
   },
   {
    "duration": 8,
    "start_time": "2021-08-28T13:20:31.131Z"
   },
   {
    "duration": 22,
    "start_time": "2021-08-28T13:20:39.967Z"
   },
   {
    "duration": 42,
    "start_time": "2021-08-28T13:20:47.823Z"
   },
   {
    "duration": 22,
    "start_time": "2021-08-28T13:20:49.199Z"
   },
   {
    "duration": 24,
    "start_time": "2021-08-28T13:36:19.941Z"
   },
   {
    "duration": 23,
    "start_time": "2021-08-28T13:36:21.793Z"
   },
   {
    "duration": 40,
    "start_time": "2021-08-28T13:36:25.663Z"
   },
   {
    "duration": 22,
    "start_time": "2021-08-28T13:36:27.109Z"
   },
   {
    "duration": 45,
    "start_time": "2021-08-28T13:37:15.257Z"
   },
   {
    "duration": 46,
    "start_time": "2021-08-28T13:37:36.213Z"
   },
   {
    "duration": 50,
    "start_time": "2021-08-28T13:37:45.585Z"
   },
   {
    "duration": 39,
    "start_time": "2021-08-28T13:37:58.273Z"
   },
   {
    "duration": 46,
    "start_time": "2021-08-28T13:38:31.439Z"
   },
   {
    "duration": 1836,
    "start_time": "2021-08-28T16:35:21.469Z"
   },
   {
    "duration": 65,
    "start_time": "2021-08-28T16:35:23.308Z"
   },
   {
    "duration": 362,
    "start_time": "2021-08-28T16:35:23.377Z"
   },
   {
    "duration": 306,
    "start_time": "2021-08-28T16:35:23.743Z"
   },
   {
    "duration": 381,
    "start_time": "2021-08-28T16:35:24.052Z"
   },
   {
    "duration": 661,
    "start_time": "2021-08-28T16:35:24.436Z"
   },
   {
    "duration": 1934,
    "start_time": "2021-08-28T16:35:25.100Z"
   },
   {
    "duration": 117,
    "start_time": "2021-08-28T16:35:27.038Z"
   },
   {
    "duration": 143,
    "start_time": "2021-08-28T16:35:27.158Z"
   },
   {
    "duration": 39,
    "start_time": "2021-08-28T16:35:27.303Z"
   },
   {
    "duration": 90,
    "start_time": "2021-08-28T16:35:27.345Z"
   },
   {
    "duration": 87,
    "start_time": "2021-08-28T16:35:27.438Z"
   },
   {
    "duration": 21,
    "start_time": "2021-08-28T16:35:27.527Z"
   },
   {
    "duration": 92,
    "start_time": "2021-08-28T16:35:27.551Z"
   },
   {
    "duration": 30,
    "start_time": "2021-08-28T16:35:27.647Z"
   },
   {
    "duration": 14,
    "start_time": "2021-08-28T16:35:27.680Z"
   },
   {
    "duration": 122,
    "start_time": "2021-08-28T16:35:27.696Z"
   },
   {
    "duration": 1435,
    "start_time": "2021-08-28T16:35:27.821Z"
   },
   {
    "duration": 1869,
    "start_time": "2021-08-28T16:35:29.259Z"
   },
   {
    "duration": 1382,
    "start_time": "2021-08-28T16:35:31.131Z"
   },
   {
    "duration": 76,
    "start_time": "2021-08-28T16:35:32.517Z"
   },
   {
    "duration": 27,
    "start_time": "2021-08-28T16:35:32.595Z"
   },
   {
    "duration": 14,
    "start_time": "2021-08-28T16:35:32.626Z"
   },
   {
    "duration": 13,
    "start_time": "2021-08-28T16:35:32.643Z"
   },
   {
    "duration": 16,
    "start_time": "2021-08-28T16:35:32.658Z"
   },
   {
    "duration": 54,
    "start_time": "2021-08-28T16:35:32.676Z"
   },
   {
    "duration": 12,
    "start_time": "2021-08-28T16:35:32.732Z"
   },
   {
    "duration": 471,
    "start_time": "2021-08-28T16:35:32.746Z"
   },
   {
    "duration": -6888258,
    "start_time": "2021-08-28T18:30:21.478Z"
   },
   {
    "duration": -6888266,
    "start_time": "2021-08-28T18:30:21.487Z"
   },
   {
    "duration": -6888267,
    "start_time": "2021-08-28T18:30:21.489Z"
   },
   {
    "duration": -6888268,
    "start_time": "2021-08-28T18:30:21.492Z"
   },
   {
    "duration": -6888269,
    "start_time": "2021-08-28T18:30:21.494Z"
   },
   {
    "duration": -6888270,
    "start_time": "2021-08-28T18:30:21.496Z"
   },
   {
    "duration": -6888271,
    "start_time": "2021-08-28T18:30:21.498Z"
   },
   {
    "duration": -6888272,
    "start_time": "2021-08-28T18:30:21.500Z"
   },
   {
    "duration": 22,
    "start_time": "2021-08-28T16:36:01.010Z"
   },
   {
    "duration": 17,
    "start_time": "2021-08-28T16:36:05.233Z"
   },
   {
    "duration": 17,
    "start_time": "2021-08-28T16:36:10.471Z"
   },
   {
    "duration": 24,
    "start_time": "2021-08-28T16:36:25.589Z"
   },
   {
    "duration": 18,
    "start_time": "2021-08-28T16:36:30.628Z"
   },
   {
    "duration": 18,
    "start_time": "2021-08-28T16:36:34.801Z"
   },
   {
    "duration": 17,
    "start_time": "2021-08-28T16:36:48.683Z"
   },
   {
    "duration": 16,
    "start_time": "2021-08-28T16:36:53.101Z"
   },
   {
    "duration": 16,
    "start_time": "2021-08-28T16:36:57.038Z"
   },
   {
    "duration": 17,
    "start_time": "2021-08-28T16:37:04.228Z"
   },
   {
    "duration": 17,
    "start_time": "2021-08-28T16:37:17.448Z"
   },
   {
    "duration": 18,
    "start_time": "2021-08-28T16:37:22.109Z"
   },
   {
    "duration": 17,
    "start_time": "2021-08-28T16:37:26.220Z"
   },
   {
    "duration": 32,
    "start_time": "2021-08-28T16:37:29.917Z"
   },
   {
    "duration": 20,
    "start_time": "2021-08-28T16:37:31.467Z"
   },
   {
    "duration": 3,
    "start_time": "2021-08-28T16:38:41.972Z"
   },
   {
    "duration": 17,
    "start_time": "2021-08-28T16:38:44.788Z"
   },
   {
    "duration": 16,
    "start_time": "2021-08-28T16:38:45.945Z"
   },
   {
    "duration": 1607,
    "start_time": "2021-08-28T16:38:58.203Z"
   },
   {
    "duration": 106,
    "start_time": "2021-08-28T16:38:59.813Z"
   },
   {
    "duration": 324,
    "start_time": "2021-08-28T16:38:59.922Z"
   },
   {
    "duration": 198,
    "start_time": "2021-08-28T16:39:00.250Z"
   },
   {
    "duration": 288,
    "start_time": "2021-08-28T16:39:00.452Z"
   },
   {
    "duration": 29,
    "start_time": "2021-08-28T16:39:00.742Z"
   },
   {
    "duration": 223,
    "start_time": "2021-08-28T16:39:00.774Z"
   },
   {
    "duration": 116,
    "start_time": "2021-08-28T16:39:01.000Z"
   },
   {
    "duration": 141,
    "start_time": "2021-08-28T16:39:01.119Z"
   },
   {
    "duration": 31,
    "start_time": "2021-08-28T16:39:01.263Z"
   },
   {
    "duration": 91,
    "start_time": "2021-08-28T16:39:01.297Z"
   },
   {
    "duration": 80,
    "start_time": "2021-08-28T16:39:01.391Z"
   },
   {
    "duration": 21,
    "start_time": "2021-08-28T16:39:01.473Z"
   },
   {
    "duration": 85,
    "start_time": "2021-08-28T16:39:01.497Z"
   },
   {
    "duration": 40,
    "start_time": "2021-08-28T16:39:01.585Z"
   },
   {
    "duration": 12,
    "start_time": "2021-08-28T16:39:01.628Z"
   },
   {
    "duration": 83,
    "start_time": "2021-08-28T16:39:01.643Z"
   },
   {
    "duration": 1713,
    "start_time": "2021-08-28T16:39:01.729Z"
   },
   {
    "duration": 2110,
    "start_time": "2021-08-28T16:39:03.445Z"
   },
   {
    "duration": 1820,
    "start_time": "2021-08-28T16:39:05.557Z"
   },
   {
    "duration": 86,
    "start_time": "2021-08-28T16:39:07.379Z"
   },
   {
    "duration": 10,
    "start_time": "2021-08-28T16:39:07.468Z"
   },
   {
    "duration": 14,
    "start_time": "2021-08-28T16:39:07.482Z"
   },
   {
    "duration": 14,
    "start_time": "2021-08-28T16:39:07.517Z"
   },
   {
    "duration": 18,
    "start_time": "2021-08-28T16:39:07.533Z"
   },
   {
    "duration": 20,
    "start_time": "2021-08-28T16:39:07.553Z"
   },
   {
    "duration": 4,
    "start_time": "2021-08-28T16:39:07.575Z"
   },
   {
    "duration": 429,
    "start_time": "2021-08-28T16:39:07.617Z"
   },
   {
    "duration": -6888295,
    "start_time": "2021-08-28T18:33:56.343Z"
   },
   {
    "duration": -6888300,
    "start_time": "2021-08-28T18:33:56.350Z"
   },
   {
    "duration": -6888302,
    "start_time": "2021-08-28T18:33:56.353Z"
   },
   {
    "duration": -6888302,
    "start_time": "2021-08-28T18:33:56.355Z"
   },
   {
    "duration": -6888304,
    "start_time": "2021-08-28T18:33:56.358Z"
   },
   {
    "duration": -6888305,
    "start_time": "2021-08-28T18:33:56.361Z"
   },
   {
    "duration": -6888309,
    "start_time": "2021-08-28T18:33:56.367Z"
   },
   {
    "duration": -6888311,
    "start_time": "2021-08-28T18:33:56.370Z"
   },
   {
    "duration": 18,
    "start_time": "2021-08-28T16:39:51.015Z"
   },
   {
    "duration": 17,
    "start_time": "2021-08-28T16:40:06.300Z"
   },
   {
    "duration": 19,
    "start_time": "2021-08-28T16:40:29.059Z"
   },
   {
    "duration": 16,
    "start_time": "2021-08-28T16:40:39.115Z"
   },
   {
    "duration": 16,
    "start_time": "2021-08-28T16:40:40.264Z"
   },
   {
    "duration": 128,
    "start_time": "2021-08-28T16:47:16.979Z"
   },
   {
    "duration": 20,
    "start_time": "2021-08-28T16:47:25.813Z"
   },
   {
    "duration": 42,
    "start_time": "2021-08-28T16:47:31.372Z"
   },
   {
    "duration": 835,
    "start_time": "2021-08-28T16:47:36.203Z"
   },
   {
    "duration": 707,
    "start_time": "2021-08-28T16:49:10.209Z"
   },
   {
    "duration": 1451,
    "start_time": "2021-08-28T16:49:25.565Z"
   },
   {
    "duration": 87,
    "start_time": "2021-08-28T16:49:27.019Z"
   },
   {
    "duration": 232,
    "start_time": "2021-08-28T16:49:27.109Z"
   },
   {
    "duration": 142,
    "start_time": "2021-08-28T16:49:27.343Z"
   },
   {
    "duration": 210,
    "start_time": "2021-08-28T16:49:27.488Z"
   },
   {
    "duration": 28,
    "start_time": "2021-08-28T16:49:27.700Z"
   },
   {
    "duration": 348,
    "start_time": "2021-08-28T16:49:27.732Z"
   },
   {
    "duration": 215,
    "start_time": "2021-08-28T16:49:28.087Z"
   },
   {
    "duration": 141,
    "start_time": "2021-08-28T16:49:28.305Z"
   },
   {
    "duration": 32,
    "start_time": "2021-08-28T16:49:28.449Z"
   },
   {
    "duration": 95,
    "start_time": "2021-08-28T16:49:28.483Z"
   },
   {
    "duration": 95,
    "start_time": "2021-08-28T16:49:28.581Z"
   },
   {
    "duration": 38,
    "start_time": "2021-08-28T16:49:28.678Z"
   },
   {
    "duration": 70,
    "start_time": "2021-08-28T16:49:28.719Z"
   },
   {
    "duration": 44,
    "start_time": "2021-08-28T16:49:28.791Z"
   },
   {
    "duration": 13,
    "start_time": "2021-08-28T16:49:28.838Z"
   },
   {
    "duration": 88,
    "start_time": "2021-08-28T16:49:28.857Z"
   },
   {
    "duration": 1929,
    "start_time": "2021-08-28T16:49:28.948Z"
   },
   {
    "duration": 1544,
    "start_time": "2021-08-28T16:49:30.880Z"
   },
   {
    "duration": 1349,
    "start_time": "2021-08-28T16:49:32.427Z"
   },
   {
    "duration": 84,
    "start_time": "2021-08-28T16:49:33.779Z"
   },
   {
    "duration": 13,
    "start_time": "2021-08-28T16:49:33.866Z"
   },
   {
    "duration": 39,
    "start_time": "2021-08-28T16:49:33.884Z"
   },
   {
    "duration": 17,
    "start_time": "2021-08-28T16:49:33.926Z"
   },
   {
    "duration": 22,
    "start_time": "2021-08-28T16:49:33.946Z"
   },
   {
    "duration": 60,
    "start_time": "2021-08-28T16:49:33.971Z"
   },
   {
    "duration": 4,
    "start_time": "2021-08-28T16:49:34.034Z"
   },
   {
    "duration": 14,
    "start_time": "2021-08-28T16:49:34.040Z"
   },
   {
    "duration": 88,
    "start_time": "2021-08-28T16:49:34.057Z"
   },
   {
    "duration": 900,
    "start_time": "2021-08-28T16:49:34.148Z"
   },
   {
    "duration": 39,
    "start_time": "2021-08-28T16:49:35.051Z"
   },
   {
    "duration": 55,
    "start_time": "2021-08-28T16:49:35.094Z"
   },
   {
    "duration": 38,
    "start_time": "2021-08-28T16:49:35.152Z"
   },
   {
    "duration": 60,
    "start_time": "2021-08-28T16:49:35.193Z"
   },
   {
    "duration": 142,
    "start_time": "2021-08-28T16:49:35.256Z"
   },
   {
    "duration": 4387,
    "start_time": "2021-08-28T16:49:35.401Z"
   },
   {
    "duration": 10,
    "start_time": "2021-08-28T16:51:04.789Z"
   },
   {
    "duration": 5,
    "start_time": "2021-08-28T16:51:17.466Z"
   },
   {
    "duration": 10,
    "start_time": "2021-08-28T16:51:30.226Z"
   },
   {
    "duration": 10,
    "start_time": "2021-08-28T16:51:48.078Z"
   },
   {
    "duration": 13,
    "start_time": "2021-08-28T16:51:53.925Z"
   },
   {
    "duration": 16,
    "start_time": "2021-08-28T16:52:02.626Z"
   },
   {
    "duration": 13,
    "start_time": "2021-08-28T16:52:18.527Z"
   },
   {
    "duration": 10,
    "start_time": "2021-08-28T16:52:31.140Z"
   },
   {
    "duration": 21,
    "start_time": "2021-08-28T16:58:49.257Z"
   },
   {
    "duration": 13,
    "start_time": "2021-08-28T16:58:50.857Z"
   },
   {
    "duration": 47,
    "start_time": "2021-08-28T17:00:13.000Z"
   },
   {
    "duration": 5572,
    "start_time": "2021-08-28T17:05:16.552Z"
   },
   {
    "duration": 1460,
    "start_time": "2021-08-28T17:05:55.056Z"
   },
   {
    "duration": 102,
    "start_time": "2021-08-28T17:05:56.520Z"
   },
   {
    "duration": 299,
    "start_time": "2021-08-28T17:05:56.626Z"
   },
   {
    "duration": 307,
    "start_time": "2021-08-28T17:05:56.929Z"
   },
   {
    "duration": 419,
    "start_time": "2021-08-28T17:05:57.238Z"
   },
   {
    "duration": 63,
    "start_time": "2021-08-28T17:05:57.660Z"
   },
   {
    "duration": 245,
    "start_time": "2021-08-28T17:05:57.725Z"
   },
   {
    "duration": 123,
    "start_time": "2021-08-28T17:05:57.974Z"
   },
   {
    "duration": 150,
    "start_time": "2021-08-28T17:05:58.100Z"
   },
   {
    "duration": 35,
    "start_time": "2021-08-28T17:05:58.253Z"
   },
   {
    "duration": 94,
    "start_time": "2021-08-28T17:05:58.291Z"
   },
   {
    "duration": 86,
    "start_time": "2021-08-28T17:05:58.388Z"
   },
   {
    "duration": 39,
    "start_time": "2021-08-28T17:05:58.477Z"
   },
   {
    "duration": 75,
    "start_time": "2021-08-28T17:05:58.519Z"
   },
   {
    "duration": 43,
    "start_time": "2021-08-28T17:05:58.597Z"
   },
   {
    "duration": 16,
    "start_time": "2021-08-28T17:05:58.642Z"
   },
   {
    "duration": 108,
    "start_time": "2021-08-28T17:05:58.661Z"
   },
   {
    "duration": 1444,
    "start_time": "2021-08-28T17:05:58.772Z"
   },
   {
    "duration": 1573,
    "start_time": "2021-08-28T17:06:00.219Z"
   },
   {
    "duration": 1430,
    "start_time": "2021-08-28T17:06:01.794Z"
   },
   {
    "duration": 69,
    "start_time": "2021-08-28T17:06:03.227Z"
   },
   {
    "duration": 11,
    "start_time": "2021-08-28T17:06:03.316Z"
   },
   {
    "duration": 22,
    "start_time": "2021-08-28T17:06:03.332Z"
   },
   {
    "duration": 23,
    "start_time": "2021-08-28T17:06:03.357Z"
   },
   {
    "duration": 36,
    "start_time": "2021-08-28T17:06:03.382Z"
   },
   {
    "duration": 25,
    "start_time": "2021-08-28T17:06:03.420Z"
   },
   {
    "duration": 33,
    "start_time": "2021-08-28T17:06:03.448Z"
   },
   {
    "duration": 29,
    "start_time": "2021-08-28T17:06:03.484Z"
   },
   {
    "duration": 67,
    "start_time": "2021-08-28T17:06:03.516Z"
   },
   {
    "duration": 793,
    "start_time": "2021-08-28T17:06:03.585Z"
   },
   {
    "duration": 49,
    "start_time": "2021-08-28T17:06:04.380Z"
   },
   {
    "duration": 34,
    "start_time": "2021-08-28T17:06:04.432Z"
   },
   {
    "duration": 60,
    "start_time": "2021-08-28T17:06:04.469Z"
   },
   {
    "duration": 515,
    "start_time": "2021-08-28T17:06:04.531Z"
   },
   {
    "duration": -6888301,
    "start_time": "2021-08-28T19:00:53.350Z"
   },
   {
    "duration": -6888302,
    "start_time": "2021-08-28T19:00:53.353Z"
   },
   {
    "duration": 27,
    "start_time": "2021-08-28T17:06:48.251Z"
   },
   {
    "duration": 96,
    "start_time": "2021-08-28T17:14:59.924Z"
   },
   {
    "duration": 28,
    "start_time": "2021-08-28T17:20:21.933Z"
   },
   {
    "duration": 29,
    "start_time": "2021-08-28T17:20:47.963Z"
   },
   {
    "duration": 34,
    "start_time": "2021-08-28T17:20:53.324Z"
   },
   {
    "duration": 34,
    "start_time": "2021-08-28T17:21:19.103Z"
   },
   {
    "duration": 27,
    "start_time": "2021-08-28T17:21:24.723Z"
   },
   {
    "duration": 26,
    "start_time": "2021-08-28T17:21:44.152Z"
   },
   {
    "duration": 25,
    "start_time": "2021-08-28T17:22:08.283Z"
   },
   {
    "duration": 3933,
    "start_time": "2021-08-28T17:22:29.038Z"
   },
   {
    "duration": 25,
    "start_time": "2021-08-28T17:22:37.674Z"
   },
   {
    "duration": 25,
    "start_time": "2021-08-28T17:22:40.872Z"
   },
   {
    "duration": 20,
    "start_time": "2021-08-28T17:24:01.280Z"
   },
   {
    "duration": 25,
    "start_time": "2021-08-28T17:24:12.382Z"
   },
   {
    "duration": 337,
    "start_time": "2021-08-28T17:30:16.141Z"
   },
   {
    "duration": 364,
    "start_time": "2021-08-28T17:36:53.842Z"
   },
   {
    "duration": 430,
    "start_time": "2021-08-28T17:38:42.514Z"
   },
   {
    "duration": 29,
    "start_time": "2021-08-28T17:39:07.642Z"
   },
   {
    "duration": 27,
    "start_time": "2021-08-28T17:39:19.560Z"
   },
   {
    "duration": 20,
    "start_time": "2021-08-28T17:39:42.784Z"
   },
   {
    "duration": 10,
    "start_time": "2021-08-28T17:40:12.848Z"
   },
   {
    "duration": 27,
    "start_time": "2021-08-28T17:40:16.432Z"
   },
   {
    "duration": 23,
    "start_time": "2021-08-28T17:40:22.647Z"
   },
   {
    "duration": 29,
    "start_time": "2021-08-28T17:40:32.026Z"
   },
   {
    "duration": -6888266,
    "start_time": "2021-08-28T19:36:45.285Z"
   },
   {
    "duration": 11,
    "start_time": "2021-08-28T17:41:58.432Z"
   },
   {
    "duration": 9,
    "start_time": "2021-08-28T17:42:05.964Z"
   },
   {
    "duration": 18,
    "start_time": "2021-08-28T17:42:26.777Z"
   },
   {
    "duration": 16,
    "start_time": "2021-08-28T17:42:29.361Z"
   },
   {
    "duration": 15,
    "start_time": "2021-08-28T17:42:32.967Z"
   },
   {
    "duration": 328,
    "start_time": "2021-08-28T17:42:34.488Z"
   },
   {
    "duration": 14,
    "start_time": "2021-08-28T17:42:36.748Z"
   },
   {
    "duration": 14,
    "start_time": "2021-08-28T17:42:39.206Z"
   },
   {
    "duration": 30,
    "start_time": "2021-08-28T17:42:48.529Z"
   },
   {
    "duration": 27,
    "start_time": "2021-08-28T17:42:50.404Z"
   },
   {
    "duration": 7,
    "start_time": "2021-08-28T17:42:52.940Z"
   },
   {
    "duration": 340,
    "start_time": "2021-08-28T17:43:05.388Z"
   },
   {
    "duration": 323,
    "start_time": "2021-08-28T17:43:35.969Z"
   },
   {
    "duration": 484,
    "start_time": "2021-08-28T17:43:48.104Z"
   },
   {
    "duration": 10,
    "start_time": "2021-08-28T17:45:19.687Z"
   },
   {
    "duration": 9,
    "start_time": "2021-08-28T17:46:21.069Z"
   },
   {
    "duration": 963,
    "start_time": "2021-08-28T17:47:51.900Z"
   },
   {
    "duration": 1283,
    "start_time": "2021-08-28T17:48:12.774Z"
   },
   {
    "duration": 3709,
    "start_time": "2021-08-28T17:49:19.963Z"
   },
   {
    "duration": 322,
    "start_time": "2021-08-28T17:49:33.612Z"
   },
   {
    "duration": 2692,
    "start_time": "2021-08-28T17:50:01.608Z"
   },
   {
    "duration": 2844,
    "start_time": "2021-08-28T17:50:08.019Z"
   },
   {
    "duration": 296,
    "start_time": "2021-08-28T17:50:25.665Z"
   },
   {
    "duration": 3133,
    "start_time": "2021-08-28T17:50:40.197Z"
   },
   {
    "duration": 9,
    "start_time": "2021-08-28T17:56:33.154Z"
   },
   {
    "duration": 9,
    "start_time": "2021-08-28T17:57:23.994Z"
   },
   {
    "duration": 302,
    "start_time": "2021-08-28T17:59:27.570Z"
   },
   {
    "duration": 375,
    "start_time": "2021-08-28T17:59:37.942Z"
   },
   {
    "duration": 522,
    "start_time": "2021-08-28T17:59:49.906Z"
   },
   {
    "duration": 424,
    "start_time": "2021-08-28T18:00:03.910Z"
   },
   {
    "duration": 2169,
    "start_time": "2021-08-28T18:00:21.873Z"
   },
   {
    "duration": 312,
    "start_time": "2021-08-28T18:00:47.218Z"
   },
   {
    "duration": 293,
    "start_time": "2021-08-28T18:02:05.695Z"
   },
   {
    "duration": 442,
    "start_time": "2021-08-28T18:02:54.709Z"
   },
   {
    "duration": 565,
    "start_time": "2021-08-28T18:03:10.884Z"
   },
   {
    "duration": 797,
    "start_time": "2021-08-28T18:03:21.079Z"
   },
   {
    "duration": 449,
    "start_time": "2021-08-28T18:03:26.210Z"
   },
   {
    "duration": 399,
    "start_time": "2021-08-28T18:03:38.277Z"
   },
   {
    "duration": 572,
    "start_time": "2021-08-28T18:03:45.620Z"
   },
   {
    "duration": 289,
    "start_time": "2021-08-28T18:03:52.793Z"
   },
   {
    "duration": 28,
    "start_time": "2021-08-28T18:05:13.745Z"
   },
   {
    "duration": 25,
    "start_time": "2021-08-28T18:05:19.669Z"
   },
   {
    "duration": 26,
    "start_time": "2021-08-28T18:05:31.164Z"
   },
   {
    "duration": 357,
    "start_time": "2021-08-28T18:12:55.249Z"
   },
   {
    "duration": 15,
    "start_time": "2021-08-28T18:13:14.708Z"
   },
   {
    "duration": 323,
    "start_time": "2021-08-28T18:15:24.848Z"
   },
   {
    "duration": 305,
    "start_time": "2021-08-28T18:15:50.249Z"
   },
   {
    "duration": 5,
    "start_time": "2021-08-28T18:15:56.988Z"
   },
   {
    "duration": 12,
    "start_time": "2021-08-28T18:15:59.928Z"
   },
   {
    "duration": 8,
    "start_time": "2021-08-28T18:16:07.967Z"
   },
   {
    "duration": 108,
    "start_time": "2021-08-28T18:16:16.240Z"
   },
   {
    "duration": 11,
    "start_time": "2021-08-28T18:16:22.345Z"
   },
   {
    "duration": 11,
    "start_time": "2021-08-28T18:16:25.661Z"
   },
   {
    "duration": 24,
    "start_time": "2021-08-28T18:16:29.749Z"
   },
   {
    "duration": 563,
    "start_time": "2021-08-28T18:16:36.946Z"
   },
   {
    "duration": 353,
    "start_time": "2021-08-28T18:16:47.743Z"
   },
   {
    "duration": 322,
    "start_time": "2021-08-28T18:16:58.174Z"
   },
   {
    "duration": 19,
    "start_time": "2021-08-28T18:17:01.419Z"
   },
   {
    "duration": 8,
    "start_time": "2021-08-28T18:17:08.867Z"
   },
   {
    "duration": 18,
    "start_time": "2021-08-28T18:17:24.429Z"
   },
   {
    "duration": 336,
    "start_time": "2021-08-28T18:17:50.764Z"
   },
   {
    "duration": 9,
    "start_time": "2021-08-28T18:17:54.988Z"
   },
   {
    "duration": 1427,
    "start_time": "2021-08-28T18:19:18.536Z"
   },
   {
    "duration": 7,
    "start_time": "2021-08-28T18:19:29.837Z"
   },
   {
    "duration": 18,
    "start_time": "2021-08-28T18:19:33.025Z"
   },
   {
    "duration": 790,
    "start_time": "2021-08-28T18:20:11.160Z"
   },
   {
    "duration": 339,
    "start_time": "2021-08-28T18:22:16.679Z"
   },
   {
    "duration": 7774,
    "start_time": "2021-08-28T18:22:33.740Z"
   },
   {
    "duration": 7956,
    "start_time": "2021-08-28T18:23:21.608Z"
   },
   {
    "duration": 428,
    "start_time": "2021-08-28T18:23:43.342Z"
   },
   {
    "duration": 7767,
    "start_time": "2021-08-28T18:23:48.604Z"
   },
   {
    "duration": 7918,
    "start_time": "2021-08-28T18:24:04.288Z"
   },
   {
    "duration": -6888270,
    "start_time": "2021-08-28T20:19:31.412Z"
   },
   {
    "duration": 104,
    "start_time": "2021-08-28T18:25:50.065Z"
   },
   {
    "duration": 7866,
    "start_time": "2021-08-28T18:25:56.021Z"
   },
   {
    "duration": 364,
    "start_time": "2021-08-28T18:28:17.328Z"
   },
   {
    "duration": 313,
    "start_time": "2021-08-28T18:28:22.052Z"
   },
   {
    "duration": 319,
    "start_time": "2021-08-28T18:28:27.595Z"
   },
   {
    "duration": 6,
    "start_time": "2021-08-28T18:28:48.952Z"
   },
   {
    "duration": 22,
    "start_time": "2021-08-28T18:28:52.690Z"
   },
   {
    "duration": 321,
    "start_time": "2021-08-28T18:29:04.694Z"
   },
   {
    "duration": 494,
    "start_time": "2021-08-28T18:29:24.745Z"
   },
   {
    "duration": 487,
    "start_time": "2021-08-28T18:29:54.191Z"
   },
   {
    "duration": 353,
    "start_time": "2021-08-28T18:30:03.063Z"
   },
   {
    "duration": 268,
    "start_time": "2021-08-28T18:30:22.598Z"
   },
   {
    "duration": 404,
    "start_time": "2021-08-28T18:31:04.631Z"
   },
   {
    "duration": 342,
    "start_time": "2021-08-28T18:32:37.426Z"
   },
   {
    "duration": 323,
    "start_time": "2021-08-28T18:32:47.359Z"
   },
   {
    "duration": 315,
    "start_time": "2021-08-28T18:33:30.999Z"
   },
   {
    "duration": 323,
    "start_time": "2021-08-28T18:33:36.902Z"
   },
   {
    "duration": 320,
    "start_time": "2021-08-28T18:33:59.954Z"
   },
   {
    "duration": 383,
    "start_time": "2021-08-28T18:34:14.538Z"
   },
   {
    "duration": 360,
    "start_time": "2021-08-28T18:34:42.522Z"
   },
   {
    "duration": 334,
    "start_time": "2021-08-28T18:39:44.217Z"
   },
   {
    "duration": 369,
    "start_time": "2021-08-28T18:39:54.949Z"
   },
   {
    "duration": 416,
    "start_time": "2021-08-28T18:40:26.349Z"
   },
   {
    "duration": 318,
    "start_time": "2021-08-28T18:40:34.965Z"
   },
   {
    "duration": 309,
    "start_time": "2021-08-28T18:40:55.639Z"
   },
   {
    "duration": 587,
    "start_time": "2021-08-28T18:42:31.193Z"
   },
   {
    "duration": 435,
    "start_time": "2021-08-28T18:42:46.529Z"
   },
   {
    "duration": 4937,
    "start_time": "2021-08-28T18:43:15.265Z"
   },
   {
    "duration": 335,
    "start_time": "2021-08-28T18:45:01.185Z"
   },
   {
    "duration": 320,
    "start_time": "2021-08-28T18:45:22.512Z"
   },
   {
    "duration": 456,
    "start_time": "2021-08-28T18:45:42.713Z"
   },
   {
    "duration": 306,
    "start_time": "2021-08-28T18:45:51.362Z"
   },
   {
    "duration": 310,
    "start_time": "2021-08-28T18:45:56.354Z"
   },
   {
    "duration": 544,
    "start_time": "2021-08-28T18:47:44.109Z"
   },
   {
    "duration": 344,
    "start_time": "2021-08-28T18:47:56.784Z"
   },
   {
    "duration": 1836,
    "start_time": "2021-08-28T18:49:05.088Z"
   },
   {
    "duration": 1994,
    "start_time": "2021-08-28T18:49:26.941Z"
   },
   {
    "duration": 629,
    "start_time": "2021-08-28T18:51:35.104Z"
   },
   {
    "duration": 352,
    "start_time": "2021-08-28T18:51:49.672Z"
   },
   {
    "duration": 347,
    "start_time": "2021-08-28T18:52:02.675Z"
   },
   {
    "duration": 328,
    "start_time": "2021-08-28T18:54:14.826Z"
   },
   {
    "duration": 2515,
    "start_time": "2021-08-28T18:55:06.371Z"
   },
   {
    "duration": 889,
    "start_time": "2021-08-28T18:55:23.239Z"
   },
   {
    "duration": 305,
    "start_time": "2021-08-28T18:56:16.055Z"
   },
   {
    "duration": 310,
    "start_time": "2021-08-28T18:56:20.934Z"
   },
   {
    "duration": -6888282,
    "start_time": "2021-08-28T20:51:20.767Z"
   },
   {
    "duration": 299,
    "start_time": "2021-08-28T18:56:34.718Z"
   },
   {
    "duration": 350,
    "start_time": "2021-08-28T18:56:49.673Z"
   },
   {
    "duration": 28,
    "start_time": "2021-08-28T18:58:55.194Z"
   },
   {
    "duration": 8,
    "start_time": "2021-08-28T19:00:05.218Z"
   },
   {
    "duration": 421,
    "start_time": "2021-08-28T19:01:24.286Z"
   },
   {
    "duration": 322,
    "start_time": "2021-08-28T19:02:00.994Z"
   },
   {
    "duration": 15,
    "start_time": "2021-08-28T19:02:10.942Z"
   },
   {
    "duration": 485,
    "start_time": "2021-08-28T19:04:56.858Z"
   },
   {
    "duration": 349,
    "start_time": "2021-08-28T19:05:03.568Z"
   },
   {
    "duration": 25,
    "start_time": "2021-08-28T19:05:24.085Z"
   },
   {
    "duration": 17,
    "start_time": "2021-08-28T19:05:59.166Z"
   },
   {
    "duration": 379,
    "start_time": "2021-08-28T19:06:57.917Z"
   },
   {
    "duration": 592,
    "start_time": "2021-08-28T19:07:01.642Z"
   },
   {
    "duration": 9,
    "start_time": "2021-08-28T19:07:15.545Z"
   },
   {
    "duration": 160,
    "start_time": "2021-08-28T19:09:58.211Z"
   },
   {
    "duration": 30,
    "start_time": "2021-08-28T19:11:30.733Z"
   },
   {
    "duration": 349,
    "start_time": "2021-08-28T19:14:36.941Z"
   },
   {
    "duration": 460,
    "start_time": "2021-08-28T19:15:00.025Z"
   },
   {
    "duration": 312,
    "start_time": "2021-08-28T19:15:17.001Z"
   },
   {
    "duration": 2178,
    "start_time": "2021-08-28T19:15:36.308Z"
   },
   {
    "duration": 76,
    "start_time": "2021-08-28T19:15:38.489Z"
   },
   {
    "duration": 263,
    "start_time": "2021-08-28T19:15:38.569Z"
   },
   {
    "duration": 164,
    "start_time": "2021-08-28T19:15:38.837Z"
   },
   {
    "duration": 228,
    "start_time": "2021-08-28T19:15:39.016Z"
   },
   {
    "duration": 29,
    "start_time": "2021-08-28T19:15:39.248Z"
   },
   {
    "duration": 237,
    "start_time": "2021-08-28T19:15:39.281Z"
   },
   {
    "duration": 141,
    "start_time": "2021-08-28T19:15:39.524Z"
   },
   {
    "duration": 148,
    "start_time": "2021-08-28T19:15:39.668Z"
   },
   {
    "duration": 40,
    "start_time": "2021-08-28T19:15:39.823Z"
   },
   {
    "duration": 117,
    "start_time": "2021-08-28T19:15:39.865Z"
   },
   {
    "duration": 96,
    "start_time": "2021-08-28T19:15:39.988Z"
   },
   {
    "duration": 38,
    "start_time": "2021-08-28T19:15:40.087Z"
   },
   {
    "duration": 95,
    "start_time": "2021-08-28T19:15:40.127Z"
   },
   {
    "duration": 27,
    "start_time": "2021-08-28T19:15:40.226Z"
   },
   {
    "duration": 14,
    "start_time": "2021-08-28T19:15:40.256Z"
   },
   {
    "duration": 126,
    "start_time": "2021-08-28T19:15:40.272Z"
   },
   {
    "duration": 1888,
    "start_time": "2021-08-28T19:15:40.402Z"
   },
   {
    "duration": 2279,
    "start_time": "2021-08-28T19:15:42.292Z"
   },
   {
    "duration": 1604,
    "start_time": "2021-08-28T19:15:44.573Z"
   },
   {
    "duration": 91,
    "start_time": "2021-08-28T19:15:46.179Z"
   },
   {
    "duration": 10,
    "start_time": "2021-08-28T19:15:46.272Z"
   },
   {
    "duration": 47,
    "start_time": "2021-08-28T19:15:46.287Z"
   },
   {
    "duration": 11,
    "start_time": "2021-08-28T19:15:46.338Z"
   },
   {
    "duration": 30,
    "start_time": "2021-08-28T19:15:46.352Z"
   },
   {
    "duration": 50,
    "start_time": "2021-08-28T19:15:46.385Z"
   },
   {
    "duration": 25,
    "start_time": "2021-08-28T19:15:46.439Z"
   },
   {
    "duration": 10,
    "start_time": "2021-08-28T19:15:46.466Z"
   },
   {
    "duration": 93,
    "start_time": "2021-08-28T19:15:46.479Z"
   },
   {
    "duration": 761,
    "start_time": "2021-08-28T19:15:46.574Z"
   },
   {
    "duration": 27,
    "start_time": "2021-08-28T19:15:47.337Z"
   },
   {
    "duration": 8,
    "start_time": "2021-08-28T19:15:47.367Z"
   },
   {
    "duration": 63,
    "start_time": "2021-08-28T19:15:47.378Z"
   },
   {
    "duration": 12,
    "start_time": "2021-08-28T19:15:47.444Z"
   },
   {
    "duration": 56,
    "start_time": "2021-08-28T19:15:47.460Z"
   },
   {
    "duration": 14,
    "start_time": "2021-08-28T19:15:47.520Z"
   },
   {
    "duration": 32,
    "start_time": "2021-08-28T19:15:47.538Z"
   },
   {
    "duration": 9,
    "start_time": "2021-08-28T19:15:47.573Z"
   },
   {
    "duration": 105,
    "start_time": "2021-08-28T19:15:47.617Z"
   },
   {
    "duration": -6888251,
    "start_time": "2021-08-28T21:10:35.978Z"
   },
   {
    "duration": -6888251,
    "start_time": "2021-08-28T21:10:35.981Z"
   },
   {
    "duration": -6888251,
    "start_time": "2021-08-28T21:10:35.984Z"
   },
   {
    "duration": 516,
    "start_time": "2021-08-28T19:15:59.722Z"
   },
   {
    "duration": 365,
    "start_time": "2021-08-28T19:16:19.184Z"
   },
   {
    "duration": 314,
    "start_time": "2021-08-28T19:16:26.484Z"
   },
   {
    "duration": 457,
    "start_time": "2021-08-28T19:16:50.585Z"
   },
   {
    "duration": 358,
    "start_time": "2021-08-28T19:17:34.304Z"
   },
   {
    "duration": 304,
    "start_time": "2021-08-28T19:17:40.944Z"
   },
   {
    "duration": 22,
    "start_time": "2021-08-28T19:17:44.760Z"
   },
   {
    "duration": 6,
    "start_time": "2021-08-28T19:18:22.856Z"
   },
   {
    "duration": 6,
    "start_time": "2021-08-28T19:18:27.156Z"
   },
   {
    "duration": 504,
    "start_time": "2021-08-28T19:18:40.661Z"
   },
   {
    "duration": 20,
    "start_time": "2021-08-28T19:19:05.784Z"
   },
   {
    "duration": 19,
    "start_time": "2021-08-28T19:19:52.361Z"
   },
   {
    "duration": 23,
    "start_time": "2021-08-28T19:23:53.316Z"
   },
   {
    "duration": 366,
    "start_time": "2021-08-28T19:24:52.722Z"
   },
   {
    "duration": 470,
    "start_time": "2021-08-28T19:24:59.492Z"
   },
   {
    "duration": 7824,
    "start_time": "2021-08-28T19:27:31.932Z"
   },
   {
    "duration": 548,
    "start_time": "2021-08-28T19:29:27.335Z"
   },
   {
    "duration": 329,
    "start_time": "2021-08-28T19:29:54.695Z"
   },
   {
    "duration": 786,
    "start_time": "2021-08-28T19:30:10.667Z"
   },
   {
    "duration": 397,
    "start_time": "2021-08-28T19:30:29.525Z"
   },
   {
    "duration": 3702,
    "start_time": "2021-08-28T19:30:59.735Z"
   },
   {
    "duration": 328,
    "start_time": "2021-08-29T04:56:14.202Z"
   },
   {
    "duration": 1475,
    "start_time": "2021-08-29T04:56:28.399Z"
   },
   {
    "duration": 51,
    "start_time": "2021-08-29T04:56:29.877Z"
   },
   {
    "duration": 235,
    "start_time": "2021-08-29T04:56:29.932Z"
   },
   {
    "duration": 142,
    "start_time": "2021-08-29T04:56:30.171Z"
   },
   {
    "duration": 207,
    "start_time": "2021-08-29T04:56:30.316Z"
   },
   {
    "duration": 35,
    "start_time": "2021-08-29T04:56:30.526Z"
   },
   {
    "duration": 220,
    "start_time": "2021-08-29T04:56:30.564Z"
   },
   {
    "duration": 120,
    "start_time": "2021-08-29T04:56:30.790Z"
   },
   {
    "duration": 147,
    "start_time": "2021-08-29T04:56:30.914Z"
   },
   {
    "duration": 30,
    "start_time": "2021-08-29T04:56:31.064Z"
   },
   {
    "duration": 94,
    "start_time": "2021-08-29T04:56:31.097Z"
   },
   {
    "duration": 260,
    "start_time": "2021-08-29T04:56:31.194Z"
   },
   {
    "duration": 25,
    "start_time": "2021-08-29T04:56:31.458Z"
   },
   {
    "duration": 200,
    "start_time": "2021-08-29T04:56:31.486Z"
   },
   {
    "duration": 75,
    "start_time": "2021-08-29T04:56:31.689Z"
   },
   {
    "duration": 11,
    "start_time": "2021-08-29T04:56:31.767Z"
   },
   {
    "duration": 190,
    "start_time": "2021-08-29T04:56:31.782Z"
   },
   {
    "duration": 2727,
    "start_time": "2021-08-29T04:56:31.975Z"
   },
   {
    "duration": 1462,
    "start_time": "2021-08-29T04:56:34.704Z"
   },
   {
    "duration": 1258,
    "start_time": "2021-08-29T04:56:36.168Z"
   },
   {
    "duration": 77,
    "start_time": "2021-08-29T04:56:37.429Z"
   },
   {
    "duration": 9,
    "start_time": "2021-08-29T04:56:37.509Z"
   },
   {
    "duration": 34,
    "start_time": "2021-08-29T04:56:37.524Z"
   },
   {
    "duration": 16,
    "start_time": "2021-08-29T04:56:37.561Z"
   },
   {
    "duration": 19,
    "start_time": "2021-08-29T04:56:37.580Z"
   },
   {
    "duration": 18,
    "start_time": "2021-08-29T04:56:37.602Z"
   },
   {
    "duration": 37,
    "start_time": "2021-08-29T04:56:37.623Z"
   },
   {
    "duration": 17,
    "start_time": "2021-08-29T04:56:37.662Z"
   },
   {
    "duration": 52,
    "start_time": "2021-08-29T04:56:37.681Z"
   },
   {
    "duration": 653,
    "start_time": "2021-08-29T04:56:37.735Z"
   },
   {
    "duration": 27,
    "start_time": "2021-08-29T04:56:38.391Z"
   },
   {
    "duration": 36,
    "start_time": "2021-08-29T04:56:38.420Z"
   },
   {
    "duration": 26,
    "start_time": "2021-08-29T04:56:38.459Z"
   },
   {
    "duration": 13,
    "start_time": "2021-08-29T04:56:38.488Z"
   },
   {
    "duration": 61,
    "start_time": "2021-08-29T04:56:38.504Z"
   },
   {
    "duration": 9,
    "start_time": "2021-08-29T04:56:38.568Z"
   },
   {
    "duration": 27,
    "start_time": "2021-08-29T04:56:38.581Z"
   },
   {
    "duration": 56,
    "start_time": "2021-08-29T04:56:38.611Z"
   },
   {
    "duration": 318,
    "start_time": "2021-08-29T04:56:38.670Z"
   },
   {
    "duration": 349,
    "start_time": "2021-08-29T04:56:38.991Z"
   },
   {
    "duration": 2307,
    "start_time": "2021-08-29T04:56:39.343Z"
   },
   {
    "duration": 340,
    "start_time": "2021-08-29T04:56:58.895Z"
   },
   {
    "duration": 2904,
    "start_time": "2021-08-29T04:57:11.168Z"
   },
   {
    "duration": 521,
    "start_time": "2021-08-29T04:57:15.792Z"
   },
   {
    "duration": 519,
    "start_time": "2021-08-29T04:58:05.771Z"
   },
   {
    "duration": 405,
    "start_time": "2021-08-29T04:58:13.707Z"
   },
   {
    "duration": 342,
    "start_time": "2021-08-29T04:58:20.691Z"
   },
   {
    "duration": 481,
    "start_time": "2021-08-29T04:58:46.119Z"
   },
   {
    "duration": 116,
    "start_time": "2021-08-29T05:02:54.025Z"
   },
   {
    "duration": 465,
    "start_time": "2021-08-29T05:03:34.743Z"
   },
   {
    "duration": 149,
    "start_time": "2021-08-29T05:03:59.899Z"
   },
   {
    "duration": 392,
    "start_time": "2021-08-29T05:05:29.931Z"
   },
   {
    "duration": 175,
    "start_time": "2021-08-29T05:05:32.939Z"
   },
   {
    "duration": 426,
    "start_time": "2021-08-29T05:05:59.051Z"
   },
   {
    "duration": 221,
    "start_time": "2021-08-29T05:06:01.566Z"
   },
   {
    "duration": 441,
    "start_time": "2021-08-29T05:07:21.330Z"
   },
   {
    "duration": 507,
    "start_time": "2021-08-29T05:07:28.130Z"
   },
   {
    "duration": 528,
    "start_time": "2021-08-29T05:07:58.930Z"
   },
   {
    "duration": 597,
    "start_time": "2021-08-29T05:08:00.478Z"
   },
   {
    "duration": 560,
    "start_time": "2021-08-29T05:08:29.190Z"
   },
   {
    "duration": 601,
    "start_time": "2021-08-29T05:08:34.267Z"
   },
   {
    "duration": 576,
    "start_time": "2021-08-29T05:08:44.938Z"
   },
   {
    "duration": 348,
    "start_time": "2021-08-29T05:08:47.042Z"
   },
   {
    "duration": 586,
    "start_time": "2021-08-29T05:09:02.595Z"
   },
   {
    "duration": 394,
    "start_time": "2021-08-29T05:09:05.162Z"
   },
   {
    "duration": 636,
    "start_time": "2021-08-29T05:09:13.098Z"
   },
   {
    "duration": 698,
    "start_time": "2021-08-29T05:09:14.862Z"
   },
   {
    "duration": 685,
    "start_time": "2021-08-29T05:10:34.246Z"
   },
   {
    "duration": 485,
    "start_time": "2021-08-29T05:10:35.986Z"
   },
   {
    "duration": 776,
    "start_time": "2021-08-29T05:10:57.406Z"
   },
   {
    "duration": 522,
    "start_time": "2021-08-29T05:10:58.854Z"
   },
   {
    "duration": 809,
    "start_time": "2021-08-29T05:11:01.766Z"
   },
   {
    "duration": 557,
    "start_time": "2021-08-29T05:11:08.924Z"
   },
   {
    "duration": 969,
    "start_time": "2021-08-29T05:11:19.382Z"
   },
   {
    "duration": 597,
    "start_time": "2021-08-29T05:11:20.970Z"
   },
   {
    "duration": 837,
    "start_time": "2021-08-29T05:11:27.617Z"
   },
   {
    "duration": 620,
    "start_time": "2021-08-29T05:11:29.040Z"
   },
   {
    "duration": 886,
    "start_time": "2021-08-29T05:11:41.818Z"
   },
   {
    "duration": 670,
    "start_time": "2021-08-29T05:11:43.405Z"
   },
   {
    "duration": 1064,
    "start_time": "2021-08-29T05:12:10.786Z"
   },
   {
    "duration": 664,
    "start_time": "2021-08-29T05:12:12.482Z"
   },
   {
    "duration": 1011,
    "start_time": "2021-08-29T05:12:18.202Z"
   },
   {
    "duration": 754,
    "start_time": "2021-08-29T05:12:20.354Z"
   },
   {
    "duration": 996,
    "start_time": "2021-08-29T05:12:47.886Z"
   },
   {
    "duration": 1118,
    "start_time": "2021-08-29T05:12:50.101Z"
   },
   {
    "duration": 1114,
    "start_time": "2021-08-29T05:13:03.750Z"
   },
   {
    "duration": 1341,
    "start_time": "2021-08-29T05:13:06.854Z"
   },
   {
    "duration": 1167,
    "start_time": "2021-08-29T05:13:59.746Z"
   },
   {
    "duration": 821,
    "start_time": "2021-08-29T05:14:01.613Z"
   },
   {
    "duration": 1338,
    "start_time": "2021-08-29T05:14:08.285Z"
   },
   {
    "duration": 941,
    "start_time": "2021-08-29T05:14:10.314Z"
   },
   {
    "duration": 1154,
    "start_time": "2021-08-29T05:14:19.362Z"
   },
   {
    "duration": 905,
    "start_time": "2021-08-29T05:14:21.225Z"
   },
   {
    "duration": 286,
    "start_time": "2021-08-29T05:14:57.325Z"
   },
   {
    "duration": 282,
    "start_time": "2021-08-29T05:14:58.685Z"
   },
   {
    "duration": 302,
    "start_time": "2021-08-29T05:15:10.269Z"
   },
   {
    "duration": 11,
    "start_time": "2021-08-29T05:15:49.705Z"
   },
   {
    "duration": 11,
    "start_time": "2021-08-29T05:15:51.813Z"
   },
   {
    "duration": 11,
    "start_time": "2021-08-29T05:15:52.977Z"
   },
   {
    "duration": 10,
    "start_time": "2021-08-29T05:15:58.957Z"
   },
   {
    "duration": 3,
    "start_time": "2021-08-29T05:16:16.153Z"
   },
   {
    "duration": 4,
    "start_time": "2021-08-29T05:16:20.339Z"
   },
   {
    "duration": 10,
    "start_time": "2021-08-29T05:16:30.145Z"
   },
   {
    "duration": 11,
    "start_time": "2021-08-29T05:17:31.773Z"
   },
   {
    "duration": 11,
    "start_time": "2021-08-29T05:17:37.857Z"
   },
   {
    "duration": 48,
    "start_time": "2021-08-29T05:17:38.789Z"
   },
   {
    "duration": 12,
    "start_time": "2021-08-29T05:17:53.168Z"
   },
   {
    "duration": 11,
    "start_time": "2021-08-29T05:17:56.025Z"
   },
   {
    "duration": 5434,
    "start_time": "2021-08-29T05:18:16.177Z"
   },
   {
    "duration": 5383,
    "start_time": "2021-08-29T05:18:51.776Z"
   },
   {
    "duration": 10,
    "start_time": "2021-08-29T05:18:58.713Z"
   },
   {
    "duration": 5,
    "start_time": "2021-08-29T05:19:08.736Z"
   },
   {
    "duration": 107,
    "start_time": "2021-08-29T05:20:01.605Z"
   },
   {
    "duration": 5,
    "start_time": "2021-08-29T05:20:05.712Z"
   },
   {
    "duration": 271,
    "start_time": "2021-08-29T05:20:13.166Z"
   },
   {
    "duration": 279,
    "start_time": "2021-08-29T05:20:20.957Z"
   },
   {
    "duration": 10,
    "start_time": "2021-08-29T05:20:37.032Z"
   },
   {
    "duration": 9,
    "start_time": "2021-08-29T05:20:39.316Z"
   },
   {
    "duration": 311,
    "start_time": "2021-08-29T05:21:00.247Z"
   },
   {
    "duration": 271,
    "start_time": "2021-08-29T05:21:04.504Z"
   },
   {
    "duration": 9,
    "start_time": "2021-08-29T05:21:08.786Z"
   },
   {
    "duration": 1410,
    "start_time": "2021-08-29T05:21:23.895Z"
   },
   {
    "duration": 773,
    "start_time": "2021-08-29T05:21:30.840Z"
   },
   {
    "duration": 5,
    "start_time": "2021-08-29T05:21:35.012Z"
   },
   {
    "duration": 10,
    "start_time": "2021-08-29T05:21:37.528Z"
   },
   {
    "duration": 1115,
    "start_time": "2021-08-29T05:22:08.236Z"
   },
   {
    "duration": 788,
    "start_time": "2021-08-29T05:22:10.204Z"
   },
   {
    "duration": 4,
    "start_time": "2021-08-29T05:22:12.540Z"
   },
   {
    "duration": 9,
    "start_time": "2021-08-29T05:22:13.604Z"
   },
   {
    "duration": 4,
    "start_time": "2021-08-29T05:22:15.710Z"
   },
   {
    "duration": 10,
    "start_time": "2021-08-29T05:22:16.696Z"
   },
   {
    "duration": 1098,
    "start_time": "2021-08-29T05:22:34.796Z"
   },
   {
    "duration": 838,
    "start_time": "2021-08-29T05:22:37.088Z"
   },
   {
    "duration": 3,
    "start_time": "2021-08-29T05:22:40.065Z"
   },
   {
    "duration": 4,
    "start_time": "2021-08-29T05:22:41.980Z"
   },
   {
    "duration": 4,
    "start_time": "2021-08-29T05:22:43.623Z"
   },
   {
    "duration": 3,
    "start_time": "2021-08-29T05:22:44.636Z"
   },
   {
    "duration": 3,
    "start_time": "2021-08-29T05:22:45.256Z"
   },
   {
    "duration": 3,
    "start_time": "2021-08-29T05:22:45.772Z"
   },
   {
    "duration": 4,
    "start_time": "2021-08-29T05:22:46.304Z"
   },
   {
    "duration": 4,
    "start_time": "2021-08-29T05:22:53.056Z"
   },
   {
    "duration": 1316,
    "start_time": "2021-08-29T05:23:02.748Z"
   },
   {
    "duration": 989,
    "start_time": "2021-08-29T05:23:04.796Z"
   },
   {
    "duration": 1395,
    "start_time": "2021-08-29T05:23:18.912Z"
   },
   {
    "duration": 1075,
    "start_time": "2021-08-29T05:23:21.092Z"
   },
   {
    "duration": 5,
    "start_time": "2021-08-29T05:23:24.160Z"
   },
   {
    "duration": 1394,
    "start_time": "2021-08-29T05:23:30.216Z"
   },
   {
    "duration": 1168,
    "start_time": "2021-08-29T05:23:32.112Z"
   },
   {
    "duration": 1448,
    "start_time": "2021-08-29T05:24:15.864Z"
   },
   {
    "duration": 1428,
    "start_time": "2021-08-29T05:24:18.419Z"
   },
   {
    "duration": 6,
    "start_time": "2021-08-29T05:24:23.928Z"
   },
   {
    "duration": 9,
    "start_time": "2021-08-29T05:24:35.360Z"
   },
   {
    "duration": 5,
    "start_time": "2021-08-29T05:24:39.434Z"
   },
   {
    "duration": 9,
    "start_time": "2021-08-29T05:24:40.428Z"
   },
   {
    "duration": 1504,
    "start_time": "2021-08-29T05:24:44.028Z"
   },
   {
    "duration": 1629,
    "start_time": "2021-08-29T05:24:50.784Z"
   },
   {
    "duration": 1480,
    "start_time": "2021-08-29T05:25:04.584Z"
   },
   {
    "duration": 1351,
    "start_time": "2021-08-29T05:25:06.884Z"
   },
   {
    "duration": 1497,
    "start_time": "2021-08-29T05:25:54.544Z"
   },
   {
    "duration": 1237,
    "start_time": "2021-08-29T05:25:56.814Z"
   },
   {
    "duration": 3,
    "start_time": "2021-08-29T05:26:00.128Z"
   },
   {
    "duration": 4,
    "start_time": "2021-08-29T05:26:10.456Z"
   },
   {
    "duration": 1511,
    "start_time": "2021-08-29T05:26:20.248Z"
   },
   {
    "duration": 1398,
    "start_time": "2021-08-29T05:26:23.976Z"
   },
   {
    "duration": 7,
    "start_time": "2021-08-29T05:26:27.255Z"
   },
   {
    "duration": 1564,
    "start_time": "2021-08-29T05:28:30.199Z"
   },
   {
    "duration": 1392,
    "start_time": "2021-08-29T05:28:32.507Z"
   },
   {
    "duration": 6,
    "start_time": "2021-08-29T05:28:36.235Z"
   },
   {
    "duration": 1652,
    "start_time": "2021-08-29T05:28:43.431Z"
   },
   {
    "duration": 1342,
    "start_time": "2021-08-29T05:28:46.059Z"
   },
   {
    "duration": 7,
    "start_time": "2021-08-29T05:28:51.195Z"
   },
   {
    "duration": 5,
    "start_time": "2021-08-29T05:29:16.061Z"
   },
   {
    "duration": 6,
    "start_time": "2021-08-29T05:29:18.851Z"
   },
   {
    "duration": 8,
    "start_time": "2021-08-29T05:29:20.519Z"
   },
   {
    "duration": 254,
    "start_time": "2021-08-29T05:29:39.204Z"
   },
   {
    "duration": 249,
    "start_time": "2021-08-29T05:29:40.311Z"
   },
   {
    "duration": 1610,
    "start_time": "2021-08-29T05:29:45.463Z"
   },
   {
    "duration": 1425,
    "start_time": "2021-08-29T05:29:47.648Z"
   },
   {
    "duration": 5,
    "start_time": "2021-08-29T05:29:50.719Z"
   },
   {
    "duration": 6,
    "start_time": "2021-08-29T05:29:52.235Z"
   },
   {
    "duration": 7,
    "start_time": "2021-08-29T05:29:57.095Z"
   },
   {
    "duration": 263,
    "start_time": "2021-08-29T05:29:58.353Z"
   },
   {
    "duration": 8842,
    "start_time": "2021-08-29T06:02:07.107Z"
   },
   {
    "duration": 7130,
    "start_time": "2021-08-29T06:02:29.150Z"
   },
   {
    "duration": 6754,
    "start_time": "2021-08-29T06:04:16.323Z"
   },
   {
    "duration": 1553,
    "start_time": "2021-08-29T06:07:27.970Z"
   },
   {
    "duration": 52,
    "start_time": "2021-08-29T06:07:29.526Z"
   },
   {
    "duration": 253,
    "start_time": "2021-08-29T06:07:29.582Z"
   },
   {
    "duration": 154,
    "start_time": "2021-08-29T06:07:29.839Z"
   },
   {
    "duration": 221,
    "start_time": "2021-08-29T06:07:29.996Z"
   },
   {
    "duration": 29,
    "start_time": "2021-08-29T06:07:30.219Z"
   },
   {
    "duration": 205,
    "start_time": "2021-08-29T06:07:30.254Z"
   },
   {
    "duration": 113,
    "start_time": "2021-08-29T06:07:30.463Z"
   },
   {
    "duration": 144,
    "start_time": "2021-08-29T06:07:30.579Z"
   },
   {
    "duration": 43,
    "start_time": "2021-08-29T06:07:30.726Z"
   },
   {
    "duration": 82,
    "start_time": "2021-08-29T06:07:30.772Z"
   },
   {
    "duration": 69,
    "start_time": "2021-08-29T06:07:30.857Z"
   },
   {
    "duration": 37,
    "start_time": "2021-08-29T06:07:30.929Z"
   },
   {
    "duration": 96,
    "start_time": "2021-08-29T06:07:30.968Z"
   },
   {
    "duration": 25,
    "start_time": "2021-08-29T06:07:31.066Z"
   },
   {
    "duration": 33,
    "start_time": "2021-08-29T06:07:31.093Z"
   },
   {
    "duration": 83,
    "start_time": "2021-08-29T06:07:31.129Z"
   },
   {
    "duration": 1360,
    "start_time": "2021-08-29T06:07:31.214Z"
   },
   {
    "duration": 1773,
    "start_time": "2021-08-29T06:07:32.576Z"
   },
   {
    "duration": 1317,
    "start_time": "2021-08-29T06:07:34.351Z"
   },
   {
    "duration": 66,
    "start_time": "2021-08-29T06:07:35.670Z"
   },
   {
    "duration": 22,
    "start_time": "2021-08-29T06:07:35.739Z"
   },
   {
    "duration": 13,
    "start_time": "2021-08-29T06:07:35.766Z"
   },
   {
    "duration": 21,
    "start_time": "2021-08-29T06:07:35.782Z"
   },
   {
    "duration": 33,
    "start_time": "2021-08-29T06:07:35.805Z"
   },
   {
    "duration": 37,
    "start_time": "2021-08-29T06:07:35.840Z"
   },
   {
    "duration": 43,
    "start_time": "2021-08-29T06:07:35.880Z"
   },
   {
    "duration": 14,
    "start_time": "2021-08-29T06:07:35.925Z"
   },
   {
    "duration": 54,
    "start_time": "2021-08-29T06:07:35.941Z"
   },
   {
    "duration": 661,
    "start_time": "2021-08-29T06:07:35.998Z"
   },
   {
    "duration": 25,
    "start_time": "2021-08-29T06:07:36.661Z"
   },
   {
    "duration": 7,
    "start_time": "2021-08-29T06:07:36.689Z"
   },
   {
    "duration": 55,
    "start_time": "2021-08-29T06:07:36.699Z"
   },
   {
    "duration": 8,
    "start_time": "2021-08-29T06:07:36.757Z"
   },
   {
    "duration": 36,
    "start_time": "2021-08-29T06:07:36.767Z"
   },
   {
    "duration": 8,
    "start_time": "2021-08-29T06:07:36.806Z"
   },
   {
    "duration": 50,
    "start_time": "2021-08-29T06:07:36.816Z"
   },
   {
    "duration": 19,
    "start_time": "2021-08-29T06:07:36.868Z"
   },
   {
    "duration": 325,
    "start_time": "2021-08-29T06:07:36.890Z"
   },
   {
    "duration": 359,
    "start_time": "2021-08-29T06:07:37.217Z"
   },
   {
    "duration": 16,
    "start_time": "2021-08-29T06:07:37.579Z"
   },
   {
    "duration": 1515,
    "start_time": "2021-08-29T06:10:35.807Z"
   },
   {
    "duration": 49,
    "start_time": "2021-08-29T06:10:37.325Z"
   },
   {
    "duration": 230,
    "start_time": "2021-08-29T06:10:37.377Z"
   },
   {
    "duration": 138,
    "start_time": "2021-08-29T06:10:37.610Z"
   },
   {
    "duration": 205,
    "start_time": "2021-08-29T06:10:37.754Z"
   },
   {
    "duration": 26,
    "start_time": "2021-08-29T06:10:37.961Z"
   },
   {
    "duration": 204,
    "start_time": "2021-08-29T06:10:37.990Z"
   },
   {
    "duration": 111,
    "start_time": "2021-08-29T06:10:38.198Z"
   },
   {
    "duration": 142,
    "start_time": "2021-08-29T06:10:38.312Z"
   },
   {
    "duration": 31,
    "start_time": "2021-08-29T06:10:38.457Z"
   },
   {
    "duration": 91,
    "start_time": "2021-08-29T06:10:38.490Z"
   },
   {
    "duration": 84,
    "start_time": "2021-08-29T06:10:38.583Z"
   },
   {
    "duration": 21,
    "start_time": "2021-08-29T06:10:38.669Z"
   },
   {
    "duration": 88,
    "start_time": "2021-08-29T06:10:38.693Z"
   },
   {
    "duration": 24,
    "start_time": "2021-08-29T06:10:38.784Z"
   },
   {
    "duration": 9,
    "start_time": "2021-08-29T06:10:38.811Z"
   },
   {
    "duration": 88,
    "start_time": "2021-08-29T06:10:38.823Z"
   },
   {
    "duration": 1306,
    "start_time": "2021-08-29T06:10:38.914Z"
   },
   {
    "duration": 1448,
    "start_time": "2021-08-29T06:10:40.223Z"
   },
   {
    "duration": 1263,
    "start_time": "2021-08-29T06:10:41.673Z"
   },
   {
    "duration": 73,
    "start_time": "2021-08-29T06:10:42.938Z"
   },
   {
    "duration": 10,
    "start_time": "2021-08-29T06:10:43.014Z"
   },
   {
    "duration": 13,
    "start_time": "2021-08-29T06:10:43.054Z"
   },
   {
    "duration": 27,
    "start_time": "2021-08-29T06:10:43.070Z"
   },
   {
    "duration": 27,
    "start_time": "2021-08-29T06:10:43.100Z"
   },
   {
    "duration": 47,
    "start_time": "2021-08-29T06:10:43.130Z"
   },
   {
    "duration": 39,
    "start_time": "2021-08-29T06:10:43.180Z"
   },
   {
    "duration": 31,
    "start_time": "2021-08-29T06:10:43.221Z"
   },
   {
    "duration": 69,
    "start_time": "2021-08-29T06:10:43.254Z"
   },
   {
    "duration": 654,
    "start_time": "2021-08-29T06:10:43.325Z"
   },
   {
    "duration": 26,
    "start_time": "2021-08-29T06:10:43.981Z"
   },
   {
    "duration": 11,
    "start_time": "2021-08-29T06:10:44.009Z"
   },
   {
    "duration": 50,
    "start_time": "2021-08-29T06:10:44.022Z"
   },
   {
    "duration": 8,
    "start_time": "2021-08-29T06:10:44.075Z"
   },
   {
    "duration": 26,
    "start_time": "2021-08-29T06:10:44.086Z"
   },
   {
    "duration": 39,
    "start_time": "2021-08-29T06:10:44.114Z"
   },
   {
    "duration": 23,
    "start_time": "2021-08-29T06:10:44.156Z"
   },
   {
    "duration": 25,
    "start_time": "2021-08-29T06:10:44.182Z"
   },
   {
    "duration": 345,
    "start_time": "2021-08-29T06:10:44.209Z"
   },
   {
    "duration": 382,
    "start_time": "2021-08-29T06:10:44.557Z"
   },
   {
    "duration": 27,
    "start_time": "2021-08-29T06:10:44.942Z"
   },
   {
    "duration": 768,
    "start_time": "2021-08-29T06:10:44.972Z"
   },
   {
    "duration": -6888212,
    "start_time": "2021-08-29T08:05:33.955Z"
   },
   {
    "duration": -6888229,
    "start_time": "2021-08-29T08:05:33.973Z"
   },
   {
    "duration": -6888232,
    "start_time": "2021-08-29T08:05:33.978Z"
   },
   {
    "duration": 116,
    "start_time": "2021-08-29T06:11:25.642Z"
   },
   {
    "duration": 6,
    "start_time": "2021-08-29T06:11:27.626Z"
   },
   {
    "duration": 7,
    "start_time": "2021-08-29T06:11:28.550Z"
   },
   {
    "duration": 12,
    "start_time": "2021-08-29T06:11:32.474Z"
   },
   {
    "duration": 268,
    "start_time": "2021-08-29T06:11:34.830Z"
   },
   {
    "duration": 298,
    "start_time": "2021-08-29T06:11:36.500Z"
   },
   {
    "duration": 746,
    "start_time": "2021-08-29T06:12:03.286Z"
   },
   {
    "duration": 711,
    "start_time": "2021-08-29T06:14:34.434Z"
   },
   {
    "duration": 77,
    "start_time": "2021-08-29T06:14:41.147Z"
   },
   {
    "duration": 91,
    "start_time": "2021-08-29T06:15:08.733Z"
   },
   {
    "duration": 101,
    "start_time": "2021-08-29T06:17:33.742Z"
   },
   {
    "duration": 150,
    "start_time": "2021-08-29T06:34:00.566Z"
   },
   {
    "duration": 104,
    "start_time": "2021-08-29T06:34:33.844Z"
   },
   {
    "duration": 7044,
    "start_time": "2021-08-29T06:48:25.730Z"
   },
   {
    "duration": 6305,
    "start_time": "2021-08-29T06:48:49.689Z"
   },
   {
    "duration": 7238,
    "start_time": "2021-08-29T06:49:02.040Z"
   },
   {
    "duration": 6379,
    "start_time": "2021-08-29T06:49:21.578Z"
   },
   {
    "duration": 1472,
    "start_time": "2021-08-29T06:49:30.663Z"
   },
   {
    "duration": 53,
    "start_time": "2021-08-29T06:49:32.138Z"
   },
   {
    "duration": 240,
    "start_time": "2021-08-29T06:49:32.194Z"
   },
   {
    "duration": 146,
    "start_time": "2021-08-29T06:49:32.437Z"
   },
   {
    "duration": 204,
    "start_time": "2021-08-29T06:49:32.586Z"
   },
   {
    "duration": 25,
    "start_time": "2021-08-29T06:49:32.792Z"
   },
   {
    "duration": 197,
    "start_time": "2021-08-29T06:49:32.820Z"
   },
   {
    "duration": 108,
    "start_time": "2021-08-29T06:49:33.021Z"
   },
   {
    "duration": 150,
    "start_time": "2021-08-29T06:49:33.134Z"
   },
   {
    "duration": 31,
    "start_time": "2021-08-29T06:49:33.287Z"
   },
   {
    "duration": 86,
    "start_time": "2021-08-29T06:49:33.320Z"
   },
   {
    "duration": 85,
    "start_time": "2021-08-29T06:49:33.408Z"
   },
   {
    "duration": 21,
    "start_time": "2021-08-29T06:49:33.495Z"
   },
   {
    "duration": 93,
    "start_time": "2021-08-29T06:49:33.519Z"
   },
   {
    "duration": 22,
    "start_time": "2021-08-29T06:49:33.615Z"
   },
   {
    "duration": 30,
    "start_time": "2021-08-29T06:49:33.640Z"
   },
   {
    "duration": 65,
    "start_time": "2021-08-29T06:49:33.673Z"
   },
   {
    "duration": 1416,
    "start_time": "2021-08-29T06:49:33.740Z"
   },
   {
    "duration": 1619,
    "start_time": "2021-08-29T06:49:35.159Z"
   },
   {
    "duration": 1321,
    "start_time": "2021-08-29T06:49:36.781Z"
   },
   {
    "duration": 82,
    "start_time": "2021-08-29T06:49:38.105Z"
   },
   {
    "duration": 9,
    "start_time": "2021-08-29T06:49:38.190Z"
   },
   {
    "duration": 14,
    "start_time": "2021-08-29T06:49:38.204Z"
   },
   {
    "duration": 36,
    "start_time": "2021-08-29T06:49:38.220Z"
   },
   {
    "duration": 12,
    "start_time": "2021-08-29T06:49:38.259Z"
   },
   {
    "duration": 18,
    "start_time": "2021-08-29T06:49:38.274Z"
   },
   {
    "duration": 26,
    "start_time": "2021-08-29T06:49:38.295Z"
   },
   {
    "duration": 42,
    "start_time": "2021-08-29T06:49:38.323Z"
   },
   {
    "duration": 44,
    "start_time": "2021-08-29T06:49:38.368Z"
   },
   {
    "duration": 753,
    "start_time": "2021-08-29T06:49:38.415Z"
   },
   {
    "duration": 32,
    "start_time": "2021-08-29T06:49:39.171Z"
   },
   {
    "duration": 8,
    "start_time": "2021-08-29T06:49:39.206Z"
   },
   {
    "duration": 68,
    "start_time": "2021-08-29T06:49:39.216Z"
   },
   {
    "duration": 11,
    "start_time": "2021-08-29T06:49:39.287Z"
   },
   {
    "duration": 64,
    "start_time": "2021-08-29T06:49:39.301Z"
   },
   {
    "duration": 9,
    "start_time": "2021-08-29T06:49:39.368Z"
   },
   {
    "duration": 27,
    "start_time": "2021-08-29T06:49:39.380Z"
   },
   {
    "duration": 50,
    "start_time": "2021-08-29T06:49:39.409Z"
   },
   {
    "duration": 344,
    "start_time": "2021-08-29T06:49:39.463Z"
   },
   {
    "duration": 398,
    "start_time": "2021-08-29T06:49:39.810Z"
   },
   {
    "duration": 15,
    "start_time": "2021-08-29T06:49:40.211Z"
   },
   {
    "duration": 1865,
    "start_time": "2021-08-29T06:49:40.228Z"
   },
   {
    "duration": 125,
    "start_time": "2021-08-29T06:49:42.095Z"
   },
   {
    "duration": 10,
    "start_time": "2021-08-29T06:49:42.222Z"
   },
   {
    "duration": 147,
    "start_time": "2021-08-29T06:49:42.234Z"
   },
   {
    "duration": 36433,
    "start_time": "2021-08-29T06:50:06.607Z"
   },
   {
    "duration": 70,
    "start_time": "2021-08-29T06:51:02.247Z"
   },
   {
    "duration": 2388,
    "start_time": "2021-08-29T06:51:49.411Z"
   },
   {
    "duration": 2665,
    "start_time": "2021-08-29T06:54:37.775Z"
   },
   {
    "duration": 2506,
    "start_time": "2021-08-29T06:54:56.710Z"
   },
   {
    "duration": 7,
    "start_time": "2021-08-29T06:56:22.510Z"
   },
   {
    "duration": 515,
    "start_time": "2021-08-29T06:57:27.798Z"
   },
   {
    "duration": 532,
    "start_time": "2021-08-29T06:59:00.638Z"
   },
   {
    "duration": 263,
    "start_time": "2021-08-29T06:59:29.434Z"
   },
   {
    "duration": 281,
    "start_time": "2021-08-29T06:59:39.342Z"
   },
   {
    "duration": 275,
    "start_time": "2021-08-29T07:01:19.474Z"
   },
   {
    "duration": 94,
    "start_time": "2021-08-29T07:02:00.506Z"
   },
   {
    "duration": 263,
    "start_time": "2021-08-29T07:02:13.549Z"
   },
   {
    "duration": 81,
    "start_time": "2021-08-29T07:02:21.562Z"
   },
   {
    "duration": 280,
    "start_time": "2021-08-29T07:02:30.385Z"
   },
   {
    "duration": 257,
    "start_time": "2021-08-29T07:02:40.363Z"
   },
   {
    "duration": 259,
    "start_time": "2021-08-29T07:03:01.673Z"
   },
   {
    "duration": 252,
    "start_time": "2021-08-29T07:03:22.309Z"
   },
   {
    "duration": 252,
    "start_time": "2021-08-29T07:04:26.873Z"
   },
   {
    "duration": 862,
    "start_time": "2021-08-29T07:07:13.077Z"
   },
   {
    "duration": 287,
    "start_time": "2021-08-29T07:07:55.720Z"
   },
   {
    "duration": 297,
    "start_time": "2021-08-29T07:08:00.924Z"
   },
   {
    "duration": 762,
    "start_time": "2021-08-29T07:09:42.257Z"
   },
   {
    "duration": 777,
    "start_time": "2021-08-29T07:09:52.367Z"
   },
   {
    "duration": 811,
    "start_time": "2021-08-29T07:10:57.204Z"
   },
   {
    "duration": 988,
    "start_time": "2021-08-29T07:11:19.520Z"
   },
   {
    "duration": 1021,
    "start_time": "2021-08-29T07:11:31.653Z"
   },
   {
    "duration": 849,
    "start_time": "2021-08-29T07:11:56.624Z"
   },
   {
    "duration": 2290,
    "start_time": "2021-08-29T07:13:32.698Z"
   },
   {
    "duration": 2399,
    "start_time": "2021-08-29T07:15:09.030Z"
   },
   {
    "duration": 1930,
    "start_time": "2021-08-29T07:15:23.471Z"
   },
   {
    "duration": 2372,
    "start_time": "2021-08-29T07:15:34.443Z"
   },
   {
    "duration": 2101,
    "start_time": "2021-08-29T07:15:46.210Z"
   },
   {
    "duration": 2211,
    "start_time": "2021-08-29T07:19:34.607Z"
   },
   {
    "duration": 2817,
    "start_time": "2021-08-29T07:20:34.075Z"
   },
   {
    "duration": 84,
    "start_time": "2021-08-29T07:22:31.355Z"
   },
   {
    "duration": 2209,
    "start_time": "2021-08-29T07:22:48.152Z"
   },
   {
    "duration": 2593,
    "start_time": "2021-08-29T07:25:23.893Z"
   },
   {
    "duration": 3078,
    "start_time": "2021-08-29T07:26:11.682Z"
   },
   {
    "duration": 2942,
    "start_time": "2021-08-29T07:26:23.046Z"
   },
   {
    "duration": 3133,
    "start_time": "2021-08-29T07:26:41.307Z"
   },
   {
    "duration": 3310,
    "start_time": "2021-08-29T07:27:25.830Z"
   },
   {
    "duration": 3528,
    "start_time": "2021-08-29T07:30:27.313Z"
   },
   {
    "duration": 3300,
    "start_time": "2021-08-29T07:30:51.686Z"
   },
   {
    "duration": 3434,
    "start_time": "2021-08-29T07:31:02.334Z"
   },
   {
    "duration": 3926,
    "start_time": "2021-08-29T07:31:23.074Z"
   },
   {
    "duration": 3529,
    "start_time": "2021-08-29T07:53:29.012Z"
   },
   {
    "duration": 3255,
    "start_time": "2021-08-29T07:53:47.745Z"
   },
   {
    "duration": 934,
    "start_time": "2021-08-29T07:54:00.144Z"
   },
   {
    "duration": 3716,
    "start_time": "2021-08-29T07:54:09.444Z"
   },
   {
    "duration": 3491,
    "start_time": "2021-08-29T07:55:31.799Z"
   },
   {
    "duration": 3285,
    "start_time": "2021-08-29T07:55:43.776Z"
   },
   {
    "duration": 1046,
    "start_time": "2021-08-29T07:56:10.852Z"
   },
   {
    "duration": 3530,
    "start_time": "2021-08-29T07:56:48.128Z"
   },
   {
    "duration": 435,
    "start_time": "2021-08-29T07:57:02.944Z"
   },
   {
    "duration": 889,
    "start_time": "2021-08-29T07:57:18.524Z"
   },
   {
    "duration": 3461,
    "start_time": "2021-08-29T07:57:22.127Z"
   },
   {
    "duration": 898,
    "start_time": "2021-08-29T08:00:05.892Z"
   },
   {
    "duration": 542,
    "start_time": "2021-08-29T08:00:34.252Z"
   },
   {
    "duration": 278,
    "start_time": "2021-08-29T08:01:27.907Z"
   },
   {
    "duration": 1652,
    "start_time": "2021-08-29T08:02:09.207Z"
   },
   {
    "duration": 902,
    "start_time": "2021-08-29T08:02:17.007Z"
   },
   {
    "duration": 1722,
    "start_time": "2021-08-29T08:02:44.487Z"
   },
   {
    "duration": 39,
    "start_time": "2021-08-29T08:02:46.212Z"
   },
   {
    "duration": 228,
    "start_time": "2021-08-29T08:02:46.255Z"
   },
   {
    "duration": 133,
    "start_time": "2021-08-29T08:02:46.486Z"
   },
   {
    "duration": 200,
    "start_time": "2021-08-29T08:02:46.622Z"
   },
   {
    "duration": 32,
    "start_time": "2021-08-29T08:02:46.824Z"
   },
   {
    "duration": 191,
    "start_time": "2021-08-29T08:02:46.858Z"
   },
   {
    "duration": 113,
    "start_time": "2021-08-29T08:02:47.055Z"
   },
   {
    "duration": 141,
    "start_time": "2021-08-29T08:02:47.172Z"
   },
   {
    "duration": 40,
    "start_time": "2021-08-29T08:02:47.315Z"
   },
   {
    "duration": 73,
    "start_time": "2021-08-29T08:02:47.357Z"
   },
   {
    "duration": 81,
    "start_time": "2021-08-29T08:02:47.433Z"
   },
   {
    "duration": 37,
    "start_time": "2021-08-29T08:02:47.517Z"
   },
   {
    "duration": 67,
    "start_time": "2021-08-29T08:02:47.557Z"
   },
   {
    "duration": 39,
    "start_time": "2021-08-29T08:02:47.627Z"
   },
   {
    "duration": 10,
    "start_time": "2021-08-29T08:02:47.669Z"
   },
   {
    "duration": 90,
    "start_time": "2021-08-29T08:02:47.682Z"
   },
   {
    "duration": 1356,
    "start_time": "2021-08-29T08:02:47.776Z"
   },
   {
    "duration": 1668,
    "start_time": "2021-08-29T08:02:49.135Z"
   },
   {
    "duration": 1263,
    "start_time": "2021-08-29T08:02:50.806Z"
   },
   {
    "duration": 62,
    "start_time": "2021-08-29T08:02:52.071Z"
   },
   {
    "duration": 21,
    "start_time": "2021-08-29T08:02:52.135Z"
   },
   {
    "duration": 12,
    "start_time": "2021-08-29T08:02:52.162Z"
   },
   {
    "duration": 15,
    "start_time": "2021-08-29T08:02:52.177Z"
   },
   {
    "duration": 15,
    "start_time": "2021-08-29T08:02:52.195Z"
   },
   {
    "duration": 54,
    "start_time": "2021-08-29T08:02:52.212Z"
   },
   {
    "duration": 19,
    "start_time": "2021-08-29T08:02:52.268Z"
   },
   {
    "duration": 20,
    "start_time": "2021-08-29T08:02:52.290Z"
   },
   {
    "duration": 66,
    "start_time": "2021-08-29T08:02:52.313Z"
   },
   {
    "duration": 684,
    "start_time": "2021-08-29T08:02:52.381Z"
   },
   {
    "duration": 26,
    "start_time": "2021-08-29T08:02:53.067Z"
   },
   {
    "duration": 13,
    "start_time": "2021-08-29T08:02:53.096Z"
   },
   {
    "duration": 54,
    "start_time": "2021-08-29T08:02:53.112Z"
   },
   {
    "duration": 8,
    "start_time": "2021-08-29T08:02:53.169Z"
   },
   {
    "duration": 25,
    "start_time": "2021-08-29T08:02:53.179Z"
   },
   {
    "duration": 8,
    "start_time": "2021-08-29T08:02:53.207Z"
   },
   {
    "duration": 60,
    "start_time": "2021-08-29T08:02:53.217Z"
   },
   {
    "duration": 19,
    "start_time": "2021-08-29T08:02:53.280Z"
   },
   {
    "duration": 349,
    "start_time": "2021-08-29T08:02:53.301Z"
   },
   {
    "duration": 363,
    "start_time": "2021-08-29T08:02:53.655Z"
   },
   {
    "duration": 6,
    "start_time": "2021-08-29T08:02:54.021Z"
   },
   {
    "duration": 327,
    "start_time": "2021-08-29T08:02:54.029Z"
   },
   {
    "duration": 1077,
    "start_time": "2021-08-29T08:02:54.359Z"
   },
   {
    "duration": -6888201,
    "start_time": "2021-08-29T09:57:43.639Z"
   },
   {
    "duration": -6888212,
    "start_time": "2021-08-29T09:57:43.652Z"
   },
   {
    "duration": -6888214,
    "start_time": "2021-08-29T09:57:43.655Z"
   },
   {
    "duration": 3015,
    "start_time": "2021-08-29T08:03:15.425Z"
   },
   {
    "duration": 3088,
    "start_time": "2021-08-29T08:03:45.039Z"
   },
   {
    "duration": 3186,
    "start_time": "2021-08-29T08:03:57.959Z"
   },
   {
    "duration": 3522,
    "start_time": "2021-08-29T08:04:41.195Z"
   },
   {
    "duration": 720,
    "start_time": "2021-08-29T08:07:30.419Z"
   },
   {
    "duration": 3615,
    "start_time": "2021-08-29T08:07:45.419Z"
   },
   {
    "duration": 3316,
    "start_time": "2021-08-29T08:08:09.147Z"
   },
   {
    "duration": 3496,
    "start_time": "2021-08-29T08:08:35.687Z"
   },
   {
    "duration": 3439,
    "start_time": "2021-08-29T08:08:57.127Z"
   },
   {
    "duration": 3160,
    "start_time": "2021-08-29T08:09:14.858Z"
   },
   {
    "duration": 3020,
    "start_time": "2021-08-29T08:09:39.499Z"
   },
   {
    "duration": 2919,
    "start_time": "2021-08-29T08:11:37.298Z"
   },
   {
    "duration": 3418,
    "start_time": "2021-08-29T08:11:54.926Z"
   },
   {
    "duration": 3288,
    "start_time": "2021-08-29T08:12:04.504Z"
   },
   {
    "duration": 3350,
    "start_time": "2021-08-29T08:12:15.049Z"
   },
   {
    "duration": 3602,
    "start_time": "2021-08-29T08:12:27.142Z"
   },
   {
    "duration": 25,
    "start_time": "2021-08-29T08:58:50.900Z"
   },
   {
    "duration": 272,
    "start_time": "2021-08-29T09:07:28.959Z"
   },
   {
    "duration": 24,
    "start_time": "2021-08-29T09:07:44.087Z"
   },
   {
    "duration": 10,
    "start_time": "2021-08-29T09:08:00.941Z"
   },
   {
    "duration": 9,
    "start_time": "2021-08-29T09:08:05.579Z"
   },
   {
    "duration": 9,
    "start_time": "2021-08-29T09:09:04.739Z"
   },
   {
    "duration": 288,
    "start_time": "2021-08-29T09:09:08.591Z"
   },
   {
    "duration": 1428,
    "start_time": "2021-08-29T09:09:20.184Z"
   },
   {
    "duration": 49,
    "start_time": "2021-08-29T09:09:21.615Z"
   },
   {
    "duration": 234,
    "start_time": "2021-08-29T09:09:21.667Z"
   },
   {
    "duration": 144,
    "start_time": "2021-08-29T09:09:21.904Z"
   },
   {
    "duration": 206,
    "start_time": "2021-08-29T09:09:22.050Z"
   },
   {
    "duration": 26,
    "start_time": "2021-08-29T09:09:22.258Z"
   },
   {
    "duration": 208,
    "start_time": "2021-08-29T09:09:22.287Z"
   },
   {
    "duration": 118,
    "start_time": "2021-08-29T09:09:22.497Z"
   },
   {
    "duration": 145,
    "start_time": "2021-08-29T09:09:22.619Z"
   },
   {
    "duration": 31,
    "start_time": "2021-08-29T09:09:22.767Z"
   },
   {
    "duration": 95,
    "start_time": "2021-08-29T09:09:22.801Z"
   },
   {
    "duration": 81,
    "start_time": "2021-08-29T09:09:22.899Z"
   },
   {
    "duration": 20,
    "start_time": "2021-08-29T09:09:22.983Z"
   },
   {
    "duration": 90,
    "start_time": "2021-08-29T09:09:23.006Z"
   },
   {
    "duration": 24,
    "start_time": "2021-08-29T09:09:23.099Z"
   },
   {
    "duration": 29,
    "start_time": "2021-08-29T09:09:23.125Z"
   },
   {
    "duration": 65,
    "start_time": "2021-08-29T09:09:23.157Z"
   },
   {
    "duration": 1395,
    "start_time": "2021-08-29T09:09:23.226Z"
   },
   {
    "duration": 1562,
    "start_time": "2021-08-29T09:09:24.624Z"
   },
   {
    "duration": 1299,
    "start_time": "2021-08-29T09:09:26.188Z"
   },
   {
    "duration": 81,
    "start_time": "2021-08-29T09:09:27.489Z"
   },
   {
    "duration": 11,
    "start_time": "2021-08-29T09:09:27.573Z"
   },
   {
    "duration": 18,
    "start_time": "2021-08-29T09:09:27.587Z"
   },
   {
    "duration": 20,
    "start_time": "2021-08-29T09:09:27.608Z"
   },
   {
    "duration": 38,
    "start_time": "2021-08-29T09:09:27.631Z"
   },
   {
    "duration": 23,
    "start_time": "2021-08-29T09:09:27.672Z"
   },
   {
    "duration": 15,
    "start_time": "2021-08-29T09:09:27.700Z"
   },
   {
    "duration": 40,
    "start_time": "2021-08-29T09:09:27.718Z"
   },
   {
    "duration": 50,
    "start_time": "2021-08-29T09:09:27.760Z"
   },
   {
    "duration": 702,
    "start_time": "2021-08-29T09:09:27.812Z"
   },
   {
    "duration": 39,
    "start_time": "2021-08-29T09:09:28.516Z"
   },
   {
    "duration": 9,
    "start_time": "2021-08-29T09:09:28.558Z"
   },
   {
    "duration": 34,
    "start_time": "2021-08-29T09:09:28.570Z"
   },
   {
    "duration": 11,
    "start_time": "2021-08-29T09:09:28.607Z"
   },
   {
    "duration": 27,
    "start_time": "2021-08-29T09:09:28.655Z"
   },
   {
    "duration": 8,
    "start_time": "2021-08-29T09:09:28.685Z"
   },
   {
    "duration": 38,
    "start_time": "2021-08-29T09:09:28.696Z"
   },
   {
    "duration": 20,
    "start_time": "2021-08-29T09:09:28.754Z"
   },
   {
    "duration": 503,
    "start_time": "2021-08-29T09:09:28.777Z"
   },
   {
    "duration": 504,
    "start_time": "2021-08-29T09:09:29.284Z"
   },
   {
    "duration": 6,
    "start_time": "2021-08-29T09:09:29.791Z"
   },
   {
    "duration": 299,
    "start_time": "2021-08-29T09:09:29.799Z"
   },
   {
    "duration": 3225,
    "start_time": "2021-08-29T09:09:30.101Z"
   },
   {
    "duration": 128,
    "start_time": "2021-08-29T09:09:33.330Z"
   },
   {
    "duration": 11,
    "start_time": "2021-08-29T09:09:33.461Z"
   },
   {
    "duration": 132,
    "start_time": "2021-08-29T09:09:33.476Z"
   },
   {
    "duration": 51,
    "start_time": "2021-08-29T09:09:33.611Z"
   },
   {
    "duration": 404,
    "start_time": "2021-08-29T09:10:14.303Z"
   },
   {
    "duration": 269,
    "start_time": "2021-08-29T09:10:19.310Z"
   },
   {
    "duration": 18,
    "start_time": "2021-08-29T09:10:41.850Z"
   },
   {
    "duration": 6,
    "start_time": "2021-08-29T09:10:51.782Z"
   },
   {
    "duration": 20,
    "start_time": "2021-08-29T09:10:56.974Z"
   },
   {
    "duration": 22,
    "start_time": "2021-08-29T09:11:05.030Z"
   },
   {
    "duration": 18,
    "start_time": "2021-08-29T09:11:22.287Z"
   },
   {
    "duration": 322,
    "start_time": "2021-08-29T09:11:24.303Z"
   },
   {
    "duration": 19,
    "start_time": "2021-08-29T09:11:27.486Z"
   },
   {
    "duration": 1403,
    "start_time": "2021-08-29T09:11:34.103Z"
   },
   {
    "duration": 54,
    "start_time": "2021-08-29T09:11:35.509Z"
   },
   {
    "duration": 220,
    "start_time": "2021-08-29T09:11:35.566Z"
   },
   {
    "duration": 133,
    "start_time": "2021-08-29T09:11:35.789Z"
   },
   {
    "duration": 196,
    "start_time": "2021-08-29T09:11:35.924Z"
   },
   {
    "duration": 26,
    "start_time": "2021-08-29T09:11:36.123Z"
   },
   {
    "duration": 199,
    "start_time": "2021-08-29T09:11:36.155Z"
   },
   {
    "duration": 109,
    "start_time": "2021-08-29T09:11:36.357Z"
   },
   {
    "duration": 140,
    "start_time": "2021-08-29T09:11:36.469Z"
   },
   {
    "duration": 31,
    "start_time": "2021-08-29T09:11:36.611Z"
   },
   {
    "duration": 80,
    "start_time": "2021-08-29T09:11:36.644Z"
   },
   {
    "duration": 83,
    "start_time": "2021-08-29T09:11:36.726Z"
   },
   {
    "duration": 20,
    "start_time": "2021-08-29T09:11:36.811Z"
   },
   {
    "duration": 83,
    "start_time": "2021-08-29T09:11:36.834Z"
   },
   {
    "duration": 40,
    "start_time": "2021-08-29T09:11:36.920Z"
   },
   {
    "duration": 10,
    "start_time": "2021-08-29T09:11:36.963Z"
   },
   {
    "duration": 80,
    "start_time": "2021-08-29T09:11:36.976Z"
   },
   {
    "duration": 1230,
    "start_time": "2021-08-29T09:11:37.058Z"
   },
   {
    "duration": 1560,
    "start_time": "2021-08-29T09:11:38.290Z"
   },
   {
    "duration": 1231,
    "start_time": "2021-08-29T09:11:39.855Z"
   },
   {
    "duration": 71,
    "start_time": "2021-08-29T09:11:41.089Z"
   },
   {
    "duration": 10,
    "start_time": "2021-08-29T09:11:41.162Z"
   },
   {
    "duration": 12,
    "start_time": "2021-08-29T09:11:41.176Z"
   },
   {
    "duration": 11,
    "start_time": "2021-08-29T09:11:41.191Z"
   },
   {
    "duration": 13,
    "start_time": "2021-08-29T09:11:41.204Z"
   },
   {
    "duration": 16,
    "start_time": "2021-08-29T09:11:41.255Z"
   },
   {
    "duration": 15,
    "start_time": "2021-08-29T09:11:41.274Z"
   },
   {
    "duration": 9,
    "start_time": "2021-08-29T09:11:41.291Z"
   },
   {
    "duration": 79,
    "start_time": "2021-08-29T09:11:41.302Z"
   },
   {
    "duration": 691,
    "start_time": "2021-08-29T09:11:41.384Z"
   },
   {
    "duration": 28,
    "start_time": "2021-08-29T09:11:42.078Z"
   },
   {
    "duration": 12,
    "start_time": "2021-08-29T09:11:42.109Z"
   },
   {
    "duration": 54,
    "start_time": "2021-08-29T09:11:42.124Z"
   },
   {
    "duration": 7,
    "start_time": "2021-08-29T09:11:42.180Z"
   },
   {
    "duration": 37,
    "start_time": "2021-08-29T09:11:42.190Z"
   },
   {
    "duration": 29,
    "start_time": "2021-08-29T09:11:42.230Z"
   },
   {
    "duration": 35,
    "start_time": "2021-08-29T09:11:42.261Z"
   },
   {
    "duration": 20,
    "start_time": "2021-08-29T09:11:42.298Z"
   },
   {
    "duration": 434,
    "start_time": "2021-08-29T09:11:42.320Z"
   },
   {
    "duration": 374,
    "start_time": "2021-08-29T09:11:42.757Z"
   },
   {
    "duration": 7,
    "start_time": "2021-08-29T09:11:43.133Z"
   },
   {
    "duration": 290,
    "start_time": "2021-08-29T09:11:43.155Z"
   },
   {
    "duration": 3241,
    "start_time": "2021-08-29T09:11:43.448Z"
   },
   {
    "duration": 124,
    "start_time": "2021-08-29T09:11:46.692Z"
   },
   {
    "duration": 10,
    "start_time": "2021-08-29T09:11:46.819Z"
   },
   {
    "duration": 116,
    "start_time": "2021-08-29T09:11:46.831Z"
   },
   {
    "duration": 27,
    "start_time": "2021-08-29T09:11:46.950Z"
   },
   {
    "duration": 21,
    "start_time": "2021-08-29T09:11:46.979Z"
   },
   {
    "duration": 415,
    "start_time": "2021-08-29T09:20:31.003Z"
   },
   {
    "duration": 272,
    "start_time": "2021-08-29T09:21:40.331Z"
   },
   {
    "duration": 275,
    "start_time": "2021-08-29T09:21:58.194Z"
   },
   {
    "duration": 282,
    "start_time": "2021-08-29T09:23:00.094Z"
   },
   {
    "duration": 9,
    "start_time": "2021-08-29T09:23:25.234Z"
   },
   {
    "duration": 6667,
    "start_time": "2021-08-29T09:55:08.304Z"
   },
   {
    "duration": 3445,
    "start_time": "2021-08-29T09:55:24.143Z"
   },
   {
    "duration": 249,
    "start_time": "2021-08-29T09:57:51.727Z"
   },
   {
    "duration": 265,
    "start_time": "2021-08-29T09:57:59.755Z"
   },
   {
    "duration": 6582,
    "start_time": "2021-08-29T10:00:39.342Z"
   },
   {
    "duration": 6617,
    "start_time": "2021-08-29T10:00:59.944Z"
   },
   {
    "duration": 59,
    "start_time": "2021-08-29T10:01:17.526Z"
   },
   {
    "duration": 60,
    "start_time": "2021-08-29T10:01:22.446Z"
   },
   {
    "duration": 466,
    "start_time": "2021-08-29T10:01:33.498Z"
   },
   {
    "duration": 34,
    "start_time": "2021-08-29T10:01:46.434Z"
   },
   {
    "duration": 26,
    "start_time": "2021-08-29T10:02:16.866Z"
   },
   {
    "duration": 136,
    "start_time": "2021-08-29T10:06:03.602Z"
   },
   {
    "duration": 12,
    "start_time": "2021-08-29T10:06:08.561Z"
   },
   {
    "duration": 13,
    "start_time": "2021-08-29T10:06:16.710Z"
   },
   {
    "duration": 277,
    "start_time": "2021-08-29T10:06:19.862Z"
   },
   {
    "duration": 12,
    "start_time": "2021-08-29T10:06:27.414Z"
   },
   {
    "duration": 11,
    "start_time": "2021-08-29T10:06:31.914Z"
   },
   {
    "duration": 32,
    "start_time": "2021-08-29T10:06:42.102Z"
   },
   {
    "duration": 25,
    "start_time": "2021-08-29T10:06:44.098Z"
   },
   {
    "duration": 43,
    "start_time": "2021-08-29T10:07:22.870Z"
   },
   {
    "duration": 303,
    "start_time": "2021-08-29T10:07:53.597Z"
   },
   {
    "duration": 259,
    "start_time": "2021-08-29T10:07:58.462Z"
   },
   {
    "duration": 43,
    "start_time": "2021-08-29T10:08:14.057Z"
   },
   {
    "duration": 96,
    "start_time": "2021-08-29T10:08:48.226Z"
   },
   {
    "duration": 279,
    "start_time": "2021-08-29T10:08:51.957Z"
   },
   {
    "duration": 280,
    "start_time": "2021-08-29T10:08:58.810Z"
   },
   {
    "duration": 44,
    "start_time": "2021-08-29T10:09:09.693Z"
   },
   {
    "duration": 29,
    "start_time": "2021-08-29T10:09:46.153Z"
   },
   {
    "duration": 19,
    "start_time": "2021-08-29T10:09:52.513Z"
   },
   {
    "duration": 33,
    "start_time": "2021-08-29T10:10:25.910Z"
   },
   {
    "duration": 20,
    "start_time": "2021-08-29T10:10:30.502Z"
   },
   {
    "duration": 30,
    "start_time": "2021-08-29T10:10:40.445Z"
   },
   {
    "duration": 18,
    "start_time": "2021-08-29T10:10:42.429Z"
   },
   {
    "duration": 46,
    "start_time": "2021-08-29T10:10:49.797Z"
   },
   {
    "duration": 43,
    "start_time": "2021-08-29T10:10:52.789Z"
   },
   {
    "duration": 7,
    "start_time": "2021-08-29T10:11:31.874Z"
   },
   {
    "duration": 44,
    "start_time": "2021-08-29T10:12:48.997Z"
   },
   {
    "duration": 44,
    "start_time": "2021-08-29T10:13:08.451Z"
   },
   {
    "duration": 434,
    "start_time": "2021-08-29T10:15:45.732Z"
   },
   {
    "duration": 342,
    "start_time": "2021-08-29T10:16:20.964Z"
   },
   {
    "duration": 432,
    "start_time": "2021-08-29T10:16:27.308Z"
   },
   {
    "duration": 425,
    "start_time": "2021-08-29T10:17:27.104Z"
   },
   {
    "duration": 15,
    "start_time": "2021-08-29T10:17:53.344Z"
   },
   {
    "duration": 44,
    "start_time": "2021-08-29T10:18:04.668Z"
   },
   {
    "duration": 16,
    "start_time": "2021-08-29T10:19:08.493Z"
   },
   {
    "duration": 16,
    "start_time": "2021-08-29T10:20:33.844Z"
   },
   {
    "duration": 44,
    "start_time": "2021-08-29T10:21:31.847Z"
   },
   {
    "duration": 34,
    "start_time": "2021-08-29T10:39:30.658Z"
   },
   {
    "duration": 18,
    "start_time": "2021-08-29T10:42:30.129Z"
   },
   {
    "duration": 15,
    "start_time": "2021-08-29T10:43:02.145Z"
   },
   {
    "duration": 19,
    "start_time": "2021-08-29T10:43:35.191Z"
   },
   {
    "duration": 19,
    "start_time": "2021-08-29T10:44:04.529Z"
   },
   {
    "duration": 53,
    "start_time": "2021-08-29T10:44:33.138Z"
   },
   {
    "duration": 47,
    "start_time": "2021-08-29T10:44:43.913Z"
   },
   {
    "duration": 12,
    "start_time": "2021-08-29T10:47:35.073Z"
   },
   {
    "duration": 23,
    "start_time": "2021-08-29T10:47:41.509Z"
   },
   {
    "duration": 2022,
    "start_time": "2021-08-29T10:48:17.613Z"
   },
   {
    "duration": 260,
    "start_time": "2021-08-29T10:49:17.081Z"
   },
   {
    "duration": 262,
    "start_time": "2021-08-29T10:49:32.317Z"
   },
   {
    "duration": 6300,
    "start_time": "2021-08-29T10:50:11.776Z"
   },
   {
    "duration": 260,
    "start_time": "2021-08-29T10:50:28.392Z"
   },
   {
    "duration": 19,
    "start_time": "2021-08-29T10:54:37.305Z"
   },
   {
    "duration": 11,
    "start_time": "2021-08-29T10:54:51.704Z"
   },
   {
    "duration": 10,
    "start_time": "2021-08-29T10:55:04.216Z"
   },
   {
    "duration": 19,
    "start_time": "2021-08-29T10:55:34.512Z"
   },
   {
    "duration": 11,
    "start_time": "2021-08-29T10:55:36.844Z"
   },
   {
    "duration": 7,
    "start_time": "2021-08-29T10:55:59.572Z"
   },
   {
    "duration": 11,
    "start_time": "2021-08-29T10:56:01.588Z"
   },
   {
    "duration": 5,
    "start_time": "2021-08-29T10:56:15.920Z"
   },
   {
    "duration": 10,
    "start_time": "2021-08-29T10:56:19.432Z"
   },
   {
    "duration": 10,
    "start_time": "2021-08-29T10:56:23.896Z"
   },
   {
    "duration": 5,
    "start_time": "2021-08-29T10:56:26.644Z"
   },
   {
    "duration": 11,
    "start_time": "2021-08-29T10:56:27.820Z"
   },
   {
    "duration": 5,
    "start_time": "2021-08-29T10:56:33.304Z"
   },
   {
    "duration": 18,
    "start_time": "2021-08-29T10:56:38.268Z"
   },
   {
    "duration": 18,
    "start_time": "2021-08-29T10:56:42.484Z"
   },
   {
    "duration": 10,
    "start_time": "2021-08-29T10:56:44.072Z"
   },
   {
    "duration": 286,
    "start_time": "2021-08-29T10:57:55.787Z"
   },
   {
    "duration": 9,
    "start_time": "2021-08-29T11:04:20.219Z"
   },
   {
    "duration": 288,
    "start_time": "2021-08-29T11:06:43.418Z"
   },
   {
    "duration": 145,
    "start_time": "2021-08-29T11:07:39.855Z"
   },
   {
    "duration": 32,
    "start_time": "2021-08-29T11:07:49.595Z"
   },
   {
    "duration": 308,
    "start_time": "2021-08-29T11:08:18.383Z"
   },
   {
    "duration": 80,
    "start_time": "2021-08-29T11:08:32.079Z"
   },
   {
    "duration": 1135,
    "start_time": "2021-08-29T11:08:44.802Z"
   },
   {
    "duration": 19,
    "start_time": "2021-08-29T11:09:16.898Z"
   },
   {
    "duration": 14,
    "start_time": "2021-08-29T11:09:51.306Z"
   },
   {
    "duration": 22,
    "start_time": "2021-08-29T11:09:55.199Z"
   },
   {
    "duration": 10,
    "start_time": "2021-08-29T11:12:54.574Z"
   },
   {
    "duration": 32,
    "start_time": "2021-08-29T11:12:59.378Z"
   },
   {
    "duration": 14,
    "start_time": "2021-08-29T11:13:37.738Z"
   },
   {
    "duration": 9,
    "start_time": "2021-08-29T11:13:39.382Z"
   },
   {
    "duration": 22,
    "start_time": "2021-08-29T11:13:40.974Z"
   },
   {
    "duration": 15,
    "start_time": "2021-08-29T11:13:46.426Z"
   },
   {
    "duration": 14,
    "start_time": "2021-08-29T11:13:49.594Z"
   },
   {
    "duration": 30,
    "start_time": "2021-08-29T11:13:50.458Z"
   },
   {
    "duration": 9,
    "start_time": "2021-08-29T11:14:57.550Z"
   },
   {
    "duration": 25,
    "start_time": "2021-08-29T11:15:01.750Z"
   },
   {
    "duration": 26,
    "start_time": "2021-08-29T11:15:13.027Z"
   },
   {
    "duration": 25,
    "start_time": "2021-08-29T11:16:39.070Z"
   },
   {
    "duration": 276,
    "start_time": "2021-08-29T11:18:10.993Z"
   },
   {
    "duration": 325,
    "start_time": "2021-08-29T11:18:14.949Z"
   },
   {
    "duration": 12,
    "start_time": "2021-08-29T11:18:24.029Z"
   },
   {
    "duration": 16,
    "start_time": "2021-08-29T11:18:49.821Z"
   },
   {
    "duration": 31,
    "start_time": "2021-08-29T11:19:02.277Z"
   },
   {
    "duration": 15,
    "start_time": "2021-08-29T11:19:09.437Z"
   },
   {
    "duration": 14,
    "start_time": "2021-08-29T11:19:20.673Z"
   },
   {
    "duration": 288,
    "start_time": "2021-08-29T11:20:11.089Z"
   },
   {
    "duration": 14,
    "start_time": "2021-08-29T11:20:17.773Z"
   },
   {
    "duration": 15,
    "start_time": "2021-08-29T11:21:03.369Z"
   },
   {
    "duration": 3587,
    "start_time": "2021-08-29T11:25:52.878Z"
   },
   {
    "duration": 7,
    "start_time": "2021-08-29T11:27:56.864Z"
   },
   {
    "duration": 7,
    "start_time": "2021-08-29T11:29:43.332Z"
   },
   {
    "duration": 49,
    "start_time": "2021-08-29T11:30:24.852Z"
   },
   {
    "duration": 49,
    "start_time": "2021-08-29T11:30:59.372Z"
   },
   {
    "duration": 3589,
    "start_time": "2021-08-29T11:32:42.568Z"
   },
   {
    "duration": 3240,
    "start_time": "2021-08-29T11:33:08.276Z"
   },
   {
    "duration": 7,
    "start_time": "2021-08-29T11:35:26.272Z"
   },
   {
    "duration": 7,
    "start_time": "2021-08-29T11:35:35.315Z"
   },
   {
    "duration": 47,
    "start_time": "2021-08-29T11:36:20.007Z"
   },
   {
    "duration": 52,
    "start_time": "2021-08-29T11:36:53.643Z"
   },
   {
    "duration": 87,
    "start_time": "2021-08-29T11:39:23.899Z"
   },
   {
    "duration": 3563,
    "start_time": "2021-08-29T11:42:38.698Z"
   },
   {
    "duration": 4180,
    "start_time": "2021-08-29T11:42:42.264Z"
   },
   {
    "duration": 15,
    "start_time": "2021-08-29T11:43:42.590Z"
   },
   {
    "duration": 15,
    "start_time": "2021-08-29T11:44:03.070Z"
   },
   {
    "duration": 20,
    "start_time": "2021-08-29T11:44:09.155Z"
   },
   {
    "duration": 14,
    "start_time": "2021-08-29T11:44:15.178Z"
   },
   {
    "duration": 7,
    "start_time": "2021-08-29T11:46:04.374Z"
   },
   {
    "duration": 30,
    "start_time": "2021-08-29T11:46:36.887Z"
   },
   {
    "duration": 8,
    "start_time": "2021-08-29T11:47:12.390Z"
   },
   {
    "duration": 10,
    "start_time": "2021-08-29T11:47:50.846Z"
   },
   {
    "duration": 17,
    "start_time": "2021-08-29T11:50:01.202Z"
   },
   {
    "duration": 174,
    "start_time": "2021-08-29T12:00:23.840Z"
   },
   {
    "duration": 28,
    "start_time": "2021-08-29T12:13:46.487Z"
   },
   {
    "duration": 259,
    "start_time": "2021-08-29T12:15:42.542Z"
   },
   {
    "duration": 6,
    "start_time": "2021-08-29T12:15:51.851Z"
   },
   {
    "duration": 11,
    "start_time": "2021-08-29T12:16:17.519Z"
   },
   {
    "duration": 10,
    "start_time": "2021-08-29T12:19:28.234Z"
   },
   {
    "duration": 269,
    "start_time": "2021-08-29T12:19:36.014Z"
   },
   {
    "duration": 11,
    "start_time": "2021-08-29T12:19:43.826Z"
   },
   {
    "duration": 49,
    "start_time": "2021-08-29T13:16:12.463Z"
   },
   {
    "duration": 59,
    "start_time": "2021-08-29T13:16:18.040Z"
   },
   {
    "duration": 31,
    "start_time": "2021-08-29T15:03:51.824Z"
   },
   {
    "duration": 29,
    "start_time": "2021-08-29T15:04:28.277Z"
   },
   {
    "duration": 24,
    "start_time": "2021-08-29T15:05:22.464Z"
   },
   {
    "duration": 267,
    "start_time": "2021-08-29T15:08:08.792Z"
   },
   {
    "duration": 279,
    "start_time": "2021-08-29T15:08:25.225Z"
   },
   {
    "duration": 270,
    "start_time": "2021-08-29T15:08:28.096Z"
   },
   {
    "duration": 264,
    "start_time": "2021-08-29T15:08:41.544Z"
   },
   {
    "duration": 1816,
    "start_time": "2021-08-29T15:08:49.431Z"
   },
   {
    "duration": 58,
    "start_time": "2021-08-29T15:08:51.251Z"
   },
   {
    "duration": 326,
    "start_time": "2021-08-29T15:08:51.313Z"
   },
   {
    "duration": 139,
    "start_time": "2021-08-29T15:08:51.654Z"
   },
   {
    "duration": 213,
    "start_time": "2021-08-29T15:08:51.796Z"
   },
   {
    "duration": 27,
    "start_time": "2021-08-29T15:08:52.013Z"
   },
   {
    "duration": 212,
    "start_time": "2021-08-29T15:08:52.043Z"
   },
   {
    "duration": 116,
    "start_time": "2021-08-29T15:08:52.259Z"
   },
   {
    "duration": 146,
    "start_time": "2021-08-29T15:08:52.378Z"
   },
   {
    "duration": 41,
    "start_time": "2021-08-29T15:08:52.526Z"
   },
   {
    "duration": 90,
    "start_time": "2021-08-29T15:08:52.570Z"
   },
   {
    "duration": 71,
    "start_time": "2021-08-29T15:08:52.663Z"
   },
   {
    "duration": 38,
    "start_time": "2021-08-29T15:08:52.736Z"
   },
   {
    "duration": 95,
    "start_time": "2021-08-29T15:08:52.776Z"
   },
   {
    "duration": 23,
    "start_time": "2021-08-29T15:08:52.874Z"
   },
   {
    "duration": 10,
    "start_time": "2021-08-29T15:08:52.900Z"
   },
   {
    "duration": 95,
    "start_time": "2021-08-29T15:08:52.913Z"
   },
   {
    "duration": 1787,
    "start_time": "2021-08-29T15:08:53.011Z"
   },
   {
    "duration": 1994,
    "start_time": "2021-08-29T15:08:54.801Z"
   },
   {
    "duration": 1738,
    "start_time": "2021-08-29T15:08:56.798Z"
   },
   {
    "duration": 93,
    "start_time": "2021-08-29T15:08:58.539Z"
   },
   {
    "duration": 29,
    "start_time": "2021-08-29T15:08:58.635Z"
   },
   {
    "duration": 16,
    "start_time": "2021-08-29T15:08:58.671Z"
   },
   {
    "duration": 13,
    "start_time": "2021-08-29T15:08:58.691Z"
   },
   {
    "duration": 49,
    "start_time": "2021-08-29T15:08:58.707Z"
   },
   {
    "duration": 23,
    "start_time": "2021-08-29T15:08:58.759Z"
   },
   {
    "duration": 13,
    "start_time": "2021-08-29T15:08:58.785Z"
   },
   {
    "duration": 98,
    "start_time": "2021-08-29T15:08:58.801Z"
   },
   {
    "duration": 1194,
    "start_time": "2021-08-29T15:08:58.903Z"
   },
   {
    "duration": 8,
    "start_time": "2021-08-29T15:09:00.101Z"
   },
   {
    "duration": 70,
    "start_time": "2021-08-29T15:09:00.112Z"
   },
   {
    "duration": 72,
    "start_time": "2021-08-29T15:09:00.184Z"
   },
   {
    "duration": 5602,
    "start_time": "2021-08-29T15:09:00.259Z"
   },
   {
    "duration": 5863,
    "start_time": "2021-08-29T15:09:05.864Z"
   },
   {
    "duration": 9,
    "start_time": "2021-08-29T15:09:11.730Z"
   },
   {
    "duration": 68,
    "start_time": "2021-08-29T15:09:11.741Z"
   },
   {
    "duration": 69,
    "start_time": "2021-08-29T15:09:11.811Z"
   },
   {
    "duration": 3410,
    "start_time": "2021-08-29T15:09:11.883Z"
   },
   {
    "duration": 3508,
    "start_time": "2021-08-29T15:09:15.295Z"
   },
   {
    "duration": 8,
    "start_time": "2021-08-29T15:09:18.805Z"
   },
   {
    "duration": 80,
    "start_time": "2021-08-29T15:09:18.816Z"
   },
   {
    "duration": 66,
    "start_time": "2021-08-29T15:09:18.899Z"
   },
   {
    "duration": 3447,
    "start_time": "2021-08-29T15:09:18.968Z"
   },
   {
    "duration": 4614,
    "start_time": "2021-08-29T15:09:22.418Z"
   },
   {
    "duration": 8,
    "start_time": "2021-08-29T15:09:27.035Z"
   },
   {
    "duration": 28,
    "start_time": "2021-08-29T15:09:27.045Z"
   },
   {
    "duration": 12,
    "start_time": "2021-08-29T15:09:27.076Z"
   },
   {
    "duration": 31,
    "start_time": "2021-08-29T15:09:27.091Z"
   },
   {
    "duration": 15,
    "start_time": "2021-08-29T15:09:27.155Z"
   },
   {
    "duration": 20,
    "start_time": "2021-08-29T15:09:27.173Z"
   },
   {
    "duration": 428,
    "start_time": "2021-08-29T15:09:27.195Z"
   },
   {
    "duration": -6888866,
    "start_time": "2021-08-29T17:04:16.492Z"
   },
   {
    "duration": -6888876,
    "start_time": "2021-08-29T17:04:16.504Z"
   },
   {
    "duration": -6888879,
    "start_time": "2021-08-29T17:04:16.508Z"
   },
   {
    "duration": -6888883,
    "start_time": "2021-08-29T17:04:16.514Z"
   },
   {
    "duration": 268,
    "start_time": "2021-08-29T15:09:44.279Z"
   },
   {
    "duration": 26,
    "start_time": "2021-08-29T15:10:04.667Z"
   },
   {
    "duration": 295,
    "start_time": "2021-08-29T15:10:07.023Z"
   },
   {
    "duration": 12,
    "start_time": "2021-08-29T15:10:32.808Z"
   },
   {
    "duration": 10,
    "start_time": "2021-08-29T15:10:44.551Z"
   },
   {
    "duration": 10,
    "start_time": "2021-08-29T15:22:24.038Z"
   },
   {
    "duration": 8,
    "start_time": "2021-08-29T15:22:42.964Z"
   },
   {
    "duration": 51,
    "start_time": "2021-08-29T15:27:35.925Z"
   },
   {
    "duration": 454,
    "start_time": "2021-08-29T15:28:20.913Z"
   },
   {
    "duration": 8,
    "start_time": "2021-08-29T15:28:40.319Z"
   },
   {
    "duration": 31,
    "start_time": "2021-08-29T15:30:47.101Z"
   },
   {
    "duration": 19,
    "start_time": "2021-08-29T15:31:08.508Z"
   },
   {
    "duration": 20,
    "start_time": "2021-08-29T15:44:38.551Z"
   },
   {
    "duration": 15,
    "start_time": "2021-08-29T15:44:48.695Z"
   },
   {
    "duration": 17,
    "start_time": "2021-08-29T15:44:52.307Z"
   },
   {
    "duration": 18,
    "start_time": "2021-08-29T15:45:00.876Z"
   },
   {
    "duration": 10,
    "start_time": "2021-08-29T15:45:51.771Z"
   },
   {
    "duration": 30,
    "start_time": "2021-08-29T15:49:19.054Z"
   },
   {
    "duration": 8,
    "start_time": "2021-08-29T17:20:52.745Z"
   },
   {
    "duration": 19,
    "start_time": "2021-08-29T17:21:37.961Z"
   },
   {
    "duration": 16,
    "start_time": "2021-08-29T17:23:26.934Z"
   },
   {
    "duration": 34,
    "start_time": "2021-08-29T17:25:25.633Z"
   },
   {
    "duration": 34,
    "start_time": "2021-08-29T17:25:45.505Z"
   },
   {
    "duration": 25,
    "start_time": "2021-08-29T17:25:56.609Z"
   },
   {
    "duration": 37,
    "start_time": "2021-08-29T17:25:59.514Z"
   },
   {
    "duration": 10,
    "start_time": "2021-08-29T17:52:27.294Z"
   },
   {
    "duration": 100,
    "start_time": "2021-08-29T18:08:51.417Z"
   },
   {
    "duration": 85,
    "start_time": "2021-08-29T18:10:33.668Z"
   },
   {
    "duration": 11,
    "start_time": "2021-08-29T18:14:37.535Z"
   },
   {
    "duration": 40,
    "start_time": "2021-08-29T18:14:43.249Z"
   },
   {
    "duration": 1666,
    "start_time": "2021-08-29T18:14:57.729Z"
   },
   {
    "duration": 96,
    "start_time": "2021-08-29T18:14:59.399Z"
   },
   {
    "duration": 630,
    "start_time": "2021-08-29T18:14:59.555Z"
   },
   {
    "duration": 180,
    "start_time": "2021-08-29T18:15:00.189Z"
   },
   {
    "duration": 210,
    "start_time": "2021-08-29T18:15:00.371Z"
   },
   {
    "duration": 33,
    "start_time": "2021-08-29T18:15:00.583Z"
   },
   {
    "duration": 205,
    "start_time": "2021-08-29T18:15:00.618Z"
   },
   {
    "duration": 110,
    "start_time": "2021-08-29T18:15:00.826Z"
   },
   {
    "duration": 150,
    "start_time": "2021-08-29T18:15:00.940Z"
   },
   {
    "duration": 33,
    "start_time": "2021-08-29T18:15:01.093Z"
   },
   {
    "duration": 97,
    "start_time": "2021-08-29T18:15:01.128Z"
   },
   {
    "duration": 95,
    "start_time": "2021-08-29T18:15:01.228Z"
   },
   {
    "duration": 39,
    "start_time": "2021-08-29T18:15:01.326Z"
   },
   {
    "duration": 97,
    "start_time": "2021-08-29T18:15:01.368Z"
   },
   {
    "duration": 26,
    "start_time": "2021-08-29T18:15:01.468Z"
   },
   {
    "duration": 21,
    "start_time": "2021-08-29T18:15:01.497Z"
   },
   {
    "duration": 89,
    "start_time": "2021-08-29T18:15:01.521Z"
   },
   {
    "duration": 1316,
    "start_time": "2021-08-29T18:15:01.613Z"
   },
   {
    "duration": 1474,
    "start_time": "2021-08-29T18:15:02.931Z"
   },
   {
    "duration": 1274,
    "start_time": "2021-08-29T18:15:04.407Z"
   },
   {
    "duration": 78,
    "start_time": "2021-08-29T18:15:05.683Z"
   },
   {
    "duration": 10,
    "start_time": "2021-08-29T18:15:05.763Z"
   },
   {
    "duration": 50,
    "start_time": "2021-08-29T18:15:05.778Z"
   },
   {
    "duration": 21,
    "start_time": "2021-08-29T18:15:05.830Z"
   },
   {
    "duration": 38,
    "start_time": "2021-08-29T18:15:05.853Z"
   },
   {
    "duration": 36,
    "start_time": "2021-08-29T18:15:05.894Z"
   },
   {
    "duration": 24,
    "start_time": "2021-08-29T18:15:05.933Z"
   },
   {
    "duration": 74,
    "start_time": "2021-08-29T18:15:05.959Z"
   },
   {
    "duration": 697,
    "start_time": "2021-08-29T18:15:06.036Z"
   },
   {
    "duration": 6,
    "start_time": "2021-08-29T18:15:06.735Z"
   },
   {
    "duration": 46,
    "start_time": "2021-08-29T18:15:06.755Z"
   },
   {
    "duration": 75,
    "start_time": "2021-08-29T18:15:06.803Z"
   },
   {
    "duration": 3648,
    "start_time": "2021-08-29T18:15:06.880Z"
   },
   {
    "duration": 3411,
    "start_time": "2021-08-29T18:15:10.530Z"
   },
   {
    "duration": 14,
    "start_time": "2021-08-29T18:15:13.944Z"
   },
   {
    "duration": 71,
    "start_time": "2021-08-29T18:15:13.961Z"
   },
   {
    "duration": 82,
    "start_time": "2021-08-29T18:15:14.035Z"
   },
   {
    "duration": 4056,
    "start_time": "2021-08-29T18:15:14.121Z"
   },
   {
    "duration": 3403,
    "start_time": "2021-08-29T18:15:18.179Z"
   },
   {
    "duration": 7,
    "start_time": "2021-08-29T18:15:21.585Z"
   },
   {
    "duration": 67,
    "start_time": "2021-08-29T18:15:21.594Z"
   },
   {
    "duration": 43,
    "start_time": "2021-08-29T18:15:21.664Z"
   },
   {
    "duration": 3457,
    "start_time": "2021-08-29T18:15:21.710Z"
   },
   {
    "duration": 3530,
    "start_time": "2021-08-29T18:15:25.170Z"
   },
   {
    "duration": 32,
    "start_time": "2021-08-29T18:15:28.702Z"
   },
   {
    "duration": 54,
    "start_time": "2021-08-29T18:15:28.736Z"
   },
   {
    "duration": 29,
    "start_time": "2021-08-29T18:15:28.792Z"
   },
   {
    "duration": 38,
    "start_time": "2021-08-29T18:15:28.823Z"
   },
   {
    "duration": 40,
    "start_time": "2021-08-29T18:15:28.864Z"
   },
   {
    "duration": 63,
    "start_time": "2021-08-29T18:15:28.906Z"
   },
   {
    "duration": 34,
    "start_time": "2021-08-29T18:16:22.489Z"
   },
   {
    "duration": 34,
    "start_time": "2021-08-29T18:23:40.744Z"
   },
   {
    "duration": 22,
    "start_time": "2021-08-29T18:24:11.039Z"
   },
   {
    "duration": 24,
    "start_time": "2021-08-29T18:24:27.549Z"
   },
   {
    "duration": 58,
    "start_time": "2021-08-29T18:24:33.194Z"
   },
   {
    "duration": 31,
    "start_time": "2021-08-29T18:24:37.060Z"
   },
   {
    "duration": 33,
    "start_time": "2021-08-29T18:24:43.289Z"
   },
   {
    "duration": 22,
    "start_time": "2021-08-29T18:24:59.043Z"
   },
   {
    "duration": 11,
    "start_time": "2021-08-29T18:25:13.352Z"
   },
   {
    "duration": 10,
    "start_time": "2021-08-29T18:25:22.708Z"
   },
   {
    "duration": 20,
    "start_time": "2021-08-29T18:25:32.991Z"
   },
   {
    "duration": 23,
    "start_time": "2021-08-29T18:25:39.652Z"
   },
   {
    "duration": 19,
    "start_time": "2021-08-29T18:25:42.475Z"
   },
   {
    "duration": 29,
    "start_time": "2021-08-29T18:25:44.504Z"
   },
   {
    "duration": 46,
    "start_time": "2021-08-29T19:12:49.494Z"
   },
   {
    "duration": 33,
    "start_time": "2021-08-29T19:16:27.073Z"
   },
   {
    "duration": 1520,
    "start_time": "2021-08-30T13:35:51.603Z"
   },
   {
    "duration": 58,
    "start_time": "2021-08-30T13:35:53.126Z"
   },
   {
    "duration": 242,
    "start_time": "2021-08-30T13:35:53.187Z"
   },
   {
    "duration": 154,
    "start_time": "2021-08-30T13:35:53.432Z"
   },
   {
    "duration": 215,
    "start_time": "2021-08-30T13:35:53.588Z"
   },
   {
    "duration": 32,
    "start_time": "2021-08-30T13:35:53.805Z"
   },
   {
    "duration": 331,
    "start_time": "2021-08-30T13:35:53.840Z"
   },
   {
    "duration": 315,
    "start_time": "2021-08-30T13:35:54.177Z"
   },
   {
    "duration": 487,
    "start_time": "2021-08-30T13:35:54.496Z"
   },
   {
    "duration": 92,
    "start_time": "2021-08-30T13:35:54.987Z"
   },
   {
    "duration": 118,
    "start_time": "2021-08-30T13:35:55.083Z"
   },
   {
    "duration": 87,
    "start_time": "2021-08-30T13:35:55.203Z"
   },
   {
    "duration": 22,
    "start_time": "2021-08-30T13:35:55.293Z"
   },
   {
    "duration": 108,
    "start_time": "2021-08-30T13:35:55.318Z"
   },
   {
    "duration": 41,
    "start_time": "2021-08-30T13:35:55.429Z"
   },
   {
    "duration": 12,
    "start_time": "2021-08-30T13:35:55.473Z"
   },
   {
    "duration": 90,
    "start_time": "2021-08-30T13:35:55.487Z"
   },
   {
    "duration": 1422,
    "start_time": "2021-08-30T13:35:55.581Z"
   },
   {
    "duration": 1578,
    "start_time": "2021-08-30T13:35:57.006Z"
   },
   {
    "duration": 1371,
    "start_time": "2021-08-30T13:35:58.586Z"
   },
   {
    "duration": 73,
    "start_time": "2021-08-30T13:35:59.961Z"
   },
   {
    "duration": 13,
    "start_time": "2021-08-30T13:36:00.056Z"
   },
   {
    "duration": 16,
    "start_time": "2021-08-30T13:36:00.077Z"
   },
   {
    "duration": 30,
    "start_time": "2021-08-30T13:36:00.096Z"
   },
   {
    "duration": 39,
    "start_time": "2021-08-30T13:36:00.129Z"
   },
   {
    "duration": 34,
    "start_time": "2021-08-30T13:36:00.171Z"
   },
   {
    "duration": 10,
    "start_time": "2021-08-30T13:36:00.208Z"
   },
   {
    "duration": 75,
    "start_time": "2021-08-30T13:36:00.221Z"
   },
   {
    "duration": 751,
    "start_time": "2021-08-30T13:36:00.299Z"
   },
   {
    "duration": 14,
    "start_time": "2021-08-30T13:36:01.055Z"
   },
   {
    "duration": 58,
    "start_time": "2021-08-30T13:36:01.072Z"
   },
   {
    "duration": 77,
    "start_time": "2021-08-30T13:36:01.132Z"
   },
   {
    "duration": 3736,
    "start_time": "2021-08-30T13:36:01.211Z"
   },
   {
    "duration": 3614,
    "start_time": "2021-08-30T13:36:04.950Z"
   },
   {
    "duration": 7,
    "start_time": "2021-08-30T13:36:08.568Z"
   },
   {
    "duration": 50,
    "start_time": "2021-08-30T13:36:08.578Z"
   },
   {
    "duration": 80,
    "start_time": "2021-08-30T13:36:08.630Z"
   },
   {
    "duration": 3773,
    "start_time": "2021-08-30T13:36:08.712Z"
   },
   {
    "duration": 3622,
    "start_time": "2021-08-30T13:36:12.487Z"
   },
   {
    "duration": 7,
    "start_time": "2021-08-30T13:36:16.111Z"
   },
   {
    "duration": 69,
    "start_time": "2021-08-30T13:36:16.120Z"
   },
   {
    "duration": 42,
    "start_time": "2021-08-30T13:36:16.192Z"
   },
   {
    "duration": 3588,
    "start_time": "2021-08-30T13:36:16.236Z"
   },
   {
    "duration": 3772,
    "start_time": "2021-08-30T13:36:19.826Z"
   },
   {
    "duration": 32,
    "start_time": "2021-08-30T13:36:23.600Z"
   },
   {
    "duration": 35,
    "start_time": "2021-08-30T13:36:23.656Z"
   },
   {
    "duration": 30,
    "start_time": "2021-08-30T13:36:23.695Z"
   },
   {
    "duration": 35,
    "start_time": "2021-08-30T13:36:23.728Z"
   },
   {
    "duration": 46,
    "start_time": "2021-08-30T13:36:23.767Z"
   },
   {
    "duration": 72,
    "start_time": "2021-08-30T13:36:23.817Z"
   },
   {
    "duration": 19,
    "start_time": "2021-08-30T13:36:23.892Z"
   },
   {
    "duration": 51,
    "start_time": "2021-08-30T13:36:23.914Z"
   },
   {
    "duration": 28,
    "start_time": "2021-08-30T13:49:36.209Z"
   },
   {
    "duration": 2912,
    "start_time": "2021-08-30T13:49:41.268Z"
   },
   {
    "duration": 3286,
    "start_time": "2021-08-30T13:50:02.235Z"
   },
   {
    "duration": 1146,
    "start_time": "2021-08-30T14:56:35.104Z"
   },
   {
    "duration": 367,
    "start_time": "2021-08-30T14:58:36.007Z"
   },
   {
    "duration": 1113,
    "start_time": "2021-08-30T14:58:43.931Z"
   },
   {
    "duration": 78,
    "start_time": "2021-08-30T14:58:45.046Z"
   },
   {
    "duration": 174,
    "start_time": "2021-08-30T14:58:45.127Z"
   },
   {
    "duration": 104,
    "start_time": "2021-08-30T14:58:45.304Z"
   },
   {
    "duration": 201,
    "start_time": "2021-08-30T14:58:45.411Z"
   },
   {
    "duration": 72,
    "start_time": "2021-08-30T14:58:45.613Z"
   },
   {
    "duration": 245,
    "start_time": "2021-08-30T14:58:45.686Z"
   },
   {
    "duration": 108,
    "start_time": "2021-08-30T14:58:45.934Z"
   },
   {
    "duration": 100,
    "start_time": "2021-08-30T14:58:46.044Z"
   },
   {
    "duration": 31,
    "start_time": "2021-08-30T14:58:46.145Z"
   },
   {
    "duration": 51,
    "start_time": "2021-08-30T14:58:46.178Z"
   },
   {
    "duration": 59,
    "start_time": "2021-08-30T14:58:46.230Z"
   },
   {
    "duration": 17,
    "start_time": "2021-08-30T14:58:46.291Z"
   },
   {
    "duration": 47,
    "start_time": "2021-08-30T14:58:46.310Z"
   },
   {
    "duration": 34,
    "start_time": "2021-08-30T14:58:46.359Z"
   },
   {
    "duration": 9,
    "start_time": "2021-08-30T14:58:46.394Z"
   },
   {
    "duration": 46,
    "start_time": "2021-08-30T14:58:46.405Z"
   },
   {
    "duration": 698,
    "start_time": "2021-08-30T14:58:46.453Z"
   },
   {
    "duration": 864,
    "start_time": "2021-08-30T14:58:47.153Z"
   },
   {
    "duration": 665,
    "start_time": "2021-08-30T14:58:48.019Z"
   },
   {
    "duration": 41,
    "start_time": "2021-08-30T14:58:48.685Z"
   },
   {
    "duration": 7,
    "start_time": "2021-08-30T14:58:48.728Z"
   },
   {
    "duration": 9,
    "start_time": "2021-08-30T14:58:48.738Z"
   },
   {
    "duration": 30,
    "start_time": "2021-08-30T14:58:48.749Z"
   },
   {
    "duration": 8,
    "start_time": "2021-08-30T14:58:48.781Z"
   },
   {
    "duration": 15,
    "start_time": "2021-08-30T14:58:48.791Z"
   },
   {
    "duration": 8,
    "start_time": "2021-08-30T14:58:48.808Z"
   },
   {
    "duration": 34,
    "start_time": "2021-08-30T14:58:48.817Z"
   },
   {
    "duration": 405,
    "start_time": "2021-08-30T14:58:48.853Z"
   },
   {
    "duration": 5,
    "start_time": "2021-08-30T14:58:49.259Z"
   },
   {
    "duration": 32,
    "start_time": "2021-08-30T14:58:49.266Z"
   },
   {
    "duration": 25,
    "start_time": "2021-08-30T14:58:49.300Z"
   },
   {
    "duration": 2080,
    "start_time": "2021-08-30T14:58:49.326Z"
   },
   {
    "duration": 2099,
    "start_time": "2021-08-30T14:58:51.408Z"
   },
   {
    "duration": 1748,
    "start_time": "2021-08-30T14:58:53.508Z"
   },
   {
    "duration": 5,
    "start_time": "2021-08-30T14:58:55.258Z"
   },
   {
    "duration": 29,
    "start_time": "2021-08-30T14:58:55.276Z"
   },
   {
    "duration": 26,
    "start_time": "2021-08-30T14:58:55.307Z"
   },
   {
    "duration": 2137,
    "start_time": "2021-08-30T14:58:55.335Z"
   },
   {
    "duration": 2103,
    "start_time": "2021-08-30T14:58:57.477Z"
   },
   {
    "duration": 7,
    "start_time": "2021-08-30T14:58:59.582Z"
   },
   {
    "duration": 29,
    "start_time": "2021-08-30T14:58:59.591Z"
   },
   {
    "duration": 57,
    "start_time": "2021-08-30T14:58:59.621Z"
   },
   {
    "duration": 2228,
    "start_time": "2021-08-30T14:58:59.680Z"
   },
   {
    "duration": 2154,
    "start_time": "2021-08-30T14:59:01.911Z"
   },
   {
    "duration": 28,
    "start_time": "2021-08-30T14:59:04.066Z"
   },
   {
    "duration": 16,
    "start_time": "2021-08-30T14:59:04.096Z"
   },
   {
    "duration": 16,
    "start_time": "2021-08-30T14:59:04.113Z"
   },
   {
    "duration": 5,
    "start_time": "2021-08-30T14:59:04.131Z"
   },
   {
    "duration": 58,
    "start_time": "2021-08-30T14:59:04.138Z"
   },
   {
    "duration": 22,
    "start_time": "2021-08-30T14:59:04.197Z"
   },
   {
    "duration": 13,
    "start_time": "2021-08-30T14:59:04.221Z"
   },
   {
    "duration": 42,
    "start_time": "2021-08-30T14:59:04.236Z"
   },
   {
    "duration": 85,
    "start_time": "2021-08-30T14:59:12.702Z"
   },
   {
    "duration": 14,
    "start_time": "2021-08-30T14:59:47.634Z"
   },
   {
    "duration": 14,
    "start_time": "2021-08-30T14:59:49.102Z"
   },
   {
    "duration": 12,
    "start_time": "2021-08-30T15:00:14.435Z"
   },
   {
    "duration": 1332,
    "start_time": "2021-08-30T15:00:24.810Z"
   },
   {
    "duration": 65,
    "start_time": "2021-08-30T15:00:26.177Z"
   },
   {
    "duration": 178,
    "start_time": "2021-08-30T15:00:26.245Z"
   },
   {
    "duration": 105,
    "start_time": "2021-08-30T15:00:26.425Z"
   },
   {
    "duration": 155,
    "start_time": "2021-08-30T15:00:26.531Z"
   },
   {
    "duration": 24,
    "start_time": "2021-08-30T15:00:26.688Z"
   },
   {
    "duration": 147,
    "start_time": "2021-08-30T15:00:26.714Z"
   },
   {
    "duration": 78,
    "start_time": "2021-08-30T15:00:26.864Z"
   },
   {
    "duration": 12,
    "start_time": "2021-08-30T15:00:26.945Z"
   },
   {
    "duration": 37,
    "start_time": "2021-08-30T15:00:26.959Z"
   },
   {
    "duration": 57,
    "start_time": "2021-08-30T15:00:26.998Z"
   },
   {
    "duration": 69,
    "start_time": "2021-08-30T15:00:27.057Z"
   },
   {
    "duration": 18,
    "start_time": "2021-08-30T15:00:27.128Z"
   },
   {
    "duration": 85,
    "start_time": "2021-08-30T15:00:27.148Z"
   },
   {
    "duration": 18,
    "start_time": "2021-08-30T15:00:27.235Z"
   },
   {
    "duration": 22,
    "start_time": "2021-08-30T15:00:27.255Z"
   },
   {
    "duration": 51,
    "start_time": "2021-08-30T15:00:27.279Z"
   },
   {
    "duration": 684,
    "start_time": "2021-08-30T15:00:27.332Z"
   },
   {
    "duration": 836,
    "start_time": "2021-08-30T15:00:28.018Z"
   },
   {
    "duration": 637,
    "start_time": "2021-08-30T15:00:28.856Z"
   },
   {
    "duration": 42,
    "start_time": "2021-08-30T15:00:29.495Z"
   },
   {
    "duration": 7,
    "start_time": "2021-08-30T15:00:29.539Z"
   },
   {
    "duration": 31,
    "start_time": "2021-08-30T15:00:29.547Z"
   },
   {
    "duration": 7,
    "start_time": "2021-08-30T15:00:29.579Z"
   },
   {
    "duration": 10,
    "start_time": "2021-08-30T15:00:29.588Z"
   },
   {
    "duration": 18,
    "start_time": "2021-08-30T15:00:29.600Z"
   },
   {
    "duration": 7,
    "start_time": "2021-08-30T15:00:29.621Z"
   },
   {
    "duration": 54,
    "start_time": "2021-08-30T15:00:29.630Z"
   },
   {
    "duration": 410,
    "start_time": "2021-08-30T15:00:29.686Z"
   },
   {
    "duration": 6,
    "start_time": "2021-08-30T15:00:30.098Z"
   },
   {
    "duration": 39,
    "start_time": "2021-08-30T15:00:30.107Z"
   },
   {
    "duration": 43,
    "start_time": "2021-08-30T15:00:30.148Z"
   },
   {
    "duration": 2285,
    "start_time": "2021-08-30T15:00:30.193Z"
   },
   {
    "duration": 2055,
    "start_time": "2021-08-30T15:00:32.480Z"
   },
   {
    "duration": 1790,
    "start_time": "2021-08-30T15:00:34.536Z"
   },
   {
    "duration": 5,
    "start_time": "2021-08-30T15:00:36.328Z"
   },
   {
    "duration": 30,
    "start_time": "2021-08-30T15:00:36.334Z"
   },
   {
    "duration": 31,
    "start_time": "2021-08-30T15:00:36.377Z"
   },
   {
    "duration": 2075,
    "start_time": "2021-08-30T15:00:36.409Z"
   },
   {
    "duration": 1996,
    "start_time": "2021-08-30T15:00:38.485Z"
   },
   {
    "duration": 5,
    "start_time": "2021-08-30T15:00:40.483Z"
   },
   {
    "duration": 34,
    "start_time": "2021-08-30T15:00:40.489Z"
   },
   {
    "duration": 28,
    "start_time": "2021-08-30T15:00:40.525Z"
   },
   {
    "duration": 2197,
    "start_time": "2021-08-30T15:00:40.554Z"
   },
   {
    "duration": 2146,
    "start_time": "2021-08-30T15:00:42.753Z"
   },
   {
    "duration": 24,
    "start_time": "2021-08-30T15:00:44.901Z"
   },
   {
    "duration": 20,
    "start_time": "2021-08-30T15:00:44.927Z"
   },
   {
    "duration": 41,
    "start_time": "2021-08-30T15:00:44.949Z"
   },
   {
    "duration": 6,
    "start_time": "2021-08-30T15:00:44.992Z"
   },
   {
    "duration": 29,
    "start_time": "2021-08-30T15:00:44.999Z"
   },
   {
    "duration": 47,
    "start_time": "2021-08-30T15:00:45.030Z"
   },
   {
    "duration": 13,
    "start_time": "2021-08-30T15:00:45.079Z"
   },
   {
    "duration": 16,
    "start_time": "2021-08-30T15:00:45.094Z"
   },
   {
    "duration": 13,
    "start_time": "2021-08-30T15:00:45.112Z"
   },
   {
    "duration": 13,
    "start_time": "2021-08-30T15:00:56.991Z"
   },
   {
    "duration": 5,
    "start_time": "2021-08-30T15:01:03.403Z"
   }
  ],
  "kernelspec": {
   "display_name": "Python 3",
   "language": "python",
   "name": "python3"
  },
  "language_info": {
   "codemirror_mode": {
    "name": "ipython",
    "version": 3
   },
   "file_extension": ".py",
   "mimetype": "text/x-python",
   "name": "python",
   "nbconvert_exporter": "python",
   "pygments_lexer": "ipython3",
   "version": "3.7.8"
  },
  "toc": {
   "base_numbering": 1,
   "nav_menu": {},
   "number_sections": true,
   "sideBar": true,
   "skip_h1_title": true,
   "title_cell": "Table of Contents",
   "title_sidebar": "Contents",
   "toc_cell": false,
   "toc_position": {
    "height": "calc(100% - 180px)",
    "left": "10px",
    "top": "150px",
    "width": "289.6px"
   },
   "toc_section_display": true,
   "toc_window_display": true
  }
 },
 "nbformat": 4,
 "nbformat_minor": 2
}
