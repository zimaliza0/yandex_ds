{
 "cells": [
  {
   "cell_type": "markdown",
   "metadata": {},
   "source": [
    "# Восстановление золота из руды"
   ]
  },
  {
   "cell_type": "markdown",
   "metadata": {},
   "source": [
    "Подготовить прототип модели машинного обучения для «Цифры». Компания разрабатывает решения для эффективной работы промышленных предприятий.\n",
    "\n",
    "Модель должна предсказать коэффициент восстановления золота из золотосодержащей руды.\n",
    "\n",
    "Модель поможет оптимизировать производство, чтобы не запускать предприятие с убыточными характеристиками.\n",
    "\n",
    "Задачи:\n",
    "\n",
    "1. Подготовить данные;\n",
    "2. Провести исследовательский анализ данных;\n",
    "3. Построить и обучить модель."
   ]
  },
  {
   "cell_type": "markdown",
   "metadata": {},
   "source": [
    "## Подготовка данных"
   ]
  },
  {
   "cell_type": "markdown",
   "metadata": {},
   "source": [
    "Импортируем библиотеки"
   ]
  },
  {
   "cell_type": "code",
   "execution_count": 1,
   "metadata": {},
   "outputs": [],
   "source": [
    "import pandas as pd\n",
    "import numpy as np\n",
    "from numpy.random import RandomState\n",
    "\n",
    "import matplotlib.pyplot as plt\n",
    "import seaborn as sns\n",
    "\n",
    "from sklearn.metrics import mean_absolute_error, make_scorer\n",
    "from sklearn.preprocessing import StandardScaler\n",
    "from sklearn.model_selection import GridSearchCV\n",
    "\n",
    "from sklearn.ensemble import RandomForestRegressor\n",
    "from sklearn.linear_model import LinearRegression\n",
    "from sklearn.tree import DecisionTreeRegressor\n",
    "from sklearn.dummy import DummyRegressor\n",
    "\n",
    "from scipy import stats as st"
   ]
  },
  {
   "cell_type": "markdown",
   "metadata": {},
   "source": [
    "Загрузим данные в переменные и посмотрим на размер датасетов"
   ]
  },
  {
   "cell_type": "code",
   "execution_count": 2,
   "metadata": {},
   "outputs": [
    {
     "name": "stdout",
     "output_type": "stream",
     "text": [
      "(19439, 87) (14149, 87) (5290, 53)\n"
     ]
    }
   ],
   "source": [
    "try:\n",
    "    gold_train = pd.read_csv('gold_recovery_train_new.csv')\n",
    "    gold_test = pd.read_csv('gold_recovery_test_new.csv')\n",
    "    gold_full = pd.read_csv('gold_recovery_full_new.csv')\n",
    "    print(gold_full.shape, gold_train.shape, gold_test.shape)\n",
    "except:\n",
    "    gold_train = pd.read_csv('/datasets/gold_recovery_train_new.csv')\n",
    "    gold_test = pd.read_csv('/datasets/gold_recovery_test_new.csv')\n",
    "    gold_full = pd.read_csv('/datasets/gold_recovery_full_new.csv')\n",
    "    print(gold_full.shape, gold_train.shape, gold_test.shape)"
   ]
  },
  {
   "cell_type": "markdown",
   "metadata": {},
   "source": [
    "Посмотрим какие данные мы имеем"
   ]
  },
  {
   "cell_type": "code",
   "execution_count": 3,
   "metadata": {},
   "outputs": [
    {
     "name": "stdout",
     "output_type": "stream",
     "text": [
      "<class 'pandas.core.frame.DataFrame'>\n",
      "RangeIndex: 19439 entries, 0 to 19438\n",
      "Data columns (total 87 columns):\n",
      "date                                                  19439 non-null object\n",
      "final.output.concentrate_ag                           19438 non-null float64\n",
      "final.output.concentrate_pb                           19438 non-null float64\n",
      "final.output.concentrate_sol                          19228 non-null float64\n",
      "final.output.concentrate_au                           19439 non-null float64\n",
      "final.output.recovery                                 19439 non-null float64\n",
      "final.output.tail_ag                                  19438 non-null float64\n",
      "final.output.tail_pb                                  19338 non-null float64\n",
      "final.output.tail_sol                                 19433 non-null float64\n",
      "final.output.tail_au                                  19439 non-null float64\n",
      "primary_cleaner.input.sulfate                         19415 non-null float64\n",
      "primary_cleaner.input.depressant                      19402 non-null float64\n",
      "primary_cleaner.input.feed_size                       19439 non-null float64\n",
      "primary_cleaner.input.xanthate                        19335 non-null float64\n",
      "primary_cleaner.output.concentrate_ag                 19439 non-null float64\n",
      "primary_cleaner.output.concentrate_pb                 19323 non-null float64\n",
      "primary_cleaner.output.concentrate_sol                19069 non-null float64\n",
      "primary_cleaner.output.concentrate_au                 19439 non-null float64\n",
      "primary_cleaner.output.tail_ag                        19435 non-null float64\n",
      "primary_cleaner.output.tail_pb                        19418 non-null float64\n",
      "primary_cleaner.output.tail_sol                       19377 non-null float64\n",
      "primary_cleaner.output.tail_au                        19439 non-null float64\n",
      "primary_cleaner.state.floatbank8_a_air                19435 non-null float64\n",
      "primary_cleaner.state.floatbank8_a_level              19438 non-null float64\n",
      "primary_cleaner.state.floatbank8_b_air                19435 non-null float64\n",
      "primary_cleaner.state.floatbank8_b_level              19438 non-null float64\n",
      "primary_cleaner.state.floatbank8_c_air                19437 non-null float64\n",
      "primary_cleaner.state.floatbank8_c_level              19438 non-null float64\n",
      "primary_cleaner.state.floatbank8_d_air                19436 non-null float64\n",
      "primary_cleaner.state.floatbank8_d_level              19438 non-null float64\n",
      "rougher.calculation.sulfate_to_au_concentrate         19437 non-null float64\n",
      "rougher.calculation.floatbank10_sulfate_to_au_feed    19437 non-null float64\n",
      "rougher.calculation.floatbank11_sulfate_to_au_feed    19437 non-null float64\n",
      "rougher.calculation.au_pb_ratio                       19439 non-null float64\n",
      "rougher.input.feed_ag                                 19439 non-null float64\n",
      "rougher.input.feed_pb                                 19339 non-null float64\n",
      "rougher.input.feed_rate                               19428 non-null float64\n",
      "rougher.input.feed_size                               19294 non-null float64\n",
      "rougher.input.feed_sol                                19340 non-null float64\n",
      "rougher.input.feed_au                                 19439 non-null float64\n",
      "rougher.input.floatbank10_sulfate                     19405 non-null float64\n",
      "rougher.input.floatbank10_xanthate                    19431 non-null float64\n",
      "rougher.input.floatbank11_sulfate                     19395 non-null float64\n",
      "rougher.input.floatbank11_xanthate                    18986 non-null float64\n",
      "rougher.output.concentrate_ag                         19439 non-null float64\n",
      "rougher.output.concentrate_pb                         19439 non-null float64\n",
      "rougher.output.concentrate_sol                        19416 non-null float64\n",
      "rougher.output.concentrate_au                         19439 non-null float64\n",
      "rougher.output.recovery                               19439 non-null float64\n",
      "rougher.output.tail_ag                                19438 non-null float64\n",
      "rougher.output.tail_pb                                19439 non-null float64\n",
      "rougher.output.tail_sol                               19439 non-null float64\n",
      "rougher.output.tail_au                                19439 non-null float64\n",
      "rougher.state.floatbank10_a_air                       19438 non-null float64\n",
      "rougher.state.floatbank10_a_level                     19438 non-null float64\n",
      "rougher.state.floatbank10_b_air                       19438 non-null float64\n",
      "rougher.state.floatbank10_b_level                     19438 non-null float64\n",
      "rougher.state.floatbank10_c_air                       19438 non-null float64\n",
      "rougher.state.floatbank10_c_level                     19438 non-null float64\n",
      "rougher.state.floatbank10_d_air                       19439 non-null float64\n",
      "rougher.state.floatbank10_d_level                     19439 non-null float64\n",
      "rougher.state.floatbank10_e_air                       19003 non-null float64\n",
      "rougher.state.floatbank10_e_level                     19439 non-null float64\n",
      "rougher.state.floatbank10_f_air                       19439 non-null float64\n",
      "rougher.state.floatbank10_f_level                     19439 non-null float64\n",
      "secondary_cleaner.output.tail_ag                      19437 non-null float64\n",
      "secondary_cleaner.output.tail_pb                      19427 non-null float64\n",
      "secondary_cleaner.output.tail_sol                     17691 non-null float64\n",
      "secondary_cleaner.output.tail_au                      19439 non-null float64\n",
      "secondary_cleaner.state.floatbank2_a_air              19219 non-null float64\n",
      "secondary_cleaner.state.floatbank2_a_level            19438 non-null float64\n",
      "secondary_cleaner.state.floatbank2_b_air              19416 non-null float64\n",
      "secondary_cleaner.state.floatbank2_b_level            19438 non-null float64\n",
      "secondary_cleaner.state.floatbank3_a_air              19426 non-null float64\n",
      "secondary_cleaner.state.floatbank3_a_level            19438 non-null float64\n",
      "secondary_cleaner.state.floatbank3_b_air              19438 non-null float64\n",
      "secondary_cleaner.state.floatbank3_b_level            19438 non-null float64\n",
      "secondary_cleaner.state.floatbank4_a_air              19433 non-null float64\n",
      "secondary_cleaner.state.floatbank4_a_level            19438 non-null float64\n",
      "secondary_cleaner.state.floatbank4_b_air              19438 non-null float64\n",
      "secondary_cleaner.state.floatbank4_b_level            19438 non-null float64\n",
      "secondary_cleaner.state.floatbank5_a_air              19438 non-null float64\n",
      "secondary_cleaner.state.floatbank5_a_level            19438 non-null float64\n",
      "secondary_cleaner.state.floatbank5_b_air              19438 non-null float64\n",
      "secondary_cleaner.state.floatbank5_b_level            19438 non-null float64\n",
      "secondary_cleaner.state.floatbank6_a_air              19437 non-null float64\n",
      "secondary_cleaner.state.floatbank6_a_level            19438 non-null float64\n",
      "dtypes: float64(86), object(1)\n",
      "memory usage: 12.9+ MB\n"
     ]
    },
    {
     "data": {
      "text/html": [
       "<div>\n",
       "<style scoped>\n",
       "    .dataframe tbody tr th:only-of-type {\n",
       "        vertical-align: middle;\n",
       "    }\n",
       "\n",
       "    .dataframe tbody tr th {\n",
       "        vertical-align: top;\n",
       "    }\n",
       "\n",
       "    .dataframe thead th {\n",
       "        text-align: right;\n",
       "    }\n",
       "</style>\n",
       "<table border=\"1\" class=\"dataframe\">\n",
       "  <thead>\n",
       "    <tr style=\"text-align: right;\">\n",
       "      <th></th>\n",
       "      <th>date</th>\n",
       "      <th>final.output.concentrate_ag</th>\n",
       "      <th>final.output.concentrate_pb</th>\n",
       "      <th>final.output.concentrate_sol</th>\n",
       "      <th>final.output.concentrate_au</th>\n",
       "      <th>final.output.recovery</th>\n",
       "      <th>final.output.tail_ag</th>\n",
       "      <th>final.output.tail_pb</th>\n",
       "      <th>final.output.tail_sol</th>\n",
       "      <th>final.output.tail_au</th>\n",
       "      <th>...</th>\n",
       "      <th>secondary_cleaner.state.floatbank4_a_air</th>\n",
       "      <th>secondary_cleaner.state.floatbank4_a_level</th>\n",
       "      <th>secondary_cleaner.state.floatbank4_b_air</th>\n",
       "      <th>secondary_cleaner.state.floatbank4_b_level</th>\n",
       "      <th>secondary_cleaner.state.floatbank5_a_air</th>\n",
       "      <th>secondary_cleaner.state.floatbank5_a_level</th>\n",
       "      <th>secondary_cleaner.state.floatbank5_b_air</th>\n",
       "      <th>secondary_cleaner.state.floatbank5_b_level</th>\n",
       "      <th>secondary_cleaner.state.floatbank6_a_air</th>\n",
       "      <th>secondary_cleaner.state.floatbank6_a_level</th>\n",
       "    </tr>\n",
       "  </thead>\n",
       "  <tbody>\n",
       "    <tr>\n",
       "      <td>0</td>\n",
       "      <td>2016-01-15 00:00:00</td>\n",
       "      <td>6.055403</td>\n",
       "      <td>9.889648</td>\n",
       "      <td>5.507324</td>\n",
       "      <td>42.192020</td>\n",
       "      <td>70.541216</td>\n",
       "      <td>10.411962</td>\n",
       "      <td>0.895447</td>\n",
       "      <td>16.904297</td>\n",
       "      <td>2.143149</td>\n",
       "      <td>...</td>\n",
       "      <td>14.016835</td>\n",
       "      <td>-502.488007</td>\n",
       "      <td>12.099931</td>\n",
       "      <td>-504.715942</td>\n",
       "      <td>9.925633</td>\n",
       "      <td>-498.310211</td>\n",
       "      <td>8.079666</td>\n",
       "      <td>-500.470978</td>\n",
       "      <td>14.151341</td>\n",
       "      <td>-605.841980</td>\n",
       "    </tr>\n",
       "    <tr>\n",
       "      <td>1</td>\n",
       "      <td>2016-01-15 01:00:00</td>\n",
       "      <td>6.029369</td>\n",
       "      <td>9.968944</td>\n",
       "      <td>5.257781</td>\n",
       "      <td>42.701629</td>\n",
       "      <td>69.266198</td>\n",
       "      <td>10.462676</td>\n",
       "      <td>0.927452</td>\n",
       "      <td>16.634514</td>\n",
       "      <td>2.224930</td>\n",
       "      <td>...</td>\n",
       "      <td>13.992281</td>\n",
       "      <td>-505.503262</td>\n",
       "      <td>11.950531</td>\n",
       "      <td>-501.331529</td>\n",
       "      <td>10.039245</td>\n",
       "      <td>-500.169983</td>\n",
       "      <td>7.984757</td>\n",
       "      <td>-500.582168</td>\n",
       "      <td>13.998353</td>\n",
       "      <td>-599.787184</td>\n",
       "    </tr>\n",
       "    <tr>\n",
       "      <td>2</td>\n",
       "      <td>2016-01-15 02:00:00</td>\n",
       "      <td>6.055926</td>\n",
       "      <td>10.213995</td>\n",
       "      <td>5.383759</td>\n",
       "      <td>42.657501</td>\n",
       "      <td>68.116445</td>\n",
       "      <td>10.507046</td>\n",
       "      <td>0.953716</td>\n",
       "      <td>16.208849</td>\n",
       "      <td>2.257889</td>\n",
       "      <td>...</td>\n",
       "      <td>14.015015</td>\n",
       "      <td>-502.520901</td>\n",
       "      <td>11.912783</td>\n",
       "      <td>-501.133383</td>\n",
       "      <td>10.070913</td>\n",
       "      <td>-500.129135</td>\n",
       "      <td>8.013877</td>\n",
       "      <td>-500.517572</td>\n",
       "      <td>14.028663</td>\n",
       "      <td>-601.427363</td>\n",
       "    </tr>\n",
       "    <tr>\n",
       "      <td>3</td>\n",
       "      <td>2016-01-15 03:00:00</td>\n",
       "      <td>6.047977</td>\n",
       "      <td>9.977019</td>\n",
       "      <td>4.858634</td>\n",
       "      <td>42.689819</td>\n",
       "      <td>68.347543</td>\n",
       "      <td>10.422762</td>\n",
       "      <td>0.883763</td>\n",
       "      <td>16.532835</td>\n",
       "      <td>2.146849</td>\n",
       "      <td>...</td>\n",
       "      <td>14.036510</td>\n",
       "      <td>-500.857308</td>\n",
       "      <td>11.999550</td>\n",
       "      <td>-501.193686</td>\n",
       "      <td>9.970366</td>\n",
       "      <td>-499.201640</td>\n",
       "      <td>7.977324</td>\n",
       "      <td>-500.255908</td>\n",
       "      <td>14.005551</td>\n",
       "      <td>-599.996129</td>\n",
       "    </tr>\n",
       "    <tr>\n",
       "      <td>4</td>\n",
       "      <td>2016-01-15 04:00:00</td>\n",
       "      <td>6.148599</td>\n",
       "      <td>10.142511</td>\n",
       "      <td>4.939416</td>\n",
       "      <td>42.774141</td>\n",
       "      <td>66.927016</td>\n",
       "      <td>10.360302</td>\n",
       "      <td>0.792826</td>\n",
       "      <td>16.525686</td>\n",
       "      <td>2.055292</td>\n",
       "      <td>...</td>\n",
       "      <td>14.027298</td>\n",
       "      <td>-499.838632</td>\n",
       "      <td>11.953070</td>\n",
       "      <td>-501.053894</td>\n",
       "      <td>9.925709</td>\n",
       "      <td>-501.686727</td>\n",
       "      <td>7.894242</td>\n",
       "      <td>-500.356035</td>\n",
       "      <td>13.996647</td>\n",
       "      <td>-601.496691</td>\n",
       "    </tr>\n",
       "    <tr>\n",
       "      <td>...</td>\n",
       "      <td>...</td>\n",
       "      <td>...</td>\n",
       "      <td>...</td>\n",
       "      <td>...</td>\n",
       "      <td>...</td>\n",
       "      <td>...</td>\n",
       "      <td>...</td>\n",
       "      <td>...</td>\n",
       "      <td>...</td>\n",
       "      <td>...</td>\n",
       "      <td>...</td>\n",
       "      <td>...</td>\n",
       "      <td>...</td>\n",
       "      <td>...</td>\n",
       "      <td>...</td>\n",
       "      <td>...</td>\n",
       "      <td>...</td>\n",
       "      <td>...</td>\n",
       "      <td>...</td>\n",
       "      <td>...</td>\n",
       "      <td>...</td>\n",
       "    </tr>\n",
       "    <tr>\n",
       "      <td>19434</td>\n",
       "      <td>2018-08-18 06:59:59</td>\n",
       "      <td>3.224920</td>\n",
       "      <td>11.356233</td>\n",
       "      <td>6.803482</td>\n",
       "      <td>46.713954</td>\n",
       "      <td>73.755150</td>\n",
       "      <td>8.769645</td>\n",
       "      <td>3.141541</td>\n",
       "      <td>10.403181</td>\n",
       "      <td>1.529220</td>\n",
       "      <td>...</td>\n",
       "      <td>23.031497</td>\n",
       "      <td>-501.167942</td>\n",
       "      <td>20.007571</td>\n",
       "      <td>-499.740028</td>\n",
       "      <td>18.006038</td>\n",
       "      <td>-499.834374</td>\n",
       "      <td>13.001114</td>\n",
       "      <td>-500.155694</td>\n",
       "      <td>20.007840</td>\n",
       "      <td>-501.296428</td>\n",
       "    </tr>\n",
       "    <tr>\n",
       "      <td>19435</td>\n",
       "      <td>2018-08-18 07:59:59</td>\n",
       "      <td>3.195978</td>\n",
       "      <td>11.349355</td>\n",
       "      <td>6.862249</td>\n",
       "      <td>46.866780</td>\n",
       "      <td>69.049291</td>\n",
       "      <td>8.897321</td>\n",
       "      <td>3.130493</td>\n",
       "      <td>10.549470</td>\n",
       "      <td>1.612542</td>\n",
       "      <td>...</td>\n",
       "      <td>22.960095</td>\n",
       "      <td>-501.612783</td>\n",
       "      <td>20.035660</td>\n",
       "      <td>-500.251357</td>\n",
       "      <td>17.998535</td>\n",
       "      <td>-500.395178</td>\n",
       "      <td>12.954048</td>\n",
       "      <td>-499.895163</td>\n",
       "      <td>19.968498</td>\n",
       "      <td>-501.041608</td>\n",
       "    </tr>\n",
       "    <tr>\n",
       "      <td>19436</td>\n",
       "      <td>2018-08-18 08:59:59</td>\n",
       "      <td>3.109998</td>\n",
       "      <td>11.434366</td>\n",
       "      <td>6.886013</td>\n",
       "      <td>46.795691</td>\n",
       "      <td>67.002189</td>\n",
       "      <td>8.529606</td>\n",
       "      <td>2.911418</td>\n",
       "      <td>11.115147</td>\n",
       "      <td>1.596616</td>\n",
       "      <td>...</td>\n",
       "      <td>23.015718</td>\n",
       "      <td>-501.711599</td>\n",
       "      <td>19.951231</td>\n",
       "      <td>-499.857027</td>\n",
       "      <td>18.019543</td>\n",
       "      <td>-500.451156</td>\n",
       "      <td>13.023431</td>\n",
       "      <td>-499.914391</td>\n",
       "      <td>19.990885</td>\n",
       "      <td>-501.518452</td>\n",
       "    </tr>\n",
       "    <tr>\n",
       "      <td>19437</td>\n",
       "      <td>2018-08-18 09:59:59</td>\n",
       "      <td>3.367241</td>\n",
       "      <td>11.625587</td>\n",
       "      <td>6.799433</td>\n",
       "      <td>46.408188</td>\n",
       "      <td>65.523246</td>\n",
       "      <td>8.777171</td>\n",
       "      <td>2.819214</td>\n",
       "      <td>10.463847</td>\n",
       "      <td>1.602879</td>\n",
       "      <td>...</td>\n",
       "      <td>23.024963</td>\n",
       "      <td>-501.153409</td>\n",
       "      <td>20.054122</td>\n",
       "      <td>-500.314711</td>\n",
       "      <td>17.979515</td>\n",
       "      <td>-499.272871</td>\n",
       "      <td>12.992404</td>\n",
       "      <td>-499.976268</td>\n",
       "      <td>20.013986</td>\n",
       "      <td>-500.625471</td>\n",
       "    </tr>\n",
       "    <tr>\n",
       "      <td>19438</td>\n",
       "      <td>2018-08-18 10:59:59</td>\n",
       "      <td>3.598375</td>\n",
       "      <td>11.737832</td>\n",
       "      <td>6.717509</td>\n",
       "      <td>46.299438</td>\n",
       "      <td>70.281454</td>\n",
       "      <td>8.406690</td>\n",
       "      <td>2.517518</td>\n",
       "      <td>10.652193</td>\n",
       "      <td>1.389434</td>\n",
       "      <td>...</td>\n",
       "      <td>23.018622</td>\n",
       "      <td>-500.492702</td>\n",
       "      <td>20.020205</td>\n",
       "      <td>-500.220296</td>\n",
       "      <td>17.963512</td>\n",
       "      <td>-499.939490</td>\n",
       "      <td>12.990306</td>\n",
       "      <td>-500.080993</td>\n",
       "      <td>19.990336</td>\n",
       "      <td>-499.191575</td>\n",
       "    </tr>\n",
       "  </tbody>\n",
       "</table>\n",
       "<p>19439 rows × 87 columns</p>\n",
       "</div>"
      ],
      "text/plain": [
       "                      date  final.output.concentrate_ag  \\\n",
       "0      2016-01-15 00:00:00                     6.055403   \n",
       "1      2016-01-15 01:00:00                     6.029369   \n",
       "2      2016-01-15 02:00:00                     6.055926   \n",
       "3      2016-01-15 03:00:00                     6.047977   \n",
       "4      2016-01-15 04:00:00                     6.148599   \n",
       "...                    ...                          ...   \n",
       "19434  2018-08-18 06:59:59                     3.224920   \n",
       "19435  2018-08-18 07:59:59                     3.195978   \n",
       "19436  2018-08-18 08:59:59                     3.109998   \n",
       "19437  2018-08-18 09:59:59                     3.367241   \n",
       "19438  2018-08-18 10:59:59                     3.598375   \n",
       "\n",
       "       final.output.concentrate_pb  final.output.concentrate_sol  \\\n",
       "0                         9.889648                      5.507324   \n",
       "1                         9.968944                      5.257781   \n",
       "2                        10.213995                      5.383759   \n",
       "3                         9.977019                      4.858634   \n",
       "4                        10.142511                      4.939416   \n",
       "...                            ...                           ...   \n",
       "19434                    11.356233                      6.803482   \n",
       "19435                    11.349355                      6.862249   \n",
       "19436                    11.434366                      6.886013   \n",
       "19437                    11.625587                      6.799433   \n",
       "19438                    11.737832                      6.717509   \n",
       "\n",
       "       final.output.concentrate_au  final.output.recovery  \\\n",
       "0                        42.192020              70.541216   \n",
       "1                        42.701629              69.266198   \n",
       "2                        42.657501              68.116445   \n",
       "3                        42.689819              68.347543   \n",
       "4                        42.774141              66.927016   \n",
       "...                            ...                    ...   \n",
       "19434                    46.713954              73.755150   \n",
       "19435                    46.866780              69.049291   \n",
       "19436                    46.795691              67.002189   \n",
       "19437                    46.408188              65.523246   \n",
       "19438                    46.299438              70.281454   \n",
       "\n",
       "       final.output.tail_ag  final.output.tail_pb  final.output.tail_sol  \\\n",
       "0                 10.411962              0.895447              16.904297   \n",
       "1                 10.462676              0.927452              16.634514   \n",
       "2                 10.507046              0.953716              16.208849   \n",
       "3                 10.422762              0.883763              16.532835   \n",
       "4                 10.360302              0.792826              16.525686   \n",
       "...                     ...                   ...                    ...   \n",
       "19434              8.769645              3.141541              10.403181   \n",
       "19435              8.897321              3.130493              10.549470   \n",
       "19436              8.529606              2.911418              11.115147   \n",
       "19437              8.777171              2.819214              10.463847   \n",
       "19438              8.406690              2.517518              10.652193   \n",
       "\n",
       "       final.output.tail_au  ...  secondary_cleaner.state.floatbank4_a_air  \\\n",
       "0                  2.143149  ...                                 14.016835   \n",
       "1                  2.224930  ...                                 13.992281   \n",
       "2                  2.257889  ...                                 14.015015   \n",
       "3                  2.146849  ...                                 14.036510   \n",
       "4                  2.055292  ...                                 14.027298   \n",
       "...                     ...  ...                                       ...   \n",
       "19434              1.529220  ...                                 23.031497   \n",
       "19435              1.612542  ...                                 22.960095   \n",
       "19436              1.596616  ...                                 23.015718   \n",
       "19437              1.602879  ...                                 23.024963   \n",
       "19438              1.389434  ...                                 23.018622   \n",
       "\n",
       "       secondary_cleaner.state.floatbank4_a_level  \\\n",
       "0                                     -502.488007   \n",
       "1                                     -505.503262   \n",
       "2                                     -502.520901   \n",
       "3                                     -500.857308   \n",
       "4                                     -499.838632   \n",
       "...                                           ...   \n",
       "19434                                 -501.167942   \n",
       "19435                                 -501.612783   \n",
       "19436                                 -501.711599   \n",
       "19437                                 -501.153409   \n",
       "19438                                 -500.492702   \n",
       "\n",
       "       secondary_cleaner.state.floatbank4_b_air  \\\n",
       "0                                     12.099931   \n",
       "1                                     11.950531   \n",
       "2                                     11.912783   \n",
       "3                                     11.999550   \n",
       "4                                     11.953070   \n",
       "...                                         ...   \n",
       "19434                                 20.007571   \n",
       "19435                                 20.035660   \n",
       "19436                                 19.951231   \n",
       "19437                                 20.054122   \n",
       "19438                                 20.020205   \n",
       "\n",
       "       secondary_cleaner.state.floatbank4_b_level  \\\n",
       "0                                     -504.715942   \n",
       "1                                     -501.331529   \n",
       "2                                     -501.133383   \n",
       "3                                     -501.193686   \n",
       "4                                     -501.053894   \n",
       "...                                           ...   \n",
       "19434                                 -499.740028   \n",
       "19435                                 -500.251357   \n",
       "19436                                 -499.857027   \n",
       "19437                                 -500.314711   \n",
       "19438                                 -500.220296   \n",
       "\n",
       "       secondary_cleaner.state.floatbank5_a_air  \\\n",
       "0                                      9.925633   \n",
       "1                                     10.039245   \n",
       "2                                     10.070913   \n",
       "3                                      9.970366   \n",
       "4                                      9.925709   \n",
       "...                                         ...   \n",
       "19434                                 18.006038   \n",
       "19435                                 17.998535   \n",
       "19436                                 18.019543   \n",
       "19437                                 17.979515   \n",
       "19438                                 17.963512   \n",
       "\n",
       "       secondary_cleaner.state.floatbank5_a_level  \\\n",
       "0                                     -498.310211   \n",
       "1                                     -500.169983   \n",
       "2                                     -500.129135   \n",
       "3                                     -499.201640   \n",
       "4                                     -501.686727   \n",
       "...                                           ...   \n",
       "19434                                 -499.834374   \n",
       "19435                                 -500.395178   \n",
       "19436                                 -500.451156   \n",
       "19437                                 -499.272871   \n",
       "19438                                 -499.939490   \n",
       "\n",
       "       secondary_cleaner.state.floatbank5_b_air  \\\n",
       "0                                      8.079666   \n",
       "1                                      7.984757   \n",
       "2                                      8.013877   \n",
       "3                                      7.977324   \n",
       "4                                      7.894242   \n",
       "...                                         ...   \n",
       "19434                                 13.001114   \n",
       "19435                                 12.954048   \n",
       "19436                                 13.023431   \n",
       "19437                                 12.992404   \n",
       "19438                                 12.990306   \n",
       "\n",
       "       secondary_cleaner.state.floatbank5_b_level  \\\n",
       "0                                     -500.470978   \n",
       "1                                     -500.582168   \n",
       "2                                     -500.517572   \n",
       "3                                     -500.255908   \n",
       "4                                     -500.356035   \n",
       "...                                           ...   \n",
       "19434                                 -500.155694   \n",
       "19435                                 -499.895163   \n",
       "19436                                 -499.914391   \n",
       "19437                                 -499.976268   \n",
       "19438                                 -500.080993   \n",
       "\n",
       "       secondary_cleaner.state.floatbank6_a_air  \\\n",
       "0                                     14.151341   \n",
       "1                                     13.998353   \n",
       "2                                     14.028663   \n",
       "3                                     14.005551   \n",
       "4                                     13.996647   \n",
       "...                                         ...   \n",
       "19434                                 20.007840   \n",
       "19435                                 19.968498   \n",
       "19436                                 19.990885   \n",
       "19437                                 20.013986   \n",
       "19438                                 19.990336   \n",
       "\n",
       "       secondary_cleaner.state.floatbank6_a_level  \n",
       "0                                     -605.841980  \n",
       "1                                     -599.787184  \n",
       "2                                     -601.427363  \n",
       "3                                     -599.996129  \n",
       "4                                     -601.496691  \n",
       "...                                           ...  \n",
       "19434                                 -501.296428  \n",
       "19435                                 -501.041608  \n",
       "19436                                 -501.518452  \n",
       "19437                                 -500.625471  \n",
       "19438                                 -499.191575  \n",
       "\n",
       "[19439 rows x 87 columns]"
      ]
     },
     "execution_count": 3,
     "metadata": {},
     "output_type": "execute_result"
    }
   ],
   "source": [
    "gold_full.info()\n",
    "gold_full"
   ]
  },
  {
   "cell_type": "markdown",
   "metadata": {},
   "source": [
    "Посмотрим правильно ли рассчитана метрика recovery\n",
    "\n",
    "Напишем функцию расчета эффективности обогащения "
   ]
  },
  {
   "cell_type": "code",
   "execution_count": 4,
   "metadata": {},
   "outputs": [],
   "source": [
    "def recovery(row):\n",
    "    c = row['rougher.output.concentrate_au']\n",
    "    f = row['rougher.input.feed_au']\n",
    "    t = row['rougher.output.tail_au']\n",
    "\n",
    "    try:\n",
    "        recovery = (c * (f - t)) / (f * (c - t)) * 100\n",
    "        if not 0 <= recovery <= 100:\n",
    "            recovery = None\n",
    "    except:\n",
    "        recovery = None\n",
    "\n",
    "    return recovery"
   ]
  },
  {
   "cell_type": "code",
   "execution_count": 5,
   "metadata": {},
   "outputs": [
    {
     "name": "stdout",
     "output_type": "stream",
     "text": [
      "MAE: 9.682896147825551e-15\n"
     ]
    }
   ],
   "source": [
    "calculated = gold_train.apply(recovery, axis=1).dropna()\n",
    "existing = gold_train['rougher.output.recovery'].dropna()\n",
    "\n",
    "mae = mean_absolute_error(calculated, existing)\n",
    "print(f'MAE: {mae}')"
   ]
  },
  {
   "cell_type": "markdown",
   "metadata": {},
   "source": [
    "Мы видим MAE близкое к нулю, а значит показатель рассчитан верно \n",
    "\n",
    "Приведем дату к нужному формату и сделаем индексацию в выборках по ее признаку"
   ]
  },
  {
   "cell_type": "code",
   "execution_count": 6,
   "metadata": {},
   "outputs": [],
   "source": [
    "for i in (gold_train, gold_test, gold_full):\n",
    "    i.index = pd.DatetimeIndex(i['date'])\n",
    "    i = i.drop(['date'], axis=1, inplace=True)"
   ]
  },
  {
   "cell_type": "markdown",
   "metadata": {},
   "source": [
    "\n",
    "Изучим недостающие данные в тестовом датасете"
   ]
  },
  {
   "cell_type": "code",
   "execution_count": 7,
   "metadata": {},
   "outputs": [
    {
     "data": {
      "text/plain": [
       "{'final.output.concentrate_ag',\n",
       " 'final.output.concentrate_au',\n",
       " 'final.output.concentrate_pb',\n",
       " 'final.output.concentrate_sol',\n",
       " 'final.output.recovery',\n",
       " 'final.output.tail_ag',\n",
       " 'final.output.tail_au',\n",
       " 'final.output.tail_pb',\n",
       " 'final.output.tail_sol',\n",
       " 'primary_cleaner.output.concentrate_ag',\n",
       " 'primary_cleaner.output.concentrate_au',\n",
       " 'primary_cleaner.output.concentrate_pb',\n",
       " 'primary_cleaner.output.concentrate_sol',\n",
       " 'primary_cleaner.output.tail_ag',\n",
       " 'primary_cleaner.output.tail_au',\n",
       " 'primary_cleaner.output.tail_pb',\n",
       " 'primary_cleaner.output.tail_sol',\n",
       " 'rougher.calculation.au_pb_ratio',\n",
       " 'rougher.calculation.floatbank10_sulfate_to_au_feed',\n",
       " 'rougher.calculation.floatbank11_sulfate_to_au_feed',\n",
       " 'rougher.calculation.sulfate_to_au_concentrate',\n",
       " 'rougher.output.concentrate_ag',\n",
       " 'rougher.output.concentrate_au',\n",
       " 'rougher.output.concentrate_pb',\n",
       " 'rougher.output.concentrate_sol',\n",
       " 'rougher.output.recovery',\n",
       " 'rougher.output.tail_ag',\n",
       " 'rougher.output.tail_au',\n",
       " 'rougher.output.tail_pb',\n",
       " 'rougher.output.tail_sol',\n",
       " 'secondary_cleaner.output.tail_ag',\n",
       " 'secondary_cleaner.output.tail_au',\n",
       " 'secondary_cleaner.output.tail_pb',\n",
       " 'secondary_cleaner.output.tail_sol'}"
      ]
     },
     "execution_count": 7,
     "metadata": {},
     "output_type": "execute_result"
    }
   ],
   "source": [
    "set(gold_train.columns) - set(gold_test.columns)"
   ]
  },
  {
   "cell_type": "markdown",
   "metadata": {},
   "source": [
    "Мы видим что пропущенные данные это параметры продукта и расчетные характеристики которые появляются в ходе процесса обогащения и не доступны на начальном этапе\n",
    "\n",
    "Добавим в тестовую выборку таргеты"
   ]
  },
  {
   "cell_type": "code",
   "execution_count": 8,
   "metadata": {},
   "outputs": [
    {
     "data": {
      "text/plain": [
       "((5290, 54), (14149, 54))"
      ]
     },
     "execution_count": 8,
     "metadata": {},
     "output_type": "execute_result"
    }
   ],
   "source": [
    "gold_test = gold_test.join(gold_full[['rougher.output.recovery', 'final.output.recovery']], on='date')\n",
    "gold_train = gold_train[gold_test.columns]\n",
    "\n",
    "gold_test.shape, gold_train.shape"
   ]
  },
  {
   "cell_type": "markdown",
   "metadata": {},
   "source": [
    "Посмотрим на кол-во пропусков"
   ]
  },
  {
   "cell_type": "code",
   "execution_count": 9,
   "metadata": {},
   "outputs": [
    {
     "name": "stdout",
     "output_type": "stream",
     "text": [
      "rougher.state.floatbank10_e_air             436\n",
      "rougher.input.floatbank11_xanthate          428\n",
      "secondary_cleaner.state.floatbank2_a_air    217\n",
      "rougher.input.feed_size                     144\n",
      "rougher.input.feed_pb                       100\n",
      "primary_cleaner.input.xanthate              100\n",
      "rougher.input.feed_sol                       78\n",
      "rougher.input.floatbank11_sulfate            36\n",
      "primary_cleaner.input.depressant             32\n",
      "rougher.input.floatbank10_sulfate            29\n",
      "dtype: int64 \n",
      "----------------------------------------------- \n",
      "Процент пропусков в датасете 0.22 % \n",
      "===============================================\n",
      "rougher.input.floatbank11_xanthate          25\n",
      "rougher.input.feed_sol                      21\n",
      "secondary_cleaner.state.floatbank3_a_air     9\n",
      "rougher.input.floatbank11_sulfate            8\n",
      "primary_cleaner.input.depressant             5\n",
      "rougher.input.floatbank10_sulfate            5\n",
      "primary_cleaner.input.sulfate                4\n",
      "primary_cleaner.input.xanthate               4\n",
      "secondary_cleaner.state.floatbank2_a_air     3\n",
      "rougher.input.feed_rate                      3\n",
      "dtype: int64 \n",
      "----------------------------------------------- \n",
      "Процент пропусков в датасете 0.03 % \n",
      "===============================================\n",
      "secondary_cleaner.output.tail_sol           1748\n",
      "rougher.input.floatbank11_xanthate           453\n",
      "rougher.state.floatbank10_e_air              436\n",
      "primary_cleaner.output.concentrate_sol       370\n",
      "secondary_cleaner.state.floatbank2_a_air     220\n",
      "final.output.concentrate_sol                 211\n",
      "rougher.input.feed_size                      145\n",
      "primary_cleaner.output.concentrate_pb        116\n",
      "primary_cleaner.input.xanthate               104\n",
      "final.output.tail_pb                         101\n",
      "dtype: int64 \n",
      "----------------------------------------------- \n",
      "Процент пропусков в датасете 0.27 % \n",
      "===============================================\n"
     ]
    }
   ],
   "source": [
    "for i in (gold_train, gold_test, gold_full):\n",
    "    print(i.isna().sum().sort_values(ascending=False).head(10),\n",
    "    \"\\n-----------------------------------------------\",\n",
    "    f\"\\nПроцент пропусков в датасете {round(i.isna().sum().sum() / (i.shape[0] * i.shape[1]) * 100, 2)} %\",\n",
    "    \"\\n===============================================\")"
   ]
  },
  {
   "cell_type": "markdown",
   "metadata": {},
   "source": [
    "Заполним пропуски методом ffill, так как соседние по времени параметры часто похожи"
   ]
  },
  {
   "cell_type": "code",
   "execution_count": 10,
   "metadata": {},
   "outputs": [
    {
     "name": "stdout",
     "output_type": "stream",
     "text": [
      "Процент пропусков в датасете 0.0 %\n",
      "Процент пропусков в датасете 0.0 %\n",
      "Процент пропусков в датасете 0.0 %\n"
     ]
    }
   ],
   "source": [
    "gold_test = gold_test.fillna(method='ffill')\n",
    "gold_train = gold_train.fillna(method='ffill')\n",
    "gold_full = gold_full.fillna(method='ffill')\n",
    "\n",
    "for i in (gold_train, gold_test, gold_full):\n",
    "    print(f\"Процент пропусков в датасете {round(i.isna().sum().sum() / (i.shape[0] * i.shape[1]) * 100, 2)} %\")\n",
    "    "
   ]
  },
  {
   "cell_type": "markdown",
   "metadata": {},
   "source": [
    "На данном этапе мы подготовили данные к дальнейшей работе: привели данные к нужному формату, убрали лишние признаки из тренировочной выборки и добавили таргеты в тестовую, а так же избавились от пропусков\n",
    "\n",
    "Теперь можно приступать к анализу"
   ]
  },
  {
   "cell_type": "markdown",
   "metadata": {},
   "source": [
    "## Анализ данных"
   ]
  },
  {
   "cell_type": "markdown",
   "metadata": {},
   "source": [
    "### Концентрации металлов на этапах очистки "
   ]
  },
  {
   "cell_type": "markdown",
   "metadata": {},
   "source": [
    "Проанализируем концентрацию металлов на разных этапах очистки"
   ]
  },
  {
   "cell_type": "code",
   "execution_count": 11,
   "metadata": {},
   "outputs": [
    {
     "data": {
      "text/plain": [
       "Text(0.5, 0, 'этап очистки')"
      ]
     },
     "execution_count": 11,
     "metadata": {},
     "output_type": "execute_result"
    },
    {
     "data": {
      "image/png": "[encoded data removed]",
      "text/plain": [
       "<Figure size 1152x576 with 1 Axes>"
      ]
     },
     "metadata": {
      "needs_background": "light"
     },
     "output_type": "display_data"
    }
   ],
   "source": [
    "concentration = {}\n",
    "for metal in ['au', 'ag', 'pb']:\n",
    "    concentration.update(\n",
    "        {f'{metal.capitalize()}': {\n",
    "            'Feed': gold_full[f'rougher.input.feed_{metal}'].mean(),\n",
    "            'Rougher output': gold_full[f'rougher.output.concentrate_{metal}'].mean(),\n",
    "            'Primary cleaner output': gold_full[f'primary_cleaner.output.concentrate_{metal}'].mean(),\n",
    "            'Final output': gold_full[f'final.output.concentrate_{metal}'].mean()\n",
    "        }\n",
    "        })\n",
    "\n",
    "concentration = pd.DataFrame(concentration)\n",
    "concentration.plot(figsize=(16, 8), grid=True)\n",
    "plt.title('Концентрация металов на этапах очистки')\n",
    "plt.ylabel('средняя концентрация')\n",
    "plt.xlabel('этап очистки')"
   ]
  },
  {
   "cell_type": "markdown",
   "metadata": {},
   "source": [
    "Мы видим, что концентрация золота растет от этапа к этапу, в то время как концентрация свинца останавливается на одном уровне после вторичной очистки, а концентрация серебра начинает уменьшаться уже после флотации"
   ]
  },
  {
   "cell_type": "markdown",
   "metadata": {},
   "source": [
    "### Распределение размера гранул "
   ]
  },
  {
   "cell_type": "markdown",
   "metadata": {},
   "source": [
    "Построим график с распределениями размера гранул в тренировочной и тестовой выборках "
   ]
  },
  {
   "cell_type": "code",
   "execution_count": 12,
   "metadata": {},
   "outputs": [
    {
     "data": {
      "image/png": "[encoded data removed]",
      "text/plain": [
       "<Figure size 1152x576 with 1 Axes>"
      ]
     },
     "metadata": {
      "needs_background": "light"
     },
     "output_type": "display_data"
    }
   ],
   "source": [
    "plt.figure(figsize=(16, 8))\n",
    "sns.distplot(gold_train['rougher.input.feed_size'], label='train')\n",
    "sns.distplot(gold_test['rougher.input.feed_size'], label='test')\n",
    "plt.title('Суммарное распределение размера гранул')\n",
    "plt.grid(True)\n",
    "plt.legend()\n",
    "plt.show()"
   ]
  },
  {
   "cell_type": "markdown",
   "metadata": {},
   "source": [
    "Визуально распределения выглядят схоже, проверим гипотезу о равенстве двух средних генеральных совокупностей"
   ]
  },
  {
   "cell_type": "code",
   "execution_count": 14,
   "metadata": {},
   "outputs": [
    {
     "name": "stdout",
     "output_type": "stream",
     "text": [
      "Распределения размеров гранул в двух выборках не отличаются\n"
     ]
    },
    {
     "data": {
      "text/plain": [
       "1.6081245670847274e-33"
      ]
     },
     "execution_count": 14,
     "metadata": {},
     "output_type": "execute_result"
    }
   ],
   "source": [
    "alpha = .01\n",
    "results = st.ttest_ind(gold_train['rougher.input.feed_size'], gold_test['rougher.input.feed_size'])\n",
    "if (results.pvalue < alpha):\n",
    "    print(\"Распределения размеров гранул в двух выборках не отличаются\")\n",
    "else:\n",
    "    print(\"Распределения размеров гранул в двух выборках отличаются\")\n",
    "\n",
    "results.pvalue"
   ]
  },
  {
   "cell_type": "markdown",
   "metadata": {},
   "source": [
    "### Суммарные концентрации металлов"
   ]
  },
  {
   "cell_type": "markdown",
   "metadata": {},
   "source": [
    "Изучим суммарные концентрации металлов "
   ]
  },
  {
   "cell_type": "code",
   "execution_count": 15,
   "metadata": {},
   "outputs": [
    {
     "data": {
      "image/png": "[encoded data removed]",
      "text/plain": [
       "<Figure size 864x432 with 1 Axes>"
      ]
     },
     "metadata": {
      "needs_background": "light"
     },
     "output_type": "display_data"
    }
   ],
   "source": [
    "names = ['rougher.input.feed', 'rougher.output.concentrate', \n",
    "                     'primary_cleaner.output.concentrate', 'final.output.concentrate']\n",
    "\n",
    "def hists(symbol, df):         \n",
    "    for process in names:\n",
    "        df[process+'_'+symbol].hist(bins=100, alpha=0.6, figsize=(12,6))\n",
    "        plt.xlabel(symbol, fontsize=10)\n",
    "        plt.ylabel('Количество', fontsize=10)\n",
    "        plt.title('Концентрация '+ symbol + ' на разных стадиях', fontsize=10)\n",
    "        plt.legend(names)\n",
    "\n",
    "hists('au', gold_full)"
   ]
  },
  {
   "cell_type": "code",
   "execution_count": 16,
   "metadata": {},
   "outputs": [
    {
     "data": {
      "image/png": "[encoded data removed]",
      "text/plain": [
       "<Figure size 864x432 with 1 Axes>"
      ]
     },
     "metadata": {
      "needs_background": "light"
     },
     "output_type": "display_data"
    }
   ],
   "source": [
    "hists('ag', gold_full)"
   ]
  },
  {
   "cell_type": "code",
   "execution_count": 17,
   "metadata": {},
   "outputs": [
    {
     "data": {
      "image/png": "[encoded data removed]",
      "text/plain": [
       "<Figure size 864x432 with 1 Axes>"
      ]
     },
     "metadata": {
      "needs_background": "light"
     },
     "output_type": "display_data"
    }
   ],
   "source": [
    "hists('pb', gold_full)"
   ]
  },
  {
   "cell_type": "markdown",
   "metadata": {},
   "source": [
    "Мы видим что на всех этапах присутствуют выбросы около нуля, так как линейная регрессия чувствительна к выбросам мы должны убрать их"
   ]
  },
  {
   "cell_type": "code",
   "execution_count": 18,
   "metadata": {},
   "outputs": [
    {
     "data": {
      "text/plain": [
       "((18535, 86), (14000, 54), (5276, 54))"
      ]
     },
     "execution_count": 18,
     "metadata": {},
     "output_type": "execute_result"
    }
   ],
   "source": [
    "gold_full = gold_full.loc[(gold_full['rougher.input.feed_au'] >=1) & (gold_full['rougher.input.feed_ag'] >=1)\n",
    "             & (gold_full['rougher.input.feed_pb'] >=1) & \n",
    "                 (gold_full['rougher.output.concentrate_au'] >=1) & (gold_full['rougher.output.concentrate_ag'] >=1)\n",
    "             & (gold_full['rougher.output.concentrate_pb'] >=1) & \n",
    "                 (gold_full['primary_cleaner.output.concentrate_au'] >=1) & (gold_full['primary_cleaner.output.concentrate_ag'] >=1)\n",
    "             & (gold_full['primary_cleaner.output.concentrate_pb'] >=1) & \n",
    "                 (gold_full['final.output.concentrate_au'] >=1) & (gold_full['final.output.concentrate_ag'] >=1)\n",
    "             & (gold_full['final.output.concentrate_pb'] >=1)]\n",
    "gold_train = gold_train[(gold_train['rougher.input.feed_au'] >=1) & (gold_train['rougher.input.feed_ag'] >=1)\n",
    "             & (gold_train['rougher.input.feed_pb'] >=1)]\n",
    "gold_test = gold_test[(gold_test['rougher.input.feed_au'] >=1) & (gold_test['rougher.input.feed_ag'] >=1)\n",
    "             & (gold_test['rougher.input.feed_pb'] >=1)]\n",
    "\n",
    "gold_full.shape, gold_train.shape, gold_test.shape"
   ]
  },
  {
   "cell_type": "markdown",
   "metadata": {},
   "source": [
    "Посмотрим на графики после очистки "
   ]
  },
  {
   "cell_type": "code",
   "execution_count": 19,
   "metadata": {},
   "outputs": [
    {
     "data": {
      "image/png": "[encoded data removed]",
      "text/plain": [
       "<Figure size 864x432 with 1 Axes>"
      ]
     },
     "metadata": {
      "needs_background": "light"
     },
     "output_type": "display_data"
    }
   ],
   "source": [
    "hists('au', gold_full)"
   ]
  },
  {
   "cell_type": "code",
   "execution_count": 20,
   "metadata": {},
   "outputs": [
    {
     "data": {
      "image/png": "[encoded data removed]",
      "text/plain": [
       "<Figure size 864x432 with 1 Axes>"
      ]
     },
     "metadata": {
      "needs_background": "light"
     },
     "output_type": "display_data"
    }
   ],
   "source": [
    "\n",
    "hists('ag', gold_full)"
   ]
  },
  {
   "cell_type": "code",
   "execution_count": 21,
   "metadata": {},
   "outputs": [
    {
     "data": {
      "image/png": "[encoded data removed]",
      "text/plain": [
       "<Figure size 864x432 with 1 Axes>"
      ]
     },
     "metadata": {
      "needs_background": "light"
     },
     "output_type": "display_data"
    }
   ],
   "source": [
    "hists('pb', gold_full)"
   ]
  },
  {
   "cell_type": "markdown",
   "metadata": {},
   "source": [
    "Мы проанализировали данные о концентрации металлов и размере гранул сырья, а так же избавились от аномалий и готовы переходить к построению моделей"
   ]
  },
  {
   "cell_type": "markdown",
   "metadata": {},
   "source": [
    "## Модель"
   ]
  },
  {
   "cell_type": "markdown",
   "metadata": {},
   "source": [
    "Расчитаем sMAPE и итоговый sMAPE, а так же напишем скорер для моделей"
   ]
  },
  {
   "cell_type": "code",
   "execution_count": 22,
   "metadata": {},
   "outputs": [],
   "source": [
    "def smape(target, pred):\n",
    "    return 1/len(target) * np.sum(np.abs(target - pred) / ((np.abs(target) + np.abs(pred)) / 2) * 100)\n",
    "\n",
    "def smape_final(rougher, final):\n",
    "    return 0.25 * rougher + 0.75 * final\n",
    "\n",
    "def smape_final_scorer(target, pred):\n",
    "    smapes = 1/len(target) * np.sum(np.abs(target - pred) / ((np.abs(target) + np.abs(pred)) / 2) * 100)\n",
    "    rougher = smapes[0]\n",
    "    final = smapes[1]\n",
    "    return 0.25 * rougher + 0.75 * final\n",
    "\n",
    "scorer = make_scorer(smape_final_scorer, greater_is_better=True)  "
   ]
  },
  {
   "cell_type": "markdown",
   "metadata": {},
   "source": [
    "Разобьем выборки на фичи и таргеты, а так же стандартизируем наши признаки"
   ]
  },
  {
   "cell_type": "code",
   "execution_count": 23,
   "metadata": {},
   "outputs": [
    {
     "data": {
      "text/plain": [
       "((14000, 52), (14000, 2), (5276, 52), (5276, 2))"
      ]
     },
     "execution_count": 23,
     "metadata": {},
     "output_type": "execute_result"
    }
   ],
   "source": [
    "features_train = gold_train.drop(['rougher.output.recovery', 'final.output.recovery'], axis=1)\n",
    "features_test = gold_test.drop(['rougher.output.recovery', 'final.output.recovery'], axis=1)\n",
    "\n",
    "target_train = gold_train[['rougher.output.recovery', 'final.output.recovery']]\n",
    "target_test = gold_test[['rougher.output.recovery', 'final.output.recovery']]\n",
    "\n",
    "features_train.shape, target_train.shape, features_test.shape, target_test.shape"
   ]
  },
  {
   "cell_type": "code",
   "execution_count": 24,
   "metadata": {},
   "outputs": [],
   "source": [
    "scaler = StandardScaler()\n",
    "scaler.fit(features_train)\n",
    "features_train = scaler.transform(features_train)\n",
    "features_test = scaler.transform(features_test)"
   ]
  },
  {
   "cell_type": "markdown",
   "metadata": {},
   "source": [
    "Обучим модели"
   ]
  },
  {
   "cell_type": "code",
   "execution_count": 25,
   "metadata": {},
   "outputs": [
    {
     "name": "stdout",
     "output_type": "stream",
     "text": [
      "Fitting 5 folds for each of 640 candidates, totalling 3200 fits\n"
     ]
    },
    {
     "name": "stderr",
     "output_type": "stream",
     "text": [
      "[Parallel(n_jobs=-1)]: Using backend SequentialBackend with 1 concurrent workers.\n",
      "[Parallel(n_jobs=-1)]: Done 3200 out of 3200 | elapsed:  2.8min finished\n"
     ]
    },
    {
     "data": {
      "text/plain": [
       "{'max_depth': 2,\n",
       " 'max_features': 'sqrt',\n",
       " 'min_samples_leaf': 3,\n",
       " 'min_weight_fraction_leaf': 0.2,\n",
       " 'splitter': 'random'}"
      ]
     },
     "metadata": {},
     "output_type": "display_data"
    },
    {
     "data": {
      "text/plain": [
       "12.004884199393777"
      ]
     },
     "metadata": {},
     "output_type": "display_data"
    }
   ],
   "source": [
    "tree_model = DecisionTreeRegressor(random_state = 2)\n",
    "\n",
    "parameters={\"splitter\":[\"best\",\"random\"],\n",
    "            \"max_depth\" : range(1, 5, 1),\n",
    "           \"min_samples_leaf\": [3,5,7,9],\n",
    "           \"min_weight_fraction_leaf\": [0.1,0.2,0.3,0.4,0.5],\n",
    "           \"max_features\": [\"auto\",\"log2\",\"sqrt\",None]}\n",
    "\n",
    "best_tree = GridSearchCV(tree_model, parameters, scoring=scorer, cv=5,n_jobs=-1, verbose=True)\n",
    "best_tree.fit(features_train, target_train)\n",
    "\n",
    "display(best_tree.best_params_)\n",
    "display(best_tree.best_score_)\n"
   ]
  },
  {
   "cell_type": "code",
   "execution_count": 26,
   "metadata": {},
   "outputs": [
    {
     "name": "stderr",
     "output_type": "stream",
     "text": [
      "[Parallel(n_jobs=-1)]: Using backend SequentialBackend with 1 concurrent workers.\n"
     ]
    },
    {
     "name": "stdout",
     "output_type": "stream",
     "text": [
      "Fitting 5 folds for each of 36 candidates, totalling 180 fits\n"
     ]
    },
    {
     "name": "stderr",
     "output_type": "stream",
     "text": [
      "[Parallel(n_jobs=-1)]: Done 180 out of 180 | elapsed: 12.5min finished\n"
     ]
    },
    {
     "data": {
      "text/plain": [
       "{'max_depth': 3, 'max_features': 10, 'n_estimators': 10, 'random_state': 42}"
      ]
     },
     "metadata": {},
     "output_type": "display_data"
    },
    {
     "data": {
      "text/plain": [
       "10.332284110640822"
      ]
     },
     "metadata": {},
     "output_type": "display_data"
    }
   ],
   "source": [
    "rf_model = RandomForestRegressor()\n",
    "forest_params = {'n_estimators': [10, 50, 100, 150, 200, 250],\n",
    "                'max_features' : [7, 10],\n",
    "                'max_depth': [3, 4, 5],\n",
    "                'random_state': [42]}\n",
    "\n",
    "forest_grid = GridSearchCV(rf_model, forest_params, scoring=scorer, cv=5, n_jobs=-1, verbose=True)\n",
    "forest_grid.fit(features_train, target_train)\n",
    "\n",
    "display(forest_grid.best_params_)\n",
    "display(forest_grid.best_score_)"
   ]
  },
  {
   "cell_type": "markdown",
   "metadata": {},
   "source": [
    "Создадим константную модель и посчитаем целевой sMAPE"
   ]
  },
  {
   "cell_type": "code",
   "execution_count": 27,
   "metadata": {},
   "outputs": [
    {
     "name": "stdout",
     "output_type": "stream",
     "text": [
      "rougher.output.recovery    8.543918\n",
      "final.output.recovery      9.627631\n",
      "dtype: float64\n",
      "final smape 9.35670267713974\n"
     ]
    }
   ],
   "source": [
    "dummy = DummyRegressor(strategy='median')\n",
    "\n",
    "\n",
    "dummy.fit(features_train, target_train)\n",
    "dummy_predict = dummy.predict(features_test)\n",
    "smape_dummy_rougher = smape(target_test, dummy_predict)\n",
    "print(smape_dummy_rougher)\n",
    "print('final smape', smape_final(smape_dummy_rougher[0], smape_dummy_rougher[1]))"
   ]
  },
  {
   "cell_type": "markdown",
   "metadata": {},
   "source": [
    "Протестируем модели и определим лучшую "
   ]
  },
  {
   "cell_type": "code",
   "execution_count": 28,
   "metadata": {},
   "outputs": [
    {
     "name": "stdout",
     "output_type": "stream",
     "text": [
      "rougher.output.recovery    9.245970\n",
      "final.output.recovery      9.421125\n",
      "dtype: float64\n",
      "final smape 9.377336089128242\n"
     ]
    }
   ],
   "source": [
    "model_one = DecisionTreeRegressor(random_state=42, max_depth=2, max_features='sqrt', min_samples_leaf=3, min_weight_fraction_leaf=0.2)\n",
    "model_one.fit(features_train, target_train)\n",
    "model_one_pred = model_one.predict(features_test)\n",
    "\n",
    "model_one_smape = smape(target_test, model_one_pred)\n",
    "print(model_one_smape)\n",
    "print('final smape', smape_final(model_one_smape[0], model_one_smape[1]))"
   ]
  },
  {
   "cell_type": "code",
   "execution_count": 29,
   "metadata": {},
   "outputs": [
    {
     "name": "stdout",
     "output_type": "stream",
     "text": [
      "rougher.output.recovery    9.226217\n",
      "final.output.recovery      8.905565\n",
      "dtype: float64\n",
      "final smape 8.985728214149315\n"
     ]
    }
   ],
   "source": [
    "model_two = RandomForestRegressor(random_state=42, n_estimators=10, max_depth=3, max_features=10)\n",
    "model_two.fit(features_train, target_train)\n",
    "model_two_pred = model_two.predict(features_test)\n",
    "\n",
    "model_two_smape = smape(target_test, model_two_pred)\n",
    "print(model_two_smape)\n",
    "print('final smape', smape_final(model_two_smape[0], model_two_smape[1]))"
   ]
  },
  {
   "cell_type": "code",
   "execution_count": 30,
   "metadata": {},
   "outputs": [
    {
     "name": "stdout",
     "output_type": "stream",
     "text": [
      "rougher.output.recovery    9.740706\n",
      "final.output.recovery      9.863882\n",
      "dtype: float64\n",
      "final smape 9.833088049076608\n"
     ]
    }
   ],
   "source": [
    "model_three = LinearRegression()\n",
    "model_three.fit(features_train, target_train)\n",
    "model_three_pred = model_three.predict(features_test)\n",
    "\n",
    "model_three_smape = smape(target_test, model_three_pred)\n",
    "print(model_three_smape)\n",
    "print('final smape', smape_final(model_three_smape[0], model_three_smape[1]))"
   ]
  },
  {
   "cell_type": "markdown",
   "metadata": {},
   "source": [
    "Лучше всего себя показал случайный лес, а так же он преодолел константную sMAPE"
   ]
  },
  {
   "cell_type": "markdown",
   "metadata": {},
   "source": [
    "## Общий вывод"
   ]
  },
  {
   "cell_type": "markdown",
   "metadata": {},
   "source": [
    "В ходе работы были изучены данные с параметрами добычи и очистки золотосодержащей руды. Было установлено, что концентрация золота растёт на всех этапах обработки. Концентрация свинца возрастает до 2 этапа очистки, а концентрация серебра растет только после флотации, на последующих этапах падает. Были обнаружены наблюдения с аномальными значениями концентрации руды , а также аномальными значениями размеров гранул сырья. Эти наблюдения были удалены во всех выборках.\n",
    "\n",
    "На основе данных обучающей выборки были построены модели решающего дерева, случайного леса и линейной регрессии. Наилучшее значение целевой метрики показала модель случайного леса, так же модель прошла проверку на адекватность."
   ]
  }
 ],
 "metadata": {
  "ExecuteTimeLog": [
   {
    "duration": 1232,
    "start_time": "2021-11-01T13:34:48.303Z"
   },
   {
    "duration": 699,
    "start_time": "2021-11-01T13:37:14.277Z"
   },
   {
    "duration": 4,
    "start_time": "2021-11-01T13:37:15.516Z"
   },
   {
    "duration": 831,
    "start_time": "2021-11-01T13:37:16.464Z"
   },
   {
    "duration": 739,
    "start_time": "2021-11-01T13:37:29.224Z"
   },
   {
    "duration": 509,
    "start_time": "2021-11-01T13:38:01.617Z"
   },
   {
    "duration": 3,
    "start_time": "2021-11-01T13:38:29.805Z"
   },
   {
    "duration": 553,
    "start_time": "2021-11-01T13:38:36.988Z"
   },
   {
    "duration": 4,
    "start_time": "2021-11-01T13:38:44.028Z"
   },
   {
    "duration": 354,
    "start_time": "2021-11-01T13:38:44.636Z"
   },
   {
    "duration": 17,
    "start_time": "2021-11-01T13:39:31.745Z"
   },
   {
    "duration": 16,
    "start_time": "2021-11-01T13:39:47.152Z"
   },
   {
    "duration": 22,
    "start_time": "2021-11-01T13:40:05.669Z"
   },
   {
    "duration": 1399,
    "start_time": "2021-11-02T10:10:53.853Z"
   },
   {
    "duration": 731,
    "start_time": "2021-11-02T10:10:55.929Z"
   },
   {
    "duration": 18,
    "start_time": "2021-11-02T10:11:05.520Z"
   },
   {
    "duration": 15,
    "start_time": "2021-11-02T10:15:38.160Z"
   },
   {
    "duration": 24,
    "start_time": "2021-11-02T10:22:50.140Z"
   },
   {
    "duration": 1536,
    "start_time": "2021-11-03T14:11:04.994Z"
   },
   {
    "duration": 915,
    "start_time": "2021-11-03T14:11:06.533Z"
   },
   {
    "duration": 5,
    "start_time": "2021-11-03T14:11:07.454Z"
   },
   {
    "duration": 31,
    "start_time": "2021-11-03T14:11:07.461Z"
   },
   {
    "duration": 22,
    "start_time": "2021-11-03T14:11:07.495Z"
   },
   {
    "duration": 5,
    "start_time": "2021-11-03T14:11:07.520Z"
   },
   {
    "duration": 2064,
    "start_time": "2021-11-05T12:24:48.641Z"
   },
   {
    "duration": 865,
    "start_time": "2021-11-05T12:24:50.709Z"
   },
   {
    "duration": 5,
    "start_time": "2021-11-05T12:24:51.578Z"
   },
   {
    "duration": 32,
    "start_time": "2021-11-05T12:24:51.587Z"
   },
   {
    "duration": 27,
    "start_time": "2021-11-05T12:24:51.622Z"
   },
   {
    "duration": 6,
    "start_time": "2021-11-05T12:24:51.684Z"
   },
   {
    "duration": 4999,
    "start_time": "2021-11-05T12:27:12.620Z"
   },
   {
    "duration": 1642,
    "start_time": "2021-11-05T12:27:40.429Z"
   },
   {
    "duration": 825,
    "start_time": "2021-11-05T12:27:42.074Z"
   },
   {
    "duration": 5344,
    "start_time": "2021-11-05T12:27:42.902Z"
   },
   {
    "duration": 48,
    "start_time": "2021-11-05T12:27:48.250Z"
   },
   {
    "duration": 30,
    "start_time": "2021-11-05T12:27:48.300Z"
   },
   {
    "duration": 56,
    "start_time": "2021-11-05T12:27:48.332Z"
   },
   {
    "duration": 6,
    "start_time": "2021-11-05T12:27:48.391Z"
   },
   {
    "duration": 1579,
    "start_time": "2021-11-05T12:28:52.512Z"
   },
   {
    "duration": 808,
    "start_time": "2021-11-05T12:28:54.093Z"
   },
   {
    "duration": 10854,
    "start_time": "2021-11-05T12:28:54.903Z"
   },
   {
    "duration": 50,
    "start_time": "2021-11-05T12:29:05.760Z"
   },
   {
    "duration": 29,
    "start_time": "2021-11-05T12:29:05.812Z"
   },
   {
    "duration": 52,
    "start_time": "2021-11-05T12:29:05.843Z"
   },
   {
    "duration": 5,
    "start_time": "2021-11-05T12:29:05.897Z"
   },
   {
    "duration": 36,
    "start_time": "2021-11-05T12:29:44.464Z"
   },
   {
    "duration": 890,
    "start_time": "2021-11-05T12:33:12.484Z"
   },
   {
    "duration": 832,
    "start_time": "2021-11-05T12:33:37.684Z"
   },
   {
    "duration": 811,
    "start_time": "2021-11-05T12:33:49.976Z"
   },
   {
    "duration": 555,
    "start_time": "2021-11-05T12:34:37.556Z"
   },
   {
    "duration": 6,
    "start_time": "2021-11-05T12:34:52.547Z"
   },
   {
    "duration": 313,
    "start_time": "2021-11-05T12:35:00.088Z"
   },
   {
    "duration": 6,
    "start_time": "2021-11-05T12:36:41.551Z"
   },
   {
    "duration": 466,
    "start_time": "2021-11-05T12:49:49.434Z"
   },
   {
    "duration": 5,
    "start_time": "2021-11-05T12:55:42.632Z"
   },
   {
    "duration": 305,
    "start_time": "2021-11-05T12:55:43.248Z"
   },
   {
    "duration": 850,
    "start_time": "2021-11-05T12:56:02.802Z"
   },
   {
    "duration": 4,
    "start_time": "2021-11-05T12:56:56.398Z"
   },
   {
    "duration": 400,
    "start_time": "2021-11-05T12:56:59.546Z"
   },
   {
    "duration": 5,
    "start_time": "2021-11-05T12:58:45.214Z"
   },
   {
    "duration": 438,
    "start_time": "2021-11-05T12:58:46.649Z"
   },
   {
    "duration": 1785,
    "start_time": "2021-12-16T11:45:01.158Z"
   },
   {
    "duration": 1570,
    "start_time": "2021-12-16T11:45:02.946Z"
   },
   {
    "duration": 70,
    "start_time": "2021-12-16T11:45:36.712Z"
   },
   {
    "duration": 5,
    "start_time": "2021-12-16T11:46:07.061Z"
   },
   {
    "duration": 1362,
    "start_time": "2021-12-16T11:46:07.503Z"
   },
   {
    "duration": 35,
    "start_time": "2021-12-16T11:46:22.542Z"
   },
   {
    "duration": 6,
    "start_time": "2021-12-16T11:46:23.843Z"
   },
   {
    "duration": 21,
    "start_time": "2021-12-16T11:46:57.427Z"
   },
   {
    "duration": 30,
    "start_time": "2021-12-16T11:48:24.814Z"
   },
   {
    "duration": 42,
    "start_time": "2021-12-16T11:48:28.750Z"
   },
   {
    "duration": 495,
    "start_time": "2021-12-16T11:49:20.099Z"
   },
   {
    "duration": 951,
    "start_time": "2021-12-16T11:50:50.000Z"
   },
   {
    "duration": 7,
    "start_time": "2021-12-16T11:50:54.287Z"
   },
   {
    "duration": 9,
    "start_time": "2021-12-16T11:51:45.792Z"
   },
   {
    "duration": 2398,
    "start_time": "2021-12-16T11:54:31.611Z"
   },
   {
    "duration": 1716,
    "start_time": "2021-12-16T11:54:34.012Z"
   },
   {
    "duration": 1858,
    "start_time": "2021-12-16T11:54:35.730Z"
   },
   {
    "duration": 41,
    "start_time": "2021-12-16T11:54:37.591Z"
   },
   {
    "duration": 1768,
    "start_time": "2021-12-16T11:54:38.748Z"
   },
   {
    "duration": 1846,
    "start_time": "2021-12-16T11:54:40.518Z"
   },
   {
    "duration": 1786,
    "start_time": "2021-12-16T11:54:42.367Z"
   },
   {
    "duration": 7,
    "start_time": "2021-12-16T11:55:30.208Z"
   },
   {
    "duration": 17,
    "start_time": "2021-12-16T11:56:16.451Z"
   },
   {
    "duration": 27,
    "start_time": "2021-12-16T11:56:17.616Z"
   },
   {
    "duration": 168648,
    "start_time": "2021-12-16T11:56:18.964Z"
   },
   {
    "duration": 751463,
    "start_time": "2021-12-16T11:59:07.615Z"
   },
   {
    "duration": 18,
    "start_time": "2021-12-16T12:11:39.081Z"
   },
   {
    "duration": 69,
    "start_time": "2021-12-16T12:11:39.102Z"
   },
   {
    "duration": 387,
    "start_time": "2021-12-16T12:11:39.174Z"
   },
   {
    "duration": 300,
    "start_time": "2021-12-16T12:11:39.564Z"
   }
  ],
  "kernelspec": {
   "display_name": "Python 3",
   "language": "python",
   "name": "python3"
  },
  "language_info": {
   "codemirror_mode": {
    "name": "ipython",
    "version": 3
   },
   "file_extension": ".py",
   "mimetype": "text/x-python",
   "name": "python",
   "nbconvert_exporter": "python",
   "pygments_lexer": "ipython3",
   "version": "3.7.8"
  },
  "toc": {
   "base_numbering": 1,
   "nav_menu": {},
   "number_sections": true,
   "sideBar": true,
   "skip_h1_title": true,
   "title_cell": "Содержание",
   "title_sidebar": "Contents",
   "toc_cell": true,
   "toc_position": {},
   "toc_section_display": true,
   "toc_window_display": true
  }
 },
 "nbformat": 4,
 "nbformat_minor": 2
}
