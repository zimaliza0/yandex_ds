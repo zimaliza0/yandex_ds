{
 "cells": [
  {
   "cell_type": "markdown",
   "metadata": {},
   "source": [
    "# Рекомендация тарифов"
   ]
  },
  {
   "cell_type": "markdown",
   "metadata": {},
   "source": [
    "В нашем распоряжении данные о поведении клиентов, которые уже перешли на эти тарифы (из проекта курса «Статистический анализ данных»). Наша задача, построить модель для задачи классификации, которая выберет подходящий тариф. Доля правильных ответов модели должна быть не меньше 75%."
   ]
  },
  {
   "cell_type": "markdown",
   "metadata": {},
   "source": [
    "## Откроем и изучим файл"
   ]
  },
  {
   "cell_type": "markdown",
   "metadata": {},
   "source": [
    "Загрузим нужные библиотеки"
   ]
  },
  {
   "cell_type": "code",
   "execution_count": 1,
   "metadata": {},
   "outputs": [],
   "source": [
    "import pandas as pd\n",
    "import numpy as np\n",
    "import seaborn as sns\n",
    "from sklearn.tree import DecisionTreeClassifier\n",
    "from sklearn.ensemble import RandomForestClassifier\n",
    "from sklearn.linear_model import LogisticRegression\n",
    "from sklearn.metrics import accuracy_score\n",
    "from sklearn.model_selection import train_test_split\n",
    "from sklearn.model_selection import GridSearchCV, cross_val_score\n",
    "from sklearn.model_selection import RandomizedSearchCV\n",
    "from sklearn.dummy import DummyClassifier"
   ]
  },
  {
   "cell_type": "markdown",
   "metadata": {},
   "source": [
    "Загрузим файл в переменную df_behavior и посмотрим на данные"
   ]
  },
  {
   "cell_type": "code",
   "execution_count": 2,
   "metadata": {},
   "outputs": [],
   "source": [
    "try:\n",
    "    df_behavior = pd.read_csv(r'users_behavior.csv')\n",
    "    df_behavior.head()\n",
    "except:\n",
    "    df_behavior = pd.read_csv('/datasets/users_behavior.csv')\n",
    "    df_behavior.head()"
   ]
  },
  {
   "cell_type": "code",
   "execution_count": 3,
   "metadata": {},
   "outputs": [
    {
     "data": {
      "text/html": [
       "<div>\n",
       "<style scoped>\n",
       "    .dataframe tbody tr th:only-of-type {\n",
       "        vertical-align: middle;\n",
       "    }\n",
       "\n",
       "    .dataframe tbody tr th {\n",
       "        vertical-align: top;\n",
       "    }\n",
       "\n",
       "    .dataframe thead th {\n",
       "        text-align: right;\n",
       "    }\n",
       "</style>\n",
       "<table border=\"1\" class=\"dataframe\">\n",
       "  <thead>\n",
       "    <tr style=\"text-align: right;\">\n",
       "      <th></th>\n",
       "      <th>calls</th>\n",
       "      <th>minutes</th>\n",
       "      <th>messages</th>\n",
       "      <th>mb_used</th>\n",
       "      <th>is_ultra</th>\n",
       "    </tr>\n",
       "  </thead>\n",
       "  <tbody>\n",
       "    <tr>\n",
       "      <td>count</td>\n",
       "      <td>3214.000000</td>\n",
       "      <td>3214.000000</td>\n",
       "      <td>3214.000000</td>\n",
       "      <td>3214.000000</td>\n",
       "      <td>3214.000000</td>\n",
       "    </tr>\n",
       "    <tr>\n",
       "      <td>mean</td>\n",
       "      <td>63.038892</td>\n",
       "      <td>438.208787</td>\n",
       "      <td>38.281269</td>\n",
       "      <td>17207.673836</td>\n",
       "      <td>0.306472</td>\n",
       "    </tr>\n",
       "    <tr>\n",
       "      <td>std</td>\n",
       "      <td>33.236368</td>\n",
       "      <td>234.569872</td>\n",
       "      <td>36.148326</td>\n",
       "      <td>7570.968246</td>\n",
       "      <td>0.461100</td>\n",
       "    </tr>\n",
       "    <tr>\n",
       "      <td>min</td>\n",
       "      <td>0.000000</td>\n",
       "      <td>0.000000</td>\n",
       "      <td>0.000000</td>\n",
       "      <td>0.000000</td>\n",
       "      <td>0.000000</td>\n",
       "    </tr>\n",
       "    <tr>\n",
       "      <td>25%</td>\n",
       "      <td>40.000000</td>\n",
       "      <td>274.575000</td>\n",
       "      <td>9.000000</td>\n",
       "      <td>12491.902500</td>\n",
       "      <td>0.000000</td>\n",
       "    </tr>\n",
       "    <tr>\n",
       "      <td>50%</td>\n",
       "      <td>62.000000</td>\n",
       "      <td>430.600000</td>\n",
       "      <td>30.000000</td>\n",
       "      <td>16943.235000</td>\n",
       "      <td>0.000000</td>\n",
       "    </tr>\n",
       "    <tr>\n",
       "      <td>75%</td>\n",
       "      <td>82.000000</td>\n",
       "      <td>571.927500</td>\n",
       "      <td>57.000000</td>\n",
       "      <td>21424.700000</td>\n",
       "      <td>1.000000</td>\n",
       "    </tr>\n",
       "    <tr>\n",
       "      <td>max</td>\n",
       "      <td>244.000000</td>\n",
       "      <td>1632.060000</td>\n",
       "      <td>224.000000</td>\n",
       "      <td>49745.730000</td>\n",
       "      <td>1.000000</td>\n",
       "    </tr>\n",
       "  </tbody>\n",
       "</table>\n",
       "</div>"
      ],
      "text/plain": [
       "             calls      minutes     messages       mb_used     is_ultra\n",
       "count  3214.000000  3214.000000  3214.000000   3214.000000  3214.000000\n",
       "mean     63.038892   438.208787    38.281269  17207.673836     0.306472\n",
       "std      33.236368   234.569872    36.148326   7570.968246     0.461100\n",
       "min       0.000000     0.000000     0.000000      0.000000     0.000000\n",
       "25%      40.000000   274.575000     9.000000  12491.902500     0.000000\n",
       "50%      62.000000   430.600000    30.000000  16943.235000     0.000000\n",
       "75%      82.000000   571.927500    57.000000  21424.700000     1.000000\n",
       "max     244.000000  1632.060000   224.000000  49745.730000     1.000000"
      ]
     },
     "execution_count": 3,
     "metadata": {},
     "output_type": "execute_result"
    }
   ],
   "source": [
    "df_behavior.describe()"
   ]
  },
  {
   "cell_type": "markdown",
   "metadata": {},
   "source": [
    "Мы видим уже предобработаные данные готовые к дальнешей работе"
   ]
  },
  {
   "cell_type": "markdown",
   "metadata": {},
   "source": [
    "## Разобьем данные на выборки"
   ]
  },
  {
   "cell_type": "markdown",
   "metadata": {},
   "source": [
    "Разобьем данные на 3 выборки, тренировочную, валидационную и тестовую в соотношении 60%-20%-20%"
   ]
  },
  {
   "cell_type": "code",
   "execution_count": 4,
   "metadata": {},
   "outputs": [],
   "source": [
    "features = df_behavior.drop('is_ultra', axis=1)\n",
    "target = df_behavior['is_ultra']\n",
    "\n",
    "features_train, features_tv, target_train, target_tv = train_test_split(\n",
    "    features, target, test_size=0.4, random_state=12345)\n",
    "features_test, features_valid, target_test, target_valid = train_test_split(\n",
    "    features_tv, target_tv, test_size=0.5, random_state=12345)"
   ]
  },
  {
   "cell_type": "code",
   "execution_count": 5,
   "metadata": {},
   "outputs": [
    {
     "name": "stdout",
     "output_type": "stream",
     "text": [
      "features_train :\n",
      " 0    1335\n",
      "1     593\n",
      "Name: is_ultra, dtype: int64 \n",
      "features_valid :\n",
      " 0    440\n",
      "1    203\n",
      "Name: is_ultra, dtype: int64 \n",
      "features_test :\n",
      " 0    454\n",
      "1    189\n",
      "Name: is_ultra, dtype: int64\n"
     ]
    }
   ],
   "source": [
    "print('features_train :\\n', target_train.value_counts(),\n",
    "     '\\nfeatures_valid :\\n', target_valid.value_counts(),\n",
    "     '\\nfeatures_test :\\n', target_test.value_counts()\n",
    "     )"
   ]
  },
  {
   "cell_type": "markdown",
   "metadata": {},
   "source": [
    "## Исследуем модели"
   ]
  },
  {
   "cell_type": "markdown",
   "metadata": {},
   "source": [
    "Создадим и обучим модель дерева решений"
   ]
  },
  {
   "cell_type": "code",
   "execution_count": 6,
   "metadata": {},
   "outputs": [
    {
     "data": {
      "text/plain": [
       "DecisionTreeClassifier(class_weight=None, criterion='gini', max_depth=None,\n",
       "                       max_features=None, max_leaf_nodes=None,\n",
       "                       min_impurity_decrease=0.0, min_impurity_split=None,\n",
       "                       min_samples_leaf=1, min_samples_split=2,\n",
       "                       min_weight_fraction_leaf=0.0, presort=False,\n",
       "                       random_state=None, splitter='best')"
      ]
     },
     "execution_count": 6,
     "metadata": {},
     "output_type": "execute_result"
    }
   ],
   "source": [
    "tree = DecisionTreeClassifier()\n",
    "tree.fit(features_train, target_train)"
   ]
  },
  {
   "cell_type": "markdown",
   "metadata": {},
   "source": [
    "Подберем лучшие параметры с помошью поиска по сетке и поместим лучшую модель в переменную best_tree"
   ]
  },
  {
   "cell_type": "code",
   "execution_count": 7,
   "metadata": {},
   "outputs": [
    {
     "name": "stdout",
     "output_type": "stream",
     "text": [
      "Fitting 5 folds for each of 60 candidates, totalling 300 fits\n"
     ]
    },
    {
     "name": "stderr",
     "output_type": "stream",
     "text": [
      "[Parallel(n_jobs=-1)]: Using backend LokyBackend with 4 concurrent workers.\n",
      "[Parallel(n_jobs=-1)]: Done  42 tasks      | elapsed:   47.5s\n"
     ]
    },
    {
     "name": "stdout",
     "output_type": "stream",
     "text": [
      "Accuracy наилучшей модели на валидационной выборке: 0.7900466562986003\n"
     ]
    },
    {
     "name": "stderr",
     "output_type": "stream",
     "text": [
      "[Parallel(n_jobs=-1)]: Done 300 out of 300 | elapsed:   49.2s finished\n"
     ]
    }
   ],
   "source": [
    "tree_params = {'max_depth': range(1,11),\n",
    "'max_features': range(1,4),\n",
    "'criterion': ['gini', 'entropy'],\n",
    "'random_state': [12345]}\n",
    "\n",
    "tree_grid = GridSearchCV(tree, tree_params, cv=5, n_jobs=-1, verbose=True)\n",
    "\n",
    "tree_grid.fit(features_train, target_train)\n",
    "best_tree = tree_grid.best_estimator_\n",
    "# так же выведем accuracy на экран\n",
    "print(\"Accuracy наилучшей модели на валидационной выборке:\", accuracy_score(target_valid, best_tree.predict(features_valid)))"
   ]
  },
  {
   "cell_type": "markdown",
   "metadata": {},
   "source": [
    "Создадим модель слечайного леса и подберем для нее лучшие гиперпараметры через случайный поиск"
   ]
  },
  {
   "cell_type": "code",
   "execution_count": 8,
   "metadata": {},
   "outputs": [
    {
     "name": "stderr",
     "output_type": "stream",
     "text": [
      "[Parallel(n_jobs=-1)]: Using backend LokyBackend with 4 concurrent workers.\n"
     ]
    },
    {
     "name": "stdout",
     "output_type": "stream",
     "text": [
      "Fitting 3 folds for each of 100 candidates, totalling 300 fits\n"
     ]
    },
    {
     "name": "stderr",
     "output_type": "stream",
     "text": [
      "[Parallel(n_jobs=-1)]: Done  42 tasks      | elapsed:   16.4s\n",
      "[Parallel(n_jobs=-1)]: Done 192 tasks      | elapsed:  1.2min\n",
      "[Parallel(n_jobs=-1)]: Done 300 out of 300 | elapsed:  1.8min finished\n"
     ]
    },
    {
     "name": "stdout",
     "output_type": "stream",
     "text": [
      "Accuracy наилучшей модели на валидационной выборке: 0.7993779160186625\n"
     ]
    }
   ],
   "source": [
    "rfc = RandomForestClassifier()\n",
    "\n",
    "n_estimators = [int(x) for x in np.linspace(start = 100, stop = 1000, num = 10)]\n",
    "max_features = ['log2', 'sqrt']\n",
    "max_depth = [int(x) for x in np.linspace(start = 1, stop = 15, num = 15)]\n",
    "min_samples_split = [int(x) for x in np.linspace(start = 2, stop = 50, num = 10)]\n",
    "min_samples_leaf = [int(x) for x in np.linspace(start = 2, stop = 50, num = 10)]\n",
    "bootstrap = [True, False]\n",
    "forest_param = {'n_estimators': n_estimators,\n",
    "               'max_features': max_features,\n",
    "               'max_depth': max_depth,\n",
    "               'min_samples_split': min_samples_split,\n",
    "               'min_samples_leaf': min_samples_leaf,\n",
    "               'bootstrap': bootstrap,\n",
    "               'random_state': [12345]}\n",
    "forest_rs = RandomizedSearchCV(rfc, \n",
    "                        forest_param, \n",
    "                        n_iter = 100, \n",
    "                        cv = 3, \n",
    "                        verbose = 1, \n",
    "                        n_jobs=-1, \n",
    "                        random_state=0)\n",
    "forest_rs.fit(features_train, target_train)\n",
    "best_forest = forest_rs.best_estimator_\n",
    "# выведем accuracy на экран\n",
    "print(\"Accuracy наилучшей модели на валидационной выборке:\", accuracy_score(target_valid, best_forest.predict(features_valid)))"
   ]
  },
  {
   "cell_type": "markdown",
   "metadata": {},
   "source": [
    "Создадим модель логистической регрессии и найдем лучшие параметры через поиск по сетке "
   ]
  },
  {
   "cell_type": "code",
   "execution_count": 9,
   "metadata": {},
   "outputs": [
    {
     "name": "stdout",
     "output_type": "stream",
     "text": [
      "Fitting 3 folds for each of 792 candidates, totalling 2376 fits\n"
     ]
    },
    {
     "name": "stderr",
     "output_type": "stream",
     "text": [
      "[Parallel(n_jobs=-1)]: Using backend LokyBackend with 4 concurrent workers.\n",
      "[Parallel(n_jobs=-1)]: Done 280 tasks      | elapsed:    1.0s\n"
     ]
    },
    {
     "name": "stdout",
     "output_type": "stream",
     "text": [
      "Accuracy наилучшей модели на валидационной выборке: 0.7402799377916018\n"
     ]
    },
    {
     "name": "stderr",
     "output_type": "stream",
     "text": [
      "[Parallel(n_jobs=-1)]: Done 2376 out of 2376 | elapsed:    8.4s finished\n"
     ]
    }
   ],
   "source": [
    "lr = LogisticRegression()\n",
    "param_grid = [    \n",
    "    {'penalty' : ['l1', 'l2'],\n",
    "    'C': np.arange(1e-02, 1, 0.01),\n",
    "    'solver' : ['liblinear'],\n",
    "    'random_state': [12345],\n",
    "    'max_iter' : [100, 1000, 2500, 5000]}\n",
    "]\n",
    "\n",
    "gs= GridSearchCV(lr, param_grid = param_grid, cv = 3, verbose=True, n_jobs=-1)\n",
    "\n",
    "gs.fit(features_train, target_train)\n",
    "results = gs.cv_results_\n",
    "best_lr = gs.best_estimator_\n",
    "# выведем accuracy на экран\n",
    "print(\"Accuracy наилучшей модели на валидационной выборке:\", accuracy_score(target_valid, best_lr.predict(features_valid)))"
   ]
  },
  {
   "cell_type": "markdown",
   "metadata": {},
   "source": [
    "### Вывод"
   ]
  },
  {
   "cell_type": "markdown",
   "metadata": {},
   "source": [
    "По результатам исследования моделей мы видим, что наилучшие результаты показала модель случайного леса, за ней с небольшим отставанием идет дерево решений, а вот линейная регрессия показала себя хуже всего и не перешла порог accuracy в 0.75"
   ]
  },
  {
   "cell_type": "markdown",
   "metadata": {},
   "source": [
    "## Проверим модель на тестовой выборке"
   ]
  },
  {
   "cell_type": "markdown",
   "metadata": {},
   "source": [
    "Проверим модели на тестовой выборке и оценим качество обучения \n",
    "\n",
    "Построим таблицу сводную таблицу "
   ]
  },
  {
   "cell_type": "code",
   "execution_count": 10,
   "metadata": {
    "scrolled": true
   },
   "outputs": [
    {
     "data": {
      "text/html": [
       "<div>\n",
       "<style scoped>\n",
       "    .dataframe tbody tr th:only-of-type {\n",
       "        vertical-align: middle;\n",
       "    }\n",
       "\n",
       "    .dataframe tbody tr th {\n",
       "        vertical-align: top;\n",
       "    }\n",
       "\n",
       "    .dataframe thead th {\n",
       "        text-align: right;\n",
       "    }\n",
       "</style>\n",
       "<table border=\"1\" class=\"dataframe\">\n",
       "  <thead>\n",
       "    <tr style=\"text-align: right;\">\n",
       "      <th></th>\n",
       "      <th>model</th>\n",
       "      <th>valid</th>\n",
       "      <th>test</th>\n",
       "    </tr>\n",
       "  </thead>\n",
       "  <tbody>\n",
       "    <tr>\n",
       "      <td>0</td>\n",
       "      <td>tree</td>\n",
       "      <td>0.790047</td>\n",
       "      <td>0.794712</td>\n",
       "    </tr>\n",
       "    <tr>\n",
       "      <td>1</td>\n",
       "      <td>forest</td>\n",
       "      <td>0.799378</td>\n",
       "      <td>0.796267</td>\n",
       "    </tr>\n",
       "    <tr>\n",
       "      <td>2</td>\n",
       "      <td>logreg</td>\n",
       "      <td>0.740280</td>\n",
       "      <td>0.755832</td>\n",
       "    </tr>\n",
       "  </tbody>\n",
       "</table>\n",
       "</div>"
      ],
      "text/plain": [
       "    model     valid      test\n",
       "0    tree  0.790047  0.794712\n",
       "1  forest  0.799378  0.796267\n",
       "2  logreg  0.740280  0.755832"
      ]
     },
     "execution_count": 10,
     "metadata": {},
     "output_type": "execute_result"
    }
   ],
   "source": [
    "data = [\n",
    "    ['tree', accuracy_score(target_valid, best_tree.predict(features_valid))\n",
    "     , accuracy_score(target_test, best_tree.predict(features_test))],\n",
    "    ['forest', accuracy_score(target_valid, best_forest.predict(features_valid))\n",
    "     , accuracy_score(target_test, best_forest.predict(features_test))],\n",
    "    ['logreg', accuracy_score(target_valid, best_lr.predict(features_valid))\n",
    "     , accuracy_score(target_test, best_lr.predict(features_test))]\n",
    "]\n",
    "columns = ['model', 'valid', 'test']\n",
    "pivot_ml = pd.DataFrame(data=data, columns=columns)\n",
    "pivot_ml"
   ]
  },
  {
   "cell_type": "markdown",
   "metadata": {},
   "source": [
    "Построим для наглядности график"
   ]
  },
  {
   "cell_type": "code",
   "execution_count": 11,
   "metadata": {},
   "outputs": [
    {
     "data": {
      "text/plain": [
       "<matplotlib.axes._subplots.AxesSubplot at 0x1dacff0abc8>"
      ]
     },
     "execution_count": 11,
     "metadata": {},
     "output_type": "execute_result"
    },
    {
     "data": {
      "image/png": "[encoded data removed]",
      "text/plain": [
       "<Figure size 432x288 with 2 Axes>"
      ]
     },
     "metadata": {
      "needs_background": "light"
     },
     "output_type": "display_data"
    }
   ],
   "source": [
    "sns.heatmap(pivot_ml[['valid', 'test']], annot=True)"
   ]
  },
  {
   "cell_type": "markdown",
   "metadata": {},
   "source": [
    "### Вывод"
   ]
  },
  {
   "cell_type": "markdown",
   "metadata": {},
   "source": [
    "Мы видим что модели обучились хорошо и нет следов переобучения или недообучения"
   ]
  },
  {
   "cell_type": "markdown",
   "metadata": {},
   "source": [
    "## (бонус) Проверим модели на адекватность"
   ]
  },
  {
   "cell_type": "markdown",
   "metadata": {},
   "source": [
    "Создадим константную модель и проверим наши модели"
   ]
  },
  {
   "cell_type": "code",
   "execution_count": 12,
   "metadata": {},
   "outputs": [
    {
     "data": {
      "text/plain": [
       "DummyClassifier(constant=None, random_state=42, strategy='most_frequent')"
      ]
     },
     "execution_count": 12,
     "metadata": {},
     "output_type": "execute_result"
    }
   ],
   "source": [
    "clf_dummy = DummyClassifier(strategy='most_frequent', random_state=42)\n",
    "clf_dummy.fit(features_train, target_train)"
   ]
  },
  {
   "cell_type": "markdown",
   "metadata": {},
   "source": [
    "Протестируем наши модели, если показатели accuracy костантной модели будет выше, то модель не адекватна\n",
    "\n",
    "Напишем функцию для сравнения значений"
   ]
  },
  {
   "cell_type": "code",
   "execution_count": 13,
   "metadata": {},
   "outputs": [],
   "source": [
    "def neodekvat(test, const):\n",
    "    if test > const:\n",
    "        print(\"Accuracy на тестовой выборке выше, модель адекватна\",\n",
    "              '\\nAccuracy тест =', test,\n",
    "              '\\nAccuracy константы =', const\n",
    "             )\n",
    "    else:\n",
    "        print(\"Accuracy на тестовой выборке ниже, модель неадекватна\",\n",
    "              '\\nAccuracy тест =', test,\n",
    "              '\\nAccuracy константы =', const\n",
    "             )   "
   ]
  },
  {
   "cell_type": "markdown",
   "metadata": {},
   "source": [
    "Проверим дерево решений"
   ]
  },
  {
   "cell_type": "code",
   "execution_count": 14,
   "metadata": {},
   "outputs": [
    {
     "name": "stdout",
     "output_type": "stream",
     "text": [
      "Accuracy на тестовой выборке выше, модель адекватна \n",
      "Accuracy тест = 0.7947122861586314 \n",
      "Accuracy константы = 0.7060653188180405\n"
     ]
    }
   ],
   "source": [
    "neodekvat(accuracy_score(target_test, best_tree.predict(features_test)),\n",
    "          accuracy_score(target_test, clf_dummy.predict(features_test)))"
   ]
  },
  {
   "cell_type": "markdown",
   "metadata": {},
   "source": [
    "Случайный лес"
   ]
  },
  {
   "cell_type": "code",
   "execution_count": 15,
   "metadata": {},
   "outputs": [
    {
     "name": "stdout",
     "output_type": "stream",
     "text": [
      "Accuracy на тестовой выборке выше, модель адекватна \n",
      "Accuracy тест = 0.7962674961119751 \n",
      "Accuracy константы = 0.7060653188180405\n"
     ]
    }
   ],
   "source": [
    "neodekvat(accuracy_score(target_test, best_forest.predict(features_test)),\n",
    "          accuracy_score(target_test, clf_dummy.predict(features_test)))"
   ]
  },
  {
   "cell_type": "markdown",
   "metadata": {},
   "source": [
    "И логистическую регрессию"
   ]
  },
  {
   "cell_type": "code",
   "execution_count": 16,
   "metadata": {},
   "outputs": [
    {
     "name": "stdout",
     "output_type": "stream",
     "text": [
      "Accuracy на тестовой выборке выше, модель адекватна \n",
      "Accuracy тест = 0.7558320373250389 \n",
      "Accuracy константы = 0.7060653188180405\n"
     ]
    }
   ],
   "source": [
    "neodekvat(accuracy_score(target_test, best_lr.predict(features_test)),\n",
    "          accuracy_score(target_test, clf_dummy.predict(features_test)))"
   ]
  },
  {
   "cell_type": "markdown",
   "metadata": {},
   "source": [
    "Все модели прошли проверку на адекватность!"
   ]
  },
  {
   "cell_type": "markdown",
   "metadata": {},
   "source": [
    "## Общий вывод"
   ]
  },
  {
   "cell_type": "markdown",
   "metadata": {},
   "source": [
    "По результатам исследования мы можем выбрать одну из 2х моделей, либо дерево решений либо случайный лес. При выборе из них мы можем руководствоваться фактором времени работы моделей. При том, что дерево решений показывает предсказывает чуть-чуть хуже случайного леса, работает оно значительно быстрее, чем и выигрывает у случайного леса."
   ]
  }
 ],
 "metadata": {
  "ExecuteTimeLog": [
   {
    "duration": 802,
    "start_time": "2021-09-16T08:19:25.345Z"
   },
   {
    "duration": 21,
    "start_time": "2021-09-16T08:20:25.101Z"
   },
   {
    "duration": 37,
    "start_time": "2021-09-16T08:20:35.941Z"
   },
   {
    "duration": 621,
    "start_time": "2021-09-16T08:22:19.065Z"
   },
   {
    "duration": 46,
    "start_time": "2021-09-16T08:26:05.400Z"
   },
   {
    "duration": 8,
    "start_time": "2021-09-16T08:26:34.440Z"
   },
   {
    "duration": 36,
    "start_time": "2021-09-16T08:26:35.725Z"
   },
   {
    "duration": 546,
    "start_time": "2021-09-16T08:27:23.368Z"
   },
   {
    "duration": 14,
    "start_time": "2021-09-16T08:27:38.432Z"
   },
   {
    "duration": 400,
    "start_time": "2021-09-16T08:27:40.852Z"
   },
   {
    "duration": 4,
    "start_time": "2021-09-16T08:28:24.516Z"
   },
   {
    "duration": 23,
    "start_time": "2021-09-16T08:28:51.868Z"
   },
   {
    "duration": 21,
    "start_time": "2021-09-16T08:29:05.969Z"
   },
   {
    "duration": 135,
    "start_time": "2021-09-16T08:31:31.232Z"
   },
   {
    "duration": 1031,
    "start_time": "2021-09-18T05:54:33.294Z"
   },
   {
    "duration": 1003,
    "start_time": "2021-09-18T05:54:38.522Z"
   },
   {
    "duration": 31,
    "start_time": "2021-09-18T05:54:39.527Z"
   },
   {
    "duration": 8,
    "start_time": "2021-09-18T05:54:39.560Z"
   },
   {
    "duration": 27,
    "start_time": "2021-09-18T05:54:39.570Z"
   },
   {
    "duration": 240,
    "start_time": "2021-09-18T05:54:39.599Z"
   },
   {
    "duration": 18,
    "start_time": "2021-09-18T05:54:39.841Z"
   },
   {
    "duration": 7,
    "start_time": "2021-09-18T05:57:33.709Z"
   },
   {
    "duration": 468,
    "start_time": "2021-09-18T05:59:08.229Z"
   },
   {
    "duration": 286,
    "start_time": "2021-09-18T06:02:44.047Z"
   },
   {
    "duration": 14,
    "start_time": "2021-09-18T06:02:58.476Z"
   },
   {
    "duration": 9,
    "start_time": "2021-09-18T06:03:07.758Z"
   },
   {
    "duration": 14,
    "start_time": "2021-09-18T06:03:09.044Z"
   },
   {
    "duration": 10,
    "start_time": "2021-09-18T06:04:57.607Z"
   },
   {
    "duration": 7,
    "start_time": "2021-09-18T06:05:02.026Z"
   },
   {
    "duration": 1022,
    "start_time": "2021-09-18T06:06:19.322Z"
   },
   {
    "duration": 33,
    "start_time": "2021-09-18T06:06:20.346Z"
   },
   {
    "duration": 8,
    "start_time": "2021-09-18T06:06:20.381Z"
   },
   {
    "duration": 26,
    "start_time": "2021-09-18T06:06:20.391Z"
   },
   {
    "duration": 243,
    "start_time": "2021-09-18T06:06:20.419Z"
   },
   {
    "duration": 26,
    "start_time": "2021-09-18T06:06:20.664Z"
   },
   {
    "duration": 7,
    "start_time": "2021-09-18T06:06:20.692Z"
   },
   {
    "duration": 15,
    "start_time": "2021-09-18T06:06:20.701Z"
   },
   {
    "duration": 33,
    "start_time": "2021-09-18T06:10:18.102Z"
   },
   {
    "duration": 34,
    "start_time": "2021-09-18T06:10:42.110Z"
   },
   {
    "duration": 1114,
    "start_time": "2021-09-18T06:10:51.797Z"
   },
   {
    "duration": 33,
    "start_time": "2021-09-18T06:10:52.914Z"
   },
   {
    "duration": 9,
    "start_time": "2021-09-18T06:10:52.950Z"
   },
   {
    "duration": 50,
    "start_time": "2021-09-18T06:10:52.961Z"
   },
   {
    "duration": 243,
    "start_time": "2021-09-18T06:10:53.013Z"
   },
   {
    "duration": 31,
    "start_time": "2021-09-18T06:10:53.259Z"
   },
   {
    "duration": 367,
    "start_time": "2021-09-18T06:15:14.891Z"
   },
   {
    "duration": 3,
    "start_time": "2021-09-18T06:20:58.271Z"
   },
   {
    "duration": 5,
    "start_time": "2021-09-18T06:21:03.985Z"
   },
   {
    "duration": 23,
    "start_time": "2021-09-18T06:22:11.592Z"
   },
   {
    "duration": 22,
    "start_time": "2021-09-18T06:22:30.613Z"
   },
   {
    "duration": 22,
    "start_time": "2021-09-18T06:22:37.300Z"
   },
   {
    "duration": 21,
    "start_time": "2021-09-18T06:22:40.275Z"
   },
   {
    "duration": 30,
    "start_time": "2021-09-18T06:22:45.822Z"
   },
   {
    "duration": 29,
    "start_time": "2021-09-18T06:22:50.684Z"
   },
   {
    "duration": 23,
    "start_time": "2021-09-18T06:22:54.620Z"
   },
   {
    "duration": 37,
    "start_time": "2021-09-18T06:37:17.455Z"
   },
   {
    "duration": 36,
    "start_time": "2021-09-18T06:38:24.340Z"
   },
   {
    "duration": 1482,
    "start_time": "2021-09-20T18:53:38.893Z"
   },
   {
    "duration": 41,
    "start_time": "2021-09-20T18:53:40.378Z"
   },
   {
    "duration": 14,
    "start_time": "2021-09-20T18:53:40.424Z"
   },
   {
    "duration": 52,
    "start_time": "2021-09-20T18:53:40.441Z"
   },
   {
    "duration": 378,
    "start_time": "2021-09-20T18:53:40.515Z"
   },
   {
    "duration": 51,
    "start_time": "2021-09-20T18:53:40.896Z"
   },
   {
    "duration": 74,
    "start_time": "2021-09-20T18:53:40.950Z"
   },
   {
    "duration": 4,
    "start_time": "2021-09-20T18:54:14.093Z"
   },
   {
    "duration": 13,
    "start_time": "2021-09-20T18:54:21.041Z"
   },
   {
    "duration": 60,
    "start_time": "2021-09-20T18:54:22.445Z"
   },
   {
    "duration": 530,
    "start_time": "2021-09-20T18:54:23.269Z"
   },
   {
    "duration": 1598,
    "start_time": "2021-09-20T18:54:24.045Z"
   },
   {
    "duration": 16,
    "start_time": "2021-09-20T18:54:44.425Z"
   },
   {
    "duration": 53,
    "start_time": "2021-09-20T18:54:46.069Z"
   },
   {
    "duration": 372,
    "start_time": "2021-09-20T18:54:46.581Z"
   },
   {
    "duration": 42,
    "start_time": "2021-09-20T18:54:47.021Z"
   },
   {
    "duration": 1469,
    "start_time": "2021-09-22T09:21:26.509Z"
   },
   {
    "duration": 40,
    "start_time": "2021-09-22T09:21:27.981Z"
   },
   {
    "duration": 12,
    "start_time": "2021-09-22T09:21:30.483Z"
   },
   {
    "duration": 59,
    "start_time": "2021-09-22T09:21:32.609Z"
   },
   {
    "duration": 387,
    "start_time": "2021-09-22T09:21:33.356Z"
   },
   {
    "duration": 1722,
    "start_time": "2021-09-22T09:46:36.395Z"
   },
   {
    "duration": 38,
    "start_time": "2021-09-22T09:46:56.200Z"
   },
   {
    "duration": 49,
    "start_time": "2021-09-22T09:46:59.979Z"
   },
   {
    "duration": 38,
    "start_time": "2021-09-22T09:47:03.104Z"
   },
   {
    "duration": 45,
    "start_time": "2021-09-22T09:47:07.984Z"
   },
   {
    "duration": 48,
    "start_time": "2021-09-22T09:47:12.156Z"
   },
   {
    "duration": 51,
    "start_time": "2021-09-22T09:47:19.007Z"
   },
   {
    "duration": 51,
    "start_time": "2021-09-22T09:47:22.992Z"
   },
   {
    "duration": 57,
    "start_time": "2021-09-22T09:47:31.075Z"
   },
   {
    "duration": 50,
    "start_time": "2021-09-22T09:47:40.195Z"
   },
   {
    "duration": 50,
    "start_time": "2021-09-22T09:47:52.616Z"
   },
   {
    "duration": 49,
    "start_time": "2021-09-22T09:47:57.629Z"
   },
   {
    "duration": 688,
    "start_time": "2021-09-22T10:22:38.892Z"
   },
   {
    "duration": 12176,
    "start_time": "2021-09-22T10:23:49.163Z"
   },
   {
    "duration": 13223,
    "start_time": "2021-09-22T10:28:05.709Z"
   },
   {
    "duration": 472,
    "start_time": "2021-09-22T10:32:00.567Z"
   },
   {
    "duration": 337,
    "start_time": "2021-09-22T10:32:31.512Z"
   },
   {
    "duration": 788,
    "start_time": "2021-09-22T10:33:40.274Z"
   },
   {
    "duration": 29,
    "start_time": "2021-09-22T10:33:57.776Z"
   },
   {
    "duration": 11,
    "start_time": "2021-09-22T10:34:00.337Z"
   },
   {
    "duration": 49,
    "start_time": "2021-09-22T10:34:04.000Z"
   },
   {
    "duration": 899,
    "start_time": "2021-09-22T10:34:07.224Z"
   },
   {
    "duration": 46,
    "start_time": "2021-09-22T10:34:56.154Z"
   },
   {
    "duration": 327,
    "start_time": "2021-09-22T10:35:05.227Z"
   },
   {
    "duration": 609,
    "start_time": "2021-09-22T10:35:10.595Z"
   },
   {
    "duration": -6880474,
    "start_time": "2021-09-22T12:32:08.703Z"
   },
   {
    "duration": -6880475,
    "start_time": "2021-09-22T12:32:08.705Z"
   },
   {
    "duration": -6881460,
    "start_time": "2021-09-22T12:33:09.379Z"
   },
   {
    "duration": 1346,
    "start_time": "2021-09-22T10:42:24.717Z"
   },
   {
    "duration": 41,
    "start_time": "2021-09-22T10:42:26.066Z"
   },
   {
    "duration": 13,
    "start_time": "2021-09-22T10:42:26.110Z"
   },
   {
    "duration": 53,
    "start_time": "2021-09-22T10:42:26.126Z"
   },
   {
    "duration": 357,
    "start_time": "2021-09-22T10:42:26.181Z"
   },
   {
    "duration": 47,
    "start_time": "2021-09-22T10:42:26.541Z"
   },
   {
    "duration": 12147,
    "start_time": "2021-09-22T10:42:26.590Z"
   },
   {
    "duration": 45078,
    "start_time": "2021-09-22T10:42:38.740Z"
   },
   {
    "duration": -6881621,
    "start_time": "2021-09-22T12:38:05.441Z"
   },
   {
    "duration": 313777,
    "start_time": "2021-09-22T10:43:26.512Z"
   },
   {
    "duration": 451765,
    "start_time": "2021-09-22T10:49:27.573Z"
   },
   {
    "duration": 390,
    "start_time": "2021-09-22T13:39:37.276Z"
   },
   {
    "duration": 1453,
    "start_time": "2021-09-22T13:39:48.743Z"
   },
   {
    "duration": 39,
    "start_time": "2021-09-22T13:39:50.198Z"
   },
   {
    "duration": 18,
    "start_time": "2021-09-22T13:39:50.240Z"
   },
   {
    "duration": 51,
    "start_time": "2021-09-22T13:39:50.261Z"
   },
   {
    "duration": 351,
    "start_time": "2021-09-22T13:39:50.315Z"
   },
   {
    "duration": 57,
    "start_time": "2021-09-22T13:39:50.668Z"
   },
   {
    "duration": 12054,
    "start_time": "2021-09-22T13:39:50.727Z"
   },
   {
    "duration": 438932,
    "start_time": "2021-09-22T13:40:02.784Z"
   },
   {
    "duration": 38,
    "start_time": "2021-09-22T13:47:21.719Z"
   },
   {
    "duration": 13,
    "start_time": "2021-09-22T13:47:21.760Z"
   },
   {
    "duration": 136,
    "start_time": "2021-09-22T13:50:37.558Z"
   },
   {
    "duration": 114,
    "start_time": "2021-09-22T13:51:41.232Z"
   },
   {
    "duration": 125,
    "start_time": "2021-09-22T13:51:56.723Z"
   },
   {
    "duration": 729,
    "start_time": "2021-09-22T13:52:06.291Z"
   },
   {
    "duration": 5553,
    "start_time": "2021-09-22T13:52:54.830Z"
   },
   {
    "duration": 5118,
    "start_time": "2021-09-22T14:02:12.131Z"
   },
   {
    "duration": 4722,
    "start_time": "2021-09-22T14:02:48.312Z"
   },
   {
    "duration": 4593,
    "start_time": "2021-09-22T14:03:20.333Z"
   },
   {
    "duration": 4731,
    "start_time": "2021-09-22T14:03:52.324Z"
   },
   {
    "duration": 318,
    "start_time": "2021-09-22T14:05:17.648Z"
   },
   {
    "duration": 327,
    "start_time": "2021-09-22T14:05:48.647Z"
   },
   {
    "duration": 2544087,
    "start_time": "2021-09-22T14:06:12.481Z"
   },
   {
    "duration": 147338,
    "start_time": "2021-09-22T15:05:47.494Z"
   },
   {
    "duration": 298,
    "start_time": "2021-09-22T15:08:45.684Z"
   },
   {
    "duration": 74,
    "start_time": "2021-09-22T15:10:17.280Z"
   },
   {
    "duration": 3989,
    "start_time": "2021-09-22T15:12:05.957Z"
   },
   {
    "duration": 4040,
    "start_time": "2021-09-22T15:12:24.569Z"
   },
   {
    "duration": 4006,
    "start_time": "2021-09-22T15:12:33.705Z"
   },
   {
    "duration": 302,
    "start_time": "2021-09-22T15:14:23.819Z"
   },
   {
    "duration": 1164,
    "start_time": "2021-09-22T17:57:00.076Z"
   },
   {
    "duration": 32,
    "start_time": "2021-09-22T17:57:01.242Z"
   },
   {
    "duration": 8,
    "start_time": "2021-09-22T17:57:01.276Z"
   },
   {
    "duration": 51,
    "start_time": "2021-09-22T17:57:01.286Z"
   },
   {
    "duration": 244,
    "start_time": "2021-09-22T17:57:01.338Z"
   },
   {
    "duration": 28,
    "start_time": "2021-09-22T17:57:01.584Z"
   },
   {
    "duration": 10971,
    "start_time": "2021-09-22T17:57:01.614Z"
   },
   {
    "duration": 3977,
    "start_time": "2021-09-22T17:57:12.587Z"
   },
   {
    "duration": -6882212,
    "start_time": "2021-09-22T19:51:58.778Z"
   },
   {
    "duration": -6882212,
    "start_time": "2021-09-22T19:51:58.780Z"
   },
   {
    "duration": -6882213,
    "start_time": "2021-09-22T19:51:58.782Z"
   },
   {
    "duration": -6882213,
    "start_time": "2021-09-22T19:51:58.783Z"
   },
   {
    "duration": -6882214,
    "start_time": "2021-09-22T19:51:58.785Z"
   },
   {
    "duration": -6882214,
    "start_time": "2021-09-22T19:51:58.786Z"
   },
   {
    "duration": 305,
    "start_time": "2021-09-22T17:57:27.292Z"
   },
   {
    "duration": 2239,
    "start_time": "2021-09-22T17:58:09.737Z"
   },
   {
    "duration": 2163,
    "start_time": "2021-09-22T17:58:33.387Z"
   },
   {
    "duration": 304291,
    "start_time": "2021-09-22T17:58:44.944Z"
   },
   {
    "duration": 1850,
    "start_time": "2021-09-23T09:23:14.905Z"
   },
   {
    "duration": 40,
    "start_time": "2021-09-23T09:23:16.757Z"
   },
   {
    "duration": 11,
    "start_time": "2021-09-23T09:23:19.545Z"
   },
   {
    "duration": 59,
    "start_time": "2021-09-23T09:23:20.800Z"
   },
   {
    "duration": 332,
    "start_time": "2021-09-23T09:23:22.355Z"
   },
   {
    "duration": 45,
    "start_time": "2021-09-23T09:23:23.731Z"
   },
   {
    "duration": 11903,
    "start_time": "2021-09-23T09:23:27.975Z"
   },
   {
    "duration": 7,
    "start_time": "2021-09-23T09:24:06.418Z"
   },
   {
    "duration": 465,
    "start_time": "2021-09-23T09:24:23.674Z"
   },
   {
    "duration": 5,
    "start_time": "2021-09-23T09:24:44.616Z"
   },
   {
    "duration": 306,
    "start_time": "2021-09-23T09:26:09.095Z"
   },
   {
    "duration": 294,
    "start_time": "2021-09-23T09:26:28.295Z"
   },
   {
    "duration": 12,
    "start_time": "2021-09-23T09:26:49.903Z"
   },
   {
    "duration": 6,
    "start_time": "2021-09-23T09:27:09.442Z"
   },
   {
    "duration": 8,
    "start_time": "2021-09-23T09:33:12.950Z"
   },
   {
    "duration": 8,
    "start_time": "2021-09-23T09:43:30.771Z"
   },
   {
    "duration": 560,
    "start_time": "2021-09-23T09:43:35.702Z"
   },
   {
    "duration": 7,
    "start_time": "2021-09-23T09:44:18.092Z"
   },
   {
    "duration": 394,
    "start_time": "2021-09-23T09:46:06.058Z"
   },
   {
    "duration": 359,
    "start_time": "2021-09-23T09:46:35.403Z"
   },
   {
    "duration": 322,
    "start_time": "2021-09-23T09:49:42.339Z"
   },
   {
    "duration": 12653,
    "start_time": "2021-09-23T09:50:36.998Z"
   },
   {
    "duration": 309,
    "start_time": "2021-09-23T09:50:51.710Z"
   },
   {
    "duration": 303,
    "start_time": "2021-09-23T09:51:06.515Z"
   },
   {
    "duration": 1924,
    "start_time": "2021-09-23T09:51:19.361Z"
   },
   {
    "duration": 39,
    "start_time": "2021-09-23T09:51:21.289Z"
   },
   {
    "duration": 1318,
    "start_time": "2021-09-23T09:51:21.331Z"
   },
   {
    "duration": 743,
    "start_time": "2021-09-23T09:51:22.652Z"
   },
   {
    "duration": 419,
    "start_time": "2021-09-23T09:51:23.397Z"
   },
   {
    "duration": 393,
    "start_time": "2021-09-23T09:51:23.819Z"
   },
   {
    "duration": 9,
    "start_time": "2021-09-23T09:51:24.214Z"
   },
   {
    "duration": 31,
    "start_time": "2021-09-23T09:51:24.226Z"
   },
   {
    "duration": 3139,
    "start_time": "2021-09-23T09:51:24.260Z"
   },
   {
    "duration": 477,
    "start_time": "2021-09-23T09:51:27.402Z"
   },
   {
    "duration": -6880015,
    "start_time": "2021-09-23T11:46:07.897Z"
   },
   {
    "duration": -6880017,
    "start_time": "2021-09-23T11:46:07.901Z"
   },
   {
    "duration": -6880016,
    "start_time": "2021-09-23T11:46:07.903Z"
   },
   {
    "duration": -6880018,
    "start_time": "2021-09-23T11:46:07.907Z"
   },
   {
    "duration": -6880017,
    "start_time": "2021-09-23T11:46:07.908Z"
   },
   {
    "duration": -6880016,
    "start_time": "2021-09-23T11:46:07.909Z"
   },
   {
    "duration": -6880111,
    "start_time": "2021-09-23T11:46:08.007Z"
   },
   {
    "duration": -6880124,
    "start_time": "2021-09-23T11:46:08.022Z"
   },
   {
    "duration": -6880126,
    "start_time": "2021-09-23T11:46:08.026Z"
   },
   {
    "duration": 13,
    "start_time": "2021-09-23T09:52:50.639Z"
   },
   {
    "duration": 16,
    "start_time": "2021-09-23T09:53:19.619Z"
   },
   {
    "duration": 432,
    "start_time": "2021-09-23T09:54:01.928Z"
   },
   {
    "duration": 419,
    "start_time": "2021-09-23T09:54:16.424Z"
   },
   {
    "duration": 74,
    "start_time": "2021-09-23T09:54:57.304Z"
   },
   {
    "duration": 2086,
    "start_time": "2021-09-24T11:54:17.376Z"
   },
   {
    "duration": 59,
    "start_time": "2021-09-24T11:54:19.466Z"
   },
   {
    "duration": 11,
    "start_time": "2021-09-24T11:54:19.530Z"
   },
   {
    "duration": 13,
    "start_time": "2021-09-24T11:54:19.545Z"
   },
   {
    "duration": 87,
    "start_time": "2021-09-24T11:54:19.561Z"
   },
   {
    "duration": 348,
    "start_time": "2021-09-24T11:54:19.651Z"
   },
   {
    "duration": 17,
    "start_time": "2021-09-24T11:54:20.002Z"
   },
   {
    "duration": 10,
    "start_time": "2021-09-24T11:54:20.022Z"
   },
   {
    "duration": 49,
    "start_time": "2021-09-24T11:54:20.036Z"
   },
   {
    "duration": 12353,
    "start_time": "2021-09-24T11:54:20.087Z"
   },
   {
    "duration": 11678,
    "start_time": "2021-09-24T11:54:32.442Z"
   },
   {
    "duration": -6881358,
    "start_time": "2021-09-24T13:49:25.481Z"
   },
   {
    "duration": -6881362,
    "start_time": "2021-09-24T13:49:25.486Z"
   },
   {
    "duration": -6881363,
    "start_time": "2021-09-24T13:49:25.489Z"
   },
   {
    "duration": -6881367,
    "start_time": "2021-09-24T13:49:25.494Z"
   },
   {
    "duration": -6881368,
    "start_time": "2021-09-24T13:49:25.497Z"
   },
   {
    "duration": -6881370,
    "start_time": "2021-09-24T13:49:25.500Z"
   },
   {
    "duration": 62,
    "start_time": "2021-09-24T11:57:38.115Z"
   },
   {
    "duration": 43,
    "start_time": "2021-09-24T11:57:44.800Z"
   },
   {
    "duration": 34,
    "start_time": "2021-09-24T11:57:49.472Z"
   },
   {
    "duration": 32,
    "start_time": "2021-09-24T11:57:54.253Z"
   },
   {
    "duration": 33,
    "start_time": "2021-09-24T11:57:56.537Z"
   },
   {
    "duration": 51,
    "start_time": "2021-09-24T11:58:09.325Z"
   },
   {
    "duration": 31,
    "start_time": "2021-09-24T11:58:25.633Z"
   },
   {
    "duration": 40,
    "start_time": "2021-09-24T11:58:43.413Z"
   },
   {
    "duration": 39,
    "start_time": "2021-09-24T11:58:50.161Z"
   },
   {
    "duration": 38,
    "start_time": "2021-09-24T11:58:56.289Z"
   },
   {
    "duration": 53,
    "start_time": "2021-09-24T11:59:02.264Z"
   },
   {
    "duration": 5,
    "start_time": "2021-09-24T12:06:12.978Z"
   },
   {
    "duration": 339,
    "start_time": "2021-09-24T12:07:51.790Z"
   },
   {
    "duration": 400,
    "start_time": "2021-09-24T12:08:47.362Z"
   },
   {
    "duration": 465,
    "start_time": "2021-09-24T12:09:48.746Z"
   },
   {
    "duration": 405,
    "start_time": "2021-09-24T12:10:47.856Z"
   },
   {
    "duration": 544,
    "start_time": "2021-09-24T12:11:11.332Z"
   },
   {
    "duration": 435,
    "start_time": "2021-09-24T12:11:20.493Z"
   },
   {
    "duration": 416,
    "start_time": "2021-09-24T12:11:31.987Z"
   },
   {
    "duration": 390,
    "start_time": "2021-09-24T12:15:07.497Z"
   },
   {
    "duration": 605,
    "start_time": "2021-09-24T12:16:30.756Z"
   },
   {
    "duration": 413,
    "start_time": "2021-09-24T12:19:04.749Z"
   },
   {
    "duration": 12074,
    "start_time": "2021-09-24T12:20:48.768Z"
   },
   {
    "duration": 12244,
    "start_time": "2021-09-24T12:21:18.696Z"
   },
   {
    "duration": 11,
    "start_time": "2021-09-24T12:30:13.101Z"
   },
   {
    "duration": 52,
    "start_time": "2021-09-24T12:30:17.744Z"
   },
   {
    "duration": 10,
    "start_time": "2021-09-24T12:30:59.570Z"
   },
   {
    "duration": 13,
    "start_time": "2021-09-24T12:31:49.962Z"
   },
   {
    "duration": 342,
    "start_time": "2021-09-24T12:31:53.419Z"
   },
   {
    "duration": 11,
    "start_time": "2021-09-24T12:34:06.794Z"
   },
   {
    "duration": 52,
    "start_time": "2021-09-24T12:34:07.455Z"
   },
   {
    "duration": 466,
    "start_time": "2021-09-24T12:34:18.181Z"
   },
   {
    "duration": 52,
    "start_time": "2021-09-24T12:35:32.793Z"
   },
   {
    "duration": 398,
    "start_time": "2021-09-24T12:35:38.088Z"
   },
   {
    "duration": 401,
    "start_time": "2021-09-24T12:35:45.751Z"
   },
   {
    "duration": 421,
    "start_time": "2021-09-24T12:35:50.802Z"
   },
   {
    "duration": 55,
    "start_time": "2021-09-24T12:36:00.519Z"
   },
   {
    "duration": 397,
    "start_time": "2021-09-24T12:36:04.059Z"
   },
   {
    "duration": 52,
    "start_time": "2021-09-24T12:36:12.214Z"
   },
   {
    "duration": 53,
    "start_time": "2021-09-24T12:36:19.647Z"
   },
   {
    "duration": 61,
    "start_time": "2021-09-24T12:36:24.553Z"
   },
   {
    "duration": 51,
    "start_time": "2021-09-24T12:36:27.418Z"
   },
   {
    "duration": 50,
    "start_time": "2021-09-24T12:36:31.277Z"
   },
   {
    "duration": 52,
    "start_time": "2021-09-24T12:36:35.388Z"
   },
   {
    "duration": 1085,
    "start_time": "2021-09-24T12:37:23.641Z"
   },
   {
    "duration": 6,
    "start_time": "2021-09-24T12:37:30.721Z"
   },
   {
    "duration": 1334,
    "start_time": "2021-09-24T12:38:44.962Z"
   },
   {
    "duration": 1013,
    "start_time": "2021-09-24T12:38:58.371Z"
   },
   {
    "duration": 5,
    "start_time": "2021-09-24T12:39:00.982Z"
   },
   {
    "duration": 154,
    "start_time": "2021-09-24T12:40:21.102Z"
   },
   {
    "duration": 158,
    "start_time": "2021-09-24T12:41:08.697Z"
   },
   {
    "duration": 170,
    "start_time": "2021-09-24T12:41:24.867Z"
   },
   {
    "duration": 167,
    "start_time": "2021-09-24T12:41:28.327Z"
   },
   {
    "duration": 484,
    "start_time": "2021-09-24T12:41:32.358Z"
   },
   {
    "duration": 166,
    "start_time": "2021-09-24T12:41:35.862Z"
   },
   {
    "duration": 158,
    "start_time": "2021-09-24T12:41:41.777Z"
   },
   {
    "duration": 165,
    "start_time": "2021-09-24T12:41:47.166Z"
   },
   {
    "duration": 181,
    "start_time": "2021-09-24T12:41:51.320Z"
   },
   {
    "duration": 172,
    "start_time": "2021-09-24T12:41:55.027Z"
   },
   {
    "duration": 164,
    "start_time": "2021-09-24T12:41:57.904Z"
   },
   {
    "duration": 165,
    "start_time": "2021-09-24T12:42:00.925Z"
   },
   {
    "duration": 165,
    "start_time": "2021-09-24T12:42:05.407Z"
   },
   {
    "duration": 169,
    "start_time": "2021-09-24T12:42:09.323Z"
   },
   {
    "duration": 174,
    "start_time": "2021-09-24T12:42:13.721Z"
   },
   {
    "duration": 235,
    "start_time": "2021-09-24T12:42:18.973Z"
   },
   {
    "duration": 1382,
    "start_time": "2021-09-24T12:44:38.428Z"
   },
   {
    "duration": 11,
    "start_time": "2021-09-24T12:45:13.529Z"
   },
   {
    "duration": 10,
    "start_time": "2021-09-24T12:46:05.636Z"
   },
   {
    "duration": 363,
    "start_time": "2021-09-24T12:47:39.999Z"
   },
   {
    "duration": 118,
    "start_time": "2021-09-24T12:48:05.545Z"
   },
   {
    "duration": 326,
    "start_time": "2021-09-24T12:48:15.374Z"
   },
   {
    "duration": 370,
    "start_time": "2021-09-24T12:48:31.820Z"
   },
   {
    "duration": 1071,
    "start_time": "2021-09-24T12:50:05.229Z"
   },
   {
    "duration": 20,
    "start_time": "2021-09-24T12:51:14.909Z"
   },
   {
    "duration": 16,
    "start_time": "2021-09-24T12:52:03.984Z"
   },
   {
    "duration": 17,
    "start_time": "2021-09-24T12:52:07.871Z"
   },
   {
    "duration": 1003,
    "start_time": "2021-09-24T12:52:50.328Z"
   },
   {
    "duration": 4599,
    "start_time": "2021-09-24T12:54:07.910Z"
   },
   {
    "duration": 158765,
    "start_time": "2021-09-24T12:54:27.034Z"
   },
   {
    "duration": 13,
    "start_time": "2021-09-24T14:46:14.984Z"
   },
   {
    "duration": 380,
    "start_time": "2021-09-24T14:46:33.129Z"
   },
   {
    "duration": 19,
    "start_time": "2021-09-24T14:47:01.124Z"
   },
   {
    "duration": 22,
    "start_time": "2021-09-24T14:47:18.734Z"
   },
   {
    "duration": 1926,
    "start_time": "2021-09-24T15:02:20.418Z"
   },
   {
    "duration": 10,
    "start_time": "2021-09-24T15:02:30.531Z"
   },
   {
    "duration": 16,
    "start_time": "2021-09-24T15:03:30.902Z"
   },
   {
    "duration": 16,
    "start_time": "2021-09-24T15:03:39.581Z"
   },
   {
    "duration": 15,
    "start_time": "2021-09-24T15:04:14.326Z"
   },
   {
    "duration": 340,
    "start_time": "2021-09-24T15:05:32.399Z"
   },
   {
    "duration": 39,
    "start_time": "2021-09-24T15:05:42.195Z"
   },
   {
    "duration": 436444,
    "start_time": "2021-09-24T15:07:31.001Z"
   },
   {
    "duration": 25,
    "start_time": "2021-09-24T15:26:36.577Z"
   },
   {
    "duration": 5915,
    "start_time": "2021-09-24T15:28:20.738Z"
   },
   {
    "duration": 140539,
    "start_time": "2021-09-24T15:29:27.617Z"
   },
   {
    "duration": 380,
    "start_time": "2021-09-24T15:32:49.216Z"
   },
   {
    "duration": 3838,
    "start_time": "2021-09-24T15:32:54.348Z"
   },
   {
    "duration": 4,
    "start_time": "2021-09-24T15:35:03.943Z"
   },
   {
    "duration": 311,
    "start_time": "2021-09-24T15:35:22.378Z"
   },
   {
    "duration": 27,
    "start_time": "2021-09-24T15:48:22.969Z"
   },
   {
    "duration": 2814,
    "start_time": "2021-09-24T15:49:33.927Z"
   },
   {
    "duration": 4901,
    "start_time": "2021-09-24T15:49:43.041Z"
   },
   {
    "duration": 5034,
    "start_time": "2021-09-24T15:49:54.274Z"
   },
   {
    "duration": 4969,
    "start_time": "2021-09-24T15:57:33.470Z"
   },
   {
    "duration": 4861,
    "start_time": "2021-09-24T15:57:49.881Z"
   },
   {
    "duration": 4867,
    "start_time": "2021-09-24T15:57:58.976Z"
   },
   {
    "duration": 22,
    "start_time": "2021-09-24T16:02:30.162Z"
   },
   {
    "duration": 331,
    "start_time": "2021-09-24T16:02:44.387Z"
   },
   {
    "duration": 323,
    "start_time": "2021-09-24T16:02:51.818Z"
   },
   {
    "duration": 341,
    "start_time": "2021-09-24T16:02:56.907Z"
   },
   {
    "duration": 38,
    "start_time": "2021-09-24T16:03:10.207Z"
   },
   {
    "duration": 166,
    "start_time": "2021-09-24T16:03:30.088Z"
   },
   {
    "duration": 173,
    "start_time": "2021-09-24T16:03:35.619Z"
   },
   {
    "duration": 1187,
    "start_time": "2021-09-24T19:04:42.712Z"
   },
   {
    "duration": 32,
    "start_time": "2021-09-24T19:04:45.876Z"
   },
   {
    "duration": 6,
    "start_time": "2021-09-24T19:04:48.258Z"
   },
   {
    "duration": 9,
    "start_time": "2021-09-24T19:04:51.239Z"
   },
   {
    "duration": 466,
    "start_time": "2021-09-24T19:06:58.087Z"
   },
   {
    "duration": 368,
    "start_time": "2021-09-24T19:11:26.889Z"
   },
   {
    "duration": 283,
    "start_time": "2021-09-24T19:12:32.077Z"
   },
   {
    "duration": 5893,
    "start_time": "2021-09-24T19:13:24.261Z"
   },
   {
    "duration": 3764,
    "start_time": "2021-09-24T19:16:26.029Z"
   },
   {
    "duration": 9410,
    "start_time": "2021-09-24T19:16:45.021Z"
   },
   {
    "duration": 9361,
    "start_time": "2021-09-24T19:17:19.401Z"
   },
   {
    "duration": 9646,
    "start_time": "2021-09-24T19:21:05.785Z"
   },
   {
    "duration": 103,
    "start_time": "2021-09-24T19:21:36.927Z"
   },
   {
    "duration": 9493,
    "start_time": "2021-09-24T19:21:42.536Z"
   },
   {
    "duration": 10003,
    "start_time": "2021-09-24T19:22:04.732Z"
   },
   {
    "duration": 278,
    "start_time": "2021-09-24T19:41:24.699Z"
   },
   {
    "duration": 305,
    "start_time": "2021-09-24T19:41:42.828Z"
   },
   {
    "duration": 16,
    "start_time": "2021-09-24T19:41:49.594Z"
   },
   {
    "duration": 15,
    "start_time": "2021-09-24T19:42:35.010Z"
   },
   {
    "duration": 15,
    "start_time": "2021-09-24T19:43:06.843Z"
   },
   {
    "duration": 9,
    "start_time": "2021-09-24T19:43:23.530Z"
   },
   {
    "duration": 1300,
    "start_time": "2021-09-24T19:49:00.469Z"
   },
   {
    "duration": 1247,
    "start_time": "2021-09-24T19:49:35.423Z"
   },
   {
    "duration": 13,
    "start_time": "2021-09-24T19:53:02.247Z"
   },
   {
    "duration": 1560,
    "start_time": "2021-09-24T19:53:04.165Z"
   },
   {
    "duration": 6,
    "start_time": "2021-09-24T19:56:44.558Z"
   },
   {
    "duration": 1200,
    "start_time": "2021-09-24T19:57:38.718Z"
   },
   {
    "duration": 5,
    "start_time": "2021-09-24T19:57:44.909Z"
   },
   {
    "duration": 1219,
    "start_time": "2021-09-24T19:58:44.676Z"
   },
   {
    "duration": 1180,
    "start_time": "2021-09-24T19:58:51.747Z"
   },
   {
    "duration": 1202,
    "start_time": "2021-09-24T19:58:55.698Z"
   },
   {
    "duration": 1227,
    "start_time": "2021-09-24T19:59:00.425Z"
   },
   {
    "duration": 1203,
    "start_time": "2021-09-24T19:59:09.938Z"
   },
   {
    "duration": 1206,
    "start_time": "2021-09-24T19:59:12.236Z"
   },
   {
    "duration": 1279,
    "start_time": "2021-09-24T19:59:14.300Z"
   },
   {
    "duration": 1185,
    "start_time": "2021-09-24T19:59:16.942Z"
   },
   {
    "duration": 107,
    "start_time": "2021-09-24T20:00:18.644Z"
   },
   {
    "duration": 2738,
    "start_time": "2021-09-24T20:00:27.002Z"
   },
   {
    "duration": 2657,
    "start_time": "2021-09-24T20:00:40.024Z"
   },
   {
    "duration": 1311,
    "start_time": "2021-09-24T20:00:51.756Z"
   },
   {
    "duration": 1340,
    "start_time": "2021-09-24T20:00:58.900Z"
   },
   {
    "duration": 298,
    "start_time": "2021-09-24T20:01:18.398Z"
   },
   {
    "duration": 252,
    "start_time": "2021-09-24T20:01:37.395Z"
   },
   {
    "duration": 1335,
    "start_time": "2021-09-24T20:01:41.804Z"
   },
   {
    "duration": 228,
    "start_time": "2021-09-24T20:03:36.758Z"
   },
   {
    "duration": 353031,
    "start_time": "2021-09-24T20:03:38.556Z"
   },
   {
    "duration": 384,
    "start_time": "2021-09-24T20:09:43.034Z"
   },
   {
    "duration": 389,
    "start_time": "2021-09-24T20:10:35.744Z"
   },
   {
    "duration": 5,
    "start_time": "2021-09-24T20:12:12.237Z"
   },
   {
    "duration": 104,
    "start_time": "2021-09-24T20:13:34.233Z"
   },
   {
    "duration": 1465,
    "start_time": "2021-09-24T20:13:39.527Z"
   },
   {
    "duration": 82,
    "start_time": "2021-09-24T20:15:13.765Z"
   },
   {
    "duration": 5182,
    "start_time": "2021-09-24T20:24:31.591Z"
   },
   {
    "duration": 16855,
    "start_time": "2021-09-24T20:28:26.610Z"
   },
   {
    "duration": 7,
    "start_time": "2021-09-24T20:30:39.394Z"
   },
   {
    "duration": 277,
    "start_time": "2021-09-24T20:31:38.346Z"
   },
   {
    "duration": 869,
    "start_time": "2021-09-24T20:31:51.731Z"
   },
   {
    "duration": 6,
    "start_time": "2021-09-24T20:31:55.784Z"
   },
   {
    "duration": 420,
    "start_time": "2021-09-24T20:32:40.358Z"
   },
   {
    "duration": 645,
    "start_time": "2021-09-24T20:32:53.714Z"
   },
   {
    "duration": 6,
    "start_time": "2021-09-24T20:32:56.655Z"
   },
   {
    "duration": 174,
    "start_time": "2021-09-24T20:34:25.558Z"
   },
   {
    "duration": 6,
    "start_time": "2021-09-24T20:34:26.717Z"
   },
   {
    "duration": 1750,
    "start_time": "2021-09-24T20:38:13.795Z"
   },
   {
    "duration": 324,
    "start_time": "2021-09-24T20:38:35.588Z"
   },
   {
    "duration": 557,
    "start_time": "2021-09-24T20:38:51.194Z"
   },
   {
    "duration": 1051,
    "start_time": "2021-09-24T20:39:13.911Z"
   },
   {
    "duration": 323,
    "start_time": "2021-09-24T20:40:24.082Z"
   },
   {
    "duration": 273,
    "start_time": "2021-09-24T20:40:41.535Z"
   },
   {
    "duration": 25,
    "start_time": "2021-09-24T20:40:47.130Z"
   },
   {
    "duration": 494,
    "start_time": "2021-09-24T20:40:48.185Z"
   },
   {
    "duration": 296,
    "start_time": "2021-09-24T20:41:04.338Z"
   },
   {
    "duration": 999,
    "start_time": "2021-09-24T20:41:17.425Z"
   },
   {
    "duration": 1110,
    "start_time": "2021-09-24T20:41:37.275Z"
   },
   {
    "duration": 271,
    "start_time": "2021-09-24T20:41:54.421Z"
   },
   {
    "duration": 314,
    "start_time": "2021-09-24T20:42:00.393Z"
   },
   {
    "duration": 278,
    "start_time": "2021-09-24T20:42:06.461Z"
   },
   {
    "duration": 27,
    "start_time": "2021-09-24T20:42:09.645Z"
   },
   {
    "duration": 314,
    "start_time": "2021-09-24T20:42:11.039Z"
   },
   {
    "duration": 2162,
    "start_time": "2021-09-24T20:43:04.005Z"
   },
   {
    "duration": 5,
    "start_time": "2021-09-24T20:43:11.697Z"
   },
   {
    "duration": 423,
    "start_time": "2021-09-24T20:44:28.533Z"
   },
   {
    "duration": 326,
    "start_time": "2021-09-24T20:45:00.633Z"
   },
   {
    "duration": 3716,
    "start_time": "2021-09-24T20:45:11.022Z"
   },
   {
    "duration": 6,
    "start_time": "2021-09-24T20:45:19.389Z"
   },
   {
    "duration": 5,
    "start_time": "2021-09-24T20:45:22.422Z"
   },
   {
    "duration": 4070,
    "start_time": "2021-09-24T20:45:41.430Z"
   },
   {
    "duration": 662,
    "start_time": "2021-09-24T20:48:33.945Z"
   },
   {
    "duration": 9327,
    "start_time": "2021-09-24T20:48:56.144Z"
   },
   {
    "duration": 6587,
    "start_time": "2021-09-24T20:50:18.640Z"
   },
   {
    "duration": -6880101,
    "start_time": "2021-09-24T22:45:41.100Z"
   },
   {
    "duration": 30739,
    "start_time": "2021-09-24T20:51:04.950Z"
   },
   {
    "duration": 5051,
    "start_time": "2021-09-24T20:52:30.277Z"
   },
   {
    "duration": 5074,
    "start_time": "2021-09-24T20:52:40.058Z"
   },
   {
    "duration": 5104,
    "start_time": "2021-09-24T20:53:42.801Z"
   },
   {
    "duration": 19879,
    "start_time": "2021-09-24T20:54:12.608Z"
   },
   {
    "duration": 25,
    "start_time": "2021-09-24T20:54:59.312Z"
   },
   {
    "duration": 25,
    "start_time": "2021-09-24T20:55:44.833Z"
   },
   {
    "duration": 25,
    "start_time": "2021-09-24T20:55:57.690Z"
   },
   {
    "duration": 23534,
    "start_time": "2021-09-24T20:57:33.176Z"
   },
   {
    "duration": 7,
    "start_time": "2021-09-24T21:00:58.635Z"
   },
   {
    "duration": 8,
    "start_time": "2021-09-24T21:04:17.428Z"
   },
   {
    "duration": 31,
    "start_time": "2021-09-24T21:12:14.761Z"
   },
   {
    "duration": 8,
    "start_time": "2021-09-24T21:19:26.488Z"
   },
   {
    "duration": 11,
    "start_time": "2021-09-24T21:19:30.070Z"
   },
   {
    "duration": 267,
    "start_time": "2021-09-24T21:19:34.882Z"
   },
   {
    "duration": 4,
    "start_time": "2021-09-24T21:20:20.745Z"
   },
   {
    "duration": 9,
    "start_time": "2021-09-24T21:20:21.800Z"
   },
   {
    "duration": 268,
    "start_time": "2021-09-24T21:20:23.041Z"
   },
   {
    "duration": 327,
    "start_time": "2021-09-24T21:20:32.068Z"
   },
   {
    "duration": 270,
    "start_time": "2021-09-24T21:20:52.716Z"
   },
   {
    "duration": 305,
    "start_time": "2021-09-24T21:21:10.143Z"
   },
   {
    "duration": 7,
    "start_time": "2021-09-24T21:21:36.606Z"
   },
   {
    "duration": 7,
    "start_time": "2021-09-24T21:21:44.828Z"
   },
   {
    "duration": 6,
    "start_time": "2021-09-24T21:21:51.805Z"
   },
   {
    "duration": 9,
    "start_time": "2021-09-24T21:21:57.625Z"
   },
   {
    "duration": 5,
    "start_time": "2021-09-24T21:22:07.019Z"
   },
   {
    "duration": 10,
    "start_time": "2021-09-24T21:22:07.964Z"
   },
   {
    "duration": 342,
    "start_time": "2021-09-24T21:22:09.151Z"
   },
   {
    "duration": 12,
    "start_time": "2021-09-24T21:22:28.268Z"
   },
   {
    "duration": 5,
    "start_time": "2021-09-24T21:22:38.775Z"
   },
   {
    "duration": 282,
    "start_time": "2021-09-24T21:22:40.531Z"
   },
   {
    "duration": 257,
    "start_time": "2021-09-24T21:23:05.763Z"
   },
   {
    "duration": 277,
    "start_time": "2021-09-24T21:23:16.676Z"
   },
   {
    "duration": 5,
    "start_time": "2021-09-24T21:23:21.303Z"
   },
   {
    "duration": 274,
    "start_time": "2021-09-24T21:23:24.315Z"
   },
   {
    "duration": 9,
    "start_time": "2021-09-24T21:23:26.177Z"
   },
   {
    "duration": 275,
    "start_time": "2021-09-24T21:23:27.135Z"
   },
   {
    "duration": 333,
    "start_time": "2021-09-24T21:23:51.088Z"
   },
   {
    "duration": 276,
    "start_time": "2021-09-24T21:24:05.933Z"
   },
   {
    "duration": 4,
    "start_time": "2021-09-24T21:24:28.390Z"
   },
   {
    "duration": 12,
    "start_time": "2021-09-24T21:24:31.215Z"
   },
   {
    "duration": 277,
    "start_time": "2021-09-24T21:24:31.912Z"
   },
   {
    "duration": 8,
    "start_time": "2021-09-24T21:24:40.723Z"
   },
   {
    "duration": 7,
    "start_time": "2021-09-24T21:24:48.637Z"
   },
   {
    "duration": 8,
    "start_time": "2021-09-24T21:24:52.603Z"
   },
   {
    "duration": 340,
    "start_time": "2021-09-24T21:25:05.620Z"
   },
   {
    "duration": 8,
    "start_time": "2021-09-24T21:25:17.399Z"
   },
   {
    "duration": 6,
    "start_time": "2021-09-24T21:25:30.474Z"
   },
   {
    "duration": 9,
    "start_time": "2021-09-24T21:25:32.393Z"
   },
   {
    "duration": 292,
    "start_time": "2021-09-24T21:25:33.163Z"
   },
   {
    "duration": 9,
    "start_time": "2021-09-24T21:26:06.902Z"
   },
   {
    "duration": 14,
    "start_time": "2021-09-24T21:26:18.030Z"
   },
   {
    "duration": 10,
    "start_time": "2021-09-24T21:26:33.023Z"
   },
   {
    "duration": 11,
    "start_time": "2021-09-24T21:26:33.677Z"
   },
   {
    "duration": 254,
    "start_time": "2021-09-24T21:26:34.747Z"
   },
   {
    "duration": 290,
    "start_time": "2021-09-24T21:26:49.554Z"
   },
   {
    "duration": 14,
    "start_time": "2021-09-24T21:27:06.031Z"
   },
   {
    "duration": 12,
    "start_time": "2021-09-24T21:27:10.024Z"
   },
   {
    "duration": 20,
    "start_time": "2021-09-24T21:27:29.723Z"
   },
   {
    "duration": 27,
    "start_time": "2021-09-24T21:27:58.043Z"
   },
   {
    "duration": 16,
    "start_time": "2021-09-24T21:28:09.075Z"
   },
   {
    "duration": 9,
    "start_time": "2021-09-24T21:28:14.317Z"
   },
   {
    "duration": 346,
    "start_time": "2021-09-24T21:28:15.527Z"
   },
   {
    "duration": 12,
    "start_time": "2021-09-24T21:28:32.747Z"
   },
   {
    "duration": 10,
    "start_time": "2021-09-24T21:28:53.695Z"
   },
   {
    "duration": 291,
    "start_time": "2021-09-24T21:28:56.373Z"
   },
   {
    "duration": 13,
    "start_time": "2021-09-24T21:29:49.251Z"
   },
   {
    "duration": 9,
    "start_time": "2021-09-24T21:29:54.335Z"
   },
   {
    "duration": 18,
    "start_time": "2021-09-24T21:29:55.891Z"
   },
   {
    "duration": 1356,
    "start_time": "2021-09-24T21:30:05.219Z"
   },
   {
    "duration": 41725,
    "start_time": "2021-09-24T21:30:16.331Z"
   },
   {
    "duration": 9,
    "start_time": "2021-09-24T21:31:25.347Z"
   },
   {
    "duration": 8,
    "start_time": "2021-09-24T21:31:30.275Z"
   },
   {
    "duration": 1150,
    "start_time": "2021-09-24T21:32:53.568Z"
   },
   {
    "duration": 33,
    "start_time": "2021-09-24T21:32:54.720Z"
   },
   {
    "duration": 28,
    "start_time": "2021-09-24T21:32:54.756Z"
   },
   {
    "duration": 8,
    "start_time": "2021-09-24T21:32:54.787Z"
   },
   {
    "duration": 16,
    "start_time": "2021-09-24T21:32:54.796Z"
   },
   {
    "duration": 1420,
    "start_time": "2021-09-24T21:32:54.813Z"
   },
   {
    "duration": 316164,
    "start_time": "2021-09-24T21:32:56.235Z"
   },
   {
    "duration": 27143,
    "start_time": "2021-09-24T21:38:12.401Z"
   },
   {
    "duration": 83,
    "start_time": "2021-09-24T21:38:39.550Z"
   },
   {
    "duration": -6879771,
    "start_time": "2021-09-24T23:33:19.406Z"
   },
   {
    "duration": -6879776,
    "start_time": "2021-09-24T23:33:19.412Z"
   },
   {
    "duration": -6879779,
    "start_time": "2021-09-24T23:33:19.416Z"
   },
   {
    "duration": 200,
    "start_time": "2021-09-24T21:39:04.616Z"
   },
   {
    "duration": 195,
    "start_time": "2021-09-24T21:39:12.331Z"
   },
   {
    "duration": 404,
    "start_time": "2021-09-24T21:39:53.061Z"
   },
   {
    "duration": 201,
    "start_time": "2021-09-24T21:40:14.017Z"
   },
   {
    "duration": 316,
    "start_time": "2021-09-24T21:40:21.448Z"
   },
   {
    "duration": 9407,
    "start_time": "2021-09-24T21:41:42.417Z"
   },
   {
    "duration": 259,
    "start_time": "2021-09-24T21:42:01.365Z"
   },
   {
    "duration": 294,
    "start_time": "2021-09-24T21:42:53.124Z"
   },
   {
    "duration": 222,
    "start_time": "2021-09-24T21:45:25.288Z"
   },
   {
    "duration": 294,
    "start_time": "2021-09-24T21:45:27.576Z"
   },
   {
    "duration": 3,
    "start_time": "2021-09-24T22:02:21.974Z"
   },
   {
    "duration": 5,
    "start_time": "2021-09-24T22:02:28.234Z"
   },
   {
    "duration": 4,
    "start_time": "2021-09-24T22:02:33.601Z"
   },
   {
    "duration": 4,
    "start_time": "2021-09-24T22:02:39.156Z"
   },
   {
    "duration": 5,
    "start_time": "2021-09-24T22:02:46.960Z"
   },
   {
    "duration": 5,
    "start_time": "2021-09-24T22:03:22.416Z"
   },
   {
    "duration": 5,
    "start_time": "2021-09-24T22:03:26.813Z"
   },
   {
    "duration": 6,
    "start_time": "2021-09-24T22:03:45.081Z"
   },
   {
    "duration": 278,
    "start_time": "2021-09-24T22:04:46.774Z"
   },
   {
    "duration": 267,
    "start_time": "2021-09-24T22:04:58.650Z"
   },
   {
    "duration": 253,
    "start_time": "2021-09-24T22:05:05.912Z"
   },
   {
    "duration": 266,
    "start_time": "2021-09-24T22:05:34.388Z"
   },
   {
    "duration": 91,
    "start_time": "2021-09-24T22:05:43.081Z"
   },
   {
    "duration": 248,
    "start_time": "2021-09-24T22:05:51.627Z"
   },
   {
    "duration": 292,
    "start_time": "2021-09-24T22:10:26.951Z"
   },
   {
    "duration": 270,
    "start_time": "2021-09-24T22:11:39.967Z"
   },
   {
    "duration": 286,
    "start_time": "2021-09-24T22:11:44.140Z"
   },
   {
    "duration": 319,
    "start_time": "2021-09-24T22:11:49.550Z"
   },
   {
    "duration": 286,
    "start_time": "2021-09-24T22:11:58.364Z"
   },
   {
    "duration": 267,
    "start_time": "2021-09-24T22:12:04.951Z"
   },
   {
    "duration": 272,
    "start_time": "2021-09-24T22:13:39.840Z"
   },
   {
    "duration": 265,
    "start_time": "2021-09-24T22:14:11.616Z"
   },
   {
    "duration": 272,
    "start_time": "2021-09-24T22:14:22.991Z"
   },
   {
    "duration": 4,
    "start_time": "2021-09-24T22:14:36.255Z"
   },
   {
    "duration": 6,
    "start_time": "2021-09-24T22:14:42.334Z"
   },
   {
    "duration": 5,
    "start_time": "2021-09-24T22:14:46.482Z"
   },
   {
    "duration": 4,
    "start_time": "2021-09-24T22:15:05.202Z"
   },
   {
    "duration": 18,
    "start_time": "2021-09-24T22:15:29.565Z"
   },
   {
    "duration": 3,
    "start_time": "2021-09-24T22:15:33.299Z"
   },
   {
    "duration": 258,
    "start_time": "2021-09-24T22:16:24.538Z"
   },
   {
    "duration": 6,
    "start_time": "2021-09-24T22:17:54.352Z"
   },
   {
    "duration": 6,
    "start_time": "2021-09-24T22:18:36.960Z"
   },
   {
    "duration": 5,
    "start_time": "2021-09-24T22:18:40.726Z"
   },
   {
    "duration": 5,
    "start_time": "2021-09-24T22:19:00.365Z"
   },
   {
    "duration": 7,
    "start_time": "2021-09-24T22:19:02.033Z"
   },
   {
    "duration": 5,
    "start_time": "2021-09-24T22:20:31.348Z"
   },
   {
    "duration": 3,
    "start_time": "2021-09-24T22:22:18.782Z"
   },
   {
    "duration": 7,
    "start_time": "2021-09-24T22:22:20.433Z"
   },
   {
    "duration": 129,
    "start_time": "2021-09-24T22:24:01.842Z"
   },
   {
    "duration": 6,
    "start_time": "2021-09-24T22:24:26.246Z"
   },
   {
    "duration": 7,
    "start_time": "2021-09-24T22:26:14.698Z"
   },
   {
    "duration": 8,
    "start_time": "2021-09-24T22:29:22.840Z"
   },
   {
    "duration": 1256,
    "start_time": "2021-09-24T22:29:51.229Z"
   },
   {
    "duration": 5,
    "start_time": "2021-09-24T22:30:03.065Z"
   },
   {
    "duration": 7,
    "start_time": "2021-09-24T22:31:40.247Z"
   },
   {
    "duration": 284,
    "start_time": "2021-09-24T22:32:32.492Z"
   },
   {
    "duration": 659,
    "start_time": "2021-09-24T22:32:39.532Z"
   },
   {
    "duration": 6,
    "start_time": "2021-09-24T22:32:57.120Z"
   },
   {
    "duration": 8,
    "start_time": "2021-09-24T22:33:00.130Z"
   },
   {
    "duration": 6,
    "start_time": "2021-09-24T22:33:54.181Z"
   },
   {
    "duration": 8,
    "start_time": "2021-09-24T22:33:55.153Z"
   },
   {
    "duration": 179,
    "start_time": "2021-09-24T22:36:01.860Z"
   },
   {
    "duration": 6,
    "start_time": "2021-09-24T22:36:51.021Z"
   },
   {
    "duration": 7,
    "start_time": "2021-09-24T22:36:53.002Z"
   },
   {
    "duration": 173,
    "start_time": "2021-09-24T22:36:54.556Z"
   },
   {
    "duration": 7,
    "start_time": "2021-09-24T22:37:17.997Z"
   },
   {
    "duration": 1258,
    "start_time": "2021-09-24T22:47:49.240Z"
   },
   {
    "duration": 29,
    "start_time": "2021-09-24T22:47:50.500Z"
   },
   {
    "duration": 23,
    "start_time": "2021-09-24T22:47:50.531Z"
   },
   {
    "duration": 8,
    "start_time": "2021-09-24T22:47:50.556Z"
   },
   {
    "duration": 19,
    "start_time": "2021-09-24T22:47:50.565Z"
   },
   {
    "duration": 1296,
    "start_time": "2021-09-24T22:47:50.586Z"
   },
   {
    "duration": 280657,
    "start_time": "2021-09-24T22:47:51.883Z"
   },
   {
    "duration": 18942,
    "start_time": "2021-09-24T22:52:32.543Z"
   },
   {
    "duration": 199,
    "start_time": "2021-09-24T22:52:51.487Z"
   },
   {
    "duration": 237,
    "start_time": "2021-09-24T22:52:51.687Z"
   },
   {
    "duration": 23,
    "start_time": "2021-09-24T22:52:51.926Z"
   },
   {
    "duration": 3,
    "start_time": "2021-09-24T22:52:51.951Z"
   },
   {
    "duration": 8,
    "start_time": "2021-09-24T22:52:51.955Z"
   },
   {
    "duration": 7,
    "start_time": "2021-09-24T22:52:51.965Z"
   },
   {
    "duration": 190,
    "start_time": "2021-09-24T22:52:51.973Z"
   },
   {
    "duration": 8,
    "start_time": "2021-09-24T22:52:52.164Z"
   },
   {
    "duration": 4,
    "start_time": "2021-09-24T23:00:56.266Z"
   },
   {
    "duration": 8,
    "start_time": "2021-09-24T23:01:00.334Z"
   },
   {
    "duration": 184,
    "start_time": "2021-09-24T23:01:15.489Z"
   },
   {
    "duration": 8,
    "start_time": "2021-09-24T23:01:18.698Z"
   },
   {
    "duration": 4,
    "start_time": "2021-09-24T23:02:22.369Z"
   },
   {
    "duration": 6,
    "start_time": "2021-09-24T23:02:25.822Z"
   },
   {
    "duration": 8,
    "start_time": "2021-09-24T23:02:27.399Z"
   },
   {
    "duration": 185,
    "start_time": "2021-09-24T23:02:28.757Z"
   },
   {
    "duration": 8,
    "start_time": "2021-09-24T23:02:30.834Z"
   },
   {
    "duration": 628,
    "start_time": "2021-09-25T12:19:01.375Z"
   },
   {
    "duration": 437,
    "start_time": "2021-09-25T12:19:35.804Z"
   },
   {
    "duration": 1047,
    "start_time": "2021-09-25T12:19:51.651Z"
   },
   {
    "duration": 5,
    "start_time": "2021-09-25T12:19:55.291Z"
   },
   {
    "duration": 33,
    "start_time": "2021-09-25T12:19:56.594Z"
   },
   {
    "duration": 34,
    "start_time": "2021-09-25T12:19:57.408Z"
   },
   {
    "duration": 13,
    "start_time": "2021-09-25T12:20:00.091Z"
   },
   {
    "duration": 19,
    "start_time": "2021-09-25T12:20:00.985Z"
   },
   {
    "duration": 7,
    "start_time": "2021-09-25T12:20:04.840Z"
   },
   {
    "duration": 20,
    "start_time": "2021-09-25T12:21:25.818Z"
   },
   {
    "duration": 2056,
    "start_time": "2021-09-25T12:21:27.185Z"
   },
   {
    "duration": 426,
    "start_time": "2021-09-25T12:21:37.394Z"
   },
   {
    "duration": 389,
    "start_time": "2021-09-25T12:21:40.309Z"
   },
   {
    "duration": 5,
    "start_time": "2021-09-25T12:22:12.240Z"
   },
   {
    "duration": 10,
    "start_time": "2021-09-25T12:22:14.607Z"
   },
   {
    "duration": 6,
    "start_time": "2021-09-25T12:27:15.753Z"
   },
   {
    "duration": 4,
    "start_time": "2021-09-25T12:27:50.819Z"
   },
   {
    "duration": 4,
    "start_time": "2021-09-25T12:28:15.275Z"
   },
   {
    "duration": 5,
    "start_time": "2021-09-25T12:28:46.283Z"
   },
   {
    "duration": 6,
    "start_time": "2021-09-25T12:29:07.194Z"
   },
   {
    "duration": 6,
    "start_time": "2021-09-25T12:30:08.558Z"
   },
   {
    "duration": 6,
    "start_time": "2021-09-25T12:31:28.853Z"
   },
   {
    "duration": 337,
    "start_time": "2021-09-25T12:37:25.068Z"
   },
   {
    "duration": 8,
    "start_time": "2021-09-25T12:39:50.773Z"
   },
   {
    "duration": 12,
    "start_time": "2021-09-25T12:40:04.794Z"
   },
   {
    "duration": 121,
    "start_time": "2021-09-25T12:40:32.958Z"
   },
   {
    "duration": 130,
    "start_time": "2021-09-25T12:40:36.874Z"
   },
   {
    "duration": 13,
    "start_time": "2021-09-25T12:40:44.570Z"
   },
   {
    "duration": 13,
    "start_time": "2021-09-25T12:40:52.642Z"
   },
   {
    "duration": 1518,
    "start_time": "2021-09-25T12:51:10.618Z"
   },
   {
    "duration": 32,
    "start_time": "2021-09-25T12:51:12.139Z"
   },
   {
    "duration": 37,
    "start_time": "2021-09-25T12:51:12.174Z"
   },
   {
    "duration": 11,
    "start_time": "2021-09-25T12:51:12.214Z"
   },
   {
    "duration": 11,
    "start_time": "2021-09-25T12:51:12.228Z"
   },
   {
    "duration": 50,
    "start_time": "2021-09-25T12:51:12.241Z"
   },
   {
    "duration": 2001,
    "start_time": "2021-09-25T12:51:12.294Z"
   },
   {
    "duration": 436805,
    "start_time": "2021-09-25T12:51:14.299Z"
   },
   {
    "duration": 39059,
    "start_time": "2021-09-25T12:58:31.106Z"
   },
   {
    "duration": 342,
    "start_time": "2021-09-25T12:59:10.168Z"
   },
   {
    "duration": 371,
    "start_time": "2021-09-25T12:59:10.513Z"
   },
   {
    "duration": 6,
    "start_time": "2021-09-25T12:59:10.886Z"
   },
   {
    "duration": 5,
    "start_time": "2021-09-25T12:59:10.895Z"
   },
   {
    "duration": 11,
    "start_time": "2021-09-25T12:59:10.902Z"
   },
   {
    "duration": 193,
    "start_time": "2021-09-25T12:59:10.916Z"
   },
   {
    "duration": 8,
    "start_time": "2021-09-25T12:59:11.112Z"
   }
  ],
  "kernelspec": {
   "display_name": "Python 3",
   "language": "python",
   "name": "python3"
  },
  "language_info": {
   "codemirror_mode": {
    "name": "ipython",
    "version": 3
   },
   "file_extension": ".py",
   "mimetype": "text/x-python",
   "name": "python",
   "nbconvert_exporter": "python",
   "pygments_lexer": "ipython3",
   "version": "3.7.8"
  },
  "toc": {
   "base_numbering": 1,
   "nav_menu": {},
   "number_sections": true,
   "sideBar": true,
   "skip_h1_title": true,
   "title_cell": "Table of Contents",
   "title_sidebar": "Contents",
   "toc_cell": false,
   "toc_position": {},
   "toc_section_display": true,
   "toc_window_display": true
  }
 },
 "nbformat": 4,
 "nbformat_minor": 2
}
