{
 "cells": [
  {
   "cell_type": "markdown",
   "metadata": {},
   "source": [
    "# Защита персональных данных клиентов"
   ]
  },
  {
   "cell_type": "markdown",
   "metadata": {},
   "source": [
    "Вам нужно защитить данные клиентов страховой компании «Хоть потоп». Разработайте такой метод преобразования данных, чтобы по ним было сложно восстановить персональную информацию. Обоснуйте корректность его работы.\n",
    "\n",
    "Нужно защитить данные, чтобы при преобразовании качество моделей машинного обучения не ухудшилось. Подбирать наилучшую модель не требуется."
   ]
  },
  {
   "cell_type": "markdown",
   "metadata": {},
   "source": [
    "## Загрузка данных"
   ]
  },
  {
   "cell_type": "code",
   "execution_count": 1,
   "metadata": {},
   "outputs": [],
   "source": [
    "import pandas as pd\n",
    "import numpy as np\n",
    "\n",
    "from sklearn.metrics import r2_score\n",
    "from sklearn.linear_model import LinearRegression"
   ]
  },
  {
   "cell_type": "code",
   "execution_count": 2,
   "metadata": {},
   "outputs": [],
   "source": [
    "try:\n",
    "    df = pd.read_csv('insurance.csv')\n",
    "except:\n",
    "    df = pd.read_csv('/datasets/insurance.csv')"
   ]
  },
  {
   "cell_type": "markdown",
   "metadata": {},
   "source": [
    "Визуально осмотрим данные"
   ]
  },
  {
   "cell_type": "code",
   "execution_count": 3,
   "metadata": {},
   "outputs": [
    {
     "name": "stdout",
     "output_type": "stream",
     "text": [
      "<class 'pandas.core.frame.DataFrame'>\n",
      "RangeIndex: 5000 entries, 0 to 4999\n",
      "Data columns (total 5 columns):\n",
      "Пол                  5000 non-null int64\n",
      "Возраст              5000 non-null float64\n",
      "Зарплата             5000 non-null float64\n",
      "Члены семьи          5000 non-null int64\n",
      "Страховые выплаты    5000 non-null int64\n",
      "dtypes: float64(2), int64(3)\n",
      "memory usage: 195.4 KB\n"
     ]
    },
    {
     "data": {
      "text/html": [
       "<div>\n",
       "<style scoped>\n",
       "    .dataframe tbody tr th:only-of-type {\n",
       "        vertical-align: middle;\n",
       "    }\n",
       "\n",
       "    .dataframe tbody tr th {\n",
       "        vertical-align: top;\n",
       "    }\n",
       "\n",
       "    .dataframe thead th {\n",
       "        text-align: right;\n",
       "    }\n",
       "</style>\n",
       "<table border=\"1\" class=\"dataframe\">\n",
       "  <thead>\n",
       "    <tr style=\"text-align: right;\">\n",
       "      <th></th>\n",
       "      <th>Пол</th>\n",
       "      <th>Возраст</th>\n",
       "      <th>Зарплата</th>\n",
       "      <th>Члены семьи</th>\n",
       "      <th>Страховые выплаты</th>\n",
       "    </tr>\n",
       "  </thead>\n",
       "  <tbody>\n",
       "    <tr>\n",
       "      <td>0</td>\n",
       "      <td>1</td>\n",
       "      <td>41.0</td>\n",
       "      <td>49600.0</td>\n",
       "      <td>1</td>\n",
       "      <td>0</td>\n",
       "    </tr>\n",
       "    <tr>\n",
       "      <td>1</td>\n",
       "      <td>0</td>\n",
       "      <td>46.0</td>\n",
       "      <td>38000.0</td>\n",
       "      <td>1</td>\n",
       "      <td>1</td>\n",
       "    </tr>\n",
       "    <tr>\n",
       "      <td>2</td>\n",
       "      <td>0</td>\n",
       "      <td>29.0</td>\n",
       "      <td>21000.0</td>\n",
       "      <td>0</td>\n",
       "      <td>0</td>\n",
       "    </tr>\n",
       "    <tr>\n",
       "      <td>3</td>\n",
       "      <td>0</td>\n",
       "      <td>21.0</td>\n",
       "      <td>41700.0</td>\n",
       "      <td>2</td>\n",
       "      <td>0</td>\n",
       "    </tr>\n",
       "    <tr>\n",
       "      <td>4</td>\n",
       "      <td>1</td>\n",
       "      <td>28.0</td>\n",
       "      <td>26100.0</td>\n",
       "      <td>0</td>\n",
       "      <td>0</td>\n",
       "    </tr>\n",
       "  </tbody>\n",
       "</table>\n",
       "</div>"
      ],
      "text/plain": [
       "   Пол  Возраст  Зарплата  Члены семьи  Страховые выплаты\n",
       "0    1     41.0   49600.0            1                  0\n",
       "1    0     46.0   38000.0            1                  1\n",
       "2    0     29.0   21000.0            0                  0\n",
       "3    0     21.0   41700.0            2                  0\n",
       "4    1     28.0   26100.0            0                  0"
      ]
     },
     "execution_count": 3,
     "metadata": {},
     "output_type": "execute_result"
    }
   ],
   "source": [
    "df.info()\n",
    "df.head()"
   ]
  },
  {
   "cell_type": "markdown",
   "metadata": {},
   "source": [
    "В датасете нет пропусков, проверим на дубликаты "
   ]
  },
  {
   "cell_type": "code",
   "execution_count": 4,
   "metadata": {},
   "outputs": [
    {
     "data": {
      "text/plain": [
       "153"
      ]
     },
     "execution_count": 4,
     "metadata": {},
     "output_type": "execute_result"
    }
   ],
   "source": [
    "df.duplicated().sum()"
   ]
  },
  {
   "cell_type": "markdown",
   "metadata": {},
   "source": [
    "Удалим дубликаты"
   ]
  },
  {
   "cell_type": "code",
   "execution_count": 5,
   "metadata": {},
   "outputs": [
    {
     "data": {
      "text/plain": [
       "0"
      ]
     },
     "execution_count": 5,
     "metadata": {},
     "output_type": "execute_result"
    }
   ],
   "source": [
    "df.drop_duplicates(inplace=True)\n",
    "df.duplicated().sum()"
   ]
  },
  {
   "cell_type": "markdown",
   "metadata": {},
   "source": [
    "Дубликаты удалены, можно переходить к дальнейшей работе"
   ]
  },
  {
   "cell_type": "markdown",
   "metadata": {},
   "source": [
    "## Умножение матриц"
   ]
  },
  {
   "cell_type": "markdown",
   "metadata": {},
   "source": [
    "Обозначения:\n",
    "\n",
    "- $X$ — матрица признаков (нулевой столбец состоит из единиц)\n",
    "\n",
    "- $y$ — вектор целевого признака\n",
    "\n",
    "- $P$ — матрица, на которую умножаются признаки\n",
    "\n",
    "- $w$ — вектор весов линейной регрессии (нулевой элемент равен сдвигу)"
   ]
  },
  {
   "cell_type": "markdown",
   "metadata": {},
   "source": [
    "Предсказания:\n",
    "\n",
    "$$\n",
    "a = Xw\n",
    "$$\n",
    "\n",
    "Задача обучения:\n",
    "\n",
    "$$\n",
    "w = \\arg\\min_w MSE(Xw, y)\n",
    "$$\n",
    "\n",
    "Формула обучения:\n",
    "\n",
    "$$\n",
    "w = (X^T X)^{-1} X^T y\n",
    "$$"
   ]
  },
  {
   "cell_type": "markdown",
   "metadata": {},
   "source": [
    "**Ответ:** Предсказания $a$ не изменится\n",
    "\n",
    "**Обоснование:** Представим выражение как $w_{new} = ((XP)^T XP)^{-1} (XP)^T y$, где $XP$ - это произведение признаков $X$ на обратимую матрицу $P$, а $a_{new} = XPw_{new}$\n",
    "$$ w_{new} = ((XP)^T XP)^{-1} (XP)^T y = \\\\\\\\\n",
    "(P^T X^T X P)^{-1} P^T X^T y =\\\\\\\\ \n",
    "((P^T X^T X) P)^{-1} P^T X^T y = \\\\\\\\\n",
    "P^{-1} (P^T X^T X)^{-1} P^T X^T y = \\\\\\\\\n",
    "P^{-1} (P^T (X^T X))^{-1} P^T X^T y =\\\\\\\\ \n",
    "P^{-1} (X^T X)^{-1} (P^T)^{-1} P^T X^T y = \\\\\\\\\n",
    "P^{-1} (X^T X)^{-1} ((P^T)^{-1} P^T) X^T y =\\\\\\\\ \n",
    "P^{-1} (X^T X)^{-1} E X^T y = \\\\\\\\\n",
    "P^{-1} ((X^T X)^{-1} X^T y) = \\\\\\\\\n",
    "P^{-1} w\n",
    "$$\n",
    "\n",
    "Подставим выражение в формулу $ a_{new} $\n",
    "\n",
    "$$ a_{new} = XP P^{-1}w = Xw $$\n",
    "\n",
    "$$ a_{new} = a $$"
   ]
  },
  {
   "cell_type": "markdown",
   "metadata": {},
   "source": [
    "## Алгоритм преобразования"
   ]
  },
  {
   "cell_type": "markdown",
   "metadata": {},
   "source": [
    "**Алгоритм**\n",
    "\n",
    "Возьмем случайно сгенерированную матрицу $M$ размера $n*n$, определим  по числу признаков в $X$\n",
    "\n",
    "Проверим существование обратной матрицы $M$\n",
    "\n",
    "Умножим исходную матрицу $X$ на матрицу $M$.\n",
    "\n",
    "Для проверки определим метрику R2, и сравним результат на оригинальном и преобразованном датасетах."
   ]
  },
  {
   "cell_type": "markdown",
   "metadata": {},
   "source": [
    "**Обоснование**\n",
    "\n",
    "Согласно доказательству выше, при умножении матрицы признаков $X$ на произвольную, обратимую матрицу $M$, качество линейной регрессии останется неизменным."
   ]
  },
  {
   "cell_type": "code",
   "execution_count": 7,
   "metadata": {},
   "outputs": [],
   "source": [
    "class MatrixTransformation():\n",
    "    def fit(self, x, seed=42):\n",
    "        \n",
    "        np.random.seed(seed)\n",
    "        n = x.shape[1]\n",
    "\n",
    "        try:\n",
    "            M = np.random.normal(size=(n, n))\n",
    "            np.linalg.inv(M)\n",
    "        except: \n",
    "            M = np.random.normal(size=(n, n))\n",
    "            np.linalg.inv(M)\n",
    "\n",
    "        self.M = M\n",
    "        self.inv = np.linalg.inv(M)\n",
    "        return self.M\n",
    "        \n",
    "    def transform(self, x):\n",
    "        return x @ self.M\n",
    "    \n",
    "    def inverse_transform(self, X):\n",
    "        return X @ self.inv"
   ]
  },
  {
   "cell_type": "markdown",
   "metadata": {},
   "source": [
    "## Проверка алгоритма"
   ]
  },
  {
   "cell_type": "markdown",
   "metadata": {},
   "source": [
    "Разделим данные на признаки и целевую переменную"
   ]
  },
  {
   "cell_type": "code",
   "execution_count": 9,
   "metadata": {},
   "outputs": [],
   "source": [
    "x = df.drop(['Страховые выплаты'], axis=1)\n",
    "y = df['Страховые выплаты']"
   ]
  },
  {
   "cell_type": "markdown",
   "metadata": {},
   "source": [
    "Преобразуем признаки"
   ]
  },
  {
   "cell_type": "code",
   "execution_count": 10,
   "metadata": {},
   "outputs": [],
   "source": [
    "Mt = MatrixTransformation()\n",
    "M = Mt.fit(x)\n",
    "x_new = Mt.transform(x) "
   ]
  },
  {
   "cell_type": "markdown",
   "metadata": {},
   "source": [
    "Сравним размеры признаков до и после преобразование, а так же взглянем на получившиеся данные"
   ]
  },
  {
   "cell_type": "code",
   "execution_count": 11,
   "metadata": {},
   "outputs": [
    {
     "data": {
      "text/plain": [
       "(4847, 4)"
      ]
     },
     "metadata": {},
     "output_type": "display_data"
    },
    {
     "data": {
      "text/plain": [
       "(4847, 4)"
      ]
     },
     "metadata": {},
     "output_type": "display_data"
    },
    {
     "data": {
      "text/html": [
       "<div>\n",
       "<style scoped>\n",
       "    .dataframe tbody tr th:only-of-type {\n",
       "        vertical-align: middle;\n",
       "    }\n",
       "\n",
       "    .dataframe tbody tr th {\n",
       "        vertical-align: top;\n",
       "    }\n",
       "\n",
       "    .dataframe thead th {\n",
       "        text-align: right;\n",
       "    }\n",
       "</style>\n",
       "<table border=\"1\" class=\"dataframe\">\n",
       "  <thead>\n",
       "    <tr style=\"text-align: right;\">\n",
       "      <th></th>\n",
       "      <th>0</th>\n",
       "      <th>1</th>\n",
       "      <th>2</th>\n",
       "      <th>3</th>\n",
       "    </tr>\n",
       "  </thead>\n",
       "  <tbody>\n",
       "    <tr>\n",
       "      <td>0</td>\n",
       "      <td>-23294.791154</td>\n",
       "      <td>26899.327002</td>\n",
       "      <td>-22921.847067</td>\n",
       "      <td>-23067.770211</td>\n",
       "    </tr>\n",
       "    <tr>\n",
       "      <td>1</td>\n",
       "      <td>-17850.555758</td>\n",
       "      <td>20604.598076</td>\n",
       "      <td>-17538.953455</td>\n",
       "      <td>-17662.990926</td>\n",
       "    </tr>\n",
       "    <tr>\n",
       "      <td>2</td>\n",
       "      <td>-9865.752553</td>\n",
       "      <td>11386.970944</td>\n",
       "      <td>-9685.974377</td>\n",
       "      <td>-9758.069218</td>\n",
       "    </tr>\n",
       "    <tr>\n",
       "      <td>3</td>\n",
       "      <td>-19581.515190</td>\n",
       "      <td>22616.010381</td>\n",
       "      <td>-19294.804157</td>\n",
       "      <td>-19405.939170</td>\n",
       "    </tr>\n",
       "    <tr>\n",
       "      <td>4</td>\n",
       "      <td>-12259.341053</td>\n",
       "      <td>14154.123038</td>\n",
       "      <td>-12050.336135</td>\n",
       "      <td>-12132.535366</td>\n",
       "    </tr>\n",
       "  </tbody>\n",
       "</table>\n",
       "</div>"
      ],
      "text/plain": [
       "              0             1             2             3\n",
       "0 -23294.791154  26899.327002 -22921.847067 -23067.770211\n",
       "1 -17850.555758  20604.598076 -17538.953455 -17662.990926\n",
       "2  -9865.752553  11386.970944  -9685.974377  -9758.069218\n",
       "3 -19581.515190  22616.010381 -19294.804157 -19405.939170\n",
       "4 -12259.341053  14154.123038 -12050.336135 -12132.535366"
      ]
     },
     "metadata": {},
     "output_type": "display_data"
    }
   ],
   "source": [
    "display(x_new.shape, x.shape, x_new.head())"
   ]
  },
  {
   "cell_type": "markdown",
   "metadata": {},
   "source": [
    "Данные закодированы, перейдем к обучению моделей и сравнению данных "
   ]
  },
  {
   "cell_type": "code",
   "execution_count": 12,
   "metadata": {},
   "outputs": [
    {
     "name": "stdout",
     "output_type": "stream",
     "text": [
      "0.4302010044852067 0.43020100448521004\n",
      "Метрики равны: True\n"
     ]
    }
   ],
   "source": [
    "lr = LinearRegression()\n",
    "\n",
    "lr.fit(x, y)\n",
    "predict1 = lr.predict(x)\n",
    "\n",
    "lr.fit(x_new, y)\n",
    "predict2 = lr.predict(x_new)\n",
    "\n",
    "print(r2_score(y, predict1), r2_score(y, predict2))\n",
    "print(f'Метрики равны: {np.isclose(r2_score(y, predict1), r2_score(y, predict2))}')"
   ]
  },
  {
   "cell_type": "markdown",
   "metadata": {},
   "source": [
    "Мы видим что метрики одинаковые\n",
    "\n",
    "Попробуем преобразовать наши данные в первоначальный вид"
   ]
  },
  {
   "cell_type": "code",
   "execution_count": 13,
   "metadata": {},
   "outputs": [
    {
     "data": {
      "text/html": [
       "<div>\n",
       "<style scoped>\n",
       "    .dataframe tbody tr th:only-of-type {\n",
       "        vertical-align: middle;\n",
       "    }\n",
       "\n",
       "    .dataframe tbody tr th {\n",
       "        vertical-align: top;\n",
       "    }\n",
       "\n",
       "    .dataframe thead th {\n",
       "        text-align: right;\n",
       "    }\n",
       "</style>\n",
       "<table border=\"1\" class=\"dataframe\">\n",
       "  <thead>\n",
       "    <tr style=\"text-align: right;\">\n",
       "      <th></th>\n",
       "      <th>0</th>\n",
       "      <th>1</th>\n",
       "      <th>2</th>\n",
       "      <th>3</th>\n",
       "    </tr>\n",
       "  </thead>\n",
       "  <tbody>\n",
       "    <tr>\n",
       "      <td>0</td>\n",
       "      <td>1.000000e+00</td>\n",
       "      <td>41.0</td>\n",
       "      <td>49600.0</td>\n",
       "      <td>1.000000e+00</td>\n",
       "    </tr>\n",
       "    <tr>\n",
       "      <td>1</td>\n",
       "      <td>1.168548e-11</td>\n",
       "      <td>46.0</td>\n",
       "      <td>38000.0</td>\n",
       "      <td>1.000000e+00</td>\n",
       "    </tr>\n",
       "    <tr>\n",
       "      <td>2</td>\n",
       "      <td>4.429902e-12</td>\n",
       "      <td>29.0</td>\n",
       "      <td>21000.0</td>\n",
       "      <td>1.109661e-12</td>\n",
       "    </tr>\n",
       "    <tr>\n",
       "      <td>3</td>\n",
       "      <td>9.105370e-12</td>\n",
       "      <td>21.0</td>\n",
       "      <td>41700.0</td>\n",
       "      <td>2.000000e+00</td>\n",
       "    </tr>\n",
       "    <tr>\n",
       "      <td>4</td>\n",
       "      <td>1.000000e+00</td>\n",
       "      <td>28.0</td>\n",
       "      <td>26100.0</td>\n",
       "      <td>2.769852e-13</td>\n",
       "    </tr>\n",
       "  </tbody>\n",
       "</table>\n",
       "</div>"
      ],
      "text/plain": [
       "              0     1        2             3\n",
       "0  1.000000e+00  41.0  49600.0  1.000000e+00\n",
       "1  1.168548e-11  46.0  38000.0  1.000000e+00\n",
       "2  4.429902e-12  29.0  21000.0  1.109661e-12\n",
       "3  9.105370e-12  21.0  41700.0  2.000000e+00\n",
       "4  1.000000e+00  28.0  26100.0  2.769852e-13"
      ]
     },
     "execution_count": 13,
     "metadata": {},
     "output_type": "execute_result"
    }
   ],
   "source": [
    "x_final = Mt.inverse_transform(x_new)\n",
    "x_final.head()"
   ]
  },
  {
   "cell_type": "markdown",
   "metadata": {},
   "source": [
    "Сравним получившиеся данные с первоначальными "
   ]
  },
  {
   "cell_type": "code",
   "execution_count": 14,
   "metadata": {},
   "outputs": [
    {
     "data": {
      "text/plain": [
       "(               Пол      Возраст      Зарплата  Члены семьи\n",
       " count  4847.000000  4847.000000   4847.000000  4847.000000\n",
       " mean      0.498453    31.023932  39895.811842     1.203425\n",
       " std       0.500049     8.487995   9972.953985     1.098664\n",
       " min       0.000000    18.000000   5300.000000     0.000000\n",
       " 25%       0.000000    24.000000  33200.000000     0.000000\n",
       " 50%       0.000000    30.000000  40200.000000     1.000000\n",
       " 75%       1.000000    37.000000  46600.000000     2.000000\n",
       " max       1.000000    65.000000  79000.000000     6.000000,\n",
       "                   0            1             2             3\n",
       " count  4.847000e+03  4847.000000   4847.000000  4.847000e+03\n",
       " mean   4.984527e-01    31.023932  39895.811842  1.203425e+00\n",
       " std    5.000492e-01     8.487995   9972.953985  1.098664e+00\n",
       " min    1.421267e-12    18.000000   5300.000000 -1.769781e-12\n",
       " 25%    8.826456e-12    24.000000  33200.000000  1.875395e-12\n",
       " 50%    1.832487e-11    30.000000  40200.000000  1.000000e+00\n",
       " 75%    1.000000e+00    37.000000  46600.000000  2.000000e+00\n",
       " max    1.000000e+00    65.000000  79000.000000  6.000000e+00)"
      ]
     },
     "execution_count": 14,
     "metadata": {},
     "output_type": "execute_result"
    }
   ],
   "source": [
    "x.describe(), x_final.describe()"
   ]
  },
  {
   "cell_type": "markdown",
   "metadata": {},
   "source": [
    "Данные идентичны за исключением ошибки в матричных вычислениях, это значит что алгоритм успешно работает "
   ]
  },
  {
   "cell_type": "markdown",
   "metadata": {},
   "source": [
    "### Вывод"
   ]
  },
  {
   "cell_type": "markdown",
   "metadata": {},
   "source": [
    "В ходе работы мы изучили и предобработали данные, далее мы провели реализацию алгоритма кодирования признаков и убедились, что данный алгоритм не влияет на качество модели - данный инструмент можно использовать в дальнейшем для кодирования признаков."
   ]
  }
 ],
 "metadata": {
  "ExecuteTimeLog": [
   {
    "duration": 1413,
    "start_time": "2022-01-09T17:17:50.926Z"
   },
   {
    "duration": 361,
    "start_time": "2022-01-09T17:17:52.342Z"
   },
   {
    "duration": 27,
    "start_time": "2022-01-09T17:17:52.706Z"
   },
   {
    "duration": 8,
    "start_time": "2022-01-09T17:17:52.736Z"
   },
   {
    "duration": 11,
    "start_time": "2022-01-09T17:17:52.747Z"
   },
   {
    "duration": 5,
    "start_time": "2022-01-09T17:17:52.761Z"
   },
   {
    "duration": 50,
    "start_time": "2022-01-09T17:17:52.770Z"
   },
   {
    "duration": 8,
    "start_time": "2022-01-09T17:17:52.822Z"
   },
   {
    "duration": 92,
    "start_time": "2022-01-09T17:17:52.834Z"
   },
   {
    "duration": 189,
    "start_time": "2022-01-09T17:17:52.928Z"
   },
   {
    "duration": 100,
    "start_time": "2022-01-09T17:17:53.121Z"
   },
   {
    "duration": 124,
    "start_time": "2022-01-09T17:17:53.224Z"
   },
   {
    "duration": 126,
    "start_time": "2022-01-09T17:39:00.352Z"
   },
   {
    "duration": 6,
    "start_time": "2022-01-10T16:23:13.657Z"
   },
   {
    "duration": 1108,
    "start_time": "2022-01-10T16:23:31.687Z"
   },
   {
    "duration": 153,
    "start_time": "2022-01-10T16:23:32.797Z"
   },
   {
    "duration": 20,
    "start_time": "2022-01-10T16:23:32.952Z"
   },
   {
    "duration": 43,
    "start_time": "2022-01-10T16:23:32.974Z"
   },
   {
    "duration": 37,
    "start_time": "2022-01-10T16:23:33.018Z"
   },
   {
    "duration": 20,
    "start_time": "2022-01-10T16:23:33.057Z"
   },
   {
    "duration": 33,
    "start_time": "2022-01-10T16:23:33.079Z"
   },
   {
    "duration": 42,
    "start_time": "2022-01-10T16:23:33.114Z"
   },
   {
    "duration": 111,
    "start_time": "2022-01-10T16:23:33.159Z"
   },
   {
    "duration": 99,
    "start_time": "2022-01-10T16:23:33.273Z"
   },
   {
    "duration": 187,
    "start_time": "2022-01-10T16:23:33.375Z"
   },
   {
    "duration": 113,
    "start_time": "2022-01-10T16:23:33.564Z"
   },
   {
    "duration": 594,
    "start_time": "2022-01-10T16:24:06.732Z"
   },
   {
    "duration": 1175,
    "start_time": "2022-01-10T16:25:14.054Z"
   },
   {
    "duration": 206,
    "start_time": "2022-01-10T16:25:15.232Z"
   },
   {
    "duration": 22,
    "start_time": "2022-01-10T16:25:15.440Z"
   },
   {
    "duration": 15,
    "start_time": "2022-01-10T16:25:15.465Z"
   },
   {
    "duration": 15,
    "start_time": "2022-01-10T16:25:15.482Z"
   },
   {
    "duration": 6,
    "start_time": "2022-01-10T16:25:15.499Z"
   },
   {
    "duration": 5,
    "start_time": "2022-01-10T16:25:15.507Z"
   },
   {
    "duration": 5,
    "start_time": "2022-01-10T16:25:15.514Z"
   },
   {
    "duration": 50,
    "start_time": "2022-01-10T16:25:15.521Z"
   },
   {
    "duration": 191,
    "start_time": "2022-01-10T16:25:15.574Z"
   },
   {
    "duration": 928,
    "start_time": "2022-01-10T16:25:15.771Z"
   },
   {
    "duration": -6855296,
    "start_time": "2022-01-10T18:19:31.998Z"
   },
   {
    "duration": 5,
    "start_time": "2022-01-10T16:27:34.551Z"
   },
   {
    "duration": 567,
    "start_time": "2022-01-10T16:27:38.273Z"
   },
   {
    "duration": 5,
    "start_time": "2022-01-10T16:28:45.235Z"
   },
   {
    "duration": 418,
    "start_time": "2022-01-10T16:28:48.218Z"
   },
   {
    "duration": 5,
    "start_time": "2022-01-10T16:29:05.983Z"
   },
   {
    "duration": 411,
    "start_time": "2022-01-10T16:29:09.003Z"
   },
   {
    "duration": 1034,
    "start_time": "2022-01-10T16:29:18.518Z"
   },
   {
    "duration": 152,
    "start_time": "2022-01-10T16:29:19.554Z"
   },
   {
    "duration": 24,
    "start_time": "2022-01-10T16:29:19.709Z"
   },
   {
    "duration": 7,
    "start_time": "2022-01-10T16:29:19.735Z"
   },
   {
    "duration": 10,
    "start_time": "2022-01-10T16:29:19.745Z"
   },
   {
    "duration": 7,
    "start_time": "2022-01-10T16:29:19.757Z"
   },
   {
    "duration": 21,
    "start_time": "2022-01-10T16:29:19.767Z"
   },
   {
    "duration": 8,
    "start_time": "2022-01-10T16:29:19.791Z"
   },
   {
    "duration": 69,
    "start_time": "2022-01-10T16:29:19.802Z"
   },
   {
    "duration": 190,
    "start_time": "2022-01-10T16:29:19.875Z"
   },
   {
    "duration": 371,
    "start_time": "2022-01-10T16:29:20.067Z"
   },
   {
    "duration": -6855275,
    "start_time": "2022-01-10T18:23:35.715Z"
   },
   {
    "duration": 542,
    "start_time": "2022-01-10T16:30:11.881Z"
   },
   {
    "duration": 5,
    "start_time": "2022-01-10T16:36:08.786Z"
   },
   {
    "duration": 430,
    "start_time": "2022-01-10T16:36:12.894Z"
   },
   {
    "duration": 1156,
    "start_time": "2022-01-10T16:36:21.526Z"
   },
   {
    "duration": 488,
    "start_time": "2022-01-10T16:36:22.684Z"
   },
   {
    "duration": 19,
    "start_time": "2022-01-10T16:36:23.174Z"
   },
   {
    "duration": 38,
    "start_time": "2022-01-10T16:36:23.194Z"
   },
   {
    "duration": 47,
    "start_time": "2022-01-10T16:36:23.233Z"
   },
   {
    "duration": 22,
    "start_time": "2022-01-10T16:36:23.282Z"
   },
   {
    "duration": 25,
    "start_time": "2022-01-10T16:36:23.306Z"
   },
   {
    "duration": 39,
    "start_time": "2022-01-10T16:36:23.333Z"
   },
   {
    "duration": 95,
    "start_time": "2022-01-10T16:36:23.374Z"
   },
   {
    "duration": 191,
    "start_time": "2022-01-10T16:36:23.471Z"
   },
   {
    "duration": 349,
    "start_time": "2022-01-10T16:36:23.664Z"
   },
   {
    "duration": -6855279,
    "start_time": "2022-01-10T18:30:39.294Z"
   },
   {
    "duration": 274,
    "start_time": "2022-01-10T16:36:32.739Z"
   },
   {
    "duration": 418,
    "start_time": "2022-01-10T16:36:49.907Z"
   },
   {
    "duration": 5,
    "start_time": "2022-01-10T16:37:59.870Z"
   },
   {
    "duration": 431,
    "start_time": "2022-01-10T16:38:03.671Z"
   },
   {
    "duration": 1056,
    "start_time": "2022-01-10T16:38:13.790Z"
   },
   {
    "duration": 140,
    "start_time": "2022-01-10T16:38:14.848Z"
   },
   {
    "duration": 19,
    "start_time": "2022-01-10T16:38:14.990Z"
   },
   {
    "duration": 22,
    "start_time": "2022-01-10T16:38:15.012Z"
   },
   {
    "duration": 36,
    "start_time": "2022-01-10T16:38:15.037Z"
   },
   {
    "duration": 13,
    "start_time": "2022-01-10T16:38:15.075Z"
   },
   {
    "duration": 24,
    "start_time": "2022-01-10T16:38:15.090Z"
   },
   {
    "duration": 6,
    "start_time": "2022-01-10T16:38:15.117Z"
   },
   {
    "duration": 48,
    "start_time": "2022-01-10T16:38:15.125Z"
   },
   {
    "duration": 192,
    "start_time": "2022-01-10T16:38:15.177Z"
   },
   {
    "duration": 13,
    "start_time": "2022-01-10T16:38:15.462Z"
   },
   {
    "duration": 106,
    "start_time": "2022-01-10T16:38:15.478Z"
   },
   {
    "duration": 5,
    "start_time": "2022-01-10T16:39:53.082Z"
   },
   {
    "duration": 1015,
    "start_time": "2022-01-10T16:40:04.186Z"
   },
   {
    "duration": 152,
    "start_time": "2022-01-10T16:40:05.203Z"
   },
   {
    "duration": 18,
    "start_time": "2022-01-10T16:40:05.357Z"
   },
   {
    "duration": 8,
    "start_time": "2022-01-10T16:40:05.377Z"
   },
   {
    "duration": 19,
    "start_time": "2022-01-10T16:40:05.387Z"
   },
   {
    "duration": 7,
    "start_time": "2022-01-10T16:40:05.408Z"
   },
   {
    "duration": 23,
    "start_time": "2022-01-10T16:40:05.417Z"
   },
   {
    "duration": 28,
    "start_time": "2022-01-10T16:40:05.444Z"
   },
   {
    "duration": 98,
    "start_time": "2022-01-10T16:40:05.475Z"
   },
   {
    "duration": 97,
    "start_time": "2022-01-10T16:40:05.575Z"
   },
   {
    "duration": 200,
    "start_time": "2022-01-10T16:40:05.674Z"
   },
   {
    "duration": 37,
    "start_time": "2022-01-10T16:40:05.876Z"
   },
   {
    "duration": 1070,
    "start_time": "2022-01-10T16:41:00.063Z"
   },
   {
    "duration": 149,
    "start_time": "2022-01-10T16:41:01.135Z"
   },
   {
    "duration": 20,
    "start_time": "2022-01-10T16:41:01.286Z"
   },
   {
    "duration": 6,
    "start_time": "2022-01-10T16:41:01.308Z"
   },
   {
    "duration": 23,
    "start_time": "2022-01-10T16:41:01.316Z"
   },
   {
    "duration": 6,
    "start_time": "2022-01-10T16:41:01.342Z"
   },
   {
    "duration": 22,
    "start_time": "2022-01-10T16:41:01.350Z"
   },
   {
    "duration": 26,
    "start_time": "2022-01-10T16:41:01.375Z"
   },
   {
    "duration": 63,
    "start_time": "2022-01-10T16:41:01.404Z"
   },
   {
    "duration": 99,
    "start_time": "2022-01-10T16:41:01.469Z"
   },
   {
    "duration": 193,
    "start_time": "2022-01-10T16:41:01.570Z"
   },
   {
    "duration": 34,
    "start_time": "2022-01-10T16:41:01.765Z"
   },
   {
    "duration": 966,
    "start_time": "2022-01-10T17:09:17.861Z"
   },
   {
    "duration": 216,
    "start_time": "2022-01-10T17:09:18.829Z"
   },
   {
    "duration": 17,
    "start_time": "2022-01-10T17:09:19.047Z"
   },
   {
    "duration": 7,
    "start_time": "2022-01-10T17:09:19.066Z"
   },
   {
    "duration": 10,
    "start_time": "2022-01-10T17:09:19.074Z"
   },
   {
    "duration": 4,
    "start_time": "2022-01-10T17:09:19.085Z"
   },
   {
    "duration": 7,
    "start_time": "2022-01-10T17:09:19.091Z"
   },
   {
    "duration": 7,
    "start_time": "2022-01-10T17:09:19.101Z"
   },
   {
    "duration": 19,
    "start_time": "2022-01-10T17:09:19.110Z"
   },
   {
    "duration": 16,
    "start_time": "2022-01-10T17:09:19.131Z"
   },
   {
    "duration": 190,
    "start_time": "2022-01-10T17:09:19.148Z"
   },
   {
    "duration": 89,
    "start_time": "2022-01-10T17:09:19.340Z"
   },
   {
    "duration": 118,
    "start_time": "2022-01-10T17:09:19.431Z"
   },
   {
    "duration": 10,
    "start_time": "2022-01-10T17:26:25.380Z"
   },
   {
    "duration": 7,
    "start_time": "2022-01-10T17:27:11.596Z"
   },
   {
    "duration": 1035,
    "start_time": "2022-01-10T17:33:55.030Z"
   },
   {
    "duration": 233,
    "start_time": "2022-01-10T17:33:56.069Z"
   },
   {
    "duration": 18,
    "start_time": "2022-01-10T17:33:56.304Z"
   },
   {
    "duration": 8,
    "start_time": "2022-01-10T17:33:56.324Z"
   },
   {
    "duration": 13,
    "start_time": "2022-01-10T17:33:56.333Z"
   },
   {
    "duration": 9,
    "start_time": "2022-01-10T17:33:56.348Z"
   },
   {
    "duration": 10,
    "start_time": "2022-01-10T17:33:56.360Z"
   },
   {
    "duration": 8,
    "start_time": "2022-01-10T17:33:56.372Z"
   },
   {
    "duration": 11,
    "start_time": "2022-01-10T17:33:56.382Z"
   },
   {
    "duration": 33,
    "start_time": "2022-01-10T17:33:56.394Z"
   },
   {
    "duration": 16,
    "start_time": "2022-01-10T17:33:56.429Z"
   },
   {
    "duration": 179,
    "start_time": "2022-01-10T17:33:56.447Z"
   },
   {
    "duration": 108,
    "start_time": "2022-01-10T17:33:56.629Z"
   },
   {
    "duration": 45,
    "start_time": "2022-01-10T17:33:56.739Z"
   },
   {
    "duration": 998,
    "start_time": "2022-01-10T18:59:24.405Z"
   },
   {
    "duration": 151,
    "start_time": "2022-01-10T18:59:25.405Z"
   },
   {
    "duration": 17,
    "start_time": "2022-01-10T18:59:25.559Z"
   },
   {
    "duration": 30,
    "start_time": "2022-01-10T18:59:25.578Z"
   },
   {
    "duration": 25,
    "start_time": "2022-01-10T18:59:25.610Z"
   },
   {
    "duration": 34,
    "start_time": "2022-01-10T18:59:25.636Z"
   },
   {
    "duration": 27,
    "start_time": "2022-01-10T18:59:25.671Z"
   },
   {
    "duration": 33,
    "start_time": "2022-01-10T18:59:25.700Z"
   },
   {
    "duration": 38,
    "start_time": "2022-01-10T18:59:25.735Z"
   },
   {
    "duration": 23,
    "start_time": "2022-01-10T18:59:25.775Z"
   },
   {
    "duration": 63,
    "start_time": "2022-01-10T18:59:25.800Z"
   },
   {
    "duration": 101,
    "start_time": "2022-01-10T18:59:25.866Z"
   },
   {
    "duration": 101,
    "start_time": "2022-01-10T18:59:25.969Z"
   },
   {
    "duration": 107,
    "start_time": "2022-01-10T18:59:26.073Z"
   }
  ],
  "kernelspec": {
   "display_name": "Python 3 (ipykernel)",
   "language": "python",
   "name": "python3"
  },
  "language_info": {
   "codemirror_mode": {
    "name": "ipython",
    "version": 3
   },
   "file_extension": ".py",
   "mimetype": "text/x-python",
   "name": "python",
   "nbconvert_exporter": "python",
   "pygments_lexer": "ipython3",
   "version": "3.9.5"
  },
  "toc": {
   "base_numbering": 1,
   "nav_menu": {},
   "number_sections": true,
   "sideBar": true,
   "skip_h1_title": true,
   "title_cell": "Содержание",
   "title_sidebar": "Contents",
   "toc_cell": true,
   "toc_position": {},
   "toc_section_display": true,
   "toc_window_display": false
  }
 },
 "nbformat": 4,
 "nbformat_minor": 2
}
