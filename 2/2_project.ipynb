{
 "cells": [
  {
   "cell_type": "markdown",
   "metadata": {},
   "source": [
    "# Исследование надёжности заёмщиков\n",
    "\n",
    "Заказчик — кредитный отдел банка. Нужно разобраться, влияет ли семейное положение и количество детей клиента на факт погашения кредита в срок. Входные данные от банка — статистика о платёжеспособности клиентов.\n",
    "\n",
    "Результаты исследования будут учтены при построении модели **кредитного скоринга** — специальной системы, которая оценивает способность потенциального заёмщика вернуть кредит банку."
   ]
  },
  {
   "cell_type": "markdown",
   "metadata": {},
   "source": [
    "## Шаг 1. Откройте файл с данными и изучите общую информацию"
   ]
  },
  {
   "cell_type": "markdown",
   "metadata": {},
   "source": [
    "Прочитаем файл, выведем информацию о нем и первые 10 строк таблицы."
   ]
  },
  {
   "cell_type": "code",
   "execution_count": 1,
   "metadata": {},
   "outputs": [
    {
     "name": "stdout",
     "output_type": "stream",
     "text": [
      "<class 'pandas.core.frame.DataFrame'>\n",
      "RangeIndex: 21525 entries, 0 to 21524\n",
      "Data columns (total 12 columns):\n",
      "children            21525 non-null int64\n",
      "days_employed       19351 non-null float64\n",
      "dob_years           21525 non-null int64\n",
      "education           21525 non-null object\n",
      "education_id        21525 non-null int64\n",
      "family_status       21525 non-null object\n",
      "family_status_id    21525 non-null int64\n",
      "gender              21525 non-null object\n",
      "income_type         21525 non-null object\n",
      "debt                21525 non-null int64\n",
      "total_income        19351 non-null float64\n",
      "purpose             21525 non-null object\n",
      "dtypes: float64(2), int64(5), object(5)\n",
      "memory usage: 2.0+ MB\n"
     ]
    },
    {
     "data": {
      "text/html": [
       "<div>\n",
       "<style scoped>\n",
       "    .dataframe tbody tr th:only-of-type {\n",
       "        vertical-align: middle;\n",
       "    }\n",
       "\n",
       "    .dataframe tbody tr th {\n",
       "        vertical-align: top;\n",
       "    }\n",
       "\n",
       "    .dataframe thead th {\n",
       "        text-align: right;\n",
       "    }\n",
       "</style>\n",
       "<table border=\"1\" class=\"dataframe\">\n",
       "  <thead>\n",
       "    <tr style=\"text-align: right;\">\n",
       "      <th></th>\n",
       "      <th>children</th>\n",
       "      <th>days_employed</th>\n",
       "      <th>dob_years</th>\n",
       "      <th>education_id</th>\n",
       "      <th>family_status_id</th>\n",
       "      <th>debt</th>\n",
       "      <th>total_income</th>\n",
       "    </tr>\n",
       "  </thead>\n",
       "  <tbody>\n",
       "    <tr>\n",
       "      <td>count</td>\n",
       "      <td>21525.000000</td>\n",
       "      <td>19351.000000</td>\n",
       "      <td>21525.000000</td>\n",
       "      <td>21525.000000</td>\n",
       "      <td>21525.000000</td>\n",
       "      <td>21525.000000</td>\n",
       "      <td>1.935100e+04</td>\n",
       "    </tr>\n",
       "    <tr>\n",
       "      <td>mean</td>\n",
       "      <td>0.538908</td>\n",
       "      <td>63046.497661</td>\n",
       "      <td>43.293380</td>\n",
       "      <td>0.817236</td>\n",
       "      <td>0.972544</td>\n",
       "      <td>0.080883</td>\n",
       "      <td>1.674223e+05</td>\n",
       "    </tr>\n",
       "    <tr>\n",
       "      <td>std</td>\n",
       "      <td>1.381587</td>\n",
       "      <td>140827.311974</td>\n",
       "      <td>12.574584</td>\n",
       "      <td>0.548138</td>\n",
       "      <td>1.420324</td>\n",
       "      <td>0.272661</td>\n",
       "      <td>1.029716e+05</td>\n",
       "    </tr>\n",
       "    <tr>\n",
       "      <td>min</td>\n",
       "      <td>-1.000000</td>\n",
       "      <td>-18388.949901</td>\n",
       "      <td>0.000000</td>\n",
       "      <td>0.000000</td>\n",
       "      <td>0.000000</td>\n",
       "      <td>0.000000</td>\n",
       "      <td>2.066726e+04</td>\n",
       "    </tr>\n",
       "    <tr>\n",
       "      <td>25%</td>\n",
       "      <td>0.000000</td>\n",
       "      <td>-2747.423625</td>\n",
       "      <td>33.000000</td>\n",
       "      <td>1.000000</td>\n",
       "      <td>0.000000</td>\n",
       "      <td>0.000000</td>\n",
       "      <td>1.030532e+05</td>\n",
       "    </tr>\n",
       "    <tr>\n",
       "      <td>50%</td>\n",
       "      <td>0.000000</td>\n",
       "      <td>-1203.369529</td>\n",
       "      <td>42.000000</td>\n",
       "      <td>1.000000</td>\n",
       "      <td>0.000000</td>\n",
       "      <td>0.000000</td>\n",
       "      <td>1.450179e+05</td>\n",
       "    </tr>\n",
       "    <tr>\n",
       "      <td>75%</td>\n",
       "      <td>1.000000</td>\n",
       "      <td>-291.095954</td>\n",
       "      <td>53.000000</td>\n",
       "      <td>1.000000</td>\n",
       "      <td>1.000000</td>\n",
       "      <td>0.000000</td>\n",
       "      <td>2.034351e+05</td>\n",
       "    </tr>\n",
       "    <tr>\n",
       "      <td>max</td>\n",
       "      <td>20.000000</td>\n",
       "      <td>401755.400475</td>\n",
       "      <td>75.000000</td>\n",
       "      <td>4.000000</td>\n",
       "      <td>4.000000</td>\n",
       "      <td>1.000000</td>\n",
       "      <td>2.265604e+06</td>\n",
       "    </tr>\n",
       "  </tbody>\n",
       "</table>\n",
       "</div>"
      ],
      "text/plain": [
       "           children  days_employed     dob_years  education_id  \\\n",
       "count  21525.000000   19351.000000  21525.000000  21525.000000   \n",
       "mean       0.538908   63046.497661     43.293380      0.817236   \n",
       "std        1.381587  140827.311974     12.574584      0.548138   \n",
       "min       -1.000000  -18388.949901      0.000000      0.000000   \n",
       "25%        0.000000   -2747.423625     33.000000      1.000000   \n",
       "50%        0.000000   -1203.369529     42.000000      1.000000   \n",
       "75%        1.000000    -291.095954     53.000000      1.000000   \n",
       "max       20.000000  401755.400475     75.000000      4.000000   \n",
       "\n",
       "       family_status_id          debt  total_income  \n",
       "count      21525.000000  21525.000000  1.935100e+04  \n",
       "mean           0.972544      0.080883  1.674223e+05  \n",
       "std            1.420324      0.272661  1.029716e+05  \n",
       "min            0.000000      0.000000  2.066726e+04  \n",
       "25%            0.000000      0.000000  1.030532e+05  \n",
       "50%            0.000000      0.000000  1.450179e+05  \n",
       "75%            1.000000      0.000000  2.034351e+05  \n",
       "max            4.000000      1.000000  2.265604e+06  "
      ]
     },
     "execution_count": 1,
     "metadata": {},
     "output_type": "execute_result"
    }
   ],
   "source": [
    "import pandas as pd\n",
    "bank = pd.read_csv('/datasets/data.csv')\n",
    "bank.info()\n",
    "bank.describe()"
   ]
  },
  {
   "cell_type": "markdown",
   "metadata": {},
   "source": [
    "**Вывод**"
   ]
  },
  {
   "cell_type": "markdown",
   "metadata": {},
   "source": [
    "При изучении общей информации, были найдены пропуски в колонках с трудовым стажем и общим доходом, а также значения в этих колонках являются вещественными. В колонке с трудовым стажем имеются отрицательные значения и значения с невозможно большой велечиной(340266.072047), а в образовании значения находятся в разных регистрах."
   ]
  },
  {
   "cell_type": "markdown",
   "metadata": {},
   "source": [
    "## Шаг 2. Предобработка данных"
   ]
  },
  {
   "cell_type": "markdown",
   "metadata": {},
   "source": [
    "### Обработка пропусков"
   ]
  },
  {
   "cell_type": "markdown",
   "metadata": {},
   "source": [
    "Преобразуем отрицательные значения."
   ]
  },
  {
   "cell_type": "code",
   "execution_count": 3,
   "metadata": {},
   "outputs": [
    {
     "data": {
      "text/plain": [
       "0"
      ]
     },
     "execution_count": 3,
     "metadata": {},
     "output_type": "execute_result"
    }
   ],
   "source": [
    "# Для начала преобразуем значения в колонке со стажем в положительные методом abs()\n",
    "bank['days_employed'] = bank['days_employed'].abs()\n",
    "\n",
    "# проверяем результат методом loc и count()\n",
    "bank[bank['days_employed'] < 0]['days_employed'].count()"
   ]
  },
  {
   "cell_type": "markdown",
   "metadata": {},
   "source": [
    "Посмотрим какие значения пропущенны"
   ]
  },
  {
   "cell_type": "code",
   "execution_count": 3,
   "metadata": {},
   "outputs": [
    {
     "data": {
      "text/html": [
       "<div>\n",
       "<style scoped>\n",
       "    .dataframe tbody tr th:only-of-type {\n",
       "        vertical-align: middle;\n",
       "    }\n",
       "\n",
       "    .dataframe tbody tr th {\n",
       "        vertical-align: top;\n",
       "    }\n",
       "\n",
       "    .dataframe thead th {\n",
       "        text-align: right;\n",
       "    }\n",
       "</style>\n",
       "<table border=\"1\" class=\"dataframe\">\n",
       "  <thead>\n",
       "    <tr style=\"text-align: right;\">\n",
       "      <th></th>\n",
       "      <th>children</th>\n",
       "      <th>days_employed</th>\n",
       "      <th>dob_years</th>\n",
       "      <th>education</th>\n",
       "      <th>education_id</th>\n",
       "      <th>family_status</th>\n",
       "      <th>family_status_id</th>\n",
       "      <th>gender</th>\n",
       "      <th>income_type</th>\n",
       "      <th>debt</th>\n",
       "      <th>total_income</th>\n",
       "      <th>purpose</th>\n",
       "    </tr>\n",
       "  </thead>\n",
       "  <tbody>\n",
       "    <tr>\n",
       "      <td>12</td>\n",
       "      <td>0</td>\n",
       "      <td>NaN</td>\n",
       "      <td>65</td>\n",
       "      <td>среднее</td>\n",
       "      <td>1</td>\n",
       "      <td>гражданский брак</td>\n",
       "      <td>1</td>\n",
       "      <td>M</td>\n",
       "      <td>пенсионер</td>\n",
       "      <td>0</td>\n",
       "      <td>NaN</td>\n",
       "      <td>сыграть свадьбу</td>\n",
       "    </tr>\n",
       "    <tr>\n",
       "      <td>26</td>\n",
       "      <td>0</td>\n",
       "      <td>NaN</td>\n",
       "      <td>41</td>\n",
       "      <td>среднее</td>\n",
       "      <td>1</td>\n",
       "      <td>женат / замужем</td>\n",
       "      <td>0</td>\n",
       "      <td>M</td>\n",
       "      <td>госслужащий</td>\n",
       "      <td>0</td>\n",
       "      <td>NaN</td>\n",
       "      <td>образование</td>\n",
       "    </tr>\n",
       "    <tr>\n",
       "      <td>29</td>\n",
       "      <td>0</td>\n",
       "      <td>NaN</td>\n",
       "      <td>63</td>\n",
       "      <td>среднее</td>\n",
       "      <td>1</td>\n",
       "      <td>Не женат / не замужем</td>\n",
       "      <td>4</td>\n",
       "      <td>F</td>\n",
       "      <td>пенсионер</td>\n",
       "      <td>0</td>\n",
       "      <td>NaN</td>\n",
       "      <td>строительство жилой недвижимости</td>\n",
       "    </tr>\n",
       "    <tr>\n",
       "      <td>41</td>\n",
       "      <td>0</td>\n",
       "      <td>NaN</td>\n",
       "      <td>50</td>\n",
       "      <td>среднее</td>\n",
       "      <td>1</td>\n",
       "      <td>женат / замужем</td>\n",
       "      <td>0</td>\n",
       "      <td>F</td>\n",
       "      <td>госслужащий</td>\n",
       "      <td>0</td>\n",
       "      <td>NaN</td>\n",
       "      <td>сделка с подержанным автомобилем</td>\n",
       "    </tr>\n",
       "    <tr>\n",
       "      <td>55</td>\n",
       "      <td>0</td>\n",
       "      <td>NaN</td>\n",
       "      <td>54</td>\n",
       "      <td>среднее</td>\n",
       "      <td>1</td>\n",
       "      <td>гражданский брак</td>\n",
       "      <td>1</td>\n",
       "      <td>F</td>\n",
       "      <td>пенсионер</td>\n",
       "      <td>1</td>\n",
       "      <td>NaN</td>\n",
       "      <td>сыграть свадьбу</td>\n",
       "    </tr>\n",
       "    <tr>\n",
       "      <td>...</td>\n",
       "      <td>...</td>\n",
       "      <td>...</td>\n",
       "      <td>...</td>\n",
       "      <td>...</td>\n",
       "      <td>...</td>\n",
       "      <td>...</td>\n",
       "      <td>...</td>\n",
       "      <td>...</td>\n",
       "      <td>...</td>\n",
       "      <td>...</td>\n",
       "      <td>...</td>\n",
       "      <td>...</td>\n",
       "    </tr>\n",
       "    <tr>\n",
       "      <td>21489</td>\n",
       "      <td>2</td>\n",
       "      <td>NaN</td>\n",
       "      <td>47</td>\n",
       "      <td>Среднее</td>\n",
       "      <td>1</td>\n",
       "      <td>женат / замужем</td>\n",
       "      <td>0</td>\n",
       "      <td>M</td>\n",
       "      <td>компаньон</td>\n",
       "      <td>0</td>\n",
       "      <td>NaN</td>\n",
       "      <td>сделка с автомобилем</td>\n",
       "    </tr>\n",
       "    <tr>\n",
       "      <td>21495</td>\n",
       "      <td>1</td>\n",
       "      <td>NaN</td>\n",
       "      <td>50</td>\n",
       "      <td>среднее</td>\n",
       "      <td>1</td>\n",
       "      <td>гражданский брак</td>\n",
       "      <td>1</td>\n",
       "      <td>F</td>\n",
       "      <td>сотрудник</td>\n",
       "      <td>0</td>\n",
       "      <td>NaN</td>\n",
       "      <td>свадьба</td>\n",
       "    </tr>\n",
       "    <tr>\n",
       "      <td>21497</td>\n",
       "      <td>0</td>\n",
       "      <td>NaN</td>\n",
       "      <td>48</td>\n",
       "      <td>ВЫСШЕЕ</td>\n",
       "      <td>0</td>\n",
       "      <td>женат / замужем</td>\n",
       "      <td>0</td>\n",
       "      <td>F</td>\n",
       "      <td>компаньон</td>\n",
       "      <td>0</td>\n",
       "      <td>NaN</td>\n",
       "      <td>строительство недвижимости</td>\n",
       "    </tr>\n",
       "    <tr>\n",
       "      <td>21502</td>\n",
       "      <td>1</td>\n",
       "      <td>NaN</td>\n",
       "      <td>42</td>\n",
       "      <td>среднее</td>\n",
       "      <td>1</td>\n",
       "      <td>женат / замужем</td>\n",
       "      <td>0</td>\n",
       "      <td>F</td>\n",
       "      <td>сотрудник</td>\n",
       "      <td>0</td>\n",
       "      <td>NaN</td>\n",
       "      <td>строительство жилой недвижимости</td>\n",
       "    </tr>\n",
       "    <tr>\n",
       "      <td>21510</td>\n",
       "      <td>2</td>\n",
       "      <td>NaN</td>\n",
       "      <td>28</td>\n",
       "      <td>среднее</td>\n",
       "      <td>1</td>\n",
       "      <td>женат / замужем</td>\n",
       "      <td>0</td>\n",
       "      <td>F</td>\n",
       "      <td>сотрудник</td>\n",
       "      <td>0</td>\n",
       "      <td>NaN</td>\n",
       "      <td>приобретение автомобиля</td>\n",
       "    </tr>\n",
       "  </tbody>\n",
       "</table>\n",
       "<p>2174 rows × 12 columns</p>\n",
       "</div>"
      ],
      "text/plain": [
       "       children  days_employed  dob_years education  education_id  \\\n",
       "12            0            NaN         65   среднее             1   \n",
       "26            0            NaN         41   среднее             1   \n",
       "29            0            NaN         63   среднее             1   \n",
       "41            0            NaN         50   среднее             1   \n",
       "55            0            NaN         54   среднее             1   \n",
       "...         ...            ...        ...       ...           ...   \n",
       "21489         2            NaN         47   Среднее             1   \n",
       "21495         1            NaN         50   среднее             1   \n",
       "21497         0            NaN         48    ВЫСШЕЕ             0   \n",
       "21502         1            NaN         42   среднее             1   \n",
       "21510         2            NaN         28   среднее             1   \n",
       "\n",
       "               family_status  family_status_id gender  income_type  debt  \\\n",
       "12          гражданский брак                 1      M    пенсионер     0   \n",
       "26           женат / замужем                 0      M  госслужащий     0   \n",
       "29     Не женат / не замужем                 4      F    пенсионер     0   \n",
       "41           женат / замужем                 0      F  госслужащий     0   \n",
       "55          гражданский брак                 1      F    пенсионер     1   \n",
       "...                      ...               ...    ...          ...   ...   \n",
       "21489        женат / замужем                 0      M    компаньон     0   \n",
       "21495       гражданский брак                 1      F    сотрудник     0   \n",
       "21497        женат / замужем                 0      F    компаньон     0   \n",
       "21502        женат / замужем                 0      F    сотрудник     0   \n",
       "21510        женат / замужем                 0      F    сотрудник     0   \n",
       "\n",
       "       total_income                           purpose  \n",
       "12              NaN                   сыграть свадьбу  \n",
       "26              NaN                       образование  \n",
       "29              NaN  строительство жилой недвижимости  \n",
       "41              NaN  сделка с подержанным автомобилем  \n",
       "55              NaN                   сыграть свадьбу  \n",
       "...             ...                               ...  \n",
       "21489           NaN              сделка с автомобилем  \n",
       "21495           NaN                           свадьба  \n",
       "21497           NaN        строительство недвижимости  \n",
       "21502           NaN  строительство жилой недвижимости  \n",
       "21510           NaN           приобретение автомобиля  \n",
       "\n",
       "[2174 rows x 12 columns]"
      ]
     },
     "execution_count": 3,
     "metadata": {},
     "output_type": "execute_result"
    }
   ],
   "source": [
    "bank.loc[bank['days_employed'].isna()]"
   ]
  },
  {
   "cell_type": "markdown",
   "metadata": {},
   "source": [
    "Значения пропущенны в одних строках и скорее всего вызваны ошибкой в записи или хранении данных. \n",
    "Чтоб не потерять важные для анализа данные будем использовать метод fillna()."
   ]
  },
  {
   "cell_type": "markdown",
   "metadata": {},
   "source": [
    "Заменим пропуски в колонке days_employed."
   ]
  },
  {
   "cell_type": "code",
   "execution_count": 4,
   "metadata": {},
   "outputs": [
    {
     "name": "stdout",
     "output_type": "stream",
     "text": [
      "<class 'pandas.core.frame.DataFrame'>\n",
      "RangeIndex: 21525 entries, 0 to 21524\n",
      "Data columns (total 12 columns):\n",
      "children            21525 non-null int64\n",
      "days_employed       21525 non-null float64\n",
      "dob_years           21525 non-null int64\n",
      "education           21525 non-null object\n",
      "education_id        21525 non-null int64\n",
      "family_status       21525 non-null object\n",
      "family_status_id    21525 non-null int64\n",
      "gender              21525 non-null object\n",
      "income_type         21525 non-null object\n",
      "debt                21525 non-null int64\n",
      "total_income        19351 non-null float64\n",
      "purpose             21525 non-null object\n",
      "dtypes: float64(2), int64(5), object(5)\n",
      "memory usage: 2.0+ MB\n"
     ]
    }
   ],
   "source": [
    "# т.к. мы не можем воспользоватся средним значением из за выбросов, найдем медиану\n",
    "employed_median = bank['days_employed'].median()\n",
    "\n",
    "# заменим пропущенные значения медианой с помощью метода fillna()\n",
    "bank['days_employed'] = bank['days_employed'].fillna(employed_median)\n",
    "\n",
    "# проверим результат методом info()\n",
    "bank.info()"
   ]
  },
  {
   "cell_type": "markdown",
   "metadata": {},
   "source": [
    "Найдем значение после которого начинаются выбросы."
   ]
  },
  {
   "cell_type": "code",
   "execution_count": 5,
   "metadata": {},
   "outputs": [
    {
     "data": {
      "text/plain": [
       "21535"
      ]
     },
     "execution_count": 5,
     "metadata": {},
     "output_type": "execute_result"
    }
   ],
   "source": [
    "# найдем максимально возможный стаж\n",
    "max_employed = (bank['dob_years'].max() - 16) * 365\n",
    "max_employed"
   ]
  },
  {
   "cell_type": "markdown",
   "metadata": {},
   "source": [
    "Заменим невозможные значения в колонке days_employed."
   ]
  },
  {
   "cell_type": "code",
   "execution_count": 6,
   "metadata": {},
   "outputs": [
    {
     "data": {
      "text/plain": [
       "0"
      ]
     },
     "execution_count": 6,
     "metadata": {},
     "output_type": "execute_result"
    }
   ],
   "source": [
    "# заменим выбросы на медиану методом loc()\n",
    "bank.loc[bank['days_employed'] > max_employed, 'days_employed'] = employed_median\n",
    "\n",
    "# проверим методом count()       \n",
    "bank[bank['days_employed'] > max_employed]['days_employed'].count()"
   ]
  },
  {
   "cell_type": "markdown",
   "metadata": {},
   "source": [
    "Заменим пропуски в колонке total_income."
   ]
  },
  {
   "cell_type": "code",
   "execution_count": 4,
   "metadata": {},
   "outputs": [],
   "source": [
    "# найдем все виды занятости в пропущеных значениях\n",
    "bank[bank['total_income'].isna()]['income_type'].value_counts()\n",
    "# найдем среднее значение для каждого типа\n",
    "# для этого напишем функцию\n",
    "def mean_f(income_type):\n",
    "    result = 0\n",
    "    result = bank[bank['income_type'] == income_type]['total_income'].mean()\n",
    "    return result\n",
    "    \n",
    "sotr_mean = mean_f('сотрудник')\n",
    "comp_mean = mean_f('компаньон')\n",
    "penc_mean = mean_f('пенсионер')\n",
    "gos_mean = mean_f('госслужащий')\n",
    "pred_mean = mean_f('предприниматель')\n",
    "\n",
    "# заменим пропуски на среднее значение методом fillna()\n",
    "# для этого напишем функцию\n",
    "def fillna_f(income_type, mean):\n",
    "    bank.loc[bank['income_type'] == income_type, 'total_income'] = bank[bank['income_type'] == income_type]['total_income'].fillna(mean)\n",
    "    \n",
    "fillna_f('сотрудник', sotr_mean)\n",
    "fillna_f('компаньон', comp_mean)\n",
    "fillna_f('пенсионер', penc_mean)\n",
    "fillna_f('госслужащий', gos_mean)\n",
    "fillna_f('предприниматель', pred_mean)"
   ]
  },
  {
   "cell_type": "code",
   "execution_count": 5,
   "metadata": {},
   "outputs": [
    {
     "data": {
      "text/plain": [
       "0"
      ]
     },
     "execution_count": 5,
     "metadata": {},
     "output_type": "execute_result"
    }
   ],
   "source": [
    "# проверим методом count()\n",
    "\n",
    "bank[bank['total_income'].isna()]['income_type'].count()"
   ]
  },
  {
   "cell_type": "markdown",
   "metadata": {},
   "source": [
    "**Вывод**"
   ]
  },
  {
   "cell_type": "markdown",
   "metadata": {},
   "source": [
    "В данных имелись пропуски, которые скорее всего были вызваны технической ошибкой. Мы заполнили их методом fillna(), для того чтобы не потерять важные для иследования данные. Также мы произвели замену выбросов на медианное значение для более точного анализа."
   ]
  },
  {
   "cell_type": "markdown",
   "metadata": {},
   "source": [
    "### Замена типа данных"
   ]
  },
  {
   "cell_type": "markdown",
   "metadata": {},
   "source": [
    "Заменим значения float на int"
   ]
  },
  {
   "cell_type": "code",
   "execution_count": 8,
   "metadata": {},
   "outputs": [
    {
     "name": "stdout",
     "output_type": "stream",
     "text": [
      "<class 'pandas.core.frame.DataFrame'>\n",
      "RangeIndex: 21525 entries, 0 to 21524\n",
      "Data columns (total 12 columns):\n",
      "children            21525 non-null int64\n",
      "days_employed       21525 non-null int64\n",
      "dob_years           21525 non-null int64\n",
      "education           21525 non-null object\n",
      "education_id        21525 non-null int64\n",
      "family_status       21525 non-null object\n",
      "family_status_id    21525 non-null int64\n",
      "gender              21525 non-null object\n",
      "income_type         21525 non-null object\n",
      "debt                21525 non-null int64\n",
      "total_income        21525 non-null int64\n",
      "purpose             21525 non-null object\n",
      "dtypes: int64(7), object(5)\n",
      "memory usage: 2.0+ MB\n"
     ]
    }
   ],
   "source": [
    "# поменяем тим данных методом astype()\n",
    "bank['days_employed'] = bank['days_employed'].astype('int')\n",
    "bank['total_income'] = bank['total_income'].astype('int')\n",
    "# проверим результат\n",
    "bank.info()"
   ]
  },
  {
   "cell_type": "markdown",
   "metadata": {},
   "source": [
    "**Вывод**"
   ]
  },
  {
   "cell_type": "markdown",
   "metadata": {},
   "source": [
    "В колонках с трудовым стажем в днях и ежемесячным доходом были значения с вещественным типом, которые мы поменяли на цельночисленные. Для замены мы использовали метод astype() т.к. он позволяет изменить вещественный тип данных на цельночисленный."
   ]
  },
  {
   "cell_type": "markdown",
   "metadata": {},
   "source": [
    "### Обработка дубликатов"
   ]
  },
  {
   "cell_type": "markdown",
   "metadata": {},
   "source": [
    "Удалим дубликаты категориальных значений в регистре колонки education, приведя их значения к нижнему регистру."
   ]
  },
  {
   "cell_type": "code",
   "execution_count": 6,
   "metadata": {},
   "outputs": [
    {
     "data": {
      "text/plain": [
       "array(['высшее', 'среднее', 'неоконченное высшее', 'начальное',\n",
       "       'ученая степень'], dtype=object)"
      ]
     },
     "execution_count": 6,
     "metadata": {},
     "output_type": "execute_result"
    }
   ],
   "source": [
    "# приведем все значения к нижнему регистру методом str.lower()\n",
    "bank['education'] = bank['education'].str.lower()\n",
    "# проверим результат методом unique()\n",
    "bank['education'].unique()"
   ]
  },
  {
   "cell_type": "markdown",
   "metadata": {},
   "source": [
    "Попробуем найти \"грубые\" дубликаты."
   ]
  },
  {
   "cell_type": "code",
   "execution_count": 7,
   "metadata": {},
   "outputs": [
    {
     "data": {
      "text/plain": [
       "71"
      ]
     },
     "execution_count": 7,
     "metadata": {},
     "output_type": "execute_result"
    }
   ],
   "source": [
    "# найдем кол-во дубликатов методами duplicated() и sum()\n",
    "bank.duplicated().sum()"
   ]
  },
  {
   "cell_type": "markdown",
   "metadata": {},
   "source": [
    "Удалим их."
   ]
  },
  {
   "cell_type": "code",
   "execution_count": 8,
   "metadata": {},
   "outputs": [
    {
     "data": {
      "text/plain": [
       "0"
      ]
     },
     "execution_count": 8,
     "metadata": {},
     "output_type": "execute_result"
    }
   ],
   "source": [
    "# удалим дупликаты методом drop_duplicates() и удалим индексы методом reset_index()\n",
    "bank = bank.drop_duplicates().reset_index(drop=True)\n",
    "# проверим результат\n",
    "bank.duplicated().sum()"
   ]
  },
  {
   "cell_type": "markdown",
   "metadata": {},
   "source": [
    "**Вывод**"
   ]
  },
  {
   "cell_type": "markdown",
   "metadata": {},
   "source": [
    "В данных были дубликаты двух видов - \"грубые\" и с разым регистром. \"Грубые\" дубликаты это - следствие технической ошибки, а дубликаты с разным регистром - это ошибки при заполнении данных. Для поиска \"грубых\" дубликатов мы использовали метод duplicated(), а для удаления метод drop_duplicates с reset_index для удаления индексов. А что бы удалить дубликаты в регистре мы использовали метод str.lower() для приведения значений к нижнему регистру."
   ]
  },
  {
   "cell_type": "markdown",
   "metadata": {},
   "source": [
    "### Лемматизация"
   ]
  },
  {
   "cell_type": "markdown",
   "metadata": {},
   "source": [
    "Импортируем библиотеку с функцией лемматизации."
   ]
  },
  {
   "cell_type": "code",
   "execution_count": 12,
   "metadata": {},
   "outputs": [],
   "source": [
    "from pymystem3 import Mystem\n",
    "m = Mystem()\n",
    "from collections import Counter"
   ]
  },
  {
   "cell_type": "markdown",
   "metadata": {},
   "source": [
    "Выведем из целей для кредита уникальные значения и изучим информацию."
   ]
  },
  {
   "cell_type": "code",
   "execution_count": 13,
   "metadata": {},
   "outputs": [
    {
     "data": {
      "text/plain": [
       "array(['покупка жилья', 'приобретение автомобиля',\n",
       "       'дополнительное образование', 'сыграть свадьбу',\n",
       "       'операции с жильем', 'образование', 'на проведение свадьбы',\n",
       "       'покупка жилья для семьи', 'покупка недвижимости',\n",
       "       'покупка коммерческой недвижимости', 'покупка жилой недвижимости',\n",
       "       'строительство собственной недвижимости', 'недвижимость',\n",
       "       'строительство недвижимости', 'на покупку подержанного автомобиля',\n",
       "       'на покупку своего автомобиля',\n",
       "       'операции с коммерческой недвижимостью',\n",
       "       'строительство жилой недвижимости', 'жилье',\n",
       "       'операции со своей недвижимостью', 'автомобили',\n",
       "       'заняться образованием', 'сделка с подержанным автомобилем',\n",
       "       'получение образования', 'автомобиль', 'свадьба',\n",
       "       'получение дополнительного образования', 'покупка своего жилья',\n",
       "       'операции с недвижимостью', 'получение высшего образования',\n",
       "       'свой автомобиль', 'сделка с автомобилем',\n",
       "       'профильное образование', 'высшее образование',\n",
       "       'покупка жилья для сдачи', 'на покупку автомобиля', 'ремонт жилью',\n",
       "       'заняться высшим образованием'], dtype=object)"
      ]
     },
     "execution_count": 13,
     "metadata": {},
     "output_type": "execute_result"
    }
   ],
   "source": [
    "bank['purpose'].unique()"
   ]
  },
  {
   "cell_type": "markdown",
   "metadata": {},
   "source": [
    "Мы видим, что основные цели для кредита это различные операции с недвижимостью, автомобилем, свадьбой и образованием.\n",
    "Выведем леммы для данных значений."
   ]
  },
  {
   "cell_type": "code",
   "execution_count": 14,
   "metadata": {
    "scrolled": true
   },
   "outputs": [
    {
     "data": {
      "text/plain": [
       "Counter({'покупка': 5900,\n",
       "         ' ': 33596,\n",
       "         'жилье': 4461,\n",
       "         '\\n': 21471,\n",
       "         'приобретение': 461,\n",
       "         'автомобиль': 4308,\n",
       "         'дополнительный': 907,\n",
       "         'образование': 4014,\n",
       "         'сыграть': 769,\n",
       "         'свадьба': 2335,\n",
       "         'операция': 2604,\n",
       "         'с': 2918,\n",
       "         'на': 2228,\n",
       "         'проведение': 773,\n",
       "         'для': 1290,\n",
       "         'семья': 638,\n",
       "         'недвижимость': 6353,\n",
       "         'коммерческий': 1312,\n",
       "         'жилой': 1231,\n",
       "         'строительство': 1879,\n",
       "         'собственный': 635,\n",
       "         'подержать': 478,\n",
       "         'свой': 2231,\n",
       "         'со': 627,\n",
       "         'заниматься': 904,\n",
       "         'сделка': 941,\n",
       "         'подержанный': 486,\n",
       "         'получение': 1315,\n",
       "         'высокий': 1374,\n",
       "         'профильный': 436,\n",
       "         'сдача': 652,\n",
       "         'ремонт': 607})"
      ]
     },
     "execution_count": 14,
     "metadata": {},
     "output_type": "execute_result"
    }
   ],
   "source": [
    "lemm = []\n",
    "for row in bank['purpose']:\n",
    "    lemm += m.lemmatize(row)\n",
    "Counter(lemm)\n"
   ]
  },
  {
   "cell_type": "markdown",
   "metadata": {},
   "source": [
    "Выпишем основыне леммы в отдельную строку и проведем для них стемминг."
   ]
  },
  {
   "cell_type": "code",
   "execution_count": 15,
   "metadata": {},
   "outputs": [],
   "source": [
    "lemm_purpose = ['жилье', 'недвижимость', 'автомобиль', 'свадьба', 'образование']"
   ]
  },
  {
   "cell_type": "code",
   "execution_count": 16,
   "metadata": {},
   "outputs": [
    {
     "name": "stdout",
     "output_type": "stream",
     "text": [
      "жил\n",
      "недвижим\n",
      "автомобил\n",
      "свадьб\n",
      "образован\n"
     ]
    }
   ],
   "source": [
    "from nltk.stem import SnowballStemmer\n",
    "russian_stemmer = SnowballStemmer('russian')\n",
    "\n",
    "for query in lemm_purpose:\n",
    "    for word in query.split():\n",
    "        stemmed_word = russian_stemmer.stem(word)\n",
    "        print(stemmed_word)"
   ]
  },
  {
   "cell_type": "markdown",
   "metadata": {},
   "source": [
    "**Вывод**"
   ]
  },
  {
   "cell_type": "markdown",
   "metadata": {},
   "source": [
    "Мы изучили данные по целям для получения кредита и провели для них лемматизацию, после чего выделили основные леммы с помощью библиотеки pymystemm и применили к ним стемминг с помощью библиотеки NLTK, подготовив данные для дальнейшего анализа."
   ]
  },
  {
   "cell_type": "markdown",
   "metadata": {},
   "source": [
    "### Категоризация данных"
   ]
  },
  {
   "cell_type": "markdown",
   "metadata": {},
   "source": [
    "Для дальнейшей работы проверим данные на наличие дополнительных ошибок."
   ]
  },
  {
   "cell_type": "code",
   "execution_count": 17,
   "metadata": {},
   "outputs": [
    {
     "data": {
      "text/plain": [
       " 0     14107\n",
       " 1      4809\n",
       " 2      2052\n",
       " 3       330\n",
       " 20       76\n",
       "-1        47\n",
       " 4        41\n",
       " 5         9\n",
       "Name: children, dtype: int64"
      ]
     },
     "execution_count": 17,
     "metadata": {},
     "output_type": "execute_result"
    }
   ],
   "source": [
    "# проверим корректность данных в колонке children\n",
    "bank['children'].value_counts()"
   ]
  },
  {
   "cell_type": "markdown",
   "metadata": {},
   "source": [
    "Мы видим что данная колонка имеет не корректные данные в небольшом обьеме, поэтому мы их удалим"
   ]
  },
  {
   "cell_type": "code",
   "execution_count": 9,
   "metadata": {},
   "outputs": [
    {
     "data": {
      "text/plain": [
       "0    14091\n",
       "1     4855\n",
       "2     2128\n",
       "3      330\n",
       "4       41\n",
       "5        9\n",
       "Name: children, dtype: int64"
      ]
     },
     "execution_count": 9,
     "metadata": {},
     "output_type": "execute_result"
    }
   ],
   "source": [
    "# предположим что значения -1 и 20 возникли при некорректной записи\n",
    "# заменим из на значения 2 и 1\n",
    "bank['children'] = bank['children'].replace(20, 2)\n",
    "bank['children'] = bank['children'].replace(-1, 1)\n",
    "\n",
    "# проверим результат\n",
    "bank['children'].value_counts()"
   ]
  },
  {
   "cell_type": "markdown",
   "metadata": {},
   "source": [
    "Проверим колонку с возрастом клиента"
   ]
  },
  {
   "cell_type": "code",
   "execution_count": 10,
   "metadata": {},
   "outputs": [
    {
     "name": "stdout",
     "output_type": "stream",
     "text": [
      "0\n",
      "75\n"
     ]
    }
   ],
   "source": [
    "print(bank['dob_years'].min())\n",
    "print(bank['dob_years'].max())"
   ]
  },
  {
   "cell_type": "markdown",
   "metadata": {},
   "source": [
    "Мы видим что имеются некоректные значения. Проверим сколько значений меньше 18 лет"
   ]
  },
  {
   "cell_type": "code",
   "execution_count": 11,
   "metadata": {},
   "outputs": [
    {
     "data": {
      "text/plain": [
       "101"
      ]
     },
     "execution_count": 11,
     "metadata": {},
     "output_type": "execute_result"
    }
   ],
   "source": [
    "bank[bank['dob_years'] < 18]['dob_years'].count()"
   ]
  },
  {
   "cell_type": "markdown",
   "metadata": {},
   "source": [
    "Т.к. значений немного мы можем их удалить"
   ]
  },
  {
   "cell_type": "code",
   "execution_count": 12,
   "metadata": {},
   "outputs": [
    {
     "data": {
      "text/plain": [
       "0"
      ]
     },
     "execution_count": 12,
     "metadata": {},
     "output_type": "execute_result"
    }
   ],
   "source": [
    "bank = bank[bank['dob_years'] >= 18]\n",
    "bank[bank['dob_years'] < 18]['dob_years'].count()"
   ]
  },
  {
   "cell_type": "markdown",
   "metadata": {},
   "source": [
    "Проверим совпадает ли кол-во значений и их идентификаторов в колонках с уровнем образования и семйным положением"
   ]
  },
  {
   "cell_type": "code",
   "execution_count": 22,
   "metadata": {},
   "outputs": [
    {
     "name": "stdout",
     "output_type": "stream",
     "text": [
      "5\n",
      "5\n"
     ]
    }
   ],
   "source": [
    "print(len(bank['education'].unique()))\n",
    "print(len(bank['education_id'].unique()))"
   ]
  },
  {
   "cell_type": "code",
   "execution_count": 23,
   "metadata": {},
   "outputs": [
    {
     "name": "stdout",
     "output_type": "stream",
     "text": [
      "5\n",
      "5\n"
     ]
    }
   ],
   "source": [
    "print(len(bank['family_status'].unique()))\n",
    "print(len(bank['family_status_id'].unique()))"
   ]
  },
  {
   "cell_type": "markdown",
   "metadata": {},
   "source": [
    "Проверим колонку с полом клиента"
   ]
  },
  {
   "cell_type": "code",
   "execution_count": 24,
   "metadata": {},
   "outputs": [
    {
     "data": {
      "text/plain": [
       "array(['F', 'M', 'XNA'], dtype=object)"
      ]
     },
     "execution_count": 24,
     "metadata": {},
     "output_type": "execute_result"
    }
   ],
   "source": [
    "bank['gender'].unique()"
   ]
  },
  {
   "cell_type": "code",
   "execution_count": 25,
   "metadata": {},
   "outputs": [
    {
     "data": {
      "text/plain": [
       "F      14036\n",
       "M       7211\n",
       "XNA        1\n",
       "Name: gender, dtype: int64"
      ]
     },
     "execution_count": 25,
     "metadata": {},
     "output_type": "execute_result"
    }
   ],
   "source": [
    "bank['gender'].value_counts()"
   ]
  },
  {
   "cell_type": "markdown",
   "metadata": {},
   "source": [
    "Имеется всего 1 некоректное значение от которого мы можем избавится"
   ]
  },
  {
   "cell_type": "code",
   "execution_count": 26,
   "metadata": {},
   "outputs": [
    {
     "data": {
      "text/plain": [
       "F    14036\n",
       "M     7211\n",
       "Name: gender, dtype: int64"
      ]
     },
     "execution_count": 26,
     "metadata": {},
     "output_type": "execute_result"
    }
   ],
   "source": [
    "bank = bank[bank['gender'] != 'XNA']\n",
    "bank['gender'].value_counts()"
   ]
  },
  {
   "cell_type": "markdown",
   "metadata": {},
   "source": [
    "Проверим колонку с типом занятости клиента"
   ]
  },
  {
   "cell_type": "code",
   "execution_count": 27,
   "metadata": {},
   "outputs": [
    {
     "data": {
      "text/plain": [
       "array(['сотрудник', 'пенсионер', 'компаньон', 'госслужащий',\n",
       "       'безработный', 'предприниматель', 'студент', 'в декрете'],\n",
       "      dtype=object)"
      ]
     },
     "execution_count": 27,
     "metadata": {},
     "output_type": "execute_result"
    }
   ],
   "source": [
    "bank['income_type'].unique()"
   ]
  },
  {
   "cell_type": "markdown",
   "metadata": {},
   "source": [
    "И проверим колонку с задолжностью по возвратам"
   ]
  },
  {
   "cell_type": "code",
   "execution_count": 28,
   "metadata": {},
   "outputs": [
    {
     "data": {
      "text/plain": [
       "array([0, 1])"
      ]
     },
     "execution_count": 28,
     "metadata": {},
     "output_type": "execute_result"
    }
   ],
   "source": [
    "bank['debt'].unique()"
   ]
  },
  {
   "cell_type": "markdown",
   "metadata": {},
   "source": [
    "Теперь данные очищены и готовы к дальнейшей работе. Категоризируем их по целям получения кредита."
   ]
  },
  {
   "cell_type": "code",
   "execution_count": 50,
   "metadata": {},
   "outputs": [],
   "source": [
    "# создадим функцию для разделения целей на категории\n",
    "def purpose_lemmas(row):\n",
    "    pur = row['purpose']\n",
    "    if ('недвижим' in pur) or ('жил' in pur):\n",
    "        return 'Недвижимость'\n",
    "    elif 'автомобил' in pur:\n",
    "        return 'Автомобиль'\n",
    "    elif 'свадьб' in pur:\n",
    "        return 'Свадьба'\n",
    "    elif 'образован' in pur:\n",
    "        return 'Образование'\n",
    "    else:\n",
    "        return 'Неизвестно'\n"
   ]
  },
  {
   "cell_type": "code",
   "execution_count": 51,
   "metadata": {},
   "outputs": [
    {
     "data": {
      "text/html": [
       "<div>\n",
       "<style scoped>\n",
       "    .dataframe tbody tr th:only-of-type {\n",
       "        vertical-align: middle;\n",
       "    }\n",
       "\n",
       "    .dataframe tbody tr th {\n",
       "        vertical-align: top;\n",
       "    }\n",
       "\n",
       "    .dataframe thead th {\n",
       "        text-align: right;\n",
       "    }\n",
       "</style>\n",
       "<table border=\"1\" class=\"dataframe\">\n",
       "  <thead>\n",
       "    <tr style=\"text-align: right;\">\n",
       "      <th></th>\n",
       "      <th>children</th>\n",
       "      <th>days_employed</th>\n",
       "      <th>dob_years</th>\n",
       "      <th>education</th>\n",
       "      <th>education_id</th>\n",
       "      <th>family_status</th>\n",
       "      <th>family_status_id</th>\n",
       "      <th>gender</th>\n",
       "      <th>income_type</th>\n",
       "      <th>debt</th>\n",
       "      <th>total_income</th>\n",
       "      <th>purpose</th>\n",
       "      <th>income_category</th>\n",
       "      <th>purpose_category</th>\n",
       "    </tr>\n",
       "  </thead>\n",
       "  <tbody>\n",
       "    <tr>\n",
       "      <td>0</td>\n",
       "      <td>1</td>\n",
       "      <td>8437.673028</td>\n",
       "      <td>42</td>\n",
       "      <td>высшее</td>\n",
       "      <td>0</td>\n",
       "      <td>женат / замужем</td>\n",
       "      <td>0</td>\n",
       "      <td>F</td>\n",
       "      <td>сотрудник</td>\n",
       "      <td>0</td>\n",
       "      <td>253875.639453</td>\n",
       "      <td>покупка жилья</td>\n",
       "      <td>Выше среднего</td>\n",
       "      <td>Недвижимость</td>\n",
       "    </tr>\n",
       "    <tr>\n",
       "      <td>1</td>\n",
       "      <td>1</td>\n",
       "      <td>4024.803754</td>\n",
       "      <td>36</td>\n",
       "      <td>среднее</td>\n",
       "      <td>1</td>\n",
       "      <td>женат / замужем</td>\n",
       "      <td>0</td>\n",
       "      <td>F</td>\n",
       "      <td>сотрудник</td>\n",
       "      <td>0</td>\n",
       "      <td>112080.014102</td>\n",
       "      <td>приобретение автомобиля</td>\n",
       "      <td>Ниже среднего</td>\n",
       "      <td>Автомобиль</td>\n",
       "    </tr>\n",
       "    <tr>\n",
       "      <td>2</td>\n",
       "      <td>0</td>\n",
       "      <td>5623.422610</td>\n",
       "      <td>33</td>\n",
       "      <td>среднее</td>\n",
       "      <td>1</td>\n",
       "      <td>женат / замужем</td>\n",
       "      <td>0</td>\n",
       "      <td>M</td>\n",
       "      <td>сотрудник</td>\n",
       "      <td>0</td>\n",
       "      <td>145885.952297</td>\n",
       "      <td>покупка жилья</td>\n",
       "      <td>Средний</td>\n",
       "      <td>Недвижимость</td>\n",
       "    </tr>\n",
       "    <tr>\n",
       "      <td>3</td>\n",
       "      <td>3</td>\n",
       "      <td>4124.747207</td>\n",
       "      <td>32</td>\n",
       "      <td>среднее</td>\n",
       "      <td>1</td>\n",
       "      <td>женат / замужем</td>\n",
       "      <td>0</td>\n",
       "      <td>M</td>\n",
       "      <td>сотрудник</td>\n",
       "      <td>0</td>\n",
       "      <td>267628.550329</td>\n",
       "      <td>дополнительное образование</td>\n",
       "      <td>Выше среднего</td>\n",
       "      <td>Образование</td>\n",
       "    </tr>\n",
       "    <tr>\n",
       "      <td>4</td>\n",
       "      <td>0</td>\n",
       "      <td>340266.072047</td>\n",
       "      <td>53</td>\n",
       "      <td>среднее</td>\n",
       "      <td>1</td>\n",
       "      <td>гражданский брак</td>\n",
       "      <td>1</td>\n",
       "      <td>F</td>\n",
       "      <td>пенсионер</td>\n",
       "      <td>0</td>\n",
       "      <td>158616.077870</td>\n",
       "      <td>сыграть свадьбу</td>\n",
       "      <td>Средний</td>\n",
       "      <td>Свадьба</td>\n",
       "    </tr>\n",
       "    <tr>\n",
       "      <td>5</td>\n",
       "      <td>0</td>\n",
       "      <td>926.185831</td>\n",
       "      <td>27</td>\n",
       "      <td>высшее</td>\n",
       "      <td>0</td>\n",
       "      <td>гражданский брак</td>\n",
       "      <td>1</td>\n",
       "      <td>M</td>\n",
       "      <td>компаньон</td>\n",
       "      <td>0</td>\n",
       "      <td>255763.565419</td>\n",
       "      <td>покупка жилья</td>\n",
       "      <td>Выше среднего</td>\n",
       "      <td>Недвижимость</td>\n",
       "    </tr>\n",
       "    <tr>\n",
       "      <td>6</td>\n",
       "      <td>0</td>\n",
       "      <td>2879.202052</td>\n",
       "      <td>43</td>\n",
       "      <td>высшее</td>\n",
       "      <td>0</td>\n",
       "      <td>женат / замужем</td>\n",
       "      <td>0</td>\n",
       "      <td>F</td>\n",
       "      <td>компаньон</td>\n",
       "      <td>0</td>\n",
       "      <td>240525.971920</td>\n",
       "      <td>операции с жильем</td>\n",
       "      <td>Выше среднего</td>\n",
       "      <td>Недвижимость</td>\n",
       "    </tr>\n",
       "    <tr>\n",
       "      <td>7</td>\n",
       "      <td>0</td>\n",
       "      <td>152.779569</td>\n",
       "      <td>50</td>\n",
       "      <td>среднее</td>\n",
       "      <td>1</td>\n",
       "      <td>женат / замужем</td>\n",
       "      <td>0</td>\n",
       "      <td>M</td>\n",
       "      <td>сотрудник</td>\n",
       "      <td>0</td>\n",
       "      <td>135823.934197</td>\n",
       "      <td>образование</td>\n",
       "      <td>Средний</td>\n",
       "      <td>Образование</td>\n",
       "    </tr>\n",
       "    <tr>\n",
       "      <td>8</td>\n",
       "      <td>2</td>\n",
       "      <td>6929.865299</td>\n",
       "      <td>35</td>\n",
       "      <td>высшее</td>\n",
       "      <td>0</td>\n",
       "      <td>гражданский брак</td>\n",
       "      <td>1</td>\n",
       "      <td>F</td>\n",
       "      <td>сотрудник</td>\n",
       "      <td>0</td>\n",
       "      <td>95856.832424</td>\n",
       "      <td>на проведение свадьбы</td>\n",
       "      <td>Ниже среднего</td>\n",
       "      <td>Свадьба</td>\n",
       "    </tr>\n",
       "    <tr>\n",
       "      <td>9</td>\n",
       "      <td>0</td>\n",
       "      <td>2188.756445</td>\n",
       "      <td>41</td>\n",
       "      <td>среднее</td>\n",
       "      <td>1</td>\n",
       "      <td>женат / замужем</td>\n",
       "      <td>0</td>\n",
       "      <td>M</td>\n",
       "      <td>сотрудник</td>\n",
       "      <td>0</td>\n",
       "      <td>144425.938277</td>\n",
       "      <td>покупка жилья для семьи</td>\n",
       "      <td>Средний</td>\n",
       "      <td>Недвижимость</td>\n",
       "    </tr>\n",
       "  </tbody>\n",
       "</table>\n",
       "</div>"
      ],
      "text/plain": [
       "   children  days_employed  dob_years education  education_id  \\\n",
       "0         1    8437.673028         42    высшее             0   \n",
       "1         1    4024.803754         36   среднее             1   \n",
       "2         0    5623.422610         33   среднее             1   \n",
       "3         3    4124.747207         32   среднее             1   \n",
       "4         0  340266.072047         53   среднее             1   \n",
       "5         0     926.185831         27    высшее             0   \n",
       "6         0    2879.202052         43    высшее             0   \n",
       "7         0     152.779569         50   среднее             1   \n",
       "8         2    6929.865299         35    высшее             0   \n",
       "9         0    2188.756445         41   среднее             1   \n",
       "\n",
       "      family_status  family_status_id gender income_type  debt   total_income  \\\n",
       "0   женат / замужем                 0      F   сотрудник     0  253875.639453   \n",
       "1   женат / замужем                 0      F   сотрудник     0  112080.014102   \n",
       "2   женат / замужем                 0      M   сотрудник     0  145885.952297   \n",
       "3   женат / замужем                 0      M   сотрудник     0  267628.550329   \n",
       "4  гражданский брак                 1      F   пенсионер     0  158616.077870   \n",
       "5  гражданский брак                 1      M   компаньон     0  255763.565419   \n",
       "6   женат / замужем                 0      F   компаньон     0  240525.971920   \n",
       "7   женат / замужем                 0      M   сотрудник     0  135823.934197   \n",
       "8  гражданский брак                 1      F   сотрудник     0   95856.832424   \n",
       "9   женат / замужем                 0      M   сотрудник     0  144425.938277   \n",
       "\n",
       "                      purpose income_category purpose_category  \n",
       "0               покупка жилья   Выше среднего     Недвижимость  \n",
       "1     приобретение автомобиля   Ниже среднего       Автомобиль  \n",
       "2               покупка жилья         Средний     Недвижимость  \n",
       "3  дополнительное образование   Выше среднего      Образование  \n",
       "4             сыграть свадьбу         Средний          Свадьба  \n",
       "5               покупка жилья   Выше среднего     Недвижимость  \n",
       "6           операции с жильем   Выше среднего     Недвижимость  \n",
       "7                 образование         Средний      Образование  \n",
       "8       на проведение свадьбы   Ниже среднего          Свадьба  \n",
       "9     покупка жилья для семьи         Средний     Недвижимость  "
      ]
     },
     "execution_count": 51,
     "metadata": {},
     "output_type": "execute_result"
    }
   ],
   "source": [
    "# применим функцию и проверим результат\n",
    "bank['purpose_category'] = bank.apply(purpose_lemmas, axis=1)\n",
    "bank.head(10)"
   ]
  },
  {
   "cell_type": "code",
   "execution_count": 52,
   "metadata": {},
   "outputs": [
    {
     "data": {
      "text/plain": [
       "0"
      ]
     },
     "execution_count": 52,
     "metadata": {},
     "output_type": "execute_result"
    }
   ],
   "source": [
    "# проверим есть ли неизвестные категории\n",
    "bank[bank['purpose_category'] == 'Неизвестно']['purpose_category'].count()"
   ]
  },
  {
   "cell_type": "markdown",
   "metadata": {},
   "source": [
    "Категоризируем данные по ежемесячному доходу"
   ]
  },
  {
   "cell_type": "code",
   "execution_count": 41,
   "metadata": {},
   "outputs": [
    {
     "data": {
      "text/plain": [
       "0.33    122201.772628\n",
       "0.66    174860.931712\n",
       "Name: total_income, dtype: float64"
      ]
     },
     "execution_count": 41,
     "metadata": {},
     "output_type": "execute_result"
    }
   ],
   "source": [
    "# найдем квантили\n",
    "t_mean = bank['total_income'].mean\n",
    "bank['total_income'].quantile([0.33, 0.66])"
   ]
  },
  {
   "cell_type": "code",
   "execution_count": 42,
   "metadata": {},
   "outputs": [],
   "source": [
    "# запишем квантили в переменные\n",
    "q33 = 122201.772628\n",
    "q66 = 174860.931712"
   ]
  },
  {
   "cell_type": "code",
   "execution_count": 43,
   "metadata": {},
   "outputs": [],
   "source": [
    "# напишем функцию для деления по уровню дохода\n",
    "def income_category(row):\n",
    "    inc = row['total_income']\n",
    "    if inc < q33:\n",
    "        return 'Ниже среднего'\n",
    "    elif q33 < inc < q66:\n",
    "        return 'Средний'\n",
    "    elif inc > q66:\n",
    "        return 'Выше среднего'"
   ]
  },
  {
   "cell_type": "code",
   "execution_count": 44,
   "metadata": {},
   "outputs": [
    {
     "data": {
      "text/html": [
       "<div>\n",
       "<style scoped>\n",
       "    .dataframe tbody tr th:only-of-type {\n",
       "        vertical-align: middle;\n",
       "    }\n",
       "\n",
       "    .dataframe tbody tr th {\n",
       "        vertical-align: top;\n",
       "    }\n",
       "\n",
       "    .dataframe thead th {\n",
       "        text-align: right;\n",
       "    }\n",
       "</style>\n",
       "<table border=\"1\" class=\"dataframe\">\n",
       "  <thead>\n",
       "    <tr style=\"text-align: right;\">\n",
       "      <th></th>\n",
       "      <th>children</th>\n",
       "      <th>days_employed</th>\n",
       "      <th>dob_years</th>\n",
       "      <th>education</th>\n",
       "      <th>education_id</th>\n",
       "      <th>family_status</th>\n",
       "      <th>family_status_id</th>\n",
       "      <th>gender</th>\n",
       "      <th>income_type</th>\n",
       "      <th>debt</th>\n",
       "      <th>total_income</th>\n",
       "      <th>purpose</th>\n",
       "      <th>income_category</th>\n",
       "    </tr>\n",
       "  </thead>\n",
       "  <tbody>\n",
       "    <tr>\n",
       "      <td>0</td>\n",
       "      <td>1</td>\n",
       "      <td>8437.673028</td>\n",
       "      <td>42</td>\n",
       "      <td>высшее</td>\n",
       "      <td>0</td>\n",
       "      <td>женат / замужем</td>\n",
       "      <td>0</td>\n",
       "      <td>F</td>\n",
       "      <td>сотрудник</td>\n",
       "      <td>0</td>\n",
       "      <td>253875.639453</td>\n",
       "      <td>покупка жилья</td>\n",
       "      <td>Выше среднего</td>\n",
       "    </tr>\n",
       "    <tr>\n",
       "      <td>1</td>\n",
       "      <td>1</td>\n",
       "      <td>4024.803754</td>\n",
       "      <td>36</td>\n",
       "      <td>среднее</td>\n",
       "      <td>1</td>\n",
       "      <td>женат / замужем</td>\n",
       "      <td>0</td>\n",
       "      <td>F</td>\n",
       "      <td>сотрудник</td>\n",
       "      <td>0</td>\n",
       "      <td>112080.014102</td>\n",
       "      <td>приобретение автомобиля</td>\n",
       "      <td>Ниже среднего</td>\n",
       "    </tr>\n",
       "    <tr>\n",
       "      <td>2</td>\n",
       "      <td>0</td>\n",
       "      <td>5623.422610</td>\n",
       "      <td>33</td>\n",
       "      <td>среднее</td>\n",
       "      <td>1</td>\n",
       "      <td>женат / замужем</td>\n",
       "      <td>0</td>\n",
       "      <td>M</td>\n",
       "      <td>сотрудник</td>\n",
       "      <td>0</td>\n",
       "      <td>145885.952297</td>\n",
       "      <td>покупка жилья</td>\n",
       "      <td>Средний</td>\n",
       "    </tr>\n",
       "    <tr>\n",
       "      <td>3</td>\n",
       "      <td>3</td>\n",
       "      <td>4124.747207</td>\n",
       "      <td>32</td>\n",
       "      <td>среднее</td>\n",
       "      <td>1</td>\n",
       "      <td>женат / замужем</td>\n",
       "      <td>0</td>\n",
       "      <td>M</td>\n",
       "      <td>сотрудник</td>\n",
       "      <td>0</td>\n",
       "      <td>267628.550329</td>\n",
       "      <td>дополнительное образование</td>\n",
       "      <td>Выше среднего</td>\n",
       "    </tr>\n",
       "    <tr>\n",
       "      <td>4</td>\n",
       "      <td>0</td>\n",
       "      <td>340266.072047</td>\n",
       "      <td>53</td>\n",
       "      <td>среднее</td>\n",
       "      <td>1</td>\n",
       "      <td>гражданский брак</td>\n",
       "      <td>1</td>\n",
       "      <td>F</td>\n",
       "      <td>пенсионер</td>\n",
       "      <td>0</td>\n",
       "      <td>158616.077870</td>\n",
       "      <td>сыграть свадьбу</td>\n",
       "      <td>Средний</td>\n",
       "    </tr>\n",
       "    <tr>\n",
       "      <td>5</td>\n",
       "      <td>0</td>\n",
       "      <td>926.185831</td>\n",
       "      <td>27</td>\n",
       "      <td>высшее</td>\n",
       "      <td>0</td>\n",
       "      <td>гражданский брак</td>\n",
       "      <td>1</td>\n",
       "      <td>M</td>\n",
       "      <td>компаньон</td>\n",
       "      <td>0</td>\n",
       "      <td>255763.565419</td>\n",
       "      <td>покупка жилья</td>\n",
       "      <td>Выше среднего</td>\n",
       "    </tr>\n",
       "    <tr>\n",
       "      <td>6</td>\n",
       "      <td>0</td>\n",
       "      <td>2879.202052</td>\n",
       "      <td>43</td>\n",
       "      <td>высшее</td>\n",
       "      <td>0</td>\n",
       "      <td>женат / замужем</td>\n",
       "      <td>0</td>\n",
       "      <td>F</td>\n",
       "      <td>компаньон</td>\n",
       "      <td>0</td>\n",
       "      <td>240525.971920</td>\n",
       "      <td>операции с жильем</td>\n",
       "      <td>Выше среднего</td>\n",
       "    </tr>\n",
       "    <tr>\n",
       "      <td>7</td>\n",
       "      <td>0</td>\n",
       "      <td>152.779569</td>\n",
       "      <td>50</td>\n",
       "      <td>среднее</td>\n",
       "      <td>1</td>\n",
       "      <td>женат / замужем</td>\n",
       "      <td>0</td>\n",
       "      <td>M</td>\n",
       "      <td>сотрудник</td>\n",
       "      <td>0</td>\n",
       "      <td>135823.934197</td>\n",
       "      <td>образование</td>\n",
       "      <td>Средний</td>\n",
       "    </tr>\n",
       "    <tr>\n",
       "      <td>8</td>\n",
       "      <td>2</td>\n",
       "      <td>6929.865299</td>\n",
       "      <td>35</td>\n",
       "      <td>высшее</td>\n",
       "      <td>0</td>\n",
       "      <td>гражданский брак</td>\n",
       "      <td>1</td>\n",
       "      <td>F</td>\n",
       "      <td>сотрудник</td>\n",
       "      <td>0</td>\n",
       "      <td>95856.832424</td>\n",
       "      <td>на проведение свадьбы</td>\n",
       "      <td>Ниже среднего</td>\n",
       "    </tr>\n",
       "    <tr>\n",
       "      <td>9</td>\n",
       "      <td>0</td>\n",
       "      <td>2188.756445</td>\n",
       "      <td>41</td>\n",
       "      <td>среднее</td>\n",
       "      <td>1</td>\n",
       "      <td>женат / замужем</td>\n",
       "      <td>0</td>\n",
       "      <td>M</td>\n",
       "      <td>сотрудник</td>\n",
       "      <td>0</td>\n",
       "      <td>144425.938277</td>\n",
       "      <td>покупка жилья для семьи</td>\n",
       "      <td>Средний</td>\n",
       "    </tr>\n",
       "  </tbody>\n",
       "</table>\n",
       "</div>"
      ],
      "text/plain": [
       "   children  days_employed  dob_years education  education_id  \\\n",
       "0         1    8437.673028         42    высшее             0   \n",
       "1         1    4024.803754         36   среднее             1   \n",
       "2         0    5623.422610         33   среднее             1   \n",
       "3         3    4124.747207         32   среднее             1   \n",
       "4         0  340266.072047         53   среднее             1   \n",
       "5         0     926.185831         27    высшее             0   \n",
       "6         0    2879.202052         43    высшее             0   \n",
       "7         0     152.779569         50   среднее             1   \n",
       "8         2    6929.865299         35    высшее             0   \n",
       "9         0    2188.756445         41   среднее             1   \n",
       "\n",
       "      family_status  family_status_id gender income_type  debt   total_income  \\\n",
       "0   женат / замужем                 0      F   сотрудник     0  253875.639453   \n",
       "1   женат / замужем                 0      F   сотрудник     0  112080.014102   \n",
       "2   женат / замужем                 0      M   сотрудник     0  145885.952297   \n",
       "3   женат / замужем                 0      M   сотрудник     0  267628.550329   \n",
       "4  гражданский брак                 1      F   пенсионер     0  158616.077870   \n",
       "5  гражданский брак                 1      M   компаньон     0  255763.565419   \n",
       "6   женат / замужем                 0      F   компаньон     0  240525.971920   \n",
       "7   женат / замужем                 0      M   сотрудник     0  135823.934197   \n",
       "8  гражданский брак                 1      F   сотрудник     0   95856.832424   \n",
       "9   женат / замужем                 0      M   сотрудник     0  144425.938277   \n",
       "\n",
       "                      purpose income_category  \n",
       "0               покупка жилья   Выше среднего  \n",
       "1     приобретение автомобиля   Ниже среднего  \n",
       "2               покупка жилья         Средний  \n",
       "3  дополнительное образование   Выше среднего  \n",
       "4             сыграть свадьбу         Средний  \n",
       "5               покупка жилья   Выше среднего  \n",
       "6           операции с жильем   Выше среднего  \n",
       "7                 образование         Средний  \n",
       "8       на проведение свадьбы   Ниже среднего  \n",
       "9     покупка жилья для семьи         Средний  "
      ]
     },
     "execution_count": 44,
     "metadata": {},
     "output_type": "execute_result"
    }
   ],
   "source": [
    "# применим функцию и проверим результат\n",
    "bank['income_category'] = bank.apply(income_category, axis=1)\n",
    "bank.head(10)"
   ]
  },
  {
   "cell_type": "markdown",
   "metadata": {},
   "source": [
    "**Вывод**"
   ]
  },
  {
   "cell_type": "markdown",
   "metadata": {},
   "source": [
    "Мы очистили данные от оставшихся ошибок и категоризировали их. Добавив категории с целью кредита и уровнем дохода мы сможем точнее ответить на поставленные вопросы."
   ]
  },
  {
   "cell_type": "markdown",
   "metadata": {},
   "source": [
    "## Шаг 3. Ответьте на вопросы"
   ]
  },
  {
   "cell_type": "markdown",
   "metadata": {},
   "source": [
    "- Есть ли зависимость между наличием детей и возвратом кредита в срок?"
   ]
  },
  {
   "cell_type": "code",
   "execution_count": 38,
   "metadata": {},
   "outputs": [
    {
     "data": {
      "text/html": [
       "<div>\n",
       "<style scoped>\n",
       "    .dataframe tbody tr th:only-of-type {\n",
       "        vertical-align: middle;\n",
       "    }\n",
       "\n",
       "    .dataframe tbody tr th {\n",
       "        vertical-align: top;\n",
       "    }\n",
       "\n",
       "    .dataframe thead th {\n",
       "        text-align: right;\n",
       "    }\n",
       "</style>\n",
       "<table border=\"1\" class=\"dataframe\">\n",
       "  <thead>\n",
       "    <tr style=\"text-align: right;\">\n",
       "      <th>debt</th>\n",
       "      <th>0</th>\n",
       "      <th>1</th>\n",
       "      <th>%</th>\n",
       "    </tr>\n",
       "    <tr>\n",
       "      <th>children</th>\n",
       "      <th></th>\n",
       "      <th></th>\n",
       "      <th></th>\n",
       "    </tr>\n",
       "  </thead>\n",
       "  <tbody>\n",
       "    <tr>\n",
       "      <td>0</td>\n",
       "      <td>12964.0</td>\n",
       "      <td>1058.0</td>\n",
       "      <td>7.545286</td>\n",
       "    </tr>\n",
       "    <tr>\n",
       "      <td>1</td>\n",
       "      <td>4397.0</td>\n",
       "      <td>442.0</td>\n",
       "      <td>9.134119</td>\n",
       "    </tr>\n",
       "    <tr>\n",
       "      <td>2</td>\n",
       "      <td>1912.0</td>\n",
       "      <td>202.0</td>\n",
       "      <td>9.555345</td>\n",
       "    </tr>\n",
       "    <tr>\n",
       "      <td>3</td>\n",
       "      <td>301.0</td>\n",
       "      <td>27.0</td>\n",
       "      <td>8.231707</td>\n",
       "    </tr>\n",
       "    <tr>\n",
       "      <td>4</td>\n",
       "      <td>37.0</td>\n",
       "      <td>4.0</td>\n",
       "      <td>9.756098</td>\n",
       "    </tr>\n",
       "    <tr>\n",
       "      <td>5</td>\n",
       "      <td>9.0</td>\n",
       "      <td>0.0</td>\n",
       "      <td>0.000000</td>\n",
       "    </tr>\n",
       "  </tbody>\n",
       "</table>\n",
       "</div>"
      ],
      "text/plain": [
       "debt            0       1         %\n",
       "children                           \n",
       "0         12964.0  1058.0  7.545286\n",
       "1          4397.0   442.0  9.134119\n",
       "2          1912.0   202.0  9.555345\n",
       "3           301.0    27.0  8.231707\n",
       "4            37.0     4.0  9.756098\n",
       "5             9.0     0.0  0.000000"
      ]
     },
     "execution_count": 38,
     "metadata": {},
     "output_type": "execute_result"
    }
   ],
   "source": [
    "children_pivot = bank.pivot_table(index=['children'], columns='debt', values='gender', aggfunc='count')\n",
    "children_pivot[1] = children_pivot[1].fillna(0)\n",
    "children_pivot['%'] = children_pivot[1] / (children_pivot[0] + children_pivot[1]) * 100\n",
    "children_pivot"
   ]
  },
  {
   "cell_type": "markdown",
   "metadata": {},
   "source": [
    "**Вывод**"
   ]
  },
  {
   "cell_type": "markdown",
   "metadata": {},
   "source": [
    "Людей с детьми почти в два раза меньше, а должников среди них больше. За исключением семей с 5ю детьми, у них 100% кредитов выплаченны."
   ]
  },
  {
   "cell_type": "markdown",
   "metadata": {},
   "source": [
    "- Есть ли зависимость между семейным положением и возвратом кредита в срок?"
   ]
  },
  {
   "cell_type": "code",
   "execution_count": 39,
   "metadata": {},
   "outputs": [
    {
     "data": {
      "text/html": [
       "<div>\n",
       "<style scoped>\n",
       "    .dataframe tbody tr th:only-of-type {\n",
       "        vertical-align: middle;\n",
       "    }\n",
       "\n",
       "    .dataframe tbody tr th {\n",
       "        vertical-align: top;\n",
       "    }\n",
       "\n",
       "    .dataframe thead th {\n",
       "        text-align: right;\n",
       "    }\n",
       "</style>\n",
       "<table border=\"1\" class=\"dataframe\">\n",
       "  <thead>\n",
       "    <tr style=\"text-align: right;\">\n",
       "      <th>debt</th>\n",
       "      <th>0</th>\n",
       "      <th>1</th>\n",
       "      <th>%</th>\n",
       "    </tr>\n",
       "    <tr>\n",
       "      <th>family_status</th>\n",
       "      <th></th>\n",
       "      <th></th>\n",
       "      <th></th>\n",
       "    </tr>\n",
       "  </thead>\n",
       "  <tbody>\n",
       "    <tr>\n",
       "      <td>Не женат / не замужем</td>\n",
       "      <td>2521</td>\n",
       "      <td>273</td>\n",
       "      <td>9.770938</td>\n",
       "    </tr>\n",
       "    <tr>\n",
       "      <td>в разводе</td>\n",
       "      <td>1100</td>\n",
       "      <td>85</td>\n",
       "      <td>7.172996</td>\n",
       "    </tr>\n",
       "    <tr>\n",
       "      <td>вдовец / вдова</td>\n",
       "      <td>892</td>\n",
       "      <td>62</td>\n",
       "      <td>6.498952</td>\n",
       "    </tr>\n",
       "    <tr>\n",
       "      <td>гражданский брак</td>\n",
       "      <td>3744</td>\n",
       "      <td>386</td>\n",
       "      <td>9.346247</td>\n",
       "    </tr>\n",
       "    <tr>\n",
       "      <td>женат / замужем</td>\n",
       "      <td>11363</td>\n",
       "      <td>927</td>\n",
       "      <td>7.542718</td>\n",
       "    </tr>\n",
       "  </tbody>\n",
       "</table>\n",
       "</div>"
      ],
      "text/plain": [
       "debt                       0    1         %\n",
       "family_status                              \n",
       "Не женат / не замужем   2521  273  9.770938\n",
       "в разводе               1100   85  7.172996\n",
       "вдовец / вдова           892   62  6.498952\n",
       "гражданский брак        3744  386  9.346247\n",
       "женат / замужем        11363  927  7.542718"
      ]
     },
     "execution_count": 39,
     "metadata": {},
     "output_type": "execute_result"
    }
   ],
   "source": [
    "merried_pivot = bank.pivot_table(index=['family_status'], columns='debt', values='gender', aggfunc='count')\n",
    "merried_pivot['%'] = merried_pivot[1] / (merried_pivot[0] + merried_pivot[1]) * 100\n",
    "merried_pivot"
   ]
  },
  {
   "cell_type": "markdown",
   "metadata": {},
   "source": [
    "**Вывод**"
   ]
  },
  {
   "cell_type": "markdown",
   "metadata": {},
   "source": [
    "Меньше всего должников оказалось в категории вдовец / вдова, далее идут клиенты в разводе и в браке. Хуже всех выплачивают кредиты клиенты в гражданском браке и те, кто не женат / не замужем."
   ]
  },
  {
   "cell_type": "markdown",
   "metadata": {},
   "source": [
    "- Есть ли зависимость между уровнем дохода и возвратом кредита в срок?"
   ]
  },
  {
   "cell_type": "code",
   "execution_count": 45,
   "metadata": {},
   "outputs": [
    {
     "data": {
      "text/html": [
       "<div>\n",
       "<style scoped>\n",
       "    .dataframe tbody tr th:only-of-type {\n",
       "        vertical-align: middle;\n",
       "    }\n",
       "\n",
       "    .dataframe tbody tr th {\n",
       "        vertical-align: top;\n",
       "    }\n",
       "\n",
       "    .dataframe thead th {\n",
       "        text-align: right;\n",
       "    }\n",
       "</style>\n",
       "<table border=\"1\" class=\"dataframe\">\n",
       "  <thead>\n",
       "    <tr style=\"text-align: right;\">\n",
       "      <th>debt</th>\n",
       "      <th>0</th>\n",
       "      <th>1</th>\n",
       "      <th>%</th>\n",
       "    </tr>\n",
       "    <tr>\n",
       "      <th>income_category</th>\n",
       "      <th></th>\n",
       "      <th></th>\n",
       "      <th></th>\n",
       "    </tr>\n",
       "  </thead>\n",
       "  <tbody>\n",
       "    <tr>\n",
       "      <td>Выше среднего</td>\n",
       "      <td>6723</td>\n",
       "      <td>537</td>\n",
       "      <td>7.396694</td>\n",
       "    </tr>\n",
       "    <tr>\n",
       "      <td>Ниже среднего</td>\n",
       "      <td>6471</td>\n",
       "      <td>576</td>\n",
       "      <td>8.173691</td>\n",
       "    </tr>\n",
       "    <tr>\n",
       "      <td>Средний</td>\n",
       "      <td>6426</td>\n",
       "      <td>620</td>\n",
       "      <td>8.799319</td>\n",
       "    </tr>\n",
       "  </tbody>\n",
       "</table>\n",
       "</div>"
      ],
      "text/plain": [
       "debt                0    1         %\n",
       "income_category                     \n",
       "Выше среднего    6723  537  7.396694\n",
       "Ниже среднего    6471  576  8.173691\n",
       "Средний          6426  620  8.799319"
      ]
     },
     "execution_count": 45,
     "metadata": {},
     "output_type": "execute_result"
    }
   ],
   "source": [
    "income_pivot = bank.pivot_table(index=['income_category'], columns='debt', values='gender', aggfunc='count')\n",
    "income_pivot['%'] = income_pivot[1] / (income_pivot[0] + income_pivot[1]) * 100\n",
    "income_pivot"
   ]
  },
  {
   "cell_type": "markdown",
   "metadata": {},
   "source": [
    "**Вывод**"
   ]
  },
  {
   "cell_type": "markdown",
   "metadata": {},
   "source": [
    "В результате исследования выяснилось, что среди клиентов с доходом выше среднего должников меньше всего. Далее идут клиенты с доходом ниже среднего, и на последнем месте оказались клиенты со средним доходом."
   ]
  },
  {
   "cell_type": "markdown",
   "metadata": {},
   "source": [
    "- Как разные цели кредита влияют на его возврат в срок?"
   ]
  },
  {
   "cell_type": "code",
   "execution_count": 54,
   "metadata": {},
   "outputs": [
    {
     "data": {
      "text/html": [
       "<div>\n",
       "<style scoped>\n",
       "    .dataframe tbody tr th:only-of-type {\n",
       "        vertical-align: middle;\n",
       "    }\n",
       "\n",
       "    .dataframe tbody tr th {\n",
       "        vertical-align: top;\n",
       "    }\n",
       "\n",
       "    .dataframe thead th {\n",
       "        text-align: right;\n",
       "    }\n",
       "</style>\n",
       "<table border=\"1\" class=\"dataframe\">\n",
       "  <thead>\n",
       "    <tr style=\"text-align: right;\">\n",
       "      <th>debt</th>\n",
       "      <th>0</th>\n",
       "      <th>1</th>\n",
       "      <th>%</th>\n",
       "    </tr>\n",
       "    <tr>\n",
       "      <th>purpose_category</th>\n",
       "      <th></th>\n",
       "      <th></th>\n",
       "      <th></th>\n",
       "    </tr>\n",
       "  </thead>\n",
       "  <tbody>\n",
       "    <tr>\n",
       "      <td>Автомобиль</td>\n",
       "      <td>3884</td>\n",
       "      <td>400</td>\n",
       "      <td>9.337068</td>\n",
       "    </tr>\n",
       "    <tr>\n",
       "      <td>Недвижимость</td>\n",
       "      <td>9985</td>\n",
       "      <td>779</td>\n",
       "      <td>7.237087</td>\n",
       "    </tr>\n",
       "    <tr>\n",
       "      <td>Образование</td>\n",
       "      <td>3625</td>\n",
       "      <td>370</td>\n",
       "      <td>9.261577</td>\n",
       "    </tr>\n",
       "    <tr>\n",
       "      <td>Свадьба</td>\n",
       "      <td>2126</td>\n",
       "      <td>184</td>\n",
       "      <td>7.965368</td>\n",
       "    </tr>\n",
       "  </tbody>\n",
       "</table>\n",
       "</div>"
      ],
      "text/plain": [
       "debt                 0    1         %\n",
       "purpose_category                     \n",
       "Автомобиль        3884  400  9.337068\n",
       "Недвижимость      9985  779  7.237087\n",
       "Образование       3625  370  9.261577\n",
       "Свадьба           2126  184  7.965368"
      ]
     },
     "execution_count": 54,
     "metadata": {},
     "output_type": "execute_result"
    }
   ],
   "source": [
    "purpose_pivot = bank.pivot_table(index=['purpose_category'], columns='debt', values='gender', aggfunc='count')\n",
    "purpose_pivot['%'] = purpose_pivot[1] / (purpose_pivot[0] + purpose_pivot[1]) * 100\n",
    "purpose_pivot"
   ]
  },
  {
   "cell_type": "markdown",
   "metadata": {},
   "source": [
    "**Вывод**"
   ]
  },
  {
   "cell_type": "markdown",
   "metadata": {},
   "source": [
    "Среди тех кто берет кредит на недвижимость и свадьбу должников меньше чем среди тех кто берет кредит на автомобиль или образование."
   ]
  },
  {
   "cell_type": "markdown",
   "metadata": {},
   "source": [
    "## Шаг 4. Общий вывод"
   ]
  },
  {
   "cell_type": "markdown",
   "metadata": {},
   "source": [
    "По результатам исследования можно сделать вывод, что наиболее платежеспособные клиенты - это клиенты без детей, клиенты относящиеся к категории вдовец\\вдова, кленты с доходом выше среднего и те, у кого целью кредита является недвижимость или свадьба."
   ]
  }
 ],
 "metadata": {
  "ExecuteTimeLog": [
   {
    "duration": 854,
    "start_time": "2021-07-26T06:46:52.215Z"
   },
   {
    "duration": 100,
    "start_time": "2021-07-26T06:55:32.964Z"
   },
   {
    "duration": 744,
    "start_time": "2021-07-26T07:41:42.320Z"
   },
   {
    "duration": 11,
    "start_time": "2021-07-26T07:42:14.148Z"
   },
   {
    "duration": 15,
    "start_time": "2021-07-26T07:42:53.556Z"
   },
   {
    "duration": 13,
    "start_time": "2021-07-26T07:43:06.223Z"
   },
   {
    "duration": 16,
    "start_time": "2021-07-26T07:43:16.972Z"
   },
   {
    "duration": 7,
    "start_time": "2021-07-26T07:44:09.958Z"
   },
   {
    "duration": 7,
    "start_time": "2021-07-26T07:44:43.887Z"
   },
   {
    "duration": 8,
    "start_time": "2021-07-26T07:45:18.576Z"
   },
   {
    "duration": 8,
    "start_time": "2021-07-26T07:46:18.807Z"
   },
   {
    "duration": 295,
    "start_time": "2021-07-26T07:48:54.113Z"
   },
   {
    "duration": 10,
    "start_time": "2021-07-26T07:49:09.998Z"
   },
   {
    "duration": 52,
    "start_time": "2021-07-26T07:55:04.690Z"
   },
   {
    "duration": 19,
    "start_time": "2021-07-26T07:55:32.319Z"
   },
   {
    "duration": 14,
    "start_time": "2021-07-26T08:00:04.998Z"
   },
   {
    "duration": 90,
    "start_time": "2021-07-26T08:00:28.414Z"
   },
   {
    "duration": 35,
    "start_time": "2021-07-26T08:00:36.142Z"
   },
   {
    "duration": 15,
    "start_time": "2021-07-26T08:01:34.563Z"
   },
   {
    "duration": 30,
    "start_time": "2021-07-26T08:01:59.295Z"
   },
   {
    "duration": 15,
    "start_time": "2021-07-26T08:02:20.738Z"
   },
   {
    "duration": 6,
    "start_time": "2021-07-26T08:02:36.838Z"
   },
   {
    "duration": 8,
    "start_time": "2021-07-26T08:02:41.018Z"
   },
   {
    "duration": 41,
    "start_time": "2021-07-26T08:02:48.749Z"
   },
   {
    "duration": 14,
    "start_time": "2021-07-26T08:02:56.654Z"
   },
   {
    "duration": 33,
    "start_time": "2021-07-26T08:03:15.911Z"
   },
   {
    "duration": 28,
    "start_time": "2021-07-26T08:03:30.766Z"
   },
   {
    "duration": 312,
    "start_time": "2021-07-26T08:08:07.886Z"
   },
   {
    "duration": 35,
    "start_time": "2021-07-26T08:08:20.470Z"
   },
   {
    "duration": 16,
    "start_time": "2021-07-26T08:09:11.977Z"
   },
   {
    "duration": 44,
    "start_time": "2021-07-26T08:09:27.768Z"
   },
   {
    "duration": 319,
    "start_time": "2021-07-26T08:10:12.948Z"
   },
   {
    "duration": 22,
    "start_time": "2021-07-26T08:10:29.702Z"
   },
   {
    "duration": 13,
    "start_time": "2021-07-26T08:10:41.990Z"
   },
   {
    "duration": 7,
    "start_time": "2021-07-26T08:11:01.242Z"
   },
   {
    "duration": 107,
    "start_time": "2021-07-26T08:11:12.833Z"
   },
   {
    "duration": 7,
    "start_time": "2021-07-26T08:11:17.386Z"
   },
   {
    "duration": 8,
    "start_time": "2021-07-26T08:53:14.434Z"
   },
   {
    "duration": 9,
    "start_time": "2021-07-26T08:53:17.067Z"
   },
   {
    "duration": 9,
    "start_time": "2021-07-26T09:25:31.926Z"
   },
   {
    "duration": 8,
    "start_time": "2021-07-26T09:25:46.690Z"
   },
   {
    "duration": 9,
    "start_time": "2021-07-26T09:25:55.721Z"
   },
   {
    "duration": 12,
    "start_time": "2021-07-26T09:28:27.557Z"
   },
   {
    "duration": 10,
    "start_time": "2021-07-26T09:28:51.072Z"
   },
   {
    "duration": 8,
    "start_time": "2021-07-26T10:01:22.486Z"
   },
   {
    "duration": 7,
    "start_time": "2021-07-26T10:01:29.965Z"
   },
   {
    "duration": 7,
    "start_time": "2021-07-26T10:02:16.618Z"
   },
   {
    "duration": 8,
    "start_time": "2021-07-26T10:02:24.266Z"
   },
   {
    "duration": 6,
    "start_time": "2021-07-26T10:02:33.018Z"
   },
   {
    "duration": 6,
    "start_time": "2021-07-26T10:02:47.014Z"
   },
   {
    "duration": 8,
    "start_time": "2021-07-26T10:03:29.975Z"
   },
   {
    "duration": 12,
    "start_time": "2021-07-26T10:06:10.405Z"
   },
   {
    "duration": 8,
    "start_time": "2021-07-26T10:06:23.638Z"
   },
   {
    "duration": 17,
    "start_time": "2021-07-26T10:07:46.339Z"
   },
   {
    "duration": 16,
    "start_time": "2021-07-26T10:08:01.450Z"
   },
   {
    "duration": 16,
    "start_time": "2021-07-26T10:08:29.054Z"
   },
   {
    "duration": 14,
    "start_time": "2021-07-26T10:09:16.382Z"
   },
   {
    "duration": 3661,
    "start_time": "2021-07-26T10:10:26.330Z"
   },
   {
    "duration": 13,
    "start_time": "2021-07-26T10:10:48.658Z"
   },
   {
    "duration": 14,
    "start_time": "2021-07-26T10:11:09.406Z"
   },
   {
    "duration": 12,
    "start_time": "2021-07-26T10:11:13.378Z"
   },
   {
    "duration": 13,
    "start_time": "2021-07-26T10:11:18.022Z"
   },
   {
    "duration": 15,
    "start_time": "2021-07-26T10:11:22.462Z"
   },
   {
    "duration": 13,
    "start_time": "2021-07-26T10:11:25.947Z"
   },
   {
    "duration": 13,
    "start_time": "2021-07-26T10:11:30.493Z"
   },
   {
    "duration": 14,
    "start_time": "2021-07-26T10:41:54.747Z"
   },
   {
    "duration": 14,
    "start_time": "2021-07-26T10:53:26.692Z"
   },
   {
    "duration": 9,
    "start_time": "2021-07-26T10:54:53.380Z"
   },
   {
    "duration": 11,
    "start_time": "2021-07-26T10:58:10.472Z"
   },
   {
    "duration": 9,
    "start_time": "2021-07-26T10:58:17.152Z"
   },
   {
    "duration": 9,
    "start_time": "2021-07-26T10:58:21.068Z"
   },
   {
    "duration": 10,
    "start_time": "2021-07-26T10:58:24.946Z"
   },
   {
    "duration": 10,
    "start_time": "2021-07-26T10:58:36.669Z"
   },
   {
    "duration": 9,
    "start_time": "2021-07-26T10:58:44.958Z"
   },
   {
    "duration": 9,
    "start_time": "2021-07-26T11:00:23.323Z"
   },
   {
    "duration": 9,
    "start_time": "2021-07-26T11:01:03.528Z"
   },
   {
    "duration": 9,
    "start_time": "2021-07-26T11:06:22.317Z"
   },
   {
    "duration": 11,
    "start_time": "2021-07-26T11:25:02.218Z"
   },
   {
    "duration": 10,
    "start_time": "2021-07-26T11:25:10.159Z"
   },
   {
    "duration": 10,
    "start_time": "2021-07-26T11:25:14.081Z"
   },
   {
    "duration": 6,
    "start_time": "2021-07-26T11:26:57.727Z"
   },
   {
    "duration": 6,
    "start_time": "2021-07-26T11:27:06.009Z"
   },
   {
    "duration": 7,
    "start_time": "2021-07-26T11:27:11.477Z"
   },
   {
    "duration": 8,
    "start_time": "2021-07-26T11:27:21.873Z"
   },
   {
    "duration": 16,
    "start_time": "2021-07-26T11:31:45.921Z"
   },
   {
    "duration": 7,
    "start_time": "2021-07-26T11:32:03.453Z"
   },
   {
    "duration": 11,
    "start_time": "2021-07-26T11:32:19.792Z"
   },
   {
    "duration": 275,
    "start_time": "2021-07-26T11:37:04.306Z"
   },
   {
    "duration": 305,
    "start_time": "2021-07-26T11:37:49.303Z"
   },
   {
    "duration": 287,
    "start_time": "2021-07-26T11:38:30.688Z"
   },
   {
    "duration": 90,
    "start_time": "2021-07-26T11:38:47.346Z"
   },
   {
    "duration": 8,
    "start_time": "2021-07-26T11:38:54.093Z"
   },
   {
    "duration": 9,
    "start_time": "2021-07-26T11:39:02.126Z"
   },
   {
    "duration": 7,
    "start_time": "2021-07-26T11:39:15.684Z"
   },
   {
    "duration": 17,
    "start_time": "2021-07-26T11:39:41.760Z"
   },
   {
    "duration": 15,
    "start_time": "2021-07-26T11:40:12.572Z"
   },
   {
    "duration": 14,
    "start_time": "2021-07-26T11:40:20.228Z"
   },
   {
    "duration": 16,
    "start_time": "2021-07-26T11:40:25.352Z"
   },
   {
    "duration": 24,
    "start_time": "2021-07-26T11:45:11.305Z"
   },
   {
    "duration": 274,
    "start_time": "2021-07-26T11:47:54.159Z"
   },
   {
    "duration": 12,
    "start_time": "2021-07-26T11:48:03.987Z"
   },
   {
    "duration": 7240,
    "start_time": "2021-07-26T11:48:26.342Z"
   },
   {
    "duration": 12,
    "start_time": "2021-07-26T11:48:36.131Z"
   },
   {
    "duration": 11,
    "start_time": "2021-07-26T11:48:45.759Z"
   },
   {
    "duration": 12,
    "start_time": "2021-07-26T11:49:53.583Z"
   },
   {
    "duration": 12,
    "start_time": "2021-07-26T11:49:56.243Z"
   },
   {
    "duration": 18,
    "start_time": "2021-07-26T11:50:12.195Z"
   },
   {
    "duration": 12,
    "start_time": "2021-07-26T11:50:17.775Z"
   },
   {
    "duration": 8,
    "start_time": "2021-07-26T11:50:37.752Z"
   },
   {
    "duration": 38,
    "start_time": "2021-07-26T11:50:50.355Z"
   },
   {
    "duration": 5,
    "start_time": "2021-07-26T11:51:46.478Z"
   },
   {
    "duration": 9,
    "start_time": "2021-07-26T11:51:55.499Z"
   },
   {
    "duration": 8,
    "start_time": "2021-07-26T11:52:04.618Z"
   },
   {
    "duration": 19,
    "start_time": "2021-07-26T11:53:27.234Z"
   },
   {
    "duration": 20,
    "start_time": "2021-07-26T11:53:59.946Z"
   },
   {
    "duration": 40,
    "start_time": "2021-07-26T11:57:23.081Z"
   },
   {
    "duration": 67,
    "start_time": "2021-07-26T11:57:35.189Z"
   },
   {
    "duration": 34,
    "start_time": "2021-07-26T11:57:44.253Z"
   },
   {
    "duration": 6,
    "start_time": "2021-07-26T11:59:34.606Z"
   },
   {
    "duration": 6,
    "start_time": "2021-07-26T12:02:26.157Z"
   },
   {
    "duration": 6,
    "start_time": "2021-07-26T12:02:34.249Z"
   },
   {
    "duration": 338,
    "start_time": "2021-07-26T12:04:20.728Z"
   },
   {
    "duration": 6,
    "start_time": "2021-07-26T12:04:24.929Z"
   },
   {
    "duration": 285,
    "start_time": "2021-07-26T12:04:27.229Z"
   },
   {
    "duration": 38,
    "start_time": "2021-07-26T12:04:36.277Z"
   },
   {
    "duration": 10,
    "start_time": "2021-07-26T12:06:33.779Z"
   },
   {
    "duration": 276,
    "start_time": "2021-07-26T12:07:12.977Z"
   },
   {
    "duration": 16,
    "start_time": "2021-07-26T12:07:48.721Z"
   },
   {
    "duration": 324,
    "start_time": "2021-07-26T12:08:01.032Z"
   },
   {
    "duration": 23,
    "start_time": "2021-07-26T12:08:15.885Z"
   },
   {
    "duration": 14,
    "start_time": "2021-07-26T12:08:40.005Z"
   },
   {
    "duration": 52,
    "start_time": "2021-07-26T12:10:47.315Z"
   },
   {
    "duration": 100,
    "start_time": "2021-07-26T12:10:55.881Z"
   },
   {
    "duration": 69,
    "start_time": "2021-07-26T12:13:14.564Z"
   },
   {
    "duration": 544,
    "start_time": "2021-07-26T12:13:40.045Z"
   },
   {
    "duration": 452,
    "start_time": "2021-07-26T12:13:58.488Z"
   },
   {
    "duration": 513,
    "start_time": "2021-07-26T12:14:04.856Z"
   },
   {
    "duration": 61,
    "start_time": "2021-07-26T12:15:02.504Z"
   },
   {
    "duration": 16,
    "start_time": "2021-07-26T12:16:46.668Z"
   },
   {
    "duration": -6901140,
    "start_time": "2021-07-26T14:18:47.586Z"
   },
   {
    "duration": 7151,
    "start_time": "2021-07-26T12:23:54.415Z"
   },
   {
    "duration": 14,
    "start_time": "2021-07-26T12:25:10.339Z"
   },
   {
    "duration": 13,
    "start_time": "2021-07-26T12:26:03.811Z"
   },
   {
    "duration": 287,
    "start_time": "2021-07-26T12:29:04.067Z"
   },
   {
    "duration": 6,
    "start_time": "2021-07-26T12:29:13.126Z"
   },
   {
    "duration": 7,
    "start_time": "2021-07-26T12:29:34.907Z"
   },
   {
    "duration": 6,
    "start_time": "2021-07-26T12:29:43.182Z"
   },
   {
    "duration": 8,
    "start_time": "2021-07-26T12:29:58.898Z"
   },
   {
    "duration": 8,
    "start_time": "2021-07-26T12:30:11.918Z"
   },
   {
    "duration": 6,
    "start_time": "2021-07-26T12:30:18.615Z"
   },
   {
    "duration": 17,
    "start_time": "2021-07-26T12:33:44.378Z"
   },
   {
    "duration": 49,
    "start_time": "2021-07-26T13:24:50.197Z"
   },
   {
    "duration": 87,
    "start_time": "2021-07-26T13:25:23.929Z"
   },
   {
    "duration": 13,
    "start_time": "2021-07-26T13:56:48.450Z"
   },
   {
    "duration": 19,
    "start_time": "2021-07-26T13:56:52.743Z"
   },
   {
    "duration": 953,
    "start_time": "2021-07-26T13:58:11.513Z"
   },
   {
    "duration": 9,
    "start_time": "2021-07-26T13:58:12.468Z"
   },
   {
    "duration": 54,
    "start_time": "2021-07-26T13:58:12.480Z"
   },
   {
    "duration": 18,
    "start_time": "2021-07-26T13:58:12.537Z"
   },
   {
    "duration": 5,
    "start_time": "2021-07-26T13:58:12.557Z"
   },
   {
    "duration": 44,
    "start_time": "2021-07-26T13:58:12.565Z"
   },
   {
    "duration": 19,
    "start_time": "2021-07-26T13:58:12.612Z"
   },
   {
    "duration": 98,
    "start_time": "2021-07-26T13:58:12.634Z"
   },
   {
    "duration": 31,
    "start_time": "2021-07-26T14:13:15.484Z"
   },
   {
    "duration": 28,
    "start_time": "2021-07-26T14:17:51.915Z"
   },
   {
    "duration": 418,
    "start_time": "2021-07-26T14:23:28.810Z"
   },
   {
    "duration": 56,
    "start_time": "2021-07-26T14:24:10.950Z"
   },
   {
    "duration": 58,
    "start_time": "2021-07-26T14:24:17.446Z"
   },
   {
    "duration": 85,
    "start_time": "2021-07-26T14:24:33.634Z"
   },
   {
    "duration": 58,
    "start_time": "2021-07-26T14:24:48.848Z"
   },
   {
    "duration": 1213,
    "start_time": "2021-07-26T14:27:44.498Z"
   },
   {
    "duration": 17,
    "start_time": "2021-07-26T14:27:51.478Z"
   },
   {
    "duration": 22,
    "start_time": "2021-07-26T14:28:16.510Z"
   },
   {
    "duration": 10,
    "start_time": "2021-07-26T14:46:57.159Z"
   },
   {
    "duration": 4,
    "start_time": "2021-07-26T14:49:03.559Z"
   },
   {
    "duration": 316,
    "start_time": "2021-07-26T14:49:15.787Z"
   },
   {
    "duration": 306,
    "start_time": "2021-07-26T14:50:44.819Z"
   },
   {
    "duration": 502,
    "start_time": "2021-07-26T14:52:22.295Z"
   },
   {
    "duration": 4956,
    "start_time": "2021-07-26T14:52:29.131Z"
   },
   {
    "duration": 4190,
    "start_time": "2021-07-26T14:52:48.195Z"
   },
   {
    "duration": 4618,
    "start_time": "2021-07-26T14:53:41.127Z"
   },
   {
    "duration": 468,
    "start_time": "2021-07-26T14:53:50.995Z"
   },
   {
    "duration": 4462,
    "start_time": "2021-07-26T14:55:14.352Z"
   },
   {
    "duration": 4048,
    "start_time": "2021-07-26T14:55:24.095Z"
   },
   {
    "duration": 4032,
    "start_time": "2021-07-26T15:02:53.810Z"
   },
   {
    "duration": 4207,
    "start_time": "2021-07-26T15:04:02.450Z"
   },
   {
    "duration": 307,
    "start_time": "2021-07-26T15:04:30.223Z"
   },
   {
    "duration": 4547,
    "start_time": "2021-07-26T15:05:47.266Z"
   },
   {
    "duration": 4249,
    "start_time": "2021-07-26T15:11:22.346Z"
   },
   {
    "duration": 4163,
    "start_time": "2021-07-26T15:11:34.057Z"
   },
   {
    "duration": 21,
    "start_time": "2021-07-26T15:12:44.593Z"
   },
   {
    "duration": 13,
    "start_time": "2021-07-26T15:12:53.534Z"
   },
   {
    "duration": 33,
    "start_time": "2021-07-26T15:13:02.598Z"
   },
   {
    "duration": 11,
    "start_time": "2021-07-26T15:13:11.797Z"
   },
   {
    "duration": 10,
    "start_time": "2021-07-26T15:13:23.173Z"
   },
   {
    "duration": 13,
    "start_time": "2021-07-26T15:13:31.293Z"
   },
   {
    "duration": 14,
    "start_time": "2021-07-26T15:13:59.949Z"
   },
   {
    "duration": 14,
    "start_time": "2021-07-26T15:14:52.885Z"
   },
   {
    "duration": 298,
    "start_time": "2021-07-26T16:24:19.182Z"
   },
   {
    "duration": 7930,
    "start_time": "2021-07-26T16:24:48.225Z"
   },
   {
    "duration": 289,
    "start_time": "2021-07-26T17:21:29.640Z"
   },
   {
    "duration": 6969,
    "start_time": "2021-07-26T17:23:23.180Z"
   },
   {
    "duration": 6808,
    "start_time": "2021-07-26T17:24:16.931Z"
   },
   {
    "duration": 8430,
    "start_time": "2021-07-26T17:49:26.509Z"
   },
   {
    "duration": 326,
    "start_time": "2021-07-26T17:53:49.558Z"
   },
   {
    "duration": 368,
    "start_time": "2021-07-26T17:54:36.336Z"
   },
   {
    "duration": 6765,
    "start_time": "2021-07-26T17:55:56.824Z"
   },
   {
    "duration": 244674,
    "start_time": "2021-07-26T18:12:40.069Z"
   },
   {
    "duration": 12,
    "start_time": "2021-07-26T18:16:44.832Z"
   },
   {
    "duration": 379,
    "start_time": "2021-07-27T04:07:52.596Z"
   },
   {
    "duration": 309,
    "start_time": "2021-07-27T04:10:10.308Z"
   },
   {
    "duration": 292,
    "start_time": "2021-07-27T04:10:59.303Z"
   },
   {
    "duration": 293,
    "start_time": "2021-07-27T04:11:10.553Z"
   },
   {
    "duration": 301,
    "start_time": "2021-07-27T04:11:29.221Z"
   },
   {
    "duration": 910,
    "start_time": "2021-07-27T04:12:38.574Z"
   },
   {
    "duration": 9,
    "start_time": "2021-07-27T04:12:39.487Z"
   },
   {
    "duration": 37,
    "start_time": "2021-07-27T04:12:39.499Z"
   },
   {
    "duration": 106,
    "start_time": "2021-07-27T04:12:39.539Z"
   },
   {
    "duration": -6900594,
    "start_time": "2021-07-27T06:07:40.242Z"
   },
   {
    "duration": -6900594,
    "start_time": "2021-07-27T06:07:40.243Z"
   },
   {
    "duration": -6900599,
    "start_time": "2021-07-27T06:07:40.250Z"
   },
   {
    "duration": -6900603,
    "start_time": "2021-07-27T06:07:40.255Z"
   },
   {
    "duration": -6900603,
    "start_time": "2021-07-27T06:07:40.257Z"
   },
   {
    "duration": -6900604,
    "start_time": "2021-07-27T06:07:40.259Z"
   },
   {
    "duration": -6900604,
    "start_time": "2021-07-27T06:07:40.261Z"
   },
   {
    "duration": -6900606,
    "start_time": "2021-07-27T06:07:40.264Z"
   },
   {
    "duration": -6900611,
    "start_time": "2021-07-27T06:07:40.270Z"
   },
   {
    "duration": -6900616,
    "start_time": "2021-07-27T06:07:40.277Z"
   },
   {
    "duration": -6900618,
    "start_time": "2021-07-27T06:07:40.280Z"
   },
   {
    "duration": 17,
    "start_time": "2021-07-27T04:23:24.117Z"
   },
   {
    "duration": 7,
    "start_time": "2021-07-27T04:23:29.933Z"
   },
   {
    "duration": 13,
    "start_time": "2021-07-27T04:23:32.642Z"
   },
   {
    "duration": 18,
    "start_time": "2021-07-27T04:23:37.531Z"
   },
   {
    "duration": 74,
    "start_time": "2021-07-27T04:23:48.555Z"
   },
   {
    "duration": 30,
    "start_time": "2021-07-27T04:23:54.249Z"
   },
   {
    "duration": 58,
    "start_time": "2021-07-27T04:23:58.417Z"
   },
   {
    "duration": 23,
    "start_time": "2021-07-27T04:24:00.577Z"
   },
   {
    "duration": 11,
    "start_time": "2021-07-27T04:24:04.577Z"
   },
   {
    "duration": 405,
    "start_time": "2021-07-27T04:24:06.871Z"
   },
   {
    "duration": 4445,
    "start_time": "2021-07-27T04:24:29.001Z"
   },
   {
    "duration": 3469,
    "start_time": "2021-07-27T04:24:49.421Z"
   },
   {
    "duration": 7522,
    "start_time": "2021-07-27T04:25:41.872Z"
   },
   {
    "duration": -6900618,
    "start_time": "2021-07-27T06:23:20.774Z"
   },
   {
    "duration": 7167,
    "start_time": "2021-07-27T04:28:36.964Z"
   },
   {
    "duration": 18,
    "start_time": "2021-07-27T04:43:30.758Z"
   },
   {
    "duration": 28,
    "start_time": "2021-07-27T04:43:56.867Z"
   },
   {
    "duration": 20,
    "start_time": "2021-07-27T04:44:24.399Z"
   },
   {
    "duration": 16,
    "start_time": "2021-07-27T04:44:42.702Z"
   },
   {
    "duration": 34,
    "start_time": "2021-07-27T04:44:53.954Z"
   },
   {
    "duration": 16,
    "start_time": "2021-07-27T04:45:19.963Z"
   },
   {
    "duration": 1208,
    "start_time": "2021-07-27T04:46:16.698Z"
   },
   {
    "duration": 875,
    "start_time": "2021-07-27T04:47:11.964Z"
   },
   {
    "duration": 8,
    "start_time": "2021-07-27T04:47:12.842Z"
   },
   {
    "duration": 46,
    "start_time": "2021-07-27T04:47:12.853Z"
   },
   {
    "duration": 16,
    "start_time": "2021-07-27T04:47:12.902Z"
   },
   {
    "duration": 6,
    "start_time": "2021-07-27T04:47:12.920Z"
   },
   {
    "duration": 15,
    "start_time": "2021-07-27T04:47:12.928Z"
   },
   {
    "duration": 50,
    "start_time": "2021-07-27T04:47:12.945Z"
   },
   {
    "duration": 18,
    "start_time": "2021-07-27T04:47:12.998Z"
   },
   {
    "duration": 22,
    "start_time": "2021-07-27T04:47:13.018Z"
   },
   {
    "duration": 75,
    "start_time": "2021-07-27T04:47:13.042Z"
   },
   {
    "duration": 21,
    "start_time": "2021-07-27T04:47:13.120Z"
   },
   {
    "duration": 11,
    "start_time": "2021-07-27T04:47:13.144Z"
   },
   {
    "duration": 396,
    "start_time": "2021-07-27T04:47:13.157Z"
   },
   {
    "duration": -6900619,
    "start_time": "2021-07-27T06:42:14.174Z"
   },
   {
    "duration": 4595,
    "start_time": "2021-07-27T04:48:05.816Z"
   },
   {
    "duration": 31,
    "start_time": "2021-07-27T04:48:24.852Z"
   },
   {
    "duration": 8,
    "start_time": "2021-07-27T04:54:12.467Z"
   },
   {
    "duration": 336,
    "start_time": "2021-07-27T05:03:31.014Z"
   },
   {
    "duration": 8439,
    "start_time": "2021-07-27T05:04:17.438Z"
   },
   {
    "duration": 4050,
    "start_time": "2021-07-27T05:05:16.788Z"
   },
   {
    "duration": 332,
    "start_time": "2021-07-27T05:05:49.894Z"
   },
   {
    "duration": 317,
    "start_time": "2021-07-27T05:08:24.654Z"
   },
   {
    "duration": 320,
    "start_time": "2021-07-27T05:11:34.161Z"
   },
   {
    "duration": 314,
    "start_time": "2021-07-27T05:11:50.710Z"
   },
   {
    "duration": 28,
    "start_time": "2021-07-27T05:12:06.749Z"
   },
   {
    "duration": 302,
    "start_time": "2021-07-27T05:14:22.242Z"
   },
   {
    "duration": 310,
    "start_time": "2021-07-27T05:14:34.681Z"
   },
   {
    "duration": 653,
    "start_time": "2021-07-27T05:20:56.169Z"
   },
   {
    "duration": 562,
    "start_time": "2021-07-27T05:22:07.812Z"
   },
   {
    "duration": 7,
    "start_time": "2021-07-27T05:25:21.792Z"
   },
   {
    "duration": 3687,
    "start_time": "2021-07-27T05:25:43.260Z"
   },
   {
    "duration": 3804,
    "start_time": "2021-07-27T05:25:50.029Z"
   },
   {
    "duration": 3861,
    "start_time": "2021-07-27T05:26:52.836Z"
   },
   {
    "duration": 3621,
    "start_time": "2021-07-27T05:27:01.208Z"
   },
   {
    "duration": 3584,
    "start_time": "2021-07-27T05:27:15.256Z"
   },
   {
    "duration": 300,
    "start_time": "2021-07-27T05:29:44.251Z"
   },
   {
    "duration": 3704,
    "start_time": "2021-07-27T05:30:11.118Z"
   },
   {
    "duration": 3572,
    "start_time": "2021-07-27T05:30:32.843Z"
   },
   {
    "duration": 3632,
    "start_time": "2021-07-27T05:33:20.396Z"
   },
   {
    "duration": 3917,
    "start_time": "2021-07-27T05:33:46.401Z"
   },
   {
    "duration": 4007,
    "start_time": "2021-07-27T05:35:02.762Z"
   },
   {
    "duration": 3730,
    "start_time": "2021-07-27T05:35:23.214Z"
   },
   {
    "duration": 3551,
    "start_time": "2021-07-27T05:35:44.477Z"
   },
   {
    "duration": 1206,
    "start_time": "2021-07-27T05:42:34.641Z"
   },
   {
    "duration": 4643,
    "start_time": "2021-07-27T05:42:47.801Z"
   },
   {
    "duration": 15783,
    "start_time": "2021-07-27T05:43:20.834Z"
   },
   {
    "duration": 306,
    "start_time": "2021-07-27T05:43:53.698Z"
   },
   {
    "duration": 317,
    "start_time": "2021-07-27T05:44:09.825Z"
   },
   {
    "duration": 313,
    "start_time": "2021-07-27T05:44:15.702Z"
   },
   {
    "duration": 16279,
    "start_time": "2021-07-27T05:44:27.169Z"
   },
   {
    "duration": 330,
    "start_time": "2021-07-27T05:45:03.872Z"
   },
   {
    "duration": 60,
    "start_time": "2021-07-27T05:46:45.281Z"
   },
   {
    "duration": 869,
    "start_time": "2021-07-27T05:51:12.482Z"
   },
   {
    "duration": 9,
    "start_time": "2021-07-27T05:51:13.353Z"
   },
   {
    "duration": 48,
    "start_time": "2021-07-27T05:51:13.365Z"
   },
   {
    "duration": 17,
    "start_time": "2021-07-27T05:51:13.416Z"
   },
   {
    "duration": 6,
    "start_time": "2021-07-27T05:51:13.436Z"
   },
   {
    "duration": 45,
    "start_time": "2021-07-27T05:51:13.444Z"
   },
   {
    "duration": 17,
    "start_time": "2021-07-27T05:51:13.492Z"
   },
   {
    "duration": 19,
    "start_time": "2021-07-27T05:51:13.512Z"
   },
   {
    "duration": 55,
    "start_time": "2021-07-27T05:51:13.534Z"
   },
   {
    "duration": 44,
    "start_time": "2021-07-27T05:51:13.592Z"
   },
   {
    "duration": 22,
    "start_time": "2021-07-27T05:51:13.638Z"
   },
   {
    "duration": 6,
    "start_time": "2021-07-27T05:51:13.686Z"
   },
   {
    "duration": 382,
    "start_time": "2021-07-27T05:51:13.695Z"
   },
   {
    "duration": -6900588,
    "start_time": "2021-07-27T07:46:14.668Z"
   },
   {
    "duration": 4535,
    "start_time": "2021-07-27T05:56:25.207Z"
   },
   {
    "duration": 3790,
    "start_time": "2021-07-27T05:56:42.326Z"
   },
   {
    "duration": 310,
    "start_time": "2021-07-27T05:58:13.234Z"
   },
   {
    "duration": 9,
    "start_time": "2021-07-27T05:58:17.842Z"
   },
   {
    "duration": 17006,
    "start_time": "2021-07-27T05:59:49.813Z"
   },
   {
    "duration": 26,
    "start_time": "2021-07-27T06:00:29.290Z"
   },
   {
    "duration": 430,
    "start_time": "2021-07-27T06:14:50.172Z"
   },
   {
    "duration": 108,
    "start_time": "2021-07-27T06:17:07.056Z"
   },
   {
    "duration": 339,
    "start_time": "2021-07-27T06:17:18.675Z"
   },
   {
    "duration": 321,
    "start_time": "2021-07-27T06:18:28.099Z"
   },
   {
    "duration": 11,
    "start_time": "2021-07-27T06:20:32.267Z"
   },
   {
    "duration": 30,
    "start_time": "2021-07-27T06:22:46.291Z"
   },
   {
    "duration": 30,
    "start_time": "2021-07-27T06:23:02.935Z"
   },
   {
    "duration": 30,
    "start_time": "2021-07-27T06:23:31.171Z"
   },
   {
    "duration": 29,
    "start_time": "2021-07-27T06:23:34.723Z"
   },
   {
    "duration": 304,
    "start_time": "2021-07-27T06:24:13.531Z"
   },
   {
    "duration": 4,
    "start_time": "2021-07-27T06:24:22.633Z"
   },
   {
    "duration": 6,
    "start_time": "2021-07-27T06:24:24.226Z"
   },
   {
    "duration": 8,
    "start_time": "2021-07-27T06:42:17.897Z"
   },
   {
    "duration": 8,
    "start_time": "2021-07-27T06:42:43.105Z"
   },
   {
    "duration": 436,
    "start_time": "2021-07-27T06:46:09.765Z"
   },
   {
    "duration": 37,
    "start_time": "2021-07-27T06:47:26.503Z"
   },
   {
    "duration": 47,
    "start_time": "2021-07-27T06:48:01.061Z"
   },
   {
    "duration": 26,
    "start_time": "2021-07-27T06:48:36.651Z"
   },
   {
    "duration": 27,
    "start_time": "2021-07-27T06:48:41.316Z"
   },
   {
    "duration": 5064,
    "start_time": "2021-07-27T06:50:25.193Z"
   },
   {
    "duration": 4172,
    "start_time": "2021-07-27T06:52:15.299Z"
   },
   {
    "duration": 897,
    "start_time": "2021-07-27T06:52:50.294Z"
   },
   {
    "duration": 11,
    "start_time": "2021-07-27T06:52:51.194Z"
   },
   {
    "duration": 41,
    "start_time": "2021-07-27T06:52:51.209Z"
   },
   {
    "duration": 47,
    "start_time": "2021-07-27T06:52:51.253Z"
   },
   {
    "duration": 11,
    "start_time": "2021-07-27T06:52:51.302Z"
   },
   {
    "duration": 23,
    "start_time": "2021-07-27T06:52:51.315Z"
   },
   {
    "duration": 25,
    "start_time": "2021-07-27T06:52:51.341Z"
   },
   {
    "duration": 33,
    "start_time": "2021-07-27T06:52:51.370Z"
   },
   {
    "duration": 24,
    "start_time": "2021-07-27T06:52:51.406Z"
   },
   {
    "duration": 82,
    "start_time": "2021-07-27T06:52:51.433Z"
   },
   {
    "duration": 22,
    "start_time": "2021-07-27T06:52:51.518Z"
   },
   {
    "duration": 16,
    "start_time": "2021-07-27T06:52:51.542Z"
   },
   {
    "duration": 28,
    "start_time": "2021-07-27T06:52:51.561Z"
   },
   {
    "duration": 4604,
    "start_time": "2021-07-27T06:52:51.592Z"
   },
   {
    "duration": 4,
    "start_time": "2021-07-27T06:52:56.199Z"
   },
   {
    "duration": 841,
    "start_time": "2021-07-27T06:52:56.205Z"
   },
   {
    "duration": 9,
    "start_time": "2021-07-27T06:52:57.049Z"
   },
   {
    "duration": 45,
    "start_time": "2021-07-27T06:52:57.060Z"
   },
   {
    "duration": 874,
    "start_time": "2021-07-27T06:54:47.874Z"
   },
   {
    "duration": 249,
    "start_time": "2021-07-27T06:55:13.046Z"
   },
   {
    "duration": 296,
    "start_time": "2021-07-27T06:55:53.010Z"
   },
   {
    "duration": 26,
    "start_time": "2021-07-27T06:57:14.449Z"
   },
   {
    "duration": 17,
    "start_time": "2021-07-27T06:57:26.242Z"
   },
   {
    "duration": 5,
    "start_time": "2021-07-27T07:00:50.809Z"
   },
   {
    "duration": 10,
    "start_time": "2021-07-27T07:03:47.715Z"
   },
   {
    "duration": 7,
    "start_time": "2021-07-27T07:04:14.705Z"
   },
   {
    "duration": 110,
    "start_time": "2021-07-27T07:05:37.873Z"
   },
   {
    "duration": 13,
    "start_time": "2021-07-27T07:05:56.538Z"
   },
   {
    "duration": 1810,
    "start_time": "2021-07-27T07:10:43.932Z"
   },
   {
    "duration": 301,
    "start_time": "2021-07-27T07:10:55.900Z"
   },
   {
    "duration": 7,
    "start_time": "2021-07-27T07:11:05.484Z"
   },
   {
    "duration": 12,
    "start_time": "2021-07-27T07:11:17.804Z"
   },
   {
    "duration": 7,
    "start_time": "2021-07-27T07:11:41.040Z"
   },
   {
    "duration": 332,
    "start_time": "2021-07-27T07:11:54.280Z"
   },
   {
    "duration": 7,
    "start_time": "2021-07-27T07:12:02.640Z"
   },
   {
    "duration": 7,
    "start_time": "2021-07-27T07:12:12.004Z"
   },
   {
    "duration": 9,
    "start_time": "2021-07-27T07:12:41.988Z"
   },
   {
    "duration": 7,
    "start_time": "2021-07-27T07:13:10.668Z"
   },
   {
    "duration": 7,
    "start_time": "2021-07-27T07:13:55.620Z"
   },
   {
    "duration": 7,
    "start_time": "2021-07-27T07:15:37.047Z"
   },
   {
    "duration": 9,
    "start_time": "2021-07-27T07:16:20.292Z"
   },
   {
    "duration": 17,
    "start_time": "2021-07-27T07:17:50.332Z"
   },
   {
    "duration": 7,
    "start_time": "2021-07-27T07:19:46.848Z"
   },
   {
    "duration": 6,
    "start_time": "2021-07-27T07:21:37.039Z"
   },
   {
    "duration": 327,
    "start_time": "2021-07-27T07:37:27.982Z"
   },
   {
    "duration": 5,
    "start_time": "2021-07-27T07:37:34.821Z"
   },
   {
    "duration": 608,
    "start_time": "2021-07-27T07:37:37.273Z"
   },
   {
    "duration": 5,
    "start_time": "2021-07-27T07:38:41.065Z"
   },
   {
    "duration": 658,
    "start_time": "2021-07-27T07:38:42.990Z"
   },
   {
    "duration": 5,
    "start_time": "2021-07-27T07:39:39.841Z"
   },
   {
    "duration": 27,
    "start_time": "2021-07-27T07:39:41.486Z"
   },
   {
    "duration": 5,
    "start_time": "2021-07-27T07:40:33.877Z"
   },
   {
    "duration": 4,
    "start_time": "2021-07-27T07:40:38.117Z"
   },
   {
    "duration": 23,
    "start_time": "2021-07-27T07:40:40.205Z"
   },
   {
    "duration": 5,
    "start_time": "2021-07-27T07:40:56.953Z"
   },
   {
    "duration": 24,
    "start_time": "2021-07-27T07:40:58.506Z"
   },
   {
    "duration": 5,
    "start_time": "2021-07-27T07:41:51.301Z"
   },
   {
    "duration": 23,
    "start_time": "2021-07-27T07:41:53.455Z"
   },
   {
    "duration": 4,
    "start_time": "2021-07-27T07:42:58.565Z"
   },
   {
    "duration": 24,
    "start_time": "2021-07-27T07:43:00.748Z"
   },
   {
    "duration": 841,
    "start_time": "2021-07-27T07:45:17.920Z"
   },
   {
    "duration": 6,
    "start_time": "2021-07-27T07:46:07.857Z"
   },
   {
    "duration": 523,
    "start_time": "2021-07-27T07:46:09.304Z"
   },
   {
    "duration": 432,
    "start_time": "2021-07-27T07:46:32.844Z"
   },
   {
    "duration": 13,
    "start_time": "2021-07-27T07:47:19.404Z"
   },
   {
    "duration": 10,
    "start_time": "2021-07-27T07:47:30.536Z"
   },
   {
    "duration": 9,
    "start_time": "2021-07-27T07:47:40.452Z"
   },
   {
    "duration": 8,
    "start_time": "2021-07-27T07:59:07.687Z"
   },
   {
    "duration": 7,
    "start_time": "2021-07-27T07:59:17.718Z"
   },
   {
    "duration": 6,
    "start_time": "2021-07-27T07:59:23.456Z"
   },
   {
    "duration": 311,
    "start_time": "2021-07-27T07:59:39.019Z"
   },
   {
    "duration": 6,
    "start_time": "2021-07-27T07:59:44.859Z"
   },
   {
    "duration": 8,
    "start_time": "2021-07-27T08:01:28.031Z"
   },
   {
    "duration": 6,
    "start_time": "2021-07-27T08:01:39.107Z"
   },
   {
    "duration": 6,
    "start_time": "2021-07-27T08:04:06.827Z"
   },
   {
    "duration": 6,
    "start_time": "2021-07-27T08:04:14.798Z"
   },
   {
    "duration": 5,
    "start_time": "2021-07-27T08:05:14.767Z"
   },
   {
    "duration": 4,
    "start_time": "2021-07-27T08:05:46.079Z"
   },
   {
    "duration": 6,
    "start_time": "2021-07-27T08:05:59.814Z"
   },
   {
    "duration": 319,
    "start_time": "2021-07-27T08:10:52.462Z"
   },
   {
    "duration": 4,
    "start_time": "2021-07-27T08:10:54.550Z"
   },
   {
    "duration": 9197,
    "start_time": "2021-07-27T08:10:55.888Z"
   },
   {
    "duration": 4,
    "start_time": "2021-07-27T08:11:27.054Z"
   },
   {
    "duration": 9864,
    "start_time": "2021-07-27T08:11:28.842Z"
   },
   {
    "duration": 5,
    "start_time": "2021-07-27T08:12:28.706Z"
   },
   {
    "duration": 470,
    "start_time": "2021-07-27T08:12:32.153Z"
   },
   {
    "duration": 11,
    "start_time": "2021-07-27T08:28:42.640Z"
   },
   {
    "duration": 9,
    "start_time": "2021-07-27T08:28:58.908Z"
   },
   {
    "duration": 10,
    "start_time": "2021-07-27T08:30:42.540Z"
   },
   {
    "duration": 347,
    "start_time": "2021-07-27T08:32:58.908Z"
   },
   {
    "duration": 326,
    "start_time": "2021-07-27T08:33:06.123Z"
   },
   {
    "duration": -6900591,
    "start_time": "2021-07-27T10:28:31.872Z"
   },
   {
    "duration": 10792,
    "start_time": "2021-07-27T08:34:41.139Z"
   },
   {
    "duration": -6900609,
    "start_time": "2021-07-27T10:30:16.416Z"
   },
   {
    "duration": 18,
    "start_time": "2021-07-27T08:40:25.798Z"
   },
   {
    "duration": 341,
    "start_time": "2021-07-27T08:41:41.382Z"
   },
   {
    "duration": 19,
    "start_time": "2021-07-27T08:41:47.062Z"
   },
   {
    "duration": 22,
    "start_time": "2021-07-27T08:42:17.541Z"
   },
   {
    "duration": 12,
    "start_time": "2021-07-27T08:42:58.796Z"
   },
   {
    "duration": 12,
    "start_time": "2021-07-27T08:46:00.770Z"
   },
   {
    "duration": 15,
    "start_time": "2021-07-27T08:46:25.103Z"
   },
   {
    "duration": 16,
    "start_time": "2021-07-27T08:51:28.110Z"
   },
   {
    "duration": 19,
    "start_time": "2021-07-27T08:53:25.850Z"
   },
   {
    "duration": 16,
    "start_time": "2021-07-27T08:53:27.226Z"
   },
   {
    "duration": 4,
    "start_time": "2021-07-27T08:58:46.317Z"
   },
   {
    "duration": 16,
    "start_time": "2021-07-27T08:58:50.533Z"
   },
   {
    "duration": 320,
    "start_time": "2021-07-27T09:09:27.831Z"
   },
   {
    "duration": 15,
    "start_time": "2021-07-27T09:09:36.761Z"
   },
   {
    "duration": 100,
    "start_time": "2021-07-27T09:10:03.919Z"
   },
   {
    "duration": 13,
    "start_time": "2021-07-27T09:10:10.706Z"
   },
   {
    "duration": 8886,
    "start_time": "2021-07-27T09:21:21.473Z"
   },
   {
    "duration": 10,
    "start_time": "2021-07-27T09:21:54.538Z"
   },
   {
    "duration": 19,
    "start_time": "2021-07-27T09:22:16.742Z"
   },
   {
    "duration": 10,
    "start_time": "2021-07-27T09:22:51.568Z"
   },
   {
    "duration": 13,
    "start_time": "2021-07-27T09:24:25.150Z"
   },
   {
    "duration": 14,
    "start_time": "2021-07-27T09:27:51.362Z"
   },
   {
    "duration": 13,
    "start_time": "2021-07-27T09:29:20.281Z"
   },
   {
    "duration": 325,
    "start_time": "2021-07-27T09:32:10.401Z"
   },
   {
    "duration": 5,
    "start_time": "2021-07-27T09:32:28.361Z"
   },
   {
    "duration": 13,
    "start_time": "2021-07-27T09:35:51.816Z"
   },
   {
    "duration": 14,
    "start_time": "2021-07-27T09:38:18.051Z"
   },
   {
    "duration": 8,
    "start_time": "2021-07-27T10:03:41.338Z"
   },
   {
    "duration": 7936,
    "start_time": "2021-07-27T10:11:49.700Z"
   },
   {
    "duration": 7,
    "start_time": "2021-07-27T10:12:19.048Z"
   },
   {
    "duration": 343,
    "start_time": "2021-07-27T10:17:12.203Z"
   },
   {
    "duration": 13,
    "start_time": "2021-07-27T10:17:31.795Z"
   },
   {
    "duration": 13,
    "start_time": "2021-07-27T10:22:21.526Z"
   },
   {
    "duration": 16,
    "start_time": "2021-07-27T10:26:00.338Z"
   },
   {
    "duration": 13,
    "start_time": "2021-07-27T10:26:01.746Z"
   },
   {
    "duration": 5,
    "start_time": "2021-07-27T10:27:20.268Z"
   },
   {
    "duration": 15,
    "start_time": "2021-07-27T10:30:14.437Z"
   },
   {
    "duration": 23,
    "start_time": "2021-07-27T10:38:50.101Z"
   },
   {
    "duration": 23,
    "start_time": "2021-07-27T10:39:26.573Z"
   },
   {
    "duration": 22,
    "start_time": "2021-07-27T10:39:47.832Z"
   },
   {
    "duration": 21,
    "start_time": "2021-07-27T10:40:07.093Z"
   },
   {
    "duration": 27,
    "start_time": "2021-07-27T10:42:04.782Z"
   },
   {
    "duration": 24,
    "start_time": "2021-07-27T10:44:24.764Z"
   },
   {
    "duration": 22,
    "start_time": "2021-07-27T10:46:57.176Z"
   },
   {
    "duration": 27,
    "start_time": "2021-07-27T10:46:58.495Z"
   },
   {
    "duration": 25,
    "start_time": "2021-07-27T10:47:00.663Z"
   },
   {
    "duration": 6,
    "start_time": "2021-07-27T10:49:22.423Z"
   },
   {
    "duration": 15,
    "start_time": "2021-07-27T10:56:43.787Z"
   },
   {
    "duration": 964,
    "start_time": "2021-07-27T15:22:03.951Z"
   },
   {
    "duration": 9,
    "start_time": "2021-07-27T15:22:04.917Z"
   },
   {
    "duration": 51,
    "start_time": "2021-07-27T15:22:04.929Z"
   },
   {
    "duration": 19,
    "start_time": "2021-07-27T15:22:04.983Z"
   },
   {
    "duration": 7,
    "start_time": "2021-07-27T15:22:05.005Z"
   },
   {
    "duration": 52,
    "start_time": "2021-07-27T15:22:05.015Z"
   },
   {
    "duration": 26,
    "start_time": "2021-07-27T15:22:05.071Z"
   },
   {
    "duration": 27,
    "start_time": "2021-07-27T15:22:05.103Z"
   },
   {
    "duration": 57,
    "start_time": "2021-07-27T15:22:05.135Z"
   },
   {
    "duration": 81,
    "start_time": "2021-07-27T15:22:05.195Z"
   },
   {
    "duration": 35,
    "start_time": "2021-07-27T15:22:05.279Z"
   },
   {
    "duration": 14,
    "start_time": "2021-07-27T15:22:05.317Z"
   },
   {
    "duration": 34,
    "start_time": "2021-07-27T15:22:05.335Z"
   },
   {
    "duration": 4445,
    "start_time": "2021-07-27T15:22:05.371Z"
   },
   {
    "duration": 4,
    "start_time": "2021-07-27T15:22:09.819Z"
   },
   {
    "duration": 826,
    "start_time": "2021-07-27T15:22:09.825Z"
   },
   {
    "duration": 14,
    "start_time": "2021-07-27T15:22:10.653Z"
   },
   {
    "duration": 22,
    "start_time": "2021-07-27T15:22:10.670Z"
   },
   {
    "duration": 7,
    "start_time": "2021-07-27T15:22:10.695Z"
   },
   {
    "duration": 10,
    "start_time": "2021-07-27T15:22:10.705Z"
   },
   {
    "duration": 57,
    "start_time": "2021-07-27T15:22:10.718Z"
   },
   {
    "duration": 6,
    "start_time": "2021-07-27T15:22:10.778Z"
   },
   {
    "duration": 7,
    "start_time": "2021-07-27T15:22:10.790Z"
   },
   {
    "duration": 6,
    "start_time": "2021-07-27T15:22:10.800Z"
   },
   {
    "duration": 10,
    "start_time": "2021-07-27T15:22:10.809Z"
   },
   {
    "duration": 58,
    "start_time": "2021-07-27T15:22:10.822Z"
   },
   {
    "duration": 23,
    "start_time": "2021-07-27T15:22:10.883Z"
   },
   {
    "duration": 6,
    "start_time": "2021-07-27T15:22:10.909Z"
   },
   {
    "duration": 6,
    "start_time": "2021-07-27T15:22:10.917Z"
   },
   {
    "duration": 443,
    "start_time": "2021-07-27T15:22:10.925Z"
   },
   {
    "duration": 11,
    "start_time": "2021-07-27T15:22:11.371Z"
   },
   {
    "duration": 7,
    "start_time": "2021-07-27T15:22:11.384Z"
   },
   {
    "duration": 5,
    "start_time": "2021-07-27T15:22:11.393Z"
   },
   {
    "duration": 466,
    "start_time": "2021-07-27T15:22:11.400Z"
   },
   {
    "duration": 15,
    "start_time": "2021-07-27T15:22:11.869Z"
   },
   {
    "duration": 15,
    "start_time": "2021-07-27T15:22:11.886Z"
   },
   {
    "duration": 12,
    "start_time": "2021-07-27T15:22:11.904Z"
   },
   {
    "duration": 5,
    "start_time": "2021-07-27T15:22:11.919Z"
   },
   {
    "duration": 14,
    "start_time": "2021-07-27T15:22:11.968Z"
   },
   {
    "duration": 11,
    "start_time": "2021-07-27T15:22:11.984Z"
   },
   {
    "duration": 519,
    "start_time": "2021-07-27T15:22:11.997Z"
   },
   {
    "duration": 190,
    "start_time": "2021-07-27T15:22:12.328Z"
   },
   {
    "duration": 186,
    "start_time": "2021-07-27T15:22:12.333Z"
   },
   {
    "duration": 177,
    "start_time": "2021-07-27T15:22:12.344Z"
   },
   {
    "duration": 173,
    "start_time": "2021-07-27T15:22:12.349Z"
   },
   {
    "duration": 171,
    "start_time": "2021-07-27T15:22:12.353Z"
   },
   {
    "duration": 169,
    "start_time": "2021-07-27T15:22:12.356Z"
   },
   {
    "duration": 167,
    "start_time": "2021-07-27T15:22:12.360Z"
   },
   {
    "duration": 165,
    "start_time": "2021-07-27T15:22:12.363Z"
   },
   {
    "duration": 164,
    "start_time": "2021-07-27T15:22:12.366Z"
   },
   {
    "duration": 163,
    "start_time": "2021-07-27T15:22:12.369Z"
   },
   {
    "duration": 161,
    "start_time": "2021-07-27T15:22:12.372Z"
   },
   {
    "duration": 159,
    "start_time": "2021-07-27T15:22:12.375Z"
   },
   {
    "duration": 157,
    "start_time": "2021-07-27T15:22:12.379Z"
   },
   {
    "duration": 155,
    "start_time": "2021-07-27T15:22:12.382Z"
   },
   {
    "duration": 12,
    "start_time": "2021-07-27T15:22:41.556Z"
   },
   {
    "duration": 13,
    "start_time": "2021-07-27T15:22:46.717Z"
   },
   {
    "duration": 12,
    "start_time": "2021-07-27T15:22:46.734Z"
   },
   {
    "duration": 5,
    "start_time": "2021-07-27T15:22:46.749Z"
   },
   {
    "duration": 17,
    "start_time": "2021-07-27T15:22:46.756Z"
   },
   {
    "duration": 20,
    "start_time": "2021-07-27T15:22:46.775Z"
   },
   {
    "duration": 16,
    "start_time": "2021-07-27T15:22:46.797Z"
   },
   {
    "duration": 15,
    "start_time": "2021-07-27T15:22:46.816Z"
   },
   {
    "duration": 6,
    "start_time": "2021-07-27T15:22:46.867Z"
   },
   {
    "duration": 16,
    "start_time": "2021-07-27T15:22:46.877Z"
   },
   {
    "duration": 27,
    "start_time": "2021-07-27T15:22:46.896Z"
   },
   {
    "duration": 59,
    "start_time": "2021-07-27T15:22:46.925Z"
   },
   {
    "duration": 26,
    "start_time": "2021-07-27T15:22:46.987Z"
   },
   {
    "duration": 6,
    "start_time": "2021-07-27T15:22:47.016Z"
   },
   {
    "duration": 51,
    "start_time": "2021-07-27T15:22:47.025Z"
   },
   {
    "duration": 707,
    "start_time": "2021-07-28T09:28:58.371Z"
   },
   {
    "duration": 18,
    "start_time": "2021-07-28T09:45:19.277Z"
   },
   {
    "duration": 7,
    "start_time": "2021-07-28T09:46:08.785Z"
   },
   {
    "duration": 44,
    "start_time": "2021-07-28T10:47:45.167Z"
   },
   {
    "duration": 6,
    "start_time": "2021-07-28T10:48:00.419Z"
   },
   {
    "duration": 15,
    "start_time": "2021-07-28T10:50:07.598Z"
   },
   {
    "duration": 17,
    "start_time": "2021-07-28T10:50:15.841Z"
   },
   {
    "duration": 30,
    "start_time": "2021-07-28T10:50:18.622Z"
   },
   {
    "duration": 10,
    "start_time": "2021-07-28T11:09:05.296Z"
   },
   {
    "duration": 4,
    "start_time": "2021-07-28T11:12:48.688Z"
   },
   {
    "duration": 6,
    "start_time": "2021-07-28T11:12:51.628Z"
   },
   {
    "duration": 9,
    "start_time": "2021-07-28T11:13:01.580Z"
   },
   {
    "duration": 5,
    "start_time": "2021-07-28T11:17:27.164Z"
   },
   {
    "duration": 452,
    "start_time": "2021-07-28T11:18:40.682Z"
   },
   {
    "duration": 417,
    "start_time": "2021-07-28T11:18:56.480Z"
   },
   {
    "duration": 5,
    "start_time": "2021-07-28T11:19:31.288Z"
   },
   {
    "duration": 7,
    "start_time": "2021-07-28T11:31:12.791Z"
   },
   {
    "duration": 6,
    "start_time": "2021-07-28T11:34:25.788Z"
   },
   {
    "duration": 6353,
    "start_time": "2021-07-28T11:34:38.714Z"
   },
   {
    "duration": 7,
    "start_time": "2021-07-28T11:34:54.702Z"
   },
   {
    "duration": 3,
    "start_time": "2021-07-28T11:41:28.534Z"
   },
   {
    "duration": 624,
    "start_time": "2021-07-28T11:41:36.390Z"
   },
   {
    "duration": 3,
    "start_time": "2021-07-28T11:41:59.850Z"
   },
   {
    "duration": 3,
    "start_time": "2021-07-28T11:42:00.964Z"
   },
   {
    "duration": 212,
    "start_time": "2021-07-28T11:42:02.658Z"
   },
   {
    "duration": 344,
    "start_time": "2021-07-28T11:52:55.186Z"
   },
   {
    "duration": 15,
    "start_time": "2021-07-28T11:53:36.579Z"
   },
   {
    "duration": 20,
    "start_time": "2021-07-28T11:53:46.929Z"
   },
   {
    "duration": 5047,
    "start_time": "2021-07-28T11:58:43.549Z"
   },
   {
    "duration": 17,
    "start_time": "2021-07-28T11:59:11.201Z"
   },
   {
    "duration": 16,
    "start_time": "2021-07-28T12:01:17.127Z"
   },
   {
    "duration": 7671,
    "start_time": "2021-07-28T12:01:36.541Z"
   },
   {
    "duration": 5106,
    "start_time": "2021-07-28T12:02:37.809Z"
   },
   {
    "duration": 24,
    "start_time": "2021-07-28T12:03:02.303Z"
   },
   {
    "duration": 20,
    "start_time": "2021-07-28T12:03:31.923Z"
   },
   {
    "duration": 19,
    "start_time": "2021-07-28T12:04:06.949Z"
   },
   {
    "duration": 307,
    "start_time": "2021-07-28T12:05:20.000Z"
   },
   {
    "duration": 21,
    "start_time": "2021-07-28T12:06:04.873Z"
   },
   {
    "duration": 21,
    "start_time": "2021-07-28T12:16:05.787Z"
   },
   {
    "duration": 19,
    "start_time": "2021-07-28T12:24:34.351Z"
   },
   {
    "duration": 7,
    "start_time": "2021-07-28T12:28:43.754Z"
   },
   {
    "duration": 3,
    "start_time": "2021-07-28T12:29:38.391Z"
   },
   {
    "duration": 3,
    "start_time": "2021-07-28T12:29:39.622Z"
   },
   {
    "duration": 249,
    "start_time": "2021-07-28T12:29:44.063Z"
   },
   {
    "duration": 19,
    "start_time": "2021-07-28T12:30:02.422Z"
   },
   {
    "duration": 246,
    "start_time": "2021-07-28T12:36:14.389Z"
   },
   {
    "duration": 236,
    "start_time": "2021-07-28T12:37:24.913Z"
   },
   {
    "duration": 12,
    "start_time": "2021-07-28T12:38:02.285Z"
   },
   {
    "duration": 271,
    "start_time": "2021-07-28T12:39:00.798Z"
   },
   {
    "duration": 5,
    "start_time": "2021-07-28T12:39:07.110Z"
   },
   {
    "duration": 232,
    "start_time": "2021-07-28T12:39:08.810Z"
   },
   {
    "duration": 12,
    "start_time": "2021-07-28T12:39:15.781Z"
   },
   {
    "duration": 13,
    "start_time": "2021-07-28T12:39:23.352Z"
   },
   {
    "duration": 31,
    "start_time": "2021-07-28T12:39:28.486Z"
   }
  ],
  "kernelspec": {
   "display_name": "Python 3",
   "language": "python",
   "name": "python3"
  },
  "language_info": {
   "codemirror_mode": {
    "name": "ipython",
    "version": 3
   },
   "file_extension": ".py",
   "mimetype": "text/x-python",
   "name": "python",
   "nbconvert_exporter": "python",
   "pygments_lexer": "ipython3",
   "version": "3.7.8"
  },
  "toc": {
   "base_numbering": 1,
   "nav_menu": {},
   "number_sections": true,
   "sideBar": true,
   "skip_h1_title": true,
   "title_cell": "Table of Contents",
   "title_sidebar": "Contents",
   "toc_cell": false,
   "toc_position": {},
   "toc_section_display": true,
   "toc_window_display": false
  }
 },
 "nbformat": 4,
 "nbformat_minor": 2
}
