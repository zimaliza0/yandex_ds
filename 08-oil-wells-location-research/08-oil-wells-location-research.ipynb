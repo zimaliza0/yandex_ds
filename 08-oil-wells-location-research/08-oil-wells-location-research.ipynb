{
 "cells": [
  {
   "cell_type": "markdown",
   "metadata": {},
   "source": [
    "# Выбор локации для скважины"
   ]
  },
  {
   "cell_type": "markdown",
   "metadata": {},
   "source": [
    "Допустим, вы работаете в добывающей компании «ГлавРосГосНефть». Нужно решить, где бурить новую скважину.\n",
    "\n",
    "Вам предоставлены пробы нефти в трёх регионах: в каждом 10 000 месторождений, где измерили качество нефти и объём её запасов. Постройте модель машинного обучения, которая поможет определить регион, где добыча принесёт наибольшую прибыль. Проанализируйте возможную прибыль и риски техникой *Bootstrap.*\n",
    "\n",
    "Шаги для выбора локации:\n",
    "\n",
    "- В избранном регионе ищут месторождения, для каждого определяют значения признаков;\n",
    "- Строят модель и оценивают объём запасов;\n",
    "- Выбирают месторождения с самым высокими оценками значений. Количество месторождений зависит от бюджета компании и стоимости разработки одной скважины;\n",
    "- Прибыль равна суммарной прибыли отобранных месторождений."
   ]
  },
  {
   "cell_type": "markdown",
   "metadata": {},
   "source": [
    "## Загрузка и подготовка данных"
   ]
  },
  {
   "cell_type": "markdown",
   "metadata": {},
   "source": [
    "Загрузим нужные библиотеки"
   ]
  },
  {
   "cell_type": "code",
   "execution_count": 1,
   "metadata": {},
   "outputs": [],
   "source": [
    "import pandas as pd\n",
    "import numpy as np\n",
    "from numpy.random import RandomState\n",
    "import seaborn as sns\n",
    "\n",
    "from sklearn.linear_model import LinearRegression\n",
    "from sklearn.preprocessing import StandardScaler\n",
    "from sklearn.model_selection import train_test_split\n",
    "from sklearn.metrics import mean_squared_error"
   ]
  },
  {
   "cell_type": "markdown",
   "metadata": {},
   "source": [
    "Сохраним данные в переменные"
   ]
  },
  {
   "cell_type": "code",
   "execution_count": 2,
   "metadata": {},
   "outputs": [],
   "source": [
    "geo_data_0 = pd.read_csv('/datasets/geo_data_0.csv')\n",
    "geo_data_1 = pd.read_csv('/datasets/geo_data_1.csv')\n",
    "geo_data_2 = pd.read_csv('/datasets/geo_data_2.csv')"
   ]
  },
  {
   "cell_type": "markdown",
   "metadata": {},
   "source": [
    "Напишем функцию для отображения основной информации"
   ]
  },
  {
   "cell_type": "code",
   "execution_count": 3,
   "metadata": {},
   "outputs": [],
   "source": [
    "def information(list):\n",
    "    for index, i in enumerate(list, start=0):\n",
    "        print('*'*20, f'Таблица geo_data_{index}', '*'*20)\n",
    "        print(i.head())\n",
    "        print('-'*60)\n",
    "        i.info()\n",
    "        print('-'*60)\n",
    "        print(i.describe())\n",
    "        print('-'*60)\n",
    "        print('Дубликатов в таблице -', i.duplicated().sum())\n",
    "        print('\\n')"
   ]
  },
  {
   "cell_type": "markdown",
   "metadata": {},
   "source": [
    "Применим функцию к таблицам"
   ]
  },
  {
   "cell_type": "code",
   "execution_count": 4,
   "metadata": {
    "scrolled": true
   },
   "outputs": [
    {
     "name": "stdout",
     "output_type": "stream",
     "text": [
      "******************** Таблица geo_data_0 ********************\n",
      "      id        f0        f1        f2     product\n",
      "0  txEyH  0.705745 -0.497823  1.221170  105.280062\n",
      "1  2acmU  1.334711 -0.340164  4.365080   73.037750\n",
      "2  409Wp  1.022732  0.151990  1.419926   85.265647\n",
      "3  iJLyR -0.032172  0.139033  2.978566  168.620776\n",
      "4  Xdl7t  1.988431  0.155413  4.751769  154.036647\n",
      "------------------------------------------------------------\n",
      "<class 'pandas.core.frame.DataFrame'>\n",
      "RangeIndex: 100000 entries, 0 to 99999\n",
      "Data columns (total 5 columns):\n",
      "id         100000 non-null object\n",
      "f0         100000 non-null float64\n",
      "f1         100000 non-null float64\n",
      "f2         100000 non-null float64\n",
      "product    100000 non-null float64\n",
      "dtypes: float64(4), object(1)\n",
      "memory usage: 3.8+ MB\n",
      "------------------------------------------------------------\n",
      "                  f0             f1             f2        product\n",
      "count  100000.000000  100000.000000  100000.000000  100000.000000\n",
      "mean        0.500419       0.250143       2.502647      92.500000\n",
      "std         0.871832       0.504433       3.248248      44.288691\n",
      "min        -1.408605      -0.848218     -12.088328       0.000000\n",
      "25%        -0.072580      -0.200881       0.287748      56.497507\n",
      "50%         0.502360       0.250252       2.515969      91.849972\n",
      "75%         1.073581       0.700646       4.715088     128.564089\n",
      "max         2.362331       1.343769      16.003790     185.364347\n",
      "------------------------------------------------------------\n",
      "Дубликатов в таблице - 0\n",
      "\n",
      "\n",
      "******************** Таблица geo_data_1 ********************\n",
      "      id         f0         f1        f2     product\n",
      "0  kBEdx -15.001348  -8.276000 -0.005876    3.179103\n",
      "1  62mP7  14.272088  -3.475083  0.999183   26.953261\n",
      "2  vyE1P   6.263187  -5.948386  5.001160  134.766305\n",
      "3  KcrkZ -13.081196 -11.506057  4.999415  137.945408\n",
      "4  AHL4O  12.702195  -8.147433  5.004363  134.766305\n",
      "------------------------------------------------------------\n",
      "<class 'pandas.core.frame.DataFrame'>\n",
      "RangeIndex: 100000 entries, 0 to 99999\n",
      "Data columns (total 5 columns):\n",
      "id         100000 non-null object\n",
      "f0         100000 non-null float64\n",
      "f1         100000 non-null float64\n",
      "f2         100000 non-null float64\n",
      "product    100000 non-null float64\n",
      "dtypes: float64(4), object(1)\n",
      "memory usage: 3.8+ MB\n",
      "------------------------------------------------------------\n",
      "                  f0             f1             f2        product\n",
      "count  100000.000000  100000.000000  100000.000000  100000.000000\n",
      "mean        1.141296      -4.796579       2.494541      68.825000\n",
      "std         8.965932       5.119872       1.703572      45.944423\n",
      "min       -31.609576     -26.358598      -0.018144       0.000000\n",
      "25%        -6.298551      -8.267985       1.000021      26.953261\n",
      "50%         1.153055      -4.813172       2.011479      57.085625\n",
      "75%         8.621015      -1.332816       3.999904     107.813044\n",
      "max        29.421755      18.734063       5.019721     137.945408\n",
      "------------------------------------------------------------\n",
      "Дубликатов в таблице - 0\n",
      "\n",
      "\n",
      "******************** Таблица geo_data_2 ********************\n",
      "      id        f0        f1        f2     product\n",
      "0  fwXo0 -1.146987  0.963328 -0.828965   27.758673\n",
      "1  WJtFt  0.262778  0.269839 -2.530187   56.069697\n",
      "2  ovLUW  0.194587  0.289035 -5.586433   62.871910\n",
      "3  q6cA6  2.236060 -0.553760  0.930038  114.572842\n",
      "4  WPMUX -0.515993  1.716266  5.899011  149.600746\n",
      "------------------------------------------------------------\n",
      "<class 'pandas.core.frame.DataFrame'>\n",
      "RangeIndex: 100000 entries, 0 to 99999\n",
      "Data columns (total 5 columns):\n",
      "id         100000 non-null object\n",
      "f0         100000 non-null float64\n",
      "f1         100000 non-null float64\n",
      "f2         100000 non-null float64\n",
      "product    100000 non-null float64\n",
      "dtypes: float64(4), object(1)\n",
      "memory usage: 3.8+ MB\n",
      "------------------------------------------------------------\n",
      "                  f0             f1             f2        product\n",
      "count  100000.000000  100000.000000  100000.000000  100000.000000\n",
      "mean        0.002023      -0.002081       2.495128      95.000000\n",
      "std         1.732045       1.730417       3.473445      44.749921\n",
      "min        -8.760004      -7.084020     -11.970335       0.000000\n",
      "25%        -1.162288      -1.174820       0.130359      59.450441\n",
      "50%         0.009424      -0.009482       2.484236      94.925613\n",
      "75%         1.158535       1.163678       4.858794     130.595027\n",
      "max         7.238262       7.844801      16.739402     190.029838\n",
      "------------------------------------------------------------\n",
      "Дубликатов в таблице - 0\n",
      "\n",
      "\n"
     ]
    }
   ],
   "source": [
    "information([geo_data_0, geo_data_1, geo_data_2])"
   ]
  },
  {
   "cell_type": "markdown",
   "metadata": {},
   "source": [
    "Дубликатов в данных не обнаружено, о \"нормальности\" значений признаков мы судить не можем\n",
    "\n",
    "Заменим индексы на id скважин"
   ]
  },
  {
   "cell_type": "code",
   "execution_count": 5,
   "metadata": {},
   "outputs": [],
   "source": [
    "geo_data_0 = geo_data_0.set_index('id')\n",
    "geo_data_1 = geo_data_1.set_index('id')\n",
    "geo_data_2 = geo_data_2.set_index('id')"
   ]
  },
  {
   "cell_type": "markdown",
   "metadata": {},
   "source": [
    "## Обучение и проверка модели"
   ]
  },
  {
   "cell_type": "markdown",
   "metadata": {},
   "source": [
    "Разделим данные на признаки и целевые признаки"
   ]
  },
  {
   "cell_type": "code",
   "execution_count": 6,
   "metadata": {},
   "outputs": [],
   "source": [
    "features_0 = geo_data_0.drop('product', axis=1)\n",
    "features_1 = geo_data_1.drop('product', axis=1)\n",
    "features_2 = geo_data_2.drop('product', axis=1)\n",
    "\n",
    "target_0 = geo_data_0['product']\n",
    "target_1 = geo_data_1['product']\n",
    "target_2 = geo_data_2['product']"
   ]
  },
  {
   "cell_type": "markdown",
   "metadata": {},
   "source": [
    "Разделим данные на обучающие и валидационные выборки в соотношении 75:25"
   ]
  },
  {
   "cell_type": "code",
   "execution_count": 7,
   "metadata": {},
   "outputs": [],
   "source": [
    "features_train_0, features_valid_0, target_train_0, target_valid_0 = train_test_split(\n",
    "    features_0, target_0, test_size=0.25, random_state=12345)\n",
    "features_train_1, features_valid_1, target_train_1, target_valid_1 = train_test_split(\n",
    "    features_1, target_1, test_size=0.25, random_state=12345)\n",
    "features_train_2, features_valid_2, target_train_2, target_valid_2 = train_test_split(\n",
    "    features_2, target_2, test_size=0.25, random_state=12345)"
   ]
  },
  {
   "cell_type": "markdown",
   "metadata": {},
   "source": [
    "Стандартизируем признаки в выборках"
   ]
  },
  {
   "cell_type": "code",
   "execution_count": 8,
   "metadata": {},
   "outputs": [],
   "source": [
    "scaler = StandardScaler()\n",
    "pd.options.mode.chained_assignment = None \n",
    "\n",
    "def skaler_features(features_train, features_valid):\n",
    "    scaler.fit(features_train)\n",
    "    features_train = scaler.transform(features_train)\n",
    "    features_valid = scaler.transform(features_valid)\n",
    "\n",
    "skaler_features(features_train_0, features_valid_0)\n",
    "skaler_features(features_train_1, features_valid_1)\n",
    "skaler_features(features_train_2, features_valid_2)"
   ]
  },
  {
   "cell_type": "markdown",
   "metadata": {},
   "source": [
    "Обучим модели а так же найдем средний запас предсказаного сырья и RMSE моделей"
   ]
  },
  {
   "cell_type": "code",
   "execution_count": 9,
   "metadata": {},
   "outputs": [
    {
     "name": "stdout",
     "output_type": "stream",
     "text": [
      "Средний запас предсказаного сырья = 92.59256778438038 \n",
      "RMSE = 37.5794217150813\n"
     ]
    }
   ],
   "source": [
    "model_0 = LinearRegression()\n",
    "model_0.fit(features_train_0, target_train_0)\n",
    "predicted_valid_0 = model_0.predict(features_valid_0)\n",
    "predicted_mean_0 = predicted_valid_0.mean()\n",
    "mse_0 = mean_squared_error(target_valid_0, predicted_valid_0)\n",
    "print('Средний запас предсказаного сырья =', predicted_mean_0,\n",
    "     '\\nRMSE =', mse_0 ** 0.5)"
   ]
  },
  {
   "cell_type": "code",
   "execution_count": 10,
   "metadata": {},
   "outputs": [
    {
     "name": "stdout",
     "output_type": "stream",
     "text": [
      "Средний запас предсказаного сырья = 68.728546895446 \n",
      "RMSE = 0.893099286775616\n"
     ]
    }
   ],
   "source": [
    "model_1 = LinearRegression()\n",
    "model_1.fit(features_train_1, target_train_1)\n",
    "predicted_valid_1 = model_1.predict(features_valid_1)\n",
    "predicted_mean_1 = predicted_valid_1.mean()\n",
    "mse_1 = mean_squared_error(target_valid_1, predicted_valid_1)\n",
    "print('Средний запас предсказаного сырья =', predicted_mean_1,\n",
    "     '\\nRMSE =', mse_1 ** 0.5)"
   ]
  },
  {
   "cell_type": "code",
   "execution_count": 11,
   "metadata": {},
   "outputs": [
    {
     "name": "stdout",
     "output_type": "stream",
     "text": [
      "Средний запас предсказаного сырья = 94.96504596800489 \n",
      "RMSE = 40.02970873393434\n"
     ]
    }
   ],
   "source": [
    "model_2 = LinearRegression()\n",
    "model_2.fit(features_train_2, target_train_2)\n",
    "predicted_valid_2 = model_2.predict(features_valid_2)\n",
    "predicted_mean_2 = predicted_valid_2.mean()\n",
    "mse_2 = mean_squared_error(target_valid_2, predicted_valid_2)\n",
    "print('Средний запас предсказаного сырья =', predicted_mean_2,\n",
    "     '\\nRMSE =', mse_2 ** 0.5)"
   ]
  },
  {
   "cell_type": "markdown",
   "metadata": {},
   "source": [
    "**Вывод:** Модели 0 и 2 предсказывают больший средний запас сырья, но при этом у 2й модели очень низкий показатель RMSE, что говорит о хорошем уровне предсказаний модели"
   ]
  },
  {
   "cell_type": "markdown",
   "metadata": {},
   "source": [
    "## Подготовка к расчёту прибыли"
   ]
  },
  {
   "cell_type": "markdown",
   "metadata": {},
   "source": [
    "Подготовим переменные для расчета прибыли"
   ]
  },
  {
   "cell_type": "code",
   "execution_count": 12,
   "metadata": {},
   "outputs": [],
   "source": [
    "POINTS = 500\n",
    "FINAL_POINTS = 200\n",
    "REGION_BUDGET = 10*(10**9)\n",
    "INCOME = 450000"
   ]
  },
  {
   "cell_type": "markdown",
   "metadata": {},
   "source": [
    "Рассчитаем достаточный объём сырья для безубыточной разработки новой скважины"
   ]
  },
  {
   "cell_type": "code",
   "execution_count": 13,
   "metadata": {},
   "outputs": [
    {
     "data": {
      "text/plain": [
       "111.11111111111111"
      ]
     },
     "execution_count": 13,
     "metadata": {},
     "output_type": "execute_result"
    }
   ],
   "source": [
    "NO_DAMAGES_POINT = REGION_BUDGET / INCOME / FINAL_POINTS\n",
    "NO_DAMAGES_POINT"
   ]
  },
  {
   "cell_type": "markdown",
   "metadata": {},
   "source": [
    "Сравним его с предсказаниями наших моделей"
   ]
  },
  {
   "cell_type": "code",
   "execution_count": 14,
   "metadata": {},
   "outputs": [
    {
     "name": "stdout",
     "output_type": "stream",
     "text": [
      "Предсказаный средний обьем сырья в регионе 0 убыточный\n",
      "Предсказаный средний обьем сырья в регионе 1 убыточный\n",
      "Предсказаный средний обьем сырья в регионе 2 убыточный\n"
     ]
    }
   ],
   "source": [
    "for index, i in enumerate([predicted_mean_0, predicted_mean_1, predicted_mean_2], start=0): \n",
    "    if i > NO_DAMAGES_POINT:\n",
    "        print(f'Предсказаный средний обьем сырья в регионе {index} прибыльный')\n",
    "    else:\n",
    "        print(f'Предсказаный средний обьем сырья в регионе {index} убыточный')"
   ]
  },
  {
   "cell_type": "markdown",
   "metadata": {},
   "source": [
    "**Вывод:** мы подготовили данные для дальнейших расчетов и расчитали обьем сырья для безубыточной разработки сырья. По результатам сравнения с предсказаниями моделей оказалось, что предсказанный средний обьем во всех трех регионах убыточный"
   ]
  },
  {
   "cell_type": "markdown",
   "metadata": {},
   "source": [
    "Напишем функцию для расчета прибыли по выбраным скважинам"
   ]
  },
  {
   "cell_type": "code",
   "execution_count": 15,
   "metadata": {},
   "outputs": [],
   "source": [
    "def income_region(predicted_values, target_values):\n",
    "    predicted_sort = pd.Series(data=predicted_values).sort_values(ascending=False)[:FINAL_POINTS]\n",
    "    target_sort = (target_values.reset_index(drop = True)[predicted_sort.index])\n",
    "    sum_target = target_sort.sum()\n",
    "    income_200 = round((sum_target * INCOME - REGION_BUDGET))\n",
    "    return income_200 "
   ]
  },
  {
   "cell_type": "markdown",
   "metadata": {},
   "source": [
    "## Расчёт прибыли и рисков "
   ]
  },
  {
   "cell_type": "markdown",
   "metadata": {},
   "source": [
    "Напишем функцию с техникой bootstrap для подсчета доверительного интервала региона и риска убытков"
   ]
  },
  {
   "cell_type": "code",
   "execution_count": 16,
   "metadata": {},
   "outputs": [],
   "source": [
    "state = np.random.RandomState(12345)\n",
    "def risks(predicted_valid, target_valid):\n",
    "    values = []\n",
    "    for i in range(1000):\n",
    "        predicted_subsample = pd.Series(data=predicted_valid).sample(n=POINTS, replace=True, random_state=state)\n",
    "        values.append(income_region(predicted_subsample, target_valid))\n",
    "\n",
    "    values = pd.Series(values)\n",
    "    lower =  round(values.quantile(0.025))\n",
    "    upper =  round(values.quantile(0.975))\n",
    "    mean = values.mean()\n",
    "    risk = values.apply(lambda x: x < 0).sum()/len(values)*100\n",
    "\n",
    "    print(\"Средняя прибыль региона:\", round(mean))\n",
    "    print(f\"Доверительный интервал региона: от {lower} до {upper}\")\n",
    "    print(f\"Риск убытков {risk}%\")"
   ]
  },
  {
   "cell_type": "markdown",
   "metadata": {},
   "source": [
    "Применим функцию к регионам"
   ]
  },
  {
   "cell_type": "code",
   "execution_count": 17,
   "metadata": {},
   "outputs": [
    {
     "name": "stdout",
     "output_type": "stream",
     "text": [
      "Регион 0 ___________________________________________________\n",
      "Средняя прибыль региона: 396164985\n",
      "Доверительный интервал региона: от -111215546 до 909766941\n",
      "Риск убытков 6.9%\n",
      "\n",
      "Регион 1 ___________________________________________________\n",
      "Средняя прибыль региона: 461155817\n",
      "Доверительный интервал региона: от 78050810 до 862952060\n",
      "Риск убытков 0.7000000000000001%\n",
      "\n",
      "\n",
      "Регион 2 ___________________________________________________\n",
      "Средняя прибыль региона: 392950475\n",
      "Доверительный интервал региона: от -112227626 до 934562915\n",
      "Риск убытков 6.5%\n"
     ]
    }
   ],
   "source": [
    "print(\"Регион 0\", \"_\"*51)\n",
    "risks(predicted_valid_0, target_valid_0)\n",
    "print(\"\\nРегион 1\", \"_\"*51)\n",
    "risks(predicted_valid_1, target_valid_1)\n",
    "print(\"\\n\"\n",
    "      \"\\nРегион 2\", \"_\"*51)\n",
    "risks(predicted_valid_2, target_valid_2)"
   ]
  },
  {
   "cell_type": "markdown",
   "metadata": {},
   "source": [
    "Регионы с номерами 0 и 2 превышают возможные риски, у региона с номером 1 риски меньше 2.5 процентов, что удовлетворяет усовию, так же он имеет самую высокую среднюю прибыль."
   ]
  },
  {
   "cell_type": "markdown",
   "metadata": {},
   "source": [
    "## Общий вывод"
   ]
  },
  {
   "cell_type": "markdown",
   "metadata": {},
   "source": [
    "В ходе исследовании мы изучили и подготовили данные для обучения моделей предсказания добычи сырья, обучили модели и сделали на них предсказания. Далее мы нашли среднее кол-во сырья для безубыточной разработки скважин и сравнили их с средними значениями по регионам, в результате чего обнаружили что среднее кол-во сырья в регионах убыточное, что указывает на необходимость хорошей модели для предсказания скважин. Далее мы рассчитали среднюю прибыль, доверительные интервалы и риски убытков по трём регионам.\n",
    "В результате исследования мы нашли потенциальный регион для разработки новых скважин, им стал регион с номером 1, т.к. риск убытков в данном регионе меньше 2.5 процентов и он имеет наибольшую среднюю прибыль."
   ]
  }
 ],
 "metadata": {
  "ExecuteTimeLog": [
   {
    "duration": 1655,
    "start_time": "2021-10-21T11:43:56.301Z"
   },
   {
    "duration": 472,
    "start_time": "2021-10-21T11:45:33.504Z"
   },
   {
    "duration": 50,
    "start_time": "2021-10-21T13:20:21.513Z"
   },
   {
    "duration": 479,
    "start_time": "2021-10-21T13:20:33.689Z"
   },
   {
    "duration": 72,
    "start_time": "2021-10-21T13:20:55.454Z"
   },
   {
    "duration": 71,
    "start_time": "2021-10-21T13:21:01.689Z"
   },
   {
    "duration": 58,
    "start_time": "2021-10-21T13:21:08.109Z"
   },
   {
    "duration": 66,
    "start_time": "2021-10-21T13:21:11.585Z"
   },
   {
    "duration": 506,
    "start_time": "2021-10-21T13:22:42.869Z"
   },
   {
    "duration": 20,
    "start_time": "2021-10-21T13:37:29.818Z"
   },
   {
    "duration": 127,
    "start_time": "2021-10-21T13:38:18.918Z"
   },
   {
    "duration": 26,
    "start_time": "2021-10-21T13:38:23.403Z"
   },
   {
    "duration": 10065,
    "start_time": "2021-10-21T13:38:34.501Z"
   },
   {
    "duration": 392,
    "start_time": "2021-10-21T13:38:55.544Z"
   },
   {
    "duration": 17,
    "start_time": "2021-10-21T13:39:12.215Z"
   },
   {
    "duration": 429,
    "start_time": "2021-10-21T13:39:38.045Z"
   },
   {
    "duration": 285,
    "start_time": "2021-10-22T19:58:26.937Z"
   },
   {
    "duration": 1481,
    "start_time": "2021-10-22T19:58:37.426Z"
   },
   {
    "duration": 1234,
    "start_time": "2021-10-22T19:58:38.909Z"
   },
   {
    "duration": 23,
    "start_time": "2021-10-22T19:58:40.146Z"
   },
   {
    "duration": 17,
    "start_time": "2021-10-22T19:58:40.171Z"
   },
   {
    "duration": 7,
    "start_time": "2021-10-22T21:33:55.849Z"
   },
   {
    "duration": 17,
    "start_time": "2021-10-22T21:34:01.808Z"
   },
   {
    "duration": 381,
    "start_time": "2021-10-22T21:38:28.308Z"
   },
   {
    "duration": 1449,
    "start_time": "2021-10-22T21:38:37.994Z"
   },
   {
    "duration": 469,
    "start_time": "2021-10-22T21:38:39.447Z"
   },
   {
    "duration": 33,
    "start_time": "2021-10-22T21:38:39.918Z"
   },
   {
    "duration": 17,
    "start_time": "2021-10-22T21:38:39.953Z"
   },
   {
    "duration": 13,
    "start_time": "2021-10-22T21:39:35.498Z"
   },
   {
    "duration": 1438,
    "start_time": "2021-10-22T21:40:24.302Z"
   },
   {
    "duration": 455,
    "start_time": "2021-10-22T21:40:25.742Z"
   },
   {
    "duration": 20,
    "start_time": "2021-10-22T21:40:26.199Z"
   },
   {
    "duration": 335,
    "start_time": "2021-10-22T21:40:26.230Z"
   },
   {
    "duration": 169,
    "start_time": "2021-10-22T21:40:41.292Z"
   },
   {
    "duration": 3,
    "start_time": "2021-10-22T21:40:52.791Z"
   },
   {
    "duration": 4,
    "start_time": "2021-10-22T21:40:55.018Z"
   },
   {
    "duration": 1430,
    "start_time": "2021-10-22T21:41:56.111Z"
   },
   {
    "duration": 463,
    "start_time": "2021-10-22T21:41:58.003Z"
   },
   {
    "duration": 227,
    "start_time": "2021-10-22T21:42:00.025Z"
   },
   {
    "duration": 22,
    "start_time": "2021-10-22T21:42:01.631Z"
   },
   {
    "duration": 1358,
    "start_time": "2021-10-22T21:43:54.179Z"
   },
   {
    "duration": 464,
    "start_time": "2021-10-22T21:43:55.540Z"
   },
   {
    "duration": 33,
    "start_time": "2021-10-22T21:43:56.006Z"
   },
   {
    "duration": 14,
    "start_time": "2021-10-22T21:43:56.041Z"
   },
   {
    "duration": 15,
    "start_time": "2021-10-22T21:45:00.577Z"
   },
   {
    "duration": 14,
    "start_time": "2021-10-22T21:49:41.018Z"
   },
   {
    "duration": 12,
    "start_time": "2021-10-22T21:49:46.859Z"
   },
   {
    "duration": 383,
    "start_time": "2021-10-22T22:06:08.074Z"
   },
   {
    "duration": 1349,
    "start_time": "2021-10-22T22:06:20.076Z"
   },
   {
    "duration": 461,
    "start_time": "2021-10-22T22:06:21.429Z"
   },
   {
    "duration": 36,
    "start_time": "2021-10-22T22:06:21.893Z"
   },
   {
    "duration": 15,
    "start_time": "2021-10-22T22:06:21.931Z"
   },
   {
    "duration": 38,
    "start_time": "2021-10-22T22:06:21.948Z"
   },
   {
    "duration": 19,
    "start_time": "2021-10-22T22:06:36.481Z"
   },
   {
    "duration": 10,
    "start_time": "2021-10-22T22:06:48.074Z"
   },
   {
    "duration": 45,
    "start_time": "2021-10-22T22:11:22.237Z"
   },
   {
    "duration": 354,
    "start_time": "2021-10-22T22:17:21.296Z"
   },
   {
    "duration": 68,
    "start_time": "2021-10-22T22:18:09.659Z"
   },
   {
    "duration": 205,
    "start_time": "2021-10-22T22:18:26.522Z"
   },
   {
    "duration": 165,
    "start_time": "2021-10-22T22:19:57.478Z"
   },
   {
    "duration": 211,
    "start_time": "2021-10-22T22:20:30.708Z"
   },
   {
    "duration": 210,
    "start_time": "2021-10-22T22:20:38.537Z"
   },
   {
    "duration": 108,
    "start_time": "2021-10-22T22:20:41.270Z"
   },
   {
    "duration": 157,
    "start_time": "2021-10-22T22:20:42.108Z"
   },
   {
    "duration": 76,
    "start_time": "2021-10-22T22:21:55.968Z"
   },
   {
    "duration": 74,
    "start_time": "2021-10-22T22:22:09.399Z"
   },
   {
    "duration": 22,
    "start_time": "2021-10-22T22:22:11.815Z"
   },
   {
    "duration": 38,
    "start_time": "2021-10-22T22:23:29.624Z"
   },
   {
    "duration": 37,
    "start_time": "2021-10-22T22:25:25.385Z"
   },
   {
    "duration": 7,
    "start_time": "2021-10-22T22:28:56.361Z"
   },
   {
    "duration": 246,
    "start_time": "2021-10-22T22:31:15.253Z"
   },
   {
    "duration": 35,
    "start_time": "2021-10-22T22:31:29.295Z"
   },
   {
    "duration": 19,
    "start_time": "2021-10-22T22:32:01.956Z"
   },
   {
    "duration": 17,
    "start_time": "2021-10-22T22:32:22.289Z"
   },
   {
    "duration": 18,
    "start_time": "2021-10-22T22:32:31.131Z"
   },
   {
    "duration": 44,
    "start_time": "2021-10-22T22:37:05.385Z"
   },
   {
    "duration": 24,
    "start_time": "2021-10-22T22:42:16.815Z"
   },
   {
    "duration": 50,
    "start_time": "2021-10-22T22:43:13.978Z"
   },
   {
    "duration": 72,
    "start_time": "2021-10-22T22:45:10.762Z"
   },
   {
    "duration": 23,
    "start_time": "2021-10-22T22:47:18.584Z"
   },
   {
    "duration": 67,
    "start_time": "2021-10-22T22:50:26.070Z"
   },
   {
    "duration": 22,
    "start_time": "2021-10-22T22:50:42.811Z"
   },
   {
    "duration": 23,
    "start_time": "2021-10-22T22:50:49.680Z"
   },
   {
    "duration": 42,
    "start_time": "2021-10-22T22:51:10.389Z"
   },
   {
    "duration": 24,
    "start_time": "2021-10-22T22:51:20.163Z"
   },
   {
    "duration": 22,
    "start_time": "2021-10-22T22:51:26.456Z"
   },
   {
    "duration": 47,
    "start_time": "2021-10-22T22:58:58.096Z"
   },
   {
    "duration": 31,
    "start_time": "2021-10-22T22:58:59.899Z"
   },
   {
    "duration": 23,
    "start_time": "2021-10-22T22:59:03.540Z"
   },
   {
    "duration": 21,
    "start_time": "2021-10-22T22:59:05.264Z"
   },
   {
    "duration": 1136,
    "start_time": "2021-10-26T13:14:03.764Z"
   },
   {
    "duration": 372,
    "start_time": "2021-10-26T13:14:04.902Z"
   },
   {
    "duration": 18,
    "start_time": "2021-10-26T13:14:05.276Z"
   },
   {
    "duration": 10,
    "start_time": "2021-10-26T13:14:05.296Z"
   },
   {
    "duration": 123,
    "start_time": "2021-10-26T13:14:05.308Z"
   },
   {
    "duration": 2,
    "start_time": "2021-10-26T13:14:05.433Z"
   },
   {
    "duration": 109,
    "start_time": "2021-10-26T13:14:05.436Z"
   },
   {
    "duration": 198,
    "start_time": "2021-10-26T13:14:05.548Z"
   },
   {
    "duration": 197,
    "start_time": "2021-10-26T13:14:05.749Z"
   },
   {
    "duration": 315,
    "start_time": "2021-10-27T11:43:06.183Z"
   },
   {
    "duration": 1223,
    "start_time": "2021-10-27T11:46:34.547Z"
   },
   {
    "duration": 415,
    "start_time": "2021-10-27T11:46:36.987Z"
   },
   {
    "duration": 3,
    "start_time": "2021-10-27T11:46:39.587Z"
   },
   {
    "duration": 696,
    "start_time": "2021-10-27T11:47:18.459Z"
   },
   {
    "duration": 3,
    "start_time": "2021-10-27T11:47:58.074Z"
   },
   {
    "duration": 123,
    "start_time": "2021-10-27T11:47:58.926Z"
   },
   {
    "duration": 3,
    "start_time": "2021-10-27T11:48:21.802Z"
   },
   {
    "duration": 120,
    "start_time": "2021-10-27T11:48:22.686Z"
   },
   {
    "duration": 3,
    "start_time": "2021-10-27T11:48:28.822Z"
   },
   {
    "duration": 116,
    "start_time": "2021-10-27T11:48:29.434Z"
   },
   {
    "duration": 3,
    "start_time": "2021-10-27T11:48:35.210Z"
   },
   {
    "duration": 116,
    "start_time": "2021-10-27T11:48:36.683Z"
   },
   {
    "duration": 7,
    "start_time": "2021-10-27T11:48:44.642Z"
   },
   {
    "duration": 113,
    "start_time": "2021-10-27T11:48:45.682Z"
   },
   {
    "duration": 4,
    "start_time": "2021-10-27T11:49:25.954Z"
   },
   {
    "duration": 117,
    "start_time": "2021-10-27T11:49:26.918Z"
   },
   {
    "duration": 4,
    "start_time": "2021-10-27T11:49:38.766Z"
   },
   {
    "duration": 149,
    "start_time": "2021-10-27T11:49:40.144Z"
   },
   {
    "duration": 3,
    "start_time": "2021-10-27T11:50:13.402Z"
   },
   {
    "duration": 758,
    "start_time": "2021-10-27T11:50:16.391Z"
   },
   {
    "duration": 4,
    "start_time": "2021-10-27T11:50:21.554Z"
   },
   {
    "duration": 722,
    "start_time": "2021-10-27T11:50:23.258Z"
   },
   {
    "duration": 4,
    "start_time": "2021-10-27T11:51:07.986Z"
   },
   {
    "duration": 152,
    "start_time": "2021-10-27T11:51:08.862Z"
   },
   {
    "duration": 3,
    "start_time": "2021-10-27T11:51:21.886Z"
   },
   {
    "duration": 135,
    "start_time": "2021-10-27T11:51:22.846Z"
   },
   {
    "duration": 3,
    "start_time": "2021-10-27T11:51:37.906Z"
   },
   {
    "duration": 669,
    "start_time": "2021-10-27T11:51:40.122Z"
   },
   {
    "duration": 3,
    "start_time": "2021-10-27T11:52:10.526Z"
   },
   {
    "duration": 117,
    "start_time": "2021-10-27T11:52:12.518Z"
   },
   {
    "duration": 4,
    "start_time": "2021-10-27T11:52:26.266Z"
   },
   {
    "duration": 114,
    "start_time": "2021-10-27T11:52:27.681Z"
   },
   {
    "duration": 4,
    "start_time": "2021-10-27T11:56:32.625Z"
   },
   {
    "duration": 4,
    "start_time": "2021-10-27T11:56:35.829Z"
   },
   {
    "duration": 3,
    "start_time": "2021-10-27T11:56:43.837Z"
   },
   {
    "duration": 118,
    "start_time": "2021-10-27T11:56:44.881Z"
   },
   {
    "duration": 3,
    "start_time": "2021-10-27T11:57:31.581Z"
   },
   {
    "duration": 544,
    "start_time": "2021-10-27T11:57:32.673Z"
   },
   {
    "duration": 5,
    "start_time": "2021-10-27T11:57:43.265Z"
   },
   {
    "duration": 818,
    "start_time": "2021-10-27T11:57:44.245Z"
   },
   {
    "duration": 367,
    "start_time": "2021-10-27T12:03:08.197Z"
   },
   {
    "duration": 3,
    "start_time": "2021-10-27T12:08:28.701Z"
   },
   {
    "duration": 3,
    "start_time": "2021-10-27T12:08:41.237Z"
   },
   {
    "duration": 121,
    "start_time": "2021-10-27T12:08:42.408Z"
   },
   {
    "duration": 175,
    "start_time": "2021-10-27T12:08:51.861Z"
   },
   {
    "duration": 3,
    "start_time": "2021-10-27T12:09:00.189Z"
   },
   {
    "duration": 116,
    "start_time": "2021-10-27T12:09:01.436Z"
   },
   {
    "duration": 4,
    "start_time": "2021-10-27T12:13:15.640Z"
   },
   {
    "duration": 3,
    "start_time": "2021-10-27T12:16:36.575Z"
   },
   {
    "duration": 122,
    "start_time": "2021-10-27T12:16:37.563Z"
   },
   {
    "duration": 4,
    "start_time": "2021-10-27T12:16:47.315Z"
   },
   {
    "duration": 583,
    "start_time": "2021-10-27T12:16:48.403Z"
   },
   {
    "duration": 4,
    "start_time": "2021-10-27T12:17:04.119Z"
   },
   {
    "duration": 128,
    "start_time": "2021-10-27T12:17:04.903Z"
   },
   {
    "duration": 4,
    "start_time": "2021-10-27T12:17:33.403Z"
   },
   {
    "duration": 245,
    "start_time": "2021-10-27T12:17:34.291Z"
   },
   {
    "duration": 4,
    "start_time": "2021-10-27T12:17:46.427Z"
   },
   {
    "duration": 241,
    "start_time": "2021-10-27T12:17:48.283Z"
   },
   {
    "duration": 3,
    "start_time": "2021-10-27T12:18:13.875Z"
   },
   {
    "duration": 234,
    "start_time": "2021-10-27T12:18:14.467Z"
   },
   {
    "duration": 99,
    "start_time": "2021-10-27T12:21:09.987Z"
   },
   {
    "duration": 4,
    "start_time": "2021-10-27T12:21:14.612Z"
   },
   {
    "duration": 702,
    "start_time": "2021-10-27T12:21:15.652Z"
   },
   {
    "duration": 3,
    "start_time": "2021-10-27T12:22:24.423Z"
   },
   {
    "duration": 577,
    "start_time": "2021-10-27T12:22:25.522Z"
   },
   {
    "duration": 4,
    "start_time": "2021-10-27T12:22:37.998Z"
   },
   {
    "duration": 226,
    "start_time": "2021-10-27T12:22:40.284Z"
   },
   {
    "duration": 10,
    "start_time": "2021-10-27T12:22:49.660Z"
   },
   {
    "duration": 241,
    "start_time": "2021-10-27T12:22:50.884Z"
   },
   {
    "duration": 3,
    "start_time": "2021-10-27T12:25:02.574Z"
   },
   {
    "duration": 549,
    "start_time": "2021-10-27T12:25:03.934Z"
   },
   {
    "duration": 4,
    "start_time": "2021-10-27T12:25:10.986Z"
   },
   {
    "duration": 523,
    "start_time": "2021-10-27T12:25:12.670Z"
   },
   {
    "duration": 390,
    "start_time": "2021-10-27T12:25:21.866Z"
   },
   {
    "duration": 4,
    "start_time": "2021-10-27T12:25:23.474Z"
   },
   {
    "duration": 540,
    "start_time": "2021-10-27T12:25:25.538Z"
   },
   {
    "duration": 3,
    "start_time": "2021-10-27T12:25:43.906Z"
   },
   {
    "duration": 812,
    "start_time": "2021-10-27T12:25:45.586Z"
   },
   {
    "duration": 3,
    "start_time": "2021-10-27T12:25:53.874Z"
   },
   {
    "duration": 4,
    "start_time": "2021-10-27T12:27:25.258Z"
   },
   {
    "duration": 226,
    "start_time": "2021-10-27T12:27:26.618Z"
   },
   {
    "duration": 4,
    "start_time": "2021-10-27T12:27:38.721Z"
   },
   {
    "duration": 219,
    "start_time": "2021-10-27T12:27:40.720Z"
   },
   {
    "duration": 4,
    "start_time": "2021-10-27T12:28:26.605Z"
   },
   {
    "duration": 230,
    "start_time": "2021-10-27T12:28:28.482Z"
   },
   {
    "duration": 4,
    "start_time": "2021-10-27T12:28:39.122Z"
   },
   {
    "duration": 235,
    "start_time": "2021-10-27T12:28:39.825Z"
   },
   {
    "duration": 4,
    "start_time": "2021-10-27T12:28:43.918Z"
   },
   {
    "duration": 237,
    "start_time": "2021-10-27T12:28:44.658Z"
   },
   {
    "duration": 4,
    "start_time": "2021-10-27T12:29:01.882Z"
   },
   {
    "duration": 223,
    "start_time": "2021-10-27T12:29:02.681Z"
   },
   {
    "duration": 4,
    "start_time": "2021-10-27T12:29:32.885Z"
   },
   {
    "duration": 232,
    "start_time": "2021-10-27T12:29:33.694Z"
   },
   {
    "duration": 4,
    "start_time": "2021-10-27T12:29:38.497Z"
   },
   {
    "duration": 230,
    "start_time": "2021-10-27T12:29:40.329Z"
   },
   {
    "duration": 5,
    "start_time": "2021-10-27T12:29:57.993Z"
   },
   {
    "duration": 228,
    "start_time": "2021-10-27T12:29:59.870Z"
   },
   {
    "duration": 5,
    "start_time": "2021-10-27T12:30:12.033Z"
   },
   {
    "duration": 250,
    "start_time": "2021-10-27T12:30:13.133Z"
   },
   {
    "duration": 16,
    "start_time": "2021-10-27T12:33:04.901Z"
   },
   {
    "duration": 15,
    "start_time": "2021-10-27T12:33:08.693Z"
   },
   {
    "duration": 296,
    "start_time": "2021-10-27T12:33:13.817Z"
   },
   {
    "duration": 25,
    "start_time": "2021-10-27T12:33:20.945Z"
   },
   {
    "duration": 305,
    "start_time": "2021-10-27T12:33:26.585Z"
   },
   {
    "duration": 12,
    "start_time": "2021-10-27T12:33:36.185Z"
   },
   {
    "duration": 1224,
    "start_time": "2021-10-27T12:33:44.853Z"
   },
   {
    "duration": 388,
    "start_time": "2021-10-27T12:33:46.079Z"
   },
   {
    "duration": 4,
    "start_time": "2021-10-27T12:33:46.469Z"
   },
   {
    "duration": 248,
    "start_time": "2021-10-27T12:33:46.475Z"
   },
   {
    "duration": 26,
    "start_time": "2021-10-27T12:33:46.724Z"
   },
   {
    "duration": 16,
    "start_time": "2021-10-27T12:33:46.752Z"
   },
   {
    "duration": 19,
    "start_time": "2021-10-27T12:33:46.770Z"
   },
   {
    "duration": 131,
    "start_time": "2021-10-27T12:33:46.792Z"
   },
   {
    "duration": 3,
    "start_time": "2021-10-27T12:33:46.925Z"
   },
   {
    "duration": 128,
    "start_time": "2021-10-27T12:33:46.930Z"
   },
   {
    "duration": 196,
    "start_time": "2021-10-27T12:33:47.060Z"
   },
   {
    "duration": 180,
    "start_time": "2021-10-27T12:33:47.265Z"
   },
   {
    "duration": 6,
    "start_time": "2021-10-27T12:49:55.331Z"
   },
   {
    "duration": 662,
    "start_time": "2021-10-27T12:50:34.619Z"
   },
   {
    "duration": 6,
    "start_time": "2021-10-27T12:51:09.173Z"
   },
   {
    "duration": 654,
    "start_time": "2021-10-27T12:51:10.595Z"
   },
   {
    "duration": 6,
    "start_time": "2021-10-27T12:51:56.019Z"
   },
   {
    "duration": 558,
    "start_time": "2021-10-27T12:51:56.999Z"
   },
   {
    "duration": 9,
    "start_time": "2021-10-27T12:53:51.679Z"
   },
   {
    "duration": 508,
    "start_time": "2021-10-27T12:53:52.346Z"
   },
   {
    "duration": 6,
    "start_time": "2021-10-27T12:57:59.432Z"
   },
   {
    "duration": 517,
    "start_time": "2021-10-27T12:58:01.138Z"
   },
   {
    "duration": 8,
    "start_time": "2021-10-27T13:04:48.657Z"
   },
   {
    "duration": 510,
    "start_time": "2021-10-27T13:04:49.237Z"
   },
   {
    "duration": 102,
    "start_time": "2021-10-27T13:17:34.527Z"
   },
   {
    "duration": 88,
    "start_time": "2021-10-27T13:19:03.731Z"
   },
   {
    "duration": 3,
    "start_time": "2021-10-27T13:19:19.300Z"
   },
   {
    "duration": 4,
    "start_time": "2021-10-27T13:19:42.619Z"
   },
   {
    "duration": 93,
    "start_time": "2021-10-27T13:19:52.920Z"
   },
   {
    "duration": 315,
    "start_time": "2021-10-27T13:20:02.735Z"
   },
   {
    "duration": 278,
    "start_time": "2021-10-27T13:20:11.799Z"
   },
   {
    "duration": 135,
    "start_time": "2021-10-27T13:20:18.139Z"
   },
   {
    "duration": 5,
    "start_time": "2021-10-27T13:24:55.826Z"
   },
   {
    "duration": 168,
    "start_time": "2021-10-27T13:24:58.619Z"
   },
   {
    "duration": 6,
    "start_time": "2021-10-27T13:27:03.690Z"
   },
   {
    "duration": 466,
    "start_time": "2021-10-27T13:27:04.482Z"
   },
   {
    "duration": 6,
    "start_time": "2021-10-27T13:27:26.918Z"
   },
   {
    "duration": 504,
    "start_time": "2021-10-27T13:27:27.643Z"
   },
   {
    "duration": 9,
    "start_time": "2021-10-27T13:27:41.526Z"
   },
   {
    "duration": 485,
    "start_time": "2021-10-27T13:27:42.267Z"
   },
   {
    "duration": 7,
    "start_time": "2021-10-27T13:28:08.594Z"
   },
   {
    "duration": 504,
    "start_time": "2021-10-27T13:28:09.845Z"
   },
   {
    "duration": 10,
    "start_time": "2021-10-27T13:28:25.096Z"
   },
   {
    "duration": 498,
    "start_time": "2021-10-27T13:28:26.758Z"
   },
   {
    "duration": 6,
    "start_time": "2021-10-27T13:29:18.490Z"
   },
   {
    "duration": 561,
    "start_time": "2021-10-27T13:29:19.194Z"
   },
   {
    "duration": 6,
    "start_time": "2021-10-27T13:29:29.927Z"
   },
   {
    "duration": 548,
    "start_time": "2021-10-27T13:29:31.802Z"
   },
   {
    "duration": 6,
    "start_time": "2021-10-27T13:29:55.162Z"
   },
   {
    "duration": 494,
    "start_time": "2021-10-27T13:29:55.854Z"
   },
   {
    "duration": 6,
    "start_time": "2021-10-27T13:30:12.084Z"
   },
   {
    "duration": 494,
    "start_time": "2021-10-27T13:30:13.053Z"
   },
   {
    "duration": 7,
    "start_time": "2021-10-27T13:30:23.466Z"
   },
   {
    "duration": 471,
    "start_time": "2021-10-27T13:30:24.478Z"
   },
   {
    "duration": 12,
    "start_time": "2021-10-27T13:30:32.046Z"
   },
   {
    "duration": 561,
    "start_time": "2021-10-27T13:30:32.894Z"
   },
   {
    "duration": 7,
    "start_time": "2021-10-27T13:30:38.362Z"
   },
   {
    "duration": 598,
    "start_time": "2021-10-27T13:30:39.346Z"
   },
   {
    "duration": 6,
    "start_time": "2021-10-27T13:30:45.482Z"
   },
   {
    "duration": 531,
    "start_time": "2021-10-27T13:30:48.034Z"
   },
   {
    "duration": 6,
    "start_time": "2021-10-27T13:30:56.214Z"
   },
   {
    "duration": 511,
    "start_time": "2021-10-27T13:30:58.338Z"
   },
   {
    "duration": 8,
    "start_time": "2021-10-27T13:31:03.106Z"
   },
   {
    "duration": 465,
    "start_time": "2021-10-27T13:31:03.890Z"
   },
   {
    "duration": 7,
    "start_time": "2021-10-27T13:31:07.562Z"
   },
   {
    "duration": 551,
    "start_time": "2021-10-27T13:31:09.302Z"
   },
   {
    "duration": 7,
    "start_time": "2021-10-27T13:31:30.190Z"
   },
   {
    "duration": 501,
    "start_time": "2021-10-27T13:31:31.446Z"
   },
   {
    "duration": 7,
    "start_time": "2021-10-27T13:31:54.294Z"
   },
   {
    "duration": 533,
    "start_time": "2021-10-27T13:31:54.918Z"
   },
   {
    "duration": 7,
    "start_time": "2021-10-27T13:32:18.862Z"
   },
   {
    "duration": 532,
    "start_time": "2021-10-27T13:32:19.614Z"
   },
   {
    "duration": 6,
    "start_time": "2021-10-27T13:32:39.282Z"
   },
   {
    "duration": 474,
    "start_time": "2021-10-27T13:32:39.874Z"
   },
   {
    "duration": 6,
    "start_time": "2021-10-27T13:33:06.922Z"
   },
   {
    "duration": 532,
    "start_time": "2021-10-27T13:33:08.314Z"
   },
   {
    "duration": 4,
    "start_time": "2021-10-27T13:58:40.087Z"
   },
   {
    "duration": 276,
    "start_time": "2021-10-27T13:58:47.223Z"
   },
   {
    "duration": 117,
    "start_time": "2021-10-27T13:59:13.103Z"
   },
   {
    "duration": 1197,
    "start_time": "2021-10-27T14:04:06.844Z"
   },
   {
    "duration": 391,
    "start_time": "2021-10-27T14:04:08.045Z"
   },
   {
    "duration": 5,
    "start_time": "2021-10-27T14:04:08.439Z"
   },
   {
    "duration": 238,
    "start_time": "2021-10-27T14:04:08.446Z"
   },
   {
    "duration": 17,
    "start_time": "2021-10-27T14:04:08.686Z"
   },
   {
    "duration": 15,
    "start_time": "2021-10-27T14:04:08.705Z"
   },
   {
    "duration": 95,
    "start_time": "2021-10-27T14:04:08.744Z"
   },
   {
    "duration": -6871848,
    "start_time": "2021-10-27T15:58:40.689Z"
   },
   {
    "duration": -6871859,
    "start_time": "2021-10-27T15:58:40.701Z"
   },
   {
    "duration": -6871859,
    "start_time": "2021-10-27T15:58:40.703Z"
   },
   {
    "duration": -6871861,
    "start_time": "2021-10-27T15:58:40.706Z"
   },
   {
    "duration": -6871862,
    "start_time": "2021-10-27T15:58:40.708Z"
   },
   {
    "duration": -6871867,
    "start_time": "2021-10-27T15:58:40.714Z"
   },
   {
    "duration": -6871868,
    "start_time": "2021-10-27T15:58:40.716Z"
   },
   {
    "duration": 6,
    "start_time": "2021-10-27T14:04:13.831Z"
   },
   {
    "duration": 677,
    "start_time": "2021-10-27T14:04:16.234Z"
   },
   {
    "duration": 562,
    "start_time": "2021-10-27T14:04:33.195Z"
   },
   {
    "duration": 9,
    "start_time": "2021-10-27T14:04:34.559Z"
   },
   {
    "duration": 896,
    "start_time": "2021-10-27T14:04:35.649Z"
   },
   {
    "duration": 7,
    "start_time": "2021-10-27T14:04:53.824Z"
   },
   {
    "duration": 583,
    "start_time": "2021-10-27T14:04:55.102Z"
   },
   {
    "duration": 15,
    "start_time": "2021-10-27T14:05:21.167Z"
   },
   {
    "duration": 14,
    "start_time": "2021-10-27T14:05:22.342Z"
   },
   {
    "duration": 100,
    "start_time": "2021-10-27T14:05:23.247Z"
   },
   {
    "duration": 9,
    "start_time": "2021-10-27T14:05:24.470Z"
   },
   {
    "duration": 807,
    "start_time": "2021-10-27T14:05:25.838Z"
   },
   {
    "duration": 15,
    "start_time": "2021-10-27T14:05:37.054Z"
   },
   {
    "duration": 27,
    "start_time": "2021-10-27T14:05:51.611Z"
   },
   {
    "duration": 26,
    "start_time": "2021-10-27T14:06:08.834Z"
   },
   {
    "duration": 13,
    "start_time": "2021-10-27T14:06:22.514Z"
   },
   {
    "duration": 19,
    "start_time": "2021-10-27T14:06:50.582Z"
   },
   {
    "duration": 12,
    "start_time": "2021-10-27T14:06:52.106Z"
   },
   {
    "duration": 11,
    "start_time": "2021-10-27T14:06:55.570Z"
   },
   {
    "duration": 7,
    "start_time": "2021-10-27T14:06:57.026Z"
   },
   {
    "duration": 639,
    "start_time": "2021-10-27T14:06:58.306Z"
   },
   {
    "duration": 1233,
    "start_time": "2021-10-27T14:07:12.713Z"
   },
   {
    "duration": 389,
    "start_time": "2021-10-27T14:07:13.948Z"
   },
   {
    "duration": 5,
    "start_time": "2021-10-27T14:07:14.340Z"
   },
   {
    "duration": 242,
    "start_time": "2021-10-27T14:07:14.347Z"
   },
   {
    "duration": 19,
    "start_time": "2021-10-27T14:07:14.591Z"
   },
   {
    "duration": 14,
    "start_time": "2021-10-27T14:07:14.612Z"
   },
   {
    "duration": 116,
    "start_time": "2021-10-27T14:07:14.627Z"
   },
   {
    "duration": -6871864,
    "start_time": "2021-10-27T16:01:46.608Z"
   },
   {
    "duration": -6871865,
    "start_time": "2021-10-27T16:01:46.611Z"
   },
   {
    "duration": -6871874,
    "start_time": "2021-10-27T16:01:46.621Z"
   },
   {
    "duration": -6871876,
    "start_time": "2021-10-27T16:01:46.623Z"
   },
   {
    "duration": -6871877,
    "start_time": "2021-10-27T16:01:46.625Z"
   },
   {
    "duration": -6871877,
    "start_time": "2021-10-27T16:01:46.626Z"
   },
   {
    "duration": -6871883,
    "start_time": "2021-10-27T16:01:46.633Z"
   },
   {
    "duration": 6,
    "start_time": "2021-10-27T14:07:18.354Z"
   },
   {
    "duration": 601,
    "start_time": "2021-10-27T14:07:22.043Z"
   },
   {
    "duration": 6,
    "start_time": "2021-10-27T14:10:20.001Z"
   },
   {
    "duration": 815,
    "start_time": "2021-10-27T14:10:20.736Z"
   },
   {
    "duration": 867,
    "start_time": "2021-10-27T14:11:54.026Z"
   },
   {
    "duration": 98,
    "start_time": "2021-10-27T14:12:03.758Z"
   },
   {
    "duration": 86,
    "start_time": "2021-10-27T14:12:11.706Z"
   },
   {
    "duration": 91,
    "start_time": "2021-10-27T14:12:20.698Z"
   },
   {
    "duration": 877,
    "start_time": "2021-10-27T14:12:21.968Z"
   },
   {
    "duration": 98,
    "start_time": "2021-10-27T14:12:28.648Z"
   },
   {
    "duration": 95,
    "start_time": "2021-10-27T14:12:38.666Z"
   },
   {
    "duration": 88,
    "start_time": "2021-10-27T14:12:54.195Z"
   },
   {
    "duration": 94,
    "start_time": "2021-10-27T14:12:58.418Z"
   },
   {
    "duration": 86,
    "start_time": "2021-10-27T14:13:26.650Z"
   },
   {
    "duration": 101,
    "start_time": "2021-10-27T14:13:33.210Z"
   },
   {
    "duration": 90,
    "start_time": "2021-10-27T14:13:39.690Z"
   },
   {
    "duration": 98,
    "start_time": "2021-10-27T14:13:43.215Z"
   },
   {
    "duration": 96,
    "start_time": "2021-10-27T14:13:50.091Z"
   },
   {
    "duration": 113,
    "start_time": "2021-10-27T14:13:55.762Z"
   },
   {
    "duration": 157,
    "start_time": "2021-10-27T14:14:06.126Z"
   },
   {
    "duration": 90,
    "start_time": "2021-10-27T14:14:18.406Z"
   },
   {
    "duration": 5,
    "start_time": "2021-10-27T14:15:04.144Z"
   },
   {
    "duration": 6,
    "start_time": "2021-10-27T14:15:25.658Z"
   },
   {
    "duration": 6,
    "start_time": "2021-10-27T14:15:28.842Z"
   },
   {
    "duration": 652,
    "start_time": "2021-10-27T14:15:29.702Z"
   },
   {
    "duration": 440,
    "start_time": "2021-10-27T14:22:18.733Z"
   },
   {
    "duration": 413,
    "start_time": "2021-10-27T14:22:31.032Z"
   },
   {
    "duration": 333,
    "start_time": "2021-10-27T14:22:43.404Z"
   },
   {
    "duration": 3,
    "start_time": "2021-10-27T14:26:27.444Z"
   },
   {
    "duration": 4,
    "start_time": "2021-10-27T14:26:30.708Z"
   },
   {
    "duration": 4,
    "start_time": "2021-10-27T14:26:38.064Z"
   },
   {
    "duration": 3,
    "start_time": "2021-10-27T14:26:45.748Z"
   },
   {
    "duration": 12,
    "start_time": "2021-10-27T14:26:51.934Z"
   },
   {
    "duration": 13,
    "start_time": "2021-10-27T14:27:02.980Z"
   },
   {
    "duration": 352,
    "start_time": "2021-10-27T14:27:10.244Z"
   },
   {
    "duration": 343,
    "start_time": "2021-10-27T14:27:28.688Z"
   },
   {
    "duration": 14,
    "start_time": "2021-10-27T14:27:37.564Z"
   },
   {
    "duration": 11,
    "start_time": "2021-10-27T14:27:40.672Z"
   },
   {
    "duration": 263,
    "start_time": "2021-10-27T14:27:54.067Z"
   },
   {
    "duration": 264,
    "start_time": "2021-10-27T14:28:36.360Z"
   },
   {
    "duration": 13,
    "start_time": "2021-10-27T14:28:41.240Z"
   },
   {
    "duration": 302,
    "start_time": "2021-10-27T14:28:49.162Z"
   },
   {
    "duration": 275,
    "start_time": "2021-10-27T14:29:00.192Z"
   },
   {
    "duration": 297,
    "start_time": "2021-10-27T14:33:29.714Z"
   },
   {
    "duration": 75,
    "start_time": "2021-10-27T14:33:32.239Z"
   },
   {
    "duration": 297,
    "start_time": "2021-10-27T14:33:33.014Z"
   },
   {
    "duration": 290,
    "start_time": "2021-10-27T14:34:12.291Z"
   },
   {
    "duration": 19,
    "start_time": "2021-10-27T14:34:20.618Z"
   },
   {
    "duration": 107,
    "start_time": "2021-10-27T14:34:23.439Z"
   },
   {
    "duration": 20,
    "start_time": "2021-10-27T14:35:14.914Z"
   },
   {
    "duration": 13,
    "start_time": "2021-10-27T14:35:38.286Z"
   },
   {
    "duration": 13,
    "start_time": "2021-10-27T14:35:40.692Z"
   },
   {
    "duration": 83,
    "start_time": "2021-10-27T14:36:34.063Z"
   },
   {
    "duration": 21,
    "start_time": "2021-10-27T14:36:34.930Z"
   },
   {
    "duration": 271,
    "start_time": "2021-10-27T14:40:25.118Z"
   },
   {
    "duration": 270,
    "start_time": "2021-10-27T14:40:52.790Z"
   },
   {
    "duration": 351,
    "start_time": "2021-10-27T14:41:01.234Z"
   },
   {
    "duration": 92,
    "start_time": "2021-10-27T14:41:17.430Z"
   },
   {
    "duration": 86,
    "start_time": "2021-10-27T14:41:40.617Z"
   },
   {
    "duration": 112,
    "start_time": "2021-10-27T14:41:49.349Z"
   },
   {
    "duration": 90,
    "start_time": "2021-10-27T14:41:55.550Z"
   },
   {
    "duration": 85,
    "start_time": "2021-10-27T14:41:59.649Z"
   },
   {
    "duration": 86,
    "start_time": "2021-10-27T14:42:01.652Z"
   },
   {
    "duration": 268,
    "start_time": "2021-10-27T14:42:16.257Z"
   },
   {
    "duration": 270,
    "start_time": "2021-10-27T14:42:57.165Z"
   },
   {
    "duration": 264,
    "start_time": "2021-10-27T14:43:28.713Z"
   },
   {
    "duration": 13,
    "start_time": "2021-10-27T14:43:47.985Z"
   },
   {
    "duration": 7,
    "start_time": "2021-10-27T14:43:52.845Z"
   },
   {
    "duration": 11,
    "start_time": "2021-10-27T14:43:55.649Z"
   },
   {
    "duration": 155,
    "start_time": "2021-10-27T14:44:39.345Z"
   },
   {
    "duration": 12,
    "start_time": "2021-10-27T14:44:45.618Z"
   },
   {
    "duration": 13,
    "start_time": "2021-10-27T14:45:00.813Z"
   },
   {
    "duration": 15,
    "start_time": "2021-10-27T14:45:45.277Z"
   },
   {
    "duration": 101,
    "start_time": "2021-10-27T14:45:57.273Z"
   },
   {
    "duration": 16,
    "start_time": "2021-10-27T14:46:03.839Z"
   },
   {
    "duration": 71,
    "start_time": "2021-10-27T14:46:57.074Z"
   },
   {
    "duration": 78,
    "start_time": "2021-10-27T14:47:47.572Z"
   },
   {
    "duration": 101,
    "start_time": "2021-10-27T14:49:45.920Z"
   },
   {
    "duration": 36,
    "start_time": "2021-10-27T14:49:53.908Z"
   },
   {
    "duration": 51,
    "start_time": "2021-10-27T14:50:03.100Z"
   },
   {
    "duration": 79,
    "start_time": "2021-10-27T14:50:09.572Z"
   },
   {
    "duration": 90,
    "start_time": "2021-10-27T14:50:55.761Z"
   },
   {
    "duration": 275,
    "start_time": "2021-10-27T14:52:42.076Z"
   },
   {
    "duration": 100,
    "start_time": "2021-10-27T14:53:03.452Z"
   },
   {
    "duration": 50,
    "start_time": "2021-10-27T14:53:21.197Z"
   },
   {
    "duration": 118,
    "start_time": "2021-10-27T14:53:30.128Z"
   },
   {
    "duration": 125,
    "start_time": "2021-10-27T14:54:07.620Z"
   },
   {
    "duration": 134,
    "start_time": "2021-10-27T14:54:43.012Z"
   },
   {
    "duration": 27,
    "start_time": "2021-10-27T14:55:20.036Z"
   },
   {
    "duration": 99,
    "start_time": "2021-10-27T14:55:30.456Z"
   },
   {
    "duration": 194,
    "start_time": "2021-10-27T14:56:05.856Z"
   },
   {
    "duration": 172,
    "start_time": "2021-10-27T14:56:18.672Z"
   },
   {
    "duration": 80,
    "start_time": "2021-10-27T14:56:40.876Z"
   },
   {
    "duration": 35,
    "start_time": "2021-10-27T14:56:48.520Z"
   },
   {
    "duration": 158,
    "start_time": "2021-10-27T14:56:58.891Z"
   },
   {
    "duration": 38,
    "start_time": "2021-10-27T14:57:15.348Z"
   },
   {
    "duration": 107,
    "start_time": "2021-10-27T14:57:34.044Z"
   },
   {
    "duration": 155,
    "start_time": "2021-10-27T14:58:41.288Z"
   },
   {
    "duration": 39,
    "start_time": "2021-10-27T14:58:56.615Z"
   },
   {
    "duration": 18,
    "start_time": "2021-10-27T14:59:06.539Z"
   },
   {
    "duration": 109,
    "start_time": "2021-10-27T14:59:15.135Z"
   },
   {
    "duration": 108,
    "start_time": "2021-10-27T14:59:42.643Z"
   },
   {
    "duration": 138,
    "start_time": "2021-10-27T14:59:56.207Z"
   },
   {
    "duration": 53,
    "start_time": "2021-10-27T15:00:09.099Z"
   },
   {
    "duration": 196,
    "start_time": "2021-10-27T15:00:16.153Z"
   },
   {
    "duration": 161,
    "start_time": "2021-10-27T15:00:25.487Z"
   },
   {
    "duration": 134,
    "start_time": "2021-10-27T15:01:35.111Z"
   },
   {
    "duration": 104,
    "start_time": "2021-10-27T15:01:54.943Z"
   },
   {
    "duration": 109,
    "start_time": "2021-10-27T15:02:00.652Z"
   },
   {
    "duration": 91,
    "start_time": "2021-10-27T15:02:19.171Z"
   },
   {
    "duration": 20,
    "start_time": "2021-10-27T15:02:30.255Z"
   },
   {
    "duration": 122,
    "start_time": "2021-10-27T15:03:14.223Z"
   },
   {
    "duration": 144,
    "start_time": "2021-10-27T15:03:35.607Z"
   },
   {
    "duration": 113,
    "start_time": "2021-10-27T15:03:52.049Z"
   },
   {
    "duration": 58,
    "start_time": "2021-10-27T15:03:59.603Z"
   },
   {
    "duration": 1558,
    "start_time": "2021-10-28T14:26:27.447Z"
   },
   {
    "duration": 458,
    "start_time": "2021-10-28T14:26:29.008Z"
   },
   {
    "duration": 5,
    "start_time": "2021-10-28T14:26:29.469Z"
   },
   {
    "duration": 362,
    "start_time": "2021-10-28T14:26:29.481Z"
   },
   {
    "duration": 36,
    "start_time": "2021-10-28T14:26:29.846Z"
   },
   {
    "duration": 14,
    "start_time": "2021-10-28T14:26:29.885Z"
   },
   {
    "duration": 155,
    "start_time": "2021-10-28T14:26:29.902Z"
   },
   {
    "duration": 44,
    "start_time": "2021-10-28T14:26:30.061Z"
   },
   {
    "duration": 82,
    "start_time": "2021-10-28T14:26:30.108Z"
   },
   {
    "duration": 110,
    "start_time": "2021-10-28T14:26:30.282Z"
   },
   {
    "duration": 193,
    "start_time": "2021-10-28T14:26:30.395Z"
   },
   {
    "duration": 394,
    "start_time": "2021-10-28T14:26:30.591Z"
   },
   {
    "duration": 98,
    "start_time": "2021-10-28T14:26:30.988Z"
   },
   {
    "duration": 796,
    "start_time": "2021-10-28T14:26:31.088Z"
   },
   {
    "duration": 430,
    "start_time": "2021-10-28T14:34:57.338Z"
   },
   {
    "duration": 5,
    "start_time": "2021-10-28T14:34:58.914Z"
   },
   {
    "duration": 47,
    "start_time": "2021-10-28T14:35:00.234Z"
   },
   {
    "duration": 5,
    "start_time": "2021-10-28T14:35:40.666Z"
   },
   {
    "duration": 23,
    "start_time": "2021-10-28T14:35:42.561Z"
   },
   {
    "duration": 5,
    "start_time": "2021-10-28T14:35:55.854Z"
   },
   {
    "duration": 705,
    "start_time": "2021-10-28T14:35:57.710Z"
   },
   {
    "duration": 6,
    "start_time": "2021-10-28T14:36:48.157Z"
   },
   {
    "duration": 24,
    "start_time": "2021-10-28T14:36:48.893Z"
   },
   {
    "duration": 1575,
    "start_time": "2021-10-28T14:36:57.447Z"
   },
   {
    "duration": 515,
    "start_time": "2021-10-28T14:36:59.024Z"
   },
   {
    "duration": 6,
    "start_time": "2021-10-28T14:36:59.542Z"
   },
   {
    "duration": 374,
    "start_time": "2021-10-28T14:36:59.550Z"
   },
   {
    "duration": 25,
    "start_time": "2021-10-28T14:36:59.926Z"
   },
   {
    "duration": 28,
    "start_time": "2021-10-28T14:36:59.954Z"
   },
   {
    "duration": 153,
    "start_time": "2021-10-28T14:36:59.985Z"
   },
   {
    "duration": 46,
    "start_time": "2021-10-28T14:37:00.141Z"
   },
   {
    "duration": 6,
    "start_time": "2021-10-28T14:37:00.190Z"
   },
   {
    "duration": 453,
    "start_time": "2021-10-28T14:37:00.199Z"
   },
   {
    "duration": -6871124,
    "start_time": "2021-10-28T16:31:31.779Z"
   },
   {
    "duration": -6871133,
    "start_time": "2021-10-28T16:31:31.789Z"
   },
   {
    "duration": -6871136,
    "start_time": "2021-10-28T16:31:31.793Z"
   },
   {
    "duration": -6871142,
    "start_time": "2021-10-28T16:31:31.801Z"
   },
   {
    "duration": -6871145,
    "start_time": "2021-10-28T16:31:31.805Z"
   },
   {
    "duration": -6871144,
    "start_time": "2021-10-28T16:31:31.806Z"
   },
   {
    "duration": 6,
    "start_time": "2021-10-28T14:37:22.706Z"
   },
   {
    "duration": 280,
    "start_time": "2021-10-28T14:37:23.562Z"
   },
   {
    "duration": 6,
    "start_time": "2021-10-28T15:01:26.612Z"
   },
   {
    "duration": 288,
    "start_time": "2021-10-28T15:01:28.463Z"
   },
   {
    "duration": 304,
    "start_time": "2021-10-28T15:01:30.889Z"
   },
   {
    "duration": 6,
    "start_time": "2021-10-28T15:01:35.064Z"
   },
   {
    "duration": 271,
    "start_time": "2021-10-28T15:01:36.344Z"
   },
   {
    "duration": 1494,
    "start_time": "2021-10-28T15:01:52.823Z"
   },
   {
    "duration": 454,
    "start_time": "2021-10-28T15:01:54.320Z"
   },
   {
    "duration": 5,
    "start_time": "2021-10-28T15:01:54.777Z"
   },
   {
    "duration": 402,
    "start_time": "2021-10-28T15:01:54.785Z"
   },
   {
    "duration": 28,
    "start_time": "2021-10-28T15:01:55.189Z"
   },
   {
    "duration": 15,
    "start_time": "2021-10-28T15:01:55.220Z"
   },
   {
    "duration": 174,
    "start_time": "2021-10-28T15:01:55.237Z"
   },
   {
    "duration": 35,
    "start_time": "2021-10-28T15:01:55.414Z"
   },
   {
    "duration": 7,
    "start_time": "2021-10-28T15:01:55.452Z"
   },
   {
    "duration": 409,
    "start_time": "2021-10-28T15:01:55.482Z"
   },
   {
    "duration": -6871100,
    "start_time": "2021-10-28T16:56:26.994Z"
   },
   {
    "duration": -6871102,
    "start_time": "2021-10-28T16:56:26.998Z"
   },
   {
    "duration": -6871108,
    "start_time": "2021-10-28T16:56:27.006Z"
   },
   {
    "duration": -6871122,
    "start_time": "2021-10-28T16:56:27.023Z"
   },
   {
    "duration": -6871122,
    "start_time": "2021-10-28T16:56:27.025Z"
   },
   {
    "duration": -6871122,
    "start_time": "2021-10-28T16:56:27.027Z"
   },
   {
    "duration": 6,
    "start_time": "2021-10-28T15:03:10.743Z"
   },
   {
    "duration": 297,
    "start_time": "2021-10-28T15:03:11.711Z"
   },
   {
    "duration": 279,
    "start_time": "2021-10-28T15:04:21.987Z"
   },
   {
    "duration": 6,
    "start_time": "2021-10-28T15:06:10.918Z"
   },
   {
    "duration": 267,
    "start_time": "2021-10-28T15:06:11.859Z"
   },
   {
    "duration": 7,
    "start_time": "2021-10-28T15:08:15.374Z"
   },
   {
    "duration": 278,
    "start_time": "2021-10-28T15:08:16.090Z"
   },
   {
    "duration": 91,
    "start_time": "2021-10-28T15:24:15.960Z"
   },
   {
    "duration": 501,
    "start_time": "2021-10-28T15:24:44.335Z"
   },
   {
    "duration": 304,
    "start_time": "2021-10-28T15:26:43.691Z"
   },
   {
    "duration": 19,
    "start_time": "2021-10-28T15:28:05.995Z"
   },
   {
    "duration": 4,
    "start_time": "2021-10-28T16:00:19.964Z"
   },
   {
    "duration": 7,
    "start_time": "2021-10-28T16:25:09.904Z"
   },
   {
    "duration": 6,
    "start_time": "2021-10-28T16:25:56.087Z"
   },
   {
    "duration": 6,
    "start_time": "2021-10-28T16:26:02.015Z"
   },
   {
    "duration": 51,
    "start_time": "2021-10-28T16:26:17.448Z"
   },
   {
    "duration": 103,
    "start_time": "2021-10-28T16:26:18.581Z"
   },
   {
    "duration": 102,
    "start_time": "2021-10-28T16:26:20.483Z"
   },
   {
    "duration": 5,
    "start_time": "2021-10-28T16:32:00.019Z"
   },
   {
    "duration": 5,
    "start_time": "2021-10-28T16:32:12.082Z"
   },
   {
    "duration": 6,
    "start_time": "2021-10-28T16:45:22.278Z"
   },
   {
    "duration": 31,
    "start_time": "2021-10-28T16:47:18.650Z"
   },
   {
    "duration": 18,
    "start_time": "2021-10-28T16:47:39.413Z"
   },
   {
    "duration": 20,
    "start_time": "2021-10-28T16:48:21.366Z"
   },
   {
    "duration": 6,
    "start_time": "2021-10-28T16:52:39.065Z"
   },
   {
    "duration": 6,
    "start_time": "2021-10-28T16:54:06.001Z"
   },
   {
    "duration": 98,
    "start_time": "2021-10-28T17:14:36.286Z"
   },
   {
    "duration": 21,
    "start_time": "2021-10-28T17:14:45.719Z"
   },
   {
    "duration": 22,
    "start_time": "2021-10-28T17:14:51.777Z"
   },
   {
    "duration": 18,
    "start_time": "2021-10-28T17:14:57.519Z"
   },
   {
    "duration": 19,
    "start_time": "2021-10-28T17:15:00.494Z"
   },
   {
    "duration": 18,
    "start_time": "2021-10-28T17:15:07.606Z"
   },
   {
    "duration": 287,
    "start_time": "2021-10-28T17:21:32.337Z"
   },
   {
    "duration": 339,
    "start_time": "2021-10-28T17:22:21.792Z"
   },
   {
    "duration": 276,
    "start_time": "2021-10-28T17:22:41.237Z"
   },
   {
    "duration": 378,
    "start_time": "2021-10-28T17:23:05.129Z"
   },
   {
    "duration": 275,
    "start_time": "2021-10-28T17:23:23.549Z"
   },
   {
    "duration": 282,
    "start_time": "2021-10-28T17:23:27.649Z"
   },
   {
    "duration": 287,
    "start_time": "2021-10-28T17:23:31.421Z"
   },
   {
    "duration": 342,
    "start_time": "2021-10-28T17:24:54.221Z"
   },
   {
    "duration": 1180,
    "start_time": "2021-10-28T17:25:02.224Z"
   },
   {
    "duration": 11,
    "start_time": "2021-10-28T17:25:21.544Z"
   },
   {
    "duration": 15,
    "start_time": "2021-10-28T17:26:21.336Z"
   },
   {
    "duration": 361,
    "start_time": "2021-10-28T17:26:48.532Z"
   },
   {
    "duration": 13,
    "start_time": "2021-10-28T17:28:26.232Z"
   },
   {
    "duration": 19,
    "start_time": "2021-10-28T17:29:08.436Z"
   },
   {
    "duration": 13,
    "start_time": "2021-10-28T17:29:13.272Z"
   },
   {
    "duration": 113,
    "start_time": "2021-10-28T17:29:14.299Z"
   },
   {
    "duration": 28,
    "start_time": "2021-10-28T17:29:15.834Z"
   },
   {
    "duration": 49,
    "start_time": "2021-10-28T17:29:17.239Z"
   },
   {
    "duration": 100,
    "start_time": "2021-10-28T17:29:23.688Z"
   },
   {
    "duration": 63,
    "start_time": "2021-10-28T17:29:29.824Z"
   },
   {
    "duration": 4,
    "start_time": "2021-10-28T17:33:59.883Z"
   },
   {
    "duration": 483,
    "start_time": "2021-10-28T17:36:01.619Z"
   },
   {
    "duration": 5,
    "start_time": "2021-10-28T17:37:14.111Z"
   },
   {
    "duration": 5,
    "start_time": "2021-10-28T17:37:20.176Z"
   },
   {
    "duration": 5,
    "start_time": "2021-10-28T17:37:24.091Z"
   },
   {
    "duration": 450,
    "start_time": "2021-10-28T17:39:47.150Z"
   },
   {
    "duration": 12,
    "start_time": "2021-10-28T17:40:10.162Z"
   },
   {
    "duration": 8,
    "start_time": "2021-10-28T17:40:30.102Z"
   },
   {
    "duration": 14,
    "start_time": "2021-10-28T17:40:42.158Z"
   },
   {
    "duration": 12,
    "start_time": "2021-10-28T17:41:12.258Z"
   },
   {
    "duration": 12,
    "start_time": "2021-10-28T17:42:29.758Z"
   },
   {
    "duration": 4,
    "start_time": "2021-10-28T17:43:16.542Z"
   },
   {
    "duration": 5,
    "start_time": "2021-10-28T17:45:03.958Z"
   },
   {
    "duration": 20,
    "start_time": "2021-10-28T17:46:53.678Z"
   },
   {
    "duration": 4,
    "start_time": "2021-10-28T17:47:22.882Z"
   },
   {
    "duration": 20,
    "start_time": "2021-10-28T17:47:23.441Z"
   },
   {
    "duration": 4,
    "start_time": "2021-10-28T17:47:36.054Z"
   },
   {
    "duration": 20,
    "start_time": "2021-10-28T17:47:36.661Z"
   },
   {
    "duration": 21,
    "start_time": "2021-10-28T17:48:11.194Z"
   },
   {
    "duration": 5,
    "start_time": "2021-10-28T17:49:34.545Z"
   },
   {
    "duration": 21,
    "start_time": "2021-10-28T17:49:35.058Z"
   },
   {
    "duration": 1296,
    "start_time": "2021-10-29T10:18:53.705Z"
   },
   {
    "duration": 388,
    "start_time": "2021-10-29T10:18:55.004Z"
   },
   {
    "duration": 4,
    "start_time": "2021-10-29T10:18:55.394Z"
   },
   {
    "duration": 257,
    "start_time": "2021-10-29T10:18:55.401Z"
   },
   {
    "duration": 34,
    "start_time": "2021-10-29T10:18:55.660Z"
   },
   {
    "duration": 12,
    "start_time": "2021-10-29T10:18:55.695Z"
   },
   {
    "duration": 132,
    "start_time": "2021-10-29T10:18:55.709Z"
   },
   {
    "duration": 21,
    "start_time": "2021-10-29T10:18:55.843Z"
   },
   {
    "duration": 30,
    "start_time": "2021-10-29T10:18:55.866Z"
   },
   {
    "duration": 187,
    "start_time": "2021-10-29T10:18:55.898Z"
   },
   {
    "duration": 196,
    "start_time": "2021-10-29T10:18:56.088Z"
   },
   {
    "duration": 4,
    "start_time": "2021-10-29T10:18:56.377Z"
   },
   {
    "duration": 8,
    "start_time": "2021-10-29T10:18:56.383Z"
   },
   {
    "duration": 10,
    "start_time": "2021-10-29T10:18:56.394Z"
   },
   {
    "duration": 10,
    "start_time": "2021-10-29T10:18:56.406Z"
   },
   {
    "duration": 507,
    "start_time": "2021-10-29T10:18:56.417Z"
   },
   {
    "duration": -6871488,
    "start_time": "2021-10-29T12:13:28.414Z"
   },
   {
    "duration": -6871490,
    "start_time": "2021-10-29T12:13:28.417Z"
   },
   {
    "duration": -6871495,
    "start_time": "2021-10-29T12:13:28.423Z"
   },
   {
    "duration": 490,
    "start_time": "2021-10-29T11:22:45.232Z"
   },
   {
    "duration": 765,
    "start_time": "2021-10-29T11:23:59.788Z"
   },
   {
    "duration": 3,
    "start_time": "2021-10-29T11:24:54.472Z"
   },
   {
    "duration": 931,
    "start_time": "2021-10-29T11:24:55.211Z"
   },
   {
    "duration": 3,
    "start_time": "2021-10-29T11:25:05.747Z"
   },
   {
    "duration": 870,
    "start_time": "2021-10-29T11:25:06.503Z"
   },
   {
    "duration": 3,
    "start_time": "2021-10-29T11:25:16.547Z"
   },
   {
    "duration": 832,
    "start_time": "2021-10-29T11:25:17.175Z"
   },
   {
    "duration": 3,
    "start_time": "2021-10-29T11:25:40.847Z"
   },
   {
    "duration": 815,
    "start_time": "2021-10-29T11:26:14.339Z"
   },
   {
    "duration": 819,
    "start_time": "2021-10-29T11:26:22.090Z"
   },
   {
    "duration": 836,
    "start_time": "2021-10-29T11:33:51.074Z"
   },
   {
    "duration": 1142,
    "start_time": "2021-10-29T11:34:13.418Z"
   },
   {
    "duration": 3,
    "start_time": "2021-10-29T11:48:29.017Z"
   },
   {
    "duration": 4,
    "start_time": "2021-10-29T11:48:29.879Z"
   },
   {
    "duration": 4,
    "start_time": "2021-10-29T11:48:35.521Z"
   },
   {
    "duration": 4,
    "start_time": "2021-10-29T11:49:16.501Z"
   },
   {
    "duration": 5,
    "start_time": "2021-10-29T11:51:38.465Z"
   },
   {
    "duration": 5,
    "start_time": "2021-10-29T11:51:47.042Z"
   },
   {
    "duration": 5,
    "start_time": "2021-10-29T11:51:51.552Z"
   },
   {
    "duration": 4,
    "start_time": "2021-10-29T11:52:23.216Z"
   },
   {
    "duration": 8,
    "start_time": "2021-10-29T11:59:01.727Z"
   },
   {
    "duration": 4,
    "start_time": "2021-10-29T11:59:14.772Z"
   },
   {
    "duration": 18,
    "start_time": "2021-10-29T12:00:27.495Z"
   },
   {
    "duration": 1162,
    "start_time": "2021-10-29T12:11:10.690Z"
   },
   {
    "duration": 602,
    "start_time": "2021-10-29T12:11:20.038Z"
   },
   {
    "duration": 689,
    "start_time": "2021-10-29T12:11:34.670Z"
   },
   {
    "duration": 602,
    "start_time": "2021-10-29T12:11:48.002Z"
   },
   {
    "duration": 611,
    "start_time": "2021-10-29T12:12:00.780Z"
   },
   {
    "duration": 27,
    "start_time": "2021-10-29T12:12:24.258Z"
   },
   {
    "duration": 26,
    "start_time": "2021-10-29T12:12:26.326Z"
   },
   {
    "duration": 25,
    "start_time": "2021-10-29T12:12:27.021Z"
   },
   {
    "duration": 27,
    "start_time": "2021-10-29T12:12:27.738Z"
   },
   {
    "duration": 26,
    "start_time": "2021-10-29T12:12:28.456Z"
   },
   {
    "duration": 26,
    "start_time": "2021-10-29T12:12:29.064Z"
   },
   {
    "duration": 26,
    "start_time": "2021-10-29T12:12:29.682Z"
   },
   {
    "duration": 26,
    "start_time": "2021-10-29T12:12:30.302Z"
   },
   {
    "duration": 25,
    "start_time": "2021-10-29T12:12:30.910Z"
   },
   {
    "duration": 26,
    "start_time": "2021-10-29T12:12:31.540Z"
   },
   {
    "duration": 572,
    "start_time": "2021-10-29T12:12:49.722Z"
   },
   {
    "duration": 11,
    "start_time": "2021-10-29T12:13:45.360Z"
   },
   {
    "duration": 14,
    "start_time": "2021-10-29T12:14:18.564Z"
   },
   {
    "duration": 14,
    "start_time": "2021-10-29T12:15:02.538Z"
   },
   {
    "duration": 14,
    "start_time": "2021-10-29T12:15:20.745Z"
   },
   {
    "duration": 14,
    "start_time": "2021-10-29T12:15:33.932Z"
   },
   {
    "duration": 1582,
    "start_time": "2021-10-29T12:17:55.123Z"
   },
   {
    "duration": 1589,
    "start_time": "2021-10-29T12:20:44.095Z"
   },
   {
    "duration": 1547,
    "start_time": "2021-10-29T12:23:04.547Z"
   },
   {
    "duration": 6,
    "start_time": "2021-10-29T12:26:28.144Z"
   },
   {
    "duration": 9,
    "start_time": "2021-10-29T12:27:27.776Z"
   },
   {
    "duration": 5,
    "start_time": "2021-10-29T12:27:28.624Z"
   },
   {
    "duration": 1566,
    "start_time": "2021-10-29T12:27:45.860Z"
   },
   {
    "duration": 1949,
    "start_time": "2021-10-29T12:30:51.994Z"
   },
   {
    "duration": 103,
    "start_time": "2021-10-29T12:31:39.748Z"
   },
   {
    "duration": 1577,
    "start_time": "2021-10-29T12:31:45.224Z"
   },
   {
    "duration": 1717,
    "start_time": "2021-10-29T12:32:11.360Z"
   },
   {
    "duration": 112,
    "start_time": "2021-10-29T12:32:36.744Z"
   },
   {
    "duration": 1725,
    "start_time": "2021-10-29T12:32:40.928Z"
   },
   {
    "duration": 1548,
    "start_time": "2021-10-29T12:32:50.347Z"
   },
   {
    "duration": 1559,
    "start_time": "2021-10-29T12:33:22.723Z"
   },
   {
    "duration": 1537,
    "start_time": "2021-10-29T12:33:32.640Z"
   },
   {
    "duration": 1685,
    "start_time": "2021-10-29T12:33:56.036Z"
   },
   {
    "duration": 1600,
    "start_time": "2021-10-29T12:34:01.214Z"
   },
   {
    "duration": 5412,
    "start_time": "2021-10-29T12:34:26.231Z"
   },
   {
    "duration": 4934,
    "start_time": "2021-10-29T12:34:46.837Z"
   },
   {
    "duration": 5264,
    "start_time": "2021-10-29T12:35:10.315Z"
   },
   {
    "duration": 4776,
    "start_time": "2021-10-29T12:35:20.013Z"
   },
   {
    "duration": 4887,
    "start_time": "2021-10-29T12:35:39.883Z"
   },
   {
    "duration": 4852,
    "start_time": "2021-10-29T12:36:19.676Z"
   },
   {
    "duration": 4839,
    "start_time": "2021-10-29T12:36:58.513Z"
   },
   {
    "duration": 115,
    "start_time": "2021-10-29T12:37:41.995Z"
   },
   {
    "duration": 4879,
    "start_time": "2021-10-29T12:37:46.783Z"
   },
   {
    "duration": 4935,
    "start_time": "2021-10-29T12:38:32.741Z"
   },
   {
    "duration": 5039,
    "start_time": "2021-10-29T12:38:58.064Z"
   },
   {
    "duration": 4979,
    "start_time": "2021-10-29T12:39:16.867Z"
   },
   {
    "duration": 4810,
    "start_time": "2021-10-29T12:39:22.759Z"
   },
   {
    "duration": 4943,
    "start_time": "2021-10-29T12:40:03.455Z"
   },
   {
    "duration": 5021,
    "start_time": "2021-10-29T12:40:25.495Z"
   },
   {
    "duration": 4858,
    "start_time": "2021-10-29T12:40:59.439Z"
   },
   {
    "duration": 4841,
    "start_time": "2021-10-29T12:41:12.763Z"
   },
   {
    "duration": 3,
    "start_time": "2021-10-29T12:44:03.742Z"
   },
   {
    "duration": 3,
    "start_time": "2021-10-29T12:47:26.304Z"
   },
   {
    "duration": 6,
    "start_time": "2021-10-29T12:49:07.698Z"
   },
   {
    "duration": 4827,
    "start_time": "2021-10-29T12:49:09.910Z"
   },
   {
    "duration": 5,
    "start_time": "2021-10-29T12:49:46.718Z"
   },
   {
    "duration": 5321,
    "start_time": "2021-10-29T12:49:47.598Z"
   },
   {
    "duration": 6,
    "start_time": "2021-10-29T12:52:06.605Z"
   },
   {
    "duration": 4858,
    "start_time": "2021-10-29T12:52:08.965Z"
   },
   {
    "duration": 108,
    "start_time": "2021-10-29T12:52:31.490Z"
   },
   {
    "duration": 6,
    "start_time": "2021-10-29T12:53:33.326Z"
   },
   {
    "duration": 4818,
    "start_time": "2021-10-29T12:53:34.249Z"
   },
   {
    "duration": 6,
    "start_time": "2021-10-29T12:53:49.201Z"
   },
   {
    "duration": 4861,
    "start_time": "2021-10-29T12:53:50.709Z"
   },
   {
    "duration": 18,
    "start_time": "2021-10-29T12:55:38.303Z"
   },
   {
    "duration": 14,
    "start_time": "2021-10-29T12:56:04.149Z"
   },
   {
    "duration": 13,
    "start_time": "2021-10-29T12:56:10.121Z"
   },
   {
    "duration": 13,
    "start_time": "2021-10-29T12:57:24.133Z"
   },
   {
    "duration": 15,
    "start_time": "2021-10-29T12:57:29.941Z"
   },
   {
    "duration": 17,
    "start_time": "2021-10-29T12:57:33.873Z"
   },
   {
    "duration": 25,
    "start_time": "2021-10-29T12:57:40.865Z"
   },
   {
    "duration": 13,
    "start_time": "2021-10-29T12:57:46.925Z"
   },
   {
    "duration": 13,
    "start_time": "2021-10-29T12:57:51.709Z"
   },
   {
    "duration": 3,
    "start_time": "2021-10-29T13:00:13.488Z"
   },
   {
    "duration": 3,
    "start_time": "2021-10-29T13:04:41.608Z"
   },
   {
    "duration": 4,
    "start_time": "2021-10-29T13:06:48.901Z"
   },
   {
    "duration": 6,
    "start_time": "2021-10-29T13:06:49.468Z"
   },
   {
    "duration": 5038,
    "start_time": "2021-10-29T13:06:50.492Z"
   },
   {
    "duration": 355,
    "start_time": "2021-10-29T13:24:52.906Z"
   },
   {
    "duration": 4,
    "start_time": "2021-10-29T13:25:02.338Z"
   },
   {
    "duration": 4,
    "start_time": "2021-10-29T13:25:03.098Z"
   },
   {
    "duration": 1194,
    "start_time": "2021-10-29T13:29:18.194Z"
   },
   {
    "duration": 366,
    "start_time": "2021-10-29T13:29:19.390Z"
   },
   {
    "duration": 4,
    "start_time": "2021-10-29T13:29:19.759Z"
   },
   {
    "duration": 239,
    "start_time": "2021-10-29T13:29:19.764Z"
   },
   {
    "duration": 21,
    "start_time": "2021-10-29T13:29:20.005Z"
   },
   {
    "duration": 11,
    "start_time": "2021-10-29T13:29:20.027Z"
   },
   {
    "duration": 136,
    "start_time": "2021-10-29T13:29:20.040Z"
   },
   {
    "duration": 21,
    "start_time": "2021-10-29T13:29:20.179Z"
   },
   {
    "duration": 78,
    "start_time": "2021-10-29T13:29:20.202Z"
   },
   {
    "duration": 112,
    "start_time": "2021-10-29T13:29:20.282Z"
   },
   {
    "duration": 198,
    "start_time": "2021-10-29T13:29:20.478Z"
   },
   {
    "duration": 4,
    "start_time": "2021-10-29T13:29:20.679Z"
   },
   {
    "duration": 95,
    "start_time": "2021-10-29T13:29:20.686Z"
   },
   {
    "duration": 6,
    "start_time": "2021-10-29T13:29:20.783Z"
   },
   {
    "duration": 15,
    "start_time": "2021-10-29T13:29:20.790Z"
   },
   {
    "duration": 5,
    "start_time": "2021-10-29T13:29:20.807Z"
   },
   {
    "duration": 4841,
    "start_time": "2021-10-29T13:29:20.814Z"
   },
   {
    "duration": 507,
    "start_time": "2021-10-29T14:54:47.386Z"
   },
   {
    "duration": 1590,
    "start_time": "2021-10-29T14:54:55.870Z"
   },
   {
    "duration": 555,
    "start_time": "2021-10-29T14:54:57.463Z"
   },
   {
    "duration": 6,
    "start_time": "2021-10-29T14:54:58.021Z"
   },
   {
    "duration": 366,
    "start_time": "2021-10-29T14:54:58.030Z"
   },
   {
    "duration": 38,
    "start_time": "2021-10-29T14:54:58.398Z"
   },
   {
    "duration": 15,
    "start_time": "2021-10-29T14:54:58.438Z"
   },
   {
    "duration": 148,
    "start_time": "2021-10-29T14:54:58.455Z"
   },
   {
    "duration": 35,
    "start_time": "2021-10-29T14:54:58.607Z"
   },
   {
    "duration": 90,
    "start_time": "2021-10-29T14:54:58.646Z"
   },
   {
    "duration": 111,
    "start_time": "2021-10-29T14:54:58.824Z"
   },
   {
    "duration": 187,
    "start_time": "2021-10-29T14:54:58.937Z"
   },
   {
    "duration": 5,
    "start_time": "2021-10-29T14:54:59.128Z"
   },
   {
    "duration": 92,
    "start_time": "2021-10-29T14:54:59.136Z"
   },
   {
    "duration": 8,
    "start_time": "2021-10-29T14:54:59.231Z"
   },
   {
    "duration": 7,
    "start_time": "2021-10-29T14:54:59.242Z"
   },
   {
    "duration": 9,
    "start_time": "2021-10-29T14:54:59.251Z"
   },
   {
    "duration": 8681,
    "start_time": "2021-10-29T14:54:59.262Z"
   }
  ],
  "kernelspec": {
   "display_name": "Python 3",
   "language": "python",
   "name": "python3"
  },
  "language_info": {
   "codemirror_mode": {
    "name": "ipython",
    "version": 3
   },
   "file_extension": ".py",
   "mimetype": "text/x-python",
   "name": "python",
   "nbconvert_exporter": "python",
   "pygments_lexer": "ipython3",
   "version": "3.7.8"
  },
  "toc": {
   "base_numbering": 1,
   "nav_menu": {},
   "number_sections": true,
   "sideBar": true,
   "skip_h1_title": true,
   "title_cell": "Table of Contents",
   "title_sidebar": "Contents",
   "toc_cell": false,
   "toc_position": {},
   "toc_section_display": true,
   "toc_window_display": false
  }
 },
 "nbformat": 4,
 "nbformat_minor": 2
}
